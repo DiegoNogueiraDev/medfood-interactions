{
 "cells": [
  {
   "cell_type": "markdown",
   "id": "9a8af0b3",
   "metadata": {},
   "source": [
    "# EDA Practice Notebook – High Complexity  \n",
    "_Generated 2025-07-15_  \n",
    "\n",
    "Este caderno aborda EDA avançada em dados de alta dimensão, texto e geoespacial.  \n",
    "\n",
    "Dataset sugerido: **NYC Taxi Trips (TLC)** – download em: https://www.nyc.gov/site/tlc/about/tlc-trip-record-data.page"
   ]
  },
  {
   "cell_type": "code",
   "execution_count": null,
   "id": "8996323b",
   "metadata": {},
   "outputs": [],
   "source": [
    "import pandas as pd, numpy as np, matplotlib.pyplot as plt, seaborn as sns\n",
    "sns.set_theme()"
   ]
  },
  {
   "cell_type": "markdown",
   "id": "0aef9291",
   "metadata": {},
   "source": [
    "**Exercício 1**  \n",
    "Dica: Trabalhe com colunas de tempo e localização para mapas, UMAP+HDBSCAN, regras de associação."
   ]
  },
  {
   "cell_type": "code",
   "execution_count": null,
   "id": "67f91ced",
   "metadata": {},
   "outputs": [],
   "source": [
    "# Seu código aqui\n"
   ]
  },
  {
   "cell_type": "markdown",
   "id": "cdc8251b",
   "metadata": {},
   "source": [
    "**Exercício 2**  \n",
    "Dica: Trabalhe com colunas de tempo e localização para mapas, UMAP+HDBSCAN, regras de associação."
   ]
  },
  {
   "cell_type": "code",
   "execution_count": null,
   "id": "3d9f2668",
   "metadata": {},
   "outputs": [],
   "source": [
    "# Seu código aqui\n"
   ]
  },
  {
   "cell_type": "markdown",
   "id": "df7a957d",
   "metadata": {},
   "source": [
    "**Exercício 3**  \n",
    "Dica: Trabalhe com colunas de tempo e localização para mapas, UMAP+HDBSCAN, regras de associação."
   ]
  },
  {
   "cell_type": "code",
   "execution_count": null,
   "id": "c2b03b35",
   "metadata": {},
   "outputs": [],
   "source": [
    "# Seu código aqui\n"
   ]
  },
  {
   "cell_type": "markdown",
   "id": "b8acd3d4",
   "metadata": {},
   "source": [
    "**Exercício 4**  \n",
    "Dica: Trabalhe com colunas de tempo e localização para mapas, UMAP+HDBSCAN, regras de associação."
   ]
  },
  {
   "cell_type": "code",
   "execution_count": null,
   "id": "b4027f9c",
   "metadata": {},
   "outputs": [],
   "source": [
    "# Seu código aqui\n"
   ]
  },
  {
   "cell_type": "markdown",
   "id": "b595f3b4",
   "metadata": {},
   "source": [
    "**Exercício 5**  \n",
    "Dica: Trabalhe com colunas de tempo e localização para mapas, UMAP+HDBSCAN, regras de associação."
   ]
  },
  {
   "cell_type": "code",
   "execution_count": null,
   "id": "c581ddaf",
   "metadata": {},
   "outputs": [],
   "source": [
    "# Seu código aqui\n"
   ]
  },
  {
   "cell_type": "markdown",
   "id": "792cbfed",
   "metadata": {},
   "source": [
    "**Exercício 6**  \n",
    "Dica: Trabalhe com colunas de tempo e localização para mapas, UMAP+HDBSCAN, regras de associação."
   ]
  },
  {
   "cell_type": "code",
   "execution_count": null,
   "id": "bc257041",
   "metadata": {},
   "outputs": [],
   "source": [
    "# Seu código aqui\n"
   ]
  },
  {
   "cell_type": "markdown",
   "id": "e669a02c",
   "metadata": {},
   "source": [
    "**Exercício 7**  \n",
    "Dica: Trabalhe com colunas de tempo e localização para mapas, UMAP+HDBSCAN, regras de associação."
   ]
  },
  {
   "cell_type": "code",
   "execution_count": null,
   "id": "2bd8ef67",
   "metadata": {},
   "outputs": [],
   "source": [
    "# Seu código aqui\n"
   ]
  },
  {
   "cell_type": "markdown",
   "id": "d1ecefdd",
   "metadata": {},
   "source": [
    "**Exercício 8**  \n",
    "Dica: Trabalhe com colunas de tempo e localização para mapas, UMAP+HDBSCAN, regras de associação."
   ]
  },
  {
   "cell_type": "code",
   "execution_count": null,
   "id": "d0886cdb",
   "metadata": {},
   "outputs": [],
   "source": [
    "# Seu código aqui\n"
   ]
  },
  {
   "cell_type": "markdown",
   "id": "7d15c3de",
   "metadata": {},
   "source": [
    "**Exercício 9**  \n",
    "Dica: Trabalhe com colunas de tempo e localização para mapas, UMAP+HDBSCAN, regras de associação."
   ]
  },
  {
   "cell_type": "code",
   "execution_count": null,
   "id": "2d958764",
   "metadata": {},
   "outputs": [],
   "source": [
    "# Seu código aqui\n"
   ]
  },
  {
   "cell_type": "markdown",
   "id": "24299be4",
   "metadata": {},
   "source": [
    "**Exercício 10**  \n",
    "Dica: Trabalhe com colunas de tempo e localização para mapas, UMAP+HDBSCAN, regras de associação."
   ]
  },
  {
   "cell_type": "code",
   "execution_count": null,
   "id": "161a91ee",
   "metadata": {},
   "outputs": [],
   "source": [
    "# Seu código aqui\n"
   ]
  },
  {
   "cell_type": "markdown",
   "id": "0b1b4c50",
   "metadata": {},
   "source": [
    "**Exercício 11**  \n",
    "Dica: Trabalhe com colunas de tempo e localização para mapas, UMAP+HDBSCAN, regras de associação."
   ]
  },
  {
   "cell_type": "code",
   "execution_count": null,
   "id": "e1dbf1d5",
   "metadata": {},
   "outputs": [],
   "source": [
    "# Seu código aqui\n"
   ]
  },
  {
   "cell_type": "markdown",
   "id": "91402ee9",
   "metadata": {},
   "source": [
    "**Exercício 12**  \n",
    "Dica: Trabalhe com colunas de tempo e localização para mapas, UMAP+HDBSCAN, regras de associação."
   ]
  },
  {
   "cell_type": "code",
   "execution_count": null,
   "id": "8e2608f9",
   "metadata": {},
   "outputs": [],
   "source": [
    "# Seu código aqui\n"
   ]
  },
  {
   "cell_type": "markdown",
   "id": "8eed7805",
   "metadata": {},
   "source": [
    "**Exercício 13**  \n",
    "Dica: Trabalhe com colunas de tempo e localização para mapas, UMAP+HDBSCAN, regras de associação."
   ]
  },
  {
   "cell_type": "code",
   "execution_count": null,
   "id": "5d267332",
   "metadata": {},
   "outputs": [],
   "source": [
    "# Seu código aqui\n"
   ]
  },
  {
   "cell_type": "markdown",
   "id": "d3db940a",
   "metadata": {},
   "source": [
    "**Exercício 14**  \n",
    "Dica: Trabalhe com colunas de tempo e localização para mapas, UMAP+HDBSCAN, regras de associação."
   ]
  },
  {
   "cell_type": "code",
   "execution_count": null,
   "id": "4c0f75ea",
   "metadata": {},
   "outputs": [],
   "source": [
    "# Seu código aqui\n"
   ]
  },
  {
   "cell_type": "markdown",
   "id": "490e8a53",
   "metadata": {},
   "source": [
    "**Exercício 15**  \n",
    "Dica: Trabalhe com colunas de tempo e localização para mapas, UMAP+HDBSCAN, regras de associação."
   ]
  },
  {
   "cell_type": "code",
   "execution_count": null,
   "id": "1970a0bf",
   "metadata": {},
   "outputs": [],
   "source": [
    "# Seu código aqui\n"
   ]
  },
  {
   "cell_type": "markdown",
   "id": "26bf9b9b",
   "metadata": {},
   "source": [
    "**Exercício 16**  \n",
    "Dica: Trabalhe com colunas de tempo e localização para mapas, UMAP+HDBSCAN, regras de associação."
   ]
  },
  {
   "cell_type": "code",
   "execution_count": null,
   "id": "0eb4dd08",
   "metadata": {},
   "outputs": [],
   "source": [
    "# Seu código aqui\n"
   ]
  },
  {
   "cell_type": "markdown",
   "id": "0b9bb0bf",
   "metadata": {},
   "source": [
    "**Exercício 17**  \n",
    "Dica: Trabalhe com colunas de tempo e localização para mapas, UMAP+HDBSCAN, regras de associação."
   ]
  },
  {
   "cell_type": "code",
   "execution_count": null,
   "id": "57b3951a",
   "metadata": {},
   "outputs": [],
   "source": [
    "# Seu código aqui\n"
   ]
  },
  {
   "cell_type": "markdown",
   "id": "23bc8bbe",
   "metadata": {},
   "source": [
    "**Exercício 18**  \n",
    "Dica: Trabalhe com colunas de tempo e localização para mapas, UMAP+HDBSCAN, regras de associação."
   ]
  },
  {
   "cell_type": "code",
   "execution_count": null,
   "id": "446c39e6",
   "metadata": {},
   "outputs": [],
   "source": [
    "# Seu código aqui\n"
   ]
  },
  {
   "cell_type": "markdown",
   "id": "271badfd",
   "metadata": {},
   "source": [
    "**Exercício 19**  \n",
    "Dica: Trabalhe com colunas de tempo e localização para mapas, UMAP+HDBSCAN, regras de associação."
   ]
  },
  {
   "cell_type": "code",
   "execution_count": null,
   "id": "6610a71a",
   "metadata": {},
   "outputs": [],
   "source": [
    "# Seu código aqui\n"
   ]
  },
  {
   "cell_type": "markdown",
   "id": "cdcea667",
   "metadata": {},
   "source": [
    "**Exercício 20**  \n",
    "Dica: Trabalhe com colunas de tempo e localização para mapas, UMAP+HDBSCAN, regras de associação."
   ]
  },
  {
   "cell_type": "code",
   "execution_count": null,
   "id": "3fae97b3",
   "metadata": {},
   "outputs": [],
   "source": [
    "# Seu código aqui\n"
   ]
  },
  {
   "cell_type": "markdown",
   "id": "2adce25a",
   "metadata": {},
   "source": [
    "**Exercício 21**  \n",
    "Dica: Trabalhe com colunas de tempo e localização para mapas, UMAP+HDBSCAN, regras de associação."
   ]
  },
  {
   "cell_type": "code",
   "execution_count": null,
   "id": "d3549eaa",
   "metadata": {},
   "outputs": [],
   "source": [
    "# Seu código aqui\n"
   ]
  },
  {
   "cell_type": "markdown",
   "id": "8474beda",
   "metadata": {},
   "source": [
    "**Exercício 22**  \n",
    "Dica: Trabalhe com colunas de tempo e localização para mapas, UMAP+HDBSCAN, regras de associação."
   ]
  },
  {
   "cell_type": "code",
   "execution_count": null,
   "id": "c837a3ef",
   "metadata": {},
   "outputs": [],
   "source": [
    "# Seu código aqui\n"
   ]
  },
  {
   "cell_type": "markdown",
   "id": "bc839f79",
   "metadata": {},
   "source": [
    "**Exercício 23**  \n",
    "Dica: Trabalhe com colunas de tempo e localização para mapas, UMAP+HDBSCAN, regras de associação."
   ]
  },
  {
   "cell_type": "code",
   "execution_count": null,
   "id": "84f9fbb3",
   "metadata": {},
   "outputs": [],
   "source": [
    "# Seu código aqui\n"
   ]
  },
  {
   "cell_type": "markdown",
   "id": "00235646",
   "metadata": {},
   "source": [
    "**Exercício 24**  \n",
    "Dica: Trabalhe com colunas de tempo e localização para mapas, UMAP+HDBSCAN, regras de associação."
   ]
  },
  {
   "cell_type": "code",
   "execution_count": null,
   "id": "a89a6cd2",
   "metadata": {},
   "outputs": [],
   "source": [
    "# Seu código aqui\n"
   ]
  },
  {
   "cell_type": "markdown",
   "id": "4cc03d94",
   "metadata": {},
   "source": [
    "**Exercício 25**  \n",
    "Dica: Trabalhe com colunas de tempo e localização para mapas, UMAP+HDBSCAN, regras de associação."
   ]
  },
  {
   "cell_type": "code",
   "execution_count": null,
   "id": "603ec37c",
   "metadata": {},
   "outputs": [],
   "source": [
    "# Seu código aqui\n"
   ]
  },
  {
   "cell_type": "markdown",
   "id": "61134c88",
   "metadata": {},
   "source": [
    "**Exercício 26**  \n",
    "Dica: Trabalhe com colunas de tempo e localização para mapas, UMAP+HDBSCAN, regras de associação."
   ]
  },
  {
   "cell_type": "code",
   "execution_count": null,
   "id": "65ecca9e",
   "metadata": {},
   "outputs": [],
   "source": [
    "# Seu código aqui\n"
   ]
  },
  {
   "cell_type": "markdown",
   "id": "5e7b5213",
   "metadata": {},
   "source": [
    "**Exercício 27**  \n",
    "Dica: Trabalhe com colunas de tempo e localização para mapas, UMAP+HDBSCAN, regras de associação."
   ]
  },
  {
   "cell_type": "code",
   "execution_count": null,
   "id": "830b1376",
   "metadata": {},
   "outputs": [],
   "source": [
    "# Seu código aqui\n"
   ]
  },
  {
   "cell_type": "markdown",
   "id": "bbd38ade",
   "metadata": {},
   "source": [
    "**Exercício 28**  \n",
    "Dica: Trabalhe com colunas de tempo e localização para mapas, UMAP+HDBSCAN, regras de associação."
   ]
  },
  {
   "cell_type": "code",
   "execution_count": null,
   "id": "91ce7feb",
   "metadata": {},
   "outputs": [],
   "source": [
    "# Seu código aqui\n"
   ]
  },
  {
   "cell_type": "markdown",
   "id": "98d965ae",
   "metadata": {},
   "source": [
    "**Exercício 29**  \n",
    "Dica: Trabalhe com colunas de tempo e localização para mapas, UMAP+HDBSCAN, regras de associação."
   ]
  },
  {
   "cell_type": "code",
   "execution_count": null,
   "id": "b57ddeda",
   "metadata": {},
   "outputs": [],
   "source": [
    "# Seu código aqui\n"
   ]
  },
  {
   "cell_type": "markdown",
   "id": "4b54652e",
   "metadata": {},
   "source": [
    "**Exercício 30**  \n",
    "Dica: Trabalhe com colunas de tempo e localização para mapas, UMAP+HDBSCAN, regras de associação."
   ]
  },
  {
   "cell_type": "code",
   "execution_count": null,
   "id": "17b6f9d6",
   "metadata": {},
   "outputs": [],
   "source": [
    "# Seu código aqui\n"
   ]
  },
  {
   "cell_type": "markdown",
   "id": "855d9ca4",
   "metadata": {},
   "source": [
    "**Exercício 31**  \n",
    "Dica: Trabalhe com colunas de tempo e localização para mapas, UMAP+HDBSCAN, regras de associação."
   ]
  },
  {
   "cell_type": "code",
   "execution_count": null,
   "id": "e2bd6e96",
   "metadata": {},
   "outputs": [],
   "source": [
    "# Seu código aqui\n"
   ]
  },
  {
   "cell_type": "markdown",
   "id": "097adedf",
   "metadata": {},
   "source": [
    "**Exercício 32**  \n",
    "Dica: Trabalhe com colunas de tempo e localização para mapas, UMAP+HDBSCAN, regras de associação."
   ]
  },
  {
   "cell_type": "code",
   "execution_count": null,
   "id": "94de5f93",
   "metadata": {},
   "outputs": [],
   "source": [
    "# Seu código aqui\n"
   ]
  },
  {
   "cell_type": "markdown",
   "id": "329735b3",
   "metadata": {},
   "source": [
    "**Exercício 33**  \n",
    "Dica: Trabalhe com colunas de tempo e localização para mapas, UMAP+HDBSCAN, regras de associação."
   ]
  },
  {
   "cell_type": "code",
   "execution_count": null,
   "id": "6d1ca921",
   "metadata": {},
   "outputs": [],
   "source": [
    "# Seu código aqui\n"
   ]
  },
  {
   "cell_type": "markdown",
   "id": "b9962872",
   "metadata": {},
   "source": [
    "**Exercício 34**  \n",
    "Dica: Trabalhe com colunas de tempo e localização para mapas, UMAP+HDBSCAN, regras de associação."
   ]
  },
  {
   "cell_type": "code",
   "execution_count": null,
   "id": "bdef0a04",
   "metadata": {},
   "outputs": [],
   "source": [
    "# Seu código aqui\n"
   ]
  },
  {
   "cell_type": "markdown",
   "id": "b54a0052",
   "metadata": {},
   "source": [
    "**Exercício 35**  \n",
    "Dica: Trabalhe com colunas de tempo e localização para mapas, UMAP+HDBSCAN, regras de associação."
   ]
  },
  {
   "cell_type": "code",
   "execution_count": null,
   "id": "abce953d",
   "metadata": {},
   "outputs": [],
   "source": [
    "# Seu código aqui\n"
   ]
  },
  {
   "cell_type": "markdown",
   "id": "9bda5379",
   "metadata": {},
   "source": [
    "**Exercício 36**  \n",
    "Dica: Trabalhe com colunas de tempo e localização para mapas, UMAP+HDBSCAN, regras de associação."
   ]
  },
  {
   "cell_type": "code",
   "execution_count": null,
   "id": "02f92095",
   "metadata": {},
   "outputs": [],
   "source": [
    "# Seu código aqui\n"
   ]
  },
  {
   "cell_type": "markdown",
   "id": "83e38e10",
   "metadata": {},
   "source": [
    "**Exercício 37**  \n",
    "Dica: Trabalhe com colunas de tempo e localização para mapas, UMAP+HDBSCAN, regras de associação."
   ]
  },
  {
   "cell_type": "code",
   "execution_count": null,
   "id": "3543866c",
   "metadata": {},
   "outputs": [],
   "source": [
    "# Seu código aqui\n"
   ]
  },
  {
   "cell_type": "markdown",
   "id": "ad4bacf3",
   "metadata": {},
   "source": [
    "**Exercício 38**  \n",
    "Dica: Trabalhe com colunas de tempo e localização para mapas, UMAP+HDBSCAN, regras de associação."
   ]
  },
  {
   "cell_type": "code",
   "execution_count": null,
   "id": "cf7905d7",
   "metadata": {},
   "outputs": [],
   "source": [
    "# Seu código aqui\n"
   ]
  },
  {
   "cell_type": "markdown",
   "id": "cf74aa8b",
   "metadata": {},
   "source": [
    "**Exercício 39**  \n",
    "Dica: Trabalhe com colunas de tempo e localização para mapas, UMAP+HDBSCAN, regras de associação."
   ]
  },
  {
   "cell_type": "code",
   "execution_count": null,
   "id": "32dd9981",
   "metadata": {},
   "outputs": [],
   "source": [
    "# Seu código aqui\n"
   ]
  },
  {
   "cell_type": "markdown",
   "id": "f70c8627",
   "metadata": {},
   "source": [
    "**Exercício 40**  \n",
    "Dica: Trabalhe com colunas de tempo e localização para mapas, UMAP+HDBSCAN, regras de associação."
   ]
  },
  {
   "cell_type": "code",
   "execution_count": null,
   "id": "ef34d111",
   "metadata": {},
   "outputs": [],
   "source": [
    "# Seu código aqui\n"
   ]
  },
  {
   "cell_type": "markdown",
   "id": "ed0cc90b",
   "metadata": {},
   "source": [
    "**Exercício 41**  \n",
    "Dica: Trabalhe com colunas de tempo e localização para mapas, UMAP+HDBSCAN, regras de associação."
   ]
  },
  {
   "cell_type": "code",
   "execution_count": null,
   "id": "00fa07a3",
   "metadata": {},
   "outputs": [],
   "source": [
    "# Seu código aqui\n"
   ]
  },
  {
   "cell_type": "markdown",
   "id": "6f146879",
   "metadata": {},
   "source": [
    "**Exercício 42**  \n",
    "Dica: Trabalhe com colunas de tempo e localização para mapas, UMAP+HDBSCAN, regras de associação."
   ]
  },
  {
   "cell_type": "code",
   "execution_count": null,
   "id": "76ad9bf4",
   "metadata": {},
   "outputs": [],
   "source": [
    "# Seu código aqui\n"
   ]
  },
  {
   "cell_type": "markdown",
   "id": "b32a0647",
   "metadata": {},
   "source": [
    "**Exercício 43**  \n",
    "Dica: Trabalhe com colunas de tempo e localização para mapas, UMAP+HDBSCAN, regras de associação."
   ]
  },
  {
   "cell_type": "code",
   "execution_count": null,
   "id": "4dd0b2bc",
   "metadata": {},
   "outputs": [],
   "source": [
    "# Seu código aqui\n"
   ]
  },
  {
   "cell_type": "markdown",
   "id": "64a4247e",
   "metadata": {},
   "source": [
    "**Exercício 44**  \n",
    "Dica: Trabalhe com colunas de tempo e localização para mapas, UMAP+HDBSCAN, regras de associação."
   ]
  },
  {
   "cell_type": "code",
   "execution_count": null,
   "id": "850bf1cf",
   "metadata": {},
   "outputs": [],
   "source": [
    "# Seu código aqui\n"
   ]
  },
  {
   "cell_type": "markdown",
   "id": "1409e16c",
   "metadata": {},
   "source": [
    "**Exercício 45**  \n",
    "Dica: Trabalhe com colunas de tempo e localização para mapas, UMAP+HDBSCAN, regras de associação."
   ]
  },
  {
   "cell_type": "code",
   "execution_count": null,
   "id": "7948eee7",
   "metadata": {},
   "outputs": [],
   "source": [
    "# Seu código aqui\n"
   ]
  },
  {
   "cell_type": "markdown",
   "id": "5df11979",
   "metadata": {},
   "source": [
    "**Exercício 46**  \n",
    "Dica: Trabalhe com colunas de tempo e localização para mapas, UMAP+HDBSCAN, regras de associação."
   ]
  },
  {
   "cell_type": "code",
   "execution_count": null,
   "id": "48c4304d",
   "metadata": {},
   "outputs": [],
   "source": [
    "# Seu código aqui\n"
   ]
  },
  {
   "cell_type": "markdown",
   "id": "78a760b6",
   "metadata": {},
   "source": [
    "**Exercício 47**  \n",
    "Dica: Trabalhe com colunas de tempo e localização para mapas, UMAP+HDBSCAN, regras de associação."
   ]
  },
  {
   "cell_type": "code",
   "execution_count": null,
   "id": "1f3ecf66",
   "metadata": {},
   "outputs": [],
   "source": [
    "# Seu código aqui\n"
   ]
  },
  {
   "cell_type": "markdown",
   "id": "f5638b9a",
   "metadata": {},
   "source": [
    "**Exercício 48**  \n",
    "Dica: Trabalhe com colunas de tempo e localização para mapas, UMAP+HDBSCAN, regras de associação."
   ]
  },
  {
   "cell_type": "code",
   "execution_count": null,
   "id": "0e65fdba",
   "metadata": {},
   "outputs": [],
   "source": [
    "# Seu código aqui\n"
   ]
  },
  {
   "cell_type": "markdown",
   "id": "8c6d01d0",
   "metadata": {},
   "source": [
    "**Exercício 49**  \n",
    "Dica: Trabalhe com colunas de tempo e localização para mapas, UMAP+HDBSCAN, regras de associação."
   ]
  },
  {
   "cell_type": "code",
   "execution_count": null,
   "id": "99d8f412",
   "metadata": {},
   "outputs": [],
   "source": [
    "# Seu código aqui\n"
   ]
  },
  {
   "cell_type": "markdown",
   "id": "b975f588",
   "metadata": {},
   "source": [
    "**Exercício 50**  \n",
    "Dica: Trabalhe com colunas de tempo e localização para mapas, UMAP+HDBSCAN, regras de associação."
   ]
  },
  {
   "cell_type": "code",
   "execution_count": null,
   "id": "e2e753d5",
   "metadata": {},
   "outputs": [],
   "source": [
    "# Seu código aqui\n"
   ]
  },
  {
   "cell_type": "markdown",
   "id": "8c2e4939",
   "metadata": {},
   "source": [
    "**Exercício 51**  \n",
    "Dica: Trabalhe com colunas de tempo e localização para mapas, UMAP+HDBSCAN, regras de associação."
   ]
  },
  {
   "cell_type": "code",
   "execution_count": null,
   "id": "d6501515",
   "metadata": {},
   "outputs": [],
   "source": [
    "# Seu código aqui\n"
   ]
  },
  {
   "cell_type": "markdown",
   "id": "a444fe01",
   "metadata": {},
   "source": [
    "**Exercício 52**  \n",
    "Dica: Trabalhe com colunas de tempo e localização para mapas, UMAP+HDBSCAN, regras de associação."
   ]
  },
  {
   "cell_type": "code",
   "execution_count": null,
   "id": "5265c92f",
   "metadata": {},
   "outputs": [],
   "source": [
    "# Seu código aqui\n"
   ]
  },
  {
   "cell_type": "markdown",
   "id": "d1bb1540",
   "metadata": {},
   "source": [
    "**Exercício 53**  \n",
    "Dica: Trabalhe com colunas de tempo e localização para mapas, UMAP+HDBSCAN, regras de associação."
   ]
  },
  {
   "cell_type": "code",
   "execution_count": null,
   "id": "828dd316",
   "metadata": {},
   "outputs": [],
   "source": [
    "# Seu código aqui\n"
   ]
  },
  {
   "cell_type": "markdown",
   "id": "b236f103",
   "metadata": {},
   "source": [
    "**Exercício 54**  \n",
    "Dica: Trabalhe com colunas de tempo e localização para mapas, UMAP+HDBSCAN, regras de associação."
   ]
  },
  {
   "cell_type": "code",
   "execution_count": null,
   "id": "5701f93e",
   "metadata": {},
   "outputs": [],
   "source": [
    "# Seu código aqui\n"
   ]
  },
  {
   "cell_type": "markdown",
   "id": "f09fafe4",
   "metadata": {},
   "source": [
    "**Exercício 55**  \n",
    "Dica: Trabalhe com colunas de tempo e localização para mapas, UMAP+HDBSCAN, regras de associação."
   ]
  },
  {
   "cell_type": "code",
   "execution_count": null,
   "id": "c9ae1bb9",
   "metadata": {},
   "outputs": [],
   "source": [
    "# Seu código aqui\n"
   ]
  },
  {
   "cell_type": "markdown",
   "id": "7a81b701",
   "metadata": {},
   "source": [
    "**Exercício 56**  \n",
    "Dica: Trabalhe com colunas de tempo e localização para mapas, UMAP+HDBSCAN, regras de associação."
   ]
  },
  {
   "cell_type": "code",
   "execution_count": null,
   "id": "e68f40e9",
   "metadata": {},
   "outputs": [],
   "source": [
    "# Seu código aqui\n"
   ]
  },
  {
   "cell_type": "markdown",
   "id": "be8f6ae1",
   "metadata": {},
   "source": [
    "**Exercício 57**  \n",
    "Dica: Trabalhe com colunas de tempo e localização para mapas, UMAP+HDBSCAN, regras de associação."
   ]
  },
  {
   "cell_type": "code",
   "execution_count": null,
   "id": "839c47b9",
   "metadata": {},
   "outputs": [],
   "source": [
    "# Seu código aqui\n"
   ]
  },
  {
   "cell_type": "markdown",
   "id": "5e0b852a",
   "metadata": {},
   "source": [
    "**Exercício 58**  \n",
    "Dica: Trabalhe com colunas de tempo e localização para mapas, UMAP+HDBSCAN, regras de associação."
   ]
  },
  {
   "cell_type": "code",
   "execution_count": null,
   "id": "3af1ae28",
   "metadata": {},
   "outputs": [],
   "source": [
    "# Seu código aqui\n"
   ]
  },
  {
   "cell_type": "markdown",
   "id": "79029727",
   "metadata": {},
   "source": [
    "**Exercício 59**  \n",
    "Dica: Trabalhe com colunas de tempo e localização para mapas, UMAP+HDBSCAN, regras de associação."
   ]
  },
  {
   "cell_type": "code",
   "execution_count": null,
   "id": "59bae8d3",
   "metadata": {},
   "outputs": [],
   "source": [
    "# Seu código aqui\n"
   ]
  },
  {
   "cell_type": "markdown",
   "id": "4fc733ae",
   "metadata": {},
   "source": [
    "**Exercício 60**  \n",
    "Dica: Trabalhe com colunas de tempo e localização para mapas, UMAP+HDBSCAN, regras de associação."
   ]
  },
  {
   "cell_type": "code",
   "execution_count": null,
   "id": "05fbc922",
   "metadata": {},
   "outputs": [],
   "source": [
    "# Seu código aqui\n"
   ]
  },
  {
   "cell_type": "markdown",
   "id": "0594846e",
   "metadata": {},
   "source": [
    "**Exercício 61**  \n",
    "Dica: Trabalhe com colunas de tempo e localização para mapas, UMAP+HDBSCAN, regras de associação."
   ]
  },
  {
   "cell_type": "code",
   "execution_count": null,
   "id": "90e52649",
   "metadata": {},
   "outputs": [],
   "source": [
    "# Seu código aqui\n"
   ]
  },
  {
   "cell_type": "markdown",
   "id": "75b763a9",
   "metadata": {},
   "source": [
    "**Exercício 62**  \n",
    "Dica: Trabalhe com colunas de tempo e localização para mapas, UMAP+HDBSCAN, regras de associação."
   ]
  },
  {
   "cell_type": "code",
   "execution_count": null,
   "id": "5f67a3f0",
   "metadata": {},
   "outputs": [],
   "source": [
    "# Seu código aqui\n"
   ]
  },
  {
   "cell_type": "markdown",
   "id": "e739b69b",
   "metadata": {},
   "source": [
    "**Exercício 63**  \n",
    "Dica: Trabalhe com colunas de tempo e localização para mapas, UMAP+HDBSCAN, regras de associação."
   ]
  },
  {
   "cell_type": "code",
   "execution_count": null,
   "id": "b019ab5c",
   "metadata": {},
   "outputs": [],
   "source": [
    "# Seu código aqui\n"
   ]
  },
  {
   "cell_type": "markdown",
   "id": "b1cd6c9a",
   "metadata": {},
   "source": [
    "**Exercício 64**  \n",
    "Dica: Trabalhe com colunas de tempo e localização para mapas, UMAP+HDBSCAN, regras de associação."
   ]
  },
  {
   "cell_type": "code",
   "execution_count": null,
   "id": "24cd4e2e",
   "metadata": {},
   "outputs": [],
   "source": [
    "# Seu código aqui\n"
   ]
  },
  {
   "cell_type": "markdown",
   "id": "07884b6a",
   "metadata": {},
   "source": [
    "**Exercício 65**  \n",
    "Dica: Trabalhe com colunas de tempo e localização para mapas, UMAP+HDBSCAN, regras de associação."
   ]
  },
  {
   "cell_type": "code",
   "execution_count": null,
   "id": "90f6b761",
   "metadata": {},
   "outputs": [],
   "source": [
    "# Seu código aqui\n"
   ]
  },
  {
   "cell_type": "markdown",
   "id": "d5ae4578",
   "metadata": {},
   "source": [
    "**Exercício 66**  \n",
    "Dica: Trabalhe com colunas de tempo e localização para mapas, UMAP+HDBSCAN, regras de associação."
   ]
  },
  {
   "cell_type": "code",
   "execution_count": null,
   "id": "bdc19530",
   "metadata": {},
   "outputs": [],
   "source": [
    "# Seu código aqui\n"
   ]
  },
  {
   "cell_type": "markdown",
   "id": "03b629aa",
   "metadata": {},
   "source": [
    "**Exercício 67**  \n",
    "Dica: Trabalhe com colunas de tempo e localização para mapas, UMAP+HDBSCAN, regras de associação."
   ]
  },
  {
   "cell_type": "code",
   "execution_count": null,
   "id": "6234e113",
   "metadata": {},
   "outputs": [],
   "source": [
    "# Seu código aqui\n"
   ]
  },
  {
   "cell_type": "markdown",
   "id": "77bf1985",
   "metadata": {},
   "source": [
    "**Exercício 68**  \n",
    "Dica: Trabalhe com colunas de tempo e localização para mapas, UMAP+HDBSCAN, regras de associação."
   ]
  },
  {
   "cell_type": "code",
   "execution_count": null,
   "id": "9fc04e4e",
   "metadata": {},
   "outputs": [],
   "source": [
    "# Seu código aqui\n"
   ]
  },
  {
   "cell_type": "markdown",
   "id": "a2cfd4c1",
   "metadata": {},
   "source": [
    "**Exercício 69**  \n",
    "Dica: Trabalhe com colunas de tempo e localização para mapas, UMAP+HDBSCAN, regras de associação."
   ]
  },
  {
   "cell_type": "code",
   "execution_count": null,
   "id": "f26e5e22",
   "metadata": {},
   "outputs": [],
   "source": [
    "# Seu código aqui\n"
   ]
  },
  {
   "cell_type": "markdown",
   "id": "fad51f75",
   "metadata": {},
   "source": [
    "**Exercício 70**  \n",
    "Dica: Trabalhe com colunas de tempo e localização para mapas, UMAP+HDBSCAN, regras de associação."
   ]
  },
  {
   "cell_type": "code",
   "execution_count": null,
   "id": "2abbc1fe",
   "metadata": {},
   "outputs": [],
   "source": [
    "# Seu código aqui\n"
   ]
  },
  {
   "cell_type": "markdown",
   "id": "5ae658c4",
   "metadata": {},
   "source": [
    "**Exercício 71**  \n",
    "Dica: Trabalhe com colunas de tempo e localização para mapas, UMAP+HDBSCAN, regras de associação."
   ]
  },
  {
   "cell_type": "code",
   "execution_count": null,
   "id": "15d4cecc",
   "metadata": {},
   "outputs": [],
   "source": [
    "# Seu código aqui\n"
   ]
  },
  {
   "cell_type": "markdown",
   "id": "de3949d2",
   "metadata": {},
   "source": [
    "**Exercício 72**  \n",
    "Dica: Trabalhe com colunas de tempo e localização para mapas, UMAP+HDBSCAN, regras de associação."
   ]
  },
  {
   "cell_type": "code",
   "execution_count": null,
   "id": "fece66e8",
   "metadata": {},
   "outputs": [],
   "source": [
    "# Seu código aqui\n"
   ]
  },
  {
   "cell_type": "markdown",
   "id": "0b4c98e3",
   "metadata": {},
   "source": [
    "**Exercício 73**  \n",
    "Dica: Trabalhe com colunas de tempo e localização para mapas, UMAP+HDBSCAN, regras de associação."
   ]
  },
  {
   "cell_type": "code",
   "execution_count": null,
   "id": "5b1afb36",
   "metadata": {},
   "outputs": [],
   "source": [
    "# Seu código aqui\n"
   ]
  },
  {
   "cell_type": "markdown",
   "id": "582eefe7",
   "metadata": {},
   "source": [
    "**Exercício 74**  \n",
    "Dica: Trabalhe com colunas de tempo e localização para mapas, UMAP+HDBSCAN, regras de associação."
   ]
  },
  {
   "cell_type": "code",
   "execution_count": null,
   "id": "2c6c7316",
   "metadata": {},
   "outputs": [],
   "source": [
    "# Seu código aqui\n"
   ]
  },
  {
   "cell_type": "markdown",
   "id": "cbd07c63",
   "metadata": {},
   "source": [
    "**Exercício 75**  \n",
    "Dica: Trabalhe com colunas de tempo e localização para mapas, UMAP+HDBSCAN, regras de associação."
   ]
  },
  {
   "cell_type": "code",
   "execution_count": null,
   "id": "daf3ec5a",
   "metadata": {},
   "outputs": [],
   "source": [
    "# Seu código aqui\n"
   ]
  },
  {
   "cell_type": "markdown",
   "id": "f1f0f40a",
   "metadata": {},
   "source": [
    "**Exercício 76**  \n",
    "Dica: Trabalhe com colunas de tempo e localização para mapas, UMAP+HDBSCAN, regras de associação."
   ]
  },
  {
   "cell_type": "code",
   "execution_count": null,
   "id": "6fc86d32",
   "metadata": {},
   "outputs": [],
   "source": [
    "# Seu código aqui\n"
   ]
  },
  {
   "cell_type": "markdown",
   "id": "c46914b6",
   "metadata": {},
   "source": [
    "**Exercício 77**  \n",
    "Dica: Trabalhe com colunas de tempo e localização para mapas, UMAP+HDBSCAN, regras de associação."
   ]
  },
  {
   "cell_type": "code",
   "execution_count": null,
   "id": "1dca3e79",
   "metadata": {},
   "outputs": [],
   "source": [
    "# Seu código aqui\n"
   ]
  },
  {
   "cell_type": "markdown",
   "id": "306b0f29",
   "metadata": {},
   "source": [
    "**Exercício 78**  \n",
    "Dica: Trabalhe com colunas de tempo e localização para mapas, UMAP+HDBSCAN, regras de associação."
   ]
  },
  {
   "cell_type": "code",
   "execution_count": null,
   "id": "e64c0e86",
   "metadata": {},
   "outputs": [],
   "source": [
    "# Seu código aqui\n"
   ]
  },
  {
   "cell_type": "markdown",
   "id": "11bc6004",
   "metadata": {},
   "source": [
    "**Exercício 79**  \n",
    "Dica: Trabalhe com colunas de tempo e localização para mapas, UMAP+HDBSCAN, regras de associação."
   ]
  },
  {
   "cell_type": "code",
   "execution_count": null,
   "id": "abefc944",
   "metadata": {},
   "outputs": [],
   "source": [
    "# Seu código aqui\n"
   ]
  },
  {
   "cell_type": "markdown",
   "id": "bbdbce92",
   "metadata": {},
   "source": [
    "**Exercício 80**  \n",
    "Dica: Trabalhe com colunas de tempo e localização para mapas, UMAP+HDBSCAN, regras de associação."
   ]
  },
  {
   "cell_type": "code",
   "execution_count": null,
   "id": "eb3f7e2e",
   "metadata": {},
   "outputs": [],
   "source": [
    "# Seu código aqui\n"
   ]
  },
  {
   "cell_type": "markdown",
   "id": "1b479dc1",
   "metadata": {},
   "source": [
    "**Exercício 81**  \n",
    "Dica: Trabalhe com colunas de tempo e localização para mapas, UMAP+HDBSCAN, regras de associação."
   ]
  },
  {
   "cell_type": "code",
   "execution_count": null,
   "id": "d85de7ac",
   "metadata": {},
   "outputs": [],
   "source": [
    "# Seu código aqui\n"
   ]
  },
  {
   "cell_type": "markdown",
   "id": "f6408470",
   "metadata": {},
   "source": [
    "**Exercício 82**  \n",
    "Dica: Trabalhe com colunas de tempo e localização para mapas, UMAP+HDBSCAN, regras de associação."
   ]
  },
  {
   "cell_type": "code",
   "execution_count": null,
   "id": "9efeb711",
   "metadata": {},
   "outputs": [],
   "source": [
    "# Seu código aqui\n"
   ]
  },
  {
   "cell_type": "markdown",
   "id": "4e3ebcb0",
   "metadata": {},
   "source": [
    "**Exercício 83**  \n",
    "Dica: Trabalhe com colunas de tempo e localização para mapas, UMAP+HDBSCAN, regras de associação."
   ]
  },
  {
   "cell_type": "code",
   "execution_count": null,
   "id": "5a412ba8",
   "metadata": {},
   "outputs": [],
   "source": [
    "# Seu código aqui\n"
   ]
  },
  {
   "cell_type": "markdown",
   "id": "ac132f2e",
   "metadata": {},
   "source": [
    "**Exercício 84**  \n",
    "Dica: Trabalhe com colunas de tempo e localização para mapas, UMAP+HDBSCAN, regras de associação."
   ]
  },
  {
   "cell_type": "code",
   "execution_count": null,
   "id": "e3f56ff4",
   "metadata": {},
   "outputs": [],
   "source": [
    "# Seu código aqui\n"
   ]
  },
  {
   "cell_type": "markdown",
   "id": "31040fbf",
   "metadata": {},
   "source": [
    "**Exercício 85**  \n",
    "Dica: Trabalhe com colunas de tempo e localização para mapas, UMAP+HDBSCAN, regras de associação."
   ]
  },
  {
   "cell_type": "code",
   "execution_count": null,
   "id": "d0fb8596",
   "metadata": {},
   "outputs": [],
   "source": [
    "# Seu código aqui\n"
   ]
  },
  {
   "cell_type": "markdown",
   "id": "23917d67",
   "metadata": {},
   "source": [
    "**Exercício 86**  \n",
    "Dica: Trabalhe com colunas de tempo e localização para mapas, UMAP+HDBSCAN, regras de associação."
   ]
  },
  {
   "cell_type": "code",
   "execution_count": null,
   "id": "2efe3f6f",
   "metadata": {},
   "outputs": [],
   "source": [
    "# Seu código aqui\n"
   ]
  },
  {
   "cell_type": "markdown",
   "id": "c0abf7e7",
   "metadata": {},
   "source": [
    "**Exercício 87**  \n",
    "Dica: Trabalhe com colunas de tempo e localização para mapas, UMAP+HDBSCAN, regras de associação."
   ]
  },
  {
   "cell_type": "code",
   "execution_count": null,
   "id": "43be4d0b",
   "metadata": {},
   "outputs": [],
   "source": [
    "# Seu código aqui\n"
   ]
  },
  {
   "cell_type": "markdown",
   "id": "f17b53cf",
   "metadata": {},
   "source": [
    "**Exercício 88**  \n",
    "Dica: Trabalhe com colunas de tempo e localização para mapas, UMAP+HDBSCAN, regras de associação."
   ]
  },
  {
   "cell_type": "code",
   "execution_count": null,
   "id": "e8da3132",
   "metadata": {},
   "outputs": [],
   "source": [
    "# Seu código aqui\n"
   ]
  },
  {
   "cell_type": "markdown",
   "id": "5aa74136",
   "metadata": {},
   "source": [
    "**Exercício 89**  \n",
    "Dica: Trabalhe com colunas de tempo e localização para mapas, UMAP+HDBSCAN, regras de associação."
   ]
  },
  {
   "cell_type": "code",
   "execution_count": null,
   "id": "564dcaa2",
   "metadata": {},
   "outputs": [],
   "source": [
    "# Seu código aqui\n"
   ]
  },
  {
   "cell_type": "markdown",
   "id": "de9eaa59",
   "metadata": {},
   "source": [
    "**Exercício 90**  \n",
    "Dica: Trabalhe com colunas de tempo e localização para mapas, UMAP+HDBSCAN, regras de associação."
   ]
  },
  {
   "cell_type": "code",
   "execution_count": null,
   "id": "08d38966",
   "metadata": {},
   "outputs": [],
   "source": [
    "# Seu código aqui\n"
   ]
  },
  {
   "cell_type": "markdown",
   "id": "585d364d",
   "metadata": {},
   "source": [
    "**Exercício 91**  \n",
    "Dica: Trabalhe com colunas de tempo e localização para mapas, UMAP+HDBSCAN, regras de associação."
   ]
  },
  {
   "cell_type": "code",
   "execution_count": null,
   "id": "e1dc79b0",
   "metadata": {},
   "outputs": [],
   "source": [
    "# Seu código aqui\n"
   ]
  },
  {
   "cell_type": "markdown",
   "id": "4c173b2d",
   "metadata": {},
   "source": [
    "**Exercício 92**  \n",
    "Dica: Trabalhe com colunas de tempo e localização para mapas, UMAP+HDBSCAN, regras de associação."
   ]
  },
  {
   "cell_type": "code",
   "execution_count": null,
   "id": "1908838c",
   "metadata": {},
   "outputs": [],
   "source": [
    "# Seu código aqui\n"
   ]
  },
  {
   "cell_type": "markdown",
   "id": "6ef0b641",
   "metadata": {},
   "source": [
    "**Exercício 93**  \n",
    "Dica: Trabalhe com colunas de tempo e localização para mapas, UMAP+HDBSCAN, regras de associação."
   ]
  },
  {
   "cell_type": "code",
   "execution_count": null,
   "id": "4a90efff",
   "metadata": {},
   "outputs": [],
   "source": [
    "# Seu código aqui\n"
   ]
  },
  {
   "cell_type": "markdown",
   "id": "649552ff",
   "metadata": {},
   "source": [
    "**Exercício 94**  \n",
    "Dica: Trabalhe com colunas de tempo e localização para mapas, UMAP+HDBSCAN, regras de associação."
   ]
  },
  {
   "cell_type": "code",
   "execution_count": null,
   "id": "dd4acbe0",
   "metadata": {},
   "outputs": [],
   "source": [
    "# Seu código aqui\n"
   ]
  },
  {
   "cell_type": "markdown",
   "id": "42d5c3b8",
   "metadata": {},
   "source": [
    "**Exercício 95**  \n",
    "Dica: Trabalhe com colunas de tempo e localização para mapas, UMAP+HDBSCAN, regras de associação."
   ]
  },
  {
   "cell_type": "code",
   "execution_count": null,
   "id": "8a42cbf8",
   "metadata": {},
   "outputs": [],
   "source": [
    "# Seu código aqui\n"
   ]
  },
  {
   "cell_type": "markdown",
   "id": "2ad04273",
   "metadata": {},
   "source": [
    "**Exercício 96**  \n",
    "Dica: Trabalhe com colunas de tempo e localização para mapas, UMAP+HDBSCAN, regras de associação."
   ]
  },
  {
   "cell_type": "code",
   "execution_count": null,
   "id": "0b6947af",
   "metadata": {},
   "outputs": [],
   "source": [
    "# Seu código aqui\n"
   ]
  },
  {
   "cell_type": "markdown",
   "id": "c9674848",
   "metadata": {},
   "source": [
    "**Exercício 97**  \n",
    "Dica: Trabalhe com colunas de tempo e localização para mapas, UMAP+HDBSCAN, regras de associação."
   ]
  },
  {
   "cell_type": "code",
   "execution_count": null,
   "id": "8520cbae",
   "metadata": {},
   "outputs": [],
   "source": [
    "# Seu código aqui\n"
   ]
  },
  {
   "cell_type": "markdown",
   "id": "7242d493",
   "metadata": {},
   "source": [
    "**Exercício 98**  \n",
    "Dica: Trabalhe com colunas de tempo e localização para mapas, UMAP+HDBSCAN, regras de associação."
   ]
  },
  {
   "cell_type": "code",
   "execution_count": null,
   "id": "f93bc310",
   "metadata": {},
   "outputs": [],
   "source": [
    "# Seu código aqui\n"
   ]
  },
  {
   "cell_type": "markdown",
   "id": "d8f232ba",
   "metadata": {},
   "source": [
    "**Exercício 99**  \n",
    "Dica: Trabalhe com colunas de tempo e localização para mapas, UMAP+HDBSCAN, regras de associação."
   ]
  },
  {
   "cell_type": "code",
   "execution_count": null,
   "id": "dca7f7e2",
   "metadata": {},
   "outputs": [],
   "source": [
    "# Seu código aqui\n"
   ]
  },
  {
   "cell_type": "markdown",
   "id": "9ef1c2ff",
   "metadata": {},
   "source": [
    "**Exercício 100**  \n",
    "Dica: Trabalhe com colunas de tempo e localização para mapas, UMAP+HDBSCAN, regras de associação."
   ]
  },
  {
   "cell_type": "code",
   "execution_count": null,
   "id": "33989a88",
   "metadata": {},
   "outputs": [],
   "source": [
    "# Seu código aqui\n"
   ]
  },
  {
   "cell_type": "markdown",
   "id": "0f781e05",
   "metadata": {},
   "source": [
    "**Exercício 101**  \n",
    "Dica: Trabalhe com colunas de tempo e localização para mapas, UMAP+HDBSCAN, regras de associação."
   ]
  },
  {
   "cell_type": "code",
   "execution_count": null,
   "id": "9038e9b0",
   "metadata": {},
   "outputs": [],
   "source": [
    "# Seu código aqui\n"
   ]
  },
  {
   "cell_type": "markdown",
   "id": "114efaee",
   "metadata": {},
   "source": [
    "**Exercício 102**  \n",
    "Dica: Trabalhe com colunas de tempo e localização para mapas, UMAP+HDBSCAN, regras de associação."
   ]
  },
  {
   "cell_type": "code",
   "execution_count": null,
   "id": "39a9917a",
   "metadata": {},
   "outputs": [],
   "source": [
    "# Seu código aqui\n"
   ]
  },
  {
   "cell_type": "markdown",
   "id": "c0271f2d",
   "metadata": {},
   "source": [
    "**Exercício 103**  \n",
    "Dica: Trabalhe com colunas de tempo e localização para mapas, UMAP+HDBSCAN, regras de associação."
   ]
  },
  {
   "cell_type": "code",
   "execution_count": null,
   "id": "583b838e",
   "metadata": {},
   "outputs": [],
   "source": [
    "# Seu código aqui\n"
   ]
  },
  {
   "cell_type": "markdown",
   "id": "7c564902",
   "metadata": {},
   "source": [
    "**Exercício 104**  \n",
    "Dica: Trabalhe com colunas de tempo e localização para mapas, UMAP+HDBSCAN, regras de associação."
   ]
  },
  {
   "cell_type": "code",
   "execution_count": null,
   "id": "4492cc10",
   "metadata": {},
   "outputs": [],
   "source": [
    "# Seu código aqui\n"
   ]
  },
  {
   "cell_type": "markdown",
   "id": "e4aaab15",
   "metadata": {},
   "source": [
    "**Exercício 105**  \n",
    "Dica: Trabalhe com colunas de tempo e localização para mapas, UMAP+HDBSCAN, regras de associação."
   ]
  },
  {
   "cell_type": "code",
   "execution_count": null,
   "id": "d2b8af54",
   "metadata": {},
   "outputs": [],
   "source": [
    "# Seu código aqui\n"
   ]
  },
  {
   "cell_type": "markdown",
   "id": "b91ad17f",
   "metadata": {},
   "source": [
    "**Exercício 106**  \n",
    "Dica: Trabalhe com colunas de tempo e localização para mapas, UMAP+HDBSCAN, regras de associação."
   ]
  },
  {
   "cell_type": "code",
   "execution_count": null,
   "id": "05e65f5c",
   "metadata": {},
   "outputs": [],
   "source": [
    "# Seu código aqui\n"
   ]
  },
  {
   "cell_type": "markdown",
   "id": "aaf2511b",
   "metadata": {},
   "source": [
    "**Exercício 107**  \n",
    "Dica: Trabalhe com colunas de tempo e localização para mapas, UMAP+HDBSCAN, regras de associação."
   ]
  },
  {
   "cell_type": "code",
   "execution_count": null,
   "id": "3f20f9a8",
   "metadata": {},
   "outputs": [],
   "source": [
    "# Seu código aqui\n"
   ]
  },
  {
   "cell_type": "markdown",
   "id": "51a413ed",
   "metadata": {},
   "source": [
    "**Exercício 108**  \n",
    "Dica: Trabalhe com colunas de tempo e localização para mapas, UMAP+HDBSCAN, regras de associação."
   ]
  },
  {
   "cell_type": "code",
   "execution_count": null,
   "id": "7623cf26",
   "metadata": {},
   "outputs": [],
   "source": [
    "# Seu código aqui\n"
   ]
  },
  {
   "cell_type": "markdown",
   "id": "51356ba2",
   "metadata": {},
   "source": [
    "**Exercício 109**  \n",
    "Dica: Trabalhe com colunas de tempo e localização para mapas, UMAP+HDBSCAN, regras de associação."
   ]
  },
  {
   "cell_type": "code",
   "execution_count": null,
   "id": "7068d0ea",
   "metadata": {},
   "outputs": [],
   "source": [
    "# Seu código aqui\n"
   ]
  },
  {
   "cell_type": "markdown",
   "id": "193ba27f",
   "metadata": {},
   "source": [
    "**Exercício 110**  \n",
    "Dica: Trabalhe com colunas de tempo e localização para mapas, UMAP+HDBSCAN, regras de associação."
   ]
  },
  {
   "cell_type": "code",
   "execution_count": null,
   "id": "04611d66",
   "metadata": {},
   "outputs": [],
   "source": [
    "# Seu código aqui\n"
   ]
  },
  {
   "cell_type": "markdown",
   "id": "483be31d",
   "metadata": {},
   "source": [
    "**Exercício 111**  \n",
    "Dica: Trabalhe com colunas de tempo e localização para mapas, UMAP+HDBSCAN, regras de associação."
   ]
  },
  {
   "cell_type": "code",
   "execution_count": null,
   "id": "dbe22f38",
   "metadata": {},
   "outputs": [],
   "source": [
    "# Seu código aqui\n"
   ]
  },
  {
   "cell_type": "markdown",
   "id": "e18e4cd9",
   "metadata": {},
   "source": [
    "**Exercício 112**  \n",
    "Dica: Trabalhe com colunas de tempo e localização para mapas, UMAP+HDBSCAN, regras de associação."
   ]
  },
  {
   "cell_type": "code",
   "execution_count": null,
   "id": "bfb1c4ce",
   "metadata": {},
   "outputs": [],
   "source": [
    "# Seu código aqui\n"
   ]
  },
  {
   "cell_type": "markdown",
   "id": "6745e27c",
   "metadata": {},
   "source": [
    "**Exercício 113**  \n",
    "Dica: Trabalhe com colunas de tempo e localização para mapas, UMAP+HDBSCAN, regras de associação."
   ]
  },
  {
   "cell_type": "code",
   "execution_count": null,
   "id": "c494c784",
   "metadata": {},
   "outputs": [],
   "source": [
    "# Seu código aqui\n"
   ]
  },
  {
   "cell_type": "markdown",
   "id": "a3742b7a",
   "metadata": {},
   "source": [
    "**Exercício 114**  \n",
    "Dica: Trabalhe com colunas de tempo e localização para mapas, UMAP+HDBSCAN, regras de associação."
   ]
  },
  {
   "cell_type": "code",
   "execution_count": null,
   "id": "7de8a566",
   "metadata": {},
   "outputs": [],
   "source": [
    "# Seu código aqui\n"
   ]
  },
  {
   "cell_type": "markdown",
   "id": "6fa718f4",
   "metadata": {},
   "source": [
    "**Exercício 115**  \n",
    "Dica: Trabalhe com colunas de tempo e localização para mapas, UMAP+HDBSCAN, regras de associação."
   ]
  },
  {
   "cell_type": "code",
   "execution_count": null,
   "id": "6e90dd6f",
   "metadata": {},
   "outputs": [],
   "source": [
    "# Seu código aqui\n"
   ]
  },
  {
   "cell_type": "markdown",
   "id": "b5fbd090",
   "metadata": {},
   "source": [
    "**Exercício 116**  \n",
    "Dica: Trabalhe com colunas de tempo e localização para mapas, UMAP+HDBSCAN, regras de associação."
   ]
  },
  {
   "cell_type": "code",
   "execution_count": null,
   "id": "52d73900",
   "metadata": {},
   "outputs": [],
   "source": [
    "# Seu código aqui\n"
   ]
  },
  {
   "cell_type": "markdown",
   "id": "d1751a4a",
   "metadata": {},
   "source": [
    "**Exercício 117**  \n",
    "Dica: Trabalhe com colunas de tempo e localização para mapas, UMAP+HDBSCAN, regras de associação."
   ]
  },
  {
   "cell_type": "code",
   "execution_count": null,
   "id": "584ad46d",
   "metadata": {},
   "outputs": [],
   "source": [
    "# Seu código aqui\n"
   ]
  },
  {
   "cell_type": "markdown",
   "id": "13b98405",
   "metadata": {},
   "source": [
    "**Exercício 118**  \n",
    "Dica: Trabalhe com colunas de tempo e localização para mapas, UMAP+HDBSCAN, regras de associação."
   ]
  },
  {
   "cell_type": "code",
   "execution_count": null,
   "id": "bc022812",
   "metadata": {},
   "outputs": [],
   "source": [
    "# Seu código aqui\n"
   ]
  },
  {
   "cell_type": "markdown",
   "id": "7047cf30",
   "metadata": {},
   "source": [
    "**Exercício 119**  \n",
    "Dica: Trabalhe com colunas de tempo e localização para mapas, UMAP+HDBSCAN, regras de associação."
   ]
  },
  {
   "cell_type": "code",
   "execution_count": null,
   "id": "804e191c",
   "metadata": {},
   "outputs": [],
   "source": [
    "# Seu código aqui\n"
   ]
  },
  {
   "cell_type": "markdown",
   "id": "89c930d0",
   "metadata": {},
   "source": [
    "**Exercício 120**  \n",
    "Dica: Trabalhe com colunas de tempo e localização para mapas, UMAP+HDBSCAN, regras de associação."
   ]
  },
  {
   "cell_type": "code",
   "execution_count": null,
   "id": "6f2e2012",
   "metadata": {},
   "outputs": [],
   "source": [
    "# Seu código aqui\n"
   ]
  },
  {
   "cell_type": "markdown",
   "id": "26bc226d",
   "metadata": {},
   "source": [
    "**Exercício 121**  \n",
    "Dica: Trabalhe com colunas de tempo e localização para mapas, UMAP+HDBSCAN, regras de associação."
   ]
  },
  {
   "cell_type": "code",
   "execution_count": null,
   "id": "29ada496",
   "metadata": {},
   "outputs": [],
   "source": [
    "# Seu código aqui\n"
   ]
  },
  {
   "cell_type": "markdown",
   "id": "91501935",
   "metadata": {},
   "source": [
    "**Exercício 122**  \n",
    "Dica: Trabalhe com colunas de tempo e localização para mapas, UMAP+HDBSCAN, regras de associação."
   ]
  },
  {
   "cell_type": "code",
   "execution_count": null,
   "id": "f5e30e21",
   "metadata": {},
   "outputs": [],
   "source": [
    "# Seu código aqui\n"
   ]
  },
  {
   "cell_type": "markdown",
   "id": "75878452",
   "metadata": {},
   "source": [
    "**Exercício 123**  \n",
    "Dica: Trabalhe com colunas de tempo e localização para mapas, UMAP+HDBSCAN, regras de associação."
   ]
  },
  {
   "cell_type": "code",
   "execution_count": null,
   "id": "911ae818",
   "metadata": {},
   "outputs": [],
   "source": [
    "# Seu código aqui\n"
   ]
  },
  {
   "cell_type": "markdown",
   "id": "61e38312",
   "metadata": {},
   "source": [
    "**Exercício 124**  \n",
    "Dica: Trabalhe com colunas de tempo e localização para mapas, UMAP+HDBSCAN, regras de associação."
   ]
  },
  {
   "cell_type": "code",
   "execution_count": null,
   "id": "b86b097c",
   "metadata": {},
   "outputs": [],
   "source": [
    "# Seu código aqui\n"
   ]
  },
  {
   "cell_type": "markdown",
   "id": "4fa544bd",
   "metadata": {},
   "source": [
    "**Exercício 125**  \n",
    "Dica: Trabalhe com colunas de tempo e localização para mapas, UMAP+HDBSCAN, regras de associação."
   ]
  },
  {
   "cell_type": "code",
   "execution_count": null,
   "id": "0e8892c0",
   "metadata": {},
   "outputs": [],
   "source": [
    "# Seu código aqui\n"
   ]
  },
  {
   "cell_type": "markdown",
   "id": "b7ae6822",
   "metadata": {},
   "source": [
    "**Exercício 126**  \n",
    "Dica: Trabalhe com colunas de tempo e localização para mapas, UMAP+HDBSCAN, regras de associação."
   ]
  },
  {
   "cell_type": "code",
   "execution_count": null,
   "id": "89bf54f1",
   "metadata": {},
   "outputs": [],
   "source": [
    "# Seu código aqui\n"
   ]
  },
  {
   "cell_type": "markdown",
   "id": "957ffad8",
   "metadata": {},
   "source": [
    "**Exercício 127**  \n",
    "Dica: Trabalhe com colunas de tempo e localização para mapas, UMAP+HDBSCAN, regras de associação."
   ]
  },
  {
   "cell_type": "code",
   "execution_count": null,
   "id": "88000651",
   "metadata": {},
   "outputs": [],
   "source": [
    "# Seu código aqui\n"
   ]
  },
  {
   "cell_type": "markdown",
   "id": "9d2d84e3",
   "metadata": {},
   "source": [
    "**Exercício 128**  \n",
    "Dica: Trabalhe com colunas de tempo e localização para mapas, UMAP+HDBSCAN, regras de associação."
   ]
  },
  {
   "cell_type": "code",
   "execution_count": null,
   "id": "d27d3263",
   "metadata": {},
   "outputs": [],
   "source": [
    "# Seu código aqui\n"
   ]
  },
  {
   "cell_type": "markdown",
   "id": "1d527912",
   "metadata": {},
   "source": [
    "**Exercício 129**  \n",
    "Dica: Trabalhe com colunas de tempo e localização para mapas, UMAP+HDBSCAN, regras de associação."
   ]
  },
  {
   "cell_type": "code",
   "execution_count": null,
   "id": "d6888b9a",
   "metadata": {},
   "outputs": [],
   "source": [
    "# Seu código aqui\n"
   ]
  },
  {
   "cell_type": "markdown",
   "id": "1eae8402",
   "metadata": {},
   "source": [
    "**Exercício 130**  \n",
    "Dica: Trabalhe com colunas de tempo e localização para mapas, UMAP+HDBSCAN, regras de associação."
   ]
  },
  {
   "cell_type": "code",
   "execution_count": null,
   "id": "c4dfa834",
   "metadata": {},
   "outputs": [],
   "source": [
    "# Seu código aqui\n"
   ]
  },
  {
   "cell_type": "markdown",
   "id": "89278e67",
   "metadata": {},
   "source": [
    "**Exercício 131**  \n",
    "Dica: Trabalhe com colunas de tempo e localização para mapas, UMAP+HDBSCAN, regras de associação."
   ]
  },
  {
   "cell_type": "code",
   "execution_count": null,
   "id": "ab16b6b7",
   "metadata": {},
   "outputs": [],
   "source": [
    "# Seu código aqui\n"
   ]
  },
  {
   "cell_type": "markdown",
   "id": "4ed09c20",
   "metadata": {},
   "source": [
    "**Exercício 132**  \n",
    "Dica: Trabalhe com colunas de tempo e localização para mapas, UMAP+HDBSCAN, regras de associação."
   ]
  },
  {
   "cell_type": "code",
   "execution_count": null,
   "id": "5fb7e327",
   "metadata": {},
   "outputs": [],
   "source": [
    "# Seu código aqui\n"
   ]
  },
  {
   "cell_type": "markdown",
   "id": "9461ea2c",
   "metadata": {},
   "source": [
    "**Exercício 133**  \n",
    "Dica: Trabalhe com colunas de tempo e localização para mapas, UMAP+HDBSCAN, regras de associação."
   ]
  },
  {
   "cell_type": "code",
   "execution_count": null,
   "id": "bd9505d0",
   "metadata": {},
   "outputs": [],
   "source": [
    "# Seu código aqui\n"
   ]
  },
  {
   "cell_type": "markdown",
   "id": "0698ba1a",
   "metadata": {},
   "source": [
    "**Exercício 134**  \n",
    "Dica: Trabalhe com colunas de tempo e localização para mapas, UMAP+HDBSCAN, regras de associação."
   ]
  },
  {
   "cell_type": "code",
   "execution_count": null,
   "id": "728435ed",
   "metadata": {},
   "outputs": [],
   "source": [
    "# Seu código aqui\n"
   ]
  },
  {
   "cell_type": "markdown",
   "id": "078ec3f9",
   "metadata": {},
   "source": [
    "**Exercício 135**  \n",
    "Dica: Trabalhe com colunas de tempo e localização para mapas, UMAP+HDBSCAN, regras de associação."
   ]
  },
  {
   "cell_type": "code",
   "execution_count": null,
   "id": "02aa93b5",
   "metadata": {},
   "outputs": [],
   "source": [
    "# Seu código aqui\n"
   ]
  },
  {
   "cell_type": "markdown",
   "id": "adc28f55",
   "metadata": {},
   "source": [
    "**Exercício 136**  \n",
    "Dica: Trabalhe com colunas de tempo e localização para mapas, UMAP+HDBSCAN, regras de associação."
   ]
  },
  {
   "cell_type": "code",
   "execution_count": null,
   "id": "06040d4a",
   "metadata": {},
   "outputs": [],
   "source": [
    "# Seu código aqui\n"
   ]
  },
  {
   "cell_type": "markdown",
   "id": "6c343178",
   "metadata": {},
   "source": [
    "**Exercício 137**  \n",
    "Dica: Trabalhe com colunas de tempo e localização para mapas, UMAP+HDBSCAN, regras de associação."
   ]
  },
  {
   "cell_type": "code",
   "execution_count": null,
   "id": "44ef630f",
   "metadata": {},
   "outputs": [],
   "source": [
    "# Seu código aqui\n"
   ]
  },
  {
   "cell_type": "markdown",
   "id": "0d2c4ae3",
   "metadata": {},
   "source": [
    "**Exercício 138**  \n",
    "Dica: Trabalhe com colunas de tempo e localização para mapas, UMAP+HDBSCAN, regras de associação."
   ]
  },
  {
   "cell_type": "code",
   "execution_count": null,
   "id": "72fbf0d8",
   "metadata": {},
   "outputs": [],
   "source": [
    "# Seu código aqui\n"
   ]
  },
  {
   "cell_type": "markdown",
   "id": "8f62daa1",
   "metadata": {},
   "source": [
    "**Exercício 139**  \n",
    "Dica: Trabalhe com colunas de tempo e localização para mapas, UMAP+HDBSCAN, regras de associação."
   ]
  },
  {
   "cell_type": "code",
   "execution_count": null,
   "id": "23877067",
   "metadata": {},
   "outputs": [],
   "source": [
    "# Seu código aqui\n"
   ]
  },
  {
   "cell_type": "markdown",
   "id": "047542af",
   "metadata": {},
   "source": [
    "**Exercício 140**  \n",
    "Dica: Trabalhe com colunas de tempo e localização para mapas, UMAP+HDBSCAN, regras de associação."
   ]
  },
  {
   "cell_type": "code",
   "execution_count": null,
   "id": "132791f2",
   "metadata": {},
   "outputs": [],
   "source": [
    "# Seu código aqui\n"
   ]
  },
  {
   "cell_type": "markdown",
   "id": "16635721",
   "metadata": {},
   "source": [
    "**Exercício 141**  \n",
    "Dica: Trabalhe com colunas de tempo e localização para mapas, UMAP+HDBSCAN, regras de associação."
   ]
  },
  {
   "cell_type": "code",
   "execution_count": null,
   "id": "d67baa00",
   "metadata": {},
   "outputs": [],
   "source": [
    "# Seu código aqui\n"
   ]
  },
  {
   "cell_type": "markdown",
   "id": "d3ffeecf",
   "metadata": {},
   "source": [
    "**Exercício 142**  \n",
    "Dica: Trabalhe com colunas de tempo e localização para mapas, UMAP+HDBSCAN, regras de associação."
   ]
  },
  {
   "cell_type": "code",
   "execution_count": null,
   "id": "044fc57e",
   "metadata": {},
   "outputs": [],
   "source": [
    "# Seu código aqui\n"
   ]
  },
  {
   "cell_type": "markdown",
   "id": "b3f4d193",
   "metadata": {},
   "source": [
    "**Exercício 143**  \n",
    "Dica: Trabalhe com colunas de tempo e localização para mapas, UMAP+HDBSCAN, regras de associação."
   ]
  },
  {
   "cell_type": "code",
   "execution_count": null,
   "id": "67135d88",
   "metadata": {},
   "outputs": [],
   "source": [
    "# Seu código aqui\n"
   ]
  },
  {
   "cell_type": "markdown",
   "id": "120631db",
   "metadata": {},
   "source": [
    "**Exercício 144**  \n",
    "Dica: Trabalhe com colunas de tempo e localização para mapas, UMAP+HDBSCAN, regras de associação."
   ]
  },
  {
   "cell_type": "code",
   "execution_count": null,
   "id": "c8e5faa3",
   "metadata": {},
   "outputs": [],
   "source": [
    "# Seu código aqui\n"
   ]
  },
  {
   "cell_type": "markdown",
   "id": "1633a6b3",
   "metadata": {},
   "source": [
    "**Exercício 145**  \n",
    "Dica: Trabalhe com colunas de tempo e localização para mapas, UMAP+HDBSCAN, regras de associação."
   ]
  },
  {
   "cell_type": "code",
   "execution_count": null,
   "id": "b7d719d7",
   "metadata": {},
   "outputs": [],
   "source": [
    "# Seu código aqui\n"
   ]
  },
  {
   "cell_type": "markdown",
   "id": "b16a0932",
   "metadata": {},
   "source": [
    "**Exercício 146**  \n",
    "Dica: Trabalhe com colunas de tempo e localização para mapas, UMAP+HDBSCAN, regras de associação."
   ]
  },
  {
   "cell_type": "code",
   "execution_count": null,
   "id": "49e2ed10",
   "metadata": {},
   "outputs": [],
   "source": [
    "# Seu código aqui\n"
   ]
  },
  {
   "cell_type": "markdown",
   "id": "abc034dc",
   "metadata": {},
   "source": [
    "**Exercício 147**  \n",
    "Dica: Trabalhe com colunas de tempo e localização para mapas, UMAP+HDBSCAN, regras de associação."
   ]
  },
  {
   "cell_type": "code",
   "execution_count": null,
   "id": "d0193cbc",
   "metadata": {},
   "outputs": [],
   "source": [
    "# Seu código aqui\n"
   ]
  },
  {
   "cell_type": "markdown",
   "id": "4635df37",
   "metadata": {},
   "source": [
    "**Exercício 148**  \n",
    "Dica: Trabalhe com colunas de tempo e localização para mapas, UMAP+HDBSCAN, regras de associação."
   ]
  },
  {
   "cell_type": "code",
   "execution_count": null,
   "id": "96e3f4d5",
   "metadata": {},
   "outputs": [],
   "source": [
    "# Seu código aqui\n"
   ]
  },
  {
   "cell_type": "markdown",
   "id": "847c2538",
   "metadata": {},
   "source": [
    "**Exercício 149**  \n",
    "Dica: Trabalhe com colunas de tempo e localização para mapas, UMAP+HDBSCAN, regras de associação."
   ]
  },
  {
   "cell_type": "code",
   "execution_count": null,
   "id": "f26271c6",
   "metadata": {},
   "outputs": [],
   "source": [
    "# Seu código aqui\n"
   ]
  },
  {
   "cell_type": "markdown",
   "id": "914a13ec",
   "metadata": {},
   "source": [
    "**Exercício 150**  \n",
    "Dica: Trabalhe com colunas de tempo e localização para mapas, UMAP+HDBSCAN, regras de associação."
   ]
  },
  {
   "cell_type": "code",
   "execution_count": null,
   "id": "f4023946",
   "metadata": {},
   "outputs": [],
   "source": [
    "# Seu código aqui\n"
   ]
  },
  {
   "cell_type": "markdown",
   "id": "9fb7818b",
   "metadata": {},
   "source": [
    "**Exercício 151**  \n",
    "Dica: Trabalhe com colunas de tempo e localização para mapas, UMAP+HDBSCAN, regras de associação."
   ]
  },
  {
   "cell_type": "code",
   "execution_count": null,
   "id": "64f5928d",
   "metadata": {},
   "outputs": [],
   "source": [
    "# Seu código aqui\n"
   ]
  },
  {
   "cell_type": "markdown",
   "id": "cb2e20a2",
   "metadata": {},
   "source": [
    "**Exercício 152**  \n",
    "Dica: Trabalhe com colunas de tempo e localização para mapas, UMAP+HDBSCAN, regras de associação."
   ]
  },
  {
   "cell_type": "code",
   "execution_count": null,
   "id": "63b00a9a",
   "metadata": {},
   "outputs": [],
   "source": [
    "# Seu código aqui\n"
   ]
  },
  {
   "cell_type": "markdown",
   "id": "63ee8338",
   "metadata": {},
   "source": [
    "**Exercício 153**  \n",
    "Dica: Trabalhe com colunas de tempo e localização para mapas, UMAP+HDBSCAN, regras de associação."
   ]
  },
  {
   "cell_type": "code",
   "execution_count": null,
   "id": "7d55c906",
   "metadata": {},
   "outputs": [],
   "source": [
    "# Seu código aqui\n"
   ]
  },
  {
   "cell_type": "markdown",
   "id": "254e3d92",
   "metadata": {},
   "source": [
    "**Exercício 154**  \n",
    "Dica: Trabalhe com colunas de tempo e localização para mapas, UMAP+HDBSCAN, regras de associação."
   ]
  },
  {
   "cell_type": "code",
   "execution_count": null,
   "id": "8891108a",
   "metadata": {},
   "outputs": [],
   "source": [
    "# Seu código aqui\n"
   ]
  },
  {
   "cell_type": "markdown",
   "id": "40228819",
   "metadata": {},
   "source": [
    "**Exercício 155**  \n",
    "Dica: Trabalhe com colunas de tempo e localização para mapas, UMAP+HDBSCAN, regras de associação."
   ]
  },
  {
   "cell_type": "code",
   "execution_count": null,
   "id": "1ff6ddba",
   "metadata": {},
   "outputs": [],
   "source": [
    "# Seu código aqui\n"
   ]
  },
  {
   "cell_type": "markdown",
   "id": "b43bc441",
   "metadata": {},
   "source": [
    "**Exercício 156**  \n",
    "Dica: Trabalhe com colunas de tempo e localização para mapas, UMAP+HDBSCAN, regras de associação."
   ]
  },
  {
   "cell_type": "code",
   "execution_count": null,
   "id": "a932bdeb",
   "metadata": {},
   "outputs": [],
   "source": [
    "# Seu código aqui\n"
   ]
  },
  {
   "cell_type": "markdown",
   "id": "1cf845f8",
   "metadata": {},
   "source": [
    "**Exercício 157**  \n",
    "Dica: Trabalhe com colunas de tempo e localização para mapas, UMAP+HDBSCAN, regras de associação."
   ]
  },
  {
   "cell_type": "code",
   "execution_count": null,
   "id": "76b51d4d",
   "metadata": {},
   "outputs": [],
   "source": [
    "# Seu código aqui\n"
   ]
  },
  {
   "cell_type": "markdown",
   "id": "566207f8",
   "metadata": {},
   "source": [
    "**Exercício 158**  \n",
    "Dica: Trabalhe com colunas de tempo e localização para mapas, UMAP+HDBSCAN, regras de associação."
   ]
  },
  {
   "cell_type": "code",
   "execution_count": null,
   "id": "27772744",
   "metadata": {},
   "outputs": [],
   "source": [
    "# Seu código aqui\n"
   ]
  },
  {
   "cell_type": "markdown",
   "id": "c16fa3bb",
   "metadata": {},
   "source": [
    "**Exercício 159**  \n",
    "Dica: Trabalhe com colunas de tempo e localização para mapas, UMAP+HDBSCAN, regras de associação."
   ]
  },
  {
   "cell_type": "code",
   "execution_count": null,
   "id": "c247c386",
   "metadata": {},
   "outputs": [],
   "source": [
    "# Seu código aqui\n"
   ]
  },
  {
   "cell_type": "markdown",
   "id": "f537099b",
   "metadata": {},
   "source": [
    "**Exercício 160**  \n",
    "Dica: Trabalhe com colunas de tempo e localização para mapas, UMAP+HDBSCAN, regras de associação."
   ]
  },
  {
   "cell_type": "code",
   "execution_count": null,
   "id": "fba6b7ef",
   "metadata": {},
   "outputs": [],
   "source": [
    "# Seu código aqui\n"
   ]
  },
  {
   "cell_type": "markdown",
   "id": "658ab6d2",
   "metadata": {},
   "source": [
    "**Exercício 161**  \n",
    "Dica: Trabalhe com colunas de tempo e localização para mapas, UMAP+HDBSCAN, regras de associação."
   ]
  },
  {
   "cell_type": "code",
   "execution_count": null,
   "id": "8f4d3092",
   "metadata": {},
   "outputs": [],
   "source": [
    "# Seu código aqui\n"
   ]
  },
  {
   "cell_type": "markdown",
   "id": "19842387",
   "metadata": {},
   "source": [
    "**Exercício 162**  \n",
    "Dica: Trabalhe com colunas de tempo e localização para mapas, UMAP+HDBSCAN, regras de associação."
   ]
  },
  {
   "cell_type": "code",
   "execution_count": null,
   "id": "3d74b42e",
   "metadata": {},
   "outputs": [],
   "source": [
    "# Seu código aqui\n"
   ]
  },
  {
   "cell_type": "markdown",
   "id": "7767faa1",
   "metadata": {},
   "source": [
    "**Exercício 163**  \n",
    "Dica: Trabalhe com colunas de tempo e localização para mapas, UMAP+HDBSCAN, regras de associação."
   ]
  },
  {
   "cell_type": "code",
   "execution_count": null,
   "id": "95763348",
   "metadata": {},
   "outputs": [],
   "source": [
    "# Seu código aqui\n"
   ]
  },
  {
   "cell_type": "markdown",
   "id": "17ccc370",
   "metadata": {},
   "source": [
    "**Exercício 164**  \n",
    "Dica: Trabalhe com colunas de tempo e localização para mapas, UMAP+HDBSCAN, regras de associação."
   ]
  },
  {
   "cell_type": "code",
   "execution_count": null,
   "id": "c834e13c",
   "metadata": {},
   "outputs": [],
   "source": [
    "# Seu código aqui\n"
   ]
  },
  {
   "cell_type": "markdown",
   "id": "86111af6",
   "metadata": {},
   "source": [
    "**Exercício 165**  \n",
    "Dica: Trabalhe com colunas de tempo e localização para mapas, UMAP+HDBSCAN, regras de associação."
   ]
  },
  {
   "cell_type": "code",
   "execution_count": null,
   "id": "bbb92c74",
   "metadata": {},
   "outputs": [],
   "source": [
    "# Seu código aqui\n"
   ]
  },
  {
   "cell_type": "markdown",
   "id": "08d67777",
   "metadata": {},
   "source": [
    "**Exercício 166**  \n",
    "Dica: Trabalhe com colunas de tempo e localização para mapas, UMAP+HDBSCAN, regras de associação."
   ]
  },
  {
   "cell_type": "code",
   "execution_count": null,
   "id": "4da71e92",
   "metadata": {},
   "outputs": [],
   "source": [
    "# Seu código aqui\n"
   ]
  },
  {
   "cell_type": "markdown",
   "id": "ee310175",
   "metadata": {},
   "source": [
    "**Exercício 167**  \n",
    "Dica: Trabalhe com colunas de tempo e localização para mapas, UMAP+HDBSCAN, regras de associação."
   ]
  },
  {
   "cell_type": "code",
   "execution_count": null,
   "id": "3dc9a9a8",
   "metadata": {},
   "outputs": [],
   "source": [
    "# Seu código aqui\n"
   ]
  },
  {
   "cell_type": "markdown",
   "id": "f6407d2d",
   "metadata": {},
   "source": [
    "**Exercício 168**  \n",
    "Dica: Trabalhe com colunas de tempo e localização para mapas, UMAP+HDBSCAN, regras de associação."
   ]
  },
  {
   "cell_type": "code",
   "execution_count": null,
   "id": "0294debf",
   "metadata": {},
   "outputs": [],
   "source": [
    "# Seu código aqui\n"
   ]
  },
  {
   "cell_type": "markdown",
   "id": "fd2836f7",
   "metadata": {},
   "source": [
    "**Exercício 169**  \n",
    "Dica: Trabalhe com colunas de tempo e localização para mapas, UMAP+HDBSCAN, regras de associação."
   ]
  },
  {
   "cell_type": "code",
   "execution_count": null,
   "id": "f0c9d49b",
   "metadata": {},
   "outputs": [],
   "source": [
    "# Seu código aqui\n"
   ]
  },
  {
   "cell_type": "markdown",
   "id": "855222b6",
   "metadata": {},
   "source": [
    "**Exercício 170**  \n",
    "Dica: Trabalhe com colunas de tempo e localização para mapas, UMAP+HDBSCAN, regras de associação."
   ]
  },
  {
   "cell_type": "code",
   "execution_count": null,
   "id": "9c20990a",
   "metadata": {},
   "outputs": [],
   "source": [
    "# Seu código aqui\n"
   ]
  },
  {
   "cell_type": "markdown",
   "id": "37bd1e13",
   "metadata": {},
   "source": [
    "**Exercício 171**  \n",
    "Dica: Trabalhe com colunas de tempo e localização para mapas, UMAP+HDBSCAN, regras de associação."
   ]
  },
  {
   "cell_type": "code",
   "execution_count": null,
   "id": "5bb5141c",
   "metadata": {},
   "outputs": [],
   "source": [
    "# Seu código aqui\n"
   ]
  },
  {
   "cell_type": "markdown",
   "id": "a70ba49a",
   "metadata": {},
   "source": [
    "**Exercício 172**  \n",
    "Dica: Trabalhe com colunas de tempo e localização para mapas, UMAP+HDBSCAN, regras de associação."
   ]
  },
  {
   "cell_type": "code",
   "execution_count": null,
   "id": "ae757867",
   "metadata": {},
   "outputs": [],
   "source": [
    "# Seu código aqui\n"
   ]
  },
  {
   "cell_type": "markdown",
   "id": "fd5020f8",
   "metadata": {},
   "source": [
    "**Exercício 173**  \n",
    "Dica: Trabalhe com colunas de tempo e localização para mapas, UMAP+HDBSCAN, regras de associação."
   ]
  },
  {
   "cell_type": "code",
   "execution_count": null,
   "id": "46954bdf",
   "metadata": {},
   "outputs": [],
   "source": [
    "# Seu código aqui\n"
   ]
  },
  {
   "cell_type": "markdown",
   "id": "421a75a5",
   "metadata": {},
   "source": [
    "**Exercício 174**  \n",
    "Dica: Trabalhe com colunas de tempo e localização para mapas, UMAP+HDBSCAN, regras de associação."
   ]
  },
  {
   "cell_type": "code",
   "execution_count": null,
   "id": "ba34da1c",
   "metadata": {},
   "outputs": [],
   "source": [
    "# Seu código aqui\n"
   ]
  },
  {
   "cell_type": "markdown",
   "id": "d858903e",
   "metadata": {},
   "source": [
    "**Exercício 175**  \n",
    "Dica: Trabalhe com colunas de tempo e localização para mapas, UMAP+HDBSCAN, regras de associação."
   ]
  },
  {
   "cell_type": "code",
   "execution_count": null,
   "id": "6e753e09",
   "metadata": {},
   "outputs": [],
   "source": [
    "# Seu código aqui\n"
   ]
  },
  {
   "cell_type": "markdown",
   "id": "4f95c062",
   "metadata": {},
   "source": [
    "**Exercício 176**  \n",
    "Dica: Trabalhe com colunas de tempo e localização para mapas, UMAP+HDBSCAN, regras de associação."
   ]
  },
  {
   "cell_type": "code",
   "execution_count": null,
   "id": "61263771",
   "metadata": {},
   "outputs": [],
   "source": [
    "# Seu código aqui\n"
   ]
  },
  {
   "cell_type": "markdown",
   "id": "82ba62bf",
   "metadata": {},
   "source": [
    "**Exercício 177**  \n",
    "Dica: Trabalhe com colunas de tempo e localização para mapas, UMAP+HDBSCAN, regras de associação."
   ]
  },
  {
   "cell_type": "code",
   "execution_count": null,
   "id": "98fec788",
   "metadata": {},
   "outputs": [],
   "source": [
    "# Seu código aqui\n"
   ]
  },
  {
   "cell_type": "markdown",
   "id": "e1f83aa6",
   "metadata": {},
   "source": [
    "**Exercício 178**  \n",
    "Dica: Trabalhe com colunas de tempo e localização para mapas, UMAP+HDBSCAN, regras de associação."
   ]
  },
  {
   "cell_type": "code",
   "execution_count": null,
   "id": "af8ba3c7",
   "metadata": {},
   "outputs": [],
   "source": [
    "# Seu código aqui\n"
   ]
  },
  {
   "cell_type": "markdown",
   "id": "38f8067e",
   "metadata": {},
   "source": [
    "**Exercício 179**  \n",
    "Dica: Trabalhe com colunas de tempo e localização para mapas, UMAP+HDBSCAN, regras de associação."
   ]
  },
  {
   "cell_type": "code",
   "execution_count": null,
   "id": "b1d50969",
   "metadata": {},
   "outputs": [],
   "source": [
    "# Seu código aqui\n"
   ]
  },
  {
   "cell_type": "markdown",
   "id": "0d2c527e",
   "metadata": {},
   "source": [
    "**Exercício 180**  \n",
    "Dica: Trabalhe com colunas de tempo e localização para mapas, UMAP+HDBSCAN, regras de associação."
   ]
  },
  {
   "cell_type": "code",
   "execution_count": null,
   "id": "209481c5",
   "metadata": {},
   "outputs": [],
   "source": [
    "# Seu código aqui\n"
   ]
  },
  {
   "cell_type": "markdown",
   "id": "0b0dca1f",
   "metadata": {},
   "source": [
    "**Exercício 181**  \n",
    "Dica: Trabalhe com colunas de tempo e localização para mapas, UMAP+HDBSCAN, regras de associação."
   ]
  },
  {
   "cell_type": "code",
   "execution_count": null,
   "id": "ddc1d980",
   "metadata": {},
   "outputs": [],
   "source": [
    "# Seu código aqui\n"
   ]
  },
  {
   "cell_type": "markdown",
   "id": "e3eb99ff",
   "metadata": {},
   "source": [
    "**Exercício 182**  \n",
    "Dica: Trabalhe com colunas de tempo e localização para mapas, UMAP+HDBSCAN, regras de associação."
   ]
  },
  {
   "cell_type": "code",
   "execution_count": null,
   "id": "3f91776e",
   "metadata": {},
   "outputs": [],
   "source": [
    "# Seu código aqui\n"
   ]
  },
  {
   "cell_type": "markdown",
   "id": "4e894041",
   "metadata": {},
   "source": [
    "**Exercício 183**  \n",
    "Dica: Trabalhe com colunas de tempo e localização para mapas, UMAP+HDBSCAN, regras de associação."
   ]
  },
  {
   "cell_type": "code",
   "execution_count": null,
   "id": "b263bb0e",
   "metadata": {},
   "outputs": [],
   "source": [
    "# Seu código aqui\n"
   ]
  },
  {
   "cell_type": "markdown",
   "id": "d0654eb7",
   "metadata": {},
   "source": [
    "**Exercício 184**  \n",
    "Dica: Trabalhe com colunas de tempo e localização para mapas, UMAP+HDBSCAN, regras de associação."
   ]
  },
  {
   "cell_type": "code",
   "execution_count": null,
   "id": "94e4e7e7",
   "metadata": {},
   "outputs": [],
   "source": [
    "# Seu código aqui\n"
   ]
  },
  {
   "cell_type": "markdown",
   "id": "211898c3",
   "metadata": {},
   "source": [
    "**Exercício 185**  \n",
    "Dica: Trabalhe com colunas de tempo e localização para mapas, UMAP+HDBSCAN, regras de associação."
   ]
  },
  {
   "cell_type": "code",
   "execution_count": null,
   "id": "c2788360",
   "metadata": {},
   "outputs": [],
   "source": [
    "# Seu código aqui\n"
   ]
  },
  {
   "cell_type": "markdown",
   "id": "c3c85082",
   "metadata": {},
   "source": [
    "**Exercício 186**  \n",
    "Dica: Trabalhe com colunas de tempo e localização para mapas, UMAP+HDBSCAN, regras de associação."
   ]
  },
  {
   "cell_type": "code",
   "execution_count": null,
   "id": "a3102380",
   "metadata": {},
   "outputs": [],
   "source": [
    "# Seu código aqui\n"
   ]
  },
  {
   "cell_type": "markdown",
   "id": "2d2ad685",
   "metadata": {},
   "source": [
    "**Exercício 187**  \n",
    "Dica: Trabalhe com colunas de tempo e localização para mapas, UMAP+HDBSCAN, regras de associação."
   ]
  },
  {
   "cell_type": "code",
   "execution_count": null,
   "id": "ca29ce88",
   "metadata": {},
   "outputs": [],
   "source": [
    "# Seu código aqui\n"
   ]
  },
  {
   "cell_type": "markdown",
   "id": "6b13881f",
   "metadata": {},
   "source": [
    "**Exercício 188**  \n",
    "Dica: Trabalhe com colunas de tempo e localização para mapas, UMAP+HDBSCAN, regras de associação."
   ]
  },
  {
   "cell_type": "code",
   "execution_count": null,
   "id": "e643a3e8",
   "metadata": {},
   "outputs": [],
   "source": [
    "# Seu código aqui\n"
   ]
  },
  {
   "cell_type": "markdown",
   "id": "c4259e03",
   "metadata": {},
   "source": [
    "**Exercício 189**  \n",
    "Dica: Trabalhe com colunas de tempo e localização para mapas, UMAP+HDBSCAN, regras de associação."
   ]
  },
  {
   "cell_type": "code",
   "execution_count": null,
   "id": "85097d20",
   "metadata": {},
   "outputs": [],
   "source": [
    "# Seu código aqui\n"
   ]
  },
  {
   "cell_type": "markdown",
   "id": "60d8c3c6",
   "metadata": {},
   "source": [
    "**Exercício 190**  \n",
    "Dica: Trabalhe com colunas de tempo e localização para mapas, UMAP+HDBSCAN, regras de associação."
   ]
  },
  {
   "cell_type": "code",
   "execution_count": null,
   "id": "e3427b76",
   "metadata": {},
   "outputs": [],
   "source": [
    "# Seu código aqui\n"
   ]
  },
  {
   "cell_type": "markdown",
   "id": "52d0e2de",
   "metadata": {},
   "source": [
    "**Exercício 191**  \n",
    "Dica: Trabalhe com colunas de tempo e localização para mapas, UMAP+HDBSCAN, regras de associação."
   ]
  },
  {
   "cell_type": "code",
   "execution_count": null,
   "id": "c9b535cc",
   "metadata": {},
   "outputs": [],
   "source": [
    "# Seu código aqui\n"
   ]
  },
  {
   "cell_type": "markdown",
   "id": "70eb6481",
   "metadata": {},
   "source": [
    "**Exercício 192**  \n",
    "Dica: Trabalhe com colunas de tempo e localização para mapas, UMAP+HDBSCAN, regras de associação."
   ]
  },
  {
   "cell_type": "code",
   "execution_count": null,
   "id": "ddc86b79",
   "metadata": {},
   "outputs": [],
   "source": [
    "# Seu código aqui\n"
   ]
  },
  {
   "cell_type": "markdown",
   "id": "6454744d",
   "metadata": {},
   "source": [
    "**Exercício 193**  \n",
    "Dica: Trabalhe com colunas de tempo e localização para mapas, UMAP+HDBSCAN, regras de associação."
   ]
  },
  {
   "cell_type": "code",
   "execution_count": null,
   "id": "ba1fd2d9",
   "metadata": {},
   "outputs": [],
   "source": [
    "# Seu código aqui\n"
   ]
  },
  {
   "cell_type": "markdown",
   "id": "053f277b",
   "metadata": {},
   "source": [
    "**Exercício 194**  \n",
    "Dica: Trabalhe com colunas de tempo e localização para mapas, UMAP+HDBSCAN, regras de associação."
   ]
  },
  {
   "cell_type": "code",
   "execution_count": null,
   "id": "6ecf33d8",
   "metadata": {},
   "outputs": [],
   "source": [
    "# Seu código aqui\n"
   ]
  },
  {
   "cell_type": "markdown",
   "id": "d6876c9a",
   "metadata": {},
   "source": [
    "**Exercício 195**  \n",
    "Dica: Trabalhe com colunas de tempo e localização para mapas, UMAP+HDBSCAN, regras de associação."
   ]
  },
  {
   "cell_type": "code",
   "execution_count": null,
   "id": "ef2fbc53",
   "metadata": {},
   "outputs": [],
   "source": [
    "# Seu código aqui\n"
   ]
  },
  {
   "cell_type": "markdown",
   "id": "6c49ac84",
   "metadata": {},
   "source": [
    "**Exercício 196**  \n",
    "Dica: Trabalhe com colunas de tempo e localização para mapas, UMAP+HDBSCAN, regras de associação."
   ]
  },
  {
   "cell_type": "code",
   "execution_count": null,
   "id": "ac8c9b81",
   "metadata": {},
   "outputs": [],
   "source": [
    "# Seu código aqui\n"
   ]
  },
  {
   "cell_type": "markdown",
   "id": "6059cf97",
   "metadata": {},
   "source": [
    "**Exercício 197**  \n",
    "Dica: Trabalhe com colunas de tempo e localização para mapas, UMAP+HDBSCAN, regras de associação."
   ]
  },
  {
   "cell_type": "code",
   "execution_count": null,
   "id": "2d472279",
   "metadata": {},
   "outputs": [],
   "source": [
    "# Seu código aqui\n"
   ]
  },
  {
   "cell_type": "markdown",
   "id": "d9d10819",
   "metadata": {},
   "source": [
    "**Exercício 198**  \n",
    "Dica: Trabalhe com colunas de tempo e localização para mapas, UMAP+HDBSCAN, regras de associação."
   ]
  },
  {
   "cell_type": "code",
   "execution_count": null,
   "id": "e077fe40",
   "metadata": {},
   "outputs": [],
   "source": [
    "# Seu código aqui\n"
   ]
  },
  {
   "cell_type": "markdown",
   "id": "bdbee89b",
   "metadata": {},
   "source": [
    "**Exercício 199**  \n",
    "Dica: Trabalhe com colunas de tempo e localização para mapas, UMAP+HDBSCAN, regras de associação."
   ]
  },
  {
   "cell_type": "code",
   "execution_count": null,
   "id": "fb76c2e4",
   "metadata": {},
   "outputs": [],
   "source": [
    "# Seu código aqui\n"
   ]
  },
  {
   "cell_type": "markdown",
   "id": "eca6b3b1",
   "metadata": {},
   "source": [
    "**Exercício 200**  \n",
    "Dica: Trabalhe com colunas de tempo e localização para mapas, UMAP+HDBSCAN, regras de associação."
   ]
  },
  {
   "cell_type": "code",
   "execution_count": null,
   "id": "4cf1864d",
   "metadata": {},
   "outputs": [],
   "source": [
    "# Seu código aqui\n"
   ]
  },
  {
   "cell_type": "markdown",
   "id": "8d8cffa6",
   "metadata": {},
   "source": [
    "**Exercício 201**  \n",
    "Dica: Trabalhe com colunas de tempo e localização para mapas, UMAP+HDBSCAN, regras de associação."
   ]
  },
  {
   "cell_type": "code",
   "execution_count": null,
   "id": "7c4768b4",
   "metadata": {},
   "outputs": [],
   "source": [
    "# Seu código aqui\n"
   ]
  },
  {
   "cell_type": "markdown",
   "id": "d783af0b",
   "metadata": {},
   "source": [
    "**Exercício 202**  \n",
    "Dica: Trabalhe com colunas de tempo e localização para mapas, UMAP+HDBSCAN, regras de associação."
   ]
  },
  {
   "cell_type": "code",
   "execution_count": null,
   "id": "d7d66b6a",
   "metadata": {},
   "outputs": [],
   "source": [
    "# Seu código aqui\n"
   ]
  },
  {
   "cell_type": "markdown",
   "id": "2bfc50db",
   "metadata": {},
   "source": [
    "**Exercício 203**  \n",
    "Dica: Trabalhe com colunas de tempo e localização para mapas, UMAP+HDBSCAN, regras de associação."
   ]
  },
  {
   "cell_type": "code",
   "execution_count": null,
   "id": "9c66172a",
   "metadata": {},
   "outputs": [],
   "source": [
    "# Seu código aqui\n"
   ]
  },
  {
   "cell_type": "markdown",
   "id": "b487374e",
   "metadata": {},
   "source": [
    "**Exercício 204**  \n",
    "Dica: Trabalhe com colunas de tempo e localização para mapas, UMAP+HDBSCAN, regras de associação."
   ]
  },
  {
   "cell_type": "code",
   "execution_count": null,
   "id": "162af2cc",
   "metadata": {},
   "outputs": [],
   "source": [
    "# Seu código aqui\n"
   ]
  },
  {
   "cell_type": "markdown",
   "id": "3c8d25cc",
   "metadata": {},
   "source": [
    "**Exercício 205**  \n",
    "Dica: Trabalhe com colunas de tempo e localização para mapas, UMAP+HDBSCAN, regras de associação."
   ]
  },
  {
   "cell_type": "code",
   "execution_count": null,
   "id": "69e96fe7",
   "metadata": {},
   "outputs": [],
   "source": [
    "# Seu código aqui\n"
   ]
  },
  {
   "cell_type": "markdown",
   "id": "42a39231",
   "metadata": {},
   "source": [
    "**Exercício 206**  \n",
    "Dica: Trabalhe com colunas de tempo e localização para mapas, UMAP+HDBSCAN, regras de associação."
   ]
  },
  {
   "cell_type": "code",
   "execution_count": null,
   "id": "be8e3976",
   "metadata": {},
   "outputs": [],
   "source": [
    "# Seu código aqui\n"
   ]
  },
  {
   "cell_type": "markdown",
   "id": "84c6d1b1",
   "metadata": {},
   "source": [
    "**Exercício 207**  \n",
    "Dica: Trabalhe com colunas de tempo e localização para mapas, UMAP+HDBSCAN, regras de associação."
   ]
  },
  {
   "cell_type": "code",
   "execution_count": null,
   "id": "deea324f",
   "metadata": {},
   "outputs": [],
   "source": [
    "# Seu código aqui\n"
   ]
  },
  {
   "cell_type": "markdown",
   "id": "68a9d97b",
   "metadata": {},
   "source": [
    "**Exercício 208**  \n",
    "Dica: Trabalhe com colunas de tempo e localização para mapas, UMAP+HDBSCAN, regras de associação."
   ]
  },
  {
   "cell_type": "code",
   "execution_count": null,
   "id": "1e031113",
   "metadata": {},
   "outputs": [],
   "source": [
    "# Seu código aqui\n"
   ]
  },
  {
   "cell_type": "markdown",
   "id": "fd64501c",
   "metadata": {},
   "source": [
    "**Exercício 209**  \n",
    "Dica: Trabalhe com colunas de tempo e localização para mapas, UMAP+HDBSCAN, regras de associação."
   ]
  },
  {
   "cell_type": "code",
   "execution_count": null,
   "id": "fee2edff",
   "metadata": {},
   "outputs": [],
   "source": [
    "# Seu código aqui\n"
   ]
  },
  {
   "cell_type": "markdown",
   "id": "876361bf",
   "metadata": {},
   "source": [
    "**Exercício 210**  \n",
    "Dica: Trabalhe com colunas de tempo e localização para mapas, UMAP+HDBSCAN, regras de associação."
   ]
  },
  {
   "cell_type": "code",
   "execution_count": null,
   "id": "d3a7f69f",
   "metadata": {},
   "outputs": [],
   "source": [
    "# Seu código aqui\n"
   ]
  },
  {
   "cell_type": "markdown",
   "id": "9ccd2590",
   "metadata": {},
   "source": [
    "**Exercício 211**  \n",
    "Dica: Trabalhe com colunas de tempo e localização para mapas, UMAP+HDBSCAN, regras de associação."
   ]
  },
  {
   "cell_type": "code",
   "execution_count": null,
   "id": "5c7270e8",
   "metadata": {},
   "outputs": [],
   "source": [
    "# Seu código aqui\n"
   ]
  },
  {
   "cell_type": "markdown",
   "id": "07e1ccf5",
   "metadata": {},
   "source": [
    "**Exercício 212**  \n",
    "Dica: Trabalhe com colunas de tempo e localização para mapas, UMAP+HDBSCAN, regras de associação."
   ]
  },
  {
   "cell_type": "code",
   "execution_count": null,
   "id": "b561fe06",
   "metadata": {},
   "outputs": [],
   "source": [
    "# Seu código aqui\n"
   ]
  },
  {
   "cell_type": "markdown",
   "id": "efe529fb",
   "metadata": {},
   "source": [
    "**Exercício 213**  \n",
    "Dica: Trabalhe com colunas de tempo e localização para mapas, UMAP+HDBSCAN, regras de associação."
   ]
  },
  {
   "cell_type": "code",
   "execution_count": null,
   "id": "ea8575e0",
   "metadata": {},
   "outputs": [],
   "source": [
    "# Seu código aqui\n"
   ]
  },
  {
   "cell_type": "markdown",
   "id": "c56de882",
   "metadata": {},
   "source": [
    "**Exercício 214**  \n",
    "Dica: Trabalhe com colunas de tempo e localização para mapas, UMAP+HDBSCAN, regras de associação."
   ]
  },
  {
   "cell_type": "code",
   "execution_count": null,
   "id": "ca5cfd7e",
   "metadata": {},
   "outputs": [],
   "source": [
    "# Seu código aqui\n"
   ]
  },
  {
   "cell_type": "markdown",
   "id": "0ddacd7a",
   "metadata": {},
   "source": [
    "**Exercício 215**  \n",
    "Dica: Trabalhe com colunas de tempo e localização para mapas, UMAP+HDBSCAN, regras de associação."
   ]
  },
  {
   "cell_type": "code",
   "execution_count": null,
   "id": "2b973d0b",
   "metadata": {},
   "outputs": [],
   "source": [
    "# Seu código aqui\n"
   ]
  },
  {
   "cell_type": "markdown",
   "id": "5bff56f1",
   "metadata": {},
   "source": [
    "**Exercício 216**  \n",
    "Dica: Trabalhe com colunas de tempo e localização para mapas, UMAP+HDBSCAN, regras de associação."
   ]
  },
  {
   "cell_type": "code",
   "execution_count": null,
   "id": "39bd3e17",
   "metadata": {},
   "outputs": [],
   "source": [
    "# Seu código aqui\n"
   ]
  },
  {
   "cell_type": "markdown",
   "id": "7d428a3f",
   "metadata": {},
   "source": [
    "**Exercício 217**  \n",
    "Dica: Trabalhe com colunas de tempo e localização para mapas, UMAP+HDBSCAN, regras de associação."
   ]
  },
  {
   "cell_type": "code",
   "execution_count": null,
   "id": "0a4fb950",
   "metadata": {},
   "outputs": [],
   "source": [
    "# Seu código aqui\n"
   ]
  },
  {
   "cell_type": "markdown",
   "id": "d654fed6",
   "metadata": {},
   "source": [
    "**Exercício 218**  \n",
    "Dica: Trabalhe com colunas de tempo e localização para mapas, UMAP+HDBSCAN, regras de associação."
   ]
  },
  {
   "cell_type": "code",
   "execution_count": null,
   "id": "0c83be43",
   "metadata": {},
   "outputs": [],
   "source": [
    "# Seu código aqui\n"
   ]
  },
  {
   "cell_type": "markdown",
   "id": "54d4422b",
   "metadata": {},
   "source": [
    "**Exercício 219**  \n",
    "Dica: Trabalhe com colunas de tempo e localização para mapas, UMAP+HDBSCAN, regras de associação."
   ]
  },
  {
   "cell_type": "code",
   "execution_count": null,
   "id": "27b6b95a",
   "metadata": {},
   "outputs": [],
   "source": [
    "# Seu código aqui\n"
   ]
  },
  {
   "cell_type": "markdown",
   "id": "d694a9a7",
   "metadata": {},
   "source": [
    "**Exercício 220**  \n",
    "Dica: Trabalhe com colunas de tempo e localização para mapas, UMAP+HDBSCAN, regras de associação."
   ]
  },
  {
   "cell_type": "code",
   "execution_count": null,
   "id": "b12b177f",
   "metadata": {},
   "outputs": [],
   "source": [
    "# Seu código aqui\n"
   ]
  },
  {
   "cell_type": "markdown",
   "id": "f1b85511",
   "metadata": {},
   "source": [
    "**Exercício 221**  \n",
    "Dica: Trabalhe com colunas de tempo e localização para mapas, UMAP+HDBSCAN, regras de associação."
   ]
  },
  {
   "cell_type": "code",
   "execution_count": null,
   "id": "f46cc915",
   "metadata": {},
   "outputs": [],
   "source": [
    "# Seu código aqui\n"
   ]
  },
  {
   "cell_type": "markdown",
   "id": "5a3070af",
   "metadata": {},
   "source": [
    "**Exercício 222**  \n",
    "Dica: Trabalhe com colunas de tempo e localização para mapas, UMAP+HDBSCAN, regras de associação."
   ]
  },
  {
   "cell_type": "code",
   "execution_count": null,
   "id": "9a3d4d83",
   "metadata": {},
   "outputs": [],
   "source": [
    "# Seu código aqui\n"
   ]
  },
  {
   "cell_type": "markdown",
   "id": "5e156525",
   "metadata": {},
   "source": [
    "**Exercício 223**  \n",
    "Dica: Trabalhe com colunas de tempo e localização para mapas, UMAP+HDBSCAN, regras de associação."
   ]
  },
  {
   "cell_type": "code",
   "execution_count": null,
   "id": "d9cfeb61",
   "metadata": {},
   "outputs": [],
   "source": [
    "# Seu código aqui\n"
   ]
  },
  {
   "cell_type": "markdown",
   "id": "cb759112",
   "metadata": {},
   "source": [
    "**Exercício 224**  \n",
    "Dica: Trabalhe com colunas de tempo e localização para mapas, UMAP+HDBSCAN, regras de associação."
   ]
  },
  {
   "cell_type": "code",
   "execution_count": null,
   "id": "510c4378",
   "metadata": {},
   "outputs": [],
   "source": [
    "# Seu código aqui\n"
   ]
  },
  {
   "cell_type": "markdown",
   "id": "25c8b8d9",
   "metadata": {},
   "source": [
    "**Exercício 225**  \n",
    "Dica: Trabalhe com colunas de tempo e localização para mapas, UMAP+HDBSCAN, regras de associação."
   ]
  },
  {
   "cell_type": "code",
   "execution_count": null,
   "id": "dc3f93c0",
   "metadata": {},
   "outputs": [],
   "source": [
    "# Seu código aqui\n"
   ]
  },
  {
   "cell_type": "markdown",
   "id": "6e60c6a6",
   "metadata": {},
   "source": [
    "**Exercício 226**  \n",
    "Dica: Trabalhe com colunas de tempo e localização para mapas, UMAP+HDBSCAN, regras de associação."
   ]
  },
  {
   "cell_type": "code",
   "execution_count": null,
   "id": "c4a0f5a6",
   "metadata": {},
   "outputs": [],
   "source": [
    "# Seu código aqui\n"
   ]
  },
  {
   "cell_type": "markdown",
   "id": "3aaf4715",
   "metadata": {},
   "source": [
    "**Exercício 227**  \n",
    "Dica: Trabalhe com colunas de tempo e localização para mapas, UMAP+HDBSCAN, regras de associação."
   ]
  },
  {
   "cell_type": "code",
   "execution_count": null,
   "id": "16bc8591",
   "metadata": {},
   "outputs": [],
   "source": [
    "# Seu código aqui\n"
   ]
  },
  {
   "cell_type": "markdown",
   "id": "f7df008c",
   "metadata": {},
   "source": [
    "**Exercício 228**  \n",
    "Dica: Trabalhe com colunas de tempo e localização para mapas, UMAP+HDBSCAN, regras de associação."
   ]
  },
  {
   "cell_type": "code",
   "execution_count": null,
   "id": "122fb34b",
   "metadata": {},
   "outputs": [],
   "source": [
    "# Seu código aqui\n"
   ]
  },
  {
   "cell_type": "markdown",
   "id": "9cef8a3e",
   "metadata": {},
   "source": [
    "**Exercício 229**  \n",
    "Dica: Trabalhe com colunas de tempo e localização para mapas, UMAP+HDBSCAN, regras de associação."
   ]
  },
  {
   "cell_type": "code",
   "execution_count": null,
   "id": "657752a6",
   "metadata": {},
   "outputs": [],
   "source": [
    "# Seu código aqui\n"
   ]
  },
  {
   "cell_type": "markdown",
   "id": "a6f867e6",
   "metadata": {},
   "source": [
    "**Exercício 230**  \n",
    "Dica: Trabalhe com colunas de tempo e localização para mapas, UMAP+HDBSCAN, regras de associação."
   ]
  },
  {
   "cell_type": "code",
   "execution_count": null,
   "id": "2a477142",
   "metadata": {},
   "outputs": [],
   "source": [
    "# Seu código aqui\n"
   ]
  },
  {
   "cell_type": "markdown",
   "id": "1f57cbc4",
   "metadata": {},
   "source": [
    "**Exercício 231**  \n",
    "Dica: Trabalhe com colunas de tempo e localização para mapas, UMAP+HDBSCAN, regras de associação."
   ]
  },
  {
   "cell_type": "code",
   "execution_count": null,
   "id": "c6abb5f1",
   "metadata": {},
   "outputs": [],
   "source": [
    "# Seu código aqui\n"
   ]
  },
  {
   "cell_type": "markdown",
   "id": "e4479ed5",
   "metadata": {},
   "source": [
    "**Exercício 232**  \n",
    "Dica: Trabalhe com colunas de tempo e localização para mapas, UMAP+HDBSCAN, regras de associação."
   ]
  },
  {
   "cell_type": "code",
   "execution_count": null,
   "id": "57177d4a",
   "metadata": {},
   "outputs": [],
   "source": [
    "# Seu código aqui\n"
   ]
  },
  {
   "cell_type": "markdown",
   "id": "1e952aca",
   "metadata": {},
   "source": [
    "**Exercício 233**  \n",
    "Dica: Trabalhe com colunas de tempo e localização para mapas, UMAP+HDBSCAN, regras de associação."
   ]
  },
  {
   "cell_type": "code",
   "execution_count": null,
   "id": "271f57bc",
   "metadata": {},
   "outputs": [],
   "source": [
    "# Seu código aqui\n"
   ]
  },
  {
   "cell_type": "markdown",
   "id": "c9ab36ce",
   "metadata": {},
   "source": [
    "**Exercício 234**  \n",
    "Dica: Trabalhe com colunas de tempo e localização para mapas, UMAP+HDBSCAN, regras de associação."
   ]
  },
  {
   "cell_type": "code",
   "execution_count": null,
   "id": "07a53147",
   "metadata": {},
   "outputs": [],
   "source": [
    "# Seu código aqui\n"
   ]
  },
  {
   "cell_type": "markdown",
   "id": "05c232d9",
   "metadata": {},
   "source": [
    "**Exercício 235**  \n",
    "Dica: Trabalhe com colunas de tempo e localização para mapas, UMAP+HDBSCAN, regras de associação."
   ]
  },
  {
   "cell_type": "code",
   "execution_count": null,
   "id": "7d8051cf",
   "metadata": {},
   "outputs": [],
   "source": [
    "# Seu código aqui\n"
   ]
  },
  {
   "cell_type": "markdown",
   "id": "843dbbdb",
   "metadata": {},
   "source": [
    "**Exercício 236**  \n",
    "Dica: Trabalhe com colunas de tempo e localização para mapas, UMAP+HDBSCAN, regras de associação."
   ]
  },
  {
   "cell_type": "code",
   "execution_count": null,
   "id": "9de090c7",
   "metadata": {},
   "outputs": [],
   "source": [
    "# Seu código aqui\n"
   ]
  },
  {
   "cell_type": "markdown",
   "id": "df581ad3",
   "metadata": {},
   "source": [
    "**Exercício 237**  \n",
    "Dica: Trabalhe com colunas de tempo e localização para mapas, UMAP+HDBSCAN, regras de associação."
   ]
  },
  {
   "cell_type": "code",
   "execution_count": null,
   "id": "c2783968",
   "metadata": {},
   "outputs": [],
   "source": [
    "# Seu código aqui\n"
   ]
  },
  {
   "cell_type": "markdown",
   "id": "76b62420",
   "metadata": {},
   "source": [
    "**Exercício 238**  \n",
    "Dica: Trabalhe com colunas de tempo e localização para mapas, UMAP+HDBSCAN, regras de associação."
   ]
  },
  {
   "cell_type": "code",
   "execution_count": null,
   "id": "09e62639",
   "metadata": {},
   "outputs": [],
   "source": [
    "# Seu código aqui\n"
   ]
  },
  {
   "cell_type": "markdown",
   "id": "379475bf",
   "metadata": {},
   "source": [
    "**Exercício 239**  \n",
    "Dica: Trabalhe com colunas de tempo e localização para mapas, UMAP+HDBSCAN, regras de associação."
   ]
  },
  {
   "cell_type": "code",
   "execution_count": null,
   "id": "5c305b8a",
   "metadata": {},
   "outputs": [],
   "source": [
    "# Seu código aqui\n"
   ]
  },
  {
   "cell_type": "markdown",
   "id": "27c7307e",
   "metadata": {},
   "source": [
    "**Exercício 240**  \n",
    "Dica: Trabalhe com colunas de tempo e localização para mapas, UMAP+HDBSCAN, regras de associação."
   ]
  },
  {
   "cell_type": "code",
   "execution_count": null,
   "id": "7c12e1bd",
   "metadata": {},
   "outputs": [],
   "source": [
    "# Seu código aqui\n"
   ]
  },
  {
   "cell_type": "markdown",
   "id": "b84e47c8",
   "metadata": {},
   "source": [
    "**Exercício 241**  \n",
    "Dica: Trabalhe com colunas de tempo e localização para mapas, UMAP+HDBSCAN, regras de associação."
   ]
  },
  {
   "cell_type": "code",
   "execution_count": null,
   "id": "2b1afb11",
   "metadata": {},
   "outputs": [],
   "source": [
    "# Seu código aqui\n"
   ]
  },
  {
   "cell_type": "markdown",
   "id": "98da5953",
   "metadata": {},
   "source": [
    "**Exercício 242**  \n",
    "Dica: Trabalhe com colunas de tempo e localização para mapas, UMAP+HDBSCAN, regras de associação."
   ]
  },
  {
   "cell_type": "code",
   "execution_count": null,
   "id": "777cf891",
   "metadata": {},
   "outputs": [],
   "source": [
    "# Seu código aqui\n"
   ]
  },
  {
   "cell_type": "markdown",
   "id": "5cc72c52",
   "metadata": {},
   "source": [
    "**Exercício 243**  \n",
    "Dica: Trabalhe com colunas de tempo e localização para mapas, UMAP+HDBSCAN, regras de associação."
   ]
  },
  {
   "cell_type": "code",
   "execution_count": null,
   "id": "ce67e27f",
   "metadata": {},
   "outputs": [],
   "source": [
    "# Seu código aqui\n"
   ]
  },
  {
   "cell_type": "markdown",
   "id": "37c069ae",
   "metadata": {},
   "source": [
    "**Exercício 244**  \n",
    "Dica: Trabalhe com colunas de tempo e localização para mapas, UMAP+HDBSCAN, regras de associação."
   ]
  },
  {
   "cell_type": "code",
   "execution_count": null,
   "id": "0a968449",
   "metadata": {},
   "outputs": [],
   "source": [
    "# Seu código aqui\n"
   ]
  },
  {
   "cell_type": "markdown",
   "id": "5772c570",
   "metadata": {},
   "source": [
    "**Exercício 245**  \n",
    "Dica: Trabalhe com colunas de tempo e localização para mapas, UMAP+HDBSCAN, regras de associação."
   ]
  },
  {
   "cell_type": "code",
   "execution_count": null,
   "id": "63fd7f1c",
   "metadata": {},
   "outputs": [],
   "source": [
    "# Seu código aqui\n"
   ]
  },
  {
   "cell_type": "markdown",
   "id": "da251370",
   "metadata": {},
   "source": [
    "**Exercício 246**  \n",
    "Dica: Trabalhe com colunas de tempo e localização para mapas, UMAP+HDBSCAN, regras de associação."
   ]
  },
  {
   "cell_type": "code",
   "execution_count": null,
   "id": "03645a8f",
   "metadata": {},
   "outputs": [],
   "source": [
    "# Seu código aqui\n"
   ]
  },
  {
   "cell_type": "markdown",
   "id": "782ba370",
   "metadata": {},
   "source": [
    "**Exercício 247**  \n",
    "Dica: Trabalhe com colunas de tempo e localização para mapas, UMAP+HDBSCAN, regras de associação."
   ]
  },
  {
   "cell_type": "code",
   "execution_count": null,
   "id": "e049d076",
   "metadata": {},
   "outputs": [],
   "source": [
    "# Seu código aqui\n"
   ]
  },
  {
   "cell_type": "markdown",
   "id": "72e6bad5",
   "metadata": {},
   "source": [
    "**Exercício 248**  \n",
    "Dica: Trabalhe com colunas de tempo e localização para mapas, UMAP+HDBSCAN, regras de associação."
   ]
  },
  {
   "cell_type": "code",
   "execution_count": null,
   "id": "7188d177",
   "metadata": {},
   "outputs": [],
   "source": [
    "# Seu código aqui\n"
   ]
  },
  {
   "cell_type": "markdown",
   "id": "538fefb9",
   "metadata": {},
   "source": [
    "**Exercício 249**  \n",
    "Dica: Trabalhe com colunas de tempo e localização para mapas, UMAP+HDBSCAN, regras de associação."
   ]
  },
  {
   "cell_type": "code",
   "execution_count": null,
   "id": "7c66c436",
   "metadata": {},
   "outputs": [],
   "source": [
    "# Seu código aqui\n"
   ]
  },
  {
   "cell_type": "markdown",
   "id": "1636fc02",
   "metadata": {},
   "source": [
    "**Exercício 250**  \n",
    "Dica: Trabalhe com colunas de tempo e localização para mapas, UMAP+HDBSCAN, regras de associação."
   ]
  },
  {
   "cell_type": "code",
   "execution_count": null,
   "id": "5439a78a",
   "metadata": {},
   "outputs": [],
   "source": [
    "# Seu código aqui\n"
   ]
  },
  {
   "cell_type": "markdown",
   "id": "64412b28",
   "metadata": {},
   "source": [
    "**Exercício 251**  \n",
    "Dica: Trabalhe com colunas de tempo e localização para mapas, UMAP+HDBSCAN, regras de associação."
   ]
  },
  {
   "cell_type": "code",
   "execution_count": null,
   "id": "bb2841cc",
   "metadata": {},
   "outputs": [],
   "source": [
    "# Seu código aqui\n"
   ]
  },
  {
   "cell_type": "markdown",
   "id": "f71b2eeb",
   "metadata": {},
   "source": [
    "**Exercício 252**  \n",
    "Dica: Trabalhe com colunas de tempo e localização para mapas, UMAP+HDBSCAN, regras de associação."
   ]
  },
  {
   "cell_type": "code",
   "execution_count": null,
   "id": "3db05305",
   "metadata": {},
   "outputs": [],
   "source": [
    "# Seu código aqui\n"
   ]
  },
  {
   "cell_type": "markdown",
   "id": "84e4bca2",
   "metadata": {},
   "source": [
    "**Exercício 253**  \n",
    "Dica: Trabalhe com colunas de tempo e localização para mapas, UMAP+HDBSCAN, regras de associação."
   ]
  },
  {
   "cell_type": "code",
   "execution_count": null,
   "id": "42cad884",
   "metadata": {},
   "outputs": [],
   "source": [
    "# Seu código aqui\n"
   ]
  },
  {
   "cell_type": "markdown",
   "id": "25f0d53b",
   "metadata": {},
   "source": [
    "**Exercício 254**  \n",
    "Dica: Trabalhe com colunas de tempo e localização para mapas, UMAP+HDBSCAN, regras de associação."
   ]
  },
  {
   "cell_type": "code",
   "execution_count": null,
   "id": "c02ca00d",
   "metadata": {},
   "outputs": [],
   "source": [
    "# Seu código aqui\n"
   ]
  },
  {
   "cell_type": "markdown",
   "id": "670f6f16",
   "metadata": {},
   "source": [
    "**Exercício 255**  \n",
    "Dica: Trabalhe com colunas de tempo e localização para mapas, UMAP+HDBSCAN, regras de associação."
   ]
  },
  {
   "cell_type": "code",
   "execution_count": null,
   "id": "7d3c377e",
   "metadata": {},
   "outputs": [],
   "source": [
    "# Seu código aqui\n"
   ]
  },
  {
   "cell_type": "markdown",
   "id": "909defdf",
   "metadata": {},
   "source": [
    "**Exercício 256**  \n",
    "Dica: Trabalhe com colunas de tempo e localização para mapas, UMAP+HDBSCAN, regras de associação."
   ]
  },
  {
   "cell_type": "code",
   "execution_count": null,
   "id": "eb6dd14b",
   "metadata": {},
   "outputs": [],
   "source": [
    "# Seu código aqui\n"
   ]
  },
  {
   "cell_type": "markdown",
   "id": "e30f5fb3",
   "metadata": {},
   "source": [
    "**Exercício 257**  \n",
    "Dica: Trabalhe com colunas de tempo e localização para mapas, UMAP+HDBSCAN, regras de associação."
   ]
  },
  {
   "cell_type": "code",
   "execution_count": null,
   "id": "cd7c1800",
   "metadata": {},
   "outputs": [],
   "source": [
    "# Seu código aqui\n"
   ]
  },
  {
   "cell_type": "markdown",
   "id": "53357da1",
   "metadata": {},
   "source": [
    "**Exercício 258**  \n",
    "Dica: Trabalhe com colunas de tempo e localização para mapas, UMAP+HDBSCAN, regras de associação."
   ]
  },
  {
   "cell_type": "code",
   "execution_count": null,
   "id": "0a8b13bd",
   "metadata": {},
   "outputs": [],
   "source": [
    "# Seu código aqui\n"
   ]
  },
  {
   "cell_type": "markdown",
   "id": "bb7f1086",
   "metadata": {},
   "source": [
    "**Exercício 259**  \n",
    "Dica: Trabalhe com colunas de tempo e localização para mapas, UMAP+HDBSCAN, regras de associação."
   ]
  },
  {
   "cell_type": "code",
   "execution_count": null,
   "id": "759d4a0e",
   "metadata": {},
   "outputs": [],
   "source": [
    "# Seu código aqui\n"
   ]
  },
  {
   "cell_type": "markdown",
   "id": "2db4b0b8",
   "metadata": {},
   "source": [
    "**Exercício 260**  \n",
    "Dica: Trabalhe com colunas de tempo e localização para mapas, UMAP+HDBSCAN, regras de associação."
   ]
  },
  {
   "cell_type": "code",
   "execution_count": null,
   "id": "b794eb6e",
   "metadata": {},
   "outputs": [],
   "source": [
    "# Seu código aqui\n"
   ]
  },
  {
   "cell_type": "markdown",
   "id": "e63bffba",
   "metadata": {},
   "source": [
    "**Exercício 261**  \n",
    "Dica: Trabalhe com colunas de tempo e localização para mapas, UMAP+HDBSCAN, regras de associação."
   ]
  },
  {
   "cell_type": "code",
   "execution_count": null,
   "id": "05b56cc9",
   "metadata": {},
   "outputs": [],
   "source": [
    "# Seu código aqui\n"
   ]
  },
  {
   "cell_type": "markdown",
   "id": "27a43fb8",
   "metadata": {},
   "source": [
    "**Exercício 262**  \n",
    "Dica: Trabalhe com colunas de tempo e localização para mapas, UMAP+HDBSCAN, regras de associação."
   ]
  },
  {
   "cell_type": "code",
   "execution_count": null,
   "id": "b7c1400e",
   "metadata": {},
   "outputs": [],
   "source": [
    "# Seu código aqui\n"
   ]
  },
  {
   "cell_type": "markdown",
   "id": "27d6ad5b",
   "metadata": {},
   "source": [
    "**Exercício 263**  \n",
    "Dica: Trabalhe com colunas de tempo e localização para mapas, UMAP+HDBSCAN, regras de associação."
   ]
  },
  {
   "cell_type": "code",
   "execution_count": null,
   "id": "0199c731",
   "metadata": {},
   "outputs": [],
   "source": [
    "# Seu código aqui\n"
   ]
  },
  {
   "cell_type": "markdown",
   "id": "9aecb25f",
   "metadata": {},
   "source": [
    "**Exercício 264**  \n",
    "Dica: Trabalhe com colunas de tempo e localização para mapas, UMAP+HDBSCAN, regras de associação."
   ]
  },
  {
   "cell_type": "code",
   "execution_count": null,
   "id": "db3f70c4",
   "metadata": {},
   "outputs": [],
   "source": [
    "# Seu código aqui\n"
   ]
  },
  {
   "cell_type": "markdown",
   "id": "d2aa5039",
   "metadata": {},
   "source": [
    "**Exercício 265**  \n",
    "Dica: Trabalhe com colunas de tempo e localização para mapas, UMAP+HDBSCAN, regras de associação."
   ]
  },
  {
   "cell_type": "code",
   "execution_count": null,
   "id": "b65d429b",
   "metadata": {},
   "outputs": [],
   "source": [
    "# Seu código aqui\n"
   ]
  },
  {
   "cell_type": "markdown",
   "id": "76a4771d",
   "metadata": {},
   "source": [
    "**Exercício 266**  \n",
    "Dica: Trabalhe com colunas de tempo e localização para mapas, UMAP+HDBSCAN, regras de associação."
   ]
  },
  {
   "cell_type": "code",
   "execution_count": null,
   "id": "62d30012",
   "metadata": {},
   "outputs": [],
   "source": [
    "# Seu código aqui\n"
   ]
  },
  {
   "cell_type": "markdown",
   "id": "8158d80f",
   "metadata": {},
   "source": [
    "**Exercício 267**  \n",
    "Dica: Trabalhe com colunas de tempo e localização para mapas, UMAP+HDBSCAN, regras de associação."
   ]
  },
  {
   "cell_type": "code",
   "execution_count": null,
   "id": "3678aee7",
   "metadata": {},
   "outputs": [],
   "source": [
    "# Seu código aqui\n"
   ]
  },
  {
   "cell_type": "markdown",
   "id": "7a2214e8",
   "metadata": {},
   "source": [
    "**Exercício 268**  \n",
    "Dica: Trabalhe com colunas de tempo e localização para mapas, UMAP+HDBSCAN, regras de associação."
   ]
  },
  {
   "cell_type": "code",
   "execution_count": null,
   "id": "4a3f03c2",
   "metadata": {},
   "outputs": [],
   "source": [
    "# Seu código aqui\n"
   ]
  },
  {
   "cell_type": "markdown",
   "id": "4d3ca629",
   "metadata": {},
   "source": [
    "**Exercício 269**  \n",
    "Dica: Trabalhe com colunas de tempo e localização para mapas, UMAP+HDBSCAN, regras de associação."
   ]
  },
  {
   "cell_type": "code",
   "execution_count": null,
   "id": "a15eb6a9",
   "metadata": {},
   "outputs": [],
   "source": [
    "# Seu código aqui\n"
   ]
  },
  {
   "cell_type": "markdown",
   "id": "8352d1a9",
   "metadata": {},
   "source": [
    "**Exercício 270**  \n",
    "Dica: Trabalhe com colunas de tempo e localização para mapas, UMAP+HDBSCAN, regras de associação."
   ]
  },
  {
   "cell_type": "code",
   "execution_count": null,
   "id": "b3c83f4b",
   "metadata": {},
   "outputs": [],
   "source": [
    "# Seu código aqui\n"
   ]
  },
  {
   "cell_type": "markdown",
   "id": "9a51595f",
   "metadata": {},
   "source": [
    "**Exercício 271**  \n",
    "Dica: Trabalhe com colunas de tempo e localização para mapas, UMAP+HDBSCAN, regras de associação."
   ]
  },
  {
   "cell_type": "code",
   "execution_count": null,
   "id": "39d09be7",
   "metadata": {},
   "outputs": [],
   "source": [
    "# Seu código aqui\n"
   ]
  },
  {
   "cell_type": "markdown",
   "id": "8f111a6e",
   "metadata": {},
   "source": [
    "**Exercício 272**  \n",
    "Dica: Trabalhe com colunas de tempo e localização para mapas, UMAP+HDBSCAN, regras de associação."
   ]
  },
  {
   "cell_type": "code",
   "execution_count": null,
   "id": "024a90cc",
   "metadata": {},
   "outputs": [],
   "source": [
    "# Seu código aqui\n"
   ]
  },
  {
   "cell_type": "markdown",
   "id": "8e3e6091",
   "metadata": {},
   "source": [
    "**Exercício 273**  \n",
    "Dica: Trabalhe com colunas de tempo e localização para mapas, UMAP+HDBSCAN, regras de associação."
   ]
  },
  {
   "cell_type": "code",
   "execution_count": null,
   "id": "17b3aa34",
   "metadata": {},
   "outputs": [],
   "source": [
    "# Seu código aqui\n"
   ]
  },
  {
   "cell_type": "markdown",
   "id": "20e5ef7b",
   "metadata": {},
   "source": [
    "**Exercício 274**  \n",
    "Dica: Trabalhe com colunas de tempo e localização para mapas, UMAP+HDBSCAN, regras de associação."
   ]
  },
  {
   "cell_type": "code",
   "execution_count": null,
   "id": "8a4acf0b",
   "metadata": {},
   "outputs": [],
   "source": [
    "# Seu código aqui\n"
   ]
  },
  {
   "cell_type": "markdown",
   "id": "d3a53967",
   "metadata": {},
   "source": [
    "**Exercício 275**  \n",
    "Dica: Trabalhe com colunas de tempo e localização para mapas, UMAP+HDBSCAN, regras de associação."
   ]
  },
  {
   "cell_type": "code",
   "execution_count": null,
   "id": "81c455eb",
   "metadata": {},
   "outputs": [],
   "source": [
    "# Seu código aqui\n"
   ]
  },
  {
   "cell_type": "markdown",
   "id": "74fbd068",
   "metadata": {},
   "source": [
    "**Exercício 276**  \n",
    "Dica: Trabalhe com colunas de tempo e localização para mapas, UMAP+HDBSCAN, regras de associação."
   ]
  },
  {
   "cell_type": "code",
   "execution_count": null,
   "id": "ecce7d80",
   "metadata": {},
   "outputs": [],
   "source": [
    "# Seu código aqui\n"
   ]
  },
  {
   "cell_type": "markdown",
   "id": "5ae6e282",
   "metadata": {},
   "source": [
    "**Exercício 277**  \n",
    "Dica: Trabalhe com colunas de tempo e localização para mapas, UMAP+HDBSCAN, regras de associação."
   ]
  },
  {
   "cell_type": "code",
   "execution_count": null,
   "id": "ad8dba7a",
   "metadata": {},
   "outputs": [],
   "source": [
    "# Seu código aqui\n"
   ]
  },
  {
   "cell_type": "markdown",
   "id": "0fbf79e9",
   "metadata": {},
   "source": [
    "**Exercício 278**  \n",
    "Dica: Trabalhe com colunas de tempo e localização para mapas, UMAP+HDBSCAN, regras de associação."
   ]
  },
  {
   "cell_type": "code",
   "execution_count": null,
   "id": "84c0dba4",
   "metadata": {},
   "outputs": [],
   "source": [
    "# Seu código aqui\n"
   ]
  },
  {
   "cell_type": "markdown",
   "id": "7b2ae596",
   "metadata": {},
   "source": [
    "**Exercício 279**  \n",
    "Dica: Trabalhe com colunas de tempo e localização para mapas, UMAP+HDBSCAN, regras de associação."
   ]
  },
  {
   "cell_type": "code",
   "execution_count": null,
   "id": "5bb57cd9",
   "metadata": {},
   "outputs": [],
   "source": [
    "# Seu código aqui\n"
   ]
  },
  {
   "cell_type": "markdown",
   "id": "ec111946",
   "metadata": {},
   "source": [
    "**Exercício 280**  \n",
    "Dica: Trabalhe com colunas de tempo e localização para mapas, UMAP+HDBSCAN, regras de associação."
   ]
  },
  {
   "cell_type": "code",
   "execution_count": null,
   "id": "2fd06a37",
   "metadata": {},
   "outputs": [],
   "source": [
    "# Seu código aqui\n"
   ]
  },
  {
   "cell_type": "markdown",
   "id": "5a9b5cfb",
   "metadata": {},
   "source": [
    "**Exercício 281**  \n",
    "Dica: Trabalhe com colunas de tempo e localização para mapas, UMAP+HDBSCAN, regras de associação."
   ]
  },
  {
   "cell_type": "code",
   "execution_count": null,
   "id": "5537f36e",
   "metadata": {},
   "outputs": [],
   "source": [
    "# Seu código aqui\n"
   ]
  },
  {
   "cell_type": "markdown",
   "id": "8191850a",
   "metadata": {},
   "source": [
    "**Exercício 282**  \n",
    "Dica: Trabalhe com colunas de tempo e localização para mapas, UMAP+HDBSCAN, regras de associação."
   ]
  },
  {
   "cell_type": "code",
   "execution_count": null,
   "id": "4432bd45",
   "metadata": {},
   "outputs": [],
   "source": [
    "# Seu código aqui\n"
   ]
  },
  {
   "cell_type": "markdown",
   "id": "14751f17",
   "metadata": {},
   "source": [
    "**Exercício 283**  \n",
    "Dica: Trabalhe com colunas de tempo e localização para mapas, UMAP+HDBSCAN, regras de associação."
   ]
  },
  {
   "cell_type": "code",
   "execution_count": null,
   "id": "6892bba9",
   "metadata": {},
   "outputs": [],
   "source": [
    "# Seu código aqui\n"
   ]
  },
  {
   "cell_type": "markdown",
   "id": "d7bef9fe",
   "metadata": {},
   "source": [
    "**Exercício 284**  \n",
    "Dica: Trabalhe com colunas de tempo e localização para mapas, UMAP+HDBSCAN, regras de associação."
   ]
  },
  {
   "cell_type": "code",
   "execution_count": null,
   "id": "14a4b385",
   "metadata": {},
   "outputs": [],
   "source": [
    "# Seu código aqui\n"
   ]
  },
  {
   "cell_type": "markdown",
   "id": "9bb32e09",
   "metadata": {},
   "source": [
    "**Exercício 285**  \n",
    "Dica: Trabalhe com colunas de tempo e localização para mapas, UMAP+HDBSCAN, regras de associação."
   ]
  },
  {
   "cell_type": "code",
   "execution_count": null,
   "id": "0a396d97",
   "metadata": {},
   "outputs": [],
   "source": [
    "# Seu código aqui\n"
   ]
  },
  {
   "cell_type": "markdown",
   "id": "34ecb8f7",
   "metadata": {},
   "source": [
    "**Exercício 286**  \n",
    "Dica: Trabalhe com colunas de tempo e localização para mapas, UMAP+HDBSCAN, regras de associação."
   ]
  },
  {
   "cell_type": "code",
   "execution_count": null,
   "id": "1eb480b3",
   "metadata": {},
   "outputs": [],
   "source": [
    "# Seu código aqui\n"
   ]
  },
  {
   "cell_type": "markdown",
   "id": "3580ca11",
   "metadata": {},
   "source": [
    "**Exercício 287**  \n",
    "Dica: Trabalhe com colunas de tempo e localização para mapas, UMAP+HDBSCAN, regras de associação."
   ]
  },
  {
   "cell_type": "code",
   "execution_count": null,
   "id": "e15e1c72",
   "metadata": {},
   "outputs": [],
   "source": [
    "# Seu código aqui\n"
   ]
  },
  {
   "cell_type": "markdown",
   "id": "7925489a",
   "metadata": {},
   "source": [
    "**Exercício 288**  \n",
    "Dica: Trabalhe com colunas de tempo e localização para mapas, UMAP+HDBSCAN, regras de associação."
   ]
  },
  {
   "cell_type": "code",
   "execution_count": null,
   "id": "ba2278a0",
   "metadata": {},
   "outputs": [],
   "source": [
    "# Seu código aqui\n"
   ]
  },
  {
   "cell_type": "markdown",
   "id": "faa4d25a",
   "metadata": {},
   "source": [
    "**Exercício 289**  \n",
    "Dica: Trabalhe com colunas de tempo e localização para mapas, UMAP+HDBSCAN, regras de associação."
   ]
  },
  {
   "cell_type": "code",
   "execution_count": null,
   "id": "e4a366f4",
   "metadata": {},
   "outputs": [],
   "source": [
    "# Seu código aqui\n"
   ]
  },
  {
   "cell_type": "markdown",
   "id": "0d1f948e",
   "metadata": {},
   "source": [
    "**Exercício 290**  \n",
    "Dica: Trabalhe com colunas de tempo e localização para mapas, UMAP+HDBSCAN, regras de associação."
   ]
  },
  {
   "cell_type": "code",
   "execution_count": null,
   "id": "24cb020d",
   "metadata": {},
   "outputs": [],
   "source": [
    "# Seu código aqui\n"
   ]
  },
  {
   "cell_type": "markdown",
   "id": "8cd24af9",
   "metadata": {},
   "source": [
    "**Exercício 291**  \n",
    "Dica: Trabalhe com colunas de tempo e localização para mapas, UMAP+HDBSCAN, regras de associação."
   ]
  },
  {
   "cell_type": "code",
   "execution_count": null,
   "id": "3b08ec65",
   "metadata": {},
   "outputs": [],
   "source": [
    "# Seu código aqui\n"
   ]
  },
  {
   "cell_type": "markdown",
   "id": "230e0880",
   "metadata": {},
   "source": [
    "**Exercício 292**  \n",
    "Dica: Trabalhe com colunas de tempo e localização para mapas, UMAP+HDBSCAN, regras de associação."
   ]
  },
  {
   "cell_type": "code",
   "execution_count": null,
   "id": "af79d3c3",
   "metadata": {},
   "outputs": [],
   "source": [
    "# Seu código aqui\n"
   ]
  },
  {
   "cell_type": "markdown",
   "id": "92704f57",
   "metadata": {},
   "source": [
    "**Exercício 293**  \n",
    "Dica: Trabalhe com colunas de tempo e localização para mapas, UMAP+HDBSCAN, regras de associação."
   ]
  },
  {
   "cell_type": "code",
   "execution_count": null,
   "id": "2e1b1059",
   "metadata": {},
   "outputs": [],
   "source": [
    "# Seu código aqui\n"
   ]
  },
  {
   "cell_type": "markdown",
   "id": "8ec05c63",
   "metadata": {},
   "source": [
    "**Exercício 294**  \n",
    "Dica: Trabalhe com colunas de tempo e localização para mapas, UMAP+HDBSCAN, regras de associação."
   ]
  },
  {
   "cell_type": "code",
   "execution_count": null,
   "id": "268daa80",
   "metadata": {},
   "outputs": [],
   "source": [
    "# Seu código aqui\n"
   ]
  },
  {
   "cell_type": "markdown",
   "id": "907cd67a",
   "metadata": {},
   "source": [
    "**Exercício 295**  \n",
    "Dica: Trabalhe com colunas de tempo e localização para mapas, UMAP+HDBSCAN, regras de associação."
   ]
  },
  {
   "cell_type": "code",
   "execution_count": null,
   "id": "93a5a274",
   "metadata": {},
   "outputs": [],
   "source": [
    "# Seu código aqui\n"
   ]
  },
  {
   "cell_type": "markdown",
   "id": "b3102e24",
   "metadata": {},
   "source": [
    "**Exercício 296**  \n",
    "Dica: Trabalhe com colunas de tempo e localização para mapas, UMAP+HDBSCAN, regras de associação."
   ]
  },
  {
   "cell_type": "code",
   "execution_count": null,
   "id": "2ff184d2",
   "metadata": {},
   "outputs": [],
   "source": [
    "# Seu código aqui\n"
   ]
  },
  {
   "cell_type": "markdown",
   "id": "26cceadc",
   "metadata": {},
   "source": [
    "**Exercício 297**  \n",
    "Dica: Trabalhe com colunas de tempo e localização para mapas, UMAP+HDBSCAN, regras de associação."
   ]
  },
  {
   "cell_type": "code",
   "execution_count": null,
   "id": "acab5883",
   "metadata": {},
   "outputs": [],
   "source": [
    "# Seu código aqui\n"
   ]
  },
  {
   "cell_type": "markdown",
   "id": "a71b31e7",
   "metadata": {},
   "source": [
    "**Exercício 298**  \n",
    "Dica: Trabalhe com colunas de tempo e localização para mapas, UMAP+HDBSCAN, regras de associação."
   ]
  },
  {
   "cell_type": "code",
   "execution_count": null,
   "id": "5c765215",
   "metadata": {},
   "outputs": [],
   "source": [
    "# Seu código aqui\n"
   ]
  },
  {
   "cell_type": "markdown",
   "id": "3e3c75e7",
   "metadata": {},
   "source": [
    "**Exercício 299**  \n",
    "Dica: Trabalhe com colunas de tempo e localização para mapas, UMAP+HDBSCAN, regras de associação."
   ]
  },
  {
   "cell_type": "code",
   "execution_count": null,
   "id": "35e62ca5",
   "metadata": {},
   "outputs": [],
   "source": [
    "# Seu código aqui\n"
   ]
  },
  {
   "cell_type": "markdown",
   "id": "625093a3",
   "metadata": {},
   "source": [
    "**Exercício 300**  \n",
    "Dica: Trabalhe com colunas de tempo e localização para mapas, UMAP+HDBSCAN, regras de associação."
   ]
  },
  {
   "cell_type": "code",
   "execution_count": null,
   "id": "ca3941cb",
   "metadata": {},
   "outputs": [],
   "source": [
    "# Seu código aqui\n"
   ]
  },
  {
   "cell_type": "markdown",
   "id": "49d1f891",
   "metadata": {},
   "source": [
    "**Exercício 301**  \n",
    "Dica: Trabalhe com colunas de tempo e localização para mapas, UMAP+HDBSCAN, regras de associação."
   ]
  },
  {
   "cell_type": "code",
   "execution_count": null,
   "id": "ca57ad70",
   "metadata": {},
   "outputs": [],
   "source": [
    "# Seu código aqui\n"
   ]
  },
  {
   "cell_type": "markdown",
   "id": "b1d36592",
   "metadata": {},
   "source": [
    "**Exercício 302**  \n",
    "Dica: Trabalhe com colunas de tempo e localização para mapas, UMAP+HDBSCAN, regras de associação."
   ]
  },
  {
   "cell_type": "code",
   "execution_count": null,
   "id": "9c4497da",
   "metadata": {},
   "outputs": [],
   "source": [
    "# Seu código aqui\n"
   ]
  },
  {
   "cell_type": "markdown",
   "id": "7e0e66f9",
   "metadata": {},
   "source": [
    "**Exercício 303**  \n",
    "Dica: Trabalhe com colunas de tempo e localização para mapas, UMAP+HDBSCAN, regras de associação."
   ]
  },
  {
   "cell_type": "code",
   "execution_count": null,
   "id": "30b15b5a",
   "metadata": {},
   "outputs": [],
   "source": [
    "# Seu código aqui\n"
   ]
  },
  {
   "cell_type": "markdown",
   "id": "fec22652",
   "metadata": {},
   "source": [
    "**Exercício 304**  \n",
    "Dica: Trabalhe com colunas de tempo e localização para mapas, UMAP+HDBSCAN, regras de associação."
   ]
  },
  {
   "cell_type": "code",
   "execution_count": null,
   "id": "e72db85e",
   "metadata": {},
   "outputs": [],
   "source": [
    "# Seu código aqui\n"
   ]
  },
  {
   "cell_type": "markdown",
   "id": "ec4cbb16",
   "metadata": {},
   "source": [
    "**Exercício 305**  \n",
    "Dica: Trabalhe com colunas de tempo e localização para mapas, UMAP+HDBSCAN, regras de associação."
   ]
  },
  {
   "cell_type": "code",
   "execution_count": null,
   "id": "9f7ded8e",
   "metadata": {},
   "outputs": [],
   "source": [
    "# Seu código aqui\n"
   ]
  },
  {
   "cell_type": "markdown",
   "id": "d870b728",
   "metadata": {},
   "source": [
    "**Exercício 306**  \n",
    "Dica: Trabalhe com colunas de tempo e localização para mapas, UMAP+HDBSCAN, regras de associação."
   ]
  },
  {
   "cell_type": "code",
   "execution_count": null,
   "id": "81f0283e",
   "metadata": {},
   "outputs": [],
   "source": [
    "# Seu código aqui\n"
   ]
  },
  {
   "cell_type": "markdown",
   "id": "b84adec9",
   "metadata": {},
   "source": [
    "**Exercício 307**  \n",
    "Dica: Trabalhe com colunas de tempo e localização para mapas, UMAP+HDBSCAN, regras de associação."
   ]
  },
  {
   "cell_type": "code",
   "execution_count": null,
   "id": "ed394504",
   "metadata": {},
   "outputs": [],
   "source": [
    "# Seu código aqui\n"
   ]
  },
  {
   "cell_type": "markdown",
   "id": "71c35cd2",
   "metadata": {},
   "source": [
    "**Exercício 308**  \n",
    "Dica: Trabalhe com colunas de tempo e localização para mapas, UMAP+HDBSCAN, regras de associação."
   ]
  },
  {
   "cell_type": "code",
   "execution_count": null,
   "id": "1a5cf30d",
   "metadata": {},
   "outputs": [],
   "source": [
    "# Seu código aqui\n"
   ]
  },
  {
   "cell_type": "markdown",
   "id": "95219f4a",
   "metadata": {},
   "source": [
    "**Exercício 309**  \n",
    "Dica: Trabalhe com colunas de tempo e localização para mapas, UMAP+HDBSCAN, regras de associação."
   ]
  },
  {
   "cell_type": "code",
   "execution_count": null,
   "id": "575dac2f",
   "metadata": {},
   "outputs": [],
   "source": [
    "# Seu código aqui\n"
   ]
  },
  {
   "cell_type": "markdown",
   "id": "27e80e3a",
   "metadata": {},
   "source": [
    "**Exercício 310**  \n",
    "Dica: Trabalhe com colunas de tempo e localização para mapas, UMAP+HDBSCAN, regras de associação."
   ]
  },
  {
   "cell_type": "code",
   "execution_count": null,
   "id": "0b34dbf6",
   "metadata": {},
   "outputs": [],
   "source": [
    "# Seu código aqui\n"
   ]
  },
  {
   "cell_type": "markdown",
   "id": "cda63a0e",
   "metadata": {},
   "source": [
    "**Exercício 311**  \n",
    "Dica: Trabalhe com colunas de tempo e localização para mapas, UMAP+HDBSCAN, regras de associação."
   ]
  },
  {
   "cell_type": "code",
   "execution_count": null,
   "id": "1244b73c",
   "metadata": {},
   "outputs": [],
   "source": [
    "# Seu código aqui\n"
   ]
  },
  {
   "cell_type": "markdown",
   "id": "7357b2e7",
   "metadata": {},
   "source": [
    "**Exercício 312**  \n",
    "Dica: Trabalhe com colunas de tempo e localização para mapas, UMAP+HDBSCAN, regras de associação."
   ]
  },
  {
   "cell_type": "code",
   "execution_count": null,
   "id": "ab9f51ee",
   "metadata": {},
   "outputs": [],
   "source": [
    "# Seu código aqui\n"
   ]
  },
  {
   "cell_type": "markdown",
   "id": "45fec261",
   "metadata": {},
   "source": [
    "**Exercício 313**  \n",
    "Dica: Trabalhe com colunas de tempo e localização para mapas, UMAP+HDBSCAN, regras de associação."
   ]
  },
  {
   "cell_type": "code",
   "execution_count": null,
   "id": "919b9247",
   "metadata": {},
   "outputs": [],
   "source": [
    "# Seu código aqui\n"
   ]
  },
  {
   "cell_type": "markdown",
   "id": "0078de71",
   "metadata": {},
   "source": [
    "**Exercício 314**  \n",
    "Dica: Trabalhe com colunas de tempo e localização para mapas, UMAP+HDBSCAN, regras de associação."
   ]
  },
  {
   "cell_type": "code",
   "execution_count": null,
   "id": "f3d9bb5c",
   "metadata": {},
   "outputs": [],
   "source": [
    "# Seu código aqui\n"
   ]
  },
  {
   "cell_type": "markdown",
   "id": "13cabc3a",
   "metadata": {},
   "source": [
    "**Exercício 315**  \n",
    "Dica: Trabalhe com colunas de tempo e localização para mapas, UMAP+HDBSCAN, regras de associação."
   ]
  },
  {
   "cell_type": "code",
   "execution_count": null,
   "id": "6f96968e",
   "metadata": {},
   "outputs": [],
   "source": [
    "# Seu código aqui\n"
   ]
  },
  {
   "cell_type": "markdown",
   "id": "f29e7d09",
   "metadata": {},
   "source": [
    "**Exercício 316**  \n",
    "Dica: Trabalhe com colunas de tempo e localização para mapas, UMAP+HDBSCAN, regras de associação."
   ]
  },
  {
   "cell_type": "code",
   "execution_count": null,
   "id": "e7296ad3",
   "metadata": {},
   "outputs": [],
   "source": [
    "# Seu código aqui\n"
   ]
  },
  {
   "cell_type": "markdown",
   "id": "42d27b0b",
   "metadata": {},
   "source": [
    "**Exercício 317**  \n",
    "Dica: Trabalhe com colunas de tempo e localização para mapas, UMAP+HDBSCAN, regras de associação."
   ]
  },
  {
   "cell_type": "code",
   "execution_count": null,
   "id": "4abeb656",
   "metadata": {},
   "outputs": [],
   "source": [
    "# Seu código aqui\n"
   ]
  },
  {
   "cell_type": "markdown",
   "id": "0b930aa3",
   "metadata": {},
   "source": [
    "**Exercício 318**  \n",
    "Dica: Trabalhe com colunas de tempo e localização para mapas, UMAP+HDBSCAN, regras de associação."
   ]
  },
  {
   "cell_type": "code",
   "execution_count": null,
   "id": "effeca5d",
   "metadata": {},
   "outputs": [],
   "source": [
    "# Seu código aqui\n"
   ]
  },
  {
   "cell_type": "markdown",
   "id": "7ba05d3c",
   "metadata": {},
   "source": [
    "**Exercício 319**  \n",
    "Dica: Trabalhe com colunas de tempo e localização para mapas, UMAP+HDBSCAN, regras de associação."
   ]
  },
  {
   "cell_type": "code",
   "execution_count": null,
   "id": "0c546aad",
   "metadata": {},
   "outputs": [],
   "source": [
    "# Seu código aqui\n"
   ]
  },
  {
   "cell_type": "markdown",
   "id": "fb3ff71d",
   "metadata": {},
   "source": [
    "**Exercício 320**  \n",
    "Dica: Trabalhe com colunas de tempo e localização para mapas, UMAP+HDBSCAN, regras de associação."
   ]
  },
  {
   "cell_type": "code",
   "execution_count": null,
   "id": "37e17fce",
   "metadata": {},
   "outputs": [],
   "source": [
    "# Seu código aqui\n"
   ]
  },
  {
   "cell_type": "markdown",
   "id": "2798d1ad",
   "metadata": {},
   "source": [
    "**Exercício 321**  \n",
    "Dica: Trabalhe com colunas de tempo e localização para mapas, UMAP+HDBSCAN, regras de associação."
   ]
  },
  {
   "cell_type": "code",
   "execution_count": null,
   "id": "20df812b",
   "metadata": {},
   "outputs": [],
   "source": [
    "# Seu código aqui\n"
   ]
  },
  {
   "cell_type": "markdown",
   "id": "2518af55",
   "metadata": {},
   "source": [
    "**Exercício 322**  \n",
    "Dica: Trabalhe com colunas de tempo e localização para mapas, UMAP+HDBSCAN, regras de associação."
   ]
  },
  {
   "cell_type": "code",
   "execution_count": null,
   "id": "0764c7a2",
   "metadata": {},
   "outputs": [],
   "source": [
    "# Seu código aqui\n"
   ]
  },
  {
   "cell_type": "markdown",
   "id": "d12bb9ba",
   "metadata": {},
   "source": [
    "**Exercício 323**  \n",
    "Dica: Trabalhe com colunas de tempo e localização para mapas, UMAP+HDBSCAN, regras de associação."
   ]
  },
  {
   "cell_type": "code",
   "execution_count": null,
   "id": "366c4262",
   "metadata": {},
   "outputs": [],
   "source": [
    "# Seu código aqui\n"
   ]
  },
  {
   "cell_type": "markdown",
   "id": "9c661e5d",
   "metadata": {},
   "source": [
    "**Exercício 324**  \n",
    "Dica: Trabalhe com colunas de tempo e localização para mapas, UMAP+HDBSCAN, regras de associação."
   ]
  },
  {
   "cell_type": "code",
   "execution_count": null,
   "id": "7bd6320b",
   "metadata": {},
   "outputs": [],
   "source": [
    "# Seu código aqui\n"
   ]
  },
  {
   "cell_type": "markdown",
   "id": "c3cc7c57",
   "metadata": {},
   "source": [
    "**Exercício 325**  \n",
    "Dica: Trabalhe com colunas de tempo e localização para mapas, UMAP+HDBSCAN, regras de associação."
   ]
  },
  {
   "cell_type": "code",
   "execution_count": null,
   "id": "b878f897",
   "metadata": {},
   "outputs": [],
   "source": [
    "# Seu código aqui\n"
   ]
  },
  {
   "cell_type": "markdown",
   "id": "d5afe29e",
   "metadata": {},
   "source": [
    "**Exercício 326**  \n",
    "Dica: Trabalhe com colunas de tempo e localização para mapas, UMAP+HDBSCAN, regras de associação."
   ]
  },
  {
   "cell_type": "code",
   "execution_count": null,
   "id": "d449bdc3",
   "metadata": {},
   "outputs": [],
   "source": [
    "# Seu código aqui\n"
   ]
  },
  {
   "cell_type": "markdown",
   "id": "cdfb3b93",
   "metadata": {},
   "source": [
    "**Exercício 327**  \n",
    "Dica: Trabalhe com colunas de tempo e localização para mapas, UMAP+HDBSCAN, regras de associação."
   ]
  },
  {
   "cell_type": "code",
   "execution_count": null,
   "id": "a19bc170",
   "metadata": {},
   "outputs": [],
   "source": [
    "# Seu código aqui\n"
   ]
  },
  {
   "cell_type": "markdown",
   "id": "8562f875",
   "metadata": {},
   "source": [
    "**Exercício 328**  \n",
    "Dica: Trabalhe com colunas de tempo e localização para mapas, UMAP+HDBSCAN, regras de associação."
   ]
  },
  {
   "cell_type": "code",
   "execution_count": null,
   "id": "f04a765d",
   "metadata": {},
   "outputs": [],
   "source": [
    "# Seu código aqui\n"
   ]
  },
  {
   "cell_type": "markdown",
   "id": "f33ea23e",
   "metadata": {},
   "source": [
    "**Exercício 329**  \n",
    "Dica: Trabalhe com colunas de tempo e localização para mapas, UMAP+HDBSCAN, regras de associação."
   ]
  },
  {
   "cell_type": "code",
   "execution_count": null,
   "id": "368f3ff7",
   "metadata": {},
   "outputs": [],
   "source": [
    "# Seu código aqui\n"
   ]
  },
  {
   "cell_type": "markdown",
   "id": "0d156cb9",
   "metadata": {},
   "source": [
    "**Exercício 330**  \n",
    "Dica: Trabalhe com colunas de tempo e localização para mapas, UMAP+HDBSCAN, regras de associação."
   ]
  },
  {
   "cell_type": "code",
   "execution_count": null,
   "id": "72054d3b",
   "metadata": {},
   "outputs": [],
   "source": [
    "# Seu código aqui\n"
   ]
  },
  {
   "cell_type": "markdown",
   "id": "b0b4256f",
   "metadata": {},
   "source": [
    "**Exercício 331**  \n",
    "Dica: Trabalhe com colunas de tempo e localização para mapas, UMAP+HDBSCAN, regras de associação."
   ]
  },
  {
   "cell_type": "code",
   "execution_count": null,
   "id": "be89ef0a",
   "metadata": {},
   "outputs": [],
   "source": [
    "# Seu código aqui\n"
   ]
  },
  {
   "cell_type": "markdown",
   "id": "35e2bb4d",
   "metadata": {},
   "source": [
    "**Exercício 332**  \n",
    "Dica: Trabalhe com colunas de tempo e localização para mapas, UMAP+HDBSCAN, regras de associação."
   ]
  },
  {
   "cell_type": "code",
   "execution_count": null,
   "id": "be71282d",
   "metadata": {},
   "outputs": [],
   "source": [
    "# Seu código aqui\n"
   ]
  },
  {
   "cell_type": "markdown",
   "id": "ceb6f321",
   "metadata": {},
   "source": [
    "**Exercício 333**  \n",
    "Dica: Trabalhe com colunas de tempo e localização para mapas, UMAP+HDBSCAN, regras de associação."
   ]
  },
  {
   "cell_type": "code",
   "execution_count": null,
   "id": "c8478a65",
   "metadata": {},
   "outputs": [],
   "source": [
    "# Seu código aqui\n"
   ]
  },
  {
   "cell_type": "markdown",
   "id": "98b82af8",
   "metadata": {},
   "source": [
    "**Exercício 334**  \n",
    "Dica: Trabalhe com colunas de tempo e localização para mapas, UMAP+HDBSCAN, regras de associação."
   ]
  },
  {
   "cell_type": "code",
   "execution_count": null,
   "id": "2b4e5d1e",
   "metadata": {},
   "outputs": [],
   "source": [
    "# Seu código aqui\n"
   ]
  },
  {
   "cell_type": "markdown",
   "id": "dd385be9",
   "metadata": {},
   "source": [
    "**Exercício 335**  \n",
    "Dica: Trabalhe com colunas de tempo e localização para mapas, UMAP+HDBSCAN, regras de associação."
   ]
  },
  {
   "cell_type": "code",
   "execution_count": null,
   "id": "f007040c",
   "metadata": {},
   "outputs": [],
   "source": [
    "# Seu código aqui\n"
   ]
  },
  {
   "cell_type": "markdown",
   "id": "aed996ff",
   "metadata": {},
   "source": [
    "**Exercício 336**  \n",
    "Dica: Trabalhe com colunas de tempo e localização para mapas, UMAP+HDBSCAN, regras de associação."
   ]
  },
  {
   "cell_type": "code",
   "execution_count": null,
   "id": "1aa51fb5",
   "metadata": {},
   "outputs": [],
   "source": [
    "# Seu código aqui\n"
   ]
  },
  {
   "cell_type": "markdown",
   "id": "227dfa05",
   "metadata": {},
   "source": [
    "**Exercício 337**  \n",
    "Dica: Trabalhe com colunas de tempo e localização para mapas, UMAP+HDBSCAN, regras de associação."
   ]
  },
  {
   "cell_type": "code",
   "execution_count": null,
   "id": "abc8c450",
   "metadata": {},
   "outputs": [],
   "source": [
    "# Seu código aqui\n"
   ]
  },
  {
   "cell_type": "markdown",
   "id": "24b8a588",
   "metadata": {},
   "source": [
    "**Exercício 338**  \n",
    "Dica: Trabalhe com colunas de tempo e localização para mapas, UMAP+HDBSCAN, regras de associação."
   ]
  },
  {
   "cell_type": "code",
   "execution_count": null,
   "id": "415679a1",
   "metadata": {},
   "outputs": [],
   "source": [
    "# Seu código aqui\n"
   ]
  },
  {
   "cell_type": "markdown",
   "id": "0ace8fab",
   "metadata": {},
   "source": [
    "**Exercício 339**  \n",
    "Dica: Trabalhe com colunas de tempo e localização para mapas, UMAP+HDBSCAN, regras de associação."
   ]
  },
  {
   "cell_type": "code",
   "execution_count": null,
   "id": "7cbbaa40",
   "metadata": {},
   "outputs": [],
   "source": [
    "# Seu código aqui\n"
   ]
  },
  {
   "cell_type": "markdown",
   "id": "1f32960e",
   "metadata": {},
   "source": [
    "**Exercício 340**  \n",
    "Dica: Trabalhe com colunas de tempo e localização para mapas, UMAP+HDBSCAN, regras de associação."
   ]
  },
  {
   "cell_type": "code",
   "execution_count": null,
   "id": "1d8edbc0",
   "metadata": {},
   "outputs": [],
   "source": [
    "# Seu código aqui\n"
   ]
  },
  {
   "cell_type": "markdown",
   "id": "74cf0455",
   "metadata": {},
   "source": [
    "**Exercício 341**  \n",
    "Dica: Trabalhe com colunas de tempo e localização para mapas, UMAP+HDBSCAN, regras de associação."
   ]
  },
  {
   "cell_type": "code",
   "execution_count": null,
   "id": "cde55dd7",
   "metadata": {},
   "outputs": [],
   "source": [
    "# Seu código aqui\n"
   ]
  },
  {
   "cell_type": "markdown",
   "id": "3e60aaac",
   "metadata": {},
   "source": [
    "**Exercício 342**  \n",
    "Dica: Trabalhe com colunas de tempo e localização para mapas, UMAP+HDBSCAN, regras de associação."
   ]
  },
  {
   "cell_type": "code",
   "execution_count": null,
   "id": "e76555e4",
   "metadata": {},
   "outputs": [],
   "source": [
    "# Seu código aqui\n"
   ]
  },
  {
   "cell_type": "markdown",
   "id": "6c044582",
   "metadata": {},
   "source": [
    "**Exercício 343**  \n",
    "Dica: Trabalhe com colunas de tempo e localização para mapas, UMAP+HDBSCAN, regras de associação."
   ]
  },
  {
   "cell_type": "code",
   "execution_count": null,
   "id": "41d0a4ba",
   "metadata": {},
   "outputs": [],
   "source": [
    "# Seu código aqui\n"
   ]
  },
  {
   "cell_type": "markdown",
   "id": "b6a2c149",
   "metadata": {},
   "source": [
    "**Exercício 344**  \n",
    "Dica: Trabalhe com colunas de tempo e localização para mapas, UMAP+HDBSCAN, regras de associação."
   ]
  },
  {
   "cell_type": "code",
   "execution_count": null,
   "id": "3d0ba8fb",
   "metadata": {},
   "outputs": [],
   "source": [
    "# Seu código aqui\n"
   ]
  },
  {
   "cell_type": "markdown",
   "id": "bfeb03a6",
   "metadata": {},
   "source": [
    "**Exercício 345**  \n",
    "Dica: Trabalhe com colunas de tempo e localização para mapas, UMAP+HDBSCAN, regras de associação."
   ]
  },
  {
   "cell_type": "code",
   "execution_count": null,
   "id": "ae3b74f0",
   "metadata": {},
   "outputs": [],
   "source": [
    "# Seu código aqui\n"
   ]
  },
  {
   "cell_type": "markdown",
   "id": "6834276f",
   "metadata": {},
   "source": [
    "**Exercício 346**  \n",
    "Dica: Trabalhe com colunas de tempo e localização para mapas, UMAP+HDBSCAN, regras de associação."
   ]
  },
  {
   "cell_type": "code",
   "execution_count": null,
   "id": "e4b05eec",
   "metadata": {},
   "outputs": [],
   "source": [
    "# Seu código aqui\n"
   ]
  },
  {
   "cell_type": "markdown",
   "id": "33d8a8a2",
   "metadata": {},
   "source": [
    "**Exercício 347**  \n",
    "Dica: Trabalhe com colunas de tempo e localização para mapas, UMAP+HDBSCAN, regras de associação."
   ]
  },
  {
   "cell_type": "code",
   "execution_count": null,
   "id": "5d83c193",
   "metadata": {},
   "outputs": [],
   "source": [
    "# Seu código aqui\n"
   ]
  },
  {
   "cell_type": "markdown",
   "id": "8c4c2e27",
   "metadata": {},
   "source": [
    "**Exercício 348**  \n",
    "Dica: Trabalhe com colunas de tempo e localização para mapas, UMAP+HDBSCAN, regras de associação."
   ]
  },
  {
   "cell_type": "code",
   "execution_count": null,
   "id": "c5468a60",
   "metadata": {},
   "outputs": [],
   "source": [
    "# Seu código aqui\n"
   ]
  },
  {
   "cell_type": "markdown",
   "id": "418ac2da",
   "metadata": {},
   "source": [
    "**Exercício 349**  \n",
    "Dica: Trabalhe com colunas de tempo e localização para mapas, UMAP+HDBSCAN, regras de associação."
   ]
  },
  {
   "cell_type": "code",
   "execution_count": null,
   "id": "e937fe74",
   "metadata": {},
   "outputs": [],
   "source": [
    "# Seu código aqui\n"
   ]
  },
  {
   "cell_type": "markdown",
   "id": "df4b76e1",
   "metadata": {},
   "source": [
    "**Exercício 350**  \n",
    "Dica: Trabalhe com colunas de tempo e localização para mapas, UMAP+HDBSCAN, regras de associação."
   ]
  },
  {
   "cell_type": "code",
   "execution_count": null,
   "id": "da81327a",
   "metadata": {},
   "outputs": [],
   "source": [
    "# Seu código aqui\n"
   ]
  },
  {
   "cell_type": "markdown",
   "id": "2d3a0b06",
   "metadata": {},
   "source": [
    "**Exercício 351**  \n",
    "Dica: Trabalhe com colunas de tempo e localização para mapas, UMAP+HDBSCAN, regras de associação."
   ]
  },
  {
   "cell_type": "code",
   "execution_count": null,
   "id": "c2473eee",
   "metadata": {},
   "outputs": [],
   "source": [
    "# Seu código aqui\n"
   ]
  },
  {
   "cell_type": "markdown",
   "id": "14568fa9",
   "metadata": {},
   "source": [
    "**Exercício 352**  \n",
    "Dica: Trabalhe com colunas de tempo e localização para mapas, UMAP+HDBSCAN, regras de associação."
   ]
  },
  {
   "cell_type": "code",
   "execution_count": null,
   "id": "d214a670",
   "metadata": {},
   "outputs": [],
   "source": [
    "# Seu código aqui\n"
   ]
  },
  {
   "cell_type": "markdown",
   "id": "a787c4b1",
   "metadata": {},
   "source": [
    "**Exercício 353**  \n",
    "Dica: Trabalhe com colunas de tempo e localização para mapas, UMAP+HDBSCAN, regras de associação."
   ]
  },
  {
   "cell_type": "code",
   "execution_count": null,
   "id": "49c0838c",
   "metadata": {},
   "outputs": [],
   "source": [
    "# Seu código aqui\n"
   ]
  },
  {
   "cell_type": "markdown",
   "id": "487ac5c0",
   "metadata": {},
   "source": [
    "**Exercício 354**  \n",
    "Dica: Trabalhe com colunas de tempo e localização para mapas, UMAP+HDBSCAN, regras de associação."
   ]
  },
  {
   "cell_type": "code",
   "execution_count": null,
   "id": "91728cfd",
   "metadata": {},
   "outputs": [],
   "source": [
    "# Seu código aqui\n"
   ]
  },
  {
   "cell_type": "markdown",
   "id": "b41fee3d",
   "metadata": {},
   "source": [
    "**Exercício 355**  \n",
    "Dica: Trabalhe com colunas de tempo e localização para mapas, UMAP+HDBSCAN, regras de associação."
   ]
  },
  {
   "cell_type": "code",
   "execution_count": null,
   "id": "aac5472a",
   "metadata": {},
   "outputs": [],
   "source": [
    "# Seu código aqui\n"
   ]
  },
  {
   "cell_type": "markdown",
   "id": "2188ae76",
   "metadata": {},
   "source": [
    "**Exercício 356**  \n",
    "Dica: Trabalhe com colunas de tempo e localização para mapas, UMAP+HDBSCAN, regras de associação."
   ]
  },
  {
   "cell_type": "code",
   "execution_count": null,
   "id": "32f08b7c",
   "metadata": {},
   "outputs": [],
   "source": [
    "# Seu código aqui\n"
   ]
  },
  {
   "cell_type": "markdown",
   "id": "fb72f441",
   "metadata": {},
   "source": [
    "**Exercício 357**  \n",
    "Dica: Trabalhe com colunas de tempo e localização para mapas, UMAP+HDBSCAN, regras de associação."
   ]
  },
  {
   "cell_type": "code",
   "execution_count": null,
   "id": "e465913d",
   "metadata": {},
   "outputs": [],
   "source": [
    "# Seu código aqui\n"
   ]
  },
  {
   "cell_type": "markdown",
   "id": "4c4437f4",
   "metadata": {},
   "source": [
    "**Exercício 358**  \n",
    "Dica: Trabalhe com colunas de tempo e localização para mapas, UMAP+HDBSCAN, regras de associação."
   ]
  },
  {
   "cell_type": "code",
   "execution_count": null,
   "id": "2ab39a6b",
   "metadata": {},
   "outputs": [],
   "source": [
    "# Seu código aqui\n"
   ]
  },
  {
   "cell_type": "markdown",
   "id": "b6dabc88",
   "metadata": {},
   "source": [
    "**Exercício 359**  \n",
    "Dica: Trabalhe com colunas de tempo e localização para mapas, UMAP+HDBSCAN, regras de associação."
   ]
  },
  {
   "cell_type": "code",
   "execution_count": null,
   "id": "a2140383",
   "metadata": {},
   "outputs": [],
   "source": [
    "# Seu código aqui\n"
   ]
  },
  {
   "cell_type": "markdown",
   "id": "5f1d92dc",
   "metadata": {},
   "source": [
    "**Exercício 360**  \n",
    "Dica: Trabalhe com colunas de tempo e localização para mapas, UMAP+HDBSCAN, regras de associação."
   ]
  },
  {
   "cell_type": "code",
   "execution_count": null,
   "id": "17c62fa4",
   "metadata": {},
   "outputs": [],
   "source": [
    "# Seu código aqui\n"
   ]
  },
  {
   "cell_type": "markdown",
   "id": "818ddd65",
   "metadata": {},
   "source": [
    "**Exercício 361**  \n",
    "Dica: Trabalhe com colunas de tempo e localização para mapas, UMAP+HDBSCAN, regras de associação."
   ]
  },
  {
   "cell_type": "code",
   "execution_count": null,
   "id": "0770c253",
   "metadata": {},
   "outputs": [],
   "source": [
    "# Seu código aqui\n"
   ]
  },
  {
   "cell_type": "markdown",
   "id": "0211247b",
   "metadata": {},
   "source": [
    "**Exercício 362**  \n",
    "Dica: Trabalhe com colunas de tempo e localização para mapas, UMAP+HDBSCAN, regras de associação."
   ]
  },
  {
   "cell_type": "code",
   "execution_count": null,
   "id": "411dc362",
   "metadata": {},
   "outputs": [],
   "source": [
    "# Seu código aqui\n"
   ]
  },
  {
   "cell_type": "markdown",
   "id": "978ebbba",
   "metadata": {},
   "source": [
    "**Exercício 363**  \n",
    "Dica: Trabalhe com colunas de tempo e localização para mapas, UMAP+HDBSCAN, regras de associação."
   ]
  },
  {
   "cell_type": "code",
   "execution_count": null,
   "id": "42637b68",
   "metadata": {},
   "outputs": [],
   "source": [
    "# Seu código aqui\n"
   ]
  },
  {
   "cell_type": "markdown",
   "id": "284874b1",
   "metadata": {},
   "source": [
    "**Exercício 364**  \n",
    "Dica: Trabalhe com colunas de tempo e localização para mapas, UMAP+HDBSCAN, regras de associação."
   ]
  },
  {
   "cell_type": "code",
   "execution_count": null,
   "id": "7bf74a07",
   "metadata": {},
   "outputs": [],
   "source": [
    "# Seu código aqui\n"
   ]
  },
  {
   "cell_type": "markdown",
   "id": "3c9687e4",
   "metadata": {},
   "source": [
    "**Exercício 365**  \n",
    "Dica: Trabalhe com colunas de tempo e localização para mapas, UMAP+HDBSCAN, regras de associação."
   ]
  },
  {
   "cell_type": "code",
   "execution_count": null,
   "id": "3d7f8d18",
   "metadata": {},
   "outputs": [],
   "source": [
    "# Seu código aqui\n"
   ]
  },
  {
   "cell_type": "markdown",
   "id": "dd47ce6a",
   "metadata": {},
   "source": [
    "**Exercício 366**  \n",
    "Dica: Trabalhe com colunas de tempo e localização para mapas, UMAP+HDBSCAN, regras de associação."
   ]
  },
  {
   "cell_type": "code",
   "execution_count": null,
   "id": "9382fdd5",
   "metadata": {},
   "outputs": [],
   "source": [
    "# Seu código aqui\n"
   ]
  },
  {
   "cell_type": "markdown",
   "id": "2200d3fb",
   "metadata": {},
   "source": [
    "**Exercício 367**  \n",
    "Dica: Trabalhe com colunas de tempo e localização para mapas, UMAP+HDBSCAN, regras de associação."
   ]
  },
  {
   "cell_type": "code",
   "execution_count": null,
   "id": "b48de0a1",
   "metadata": {},
   "outputs": [],
   "source": [
    "# Seu código aqui\n"
   ]
  },
  {
   "cell_type": "markdown",
   "id": "10a0128b",
   "metadata": {},
   "source": [
    "**Exercício 368**  \n",
    "Dica: Trabalhe com colunas de tempo e localização para mapas, UMAP+HDBSCAN, regras de associação."
   ]
  },
  {
   "cell_type": "code",
   "execution_count": null,
   "id": "3fde2ffe",
   "metadata": {},
   "outputs": [],
   "source": [
    "# Seu código aqui\n"
   ]
  },
  {
   "cell_type": "markdown",
   "id": "40dddbed",
   "metadata": {},
   "source": [
    "**Exercício 369**  \n",
    "Dica: Trabalhe com colunas de tempo e localização para mapas, UMAP+HDBSCAN, regras de associação."
   ]
  },
  {
   "cell_type": "code",
   "execution_count": null,
   "id": "ed96c88d",
   "metadata": {},
   "outputs": [],
   "source": [
    "# Seu código aqui\n"
   ]
  },
  {
   "cell_type": "markdown",
   "id": "0b911b16",
   "metadata": {},
   "source": [
    "**Exercício 370**  \n",
    "Dica: Trabalhe com colunas de tempo e localização para mapas, UMAP+HDBSCAN, regras de associação."
   ]
  },
  {
   "cell_type": "code",
   "execution_count": null,
   "id": "fd122ac6",
   "metadata": {},
   "outputs": [],
   "source": [
    "# Seu código aqui\n"
   ]
  },
  {
   "cell_type": "markdown",
   "id": "130335d2",
   "metadata": {},
   "source": [
    "**Exercício 371**  \n",
    "Dica: Trabalhe com colunas de tempo e localização para mapas, UMAP+HDBSCAN, regras de associação."
   ]
  },
  {
   "cell_type": "code",
   "execution_count": null,
   "id": "866c79c6",
   "metadata": {},
   "outputs": [],
   "source": [
    "# Seu código aqui\n"
   ]
  },
  {
   "cell_type": "markdown",
   "id": "89a49b47",
   "metadata": {},
   "source": [
    "**Exercício 372**  \n",
    "Dica: Trabalhe com colunas de tempo e localização para mapas, UMAP+HDBSCAN, regras de associação."
   ]
  },
  {
   "cell_type": "code",
   "execution_count": null,
   "id": "9e020c7d",
   "metadata": {},
   "outputs": [],
   "source": [
    "# Seu código aqui\n"
   ]
  },
  {
   "cell_type": "markdown",
   "id": "6d45fca3",
   "metadata": {},
   "source": [
    "**Exercício 373**  \n",
    "Dica: Trabalhe com colunas de tempo e localização para mapas, UMAP+HDBSCAN, regras de associação."
   ]
  },
  {
   "cell_type": "code",
   "execution_count": null,
   "id": "91dd5ee8",
   "metadata": {},
   "outputs": [],
   "source": [
    "# Seu código aqui\n"
   ]
  },
  {
   "cell_type": "markdown",
   "id": "0c78ac7a",
   "metadata": {},
   "source": [
    "**Exercício 374**  \n",
    "Dica: Trabalhe com colunas de tempo e localização para mapas, UMAP+HDBSCAN, regras de associação."
   ]
  },
  {
   "cell_type": "code",
   "execution_count": null,
   "id": "a57ec9ac",
   "metadata": {},
   "outputs": [],
   "source": [
    "# Seu código aqui\n"
   ]
  },
  {
   "cell_type": "markdown",
   "id": "99a7dcc7",
   "metadata": {},
   "source": [
    "**Exercício 375**  \n",
    "Dica: Trabalhe com colunas de tempo e localização para mapas, UMAP+HDBSCAN, regras de associação."
   ]
  },
  {
   "cell_type": "code",
   "execution_count": null,
   "id": "3dd05335",
   "metadata": {},
   "outputs": [],
   "source": [
    "# Seu código aqui\n"
   ]
  },
  {
   "cell_type": "markdown",
   "id": "f885a650",
   "metadata": {},
   "source": [
    "**Exercício 376**  \n",
    "Dica: Trabalhe com colunas de tempo e localização para mapas, UMAP+HDBSCAN, regras de associação."
   ]
  },
  {
   "cell_type": "code",
   "execution_count": null,
   "id": "12e2b139",
   "metadata": {},
   "outputs": [],
   "source": [
    "# Seu código aqui\n"
   ]
  },
  {
   "cell_type": "markdown",
   "id": "7a973190",
   "metadata": {},
   "source": [
    "**Exercício 377**  \n",
    "Dica: Trabalhe com colunas de tempo e localização para mapas, UMAP+HDBSCAN, regras de associação."
   ]
  },
  {
   "cell_type": "code",
   "execution_count": null,
   "id": "92d4567d",
   "metadata": {},
   "outputs": [],
   "source": [
    "# Seu código aqui\n"
   ]
  },
  {
   "cell_type": "markdown",
   "id": "98fe6bba",
   "metadata": {},
   "source": [
    "**Exercício 378**  \n",
    "Dica: Trabalhe com colunas de tempo e localização para mapas, UMAP+HDBSCAN, regras de associação."
   ]
  },
  {
   "cell_type": "code",
   "execution_count": null,
   "id": "c103289f",
   "metadata": {},
   "outputs": [],
   "source": [
    "# Seu código aqui\n"
   ]
  },
  {
   "cell_type": "markdown",
   "id": "429afad7",
   "metadata": {},
   "source": [
    "**Exercício 379**  \n",
    "Dica: Trabalhe com colunas de tempo e localização para mapas, UMAP+HDBSCAN, regras de associação."
   ]
  },
  {
   "cell_type": "code",
   "execution_count": null,
   "id": "b13f7167",
   "metadata": {},
   "outputs": [],
   "source": [
    "# Seu código aqui\n"
   ]
  },
  {
   "cell_type": "markdown",
   "id": "29771321",
   "metadata": {},
   "source": [
    "**Exercício 380**  \n",
    "Dica: Trabalhe com colunas de tempo e localização para mapas, UMAP+HDBSCAN, regras de associação."
   ]
  },
  {
   "cell_type": "code",
   "execution_count": null,
   "id": "97dff837",
   "metadata": {},
   "outputs": [],
   "source": [
    "# Seu código aqui\n"
   ]
  },
  {
   "cell_type": "markdown",
   "id": "d9a5924b",
   "metadata": {},
   "source": [
    "**Exercício 381**  \n",
    "Dica: Trabalhe com colunas de tempo e localização para mapas, UMAP+HDBSCAN, regras de associação."
   ]
  },
  {
   "cell_type": "code",
   "execution_count": null,
   "id": "59764b5a",
   "metadata": {},
   "outputs": [],
   "source": [
    "# Seu código aqui\n"
   ]
  },
  {
   "cell_type": "markdown",
   "id": "3ca8c709",
   "metadata": {},
   "source": [
    "**Exercício 382**  \n",
    "Dica: Trabalhe com colunas de tempo e localização para mapas, UMAP+HDBSCAN, regras de associação."
   ]
  },
  {
   "cell_type": "code",
   "execution_count": null,
   "id": "414c87b0",
   "metadata": {},
   "outputs": [],
   "source": [
    "# Seu código aqui\n"
   ]
  },
  {
   "cell_type": "markdown",
   "id": "9b0a5738",
   "metadata": {},
   "source": [
    "**Exercício 383**  \n",
    "Dica: Trabalhe com colunas de tempo e localização para mapas, UMAP+HDBSCAN, regras de associação."
   ]
  },
  {
   "cell_type": "code",
   "execution_count": null,
   "id": "c2fbee5f",
   "metadata": {},
   "outputs": [],
   "source": [
    "# Seu código aqui\n"
   ]
  },
  {
   "cell_type": "markdown",
   "id": "558bbfc0",
   "metadata": {},
   "source": [
    "**Exercício 384**  \n",
    "Dica: Trabalhe com colunas de tempo e localização para mapas, UMAP+HDBSCAN, regras de associação."
   ]
  },
  {
   "cell_type": "code",
   "execution_count": null,
   "id": "9f81f005",
   "metadata": {},
   "outputs": [],
   "source": [
    "# Seu código aqui\n"
   ]
  },
  {
   "cell_type": "markdown",
   "id": "c7fc99e1",
   "metadata": {},
   "source": [
    "**Exercício 385**  \n",
    "Dica: Trabalhe com colunas de tempo e localização para mapas, UMAP+HDBSCAN, regras de associação."
   ]
  },
  {
   "cell_type": "code",
   "execution_count": null,
   "id": "20c48947",
   "metadata": {},
   "outputs": [],
   "source": [
    "# Seu código aqui\n"
   ]
  },
  {
   "cell_type": "markdown",
   "id": "5ce078e3",
   "metadata": {},
   "source": [
    "**Exercício 386**  \n",
    "Dica: Trabalhe com colunas de tempo e localização para mapas, UMAP+HDBSCAN, regras de associação."
   ]
  },
  {
   "cell_type": "code",
   "execution_count": null,
   "id": "86409f1f",
   "metadata": {},
   "outputs": [],
   "source": [
    "# Seu código aqui\n"
   ]
  },
  {
   "cell_type": "markdown",
   "id": "c6be317b",
   "metadata": {},
   "source": [
    "**Exercício 387**  \n",
    "Dica: Trabalhe com colunas de tempo e localização para mapas, UMAP+HDBSCAN, regras de associação."
   ]
  },
  {
   "cell_type": "code",
   "execution_count": null,
   "id": "6f590481",
   "metadata": {},
   "outputs": [],
   "source": [
    "# Seu código aqui\n"
   ]
  },
  {
   "cell_type": "markdown",
   "id": "a33405e4",
   "metadata": {},
   "source": [
    "**Exercício 388**  \n",
    "Dica: Trabalhe com colunas de tempo e localização para mapas, UMAP+HDBSCAN, regras de associação."
   ]
  },
  {
   "cell_type": "code",
   "execution_count": null,
   "id": "866cb69e",
   "metadata": {},
   "outputs": [],
   "source": [
    "# Seu código aqui\n"
   ]
  },
  {
   "cell_type": "markdown",
   "id": "669859fb",
   "metadata": {},
   "source": [
    "**Exercício 389**  \n",
    "Dica: Trabalhe com colunas de tempo e localização para mapas, UMAP+HDBSCAN, regras de associação."
   ]
  },
  {
   "cell_type": "code",
   "execution_count": null,
   "id": "87d7f64e",
   "metadata": {},
   "outputs": [],
   "source": [
    "# Seu código aqui\n"
   ]
  },
  {
   "cell_type": "markdown",
   "id": "8190dc5b",
   "metadata": {},
   "source": [
    "**Exercício 390**  \n",
    "Dica: Trabalhe com colunas de tempo e localização para mapas, UMAP+HDBSCAN, regras de associação."
   ]
  },
  {
   "cell_type": "code",
   "execution_count": null,
   "id": "0d0c865f",
   "metadata": {},
   "outputs": [],
   "source": [
    "# Seu código aqui\n"
   ]
  },
  {
   "cell_type": "markdown",
   "id": "723ad531",
   "metadata": {},
   "source": [
    "**Exercício 391**  \n",
    "Dica: Trabalhe com colunas de tempo e localização para mapas, UMAP+HDBSCAN, regras de associação."
   ]
  },
  {
   "cell_type": "code",
   "execution_count": null,
   "id": "e2b4598c",
   "metadata": {},
   "outputs": [],
   "source": [
    "# Seu código aqui\n"
   ]
  },
  {
   "cell_type": "markdown",
   "id": "5f345247",
   "metadata": {},
   "source": [
    "**Exercício 392**  \n",
    "Dica: Trabalhe com colunas de tempo e localização para mapas, UMAP+HDBSCAN, regras de associação."
   ]
  },
  {
   "cell_type": "code",
   "execution_count": null,
   "id": "d7af37c0",
   "metadata": {},
   "outputs": [],
   "source": [
    "# Seu código aqui\n"
   ]
  },
  {
   "cell_type": "markdown",
   "id": "c5183d0b",
   "metadata": {},
   "source": [
    "**Exercício 393**  \n",
    "Dica: Trabalhe com colunas de tempo e localização para mapas, UMAP+HDBSCAN, regras de associação."
   ]
  },
  {
   "cell_type": "code",
   "execution_count": null,
   "id": "2b08e020",
   "metadata": {},
   "outputs": [],
   "source": [
    "# Seu código aqui\n"
   ]
  },
  {
   "cell_type": "markdown",
   "id": "3d0129c2",
   "metadata": {},
   "source": [
    "**Exercício 394**  \n",
    "Dica: Trabalhe com colunas de tempo e localização para mapas, UMAP+HDBSCAN, regras de associação."
   ]
  },
  {
   "cell_type": "code",
   "execution_count": null,
   "id": "43038908",
   "metadata": {},
   "outputs": [],
   "source": [
    "# Seu código aqui\n"
   ]
  },
  {
   "cell_type": "markdown",
   "id": "8661081a",
   "metadata": {},
   "source": [
    "**Exercício 395**  \n",
    "Dica: Trabalhe com colunas de tempo e localização para mapas, UMAP+HDBSCAN, regras de associação."
   ]
  },
  {
   "cell_type": "code",
   "execution_count": null,
   "id": "e6e2cc18",
   "metadata": {},
   "outputs": [],
   "source": [
    "# Seu código aqui\n"
   ]
  },
  {
   "cell_type": "markdown",
   "id": "b9f11aac",
   "metadata": {},
   "source": [
    "**Exercício 396**  \n",
    "Dica: Trabalhe com colunas de tempo e localização para mapas, UMAP+HDBSCAN, regras de associação."
   ]
  },
  {
   "cell_type": "code",
   "execution_count": null,
   "id": "5d39c74a",
   "metadata": {},
   "outputs": [],
   "source": [
    "# Seu código aqui\n"
   ]
  },
  {
   "cell_type": "markdown",
   "id": "a8e726cd",
   "metadata": {},
   "source": [
    "**Exercício 397**  \n",
    "Dica: Trabalhe com colunas de tempo e localização para mapas, UMAP+HDBSCAN, regras de associação."
   ]
  },
  {
   "cell_type": "code",
   "execution_count": null,
   "id": "ab2a1678",
   "metadata": {},
   "outputs": [],
   "source": [
    "# Seu código aqui\n"
   ]
  },
  {
   "cell_type": "markdown",
   "id": "8a17e948",
   "metadata": {},
   "source": [
    "**Exercício 398**  \n",
    "Dica: Trabalhe com colunas de tempo e localização para mapas, UMAP+HDBSCAN, regras de associação."
   ]
  },
  {
   "cell_type": "code",
   "execution_count": null,
   "id": "7dc7fa97",
   "metadata": {},
   "outputs": [],
   "source": [
    "# Seu código aqui\n"
   ]
  },
  {
   "cell_type": "markdown",
   "id": "4b34d9a4",
   "metadata": {},
   "source": [
    "**Exercício 399**  \n",
    "Dica: Trabalhe com colunas de tempo e localização para mapas, UMAP+HDBSCAN, regras de associação."
   ]
  },
  {
   "cell_type": "code",
   "execution_count": null,
   "id": "7acea069",
   "metadata": {},
   "outputs": [],
   "source": [
    "# Seu código aqui\n"
   ]
  },
  {
   "cell_type": "markdown",
   "id": "ed7f309f",
   "metadata": {},
   "source": [
    "**Exercício 400**  \n",
    "Dica: Trabalhe com colunas de tempo e localização para mapas, UMAP+HDBSCAN, regras de associação."
   ]
  },
  {
   "cell_type": "code",
   "execution_count": null,
   "id": "2cc76ed1",
   "metadata": {},
   "outputs": [],
   "source": [
    "# Seu código aqui\n"
   ]
  },
  {
   "cell_type": "markdown",
   "id": "336812d5",
   "metadata": {},
   "source": [
    "**Exercício 401**  \n",
    "Dica: Trabalhe com colunas de tempo e localização para mapas, UMAP+HDBSCAN, regras de associação."
   ]
  },
  {
   "cell_type": "code",
   "execution_count": null,
   "id": "65b0f29e",
   "metadata": {},
   "outputs": [],
   "source": [
    "# Seu código aqui\n"
   ]
  },
  {
   "cell_type": "markdown",
   "id": "d1b021f2",
   "metadata": {},
   "source": [
    "**Exercício 402**  \n",
    "Dica: Trabalhe com colunas de tempo e localização para mapas, UMAP+HDBSCAN, regras de associação."
   ]
  },
  {
   "cell_type": "code",
   "execution_count": null,
   "id": "9a6ed8f5",
   "metadata": {},
   "outputs": [],
   "source": [
    "# Seu código aqui\n"
   ]
  },
  {
   "cell_type": "markdown",
   "id": "34355665",
   "metadata": {},
   "source": [
    "**Exercício 403**  \n",
    "Dica: Trabalhe com colunas de tempo e localização para mapas, UMAP+HDBSCAN, regras de associação."
   ]
  },
  {
   "cell_type": "code",
   "execution_count": null,
   "id": "9c40a94d",
   "metadata": {},
   "outputs": [],
   "source": [
    "# Seu código aqui\n"
   ]
  },
  {
   "cell_type": "markdown",
   "id": "ce88eb2a",
   "metadata": {},
   "source": [
    "**Exercício 404**  \n",
    "Dica: Trabalhe com colunas de tempo e localização para mapas, UMAP+HDBSCAN, regras de associação."
   ]
  },
  {
   "cell_type": "code",
   "execution_count": null,
   "id": "eaa0c8c0",
   "metadata": {},
   "outputs": [],
   "source": [
    "# Seu código aqui\n"
   ]
  },
  {
   "cell_type": "markdown",
   "id": "987ab009",
   "metadata": {},
   "source": [
    "**Exercício 405**  \n",
    "Dica: Trabalhe com colunas de tempo e localização para mapas, UMAP+HDBSCAN, regras de associação."
   ]
  },
  {
   "cell_type": "code",
   "execution_count": null,
   "id": "5991cf09",
   "metadata": {},
   "outputs": [],
   "source": [
    "# Seu código aqui\n"
   ]
  },
  {
   "cell_type": "markdown",
   "id": "c7c51f89",
   "metadata": {},
   "source": [
    "**Exercício 406**  \n",
    "Dica: Trabalhe com colunas de tempo e localização para mapas, UMAP+HDBSCAN, regras de associação."
   ]
  },
  {
   "cell_type": "code",
   "execution_count": null,
   "id": "df6eb37b",
   "metadata": {},
   "outputs": [],
   "source": [
    "# Seu código aqui\n"
   ]
  },
  {
   "cell_type": "markdown",
   "id": "22e221fb",
   "metadata": {},
   "source": [
    "**Exercício 407**  \n",
    "Dica: Trabalhe com colunas de tempo e localização para mapas, UMAP+HDBSCAN, regras de associação."
   ]
  },
  {
   "cell_type": "code",
   "execution_count": null,
   "id": "67c77302",
   "metadata": {},
   "outputs": [],
   "source": [
    "# Seu código aqui\n"
   ]
  },
  {
   "cell_type": "markdown",
   "id": "071e9e75",
   "metadata": {},
   "source": [
    "**Exercício 408**  \n",
    "Dica: Trabalhe com colunas de tempo e localização para mapas, UMAP+HDBSCAN, regras de associação."
   ]
  },
  {
   "cell_type": "code",
   "execution_count": null,
   "id": "8a27a669",
   "metadata": {},
   "outputs": [],
   "source": [
    "# Seu código aqui\n"
   ]
  },
  {
   "cell_type": "markdown",
   "id": "01eebccc",
   "metadata": {},
   "source": [
    "**Exercício 409**  \n",
    "Dica: Trabalhe com colunas de tempo e localização para mapas, UMAP+HDBSCAN, regras de associação."
   ]
  },
  {
   "cell_type": "code",
   "execution_count": null,
   "id": "99eefb80",
   "metadata": {},
   "outputs": [],
   "source": [
    "# Seu código aqui\n"
   ]
  },
  {
   "cell_type": "markdown",
   "id": "5cdafcc2",
   "metadata": {},
   "source": [
    "**Exercício 410**  \n",
    "Dica: Trabalhe com colunas de tempo e localização para mapas, UMAP+HDBSCAN, regras de associação."
   ]
  },
  {
   "cell_type": "code",
   "execution_count": null,
   "id": "df4ded38",
   "metadata": {},
   "outputs": [],
   "source": [
    "# Seu código aqui\n"
   ]
  },
  {
   "cell_type": "markdown",
   "id": "d51d1b53",
   "metadata": {},
   "source": [
    "**Exercício 411**  \n",
    "Dica: Trabalhe com colunas de tempo e localização para mapas, UMAP+HDBSCAN, regras de associação."
   ]
  },
  {
   "cell_type": "code",
   "execution_count": null,
   "id": "29f0285c",
   "metadata": {},
   "outputs": [],
   "source": [
    "# Seu código aqui\n"
   ]
  },
  {
   "cell_type": "markdown",
   "id": "eaac90b4",
   "metadata": {},
   "source": [
    "**Exercício 412**  \n",
    "Dica: Trabalhe com colunas de tempo e localização para mapas, UMAP+HDBSCAN, regras de associação."
   ]
  },
  {
   "cell_type": "code",
   "execution_count": null,
   "id": "a2ff3655",
   "metadata": {},
   "outputs": [],
   "source": [
    "# Seu código aqui\n"
   ]
  },
  {
   "cell_type": "markdown",
   "id": "bce07860",
   "metadata": {},
   "source": [
    "**Exercício 413**  \n",
    "Dica: Trabalhe com colunas de tempo e localização para mapas, UMAP+HDBSCAN, regras de associação."
   ]
  },
  {
   "cell_type": "code",
   "execution_count": null,
   "id": "d110ea1d",
   "metadata": {},
   "outputs": [],
   "source": [
    "# Seu código aqui\n"
   ]
  },
  {
   "cell_type": "markdown",
   "id": "c032f7f3",
   "metadata": {},
   "source": [
    "**Exercício 414**  \n",
    "Dica: Trabalhe com colunas de tempo e localização para mapas, UMAP+HDBSCAN, regras de associação."
   ]
  },
  {
   "cell_type": "code",
   "execution_count": null,
   "id": "84e46d5c",
   "metadata": {},
   "outputs": [],
   "source": [
    "# Seu código aqui\n"
   ]
  },
  {
   "cell_type": "markdown",
   "id": "0032229c",
   "metadata": {},
   "source": [
    "**Exercício 415**  \n",
    "Dica: Trabalhe com colunas de tempo e localização para mapas, UMAP+HDBSCAN, regras de associação."
   ]
  },
  {
   "cell_type": "code",
   "execution_count": null,
   "id": "72369098",
   "metadata": {},
   "outputs": [],
   "source": [
    "# Seu código aqui\n"
   ]
  },
  {
   "cell_type": "markdown",
   "id": "fd230c5d",
   "metadata": {},
   "source": [
    "**Exercício 416**  \n",
    "Dica: Trabalhe com colunas de tempo e localização para mapas, UMAP+HDBSCAN, regras de associação."
   ]
  },
  {
   "cell_type": "code",
   "execution_count": null,
   "id": "8ba21323",
   "metadata": {},
   "outputs": [],
   "source": [
    "# Seu código aqui\n"
   ]
  },
  {
   "cell_type": "markdown",
   "id": "b755de3d",
   "metadata": {},
   "source": [
    "**Exercício 417**  \n",
    "Dica: Trabalhe com colunas de tempo e localização para mapas, UMAP+HDBSCAN, regras de associação."
   ]
  },
  {
   "cell_type": "code",
   "execution_count": null,
   "id": "b75709e8",
   "metadata": {},
   "outputs": [],
   "source": [
    "# Seu código aqui\n"
   ]
  },
  {
   "cell_type": "markdown",
   "id": "b410a6cf",
   "metadata": {},
   "source": [
    "**Exercício 418**  \n",
    "Dica: Trabalhe com colunas de tempo e localização para mapas, UMAP+HDBSCAN, regras de associação."
   ]
  },
  {
   "cell_type": "code",
   "execution_count": null,
   "id": "1a689f1b",
   "metadata": {},
   "outputs": [],
   "source": [
    "# Seu código aqui\n"
   ]
  },
  {
   "cell_type": "markdown",
   "id": "a4bafd54",
   "metadata": {},
   "source": [
    "**Exercício 419**  \n",
    "Dica: Trabalhe com colunas de tempo e localização para mapas, UMAP+HDBSCAN, regras de associação."
   ]
  },
  {
   "cell_type": "code",
   "execution_count": null,
   "id": "86f65faa",
   "metadata": {},
   "outputs": [],
   "source": [
    "# Seu código aqui\n"
   ]
  },
  {
   "cell_type": "markdown",
   "id": "03947c3e",
   "metadata": {},
   "source": [
    "**Exercício 420**  \n",
    "Dica: Trabalhe com colunas de tempo e localização para mapas, UMAP+HDBSCAN, regras de associação."
   ]
  },
  {
   "cell_type": "code",
   "execution_count": null,
   "id": "29415f35",
   "metadata": {},
   "outputs": [],
   "source": [
    "# Seu código aqui\n"
   ]
  },
  {
   "cell_type": "markdown",
   "id": "04915009",
   "metadata": {},
   "source": [
    "**Exercício 421**  \n",
    "Dica: Trabalhe com colunas de tempo e localização para mapas, UMAP+HDBSCAN, regras de associação."
   ]
  },
  {
   "cell_type": "code",
   "execution_count": null,
   "id": "b62164df",
   "metadata": {},
   "outputs": [],
   "source": [
    "# Seu código aqui\n"
   ]
  },
  {
   "cell_type": "markdown",
   "id": "47080231",
   "metadata": {},
   "source": [
    "**Exercício 422**  \n",
    "Dica: Trabalhe com colunas de tempo e localização para mapas, UMAP+HDBSCAN, regras de associação."
   ]
  },
  {
   "cell_type": "code",
   "execution_count": null,
   "id": "73fa54d7",
   "metadata": {},
   "outputs": [],
   "source": [
    "# Seu código aqui\n"
   ]
  },
  {
   "cell_type": "markdown",
   "id": "868907d8",
   "metadata": {},
   "source": [
    "**Exercício 423**  \n",
    "Dica: Trabalhe com colunas de tempo e localização para mapas, UMAP+HDBSCAN, regras de associação."
   ]
  },
  {
   "cell_type": "code",
   "execution_count": null,
   "id": "95b3ad89",
   "metadata": {},
   "outputs": [],
   "source": [
    "# Seu código aqui\n"
   ]
  },
  {
   "cell_type": "markdown",
   "id": "96dd88ef",
   "metadata": {},
   "source": [
    "**Exercício 424**  \n",
    "Dica: Trabalhe com colunas de tempo e localização para mapas, UMAP+HDBSCAN, regras de associação."
   ]
  },
  {
   "cell_type": "code",
   "execution_count": null,
   "id": "1857938f",
   "metadata": {},
   "outputs": [],
   "source": [
    "# Seu código aqui\n"
   ]
  },
  {
   "cell_type": "markdown",
   "id": "8c4c6644",
   "metadata": {},
   "source": [
    "**Exercício 425**  \n",
    "Dica: Trabalhe com colunas de tempo e localização para mapas, UMAP+HDBSCAN, regras de associação."
   ]
  },
  {
   "cell_type": "code",
   "execution_count": null,
   "id": "881065de",
   "metadata": {},
   "outputs": [],
   "source": [
    "# Seu código aqui\n"
   ]
  },
  {
   "cell_type": "markdown",
   "id": "bfa42539",
   "metadata": {},
   "source": [
    "**Exercício 426**  \n",
    "Dica: Trabalhe com colunas de tempo e localização para mapas, UMAP+HDBSCAN, regras de associação."
   ]
  },
  {
   "cell_type": "code",
   "execution_count": null,
   "id": "b4786b3e",
   "metadata": {},
   "outputs": [],
   "source": [
    "# Seu código aqui\n"
   ]
  },
  {
   "cell_type": "markdown",
   "id": "620b780c",
   "metadata": {},
   "source": [
    "**Exercício 427**  \n",
    "Dica: Trabalhe com colunas de tempo e localização para mapas, UMAP+HDBSCAN, regras de associação."
   ]
  },
  {
   "cell_type": "code",
   "execution_count": null,
   "id": "c02705ab",
   "metadata": {},
   "outputs": [],
   "source": [
    "# Seu código aqui\n"
   ]
  },
  {
   "cell_type": "markdown",
   "id": "7a9c4a44",
   "metadata": {},
   "source": [
    "**Exercício 428**  \n",
    "Dica: Trabalhe com colunas de tempo e localização para mapas, UMAP+HDBSCAN, regras de associação."
   ]
  },
  {
   "cell_type": "code",
   "execution_count": null,
   "id": "60e56a39",
   "metadata": {},
   "outputs": [],
   "source": [
    "# Seu código aqui\n"
   ]
  },
  {
   "cell_type": "markdown",
   "id": "34b446b9",
   "metadata": {},
   "source": [
    "**Exercício 429**  \n",
    "Dica: Trabalhe com colunas de tempo e localização para mapas, UMAP+HDBSCAN, regras de associação."
   ]
  },
  {
   "cell_type": "code",
   "execution_count": null,
   "id": "6f3fcd7a",
   "metadata": {},
   "outputs": [],
   "source": [
    "# Seu código aqui\n"
   ]
  },
  {
   "cell_type": "markdown",
   "id": "8e84dd9d",
   "metadata": {},
   "source": [
    "**Exercício 430**  \n",
    "Dica: Trabalhe com colunas de tempo e localização para mapas, UMAP+HDBSCAN, regras de associação."
   ]
  },
  {
   "cell_type": "code",
   "execution_count": null,
   "id": "c3521971",
   "metadata": {},
   "outputs": [],
   "source": [
    "# Seu código aqui\n"
   ]
  },
  {
   "cell_type": "markdown",
   "id": "0e91003e",
   "metadata": {},
   "source": [
    "**Exercício 431**  \n",
    "Dica: Trabalhe com colunas de tempo e localização para mapas, UMAP+HDBSCAN, regras de associação."
   ]
  },
  {
   "cell_type": "code",
   "execution_count": null,
   "id": "f0404d2e",
   "metadata": {},
   "outputs": [],
   "source": [
    "# Seu código aqui\n"
   ]
  },
  {
   "cell_type": "markdown",
   "id": "60e18cea",
   "metadata": {},
   "source": [
    "**Exercício 432**  \n",
    "Dica: Trabalhe com colunas de tempo e localização para mapas, UMAP+HDBSCAN, regras de associação."
   ]
  },
  {
   "cell_type": "code",
   "execution_count": null,
   "id": "95219b6d",
   "metadata": {},
   "outputs": [],
   "source": [
    "# Seu código aqui\n"
   ]
  },
  {
   "cell_type": "markdown",
   "id": "1a310790",
   "metadata": {},
   "source": [
    "**Exercício 433**  \n",
    "Dica: Trabalhe com colunas de tempo e localização para mapas, UMAP+HDBSCAN, regras de associação."
   ]
  },
  {
   "cell_type": "code",
   "execution_count": null,
   "id": "e2577f3c",
   "metadata": {},
   "outputs": [],
   "source": [
    "# Seu código aqui\n"
   ]
  },
  {
   "cell_type": "markdown",
   "id": "bda772c5",
   "metadata": {},
   "source": [
    "**Exercício 434**  \n",
    "Dica: Trabalhe com colunas de tempo e localização para mapas, UMAP+HDBSCAN, regras de associação."
   ]
  },
  {
   "cell_type": "code",
   "execution_count": null,
   "id": "8ad14ec3",
   "metadata": {},
   "outputs": [],
   "source": [
    "# Seu código aqui\n"
   ]
  },
  {
   "cell_type": "markdown",
   "id": "ec6a3f3b",
   "metadata": {},
   "source": [
    "**Exercício 435**  \n",
    "Dica: Trabalhe com colunas de tempo e localização para mapas, UMAP+HDBSCAN, regras de associação."
   ]
  },
  {
   "cell_type": "code",
   "execution_count": null,
   "id": "256a8073",
   "metadata": {},
   "outputs": [],
   "source": [
    "# Seu código aqui\n"
   ]
  },
  {
   "cell_type": "markdown",
   "id": "1bd76ad2",
   "metadata": {},
   "source": [
    "**Exercício 436**  \n",
    "Dica: Trabalhe com colunas de tempo e localização para mapas, UMAP+HDBSCAN, regras de associação."
   ]
  },
  {
   "cell_type": "code",
   "execution_count": null,
   "id": "be241fe9",
   "metadata": {},
   "outputs": [],
   "source": [
    "# Seu código aqui\n"
   ]
  },
  {
   "cell_type": "markdown",
   "id": "3f8ad3c5",
   "metadata": {},
   "source": [
    "**Exercício 437**  \n",
    "Dica: Trabalhe com colunas de tempo e localização para mapas, UMAP+HDBSCAN, regras de associação."
   ]
  },
  {
   "cell_type": "code",
   "execution_count": null,
   "id": "351a4546",
   "metadata": {},
   "outputs": [],
   "source": [
    "# Seu código aqui\n"
   ]
  },
  {
   "cell_type": "markdown",
   "id": "d5a2473e",
   "metadata": {},
   "source": [
    "**Exercício 438**  \n",
    "Dica: Trabalhe com colunas de tempo e localização para mapas, UMAP+HDBSCAN, regras de associação."
   ]
  },
  {
   "cell_type": "code",
   "execution_count": null,
   "id": "2c58ee9c",
   "metadata": {},
   "outputs": [],
   "source": [
    "# Seu código aqui\n"
   ]
  },
  {
   "cell_type": "markdown",
   "id": "6bce793f",
   "metadata": {},
   "source": [
    "**Exercício 439**  \n",
    "Dica: Trabalhe com colunas de tempo e localização para mapas, UMAP+HDBSCAN, regras de associação."
   ]
  },
  {
   "cell_type": "code",
   "execution_count": null,
   "id": "ffb0064d",
   "metadata": {},
   "outputs": [],
   "source": [
    "# Seu código aqui\n"
   ]
  },
  {
   "cell_type": "markdown",
   "id": "c094db76",
   "metadata": {},
   "source": [
    "**Exercício 440**  \n",
    "Dica: Trabalhe com colunas de tempo e localização para mapas, UMAP+HDBSCAN, regras de associação."
   ]
  },
  {
   "cell_type": "code",
   "execution_count": null,
   "id": "103f3f8e",
   "metadata": {},
   "outputs": [],
   "source": [
    "# Seu código aqui\n"
   ]
  },
  {
   "cell_type": "markdown",
   "id": "5ed2e273",
   "metadata": {},
   "source": [
    "**Exercício 441**  \n",
    "Dica: Trabalhe com colunas de tempo e localização para mapas, UMAP+HDBSCAN, regras de associação."
   ]
  },
  {
   "cell_type": "code",
   "execution_count": null,
   "id": "b387edb3",
   "metadata": {},
   "outputs": [],
   "source": [
    "# Seu código aqui\n"
   ]
  },
  {
   "cell_type": "markdown",
   "id": "667c18f5",
   "metadata": {},
   "source": [
    "**Exercício 442**  \n",
    "Dica: Trabalhe com colunas de tempo e localização para mapas, UMAP+HDBSCAN, regras de associação."
   ]
  },
  {
   "cell_type": "code",
   "execution_count": null,
   "id": "956d4f2a",
   "metadata": {},
   "outputs": [],
   "source": [
    "# Seu código aqui\n"
   ]
  },
  {
   "cell_type": "markdown",
   "id": "94ca6990",
   "metadata": {},
   "source": [
    "**Exercício 443**  \n",
    "Dica: Trabalhe com colunas de tempo e localização para mapas, UMAP+HDBSCAN, regras de associação."
   ]
  },
  {
   "cell_type": "code",
   "execution_count": null,
   "id": "cc9f473d",
   "metadata": {},
   "outputs": [],
   "source": [
    "# Seu código aqui\n"
   ]
  },
  {
   "cell_type": "markdown",
   "id": "e0a5dbd4",
   "metadata": {},
   "source": [
    "**Exercício 444**  \n",
    "Dica: Trabalhe com colunas de tempo e localização para mapas, UMAP+HDBSCAN, regras de associação."
   ]
  },
  {
   "cell_type": "code",
   "execution_count": null,
   "id": "51f3435b",
   "metadata": {},
   "outputs": [],
   "source": [
    "# Seu código aqui\n"
   ]
  },
  {
   "cell_type": "markdown",
   "id": "11ef0c3c",
   "metadata": {},
   "source": [
    "**Exercício 445**  \n",
    "Dica: Trabalhe com colunas de tempo e localização para mapas, UMAP+HDBSCAN, regras de associação."
   ]
  },
  {
   "cell_type": "code",
   "execution_count": null,
   "id": "7ad831f3",
   "metadata": {},
   "outputs": [],
   "source": [
    "# Seu código aqui\n"
   ]
  },
  {
   "cell_type": "markdown",
   "id": "cb291d4b",
   "metadata": {},
   "source": [
    "**Exercício 446**  \n",
    "Dica: Trabalhe com colunas de tempo e localização para mapas, UMAP+HDBSCAN, regras de associação."
   ]
  },
  {
   "cell_type": "code",
   "execution_count": null,
   "id": "56d93632",
   "metadata": {},
   "outputs": [],
   "source": [
    "# Seu código aqui\n"
   ]
  },
  {
   "cell_type": "markdown",
   "id": "b4c8d336",
   "metadata": {},
   "source": [
    "**Exercício 447**  \n",
    "Dica: Trabalhe com colunas de tempo e localização para mapas, UMAP+HDBSCAN, regras de associação."
   ]
  },
  {
   "cell_type": "code",
   "execution_count": null,
   "id": "a38d286d",
   "metadata": {},
   "outputs": [],
   "source": [
    "# Seu código aqui\n"
   ]
  },
  {
   "cell_type": "markdown",
   "id": "89c3e80b",
   "metadata": {},
   "source": [
    "**Exercício 448**  \n",
    "Dica: Trabalhe com colunas de tempo e localização para mapas, UMAP+HDBSCAN, regras de associação."
   ]
  },
  {
   "cell_type": "code",
   "execution_count": null,
   "id": "38748c9a",
   "metadata": {},
   "outputs": [],
   "source": [
    "# Seu código aqui\n"
   ]
  },
  {
   "cell_type": "markdown",
   "id": "0453b127",
   "metadata": {},
   "source": [
    "**Exercício 449**  \n",
    "Dica: Trabalhe com colunas de tempo e localização para mapas, UMAP+HDBSCAN, regras de associação."
   ]
  },
  {
   "cell_type": "code",
   "execution_count": null,
   "id": "55c41351",
   "metadata": {},
   "outputs": [],
   "source": [
    "# Seu código aqui\n"
   ]
  },
  {
   "cell_type": "markdown",
   "id": "b30905fb",
   "metadata": {},
   "source": [
    "**Exercício 450**  \n",
    "Dica: Trabalhe com colunas de tempo e localização para mapas, UMAP+HDBSCAN, regras de associação."
   ]
  },
  {
   "cell_type": "code",
   "execution_count": null,
   "id": "3096bac8",
   "metadata": {},
   "outputs": [],
   "source": [
    "# Seu código aqui\n"
   ]
  },
  {
   "cell_type": "markdown",
   "id": "1c3dc37a",
   "metadata": {},
   "source": [
    "**Exercício 451**  \n",
    "Dica: Trabalhe com colunas de tempo e localização para mapas, UMAP+HDBSCAN, regras de associação."
   ]
  },
  {
   "cell_type": "code",
   "execution_count": null,
   "id": "10e0ab22",
   "metadata": {},
   "outputs": [],
   "source": [
    "# Seu código aqui\n"
   ]
  },
  {
   "cell_type": "markdown",
   "id": "77379ba9",
   "metadata": {},
   "source": [
    "**Exercício 452**  \n",
    "Dica: Trabalhe com colunas de tempo e localização para mapas, UMAP+HDBSCAN, regras de associação."
   ]
  },
  {
   "cell_type": "code",
   "execution_count": null,
   "id": "c2b57b06",
   "metadata": {},
   "outputs": [],
   "source": [
    "# Seu código aqui\n"
   ]
  },
  {
   "cell_type": "markdown",
   "id": "eba517ce",
   "metadata": {},
   "source": [
    "**Exercício 453**  \n",
    "Dica: Trabalhe com colunas de tempo e localização para mapas, UMAP+HDBSCAN, regras de associação."
   ]
  },
  {
   "cell_type": "code",
   "execution_count": null,
   "id": "43ecb2f8",
   "metadata": {},
   "outputs": [],
   "source": [
    "# Seu código aqui\n"
   ]
  },
  {
   "cell_type": "markdown",
   "id": "f6675f34",
   "metadata": {},
   "source": [
    "**Exercício 454**  \n",
    "Dica: Trabalhe com colunas de tempo e localização para mapas, UMAP+HDBSCAN, regras de associação."
   ]
  },
  {
   "cell_type": "code",
   "execution_count": null,
   "id": "93e8554e",
   "metadata": {},
   "outputs": [],
   "source": [
    "# Seu código aqui\n"
   ]
  },
  {
   "cell_type": "markdown",
   "id": "26adc8ad",
   "metadata": {},
   "source": [
    "**Exercício 455**  \n",
    "Dica: Trabalhe com colunas de tempo e localização para mapas, UMAP+HDBSCAN, regras de associação."
   ]
  },
  {
   "cell_type": "code",
   "execution_count": null,
   "id": "3332c3a8",
   "metadata": {},
   "outputs": [],
   "source": [
    "# Seu código aqui\n"
   ]
  },
  {
   "cell_type": "markdown",
   "id": "0875852c",
   "metadata": {},
   "source": [
    "**Exercício 456**  \n",
    "Dica: Trabalhe com colunas de tempo e localização para mapas, UMAP+HDBSCAN, regras de associação."
   ]
  },
  {
   "cell_type": "code",
   "execution_count": null,
   "id": "0858058d",
   "metadata": {},
   "outputs": [],
   "source": [
    "# Seu código aqui\n"
   ]
  },
  {
   "cell_type": "markdown",
   "id": "52c1c616",
   "metadata": {},
   "source": [
    "**Exercício 457**  \n",
    "Dica: Trabalhe com colunas de tempo e localização para mapas, UMAP+HDBSCAN, regras de associação."
   ]
  },
  {
   "cell_type": "code",
   "execution_count": null,
   "id": "fbbf5ed5",
   "metadata": {},
   "outputs": [],
   "source": [
    "# Seu código aqui\n"
   ]
  },
  {
   "cell_type": "markdown",
   "id": "1142d11d",
   "metadata": {},
   "source": [
    "**Exercício 458**  \n",
    "Dica: Trabalhe com colunas de tempo e localização para mapas, UMAP+HDBSCAN, regras de associação."
   ]
  },
  {
   "cell_type": "code",
   "execution_count": null,
   "id": "9443f2ac",
   "metadata": {},
   "outputs": [],
   "source": [
    "# Seu código aqui\n"
   ]
  },
  {
   "cell_type": "markdown",
   "id": "ca0ee4e1",
   "metadata": {},
   "source": [
    "**Exercício 459**  \n",
    "Dica: Trabalhe com colunas de tempo e localização para mapas, UMAP+HDBSCAN, regras de associação."
   ]
  },
  {
   "cell_type": "code",
   "execution_count": null,
   "id": "c74994c4",
   "metadata": {},
   "outputs": [],
   "source": [
    "# Seu código aqui\n"
   ]
  },
  {
   "cell_type": "markdown",
   "id": "7861f5f3",
   "metadata": {},
   "source": [
    "**Exercício 460**  \n",
    "Dica: Trabalhe com colunas de tempo e localização para mapas, UMAP+HDBSCAN, regras de associação."
   ]
  },
  {
   "cell_type": "code",
   "execution_count": null,
   "id": "75f1a23c",
   "metadata": {},
   "outputs": [],
   "source": [
    "# Seu código aqui\n"
   ]
  },
  {
   "cell_type": "markdown",
   "id": "de2430e2",
   "metadata": {},
   "source": [
    "**Exercício 461**  \n",
    "Dica: Trabalhe com colunas de tempo e localização para mapas, UMAP+HDBSCAN, regras de associação."
   ]
  },
  {
   "cell_type": "code",
   "execution_count": null,
   "id": "6eb11cae",
   "metadata": {},
   "outputs": [],
   "source": [
    "# Seu código aqui\n"
   ]
  },
  {
   "cell_type": "markdown",
   "id": "07ed9ead",
   "metadata": {},
   "source": [
    "**Exercício 462**  \n",
    "Dica: Trabalhe com colunas de tempo e localização para mapas, UMAP+HDBSCAN, regras de associação."
   ]
  },
  {
   "cell_type": "code",
   "execution_count": null,
   "id": "c1ba56e6",
   "metadata": {},
   "outputs": [],
   "source": [
    "# Seu código aqui\n"
   ]
  },
  {
   "cell_type": "markdown",
   "id": "ed649a74",
   "metadata": {},
   "source": [
    "**Exercício 463**  \n",
    "Dica: Trabalhe com colunas de tempo e localização para mapas, UMAP+HDBSCAN, regras de associação."
   ]
  },
  {
   "cell_type": "code",
   "execution_count": null,
   "id": "9deed3e9",
   "metadata": {},
   "outputs": [],
   "source": [
    "# Seu código aqui\n"
   ]
  },
  {
   "cell_type": "markdown",
   "id": "a5bad561",
   "metadata": {},
   "source": [
    "**Exercício 464**  \n",
    "Dica: Trabalhe com colunas de tempo e localização para mapas, UMAP+HDBSCAN, regras de associação."
   ]
  },
  {
   "cell_type": "code",
   "execution_count": null,
   "id": "8ee81a45",
   "metadata": {},
   "outputs": [],
   "source": [
    "# Seu código aqui\n"
   ]
  },
  {
   "cell_type": "markdown",
   "id": "1cc2cb7b",
   "metadata": {},
   "source": [
    "**Exercício 465**  \n",
    "Dica: Trabalhe com colunas de tempo e localização para mapas, UMAP+HDBSCAN, regras de associação."
   ]
  },
  {
   "cell_type": "code",
   "execution_count": null,
   "id": "5240eb40",
   "metadata": {},
   "outputs": [],
   "source": [
    "# Seu código aqui\n"
   ]
  },
  {
   "cell_type": "markdown",
   "id": "14330164",
   "metadata": {},
   "source": [
    "**Exercício 466**  \n",
    "Dica: Trabalhe com colunas de tempo e localização para mapas, UMAP+HDBSCAN, regras de associação."
   ]
  },
  {
   "cell_type": "code",
   "execution_count": null,
   "id": "85491e87",
   "metadata": {},
   "outputs": [],
   "source": [
    "# Seu código aqui\n"
   ]
  },
  {
   "cell_type": "markdown",
   "id": "2f92d073",
   "metadata": {},
   "source": [
    "**Exercício 467**  \n",
    "Dica: Trabalhe com colunas de tempo e localização para mapas, UMAP+HDBSCAN, regras de associação."
   ]
  },
  {
   "cell_type": "code",
   "execution_count": null,
   "id": "976aa882",
   "metadata": {},
   "outputs": [],
   "source": [
    "# Seu código aqui\n"
   ]
  },
  {
   "cell_type": "markdown",
   "id": "0b2cbf6c",
   "metadata": {},
   "source": [
    "**Exercício 468**  \n",
    "Dica: Trabalhe com colunas de tempo e localização para mapas, UMAP+HDBSCAN, regras de associação."
   ]
  },
  {
   "cell_type": "code",
   "execution_count": null,
   "id": "c2febbc7",
   "metadata": {},
   "outputs": [],
   "source": [
    "# Seu código aqui\n"
   ]
  },
  {
   "cell_type": "markdown",
   "id": "7e357a19",
   "metadata": {},
   "source": [
    "**Exercício 469**  \n",
    "Dica: Trabalhe com colunas de tempo e localização para mapas, UMAP+HDBSCAN, regras de associação."
   ]
  },
  {
   "cell_type": "code",
   "execution_count": null,
   "id": "04e3f2cf",
   "metadata": {},
   "outputs": [],
   "source": [
    "# Seu código aqui\n"
   ]
  },
  {
   "cell_type": "markdown",
   "id": "e6c49e7f",
   "metadata": {},
   "source": [
    "**Exercício 470**  \n",
    "Dica: Trabalhe com colunas de tempo e localização para mapas, UMAP+HDBSCAN, regras de associação."
   ]
  },
  {
   "cell_type": "code",
   "execution_count": null,
   "id": "f90ce5f6",
   "metadata": {},
   "outputs": [],
   "source": [
    "# Seu código aqui\n"
   ]
  },
  {
   "cell_type": "markdown",
   "id": "b6a4f890",
   "metadata": {},
   "source": [
    "**Exercício 471**  \n",
    "Dica: Trabalhe com colunas de tempo e localização para mapas, UMAP+HDBSCAN, regras de associação."
   ]
  },
  {
   "cell_type": "code",
   "execution_count": null,
   "id": "126ebda0",
   "metadata": {},
   "outputs": [],
   "source": [
    "# Seu código aqui\n"
   ]
  },
  {
   "cell_type": "markdown",
   "id": "8a8aa9d3",
   "metadata": {},
   "source": [
    "**Exercício 472**  \n",
    "Dica: Trabalhe com colunas de tempo e localização para mapas, UMAP+HDBSCAN, regras de associação."
   ]
  },
  {
   "cell_type": "code",
   "execution_count": null,
   "id": "a3d9ba6d",
   "metadata": {},
   "outputs": [],
   "source": [
    "# Seu código aqui\n"
   ]
  },
  {
   "cell_type": "markdown",
   "id": "3b05c16e",
   "metadata": {},
   "source": [
    "**Exercício 473**  \n",
    "Dica: Trabalhe com colunas de tempo e localização para mapas, UMAP+HDBSCAN, regras de associação."
   ]
  },
  {
   "cell_type": "code",
   "execution_count": null,
   "id": "5b48b51f",
   "metadata": {},
   "outputs": [],
   "source": [
    "# Seu código aqui\n"
   ]
  },
  {
   "cell_type": "markdown",
   "id": "266c474d",
   "metadata": {},
   "source": [
    "**Exercício 474**  \n",
    "Dica: Trabalhe com colunas de tempo e localização para mapas, UMAP+HDBSCAN, regras de associação."
   ]
  },
  {
   "cell_type": "code",
   "execution_count": null,
   "id": "3ebc897f",
   "metadata": {},
   "outputs": [],
   "source": [
    "# Seu código aqui\n"
   ]
  },
  {
   "cell_type": "markdown",
   "id": "ccd12403",
   "metadata": {},
   "source": [
    "**Exercício 475**  \n",
    "Dica: Trabalhe com colunas de tempo e localização para mapas, UMAP+HDBSCAN, regras de associação."
   ]
  },
  {
   "cell_type": "code",
   "execution_count": null,
   "id": "c1ea302f",
   "metadata": {},
   "outputs": [],
   "source": [
    "# Seu código aqui\n"
   ]
  },
  {
   "cell_type": "markdown",
   "id": "32cca142",
   "metadata": {},
   "source": [
    "**Exercício 476**  \n",
    "Dica: Trabalhe com colunas de tempo e localização para mapas, UMAP+HDBSCAN, regras de associação."
   ]
  },
  {
   "cell_type": "code",
   "execution_count": null,
   "id": "fa5dde63",
   "metadata": {},
   "outputs": [],
   "source": [
    "# Seu código aqui\n"
   ]
  },
  {
   "cell_type": "markdown",
   "id": "c6fd9296",
   "metadata": {},
   "source": [
    "**Exercício 477**  \n",
    "Dica: Trabalhe com colunas de tempo e localização para mapas, UMAP+HDBSCAN, regras de associação."
   ]
  },
  {
   "cell_type": "code",
   "execution_count": null,
   "id": "3a13d13e",
   "metadata": {},
   "outputs": [],
   "source": [
    "# Seu código aqui\n"
   ]
  },
  {
   "cell_type": "markdown",
   "id": "e59c1e50",
   "metadata": {},
   "source": [
    "**Exercício 478**  \n",
    "Dica: Trabalhe com colunas de tempo e localização para mapas, UMAP+HDBSCAN, regras de associação."
   ]
  },
  {
   "cell_type": "code",
   "execution_count": null,
   "id": "e3bee95e",
   "metadata": {},
   "outputs": [],
   "source": [
    "# Seu código aqui\n"
   ]
  },
  {
   "cell_type": "markdown",
   "id": "0b190f61",
   "metadata": {},
   "source": [
    "**Exercício 479**  \n",
    "Dica: Trabalhe com colunas de tempo e localização para mapas, UMAP+HDBSCAN, regras de associação."
   ]
  },
  {
   "cell_type": "code",
   "execution_count": null,
   "id": "2b750c8e",
   "metadata": {},
   "outputs": [],
   "source": [
    "# Seu código aqui\n"
   ]
  },
  {
   "cell_type": "markdown",
   "id": "a52cf534",
   "metadata": {},
   "source": [
    "**Exercício 480**  \n",
    "Dica: Trabalhe com colunas de tempo e localização para mapas, UMAP+HDBSCAN, regras de associação."
   ]
  },
  {
   "cell_type": "code",
   "execution_count": null,
   "id": "ff637ff0",
   "metadata": {},
   "outputs": [],
   "source": [
    "# Seu código aqui\n"
   ]
  },
  {
   "cell_type": "markdown",
   "id": "9678eca3",
   "metadata": {},
   "source": [
    "**Exercício 481**  \n",
    "Dica: Trabalhe com colunas de tempo e localização para mapas, UMAP+HDBSCAN, regras de associação."
   ]
  },
  {
   "cell_type": "code",
   "execution_count": null,
   "id": "233c2931",
   "metadata": {},
   "outputs": [],
   "source": [
    "# Seu código aqui\n"
   ]
  },
  {
   "cell_type": "markdown",
   "id": "c7e086f8",
   "metadata": {},
   "source": [
    "**Exercício 482**  \n",
    "Dica: Trabalhe com colunas de tempo e localização para mapas, UMAP+HDBSCAN, regras de associação."
   ]
  },
  {
   "cell_type": "code",
   "execution_count": null,
   "id": "53c2a73a",
   "metadata": {},
   "outputs": [],
   "source": [
    "# Seu código aqui\n"
   ]
  },
  {
   "cell_type": "markdown",
   "id": "2e08f350",
   "metadata": {},
   "source": [
    "**Exercício 483**  \n",
    "Dica: Trabalhe com colunas de tempo e localização para mapas, UMAP+HDBSCAN, regras de associação."
   ]
  },
  {
   "cell_type": "code",
   "execution_count": null,
   "id": "54bf1153",
   "metadata": {},
   "outputs": [],
   "source": [
    "# Seu código aqui\n"
   ]
  },
  {
   "cell_type": "markdown",
   "id": "c78a007b",
   "metadata": {},
   "source": [
    "**Exercício 484**  \n",
    "Dica: Trabalhe com colunas de tempo e localização para mapas, UMAP+HDBSCAN, regras de associação."
   ]
  },
  {
   "cell_type": "code",
   "execution_count": null,
   "id": "76565b88",
   "metadata": {},
   "outputs": [],
   "source": [
    "# Seu código aqui\n"
   ]
  },
  {
   "cell_type": "markdown",
   "id": "2fd50cec",
   "metadata": {},
   "source": [
    "**Exercício 485**  \n",
    "Dica: Trabalhe com colunas de tempo e localização para mapas, UMAP+HDBSCAN, regras de associação."
   ]
  },
  {
   "cell_type": "code",
   "execution_count": null,
   "id": "fbf49d47",
   "metadata": {},
   "outputs": [],
   "source": [
    "# Seu código aqui\n"
   ]
  },
  {
   "cell_type": "markdown",
   "id": "07d14dc0",
   "metadata": {},
   "source": [
    "**Exercício 486**  \n",
    "Dica: Trabalhe com colunas de tempo e localização para mapas, UMAP+HDBSCAN, regras de associação."
   ]
  },
  {
   "cell_type": "code",
   "execution_count": null,
   "id": "8df4aeb4",
   "metadata": {},
   "outputs": [],
   "source": [
    "# Seu código aqui\n"
   ]
  },
  {
   "cell_type": "markdown",
   "id": "76e08ce0",
   "metadata": {},
   "source": [
    "**Exercício 487**  \n",
    "Dica: Trabalhe com colunas de tempo e localização para mapas, UMAP+HDBSCAN, regras de associação."
   ]
  },
  {
   "cell_type": "code",
   "execution_count": null,
   "id": "7feb9ca5",
   "metadata": {},
   "outputs": [],
   "source": [
    "# Seu código aqui\n"
   ]
  },
  {
   "cell_type": "markdown",
   "id": "a1a0c464",
   "metadata": {},
   "source": [
    "**Exercício 488**  \n",
    "Dica: Trabalhe com colunas de tempo e localização para mapas, UMAP+HDBSCAN, regras de associação."
   ]
  },
  {
   "cell_type": "code",
   "execution_count": null,
   "id": "454a94de",
   "metadata": {},
   "outputs": [],
   "source": [
    "# Seu código aqui\n"
   ]
  },
  {
   "cell_type": "markdown",
   "id": "bbd0cd02",
   "metadata": {},
   "source": [
    "**Exercício 489**  \n",
    "Dica: Trabalhe com colunas de tempo e localização para mapas, UMAP+HDBSCAN, regras de associação."
   ]
  },
  {
   "cell_type": "code",
   "execution_count": null,
   "id": "324da814",
   "metadata": {},
   "outputs": [],
   "source": [
    "# Seu código aqui\n"
   ]
  },
  {
   "cell_type": "markdown",
   "id": "0b73de69",
   "metadata": {},
   "source": [
    "**Exercício 490**  \n",
    "Dica: Trabalhe com colunas de tempo e localização para mapas, UMAP+HDBSCAN, regras de associação."
   ]
  },
  {
   "cell_type": "code",
   "execution_count": null,
   "id": "bdfbdb3e",
   "metadata": {},
   "outputs": [],
   "source": [
    "# Seu código aqui\n"
   ]
  },
  {
   "cell_type": "markdown",
   "id": "46ed8597",
   "metadata": {},
   "source": [
    "**Exercício 491**  \n",
    "Dica: Trabalhe com colunas de tempo e localização para mapas, UMAP+HDBSCAN, regras de associação."
   ]
  },
  {
   "cell_type": "code",
   "execution_count": null,
   "id": "a98ede9a",
   "metadata": {},
   "outputs": [],
   "source": [
    "# Seu código aqui\n"
   ]
  },
  {
   "cell_type": "markdown",
   "id": "7e2c2eb6",
   "metadata": {},
   "source": [
    "**Exercício 492**  \n",
    "Dica: Trabalhe com colunas de tempo e localização para mapas, UMAP+HDBSCAN, regras de associação."
   ]
  },
  {
   "cell_type": "code",
   "execution_count": null,
   "id": "8f7f2da4",
   "metadata": {},
   "outputs": [],
   "source": [
    "# Seu código aqui\n"
   ]
  },
  {
   "cell_type": "markdown",
   "id": "973ea4e6",
   "metadata": {},
   "source": [
    "**Exercício 493**  \n",
    "Dica: Trabalhe com colunas de tempo e localização para mapas, UMAP+HDBSCAN, regras de associação."
   ]
  },
  {
   "cell_type": "code",
   "execution_count": null,
   "id": "9e1327e4",
   "metadata": {},
   "outputs": [],
   "source": [
    "# Seu código aqui\n"
   ]
  },
  {
   "cell_type": "markdown",
   "id": "09f46294",
   "metadata": {},
   "source": [
    "**Exercício 494**  \n",
    "Dica: Trabalhe com colunas de tempo e localização para mapas, UMAP+HDBSCAN, regras de associação."
   ]
  },
  {
   "cell_type": "code",
   "execution_count": null,
   "id": "1324b779",
   "metadata": {},
   "outputs": [],
   "source": [
    "# Seu código aqui\n"
   ]
  },
  {
   "cell_type": "markdown",
   "id": "6ffd6462",
   "metadata": {},
   "source": [
    "**Exercício 495**  \n",
    "Dica: Trabalhe com colunas de tempo e localização para mapas, UMAP+HDBSCAN, regras de associação."
   ]
  },
  {
   "cell_type": "code",
   "execution_count": null,
   "id": "c33d0dd9",
   "metadata": {},
   "outputs": [],
   "source": [
    "# Seu código aqui\n"
   ]
  },
  {
   "cell_type": "markdown",
   "id": "8ba8d701",
   "metadata": {},
   "source": [
    "**Exercício 496**  \n",
    "Dica: Trabalhe com colunas de tempo e localização para mapas, UMAP+HDBSCAN, regras de associação."
   ]
  },
  {
   "cell_type": "code",
   "execution_count": null,
   "id": "93afca97",
   "metadata": {},
   "outputs": [],
   "source": [
    "# Seu código aqui\n"
   ]
  },
  {
   "cell_type": "markdown",
   "id": "52dc8805",
   "metadata": {},
   "source": [
    "**Exercício 497**  \n",
    "Dica: Trabalhe com colunas de tempo e localização para mapas, UMAP+HDBSCAN, regras de associação."
   ]
  },
  {
   "cell_type": "code",
   "execution_count": null,
   "id": "44c3a5cb",
   "metadata": {},
   "outputs": [],
   "source": [
    "# Seu código aqui\n"
   ]
  },
  {
   "cell_type": "markdown",
   "id": "7e3ccd39",
   "metadata": {},
   "source": [
    "**Exercício 498**  \n",
    "Dica: Trabalhe com colunas de tempo e localização para mapas, UMAP+HDBSCAN, regras de associação."
   ]
  },
  {
   "cell_type": "code",
   "execution_count": null,
   "id": "608e2be3",
   "metadata": {},
   "outputs": [],
   "source": [
    "# Seu código aqui\n"
   ]
  },
  {
   "cell_type": "markdown",
   "id": "41e3dcb2",
   "metadata": {},
   "source": [
    "**Exercício 499**  \n",
    "Dica: Trabalhe com colunas de tempo e localização para mapas, UMAP+HDBSCAN, regras de associação."
   ]
  },
  {
   "cell_type": "code",
   "execution_count": null,
   "id": "affde519",
   "metadata": {},
   "outputs": [],
   "source": [
    "# Seu código aqui\n"
   ]
  },
  {
   "cell_type": "markdown",
   "id": "4751d691",
   "metadata": {},
   "source": [
    "**Exercício 500**  \n",
    "Dica: Trabalhe com colunas de tempo e localização para mapas, UMAP+HDBSCAN, regras de associação."
   ]
  },
  {
   "cell_type": "code",
   "execution_count": null,
   "id": "42e6ed96",
   "metadata": {},
   "outputs": [],
   "source": [
    "# Seu código aqui\n"
   ]
  }
 ],
 "metadata": {},
 "nbformat": 4,
 "nbformat_minor": 5
}
