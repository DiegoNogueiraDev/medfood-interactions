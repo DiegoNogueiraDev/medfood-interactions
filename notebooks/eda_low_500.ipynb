{
 "cells": [
  {
   "cell_type": "markdown",
   "id": "2fc361e8",
   "metadata": {},
   "source": [
    "# EDA Practice Notebook – Low Complexity  \n",
    "_Generated 2025-07-15_  \n",
    "\n",
    "Este caderno cobre fundamentos de EDA usando um dataset tabular clássico.  \n",
    "\n",
    "Dataset sugerido: **Titanic Survival (Kaggle)** – download em: https://www.kaggle.com/c/titanic/data"
   ]
  },
  {
   "cell_type": "code",
   "execution_count": null,
   "id": "0172cbca",
   "metadata": {},
   "outputs": [],
   "source": [
    "import pandas as pd, numpy as np, matplotlib.pyplot as plt, seaborn as sns\n",
    "sns.set_theme()"
   ]
  },
  {
   "cell_type": "markdown",
   "id": "ecffb585",
   "metadata": {},
   "source": [
    "**Exercício 1**  \n",
    "Dica: Use o dataframe `titanic` (pandas) – pratique contagens, médias, histogramas."
   ]
  },
  {
   "cell_type": "code",
   "execution_count": null,
   "id": "d0279ba1",
   "metadata": {},
   "outputs": [],
   "source": [
    "# Seu código aqui\n"
   ]
  },
  {
   "cell_type": "markdown",
   "id": "50231a2d",
   "metadata": {},
   "source": [
    "**Exercício 2**  \n",
    "Dica: Use o dataframe `titanic` (pandas) – pratique contagens, médias, histogramas."
   ]
  },
  {
   "cell_type": "code",
   "execution_count": null,
   "id": "61a69000",
   "metadata": {},
   "outputs": [],
   "source": [
    "# Seu código aqui\n"
   ]
  },
  {
   "cell_type": "markdown",
   "id": "086d1ff4",
   "metadata": {},
   "source": [
    "**Exercício 3**  \n",
    "Dica: Use o dataframe `titanic` (pandas) – pratique contagens, médias, histogramas."
   ]
  },
  {
   "cell_type": "code",
   "execution_count": null,
   "id": "e1e5f06a",
   "metadata": {},
   "outputs": [],
   "source": [
    "# Seu código aqui\n"
   ]
  },
  {
   "cell_type": "markdown",
   "id": "756c2d0e",
   "metadata": {},
   "source": [
    "**Exercício 4**  \n",
    "Dica: Use o dataframe `titanic` (pandas) – pratique contagens, médias, histogramas."
   ]
  },
  {
   "cell_type": "code",
   "execution_count": null,
   "id": "3abdd749",
   "metadata": {},
   "outputs": [],
   "source": [
    "# Seu código aqui\n"
   ]
  },
  {
   "cell_type": "markdown",
   "id": "5d84f002",
   "metadata": {},
   "source": [
    "**Exercício 5**  \n",
    "Dica: Use o dataframe `titanic` (pandas) – pratique contagens, médias, histogramas."
   ]
  },
  {
   "cell_type": "code",
   "execution_count": null,
   "id": "ab04aadf",
   "metadata": {},
   "outputs": [],
   "source": [
    "# Seu código aqui\n"
   ]
  },
  {
   "cell_type": "markdown",
   "id": "7a2c8c18",
   "metadata": {},
   "source": [
    "**Exercício 6**  \n",
    "Dica: Use o dataframe `titanic` (pandas) – pratique contagens, médias, histogramas."
   ]
  },
  {
   "cell_type": "code",
   "execution_count": null,
   "id": "4b5c42e3",
   "metadata": {},
   "outputs": [],
   "source": [
    "# Seu código aqui\n"
   ]
  },
  {
   "cell_type": "markdown",
   "id": "7d31bb4c",
   "metadata": {},
   "source": [
    "**Exercício 7**  \n",
    "Dica: Use o dataframe `titanic` (pandas) – pratique contagens, médias, histogramas."
   ]
  },
  {
   "cell_type": "code",
   "execution_count": null,
   "id": "5998176a",
   "metadata": {},
   "outputs": [],
   "source": [
    "# Seu código aqui\n"
   ]
  },
  {
   "cell_type": "markdown",
   "id": "442a7871",
   "metadata": {},
   "source": [
    "**Exercício 8**  \n",
    "Dica: Use o dataframe `titanic` (pandas) – pratique contagens, médias, histogramas."
   ]
  },
  {
   "cell_type": "code",
   "execution_count": null,
   "id": "093d5aaf",
   "metadata": {},
   "outputs": [],
   "source": [
    "# Seu código aqui\n"
   ]
  },
  {
   "cell_type": "markdown",
   "id": "9d4bf3a6",
   "metadata": {},
   "source": [
    "**Exercício 9**  \n",
    "Dica: Use o dataframe `titanic` (pandas) – pratique contagens, médias, histogramas."
   ]
  },
  {
   "cell_type": "code",
   "execution_count": null,
   "id": "4e299bce",
   "metadata": {},
   "outputs": [],
   "source": [
    "# Seu código aqui\n"
   ]
  },
  {
   "cell_type": "markdown",
   "id": "30a6ed4b",
   "metadata": {},
   "source": [
    "**Exercício 10**  \n",
    "Dica: Use o dataframe `titanic` (pandas) – pratique contagens, médias, histogramas."
   ]
  },
  {
   "cell_type": "code",
   "execution_count": null,
   "id": "42c51f56",
   "metadata": {},
   "outputs": [],
   "source": [
    "# Seu código aqui\n"
   ]
  },
  {
   "cell_type": "markdown",
   "id": "f6115553",
   "metadata": {},
   "source": [
    "**Exercício 11**  \n",
    "Dica: Use o dataframe `titanic` (pandas) – pratique contagens, médias, histogramas."
   ]
  },
  {
   "cell_type": "code",
   "execution_count": null,
   "id": "691fffba",
   "metadata": {},
   "outputs": [],
   "source": [
    "# Seu código aqui\n"
   ]
  },
  {
   "cell_type": "markdown",
   "id": "3b5502a2",
   "metadata": {},
   "source": [
    "**Exercício 12**  \n",
    "Dica: Use o dataframe `titanic` (pandas) – pratique contagens, médias, histogramas."
   ]
  },
  {
   "cell_type": "code",
   "execution_count": null,
   "id": "43f14716",
   "metadata": {},
   "outputs": [],
   "source": [
    "# Seu código aqui\n"
   ]
  },
  {
   "cell_type": "markdown",
   "id": "e4ce82ff",
   "metadata": {},
   "source": [
    "**Exercício 13**  \n",
    "Dica: Use o dataframe `titanic` (pandas) – pratique contagens, médias, histogramas."
   ]
  },
  {
   "cell_type": "code",
   "execution_count": null,
   "id": "a6a7ef85",
   "metadata": {},
   "outputs": [],
   "source": [
    "# Seu código aqui\n"
   ]
  },
  {
   "cell_type": "markdown",
   "id": "06268164",
   "metadata": {},
   "source": [
    "**Exercício 14**  \n",
    "Dica: Use o dataframe `titanic` (pandas) – pratique contagens, médias, histogramas."
   ]
  },
  {
   "cell_type": "code",
   "execution_count": null,
   "id": "436f27d4",
   "metadata": {},
   "outputs": [],
   "source": [
    "# Seu código aqui\n"
   ]
  },
  {
   "cell_type": "markdown",
   "id": "e80e9009",
   "metadata": {},
   "source": [
    "**Exercício 15**  \n",
    "Dica: Use o dataframe `titanic` (pandas) – pratique contagens, médias, histogramas."
   ]
  },
  {
   "cell_type": "code",
   "execution_count": null,
   "id": "107fe2f3",
   "metadata": {},
   "outputs": [],
   "source": [
    "# Seu código aqui\n"
   ]
  },
  {
   "cell_type": "markdown",
   "id": "9f36b44b",
   "metadata": {},
   "source": [
    "**Exercício 16**  \n",
    "Dica: Use o dataframe `titanic` (pandas) – pratique contagens, médias, histogramas."
   ]
  },
  {
   "cell_type": "code",
   "execution_count": null,
   "id": "df23c5ee",
   "metadata": {},
   "outputs": [],
   "source": [
    "# Seu código aqui\n"
   ]
  },
  {
   "cell_type": "markdown",
   "id": "01c2026d",
   "metadata": {},
   "source": [
    "**Exercício 17**  \n",
    "Dica: Use o dataframe `titanic` (pandas) – pratique contagens, médias, histogramas."
   ]
  },
  {
   "cell_type": "code",
   "execution_count": null,
   "id": "7bd92cdf",
   "metadata": {},
   "outputs": [],
   "source": [
    "# Seu código aqui\n"
   ]
  },
  {
   "cell_type": "markdown",
   "id": "2cc87e3a",
   "metadata": {},
   "source": [
    "**Exercício 18**  \n",
    "Dica: Use o dataframe `titanic` (pandas) – pratique contagens, médias, histogramas."
   ]
  },
  {
   "cell_type": "code",
   "execution_count": null,
   "id": "12ee3546",
   "metadata": {},
   "outputs": [],
   "source": [
    "# Seu código aqui\n"
   ]
  },
  {
   "cell_type": "markdown",
   "id": "941dc2b9",
   "metadata": {},
   "source": [
    "**Exercício 19**  \n",
    "Dica: Use o dataframe `titanic` (pandas) – pratique contagens, médias, histogramas."
   ]
  },
  {
   "cell_type": "code",
   "execution_count": null,
   "id": "0e0b4666",
   "metadata": {},
   "outputs": [],
   "source": [
    "# Seu código aqui\n"
   ]
  },
  {
   "cell_type": "markdown",
   "id": "316f0274",
   "metadata": {},
   "source": [
    "**Exercício 20**  \n",
    "Dica: Use o dataframe `titanic` (pandas) – pratique contagens, médias, histogramas."
   ]
  },
  {
   "cell_type": "code",
   "execution_count": null,
   "id": "ff779d42",
   "metadata": {},
   "outputs": [],
   "source": [
    "# Seu código aqui\n"
   ]
  },
  {
   "cell_type": "markdown",
   "id": "2d8c7673",
   "metadata": {},
   "source": [
    "**Exercício 21**  \n",
    "Dica: Use o dataframe `titanic` (pandas) – pratique contagens, médias, histogramas."
   ]
  },
  {
   "cell_type": "code",
   "execution_count": null,
   "id": "0bdab2ab",
   "metadata": {},
   "outputs": [],
   "source": [
    "# Seu código aqui\n"
   ]
  },
  {
   "cell_type": "markdown",
   "id": "db04d8e8",
   "metadata": {},
   "source": [
    "**Exercício 22**  \n",
    "Dica: Use o dataframe `titanic` (pandas) – pratique contagens, médias, histogramas."
   ]
  },
  {
   "cell_type": "code",
   "execution_count": null,
   "id": "9a7c4414",
   "metadata": {},
   "outputs": [],
   "source": [
    "# Seu código aqui\n"
   ]
  },
  {
   "cell_type": "markdown",
   "id": "0284a4ef",
   "metadata": {},
   "source": [
    "**Exercício 23**  \n",
    "Dica: Use o dataframe `titanic` (pandas) – pratique contagens, médias, histogramas."
   ]
  },
  {
   "cell_type": "code",
   "execution_count": null,
   "id": "3576f106",
   "metadata": {},
   "outputs": [],
   "source": [
    "# Seu código aqui\n"
   ]
  },
  {
   "cell_type": "markdown",
   "id": "807f870f",
   "metadata": {},
   "source": [
    "**Exercício 24**  \n",
    "Dica: Use o dataframe `titanic` (pandas) – pratique contagens, médias, histogramas."
   ]
  },
  {
   "cell_type": "code",
   "execution_count": null,
   "id": "2d95fd19",
   "metadata": {},
   "outputs": [],
   "source": [
    "# Seu código aqui\n"
   ]
  },
  {
   "cell_type": "markdown",
   "id": "d0920d62",
   "metadata": {},
   "source": [
    "**Exercício 25**  \n",
    "Dica: Use o dataframe `titanic` (pandas) – pratique contagens, médias, histogramas."
   ]
  },
  {
   "cell_type": "code",
   "execution_count": null,
   "id": "fcb1ce54",
   "metadata": {},
   "outputs": [],
   "source": [
    "# Seu código aqui\n"
   ]
  },
  {
   "cell_type": "markdown",
   "id": "5fd4fa3a",
   "metadata": {},
   "source": [
    "**Exercício 26**  \n",
    "Dica: Use o dataframe `titanic` (pandas) – pratique contagens, médias, histogramas."
   ]
  },
  {
   "cell_type": "code",
   "execution_count": null,
   "id": "7ab7b56a",
   "metadata": {},
   "outputs": [],
   "source": [
    "# Seu código aqui\n"
   ]
  },
  {
   "cell_type": "markdown",
   "id": "fa997794",
   "metadata": {},
   "source": [
    "**Exercício 27**  \n",
    "Dica: Use o dataframe `titanic` (pandas) – pratique contagens, médias, histogramas."
   ]
  },
  {
   "cell_type": "code",
   "execution_count": null,
   "id": "cd4f9b89",
   "metadata": {},
   "outputs": [],
   "source": [
    "# Seu código aqui\n"
   ]
  },
  {
   "cell_type": "markdown",
   "id": "a4682c44",
   "metadata": {},
   "source": [
    "**Exercício 28**  \n",
    "Dica: Use o dataframe `titanic` (pandas) – pratique contagens, médias, histogramas."
   ]
  },
  {
   "cell_type": "code",
   "execution_count": null,
   "id": "e234c9a0",
   "metadata": {},
   "outputs": [],
   "source": [
    "# Seu código aqui\n"
   ]
  },
  {
   "cell_type": "markdown",
   "id": "b249b064",
   "metadata": {},
   "source": [
    "**Exercício 29**  \n",
    "Dica: Use o dataframe `titanic` (pandas) – pratique contagens, médias, histogramas."
   ]
  },
  {
   "cell_type": "code",
   "execution_count": null,
   "id": "1261ea03",
   "metadata": {},
   "outputs": [],
   "source": [
    "# Seu código aqui\n"
   ]
  },
  {
   "cell_type": "markdown",
   "id": "7efa68cc",
   "metadata": {},
   "source": [
    "**Exercício 30**  \n",
    "Dica: Use o dataframe `titanic` (pandas) – pratique contagens, médias, histogramas."
   ]
  },
  {
   "cell_type": "code",
   "execution_count": null,
   "id": "1872a370",
   "metadata": {},
   "outputs": [],
   "source": [
    "# Seu código aqui\n"
   ]
  },
  {
   "cell_type": "markdown",
   "id": "9a4169db",
   "metadata": {},
   "source": [
    "**Exercício 31**  \n",
    "Dica: Use o dataframe `titanic` (pandas) – pratique contagens, médias, histogramas."
   ]
  },
  {
   "cell_type": "code",
   "execution_count": null,
   "id": "c3d8427f",
   "metadata": {},
   "outputs": [],
   "source": [
    "# Seu código aqui\n"
   ]
  },
  {
   "cell_type": "markdown",
   "id": "a9c2504a",
   "metadata": {},
   "source": [
    "**Exercício 32**  \n",
    "Dica: Use o dataframe `titanic` (pandas) – pratique contagens, médias, histogramas."
   ]
  },
  {
   "cell_type": "code",
   "execution_count": null,
   "id": "9d581dfa",
   "metadata": {},
   "outputs": [],
   "source": [
    "# Seu código aqui\n"
   ]
  },
  {
   "cell_type": "markdown",
   "id": "9de2c51f",
   "metadata": {},
   "source": [
    "**Exercício 33**  \n",
    "Dica: Use o dataframe `titanic` (pandas) – pratique contagens, médias, histogramas."
   ]
  },
  {
   "cell_type": "code",
   "execution_count": null,
   "id": "eb329001",
   "metadata": {},
   "outputs": [],
   "source": [
    "# Seu código aqui\n"
   ]
  },
  {
   "cell_type": "markdown",
   "id": "5f0fa9cd",
   "metadata": {},
   "source": [
    "**Exercício 34**  \n",
    "Dica: Use o dataframe `titanic` (pandas) – pratique contagens, médias, histogramas."
   ]
  },
  {
   "cell_type": "code",
   "execution_count": null,
   "id": "35fe754b",
   "metadata": {},
   "outputs": [],
   "source": [
    "# Seu código aqui\n"
   ]
  },
  {
   "cell_type": "markdown",
   "id": "811793f7",
   "metadata": {},
   "source": [
    "**Exercício 35**  \n",
    "Dica: Use o dataframe `titanic` (pandas) – pratique contagens, médias, histogramas."
   ]
  },
  {
   "cell_type": "code",
   "execution_count": null,
   "id": "eeffb2bc",
   "metadata": {},
   "outputs": [],
   "source": [
    "# Seu código aqui\n"
   ]
  },
  {
   "cell_type": "markdown",
   "id": "4e644ad3",
   "metadata": {},
   "source": [
    "**Exercício 36**  \n",
    "Dica: Use o dataframe `titanic` (pandas) – pratique contagens, médias, histogramas."
   ]
  },
  {
   "cell_type": "code",
   "execution_count": null,
   "id": "0ab4dbae",
   "metadata": {},
   "outputs": [],
   "source": [
    "# Seu código aqui\n"
   ]
  },
  {
   "cell_type": "markdown",
   "id": "a353fd81",
   "metadata": {},
   "source": [
    "**Exercício 37**  \n",
    "Dica: Use o dataframe `titanic` (pandas) – pratique contagens, médias, histogramas."
   ]
  },
  {
   "cell_type": "code",
   "execution_count": null,
   "id": "f336cc01",
   "metadata": {},
   "outputs": [],
   "source": [
    "# Seu código aqui\n"
   ]
  },
  {
   "cell_type": "markdown",
   "id": "c1a4b4e2",
   "metadata": {},
   "source": [
    "**Exercício 38**  \n",
    "Dica: Use o dataframe `titanic` (pandas) – pratique contagens, médias, histogramas."
   ]
  },
  {
   "cell_type": "code",
   "execution_count": null,
   "id": "0f96ac09",
   "metadata": {},
   "outputs": [],
   "source": [
    "# Seu código aqui\n"
   ]
  },
  {
   "cell_type": "markdown",
   "id": "a29e7f43",
   "metadata": {},
   "source": [
    "**Exercício 39**  \n",
    "Dica: Use o dataframe `titanic` (pandas) – pratique contagens, médias, histogramas."
   ]
  },
  {
   "cell_type": "code",
   "execution_count": null,
   "id": "c7efcad9",
   "metadata": {},
   "outputs": [],
   "source": [
    "# Seu código aqui\n"
   ]
  },
  {
   "cell_type": "markdown",
   "id": "133128fb",
   "metadata": {},
   "source": [
    "**Exercício 40**  \n",
    "Dica: Use o dataframe `titanic` (pandas) – pratique contagens, médias, histogramas."
   ]
  },
  {
   "cell_type": "code",
   "execution_count": null,
   "id": "b2c2a24d",
   "metadata": {},
   "outputs": [],
   "source": [
    "# Seu código aqui\n"
   ]
  },
  {
   "cell_type": "markdown",
   "id": "4c5ddcba",
   "metadata": {},
   "source": [
    "**Exercício 41**  \n",
    "Dica: Use o dataframe `titanic` (pandas) – pratique contagens, médias, histogramas."
   ]
  },
  {
   "cell_type": "code",
   "execution_count": null,
   "id": "df0ebd80",
   "metadata": {},
   "outputs": [],
   "source": [
    "# Seu código aqui\n"
   ]
  },
  {
   "cell_type": "markdown",
   "id": "0e67af5b",
   "metadata": {},
   "source": [
    "**Exercício 42**  \n",
    "Dica: Use o dataframe `titanic` (pandas) – pratique contagens, médias, histogramas."
   ]
  },
  {
   "cell_type": "code",
   "execution_count": null,
   "id": "cde31020",
   "metadata": {},
   "outputs": [],
   "source": [
    "# Seu código aqui\n"
   ]
  },
  {
   "cell_type": "markdown",
   "id": "9228f141",
   "metadata": {},
   "source": [
    "**Exercício 43**  \n",
    "Dica: Use o dataframe `titanic` (pandas) – pratique contagens, médias, histogramas."
   ]
  },
  {
   "cell_type": "code",
   "execution_count": null,
   "id": "f3383b44",
   "metadata": {},
   "outputs": [],
   "source": [
    "# Seu código aqui\n"
   ]
  },
  {
   "cell_type": "markdown",
   "id": "4fc841ec",
   "metadata": {},
   "source": [
    "**Exercício 44**  \n",
    "Dica: Use o dataframe `titanic` (pandas) – pratique contagens, médias, histogramas."
   ]
  },
  {
   "cell_type": "code",
   "execution_count": null,
   "id": "6e80f0cc",
   "metadata": {},
   "outputs": [],
   "source": [
    "# Seu código aqui\n"
   ]
  },
  {
   "cell_type": "markdown",
   "id": "04c838c4",
   "metadata": {},
   "source": [
    "**Exercício 45**  \n",
    "Dica: Use o dataframe `titanic` (pandas) – pratique contagens, médias, histogramas."
   ]
  },
  {
   "cell_type": "code",
   "execution_count": null,
   "id": "8eace093",
   "metadata": {},
   "outputs": [],
   "source": [
    "# Seu código aqui\n"
   ]
  },
  {
   "cell_type": "markdown",
   "id": "077525c3",
   "metadata": {},
   "source": [
    "**Exercício 46**  \n",
    "Dica: Use o dataframe `titanic` (pandas) – pratique contagens, médias, histogramas."
   ]
  },
  {
   "cell_type": "code",
   "execution_count": null,
   "id": "4fa376f8",
   "metadata": {},
   "outputs": [],
   "source": [
    "# Seu código aqui\n"
   ]
  },
  {
   "cell_type": "markdown",
   "id": "71ca4a46",
   "metadata": {},
   "source": [
    "**Exercício 47**  \n",
    "Dica: Use o dataframe `titanic` (pandas) – pratique contagens, médias, histogramas."
   ]
  },
  {
   "cell_type": "code",
   "execution_count": null,
   "id": "2417c6af",
   "metadata": {},
   "outputs": [],
   "source": [
    "# Seu código aqui\n"
   ]
  },
  {
   "cell_type": "markdown",
   "id": "66569d18",
   "metadata": {},
   "source": [
    "**Exercício 48**  \n",
    "Dica: Use o dataframe `titanic` (pandas) – pratique contagens, médias, histogramas."
   ]
  },
  {
   "cell_type": "code",
   "execution_count": null,
   "id": "0dea481a",
   "metadata": {},
   "outputs": [],
   "source": [
    "# Seu código aqui\n"
   ]
  },
  {
   "cell_type": "markdown",
   "id": "529eb69b",
   "metadata": {},
   "source": [
    "**Exercício 49**  \n",
    "Dica: Use o dataframe `titanic` (pandas) – pratique contagens, médias, histogramas."
   ]
  },
  {
   "cell_type": "code",
   "execution_count": null,
   "id": "2eca8ea7",
   "metadata": {},
   "outputs": [],
   "source": [
    "# Seu código aqui\n"
   ]
  },
  {
   "cell_type": "markdown",
   "id": "0fe90e20",
   "metadata": {},
   "source": [
    "**Exercício 50**  \n",
    "Dica: Use o dataframe `titanic` (pandas) – pratique contagens, médias, histogramas."
   ]
  },
  {
   "cell_type": "code",
   "execution_count": null,
   "id": "ba04eb0f",
   "metadata": {},
   "outputs": [],
   "source": [
    "# Seu código aqui\n"
   ]
  },
  {
   "cell_type": "markdown",
   "id": "580b126e",
   "metadata": {},
   "source": [
    "**Exercício 51**  \n",
    "Dica: Use o dataframe `titanic` (pandas) – pratique contagens, médias, histogramas."
   ]
  },
  {
   "cell_type": "code",
   "execution_count": null,
   "id": "0d37e98d",
   "metadata": {},
   "outputs": [],
   "source": [
    "# Seu código aqui\n"
   ]
  },
  {
   "cell_type": "markdown",
   "id": "c41ca195",
   "metadata": {},
   "source": [
    "**Exercício 52**  \n",
    "Dica: Use o dataframe `titanic` (pandas) – pratique contagens, médias, histogramas."
   ]
  },
  {
   "cell_type": "code",
   "execution_count": null,
   "id": "e8c39c0b",
   "metadata": {},
   "outputs": [],
   "source": [
    "# Seu código aqui\n"
   ]
  },
  {
   "cell_type": "markdown",
   "id": "fef61983",
   "metadata": {},
   "source": [
    "**Exercício 53**  \n",
    "Dica: Use o dataframe `titanic` (pandas) – pratique contagens, médias, histogramas."
   ]
  },
  {
   "cell_type": "code",
   "execution_count": null,
   "id": "a34abd24",
   "metadata": {},
   "outputs": [],
   "source": [
    "# Seu código aqui\n"
   ]
  },
  {
   "cell_type": "markdown",
   "id": "212c2e6e",
   "metadata": {},
   "source": [
    "**Exercício 54**  \n",
    "Dica: Use o dataframe `titanic` (pandas) – pratique contagens, médias, histogramas."
   ]
  },
  {
   "cell_type": "code",
   "execution_count": null,
   "id": "6885e08f",
   "metadata": {},
   "outputs": [],
   "source": [
    "# Seu código aqui\n"
   ]
  },
  {
   "cell_type": "markdown",
   "id": "af2eebf8",
   "metadata": {},
   "source": [
    "**Exercício 55**  \n",
    "Dica: Use o dataframe `titanic` (pandas) – pratique contagens, médias, histogramas."
   ]
  },
  {
   "cell_type": "code",
   "execution_count": null,
   "id": "dc91e780",
   "metadata": {},
   "outputs": [],
   "source": [
    "# Seu código aqui\n"
   ]
  },
  {
   "cell_type": "markdown",
   "id": "c98da53f",
   "metadata": {},
   "source": [
    "**Exercício 56**  \n",
    "Dica: Use o dataframe `titanic` (pandas) – pratique contagens, médias, histogramas."
   ]
  },
  {
   "cell_type": "code",
   "execution_count": null,
   "id": "43c6ffc0",
   "metadata": {},
   "outputs": [],
   "source": [
    "# Seu código aqui\n"
   ]
  },
  {
   "cell_type": "markdown",
   "id": "6be26171",
   "metadata": {},
   "source": [
    "**Exercício 57**  \n",
    "Dica: Use o dataframe `titanic` (pandas) – pratique contagens, médias, histogramas."
   ]
  },
  {
   "cell_type": "code",
   "execution_count": null,
   "id": "48440303",
   "metadata": {},
   "outputs": [],
   "source": [
    "# Seu código aqui\n"
   ]
  },
  {
   "cell_type": "markdown",
   "id": "41e7df39",
   "metadata": {},
   "source": [
    "**Exercício 58**  \n",
    "Dica: Use o dataframe `titanic` (pandas) – pratique contagens, médias, histogramas."
   ]
  },
  {
   "cell_type": "code",
   "execution_count": null,
   "id": "a71c477d",
   "metadata": {},
   "outputs": [],
   "source": [
    "# Seu código aqui\n"
   ]
  },
  {
   "cell_type": "markdown",
   "id": "aabf1c05",
   "metadata": {},
   "source": [
    "**Exercício 59**  \n",
    "Dica: Use o dataframe `titanic` (pandas) – pratique contagens, médias, histogramas."
   ]
  },
  {
   "cell_type": "code",
   "execution_count": null,
   "id": "883e481e",
   "metadata": {},
   "outputs": [],
   "source": [
    "# Seu código aqui\n"
   ]
  },
  {
   "cell_type": "markdown",
   "id": "48bd3a4e",
   "metadata": {},
   "source": [
    "**Exercício 60**  \n",
    "Dica: Use o dataframe `titanic` (pandas) – pratique contagens, médias, histogramas."
   ]
  },
  {
   "cell_type": "code",
   "execution_count": null,
   "id": "7cf36be2",
   "metadata": {},
   "outputs": [],
   "source": [
    "# Seu código aqui\n"
   ]
  },
  {
   "cell_type": "markdown",
   "id": "01cb4139",
   "metadata": {},
   "source": [
    "**Exercício 61**  \n",
    "Dica: Use o dataframe `titanic` (pandas) – pratique contagens, médias, histogramas."
   ]
  },
  {
   "cell_type": "code",
   "execution_count": null,
   "id": "08a15598",
   "metadata": {},
   "outputs": [],
   "source": [
    "# Seu código aqui\n"
   ]
  },
  {
   "cell_type": "markdown",
   "id": "c12b2fe1",
   "metadata": {},
   "source": [
    "**Exercício 62**  \n",
    "Dica: Use o dataframe `titanic` (pandas) – pratique contagens, médias, histogramas."
   ]
  },
  {
   "cell_type": "code",
   "execution_count": null,
   "id": "a8758e1d",
   "metadata": {},
   "outputs": [],
   "source": [
    "# Seu código aqui\n"
   ]
  },
  {
   "cell_type": "markdown",
   "id": "7817d679",
   "metadata": {},
   "source": [
    "**Exercício 63**  \n",
    "Dica: Use o dataframe `titanic` (pandas) – pratique contagens, médias, histogramas."
   ]
  },
  {
   "cell_type": "code",
   "execution_count": null,
   "id": "8549804a",
   "metadata": {},
   "outputs": [],
   "source": [
    "# Seu código aqui\n"
   ]
  },
  {
   "cell_type": "markdown",
   "id": "7a5cfe21",
   "metadata": {},
   "source": [
    "**Exercício 64**  \n",
    "Dica: Use o dataframe `titanic` (pandas) – pratique contagens, médias, histogramas."
   ]
  },
  {
   "cell_type": "code",
   "execution_count": null,
   "id": "77474a86",
   "metadata": {},
   "outputs": [],
   "source": [
    "# Seu código aqui\n"
   ]
  },
  {
   "cell_type": "markdown",
   "id": "548ca4ea",
   "metadata": {},
   "source": [
    "**Exercício 65**  \n",
    "Dica: Use o dataframe `titanic` (pandas) – pratique contagens, médias, histogramas."
   ]
  },
  {
   "cell_type": "code",
   "execution_count": null,
   "id": "ef31147d",
   "metadata": {},
   "outputs": [],
   "source": [
    "# Seu código aqui\n"
   ]
  },
  {
   "cell_type": "markdown",
   "id": "42501d4b",
   "metadata": {},
   "source": [
    "**Exercício 66**  \n",
    "Dica: Use o dataframe `titanic` (pandas) – pratique contagens, médias, histogramas."
   ]
  },
  {
   "cell_type": "code",
   "execution_count": null,
   "id": "391d23dd",
   "metadata": {},
   "outputs": [],
   "source": [
    "# Seu código aqui\n"
   ]
  },
  {
   "cell_type": "markdown",
   "id": "535466d3",
   "metadata": {},
   "source": [
    "**Exercício 67**  \n",
    "Dica: Use o dataframe `titanic` (pandas) – pratique contagens, médias, histogramas."
   ]
  },
  {
   "cell_type": "code",
   "execution_count": null,
   "id": "2d6d9bb3",
   "metadata": {},
   "outputs": [],
   "source": [
    "# Seu código aqui\n"
   ]
  },
  {
   "cell_type": "markdown",
   "id": "339cdcd6",
   "metadata": {},
   "source": [
    "**Exercício 68**  \n",
    "Dica: Use o dataframe `titanic` (pandas) – pratique contagens, médias, histogramas."
   ]
  },
  {
   "cell_type": "code",
   "execution_count": null,
   "id": "3bee195c",
   "metadata": {},
   "outputs": [],
   "source": [
    "# Seu código aqui\n"
   ]
  },
  {
   "cell_type": "markdown",
   "id": "e75ba06f",
   "metadata": {},
   "source": [
    "**Exercício 69**  \n",
    "Dica: Use o dataframe `titanic` (pandas) – pratique contagens, médias, histogramas."
   ]
  },
  {
   "cell_type": "code",
   "execution_count": null,
   "id": "16755d4a",
   "metadata": {},
   "outputs": [],
   "source": [
    "# Seu código aqui\n"
   ]
  },
  {
   "cell_type": "markdown",
   "id": "90aadb64",
   "metadata": {},
   "source": [
    "**Exercício 70**  \n",
    "Dica: Use o dataframe `titanic` (pandas) – pratique contagens, médias, histogramas."
   ]
  },
  {
   "cell_type": "code",
   "execution_count": null,
   "id": "90f56b38",
   "metadata": {},
   "outputs": [],
   "source": [
    "# Seu código aqui\n"
   ]
  },
  {
   "cell_type": "markdown",
   "id": "ac63f859",
   "metadata": {},
   "source": [
    "**Exercício 71**  \n",
    "Dica: Use o dataframe `titanic` (pandas) – pratique contagens, médias, histogramas."
   ]
  },
  {
   "cell_type": "code",
   "execution_count": null,
   "id": "cf120cf2",
   "metadata": {},
   "outputs": [],
   "source": [
    "# Seu código aqui\n"
   ]
  },
  {
   "cell_type": "markdown",
   "id": "98c0844b",
   "metadata": {},
   "source": [
    "**Exercício 72**  \n",
    "Dica: Use o dataframe `titanic` (pandas) – pratique contagens, médias, histogramas."
   ]
  },
  {
   "cell_type": "code",
   "execution_count": null,
   "id": "2f472770",
   "metadata": {},
   "outputs": [],
   "source": [
    "# Seu código aqui\n"
   ]
  },
  {
   "cell_type": "markdown",
   "id": "79983976",
   "metadata": {},
   "source": [
    "**Exercício 73**  \n",
    "Dica: Use o dataframe `titanic` (pandas) – pratique contagens, médias, histogramas."
   ]
  },
  {
   "cell_type": "code",
   "execution_count": null,
   "id": "08983be6",
   "metadata": {},
   "outputs": [],
   "source": [
    "# Seu código aqui\n"
   ]
  },
  {
   "cell_type": "markdown",
   "id": "c66bd01c",
   "metadata": {},
   "source": [
    "**Exercício 74**  \n",
    "Dica: Use o dataframe `titanic` (pandas) – pratique contagens, médias, histogramas."
   ]
  },
  {
   "cell_type": "code",
   "execution_count": null,
   "id": "9ab9a09a",
   "metadata": {},
   "outputs": [],
   "source": [
    "# Seu código aqui\n"
   ]
  },
  {
   "cell_type": "markdown",
   "id": "341580bb",
   "metadata": {},
   "source": [
    "**Exercício 75**  \n",
    "Dica: Use o dataframe `titanic` (pandas) – pratique contagens, médias, histogramas."
   ]
  },
  {
   "cell_type": "code",
   "execution_count": null,
   "id": "6f91de19",
   "metadata": {},
   "outputs": [],
   "source": [
    "# Seu código aqui\n"
   ]
  },
  {
   "cell_type": "markdown",
   "id": "31e4704b",
   "metadata": {},
   "source": [
    "**Exercício 76**  \n",
    "Dica: Use o dataframe `titanic` (pandas) – pratique contagens, médias, histogramas."
   ]
  },
  {
   "cell_type": "code",
   "execution_count": null,
   "id": "d09ac0a0",
   "metadata": {},
   "outputs": [],
   "source": [
    "# Seu código aqui\n"
   ]
  },
  {
   "cell_type": "markdown",
   "id": "bf278da2",
   "metadata": {},
   "source": [
    "**Exercício 77**  \n",
    "Dica: Use o dataframe `titanic` (pandas) – pratique contagens, médias, histogramas."
   ]
  },
  {
   "cell_type": "code",
   "execution_count": null,
   "id": "5ff5bbc8",
   "metadata": {},
   "outputs": [],
   "source": [
    "# Seu código aqui\n"
   ]
  },
  {
   "cell_type": "markdown",
   "id": "a0d23d18",
   "metadata": {},
   "source": [
    "**Exercício 78**  \n",
    "Dica: Use o dataframe `titanic` (pandas) – pratique contagens, médias, histogramas."
   ]
  },
  {
   "cell_type": "code",
   "execution_count": null,
   "id": "52b70e49",
   "metadata": {},
   "outputs": [],
   "source": [
    "# Seu código aqui\n"
   ]
  },
  {
   "cell_type": "markdown",
   "id": "072d0a6c",
   "metadata": {},
   "source": [
    "**Exercício 79**  \n",
    "Dica: Use o dataframe `titanic` (pandas) – pratique contagens, médias, histogramas."
   ]
  },
  {
   "cell_type": "code",
   "execution_count": null,
   "id": "acaf17b1",
   "metadata": {},
   "outputs": [],
   "source": [
    "# Seu código aqui\n"
   ]
  },
  {
   "cell_type": "markdown",
   "id": "a1034548",
   "metadata": {},
   "source": [
    "**Exercício 80**  \n",
    "Dica: Use o dataframe `titanic` (pandas) – pratique contagens, médias, histogramas."
   ]
  },
  {
   "cell_type": "code",
   "execution_count": null,
   "id": "303550f8",
   "metadata": {},
   "outputs": [],
   "source": [
    "# Seu código aqui\n"
   ]
  },
  {
   "cell_type": "markdown",
   "id": "c7e7b01e",
   "metadata": {},
   "source": [
    "**Exercício 81**  \n",
    "Dica: Use o dataframe `titanic` (pandas) – pratique contagens, médias, histogramas."
   ]
  },
  {
   "cell_type": "code",
   "execution_count": null,
   "id": "bc89e367",
   "metadata": {},
   "outputs": [],
   "source": [
    "# Seu código aqui\n"
   ]
  },
  {
   "cell_type": "markdown",
   "id": "9cf709a3",
   "metadata": {},
   "source": [
    "**Exercício 82**  \n",
    "Dica: Use o dataframe `titanic` (pandas) – pratique contagens, médias, histogramas."
   ]
  },
  {
   "cell_type": "code",
   "execution_count": null,
   "id": "b31e90a8",
   "metadata": {},
   "outputs": [],
   "source": [
    "# Seu código aqui\n"
   ]
  },
  {
   "cell_type": "markdown",
   "id": "04b8b32c",
   "metadata": {},
   "source": [
    "**Exercício 83**  \n",
    "Dica: Use o dataframe `titanic` (pandas) – pratique contagens, médias, histogramas."
   ]
  },
  {
   "cell_type": "code",
   "execution_count": null,
   "id": "b73b0160",
   "metadata": {},
   "outputs": [],
   "source": [
    "# Seu código aqui\n"
   ]
  },
  {
   "cell_type": "markdown",
   "id": "562ec49b",
   "metadata": {},
   "source": [
    "**Exercício 84**  \n",
    "Dica: Use o dataframe `titanic` (pandas) – pratique contagens, médias, histogramas."
   ]
  },
  {
   "cell_type": "code",
   "execution_count": null,
   "id": "eef0d0a7",
   "metadata": {},
   "outputs": [],
   "source": [
    "# Seu código aqui\n"
   ]
  },
  {
   "cell_type": "markdown",
   "id": "ed540a41",
   "metadata": {},
   "source": [
    "**Exercício 85**  \n",
    "Dica: Use o dataframe `titanic` (pandas) – pratique contagens, médias, histogramas."
   ]
  },
  {
   "cell_type": "code",
   "execution_count": null,
   "id": "3b4f5844",
   "metadata": {},
   "outputs": [],
   "source": [
    "# Seu código aqui\n"
   ]
  },
  {
   "cell_type": "markdown",
   "id": "96378346",
   "metadata": {},
   "source": [
    "**Exercício 86**  \n",
    "Dica: Use o dataframe `titanic` (pandas) – pratique contagens, médias, histogramas."
   ]
  },
  {
   "cell_type": "code",
   "execution_count": null,
   "id": "a62d0002",
   "metadata": {},
   "outputs": [],
   "source": [
    "# Seu código aqui\n"
   ]
  },
  {
   "cell_type": "markdown",
   "id": "38a9cb66",
   "metadata": {},
   "source": [
    "**Exercício 87**  \n",
    "Dica: Use o dataframe `titanic` (pandas) – pratique contagens, médias, histogramas."
   ]
  },
  {
   "cell_type": "code",
   "execution_count": null,
   "id": "c79890e3",
   "metadata": {},
   "outputs": [],
   "source": [
    "# Seu código aqui\n"
   ]
  },
  {
   "cell_type": "markdown",
   "id": "2300f34e",
   "metadata": {},
   "source": [
    "**Exercício 88**  \n",
    "Dica: Use o dataframe `titanic` (pandas) – pratique contagens, médias, histogramas."
   ]
  },
  {
   "cell_type": "code",
   "execution_count": null,
   "id": "604ea946",
   "metadata": {},
   "outputs": [],
   "source": [
    "# Seu código aqui\n"
   ]
  },
  {
   "cell_type": "markdown",
   "id": "4db80975",
   "metadata": {},
   "source": [
    "**Exercício 89**  \n",
    "Dica: Use o dataframe `titanic` (pandas) – pratique contagens, médias, histogramas."
   ]
  },
  {
   "cell_type": "code",
   "execution_count": null,
   "id": "a514e0e0",
   "metadata": {},
   "outputs": [],
   "source": [
    "# Seu código aqui\n"
   ]
  },
  {
   "cell_type": "markdown",
   "id": "62b7591c",
   "metadata": {},
   "source": [
    "**Exercício 90**  \n",
    "Dica: Use o dataframe `titanic` (pandas) – pratique contagens, médias, histogramas."
   ]
  },
  {
   "cell_type": "code",
   "execution_count": null,
   "id": "25cb1be2",
   "metadata": {},
   "outputs": [],
   "source": [
    "# Seu código aqui\n"
   ]
  },
  {
   "cell_type": "markdown",
   "id": "afae07b7",
   "metadata": {},
   "source": [
    "**Exercício 91**  \n",
    "Dica: Use o dataframe `titanic` (pandas) – pratique contagens, médias, histogramas."
   ]
  },
  {
   "cell_type": "code",
   "execution_count": null,
   "id": "c1b84fc2",
   "metadata": {},
   "outputs": [],
   "source": [
    "# Seu código aqui\n"
   ]
  },
  {
   "cell_type": "markdown",
   "id": "6ca76814",
   "metadata": {},
   "source": [
    "**Exercício 92**  \n",
    "Dica: Use o dataframe `titanic` (pandas) – pratique contagens, médias, histogramas."
   ]
  },
  {
   "cell_type": "code",
   "execution_count": null,
   "id": "71b9f211",
   "metadata": {},
   "outputs": [],
   "source": [
    "# Seu código aqui\n"
   ]
  },
  {
   "cell_type": "markdown",
   "id": "b7a364c8",
   "metadata": {},
   "source": [
    "**Exercício 93**  \n",
    "Dica: Use o dataframe `titanic` (pandas) – pratique contagens, médias, histogramas."
   ]
  },
  {
   "cell_type": "code",
   "execution_count": null,
   "id": "9da7d50a",
   "metadata": {},
   "outputs": [],
   "source": [
    "# Seu código aqui\n"
   ]
  },
  {
   "cell_type": "markdown",
   "id": "a27ac69e",
   "metadata": {},
   "source": [
    "**Exercício 94**  \n",
    "Dica: Use o dataframe `titanic` (pandas) – pratique contagens, médias, histogramas."
   ]
  },
  {
   "cell_type": "code",
   "execution_count": null,
   "id": "4e538a87",
   "metadata": {},
   "outputs": [],
   "source": [
    "# Seu código aqui\n"
   ]
  },
  {
   "cell_type": "markdown",
   "id": "f78ab72b",
   "metadata": {},
   "source": [
    "**Exercício 95**  \n",
    "Dica: Use o dataframe `titanic` (pandas) – pratique contagens, médias, histogramas."
   ]
  },
  {
   "cell_type": "code",
   "execution_count": null,
   "id": "4d676883",
   "metadata": {},
   "outputs": [],
   "source": [
    "# Seu código aqui\n"
   ]
  },
  {
   "cell_type": "markdown",
   "id": "3b889bbf",
   "metadata": {},
   "source": [
    "**Exercício 96**  \n",
    "Dica: Use o dataframe `titanic` (pandas) – pratique contagens, médias, histogramas."
   ]
  },
  {
   "cell_type": "code",
   "execution_count": null,
   "id": "c3797147",
   "metadata": {},
   "outputs": [],
   "source": [
    "# Seu código aqui\n"
   ]
  },
  {
   "cell_type": "markdown",
   "id": "c2075cd6",
   "metadata": {},
   "source": [
    "**Exercício 97**  \n",
    "Dica: Use o dataframe `titanic` (pandas) – pratique contagens, médias, histogramas."
   ]
  },
  {
   "cell_type": "code",
   "execution_count": null,
   "id": "ffe07dd7",
   "metadata": {},
   "outputs": [],
   "source": [
    "# Seu código aqui\n"
   ]
  },
  {
   "cell_type": "markdown",
   "id": "a254a6ac",
   "metadata": {},
   "source": [
    "**Exercício 98**  \n",
    "Dica: Use o dataframe `titanic` (pandas) – pratique contagens, médias, histogramas."
   ]
  },
  {
   "cell_type": "code",
   "execution_count": null,
   "id": "8488f600",
   "metadata": {},
   "outputs": [],
   "source": [
    "# Seu código aqui\n"
   ]
  },
  {
   "cell_type": "markdown",
   "id": "71c2a1fd",
   "metadata": {},
   "source": [
    "**Exercício 99**  \n",
    "Dica: Use o dataframe `titanic` (pandas) – pratique contagens, médias, histogramas."
   ]
  },
  {
   "cell_type": "code",
   "execution_count": null,
   "id": "bd4de3fd",
   "metadata": {},
   "outputs": [],
   "source": [
    "# Seu código aqui\n"
   ]
  },
  {
   "cell_type": "markdown",
   "id": "d1f8cdfb",
   "metadata": {},
   "source": [
    "**Exercício 100**  \n",
    "Dica: Use o dataframe `titanic` (pandas) – pratique contagens, médias, histogramas."
   ]
  },
  {
   "cell_type": "code",
   "execution_count": null,
   "id": "1987f8c8",
   "metadata": {},
   "outputs": [],
   "source": [
    "# Seu código aqui\n"
   ]
  },
  {
   "cell_type": "markdown",
   "id": "00dd956f",
   "metadata": {},
   "source": [
    "**Exercício 101**  \n",
    "Dica: Use o dataframe `titanic` (pandas) – pratique contagens, médias, histogramas."
   ]
  },
  {
   "cell_type": "code",
   "execution_count": null,
   "id": "a80b777c",
   "metadata": {},
   "outputs": [],
   "source": [
    "# Seu código aqui\n"
   ]
  },
  {
   "cell_type": "markdown",
   "id": "ff4bba5c",
   "metadata": {},
   "source": [
    "**Exercício 102**  \n",
    "Dica: Use o dataframe `titanic` (pandas) – pratique contagens, médias, histogramas."
   ]
  },
  {
   "cell_type": "code",
   "execution_count": null,
   "id": "2decf743",
   "metadata": {},
   "outputs": [],
   "source": [
    "# Seu código aqui\n"
   ]
  },
  {
   "cell_type": "markdown",
   "id": "987c579e",
   "metadata": {},
   "source": [
    "**Exercício 103**  \n",
    "Dica: Use o dataframe `titanic` (pandas) – pratique contagens, médias, histogramas."
   ]
  },
  {
   "cell_type": "code",
   "execution_count": null,
   "id": "cdfd083d",
   "metadata": {},
   "outputs": [],
   "source": [
    "# Seu código aqui\n"
   ]
  },
  {
   "cell_type": "markdown",
   "id": "e2d9d1ab",
   "metadata": {},
   "source": [
    "**Exercício 104**  \n",
    "Dica: Use o dataframe `titanic` (pandas) – pratique contagens, médias, histogramas."
   ]
  },
  {
   "cell_type": "code",
   "execution_count": null,
   "id": "1df1fdf8",
   "metadata": {},
   "outputs": [],
   "source": [
    "# Seu código aqui\n"
   ]
  },
  {
   "cell_type": "markdown",
   "id": "1c6c17d7",
   "metadata": {},
   "source": [
    "**Exercício 105**  \n",
    "Dica: Use o dataframe `titanic` (pandas) – pratique contagens, médias, histogramas."
   ]
  },
  {
   "cell_type": "code",
   "execution_count": null,
   "id": "d4f1fe9b",
   "metadata": {},
   "outputs": [],
   "source": [
    "# Seu código aqui\n"
   ]
  },
  {
   "cell_type": "markdown",
   "id": "757a5526",
   "metadata": {},
   "source": [
    "**Exercício 106**  \n",
    "Dica: Use o dataframe `titanic` (pandas) – pratique contagens, médias, histogramas."
   ]
  },
  {
   "cell_type": "code",
   "execution_count": null,
   "id": "479233e2",
   "metadata": {},
   "outputs": [],
   "source": [
    "# Seu código aqui\n"
   ]
  },
  {
   "cell_type": "markdown",
   "id": "667a894c",
   "metadata": {},
   "source": [
    "**Exercício 107**  \n",
    "Dica: Use o dataframe `titanic` (pandas) – pratique contagens, médias, histogramas."
   ]
  },
  {
   "cell_type": "code",
   "execution_count": null,
   "id": "fa701c3e",
   "metadata": {},
   "outputs": [],
   "source": [
    "# Seu código aqui\n"
   ]
  },
  {
   "cell_type": "markdown",
   "id": "3d74bdcc",
   "metadata": {},
   "source": [
    "**Exercício 108**  \n",
    "Dica: Use o dataframe `titanic` (pandas) – pratique contagens, médias, histogramas."
   ]
  },
  {
   "cell_type": "code",
   "execution_count": null,
   "id": "4b3f7e4c",
   "metadata": {},
   "outputs": [],
   "source": [
    "# Seu código aqui\n"
   ]
  },
  {
   "cell_type": "markdown",
   "id": "29a451d5",
   "metadata": {},
   "source": [
    "**Exercício 109**  \n",
    "Dica: Use o dataframe `titanic` (pandas) – pratique contagens, médias, histogramas."
   ]
  },
  {
   "cell_type": "code",
   "execution_count": null,
   "id": "8128d25d",
   "metadata": {},
   "outputs": [],
   "source": [
    "# Seu código aqui\n"
   ]
  },
  {
   "cell_type": "markdown",
   "id": "d901e75d",
   "metadata": {},
   "source": [
    "**Exercício 110**  \n",
    "Dica: Use o dataframe `titanic` (pandas) – pratique contagens, médias, histogramas."
   ]
  },
  {
   "cell_type": "code",
   "execution_count": null,
   "id": "81be5b96",
   "metadata": {},
   "outputs": [],
   "source": [
    "# Seu código aqui\n"
   ]
  },
  {
   "cell_type": "markdown",
   "id": "bbd177f3",
   "metadata": {},
   "source": [
    "**Exercício 111**  \n",
    "Dica: Use o dataframe `titanic` (pandas) – pratique contagens, médias, histogramas."
   ]
  },
  {
   "cell_type": "code",
   "execution_count": null,
   "id": "d2de3f7a",
   "metadata": {},
   "outputs": [],
   "source": [
    "# Seu código aqui\n"
   ]
  },
  {
   "cell_type": "markdown",
   "id": "af839256",
   "metadata": {},
   "source": [
    "**Exercício 112**  \n",
    "Dica: Use o dataframe `titanic` (pandas) – pratique contagens, médias, histogramas."
   ]
  },
  {
   "cell_type": "code",
   "execution_count": null,
   "id": "25754855",
   "metadata": {},
   "outputs": [],
   "source": [
    "# Seu código aqui\n"
   ]
  },
  {
   "cell_type": "markdown",
   "id": "9229c352",
   "metadata": {},
   "source": [
    "**Exercício 113**  \n",
    "Dica: Use o dataframe `titanic` (pandas) – pratique contagens, médias, histogramas."
   ]
  },
  {
   "cell_type": "code",
   "execution_count": null,
   "id": "b9622d7a",
   "metadata": {},
   "outputs": [],
   "source": [
    "# Seu código aqui\n"
   ]
  },
  {
   "cell_type": "markdown",
   "id": "05fb19f5",
   "metadata": {},
   "source": [
    "**Exercício 114**  \n",
    "Dica: Use o dataframe `titanic` (pandas) – pratique contagens, médias, histogramas."
   ]
  },
  {
   "cell_type": "code",
   "execution_count": null,
   "id": "51d0a672",
   "metadata": {},
   "outputs": [],
   "source": [
    "# Seu código aqui\n"
   ]
  },
  {
   "cell_type": "markdown",
   "id": "75c552c4",
   "metadata": {},
   "source": [
    "**Exercício 115**  \n",
    "Dica: Use o dataframe `titanic` (pandas) – pratique contagens, médias, histogramas."
   ]
  },
  {
   "cell_type": "code",
   "execution_count": null,
   "id": "53c47e1a",
   "metadata": {},
   "outputs": [],
   "source": [
    "# Seu código aqui\n"
   ]
  },
  {
   "cell_type": "markdown",
   "id": "e05d41b4",
   "metadata": {},
   "source": [
    "**Exercício 116**  \n",
    "Dica: Use o dataframe `titanic` (pandas) – pratique contagens, médias, histogramas."
   ]
  },
  {
   "cell_type": "code",
   "execution_count": null,
   "id": "4d34a831",
   "metadata": {},
   "outputs": [],
   "source": [
    "# Seu código aqui\n"
   ]
  },
  {
   "cell_type": "markdown",
   "id": "ad2bdb08",
   "metadata": {},
   "source": [
    "**Exercício 117**  \n",
    "Dica: Use o dataframe `titanic` (pandas) – pratique contagens, médias, histogramas."
   ]
  },
  {
   "cell_type": "code",
   "execution_count": null,
   "id": "a327edbf",
   "metadata": {},
   "outputs": [],
   "source": [
    "# Seu código aqui\n"
   ]
  },
  {
   "cell_type": "markdown",
   "id": "7ce82249",
   "metadata": {},
   "source": [
    "**Exercício 118**  \n",
    "Dica: Use o dataframe `titanic` (pandas) – pratique contagens, médias, histogramas."
   ]
  },
  {
   "cell_type": "code",
   "execution_count": null,
   "id": "32e2ca1a",
   "metadata": {},
   "outputs": [],
   "source": [
    "# Seu código aqui\n"
   ]
  },
  {
   "cell_type": "markdown",
   "id": "3016c57d",
   "metadata": {},
   "source": [
    "**Exercício 119**  \n",
    "Dica: Use o dataframe `titanic` (pandas) – pratique contagens, médias, histogramas."
   ]
  },
  {
   "cell_type": "code",
   "execution_count": null,
   "id": "c0a2757a",
   "metadata": {},
   "outputs": [],
   "source": [
    "# Seu código aqui\n"
   ]
  },
  {
   "cell_type": "markdown",
   "id": "ab2c660a",
   "metadata": {},
   "source": [
    "**Exercício 120**  \n",
    "Dica: Use o dataframe `titanic` (pandas) – pratique contagens, médias, histogramas."
   ]
  },
  {
   "cell_type": "code",
   "execution_count": null,
   "id": "17a9f2c5",
   "metadata": {},
   "outputs": [],
   "source": [
    "# Seu código aqui\n"
   ]
  },
  {
   "cell_type": "markdown",
   "id": "89e7f9aa",
   "metadata": {},
   "source": [
    "**Exercício 121**  \n",
    "Dica: Use o dataframe `titanic` (pandas) – pratique contagens, médias, histogramas."
   ]
  },
  {
   "cell_type": "code",
   "execution_count": null,
   "id": "81ba423f",
   "metadata": {},
   "outputs": [],
   "source": [
    "# Seu código aqui\n"
   ]
  },
  {
   "cell_type": "markdown",
   "id": "9a841791",
   "metadata": {},
   "source": [
    "**Exercício 122**  \n",
    "Dica: Use o dataframe `titanic` (pandas) – pratique contagens, médias, histogramas."
   ]
  },
  {
   "cell_type": "code",
   "execution_count": null,
   "id": "e3e2f33e",
   "metadata": {},
   "outputs": [],
   "source": [
    "# Seu código aqui\n"
   ]
  },
  {
   "cell_type": "markdown",
   "id": "0745a4a3",
   "metadata": {},
   "source": [
    "**Exercício 123**  \n",
    "Dica: Use o dataframe `titanic` (pandas) – pratique contagens, médias, histogramas."
   ]
  },
  {
   "cell_type": "code",
   "execution_count": null,
   "id": "13bbce10",
   "metadata": {},
   "outputs": [],
   "source": [
    "# Seu código aqui\n"
   ]
  },
  {
   "cell_type": "markdown",
   "id": "493b7297",
   "metadata": {},
   "source": [
    "**Exercício 124**  \n",
    "Dica: Use o dataframe `titanic` (pandas) – pratique contagens, médias, histogramas."
   ]
  },
  {
   "cell_type": "code",
   "execution_count": null,
   "id": "607c42e5",
   "metadata": {},
   "outputs": [],
   "source": [
    "# Seu código aqui\n"
   ]
  },
  {
   "cell_type": "markdown",
   "id": "c5fa608a",
   "metadata": {},
   "source": [
    "**Exercício 125**  \n",
    "Dica: Use o dataframe `titanic` (pandas) – pratique contagens, médias, histogramas."
   ]
  },
  {
   "cell_type": "code",
   "execution_count": null,
   "id": "5d64eb25",
   "metadata": {},
   "outputs": [],
   "source": [
    "# Seu código aqui\n"
   ]
  },
  {
   "cell_type": "markdown",
   "id": "837c8569",
   "metadata": {},
   "source": [
    "**Exercício 126**  \n",
    "Dica: Use o dataframe `titanic` (pandas) – pratique contagens, médias, histogramas."
   ]
  },
  {
   "cell_type": "code",
   "execution_count": null,
   "id": "0e30bf07",
   "metadata": {},
   "outputs": [],
   "source": [
    "# Seu código aqui\n"
   ]
  },
  {
   "cell_type": "markdown",
   "id": "98845653",
   "metadata": {},
   "source": [
    "**Exercício 127**  \n",
    "Dica: Use o dataframe `titanic` (pandas) – pratique contagens, médias, histogramas."
   ]
  },
  {
   "cell_type": "code",
   "execution_count": null,
   "id": "5df71d58",
   "metadata": {},
   "outputs": [],
   "source": [
    "# Seu código aqui\n"
   ]
  },
  {
   "cell_type": "markdown",
   "id": "c51963c2",
   "metadata": {},
   "source": [
    "**Exercício 128**  \n",
    "Dica: Use o dataframe `titanic` (pandas) – pratique contagens, médias, histogramas."
   ]
  },
  {
   "cell_type": "code",
   "execution_count": null,
   "id": "108495d7",
   "metadata": {},
   "outputs": [],
   "source": [
    "# Seu código aqui\n"
   ]
  },
  {
   "cell_type": "markdown",
   "id": "0a7cba62",
   "metadata": {},
   "source": [
    "**Exercício 129**  \n",
    "Dica: Use o dataframe `titanic` (pandas) – pratique contagens, médias, histogramas."
   ]
  },
  {
   "cell_type": "code",
   "execution_count": null,
   "id": "3d8a2d9f",
   "metadata": {},
   "outputs": [],
   "source": [
    "# Seu código aqui\n"
   ]
  },
  {
   "cell_type": "markdown",
   "id": "82a86b1d",
   "metadata": {},
   "source": [
    "**Exercício 130**  \n",
    "Dica: Use o dataframe `titanic` (pandas) – pratique contagens, médias, histogramas."
   ]
  },
  {
   "cell_type": "code",
   "execution_count": null,
   "id": "fe01ad77",
   "metadata": {},
   "outputs": [],
   "source": [
    "# Seu código aqui\n"
   ]
  },
  {
   "cell_type": "markdown",
   "id": "aff3d0b4",
   "metadata": {},
   "source": [
    "**Exercício 131**  \n",
    "Dica: Use o dataframe `titanic` (pandas) – pratique contagens, médias, histogramas."
   ]
  },
  {
   "cell_type": "code",
   "execution_count": null,
   "id": "f890140f",
   "metadata": {},
   "outputs": [],
   "source": [
    "# Seu código aqui\n"
   ]
  },
  {
   "cell_type": "markdown",
   "id": "77272619",
   "metadata": {},
   "source": [
    "**Exercício 132**  \n",
    "Dica: Use o dataframe `titanic` (pandas) – pratique contagens, médias, histogramas."
   ]
  },
  {
   "cell_type": "code",
   "execution_count": null,
   "id": "769dee9a",
   "metadata": {},
   "outputs": [],
   "source": [
    "# Seu código aqui\n"
   ]
  },
  {
   "cell_type": "markdown",
   "id": "d6780c9a",
   "metadata": {},
   "source": [
    "**Exercício 133**  \n",
    "Dica: Use o dataframe `titanic` (pandas) – pratique contagens, médias, histogramas."
   ]
  },
  {
   "cell_type": "code",
   "execution_count": null,
   "id": "82cf9bde",
   "metadata": {},
   "outputs": [],
   "source": [
    "# Seu código aqui\n"
   ]
  },
  {
   "cell_type": "markdown",
   "id": "6a69294f",
   "metadata": {},
   "source": [
    "**Exercício 134**  \n",
    "Dica: Use o dataframe `titanic` (pandas) – pratique contagens, médias, histogramas."
   ]
  },
  {
   "cell_type": "code",
   "execution_count": null,
   "id": "6d8481d0",
   "metadata": {},
   "outputs": [],
   "source": [
    "# Seu código aqui\n"
   ]
  },
  {
   "cell_type": "markdown",
   "id": "c22df5d4",
   "metadata": {},
   "source": [
    "**Exercício 135**  \n",
    "Dica: Use o dataframe `titanic` (pandas) – pratique contagens, médias, histogramas."
   ]
  },
  {
   "cell_type": "code",
   "execution_count": null,
   "id": "e1cfa2db",
   "metadata": {},
   "outputs": [],
   "source": [
    "# Seu código aqui\n"
   ]
  },
  {
   "cell_type": "markdown",
   "id": "ac5497d7",
   "metadata": {},
   "source": [
    "**Exercício 136**  \n",
    "Dica: Use o dataframe `titanic` (pandas) – pratique contagens, médias, histogramas."
   ]
  },
  {
   "cell_type": "code",
   "execution_count": null,
   "id": "8956e398",
   "metadata": {},
   "outputs": [],
   "source": [
    "# Seu código aqui\n"
   ]
  },
  {
   "cell_type": "markdown",
   "id": "092f997c",
   "metadata": {},
   "source": [
    "**Exercício 137**  \n",
    "Dica: Use o dataframe `titanic` (pandas) – pratique contagens, médias, histogramas."
   ]
  },
  {
   "cell_type": "code",
   "execution_count": null,
   "id": "ff78face",
   "metadata": {},
   "outputs": [],
   "source": [
    "# Seu código aqui\n"
   ]
  },
  {
   "cell_type": "markdown",
   "id": "ba5f039d",
   "metadata": {},
   "source": [
    "**Exercício 138**  \n",
    "Dica: Use o dataframe `titanic` (pandas) – pratique contagens, médias, histogramas."
   ]
  },
  {
   "cell_type": "code",
   "execution_count": null,
   "id": "49198732",
   "metadata": {},
   "outputs": [],
   "source": [
    "# Seu código aqui\n"
   ]
  },
  {
   "cell_type": "markdown",
   "id": "b60ce4ff",
   "metadata": {},
   "source": [
    "**Exercício 139**  \n",
    "Dica: Use o dataframe `titanic` (pandas) – pratique contagens, médias, histogramas."
   ]
  },
  {
   "cell_type": "code",
   "execution_count": null,
   "id": "32f93a0b",
   "metadata": {},
   "outputs": [],
   "source": [
    "# Seu código aqui\n"
   ]
  },
  {
   "cell_type": "markdown",
   "id": "a541ecc9",
   "metadata": {},
   "source": [
    "**Exercício 140**  \n",
    "Dica: Use o dataframe `titanic` (pandas) – pratique contagens, médias, histogramas."
   ]
  },
  {
   "cell_type": "code",
   "execution_count": null,
   "id": "ca0c4480",
   "metadata": {},
   "outputs": [],
   "source": [
    "# Seu código aqui\n"
   ]
  },
  {
   "cell_type": "markdown",
   "id": "a861bdac",
   "metadata": {},
   "source": [
    "**Exercício 141**  \n",
    "Dica: Use o dataframe `titanic` (pandas) – pratique contagens, médias, histogramas."
   ]
  },
  {
   "cell_type": "code",
   "execution_count": null,
   "id": "44a85fa5",
   "metadata": {},
   "outputs": [],
   "source": [
    "# Seu código aqui\n"
   ]
  },
  {
   "cell_type": "markdown",
   "id": "9f71426d",
   "metadata": {},
   "source": [
    "**Exercício 142**  \n",
    "Dica: Use o dataframe `titanic` (pandas) – pratique contagens, médias, histogramas."
   ]
  },
  {
   "cell_type": "code",
   "execution_count": null,
   "id": "feda3e6e",
   "metadata": {},
   "outputs": [],
   "source": [
    "# Seu código aqui\n"
   ]
  },
  {
   "cell_type": "markdown",
   "id": "c76d8401",
   "metadata": {},
   "source": [
    "**Exercício 143**  \n",
    "Dica: Use o dataframe `titanic` (pandas) – pratique contagens, médias, histogramas."
   ]
  },
  {
   "cell_type": "code",
   "execution_count": null,
   "id": "67df4d90",
   "metadata": {},
   "outputs": [],
   "source": [
    "# Seu código aqui\n"
   ]
  },
  {
   "cell_type": "markdown",
   "id": "5214167e",
   "metadata": {},
   "source": [
    "**Exercício 144**  \n",
    "Dica: Use o dataframe `titanic` (pandas) – pratique contagens, médias, histogramas."
   ]
  },
  {
   "cell_type": "code",
   "execution_count": null,
   "id": "88d8beb9",
   "metadata": {},
   "outputs": [],
   "source": [
    "# Seu código aqui\n"
   ]
  },
  {
   "cell_type": "markdown",
   "id": "6c858e23",
   "metadata": {},
   "source": [
    "**Exercício 145**  \n",
    "Dica: Use o dataframe `titanic` (pandas) – pratique contagens, médias, histogramas."
   ]
  },
  {
   "cell_type": "code",
   "execution_count": null,
   "id": "a75a08d6",
   "metadata": {},
   "outputs": [],
   "source": [
    "# Seu código aqui\n"
   ]
  },
  {
   "cell_type": "markdown",
   "id": "1a00b289",
   "metadata": {},
   "source": [
    "**Exercício 146**  \n",
    "Dica: Use o dataframe `titanic` (pandas) – pratique contagens, médias, histogramas."
   ]
  },
  {
   "cell_type": "code",
   "execution_count": null,
   "id": "57b98e6f",
   "metadata": {},
   "outputs": [],
   "source": [
    "# Seu código aqui\n"
   ]
  },
  {
   "cell_type": "markdown",
   "id": "87d2967e",
   "metadata": {},
   "source": [
    "**Exercício 147**  \n",
    "Dica: Use o dataframe `titanic` (pandas) – pratique contagens, médias, histogramas."
   ]
  },
  {
   "cell_type": "code",
   "execution_count": null,
   "id": "41a01196",
   "metadata": {},
   "outputs": [],
   "source": [
    "# Seu código aqui\n"
   ]
  },
  {
   "cell_type": "markdown",
   "id": "82c8d126",
   "metadata": {},
   "source": [
    "**Exercício 148**  \n",
    "Dica: Use o dataframe `titanic` (pandas) – pratique contagens, médias, histogramas."
   ]
  },
  {
   "cell_type": "code",
   "execution_count": null,
   "id": "69379323",
   "metadata": {},
   "outputs": [],
   "source": [
    "# Seu código aqui\n"
   ]
  },
  {
   "cell_type": "markdown",
   "id": "4a67871a",
   "metadata": {},
   "source": [
    "**Exercício 149**  \n",
    "Dica: Use o dataframe `titanic` (pandas) – pratique contagens, médias, histogramas."
   ]
  },
  {
   "cell_type": "code",
   "execution_count": null,
   "id": "6d86d903",
   "metadata": {},
   "outputs": [],
   "source": [
    "# Seu código aqui\n"
   ]
  },
  {
   "cell_type": "markdown",
   "id": "5e3014be",
   "metadata": {},
   "source": [
    "**Exercício 150**  \n",
    "Dica: Use o dataframe `titanic` (pandas) – pratique contagens, médias, histogramas."
   ]
  },
  {
   "cell_type": "code",
   "execution_count": null,
   "id": "4ed87800",
   "metadata": {},
   "outputs": [],
   "source": [
    "# Seu código aqui\n"
   ]
  },
  {
   "cell_type": "markdown",
   "id": "ada5412c",
   "metadata": {},
   "source": [
    "**Exercício 151**  \n",
    "Dica: Use o dataframe `titanic` (pandas) – pratique contagens, médias, histogramas."
   ]
  },
  {
   "cell_type": "code",
   "execution_count": null,
   "id": "beb02d94",
   "metadata": {},
   "outputs": [],
   "source": [
    "# Seu código aqui\n"
   ]
  },
  {
   "cell_type": "markdown",
   "id": "b236ed72",
   "metadata": {},
   "source": [
    "**Exercício 152**  \n",
    "Dica: Use o dataframe `titanic` (pandas) – pratique contagens, médias, histogramas."
   ]
  },
  {
   "cell_type": "code",
   "execution_count": null,
   "id": "83496169",
   "metadata": {},
   "outputs": [],
   "source": [
    "# Seu código aqui\n"
   ]
  },
  {
   "cell_type": "markdown",
   "id": "e7e88eaf",
   "metadata": {},
   "source": [
    "**Exercício 153**  \n",
    "Dica: Use o dataframe `titanic` (pandas) – pratique contagens, médias, histogramas."
   ]
  },
  {
   "cell_type": "code",
   "execution_count": null,
   "id": "0c595e35",
   "metadata": {},
   "outputs": [],
   "source": [
    "# Seu código aqui\n"
   ]
  },
  {
   "cell_type": "markdown",
   "id": "0b59d657",
   "metadata": {},
   "source": [
    "**Exercício 154**  \n",
    "Dica: Use o dataframe `titanic` (pandas) – pratique contagens, médias, histogramas."
   ]
  },
  {
   "cell_type": "code",
   "execution_count": null,
   "id": "8560295b",
   "metadata": {},
   "outputs": [],
   "source": [
    "# Seu código aqui\n"
   ]
  },
  {
   "cell_type": "markdown",
   "id": "bd1e85be",
   "metadata": {},
   "source": [
    "**Exercício 155**  \n",
    "Dica: Use o dataframe `titanic` (pandas) – pratique contagens, médias, histogramas."
   ]
  },
  {
   "cell_type": "code",
   "execution_count": null,
   "id": "dad96544",
   "metadata": {},
   "outputs": [],
   "source": [
    "# Seu código aqui\n"
   ]
  },
  {
   "cell_type": "markdown",
   "id": "85f73dd1",
   "metadata": {},
   "source": [
    "**Exercício 156**  \n",
    "Dica: Use o dataframe `titanic` (pandas) – pratique contagens, médias, histogramas."
   ]
  },
  {
   "cell_type": "code",
   "execution_count": null,
   "id": "e6e6dd4e",
   "metadata": {},
   "outputs": [],
   "source": [
    "# Seu código aqui\n"
   ]
  },
  {
   "cell_type": "markdown",
   "id": "c44b75b4",
   "metadata": {},
   "source": [
    "**Exercício 157**  \n",
    "Dica: Use o dataframe `titanic` (pandas) – pratique contagens, médias, histogramas."
   ]
  },
  {
   "cell_type": "code",
   "execution_count": null,
   "id": "d306984d",
   "metadata": {},
   "outputs": [],
   "source": [
    "# Seu código aqui\n"
   ]
  },
  {
   "cell_type": "markdown",
   "id": "6329bc99",
   "metadata": {},
   "source": [
    "**Exercício 158**  \n",
    "Dica: Use o dataframe `titanic` (pandas) – pratique contagens, médias, histogramas."
   ]
  },
  {
   "cell_type": "code",
   "execution_count": null,
   "id": "9258765a",
   "metadata": {},
   "outputs": [],
   "source": [
    "# Seu código aqui\n"
   ]
  },
  {
   "cell_type": "markdown",
   "id": "f3eb04a5",
   "metadata": {},
   "source": [
    "**Exercício 159**  \n",
    "Dica: Use o dataframe `titanic` (pandas) – pratique contagens, médias, histogramas."
   ]
  },
  {
   "cell_type": "code",
   "execution_count": null,
   "id": "c4fde0d8",
   "metadata": {},
   "outputs": [],
   "source": [
    "# Seu código aqui\n"
   ]
  },
  {
   "cell_type": "markdown",
   "id": "e9098338",
   "metadata": {},
   "source": [
    "**Exercício 160**  \n",
    "Dica: Use o dataframe `titanic` (pandas) – pratique contagens, médias, histogramas."
   ]
  },
  {
   "cell_type": "code",
   "execution_count": null,
   "id": "20ccfaf0",
   "metadata": {},
   "outputs": [],
   "source": [
    "# Seu código aqui\n"
   ]
  },
  {
   "cell_type": "markdown",
   "id": "7cc1d2ec",
   "metadata": {},
   "source": [
    "**Exercício 161**  \n",
    "Dica: Use o dataframe `titanic` (pandas) – pratique contagens, médias, histogramas."
   ]
  },
  {
   "cell_type": "code",
   "execution_count": null,
   "id": "6182890f",
   "metadata": {},
   "outputs": [],
   "source": [
    "# Seu código aqui\n"
   ]
  },
  {
   "cell_type": "markdown",
   "id": "a9305499",
   "metadata": {},
   "source": [
    "**Exercício 162**  \n",
    "Dica: Use o dataframe `titanic` (pandas) – pratique contagens, médias, histogramas."
   ]
  },
  {
   "cell_type": "code",
   "execution_count": null,
   "id": "136d4cfd",
   "metadata": {},
   "outputs": [],
   "source": [
    "# Seu código aqui\n"
   ]
  },
  {
   "cell_type": "markdown",
   "id": "ceb0e956",
   "metadata": {},
   "source": [
    "**Exercício 163**  \n",
    "Dica: Use o dataframe `titanic` (pandas) – pratique contagens, médias, histogramas."
   ]
  },
  {
   "cell_type": "code",
   "execution_count": null,
   "id": "f640cd6e",
   "metadata": {},
   "outputs": [],
   "source": [
    "# Seu código aqui\n"
   ]
  },
  {
   "cell_type": "markdown",
   "id": "07f85c24",
   "metadata": {},
   "source": [
    "**Exercício 164**  \n",
    "Dica: Use o dataframe `titanic` (pandas) – pratique contagens, médias, histogramas."
   ]
  },
  {
   "cell_type": "code",
   "execution_count": null,
   "id": "5d97e04f",
   "metadata": {},
   "outputs": [],
   "source": [
    "# Seu código aqui\n"
   ]
  },
  {
   "cell_type": "markdown",
   "id": "72fe3f21",
   "metadata": {},
   "source": [
    "**Exercício 165**  \n",
    "Dica: Use o dataframe `titanic` (pandas) – pratique contagens, médias, histogramas."
   ]
  },
  {
   "cell_type": "code",
   "execution_count": null,
   "id": "46c6aa35",
   "metadata": {},
   "outputs": [],
   "source": [
    "# Seu código aqui\n"
   ]
  },
  {
   "cell_type": "markdown",
   "id": "8ece05d0",
   "metadata": {},
   "source": [
    "**Exercício 166**  \n",
    "Dica: Use o dataframe `titanic` (pandas) – pratique contagens, médias, histogramas."
   ]
  },
  {
   "cell_type": "code",
   "execution_count": null,
   "id": "250bded1",
   "metadata": {},
   "outputs": [],
   "source": [
    "# Seu código aqui\n"
   ]
  },
  {
   "cell_type": "markdown",
   "id": "0f6b309a",
   "metadata": {},
   "source": [
    "**Exercício 167**  \n",
    "Dica: Use o dataframe `titanic` (pandas) – pratique contagens, médias, histogramas."
   ]
  },
  {
   "cell_type": "code",
   "execution_count": null,
   "id": "d243c42c",
   "metadata": {},
   "outputs": [],
   "source": [
    "# Seu código aqui\n"
   ]
  },
  {
   "cell_type": "markdown",
   "id": "49bb10ff",
   "metadata": {},
   "source": [
    "**Exercício 168**  \n",
    "Dica: Use o dataframe `titanic` (pandas) – pratique contagens, médias, histogramas."
   ]
  },
  {
   "cell_type": "code",
   "execution_count": null,
   "id": "01a56778",
   "metadata": {},
   "outputs": [],
   "source": [
    "# Seu código aqui\n"
   ]
  },
  {
   "cell_type": "markdown",
   "id": "68187bef",
   "metadata": {},
   "source": [
    "**Exercício 169**  \n",
    "Dica: Use o dataframe `titanic` (pandas) – pratique contagens, médias, histogramas."
   ]
  },
  {
   "cell_type": "code",
   "execution_count": null,
   "id": "71e0188b",
   "metadata": {},
   "outputs": [],
   "source": [
    "# Seu código aqui\n"
   ]
  },
  {
   "cell_type": "markdown",
   "id": "32bcb967",
   "metadata": {},
   "source": [
    "**Exercício 170**  \n",
    "Dica: Use o dataframe `titanic` (pandas) – pratique contagens, médias, histogramas."
   ]
  },
  {
   "cell_type": "code",
   "execution_count": null,
   "id": "90e7d13f",
   "metadata": {},
   "outputs": [],
   "source": [
    "# Seu código aqui\n"
   ]
  },
  {
   "cell_type": "markdown",
   "id": "fa5f9667",
   "metadata": {},
   "source": [
    "**Exercício 171**  \n",
    "Dica: Use o dataframe `titanic` (pandas) – pratique contagens, médias, histogramas."
   ]
  },
  {
   "cell_type": "code",
   "execution_count": null,
   "id": "463881b8",
   "metadata": {},
   "outputs": [],
   "source": [
    "# Seu código aqui\n"
   ]
  },
  {
   "cell_type": "markdown",
   "id": "4e6f1c2b",
   "metadata": {},
   "source": [
    "**Exercício 172**  \n",
    "Dica: Use o dataframe `titanic` (pandas) – pratique contagens, médias, histogramas."
   ]
  },
  {
   "cell_type": "code",
   "execution_count": null,
   "id": "4bbf2663",
   "metadata": {},
   "outputs": [],
   "source": [
    "# Seu código aqui\n"
   ]
  },
  {
   "cell_type": "markdown",
   "id": "ad6109b9",
   "metadata": {},
   "source": [
    "**Exercício 173**  \n",
    "Dica: Use o dataframe `titanic` (pandas) – pratique contagens, médias, histogramas."
   ]
  },
  {
   "cell_type": "code",
   "execution_count": null,
   "id": "01bd6920",
   "metadata": {},
   "outputs": [],
   "source": [
    "# Seu código aqui\n"
   ]
  },
  {
   "cell_type": "markdown",
   "id": "ad91a192",
   "metadata": {},
   "source": [
    "**Exercício 174**  \n",
    "Dica: Use o dataframe `titanic` (pandas) – pratique contagens, médias, histogramas."
   ]
  },
  {
   "cell_type": "code",
   "execution_count": null,
   "id": "c268ffbe",
   "metadata": {},
   "outputs": [],
   "source": [
    "# Seu código aqui\n"
   ]
  },
  {
   "cell_type": "markdown",
   "id": "cad7d530",
   "metadata": {},
   "source": [
    "**Exercício 175**  \n",
    "Dica: Use o dataframe `titanic` (pandas) – pratique contagens, médias, histogramas."
   ]
  },
  {
   "cell_type": "code",
   "execution_count": null,
   "id": "fc1a2e8b",
   "metadata": {},
   "outputs": [],
   "source": [
    "# Seu código aqui\n"
   ]
  },
  {
   "cell_type": "markdown",
   "id": "378d2240",
   "metadata": {},
   "source": [
    "**Exercício 176**  \n",
    "Dica: Use o dataframe `titanic` (pandas) – pratique contagens, médias, histogramas."
   ]
  },
  {
   "cell_type": "code",
   "execution_count": null,
   "id": "a1a59b4b",
   "metadata": {},
   "outputs": [],
   "source": [
    "# Seu código aqui\n"
   ]
  },
  {
   "cell_type": "markdown",
   "id": "ea0a5e59",
   "metadata": {},
   "source": [
    "**Exercício 177**  \n",
    "Dica: Use o dataframe `titanic` (pandas) – pratique contagens, médias, histogramas."
   ]
  },
  {
   "cell_type": "code",
   "execution_count": null,
   "id": "b5c25754",
   "metadata": {},
   "outputs": [],
   "source": [
    "# Seu código aqui\n"
   ]
  },
  {
   "cell_type": "markdown",
   "id": "88866d63",
   "metadata": {},
   "source": [
    "**Exercício 178**  \n",
    "Dica: Use o dataframe `titanic` (pandas) – pratique contagens, médias, histogramas."
   ]
  },
  {
   "cell_type": "code",
   "execution_count": null,
   "id": "0dafe767",
   "metadata": {},
   "outputs": [],
   "source": [
    "# Seu código aqui\n"
   ]
  },
  {
   "cell_type": "markdown",
   "id": "cc03ce62",
   "metadata": {},
   "source": [
    "**Exercício 179**  \n",
    "Dica: Use o dataframe `titanic` (pandas) – pratique contagens, médias, histogramas."
   ]
  },
  {
   "cell_type": "code",
   "execution_count": null,
   "id": "d1314641",
   "metadata": {},
   "outputs": [],
   "source": [
    "# Seu código aqui\n"
   ]
  },
  {
   "cell_type": "markdown",
   "id": "5918736b",
   "metadata": {},
   "source": [
    "**Exercício 180**  \n",
    "Dica: Use o dataframe `titanic` (pandas) – pratique contagens, médias, histogramas."
   ]
  },
  {
   "cell_type": "code",
   "execution_count": null,
   "id": "ec1242f1",
   "metadata": {},
   "outputs": [],
   "source": [
    "# Seu código aqui\n"
   ]
  },
  {
   "cell_type": "markdown",
   "id": "215ab5ee",
   "metadata": {},
   "source": [
    "**Exercício 181**  \n",
    "Dica: Use o dataframe `titanic` (pandas) – pratique contagens, médias, histogramas."
   ]
  },
  {
   "cell_type": "code",
   "execution_count": null,
   "id": "18460d8d",
   "metadata": {},
   "outputs": [],
   "source": [
    "# Seu código aqui\n"
   ]
  },
  {
   "cell_type": "markdown",
   "id": "cf030d19",
   "metadata": {},
   "source": [
    "**Exercício 182**  \n",
    "Dica: Use o dataframe `titanic` (pandas) – pratique contagens, médias, histogramas."
   ]
  },
  {
   "cell_type": "code",
   "execution_count": null,
   "id": "9f241bbb",
   "metadata": {},
   "outputs": [],
   "source": [
    "# Seu código aqui\n"
   ]
  },
  {
   "cell_type": "markdown",
   "id": "3143f443",
   "metadata": {},
   "source": [
    "**Exercício 183**  \n",
    "Dica: Use o dataframe `titanic` (pandas) – pratique contagens, médias, histogramas."
   ]
  },
  {
   "cell_type": "code",
   "execution_count": null,
   "id": "c361d3dc",
   "metadata": {},
   "outputs": [],
   "source": [
    "# Seu código aqui\n"
   ]
  },
  {
   "cell_type": "markdown",
   "id": "db3a0218",
   "metadata": {},
   "source": [
    "**Exercício 184**  \n",
    "Dica: Use o dataframe `titanic` (pandas) – pratique contagens, médias, histogramas."
   ]
  },
  {
   "cell_type": "code",
   "execution_count": null,
   "id": "6ed9ff33",
   "metadata": {},
   "outputs": [],
   "source": [
    "# Seu código aqui\n"
   ]
  },
  {
   "cell_type": "markdown",
   "id": "d52f976c",
   "metadata": {},
   "source": [
    "**Exercício 185**  \n",
    "Dica: Use o dataframe `titanic` (pandas) – pratique contagens, médias, histogramas."
   ]
  },
  {
   "cell_type": "code",
   "execution_count": null,
   "id": "1c1cc1f2",
   "metadata": {},
   "outputs": [],
   "source": [
    "# Seu código aqui\n"
   ]
  },
  {
   "cell_type": "markdown",
   "id": "8f5b0971",
   "metadata": {},
   "source": [
    "**Exercício 186**  \n",
    "Dica: Use o dataframe `titanic` (pandas) – pratique contagens, médias, histogramas."
   ]
  },
  {
   "cell_type": "code",
   "execution_count": null,
   "id": "625c0b44",
   "metadata": {},
   "outputs": [],
   "source": [
    "# Seu código aqui\n"
   ]
  },
  {
   "cell_type": "markdown",
   "id": "a3134653",
   "metadata": {},
   "source": [
    "**Exercício 187**  \n",
    "Dica: Use o dataframe `titanic` (pandas) – pratique contagens, médias, histogramas."
   ]
  },
  {
   "cell_type": "code",
   "execution_count": null,
   "id": "27cab9fb",
   "metadata": {},
   "outputs": [],
   "source": [
    "# Seu código aqui\n"
   ]
  },
  {
   "cell_type": "markdown",
   "id": "6d173294",
   "metadata": {},
   "source": [
    "**Exercício 188**  \n",
    "Dica: Use o dataframe `titanic` (pandas) – pratique contagens, médias, histogramas."
   ]
  },
  {
   "cell_type": "code",
   "execution_count": null,
   "id": "a222a7e8",
   "metadata": {},
   "outputs": [],
   "source": [
    "# Seu código aqui\n"
   ]
  },
  {
   "cell_type": "markdown",
   "id": "0eb677ab",
   "metadata": {},
   "source": [
    "**Exercício 189**  \n",
    "Dica: Use o dataframe `titanic` (pandas) – pratique contagens, médias, histogramas."
   ]
  },
  {
   "cell_type": "code",
   "execution_count": null,
   "id": "343e813a",
   "metadata": {},
   "outputs": [],
   "source": [
    "# Seu código aqui\n"
   ]
  },
  {
   "cell_type": "markdown",
   "id": "486ec6ae",
   "metadata": {},
   "source": [
    "**Exercício 190**  \n",
    "Dica: Use o dataframe `titanic` (pandas) – pratique contagens, médias, histogramas."
   ]
  },
  {
   "cell_type": "code",
   "execution_count": null,
   "id": "c4aa70f6",
   "metadata": {},
   "outputs": [],
   "source": [
    "# Seu código aqui\n"
   ]
  },
  {
   "cell_type": "markdown",
   "id": "5eb2fa84",
   "metadata": {},
   "source": [
    "**Exercício 191**  \n",
    "Dica: Use o dataframe `titanic` (pandas) – pratique contagens, médias, histogramas."
   ]
  },
  {
   "cell_type": "code",
   "execution_count": null,
   "id": "7d080821",
   "metadata": {},
   "outputs": [],
   "source": [
    "# Seu código aqui\n"
   ]
  },
  {
   "cell_type": "markdown",
   "id": "e46a7999",
   "metadata": {},
   "source": [
    "**Exercício 192**  \n",
    "Dica: Use o dataframe `titanic` (pandas) – pratique contagens, médias, histogramas."
   ]
  },
  {
   "cell_type": "code",
   "execution_count": null,
   "id": "c44430e5",
   "metadata": {},
   "outputs": [],
   "source": [
    "# Seu código aqui\n"
   ]
  },
  {
   "cell_type": "markdown",
   "id": "0273e373",
   "metadata": {},
   "source": [
    "**Exercício 193**  \n",
    "Dica: Use o dataframe `titanic` (pandas) – pratique contagens, médias, histogramas."
   ]
  },
  {
   "cell_type": "code",
   "execution_count": null,
   "id": "8b2e79ee",
   "metadata": {},
   "outputs": [],
   "source": [
    "# Seu código aqui\n"
   ]
  },
  {
   "cell_type": "markdown",
   "id": "e57b3ac0",
   "metadata": {},
   "source": [
    "**Exercício 194**  \n",
    "Dica: Use o dataframe `titanic` (pandas) – pratique contagens, médias, histogramas."
   ]
  },
  {
   "cell_type": "code",
   "execution_count": null,
   "id": "6cc1241d",
   "metadata": {},
   "outputs": [],
   "source": [
    "# Seu código aqui\n"
   ]
  },
  {
   "cell_type": "markdown",
   "id": "f183ef9f",
   "metadata": {},
   "source": [
    "**Exercício 195**  \n",
    "Dica: Use o dataframe `titanic` (pandas) – pratique contagens, médias, histogramas."
   ]
  },
  {
   "cell_type": "code",
   "execution_count": null,
   "id": "6ce9987a",
   "metadata": {},
   "outputs": [],
   "source": [
    "# Seu código aqui\n"
   ]
  },
  {
   "cell_type": "markdown",
   "id": "483164ea",
   "metadata": {},
   "source": [
    "**Exercício 196**  \n",
    "Dica: Use o dataframe `titanic` (pandas) – pratique contagens, médias, histogramas."
   ]
  },
  {
   "cell_type": "code",
   "execution_count": null,
   "id": "8b739f23",
   "metadata": {},
   "outputs": [],
   "source": [
    "# Seu código aqui\n"
   ]
  },
  {
   "cell_type": "markdown",
   "id": "fd3affad",
   "metadata": {},
   "source": [
    "**Exercício 197**  \n",
    "Dica: Use o dataframe `titanic` (pandas) – pratique contagens, médias, histogramas."
   ]
  },
  {
   "cell_type": "code",
   "execution_count": null,
   "id": "01d539b4",
   "metadata": {},
   "outputs": [],
   "source": [
    "# Seu código aqui\n"
   ]
  },
  {
   "cell_type": "markdown",
   "id": "aa1fbdd4",
   "metadata": {},
   "source": [
    "**Exercício 198**  \n",
    "Dica: Use o dataframe `titanic` (pandas) – pratique contagens, médias, histogramas."
   ]
  },
  {
   "cell_type": "code",
   "execution_count": null,
   "id": "8f12708b",
   "metadata": {},
   "outputs": [],
   "source": [
    "# Seu código aqui\n"
   ]
  },
  {
   "cell_type": "markdown",
   "id": "27726073",
   "metadata": {},
   "source": [
    "**Exercício 199**  \n",
    "Dica: Use o dataframe `titanic` (pandas) – pratique contagens, médias, histogramas."
   ]
  },
  {
   "cell_type": "code",
   "execution_count": null,
   "id": "cfc38f94",
   "metadata": {},
   "outputs": [],
   "source": [
    "# Seu código aqui\n"
   ]
  },
  {
   "cell_type": "markdown",
   "id": "9878e1e0",
   "metadata": {},
   "source": [
    "**Exercício 200**  \n",
    "Dica: Use o dataframe `titanic` (pandas) – pratique contagens, médias, histogramas."
   ]
  },
  {
   "cell_type": "code",
   "execution_count": null,
   "id": "a57f3244",
   "metadata": {},
   "outputs": [],
   "source": [
    "# Seu código aqui\n"
   ]
  },
  {
   "cell_type": "markdown",
   "id": "3879ac70",
   "metadata": {},
   "source": [
    "**Exercício 201**  \n",
    "Dica: Use o dataframe `titanic` (pandas) – pratique contagens, médias, histogramas."
   ]
  },
  {
   "cell_type": "code",
   "execution_count": null,
   "id": "5aec8581",
   "metadata": {},
   "outputs": [],
   "source": [
    "# Seu código aqui\n"
   ]
  },
  {
   "cell_type": "markdown",
   "id": "31749d15",
   "metadata": {},
   "source": [
    "**Exercício 202**  \n",
    "Dica: Use o dataframe `titanic` (pandas) – pratique contagens, médias, histogramas."
   ]
  },
  {
   "cell_type": "code",
   "execution_count": null,
   "id": "a5fbf763",
   "metadata": {},
   "outputs": [],
   "source": [
    "# Seu código aqui\n"
   ]
  },
  {
   "cell_type": "markdown",
   "id": "e49c7861",
   "metadata": {},
   "source": [
    "**Exercício 203**  \n",
    "Dica: Use o dataframe `titanic` (pandas) – pratique contagens, médias, histogramas."
   ]
  },
  {
   "cell_type": "code",
   "execution_count": null,
   "id": "c979e923",
   "metadata": {},
   "outputs": [],
   "source": [
    "# Seu código aqui\n"
   ]
  },
  {
   "cell_type": "markdown",
   "id": "7480e278",
   "metadata": {},
   "source": [
    "**Exercício 204**  \n",
    "Dica: Use o dataframe `titanic` (pandas) – pratique contagens, médias, histogramas."
   ]
  },
  {
   "cell_type": "code",
   "execution_count": null,
   "id": "3d306bf0",
   "metadata": {},
   "outputs": [],
   "source": [
    "# Seu código aqui\n"
   ]
  },
  {
   "cell_type": "markdown",
   "id": "c40d0a41",
   "metadata": {},
   "source": [
    "**Exercício 205**  \n",
    "Dica: Use o dataframe `titanic` (pandas) – pratique contagens, médias, histogramas."
   ]
  },
  {
   "cell_type": "code",
   "execution_count": null,
   "id": "d8653b09",
   "metadata": {},
   "outputs": [],
   "source": [
    "# Seu código aqui\n"
   ]
  },
  {
   "cell_type": "markdown",
   "id": "1ff36301",
   "metadata": {},
   "source": [
    "**Exercício 206**  \n",
    "Dica: Use o dataframe `titanic` (pandas) – pratique contagens, médias, histogramas."
   ]
  },
  {
   "cell_type": "code",
   "execution_count": null,
   "id": "045227c1",
   "metadata": {},
   "outputs": [],
   "source": [
    "# Seu código aqui\n"
   ]
  },
  {
   "cell_type": "markdown",
   "id": "1be830b9",
   "metadata": {},
   "source": [
    "**Exercício 207**  \n",
    "Dica: Use o dataframe `titanic` (pandas) – pratique contagens, médias, histogramas."
   ]
  },
  {
   "cell_type": "code",
   "execution_count": null,
   "id": "2ce180db",
   "metadata": {},
   "outputs": [],
   "source": [
    "# Seu código aqui\n"
   ]
  },
  {
   "cell_type": "markdown",
   "id": "5819cd3f",
   "metadata": {},
   "source": [
    "**Exercício 208**  \n",
    "Dica: Use o dataframe `titanic` (pandas) – pratique contagens, médias, histogramas."
   ]
  },
  {
   "cell_type": "code",
   "execution_count": null,
   "id": "85d8da83",
   "metadata": {},
   "outputs": [],
   "source": [
    "# Seu código aqui\n"
   ]
  },
  {
   "cell_type": "markdown",
   "id": "8125e184",
   "metadata": {},
   "source": [
    "**Exercício 209**  \n",
    "Dica: Use o dataframe `titanic` (pandas) – pratique contagens, médias, histogramas."
   ]
  },
  {
   "cell_type": "code",
   "execution_count": null,
   "id": "fc8690a7",
   "metadata": {},
   "outputs": [],
   "source": [
    "# Seu código aqui\n"
   ]
  },
  {
   "cell_type": "markdown",
   "id": "39f5bd2c",
   "metadata": {},
   "source": [
    "**Exercício 210**  \n",
    "Dica: Use o dataframe `titanic` (pandas) – pratique contagens, médias, histogramas."
   ]
  },
  {
   "cell_type": "code",
   "execution_count": null,
   "id": "d8733739",
   "metadata": {},
   "outputs": [],
   "source": [
    "# Seu código aqui\n"
   ]
  },
  {
   "cell_type": "markdown",
   "id": "f1459c02",
   "metadata": {},
   "source": [
    "**Exercício 211**  \n",
    "Dica: Use o dataframe `titanic` (pandas) – pratique contagens, médias, histogramas."
   ]
  },
  {
   "cell_type": "code",
   "execution_count": null,
   "id": "7eb9c3c9",
   "metadata": {},
   "outputs": [],
   "source": [
    "# Seu código aqui\n"
   ]
  },
  {
   "cell_type": "markdown",
   "id": "451e012c",
   "metadata": {},
   "source": [
    "**Exercício 212**  \n",
    "Dica: Use o dataframe `titanic` (pandas) – pratique contagens, médias, histogramas."
   ]
  },
  {
   "cell_type": "code",
   "execution_count": null,
   "id": "59767ac2",
   "metadata": {},
   "outputs": [],
   "source": [
    "# Seu código aqui\n"
   ]
  },
  {
   "cell_type": "markdown",
   "id": "d448e5aa",
   "metadata": {},
   "source": [
    "**Exercício 213**  \n",
    "Dica: Use o dataframe `titanic` (pandas) – pratique contagens, médias, histogramas."
   ]
  },
  {
   "cell_type": "code",
   "execution_count": null,
   "id": "a83db73b",
   "metadata": {},
   "outputs": [],
   "source": [
    "# Seu código aqui\n"
   ]
  },
  {
   "cell_type": "markdown",
   "id": "5a2032c1",
   "metadata": {},
   "source": [
    "**Exercício 214**  \n",
    "Dica: Use o dataframe `titanic` (pandas) – pratique contagens, médias, histogramas."
   ]
  },
  {
   "cell_type": "code",
   "execution_count": null,
   "id": "cb932e7c",
   "metadata": {},
   "outputs": [],
   "source": [
    "# Seu código aqui\n"
   ]
  },
  {
   "cell_type": "markdown",
   "id": "4ec2cd24",
   "metadata": {},
   "source": [
    "**Exercício 215**  \n",
    "Dica: Use o dataframe `titanic` (pandas) – pratique contagens, médias, histogramas."
   ]
  },
  {
   "cell_type": "code",
   "execution_count": null,
   "id": "732941ca",
   "metadata": {},
   "outputs": [],
   "source": [
    "# Seu código aqui\n"
   ]
  },
  {
   "cell_type": "markdown",
   "id": "aba75323",
   "metadata": {},
   "source": [
    "**Exercício 216**  \n",
    "Dica: Use o dataframe `titanic` (pandas) – pratique contagens, médias, histogramas."
   ]
  },
  {
   "cell_type": "code",
   "execution_count": null,
   "id": "15d9efc2",
   "metadata": {},
   "outputs": [],
   "source": [
    "# Seu código aqui\n"
   ]
  },
  {
   "cell_type": "markdown",
   "id": "95b21344",
   "metadata": {},
   "source": [
    "**Exercício 217**  \n",
    "Dica: Use o dataframe `titanic` (pandas) – pratique contagens, médias, histogramas."
   ]
  },
  {
   "cell_type": "code",
   "execution_count": null,
   "id": "110d608a",
   "metadata": {},
   "outputs": [],
   "source": [
    "# Seu código aqui\n"
   ]
  },
  {
   "cell_type": "markdown",
   "id": "67bc7a6b",
   "metadata": {},
   "source": [
    "**Exercício 218**  \n",
    "Dica: Use o dataframe `titanic` (pandas) – pratique contagens, médias, histogramas."
   ]
  },
  {
   "cell_type": "code",
   "execution_count": null,
   "id": "4f5a9a50",
   "metadata": {},
   "outputs": [],
   "source": [
    "# Seu código aqui\n"
   ]
  },
  {
   "cell_type": "markdown",
   "id": "6a862a4b",
   "metadata": {},
   "source": [
    "**Exercício 219**  \n",
    "Dica: Use o dataframe `titanic` (pandas) – pratique contagens, médias, histogramas."
   ]
  },
  {
   "cell_type": "code",
   "execution_count": null,
   "id": "0422f3bf",
   "metadata": {},
   "outputs": [],
   "source": [
    "# Seu código aqui\n"
   ]
  },
  {
   "cell_type": "markdown",
   "id": "ceec3bd0",
   "metadata": {},
   "source": [
    "**Exercício 220**  \n",
    "Dica: Use o dataframe `titanic` (pandas) – pratique contagens, médias, histogramas."
   ]
  },
  {
   "cell_type": "code",
   "execution_count": null,
   "id": "4ea87807",
   "metadata": {},
   "outputs": [],
   "source": [
    "# Seu código aqui\n"
   ]
  },
  {
   "cell_type": "markdown",
   "id": "58feeb86",
   "metadata": {},
   "source": [
    "**Exercício 221**  \n",
    "Dica: Use o dataframe `titanic` (pandas) – pratique contagens, médias, histogramas."
   ]
  },
  {
   "cell_type": "code",
   "execution_count": null,
   "id": "4301f25f",
   "metadata": {},
   "outputs": [],
   "source": [
    "# Seu código aqui\n"
   ]
  },
  {
   "cell_type": "markdown",
   "id": "7370c44f",
   "metadata": {},
   "source": [
    "**Exercício 222**  \n",
    "Dica: Use o dataframe `titanic` (pandas) – pratique contagens, médias, histogramas."
   ]
  },
  {
   "cell_type": "code",
   "execution_count": null,
   "id": "dadf0b2c",
   "metadata": {},
   "outputs": [],
   "source": [
    "# Seu código aqui\n"
   ]
  },
  {
   "cell_type": "markdown",
   "id": "c34d9a2f",
   "metadata": {},
   "source": [
    "**Exercício 223**  \n",
    "Dica: Use o dataframe `titanic` (pandas) – pratique contagens, médias, histogramas."
   ]
  },
  {
   "cell_type": "code",
   "execution_count": null,
   "id": "3be39b40",
   "metadata": {},
   "outputs": [],
   "source": [
    "# Seu código aqui\n"
   ]
  },
  {
   "cell_type": "markdown",
   "id": "cb40e338",
   "metadata": {},
   "source": [
    "**Exercício 224**  \n",
    "Dica: Use o dataframe `titanic` (pandas) – pratique contagens, médias, histogramas."
   ]
  },
  {
   "cell_type": "code",
   "execution_count": null,
   "id": "d9d42540",
   "metadata": {},
   "outputs": [],
   "source": [
    "# Seu código aqui\n"
   ]
  },
  {
   "cell_type": "markdown",
   "id": "14e4a191",
   "metadata": {},
   "source": [
    "**Exercício 225**  \n",
    "Dica: Use o dataframe `titanic` (pandas) – pratique contagens, médias, histogramas."
   ]
  },
  {
   "cell_type": "code",
   "execution_count": null,
   "id": "ec6d1186",
   "metadata": {},
   "outputs": [],
   "source": [
    "# Seu código aqui\n"
   ]
  },
  {
   "cell_type": "markdown",
   "id": "7e19e4f9",
   "metadata": {},
   "source": [
    "**Exercício 226**  \n",
    "Dica: Use o dataframe `titanic` (pandas) – pratique contagens, médias, histogramas."
   ]
  },
  {
   "cell_type": "code",
   "execution_count": null,
   "id": "f4e7d193",
   "metadata": {},
   "outputs": [],
   "source": [
    "# Seu código aqui\n"
   ]
  },
  {
   "cell_type": "markdown",
   "id": "1740ff71",
   "metadata": {},
   "source": [
    "**Exercício 227**  \n",
    "Dica: Use o dataframe `titanic` (pandas) – pratique contagens, médias, histogramas."
   ]
  },
  {
   "cell_type": "code",
   "execution_count": null,
   "id": "3115220a",
   "metadata": {},
   "outputs": [],
   "source": [
    "# Seu código aqui\n"
   ]
  },
  {
   "cell_type": "markdown",
   "id": "22c4ecce",
   "metadata": {},
   "source": [
    "**Exercício 228**  \n",
    "Dica: Use o dataframe `titanic` (pandas) – pratique contagens, médias, histogramas."
   ]
  },
  {
   "cell_type": "code",
   "execution_count": null,
   "id": "17bd041f",
   "metadata": {},
   "outputs": [],
   "source": [
    "# Seu código aqui\n"
   ]
  },
  {
   "cell_type": "markdown",
   "id": "ddd16702",
   "metadata": {},
   "source": [
    "**Exercício 229**  \n",
    "Dica: Use o dataframe `titanic` (pandas) – pratique contagens, médias, histogramas."
   ]
  },
  {
   "cell_type": "code",
   "execution_count": null,
   "id": "2af4e01b",
   "metadata": {},
   "outputs": [],
   "source": [
    "# Seu código aqui\n"
   ]
  },
  {
   "cell_type": "markdown",
   "id": "3c24bc26",
   "metadata": {},
   "source": [
    "**Exercício 230**  \n",
    "Dica: Use o dataframe `titanic` (pandas) – pratique contagens, médias, histogramas."
   ]
  },
  {
   "cell_type": "code",
   "execution_count": null,
   "id": "f3d6f27f",
   "metadata": {},
   "outputs": [],
   "source": [
    "# Seu código aqui\n"
   ]
  },
  {
   "cell_type": "markdown",
   "id": "0e6018ef",
   "metadata": {},
   "source": [
    "**Exercício 231**  \n",
    "Dica: Use o dataframe `titanic` (pandas) – pratique contagens, médias, histogramas."
   ]
  },
  {
   "cell_type": "code",
   "execution_count": null,
   "id": "f01df97e",
   "metadata": {},
   "outputs": [],
   "source": [
    "# Seu código aqui\n"
   ]
  },
  {
   "cell_type": "markdown",
   "id": "7daa76aa",
   "metadata": {},
   "source": [
    "**Exercício 232**  \n",
    "Dica: Use o dataframe `titanic` (pandas) – pratique contagens, médias, histogramas."
   ]
  },
  {
   "cell_type": "code",
   "execution_count": null,
   "id": "d8cac1d7",
   "metadata": {},
   "outputs": [],
   "source": [
    "# Seu código aqui\n"
   ]
  },
  {
   "cell_type": "markdown",
   "id": "6e1dc0a2",
   "metadata": {},
   "source": [
    "**Exercício 233**  \n",
    "Dica: Use o dataframe `titanic` (pandas) – pratique contagens, médias, histogramas."
   ]
  },
  {
   "cell_type": "code",
   "execution_count": null,
   "id": "6682a7f7",
   "metadata": {},
   "outputs": [],
   "source": [
    "# Seu código aqui\n"
   ]
  },
  {
   "cell_type": "markdown",
   "id": "8c2053ce",
   "metadata": {},
   "source": [
    "**Exercício 234**  \n",
    "Dica: Use o dataframe `titanic` (pandas) – pratique contagens, médias, histogramas."
   ]
  },
  {
   "cell_type": "code",
   "execution_count": null,
   "id": "15ddd7cf",
   "metadata": {},
   "outputs": [],
   "source": [
    "# Seu código aqui\n"
   ]
  },
  {
   "cell_type": "markdown",
   "id": "0cc0bca7",
   "metadata": {},
   "source": [
    "**Exercício 235**  \n",
    "Dica: Use o dataframe `titanic` (pandas) – pratique contagens, médias, histogramas."
   ]
  },
  {
   "cell_type": "code",
   "execution_count": null,
   "id": "707e9d74",
   "metadata": {},
   "outputs": [],
   "source": [
    "# Seu código aqui\n"
   ]
  },
  {
   "cell_type": "markdown",
   "id": "156b7452",
   "metadata": {},
   "source": [
    "**Exercício 236**  \n",
    "Dica: Use o dataframe `titanic` (pandas) – pratique contagens, médias, histogramas."
   ]
  },
  {
   "cell_type": "code",
   "execution_count": null,
   "id": "87295ada",
   "metadata": {},
   "outputs": [],
   "source": [
    "# Seu código aqui\n"
   ]
  },
  {
   "cell_type": "markdown",
   "id": "fa795a66",
   "metadata": {},
   "source": [
    "**Exercício 237**  \n",
    "Dica: Use o dataframe `titanic` (pandas) – pratique contagens, médias, histogramas."
   ]
  },
  {
   "cell_type": "code",
   "execution_count": null,
   "id": "1c96f048",
   "metadata": {},
   "outputs": [],
   "source": [
    "# Seu código aqui\n"
   ]
  },
  {
   "cell_type": "markdown",
   "id": "1373c4c6",
   "metadata": {},
   "source": [
    "**Exercício 238**  \n",
    "Dica: Use o dataframe `titanic` (pandas) – pratique contagens, médias, histogramas."
   ]
  },
  {
   "cell_type": "code",
   "execution_count": null,
   "id": "325d9150",
   "metadata": {},
   "outputs": [],
   "source": [
    "# Seu código aqui\n"
   ]
  },
  {
   "cell_type": "markdown",
   "id": "d41ebcf4",
   "metadata": {},
   "source": [
    "**Exercício 239**  \n",
    "Dica: Use o dataframe `titanic` (pandas) – pratique contagens, médias, histogramas."
   ]
  },
  {
   "cell_type": "code",
   "execution_count": null,
   "id": "2e503cf1",
   "metadata": {},
   "outputs": [],
   "source": [
    "# Seu código aqui\n"
   ]
  },
  {
   "cell_type": "markdown",
   "id": "72594204",
   "metadata": {},
   "source": [
    "**Exercício 240**  \n",
    "Dica: Use o dataframe `titanic` (pandas) – pratique contagens, médias, histogramas."
   ]
  },
  {
   "cell_type": "code",
   "execution_count": null,
   "id": "5b80da4e",
   "metadata": {},
   "outputs": [],
   "source": [
    "# Seu código aqui\n"
   ]
  },
  {
   "cell_type": "markdown",
   "id": "a9dfe8da",
   "metadata": {},
   "source": [
    "**Exercício 241**  \n",
    "Dica: Use o dataframe `titanic` (pandas) – pratique contagens, médias, histogramas."
   ]
  },
  {
   "cell_type": "code",
   "execution_count": null,
   "id": "16d352e1",
   "metadata": {},
   "outputs": [],
   "source": [
    "# Seu código aqui\n"
   ]
  },
  {
   "cell_type": "markdown",
   "id": "6a9d66cf",
   "metadata": {},
   "source": [
    "**Exercício 242**  \n",
    "Dica: Use o dataframe `titanic` (pandas) – pratique contagens, médias, histogramas."
   ]
  },
  {
   "cell_type": "code",
   "execution_count": null,
   "id": "f90ecf12",
   "metadata": {},
   "outputs": [],
   "source": [
    "# Seu código aqui\n"
   ]
  },
  {
   "cell_type": "markdown",
   "id": "a23ace67",
   "metadata": {},
   "source": [
    "**Exercício 243**  \n",
    "Dica: Use o dataframe `titanic` (pandas) – pratique contagens, médias, histogramas."
   ]
  },
  {
   "cell_type": "code",
   "execution_count": null,
   "id": "94b431b7",
   "metadata": {},
   "outputs": [],
   "source": [
    "# Seu código aqui\n"
   ]
  },
  {
   "cell_type": "markdown",
   "id": "6ee306e4",
   "metadata": {},
   "source": [
    "**Exercício 244**  \n",
    "Dica: Use o dataframe `titanic` (pandas) – pratique contagens, médias, histogramas."
   ]
  },
  {
   "cell_type": "code",
   "execution_count": null,
   "id": "89d670e5",
   "metadata": {},
   "outputs": [],
   "source": [
    "# Seu código aqui\n"
   ]
  },
  {
   "cell_type": "markdown",
   "id": "d8d6aa12",
   "metadata": {},
   "source": [
    "**Exercício 245**  \n",
    "Dica: Use o dataframe `titanic` (pandas) – pratique contagens, médias, histogramas."
   ]
  },
  {
   "cell_type": "code",
   "execution_count": null,
   "id": "24084295",
   "metadata": {},
   "outputs": [],
   "source": [
    "# Seu código aqui\n"
   ]
  },
  {
   "cell_type": "markdown",
   "id": "948103b0",
   "metadata": {},
   "source": [
    "**Exercício 246**  \n",
    "Dica: Use o dataframe `titanic` (pandas) – pratique contagens, médias, histogramas."
   ]
  },
  {
   "cell_type": "code",
   "execution_count": null,
   "id": "b3f2ced5",
   "metadata": {},
   "outputs": [],
   "source": [
    "# Seu código aqui\n"
   ]
  },
  {
   "cell_type": "markdown",
   "id": "165dab95",
   "metadata": {},
   "source": [
    "**Exercício 247**  \n",
    "Dica: Use o dataframe `titanic` (pandas) – pratique contagens, médias, histogramas."
   ]
  },
  {
   "cell_type": "code",
   "execution_count": null,
   "id": "1a23ca70",
   "metadata": {},
   "outputs": [],
   "source": [
    "# Seu código aqui\n"
   ]
  },
  {
   "cell_type": "markdown",
   "id": "79530a7d",
   "metadata": {},
   "source": [
    "**Exercício 248**  \n",
    "Dica: Use o dataframe `titanic` (pandas) – pratique contagens, médias, histogramas."
   ]
  },
  {
   "cell_type": "code",
   "execution_count": null,
   "id": "ac298eb1",
   "metadata": {},
   "outputs": [],
   "source": [
    "# Seu código aqui\n"
   ]
  },
  {
   "cell_type": "markdown",
   "id": "c57f8a93",
   "metadata": {},
   "source": [
    "**Exercício 249**  \n",
    "Dica: Use o dataframe `titanic` (pandas) – pratique contagens, médias, histogramas."
   ]
  },
  {
   "cell_type": "code",
   "execution_count": null,
   "id": "5eae80f0",
   "metadata": {},
   "outputs": [],
   "source": [
    "# Seu código aqui\n"
   ]
  },
  {
   "cell_type": "markdown",
   "id": "fff5148c",
   "metadata": {},
   "source": [
    "**Exercício 250**  \n",
    "Dica: Use o dataframe `titanic` (pandas) – pratique contagens, médias, histogramas."
   ]
  },
  {
   "cell_type": "code",
   "execution_count": null,
   "id": "9e3efcac",
   "metadata": {},
   "outputs": [],
   "source": [
    "# Seu código aqui\n"
   ]
  },
  {
   "cell_type": "markdown",
   "id": "39ea82a4",
   "metadata": {},
   "source": [
    "**Exercício 251**  \n",
    "Dica: Use o dataframe `titanic` (pandas) – pratique contagens, médias, histogramas."
   ]
  },
  {
   "cell_type": "code",
   "execution_count": null,
   "id": "76e6f4f0",
   "metadata": {},
   "outputs": [],
   "source": [
    "# Seu código aqui\n"
   ]
  },
  {
   "cell_type": "markdown",
   "id": "1f8ba833",
   "metadata": {},
   "source": [
    "**Exercício 252**  \n",
    "Dica: Use o dataframe `titanic` (pandas) – pratique contagens, médias, histogramas."
   ]
  },
  {
   "cell_type": "code",
   "execution_count": null,
   "id": "d772ea93",
   "metadata": {},
   "outputs": [],
   "source": [
    "# Seu código aqui\n"
   ]
  },
  {
   "cell_type": "markdown",
   "id": "12e07aa3",
   "metadata": {},
   "source": [
    "**Exercício 253**  \n",
    "Dica: Use o dataframe `titanic` (pandas) – pratique contagens, médias, histogramas."
   ]
  },
  {
   "cell_type": "code",
   "execution_count": null,
   "id": "ea219687",
   "metadata": {},
   "outputs": [],
   "source": [
    "# Seu código aqui\n"
   ]
  },
  {
   "cell_type": "markdown",
   "id": "778956ca",
   "metadata": {},
   "source": [
    "**Exercício 254**  \n",
    "Dica: Use o dataframe `titanic` (pandas) – pratique contagens, médias, histogramas."
   ]
  },
  {
   "cell_type": "code",
   "execution_count": null,
   "id": "e8de10e3",
   "metadata": {},
   "outputs": [],
   "source": [
    "# Seu código aqui\n"
   ]
  },
  {
   "cell_type": "markdown",
   "id": "f52cfd01",
   "metadata": {},
   "source": [
    "**Exercício 255**  \n",
    "Dica: Use o dataframe `titanic` (pandas) – pratique contagens, médias, histogramas."
   ]
  },
  {
   "cell_type": "code",
   "execution_count": null,
   "id": "c618c2f8",
   "metadata": {},
   "outputs": [],
   "source": [
    "# Seu código aqui\n"
   ]
  },
  {
   "cell_type": "markdown",
   "id": "9746620f",
   "metadata": {},
   "source": [
    "**Exercício 256**  \n",
    "Dica: Use o dataframe `titanic` (pandas) – pratique contagens, médias, histogramas."
   ]
  },
  {
   "cell_type": "code",
   "execution_count": null,
   "id": "e87ba6e0",
   "metadata": {},
   "outputs": [],
   "source": [
    "# Seu código aqui\n"
   ]
  },
  {
   "cell_type": "markdown",
   "id": "eedeba66",
   "metadata": {},
   "source": [
    "**Exercício 257**  \n",
    "Dica: Use o dataframe `titanic` (pandas) – pratique contagens, médias, histogramas."
   ]
  },
  {
   "cell_type": "code",
   "execution_count": null,
   "id": "d9f3f66a",
   "metadata": {},
   "outputs": [],
   "source": [
    "# Seu código aqui\n"
   ]
  },
  {
   "cell_type": "markdown",
   "id": "e850579e",
   "metadata": {},
   "source": [
    "**Exercício 258**  \n",
    "Dica: Use o dataframe `titanic` (pandas) – pratique contagens, médias, histogramas."
   ]
  },
  {
   "cell_type": "code",
   "execution_count": null,
   "id": "4ac4b04b",
   "metadata": {},
   "outputs": [],
   "source": [
    "# Seu código aqui\n"
   ]
  },
  {
   "cell_type": "markdown",
   "id": "a41ec81d",
   "metadata": {},
   "source": [
    "**Exercício 259**  \n",
    "Dica: Use o dataframe `titanic` (pandas) – pratique contagens, médias, histogramas."
   ]
  },
  {
   "cell_type": "code",
   "execution_count": null,
   "id": "21cd7861",
   "metadata": {},
   "outputs": [],
   "source": [
    "# Seu código aqui\n"
   ]
  },
  {
   "cell_type": "markdown",
   "id": "05142fa9",
   "metadata": {},
   "source": [
    "**Exercício 260**  \n",
    "Dica: Use o dataframe `titanic` (pandas) – pratique contagens, médias, histogramas."
   ]
  },
  {
   "cell_type": "code",
   "execution_count": null,
   "id": "ddf7c17d",
   "metadata": {},
   "outputs": [],
   "source": [
    "# Seu código aqui\n"
   ]
  },
  {
   "cell_type": "markdown",
   "id": "c732c332",
   "metadata": {},
   "source": [
    "**Exercício 261**  \n",
    "Dica: Use o dataframe `titanic` (pandas) – pratique contagens, médias, histogramas."
   ]
  },
  {
   "cell_type": "code",
   "execution_count": null,
   "id": "2328b538",
   "metadata": {},
   "outputs": [],
   "source": [
    "# Seu código aqui\n"
   ]
  },
  {
   "cell_type": "markdown",
   "id": "af319caf",
   "metadata": {},
   "source": [
    "**Exercício 262**  \n",
    "Dica: Use o dataframe `titanic` (pandas) – pratique contagens, médias, histogramas."
   ]
  },
  {
   "cell_type": "code",
   "execution_count": null,
   "id": "cc30ae0f",
   "metadata": {},
   "outputs": [],
   "source": [
    "# Seu código aqui\n"
   ]
  },
  {
   "cell_type": "markdown",
   "id": "f5650499",
   "metadata": {},
   "source": [
    "**Exercício 263**  \n",
    "Dica: Use o dataframe `titanic` (pandas) – pratique contagens, médias, histogramas."
   ]
  },
  {
   "cell_type": "code",
   "execution_count": null,
   "id": "8347ecc5",
   "metadata": {},
   "outputs": [],
   "source": [
    "# Seu código aqui\n"
   ]
  },
  {
   "cell_type": "markdown",
   "id": "979c9f99",
   "metadata": {},
   "source": [
    "**Exercício 264**  \n",
    "Dica: Use o dataframe `titanic` (pandas) – pratique contagens, médias, histogramas."
   ]
  },
  {
   "cell_type": "code",
   "execution_count": null,
   "id": "5af34816",
   "metadata": {},
   "outputs": [],
   "source": [
    "# Seu código aqui\n"
   ]
  },
  {
   "cell_type": "markdown",
   "id": "dfaf09dd",
   "metadata": {},
   "source": [
    "**Exercício 265**  \n",
    "Dica: Use o dataframe `titanic` (pandas) – pratique contagens, médias, histogramas."
   ]
  },
  {
   "cell_type": "code",
   "execution_count": null,
   "id": "beca8639",
   "metadata": {},
   "outputs": [],
   "source": [
    "# Seu código aqui\n"
   ]
  },
  {
   "cell_type": "markdown",
   "id": "068f6408",
   "metadata": {},
   "source": [
    "**Exercício 266**  \n",
    "Dica: Use o dataframe `titanic` (pandas) – pratique contagens, médias, histogramas."
   ]
  },
  {
   "cell_type": "code",
   "execution_count": null,
   "id": "8db0a81d",
   "metadata": {},
   "outputs": [],
   "source": [
    "# Seu código aqui\n"
   ]
  },
  {
   "cell_type": "markdown",
   "id": "888f9d7e",
   "metadata": {},
   "source": [
    "**Exercício 267**  \n",
    "Dica: Use o dataframe `titanic` (pandas) – pratique contagens, médias, histogramas."
   ]
  },
  {
   "cell_type": "code",
   "execution_count": null,
   "id": "25e4fa68",
   "metadata": {},
   "outputs": [],
   "source": [
    "# Seu código aqui\n"
   ]
  },
  {
   "cell_type": "markdown",
   "id": "006d5443",
   "metadata": {},
   "source": [
    "**Exercício 268**  \n",
    "Dica: Use o dataframe `titanic` (pandas) – pratique contagens, médias, histogramas."
   ]
  },
  {
   "cell_type": "code",
   "execution_count": null,
   "id": "165d7da7",
   "metadata": {},
   "outputs": [],
   "source": [
    "# Seu código aqui\n"
   ]
  },
  {
   "cell_type": "markdown",
   "id": "a2f8e7d6",
   "metadata": {},
   "source": [
    "**Exercício 269**  \n",
    "Dica: Use o dataframe `titanic` (pandas) – pratique contagens, médias, histogramas."
   ]
  },
  {
   "cell_type": "code",
   "execution_count": null,
   "id": "023734f9",
   "metadata": {},
   "outputs": [],
   "source": [
    "# Seu código aqui\n"
   ]
  },
  {
   "cell_type": "markdown",
   "id": "2153a9b4",
   "metadata": {},
   "source": [
    "**Exercício 270**  \n",
    "Dica: Use o dataframe `titanic` (pandas) – pratique contagens, médias, histogramas."
   ]
  },
  {
   "cell_type": "code",
   "execution_count": null,
   "id": "f41eea4e",
   "metadata": {},
   "outputs": [],
   "source": [
    "# Seu código aqui\n"
   ]
  },
  {
   "cell_type": "markdown",
   "id": "819c9697",
   "metadata": {},
   "source": [
    "**Exercício 271**  \n",
    "Dica: Use o dataframe `titanic` (pandas) – pratique contagens, médias, histogramas."
   ]
  },
  {
   "cell_type": "code",
   "execution_count": null,
   "id": "70bd9a78",
   "metadata": {},
   "outputs": [],
   "source": [
    "# Seu código aqui\n"
   ]
  },
  {
   "cell_type": "markdown",
   "id": "0fc420c6",
   "metadata": {},
   "source": [
    "**Exercício 272**  \n",
    "Dica: Use o dataframe `titanic` (pandas) – pratique contagens, médias, histogramas."
   ]
  },
  {
   "cell_type": "code",
   "execution_count": null,
   "id": "254b59ca",
   "metadata": {},
   "outputs": [],
   "source": [
    "# Seu código aqui\n"
   ]
  },
  {
   "cell_type": "markdown",
   "id": "951717e0",
   "metadata": {},
   "source": [
    "**Exercício 273**  \n",
    "Dica: Use o dataframe `titanic` (pandas) – pratique contagens, médias, histogramas."
   ]
  },
  {
   "cell_type": "code",
   "execution_count": null,
   "id": "6f708c80",
   "metadata": {},
   "outputs": [],
   "source": [
    "# Seu código aqui\n"
   ]
  },
  {
   "cell_type": "markdown",
   "id": "30779618",
   "metadata": {},
   "source": [
    "**Exercício 274**  \n",
    "Dica: Use o dataframe `titanic` (pandas) – pratique contagens, médias, histogramas."
   ]
  },
  {
   "cell_type": "code",
   "execution_count": null,
   "id": "aa923362",
   "metadata": {},
   "outputs": [],
   "source": [
    "# Seu código aqui\n"
   ]
  },
  {
   "cell_type": "markdown",
   "id": "3b181207",
   "metadata": {},
   "source": [
    "**Exercício 275**  \n",
    "Dica: Use o dataframe `titanic` (pandas) – pratique contagens, médias, histogramas."
   ]
  },
  {
   "cell_type": "code",
   "execution_count": null,
   "id": "1bb00d48",
   "metadata": {},
   "outputs": [],
   "source": [
    "# Seu código aqui\n"
   ]
  },
  {
   "cell_type": "markdown",
   "id": "ccd2b890",
   "metadata": {},
   "source": [
    "**Exercício 276**  \n",
    "Dica: Use o dataframe `titanic` (pandas) – pratique contagens, médias, histogramas."
   ]
  },
  {
   "cell_type": "code",
   "execution_count": null,
   "id": "97cf4bf0",
   "metadata": {},
   "outputs": [],
   "source": [
    "# Seu código aqui\n"
   ]
  },
  {
   "cell_type": "markdown",
   "id": "b799384e",
   "metadata": {},
   "source": [
    "**Exercício 277**  \n",
    "Dica: Use o dataframe `titanic` (pandas) – pratique contagens, médias, histogramas."
   ]
  },
  {
   "cell_type": "code",
   "execution_count": null,
   "id": "533c1a35",
   "metadata": {},
   "outputs": [],
   "source": [
    "# Seu código aqui\n"
   ]
  },
  {
   "cell_type": "markdown",
   "id": "2c550e02",
   "metadata": {},
   "source": [
    "**Exercício 278**  \n",
    "Dica: Use o dataframe `titanic` (pandas) – pratique contagens, médias, histogramas."
   ]
  },
  {
   "cell_type": "code",
   "execution_count": null,
   "id": "345cebac",
   "metadata": {},
   "outputs": [],
   "source": [
    "# Seu código aqui\n"
   ]
  },
  {
   "cell_type": "markdown",
   "id": "e3236c92",
   "metadata": {},
   "source": [
    "**Exercício 279**  \n",
    "Dica: Use o dataframe `titanic` (pandas) – pratique contagens, médias, histogramas."
   ]
  },
  {
   "cell_type": "code",
   "execution_count": null,
   "id": "684f2b49",
   "metadata": {},
   "outputs": [],
   "source": [
    "# Seu código aqui\n"
   ]
  },
  {
   "cell_type": "markdown",
   "id": "5825e149",
   "metadata": {},
   "source": [
    "**Exercício 280**  \n",
    "Dica: Use o dataframe `titanic` (pandas) – pratique contagens, médias, histogramas."
   ]
  },
  {
   "cell_type": "code",
   "execution_count": null,
   "id": "30d8fb10",
   "metadata": {},
   "outputs": [],
   "source": [
    "# Seu código aqui\n"
   ]
  },
  {
   "cell_type": "markdown",
   "id": "8a985ee9",
   "metadata": {},
   "source": [
    "**Exercício 281**  \n",
    "Dica: Use o dataframe `titanic` (pandas) – pratique contagens, médias, histogramas."
   ]
  },
  {
   "cell_type": "code",
   "execution_count": null,
   "id": "f896d68b",
   "metadata": {},
   "outputs": [],
   "source": [
    "# Seu código aqui\n"
   ]
  },
  {
   "cell_type": "markdown",
   "id": "a0f9e552",
   "metadata": {},
   "source": [
    "**Exercício 282**  \n",
    "Dica: Use o dataframe `titanic` (pandas) – pratique contagens, médias, histogramas."
   ]
  },
  {
   "cell_type": "code",
   "execution_count": null,
   "id": "bfc79f38",
   "metadata": {},
   "outputs": [],
   "source": [
    "# Seu código aqui\n"
   ]
  },
  {
   "cell_type": "markdown",
   "id": "509c55c3",
   "metadata": {},
   "source": [
    "**Exercício 283**  \n",
    "Dica: Use o dataframe `titanic` (pandas) – pratique contagens, médias, histogramas."
   ]
  },
  {
   "cell_type": "code",
   "execution_count": null,
   "id": "705b0360",
   "metadata": {},
   "outputs": [],
   "source": [
    "# Seu código aqui\n"
   ]
  },
  {
   "cell_type": "markdown",
   "id": "0f26666b",
   "metadata": {},
   "source": [
    "**Exercício 284**  \n",
    "Dica: Use o dataframe `titanic` (pandas) – pratique contagens, médias, histogramas."
   ]
  },
  {
   "cell_type": "code",
   "execution_count": null,
   "id": "a1c914b7",
   "metadata": {},
   "outputs": [],
   "source": [
    "# Seu código aqui\n"
   ]
  },
  {
   "cell_type": "markdown",
   "id": "314c1b9f",
   "metadata": {},
   "source": [
    "**Exercício 285**  \n",
    "Dica: Use o dataframe `titanic` (pandas) – pratique contagens, médias, histogramas."
   ]
  },
  {
   "cell_type": "code",
   "execution_count": null,
   "id": "77da9481",
   "metadata": {},
   "outputs": [],
   "source": [
    "# Seu código aqui\n"
   ]
  },
  {
   "cell_type": "markdown",
   "id": "fc78aabb",
   "metadata": {},
   "source": [
    "**Exercício 286**  \n",
    "Dica: Use o dataframe `titanic` (pandas) – pratique contagens, médias, histogramas."
   ]
  },
  {
   "cell_type": "code",
   "execution_count": null,
   "id": "fde0e949",
   "metadata": {},
   "outputs": [],
   "source": [
    "# Seu código aqui\n"
   ]
  },
  {
   "cell_type": "markdown",
   "id": "af02cad5",
   "metadata": {},
   "source": [
    "**Exercício 287**  \n",
    "Dica: Use o dataframe `titanic` (pandas) – pratique contagens, médias, histogramas."
   ]
  },
  {
   "cell_type": "code",
   "execution_count": null,
   "id": "b25b0a97",
   "metadata": {},
   "outputs": [],
   "source": [
    "# Seu código aqui\n"
   ]
  },
  {
   "cell_type": "markdown",
   "id": "63da8ffa",
   "metadata": {},
   "source": [
    "**Exercício 288**  \n",
    "Dica: Use o dataframe `titanic` (pandas) – pratique contagens, médias, histogramas."
   ]
  },
  {
   "cell_type": "code",
   "execution_count": null,
   "id": "e87980ba",
   "metadata": {},
   "outputs": [],
   "source": [
    "# Seu código aqui\n"
   ]
  },
  {
   "cell_type": "markdown",
   "id": "e6efea5c",
   "metadata": {},
   "source": [
    "**Exercício 289**  \n",
    "Dica: Use o dataframe `titanic` (pandas) – pratique contagens, médias, histogramas."
   ]
  },
  {
   "cell_type": "code",
   "execution_count": null,
   "id": "7dd97ddd",
   "metadata": {},
   "outputs": [],
   "source": [
    "# Seu código aqui\n"
   ]
  },
  {
   "cell_type": "markdown",
   "id": "f43134a0",
   "metadata": {},
   "source": [
    "**Exercício 290**  \n",
    "Dica: Use o dataframe `titanic` (pandas) – pratique contagens, médias, histogramas."
   ]
  },
  {
   "cell_type": "code",
   "execution_count": null,
   "id": "7314bb68",
   "metadata": {},
   "outputs": [],
   "source": [
    "# Seu código aqui\n"
   ]
  },
  {
   "cell_type": "markdown",
   "id": "0dbaa21b",
   "metadata": {},
   "source": [
    "**Exercício 291**  \n",
    "Dica: Use o dataframe `titanic` (pandas) – pratique contagens, médias, histogramas."
   ]
  },
  {
   "cell_type": "code",
   "execution_count": null,
   "id": "e0299414",
   "metadata": {},
   "outputs": [],
   "source": [
    "# Seu código aqui\n"
   ]
  },
  {
   "cell_type": "markdown",
   "id": "c75bc437",
   "metadata": {},
   "source": [
    "**Exercício 292**  \n",
    "Dica: Use o dataframe `titanic` (pandas) – pratique contagens, médias, histogramas."
   ]
  },
  {
   "cell_type": "code",
   "execution_count": null,
   "id": "50e8faaa",
   "metadata": {},
   "outputs": [],
   "source": [
    "# Seu código aqui\n"
   ]
  },
  {
   "cell_type": "markdown",
   "id": "8acc48cf",
   "metadata": {},
   "source": [
    "**Exercício 293**  \n",
    "Dica: Use o dataframe `titanic` (pandas) – pratique contagens, médias, histogramas."
   ]
  },
  {
   "cell_type": "code",
   "execution_count": null,
   "id": "a9a467db",
   "metadata": {},
   "outputs": [],
   "source": [
    "# Seu código aqui\n"
   ]
  },
  {
   "cell_type": "markdown",
   "id": "1a8090b7",
   "metadata": {},
   "source": [
    "**Exercício 294**  \n",
    "Dica: Use o dataframe `titanic` (pandas) – pratique contagens, médias, histogramas."
   ]
  },
  {
   "cell_type": "code",
   "execution_count": null,
   "id": "acb0459b",
   "metadata": {},
   "outputs": [],
   "source": [
    "# Seu código aqui\n"
   ]
  },
  {
   "cell_type": "markdown",
   "id": "3b567319",
   "metadata": {},
   "source": [
    "**Exercício 295**  \n",
    "Dica: Use o dataframe `titanic` (pandas) – pratique contagens, médias, histogramas."
   ]
  },
  {
   "cell_type": "code",
   "execution_count": null,
   "id": "2d20062f",
   "metadata": {},
   "outputs": [],
   "source": [
    "# Seu código aqui\n"
   ]
  },
  {
   "cell_type": "markdown",
   "id": "7e449bc7",
   "metadata": {},
   "source": [
    "**Exercício 296**  \n",
    "Dica: Use o dataframe `titanic` (pandas) – pratique contagens, médias, histogramas."
   ]
  },
  {
   "cell_type": "code",
   "execution_count": null,
   "id": "effd8d00",
   "metadata": {},
   "outputs": [],
   "source": [
    "# Seu código aqui\n"
   ]
  },
  {
   "cell_type": "markdown",
   "id": "f035fbfe",
   "metadata": {},
   "source": [
    "**Exercício 297**  \n",
    "Dica: Use o dataframe `titanic` (pandas) – pratique contagens, médias, histogramas."
   ]
  },
  {
   "cell_type": "code",
   "execution_count": null,
   "id": "4c2452fc",
   "metadata": {},
   "outputs": [],
   "source": [
    "# Seu código aqui\n"
   ]
  },
  {
   "cell_type": "markdown",
   "id": "c64d54f1",
   "metadata": {},
   "source": [
    "**Exercício 298**  \n",
    "Dica: Use o dataframe `titanic` (pandas) – pratique contagens, médias, histogramas."
   ]
  },
  {
   "cell_type": "code",
   "execution_count": null,
   "id": "3abe3120",
   "metadata": {},
   "outputs": [],
   "source": [
    "# Seu código aqui\n"
   ]
  },
  {
   "cell_type": "markdown",
   "id": "35598ff9",
   "metadata": {},
   "source": [
    "**Exercício 299**  \n",
    "Dica: Use o dataframe `titanic` (pandas) – pratique contagens, médias, histogramas."
   ]
  },
  {
   "cell_type": "code",
   "execution_count": null,
   "id": "f37e9f9d",
   "metadata": {},
   "outputs": [],
   "source": [
    "# Seu código aqui\n"
   ]
  },
  {
   "cell_type": "markdown",
   "id": "31dac00c",
   "metadata": {},
   "source": [
    "**Exercício 300**  \n",
    "Dica: Use o dataframe `titanic` (pandas) – pratique contagens, médias, histogramas."
   ]
  },
  {
   "cell_type": "code",
   "execution_count": null,
   "id": "734bd78c",
   "metadata": {},
   "outputs": [],
   "source": [
    "# Seu código aqui\n"
   ]
  },
  {
   "cell_type": "markdown",
   "id": "e418e9a1",
   "metadata": {},
   "source": [
    "**Exercício 301**  \n",
    "Dica: Use o dataframe `titanic` (pandas) – pratique contagens, médias, histogramas."
   ]
  },
  {
   "cell_type": "code",
   "execution_count": null,
   "id": "c5d980de",
   "metadata": {},
   "outputs": [],
   "source": [
    "# Seu código aqui\n"
   ]
  },
  {
   "cell_type": "markdown",
   "id": "9cda795b",
   "metadata": {},
   "source": [
    "**Exercício 302**  \n",
    "Dica: Use o dataframe `titanic` (pandas) – pratique contagens, médias, histogramas."
   ]
  },
  {
   "cell_type": "code",
   "execution_count": null,
   "id": "6ef96073",
   "metadata": {},
   "outputs": [],
   "source": [
    "# Seu código aqui\n"
   ]
  },
  {
   "cell_type": "markdown",
   "id": "ea635142",
   "metadata": {},
   "source": [
    "**Exercício 303**  \n",
    "Dica: Use o dataframe `titanic` (pandas) – pratique contagens, médias, histogramas."
   ]
  },
  {
   "cell_type": "code",
   "execution_count": null,
   "id": "8dcabbfa",
   "metadata": {},
   "outputs": [],
   "source": [
    "# Seu código aqui\n"
   ]
  },
  {
   "cell_type": "markdown",
   "id": "7ea65aba",
   "metadata": {},
   "source": [
    "**Exercício 304**  \n",
    "Dica: Use o dataframe `titanic` (pandas) – pratique contagens, médias, histogramas."
   ]
  },
  {
   "cell_type": "code",
   "execution_count": null,
   "id": "909c46a4",
   "metadata": {},
   "outputs": [],
   "source": [
    "# Seu código aqui\n"
   ]
  },
  {
   "cell_type": "markdown",
   "id": "e8a6d005",
   "metadata": {},
   "source": [
    "**Exercício 305**  \n",
    "Dica: Use o dataframe `titanic` (pandas) – pratique contagens, médias, histogramas."
   ]
  },
  {
   "cell_type": "code",
   "execution_count": null,
   "id": "b994b3a6",
   "metadata": {},
   "outputs": [],
   "source": [
    "# Seu código aqui\n"
   ]
  },
  {
   "cell_type": "markdown",
   "id": "ca5b03ba",
   "metadata": {},
   "source": [
    "**Exercício 306**  \n",
    "Dica: Use o dataframe `titanic` (pandas) – pratique contagens, médias, histogramas."
   ]
  },
  {
   "cell_type": "code",
   "execution_count": null,
   "id": "6b77c307",
   "metadata": {},
   "outputs": [],
   "source": [
    "# Seu código aqui\n"
   ]
  },
  {
   "cell_type": "markdown",
   "id": "1293c7ce",
   "metadata": {},
   "source": [
    "**Exercício 307**  \n",
    "Dica: Use o dataframe `titanic` (pandas) – pratique contagens, médias, histogramas."
   ]
  },
  {
   "cell_type": "code",
   "execution_count": null,
   "id": "5cf936da",
   "metadata": {},
   "outputs": [],
   "source": [
    "# Seu código aqui\n"
   ]
  },
  {
   "cell_type": "markdown",
   "id": "5136c741",
   "metadata": {},
   "source": [
    "**Exercício 308**  \n",
    "Dica: Use o dataframe `titanic` (pandas) – pratique contagens, médias, histogramas."
   ]
  },
  {
   "cell_type": "code",
   "execution_count": null,
   "id": "501956cb",
   "metadata": {},
   "outputs": [],
   "source": [
    "# Seu código aqui\n"
   ]
  },
  {
   "cell_type": "markdown",
   "id": "36204f5b",
   "metadata": {},
   "source": [
    "**Exercício 309**  \n",
    "Dica: Use o dataframe `titanic` (pandas) – pratique contagens, médias, histogramas."
   ]
  },
  {
   "cell_type": "code",
   "execution_count": null,
   "id": "aa351f31",
   "metadata": {},
   "outputs": [],
   "source": [
    "# Seu código aqui\n"
   ]
  },
  {
   "cell_type": "markdown",
   "id": "43dc54f1",
   "metadata": {},
   "source": [
    "**Exercício 310**  \n",
    "Dica: Use o dataframe `titanic` (pandas) – pratique contagens, médias, histogramas."
   ]
  },
  {
   "cell_type": "code",
   "execution_count": null,
   "id": "787222c2",
   "metadata": {},
   "outputs": [],
   "source": [
    "# Seu código aqui\n"
   ]
  },
  {
   "cell_type": "markdown",
   "id": "fd3e401b",
   "metadata": {},
   "source": [
    "**Exercício 311**  \n",
    "Dica: Use o dataframe `titanic` (pandas) – pratique contagens, médias, histogramas."
   ]
  },
  {
   "cell_type": "code",
   "execution_count": null,
   "id": "1c26ce04",
   "metadata": {},
   "outputs": [],
   "source": [
    "# Seu código aqui\n"
   ]
  },
  {
   "cell_type": "markdown",
   "id": "5853b650",
   "metadata": {},
   "source": [
    "**Exercício 312**  \n",
    "Dica: Use o dataframe `titanic` (pandas) – pratique contagens, médias, histogramas."
   ]
  },
  {
   "cell_type": "code",
   "execution_count": null,
   "id": "8ddb564c",
   "metadata": {},
   "outputs": [],
   "source": [
    "# Seu código aqui\n"
   ]
  },
  {
   "cell_type": "markdown",
   "id": "fd0f0630",
   "metadata": {},
   "source": [
    "**Exercício 313**  \n",
    "Dica: Use o dataframe `titanic` (pandas) – pratique contagens, médias, histogramas."
   ]
  },
  {
   "cell_type": "code",
   "execution_count": null,
   "id": "c30c0dd6",
   "metadata": {},
   "outputs": [],
   "source": [
    "# Seu código aqui\n"
   ]
  },
  {
   "cell_type": "markdown",
   "id": "f3a84933",
   "metadata": {},
   "source": [
    "**Exercício 314**  \n",
    "Dica: Use o dataframe `titanic` (pandas) – pratique contagens, médias, histogramas."
   ]
  },
  {
   "cell_type": "code",
   "execution_count": null,
   "id": "dbf6a425",
   "metadata": {},
   "outputs": [],
   "source": [
    "# Seu código aqui\n"
   ]
  },
  {
   "cell_type": "markdown",
   "id": "994438b8",
   "metadata": {},
   "source": [
    "**Exercício 315**  \n",
    "Dica: Use o dataframe `titanic` (pandas) – pratique contagens, médias, histogramas."
   ]
  },
  {
   "cell_type": "code",
   "execution_count": null,
   "id": "1b032de0",
   "metadata": {},
   "outputs": [],
   "source": [
    "# Seu código aqui\n"
   ]
  },
  {
   "cell_type": "markdown",
   "id": "11270f5a",
   "metadata": {},
   "source": [
    "**Exercício 316**  \n",
    "Dica: Use o dataframe `titanic` (pandas) – pratique contagens, médias, histogramas."
   ]
  },
  {
   "cell_type": "code",
   "execution_count": null,
   "id": "4a8db16e",
   "metadata": {},
   "outputs": [],
   "source": [
    "# Seu código aqui\n"
   ]
  },
  {
   "cell_type": "markdown",
   "id": "5012493f",
   "metadata": {},
   "source": [
    "**Exercício 317**  \n",
    "Dica: Use o dataframe `titanic` (pandas) – pratique contagens, médias, histogramas."
   ]
  },
  {
   "cell_type": "code",
   "execution_count": null,
   "id": "82bce83a",
   "metadata": {},
   "outputs": [],
   "source": [
    "# Seu código aqui\n"
   ]
  },
  {
   "cell_type": "markdown",
   "id": "20228e67",
   "metadata": {},
   "source": [
    "**Exercício 318**  \n",
    "Dica: Use o dataframe `titanic` (pandas) – pratique contagens, médias, histogramas."
   ]
  },
  {
   "cell_type": "code",
   "execution_count": null,
   "id": "3e9cb853",
   "metadata": {},
   "outputs": [],
   "source": [
    "# Seu código aqui\n"
   ]
  },
  {
   "cell_type": "markdown",
   "id": "80d4049d",
   "metadata": {},
   "source": [
    "**Exercício 319**  \n",
    "Dica: Use o dataframe `titanic` (pandas) – pratique contagens, médias, histogramas."
   ]
  },
  {
   "cell_type": "code",
   "execution_count": null,
   "id": "60182ec5",
   "metadata": {},
   "outputs": [],
   "source": [
    "# Seu código aqui\n"
   ]
  },
  {
   "cell_type": "markdown",
   "id": "979cd1bc",
   "metadata": {},
   "source": [
    "**Exercício 320**  \n",
    "Dica: Use o dataframe `titanic` (pandas) – pratique contagens, médias, histogramas."
   ]
  },
  {
   "cell_type": "code",
   "execution_count": null,
   "id": "91f5e0e7",
   "metadata": {},
   "outputs": [],
   "source": [
    "# Seu código aqui\n"
   ]
  },
  {
   "cell_type": "markdown",
   "id": "5ce8a055",
   "metadata": {},
   "source": [
    "**Exercício 321**  \n",
    "Dica: Use o dataframe `titanic` (pandas) – pratique contagens, médias, histogramas."
   ]
  },
  {
   "cell_type": "code",
   "execution_count": null,
   "id": "726fd2d2",
   "metadata": {},
   "outputs": [],
   "source": [
    "# Seu código aqui\n"
   ]
  },
  {
   "cell_type": "markdown",
   "id": "6c7bb244",
   "metadata": {},
   "source": [
    "**Exercício 322**  \n",
    "Dica: Use o dataframe `titanic` (pandas) – pratique contagens, médias, histogramas."
   ]
  },
  {
   "cell_type": "code",
   "execution_count": null,
   "id": "db20f5bf",
   "metadata": {},
   "outputs": [],
   "source": [
    "# Seu código aqui\n"
   ]
  },
  {
   "cell_type": "markdown",
   "id": "da51826e",
   "metadata": {},
   "source": [
    "**Exercício 323**  \n",
    "Dica: Use o dataframe `titanic` (pandas) – pratique contagens, médias, histogramas."
   ]
  },
  {
   "cell_type": "code",
   "execution_count": null,
   "id": "b2876082",
   "metadata": {},
   "outputs": [],
   "source": [
    "# Seu código aqui\n"
   ]
  },
  {
   "cell_type": "markdown",
   "id": "e91fdc06",
   "metadata": {},
   "source": [
    "**Exercício 324**  \n",
    "Dica: Use o dataframe `titanic` (pandas) – pratique contagens, médias, histogramas."
   ]
  },
  {
   "cell_type": "code",
   "execution_count": null,
   "id": "11c42ff3",
   "metadata": {},
   "outputs": [],
   "source": [
    "# Seu código aqui\n"
   ]
  },
  {
   "cell_type": "markdown",
   "id": "c16e6864",
   "metadata": {},
   "source": [
    "**Exercício 325**  \n",
    "Dica: Use o dataframe `titanic` (pandas) – pratique contagens, médias, histogramas."
   ]
  },
  {
   "cell_type": "code",
   "execution_count": null,
   "id": "cd9a1c44",
   "metadata": {},
   "outputs": [],
   "source": [
    "# Seu código aqui\n"
   ]
  },
  {
   "cell_type": "markdown",
   "id": "cc8e11e6",
   "metadata": {},
   "source": [
    "**Exercício 326**  \n",
    "Dica: Use o dataframe `titanic` (pandas) – pratique contagens, médias, histogramas."
   ]
  },
  {
   "cell_type": "code",
   "execution_count": null,
   "id": "463944d7",
   "metadata": {},
   "outputs": [],
   "source": [
    "# Seu código aqui\n"
   ]
  },
  {
   "cell_type": "markdown",
   "id": "fff0dfd5",
   "metadata": {},
   "source": [
    "**Exercício 327**  \n",
    "Dica: Use o dataframe `titanic` (pandas) – pratique contagens, médias, histogramas."
   ]
  },
  {
   "cell_type": "code",
   "execution_count": null,
   "id": "79c824ba",
   "metadata": {},
   "outputs": [],
   "source": [
    "# Seu código aqui\n"
   ]
  },
  {
   "cell_type": "markdown",
   "id": "797e5ab6",
   "metadata": {},
   "source": [
    "**Exercício 328**  \n",
    "Dica: Use o dataframe `titanic` (pandas) – pratique contagens, médias, histogramas."
   ]
  },
  {
   "cell_type": "code",
   "execution_count": null,
   "id": "5e5ad1a5",
   "metadata": {},
   "outputs": [],
   "source": [
    "# Seu código aqui\n"
   ]
  },
  {
   "cell_type": "markdown",
   "id": "6985323c",
   "metadata": {},
   "source": [
    "**Exercício 329**  \n",
    "Dica: Use o dataframe `titanic` (pandas) – pratique contagens, médias, histogramas."
   ]
  },
  {
   "cell_type": "code",
   "execution_count": null,
   "id": "6fb0a272",
   "metadata": {},
   "outputs": [],
   "source": [
    "# Seu código aqui\n"
   ]
  },
  {
   "cell_type": "markdown",
   "id": "3aef5067",
   "metadata": {},
   "source": [
    "**Exercício 330**  \n",
    "Dica: Use o dataframe `titanic` (pandas) – pratique contagens, médias, histogramas."
   ]
  },
  {
   "cell_type": "code",
   "execution_count": null,
   "id": "7e78f479",
   "metadata": {},
   "outputs": [],
   "source": [
    "# Seu código aqui\n"
   ]
  },
  {
   "cell_type": "markdown",
   "id": "67049a19",
   "metadata": {},
   "source": [
    "**Exercício 331**  \n",
    "Dica: Use o dataframe `titanic` (pandas) – pratique contagens, médias, histogramas."
   ]
  },
  {
   "cell_type": "code",
   "execution_count": null,
   "id": "4e5aba78",
   "metadata": {},
   "outputs": [],
   "source": [
    "# Seu código aqui\n"
   ]
  },
  {
   "cell_type": "markdown",
   "id": "6d5f920f",
   "metadata": {},
   "source": [
    "**Exercício 332**  \n",
    "Dica: Use o dataframe `titanic` (pandas) – pratique contagens, médias, histogramas."
   ]
  },
  {
   "cell_type": "code",
   "execution_count": null,
   "id": "bfde3e15",
   "metadata": {},
   "outputs": [],
   "source": [
    "# Seu código aqui\n"
   ]
  },
  {
   "cell_type": "markdown",
   "id": "674df6e7",
   "metadata": {},
   "source": [
    "**Exercício 333**  \n",
    "Dica: Use o dataframe `titanic` (pandas) – pratique contagens, médias, histogramas."
   ]
  },
  {
   "cell_type": "code",
   "execution_count": null,
   "id": "beb1683d",
   "metadata": {},
   "outputs": [],
   "source": [
    "# Seu código aqui\n"
   ]
  },
  {
   "cell_type": "markdown",
   "id": "15c1e0a6",
   "metadata": {},
   "source": [
    "**Exercício 334**  \n",
    "Dica: Use o dataframe `titanic` (pandas) – pratique contagens, médias, histogramas."
   ]
  },
  {
   "cell_type": "code",
   "execution_count": null,
   "id": "515cfe6b",
   "metadata": {},
   "outputs": [],
   "source": [
    "# Seu código aqui\n"
   ]
  },
  {
   "cell_type": "markdown",
   "id": "2cc2482e",
   "metadata": {},
   "source": [
    "**Exercício 335**  \n",
    "Dica: Use o dataframe `titanic` (pandas) – pratique contagens, médias, histogramas."
   ]
  },
  {
   "cell_type": "code",
   "execution_count": null,
   "id": "ff6b49fa",
   "metadata": {},
   "outputs": [],
   "source": [
    "# Seu código aqui\n"
   ]
  },
  {
   "cell_type": "markdown",
   "id": "57e2396e",
   "metadata": {},
   "source": [
    "**Exercício 336**  \n",
    "Dica: Use o dataframe `titanic` (pandas) – pratique contagens, médias, histogramas."
   ]
  },
  {
   "cell_type": "code",
   "execution_count": null,
   "id": "bcc1ad3a",
   "metadata": {},
   "outputs": [],
   "source": [
    "# Seu código aqui\n"
   ]
  },
  {
   "cell_type": "markdown",
   "id": "dd0e9274",
   "metadata": {},
   "source": [
    "**Exercício 337**  \n",
    "Dica: Use o dataframe `titanic` (pandas) – pratique contagens, médias, histogramas."
   ]
  },
  {
   "cell_type": "code",
   "execution_count": null,
   "id": "8a2f557a",
   "metadata": {},
   "outputs": [],
   "source": [
    "# Seu código aqui\n"
   ]
  },
  {
   "cell_type": "markdown",
   "id": "9429177e",
   "metadata": {},
   "source": [
    "**Exercício 338**  \n",
    "Dica: Use o dataframe `titanic` (pandas) – pratique contagens, médias, histogramas."
   ]
  },
  {
   "cell_type": "code",
   "execution_count": null,
   "id": "7f10636e",
   "metadata": {},
   "outputs": [],
   "source": [
    "# Seu código aqui\n"
   ]
  },
  {
   "cell_type": "markdown",
   "id": "a4534961",
   "metadata": {},
   "source": [
    "**Exercício 339**  \n",
    "Dica: Use o dataframe `titanic` (pandas) – pratique contagens, médias, histogramas."
   ]
  },
  {
   "cell_type": "code",
   "execution_count": null,
   "id": "955f7fea",
   "metadata": {},
   "outputs": [],
   "source": [
    "# Seu código aqui\n"
   ]
  },
  {
   "cell_type": "markdown",
   "id": "92770041",
   "metadata": {},
   "source": [
    "**Exercício 340**  \n",
    "Dica: Use o dataframe `titanic` (pandas) – pratique contagens, médias, histogramas."
   ]
  },
  {
   "cell_type": "code",
   "execution_count": null,
   "id": "3ae30295",
   "metadata": {},
   "outputs": [],
   "source": [
    "# Seu código aqui\n"
   ]
  },
  {
   "cell_type": "markdown",
   "id": "65dc9b23",
   "metadata": {},
   "source": [
    "**Exercício 341**  \n",
    "Dica: Use o dataframe `titanic` (pandas) – pratique contagens, médias, histogramas."
   ]
  },
  {
   "cell_type": "code",
   "execution_count": null,
   "id": "0a4d39f0",
   "metadata": {},
   "outputs": [],
   "source": [
    "# Seu código aqui\n"
   ]
  },
  {
   "cell_type": "markdown",
   "id": "53563bb4",
   "metadata": {},
   "source": [
    "**Exercício 342**  \n",
    "Dica: Use o dataframe `titanic` (pandas) – pratique contagens, médias, histogramas."
   ]
  },
  {
   "cell_type": "code",
   "execution_count": null,
   "id": "9c8012c9",
   "metadata": {},
   "outputs": [],
   "source": [
    "# Seu código aqui\n"
   ]
  },
  {
   "cell_type": "markdown",
   "id": "b6966bb2",
   "metadata": {},
   "source": [
    "**Exercício 343**  \n",
    "Dica: Use o dataframe `titanic` (pandas) – pratique contagens, médias, histogramas."
   ]
  },
  {
   "cell_type": "code",
   "execution_count": null,
   "id": "98d25d0a",
   "metadata": {},
   "outputs": [],
   "source": [
    "# Seu código aqui\n"
   ]
  },
  {
   "cell_type": "markdown",
   "id": "66524ad2",
   "metadata": {},
   "source": [
    "**Exercício 344**  \n",
    "Dica: Use o dataframe `titanic` (pandas) – pratique contagens, médias, histogramas."
   ]
  },
  {
   "cell_type": "code",
   "execution_count": null,
   "id": "2a55da8d",
   "metadata": {},
   "outputs": [],
   "source": [
    "# Seu código aqui\n"
   ]
  },
  {
   "cell_type": "markdown",
   "id": "8b040bec",
   "metadata": {},
   "source": [
    "**Exercício 345**  \n",
    "Dica: Use o dataframe `titanic` (pandas) – pratique contagens, médias, histogramas."
   ]
  },
  {
   "cell_type": "code",
   "execution_count": null,
   "id": "44401fc0",
   "metadata": {},
   "outputs": [],
   "source": [
    "# Seu código aqui\n"
   ]
  },
  {
   "cell_type": "markdown",
   "id": "b8a05478",
   "metadata": {},
   "source": [
    "**Exercício 346**  \n",
    "Dica: Use o dataframe `titanic` (pandas) – pratique contagens, médias, histogramas."
   ]
  },
  {
   "cell_type": "code",
   "execution_count": null,
   "id": "f4267c78",
   "metadata": {},
   "outputs": [],
   "source": [
    "# Seu código aqui\n"
   ]
  },
  {
   "cell_type": "markdown",
   "id": "76a35558",
   "metadata": {},
   "source": [
    "**Exercício 347**  \n",
    "Dica: Use o dataframe `titanic` (pandas) – pratique contagens, médias, histogramas."
   ]
  },
  {
   "cell_type": "code",
   "execution_count": null,
   "id": "9fdfe947",
   "metadata": {},
   "outputs": [],
   "source": [
    "# Seu código aqui\n"
   ]
  },
  {
   "cell_type": "markdown",
   "id": "86846f35",
   "metadata": {},
   "source": [
    "**Exercício 348**  \n",
    "Dica: Use o dataframe `titanic` (pandas) – pratique contagens, médias, histogramas."
   ]
  },
  {
   "cell_type": "code",
   "execution_count": null,
   "id": "571024ce",
   "metadata": {},
   "outputs": [],
   "source": [
    "# Seu código aqui\n"
   ]
  },
  {
   "cell_type": "markdown",
   "id": "d5cb0fc7",
   "metadata": {},
   "source": [
    "**Exercício 349**  \n",
    "Dica: Use o dataframe `titanic` (pandas) – pratique contagens, médias, histogramas."
   ]
  },
  {
   "cell_type": "code",
   "execution_count": null,
   "id": "126b7c45",
   "metadata": {},
   "outputs": [],
   "source": [
    "# Seu código aqui\n"
   ]
  },
  {
   "cell_type": "markdown",
   "id": "3eed21b3",
   "metadata": {},
   "source": [
    "**Exercício 350**  \n",
    "Dica: Use o dataframe `titanic` (pandas) – pratique contagens, médias, histogramas."
   ]
  },
  {
   "cell_type": "code",
   "execution_count": null,
   "id": "0795aef5",
   "metadata": {},
   "outputs": [],
   "source": [
    "# Seu código aqui\n"
   ]
  },
  {
   "cell_type": "markdown",
   "id": "858453a4",
   "metadata": {},
   "source": [
    "**Exercício 351**  \n",
    "Dica: Use o dataframe `titanic` (pandas) – pratique contagens, médias, histogramas."
   ]
  },
  {
   "cell_type": "code",
   "execution_count": null,
   "id": "0053a0c8",
   "metadata": {},
   "outputs": [],
   "source": [
    "# Seu código aqui\n"
   ]
  },
  {
   "cell_type": "markdown",
   "id": "b36991d7",
   "metadata": {},
   "source": [
    "**Exercício 352**  \n",
    "Dica: Use o dataframe `titanic` (pandas) – pratique contagens, médias, histogramas."
   ]
  },
  {
   "cell_type": "code",
   "execution_count": null,
   "id": "ec563f8d",
   "metadata": {},
   "outputs": [],
   "source": [
    "# Seu código aqui\n"
   ]
  },
  {
   "cell_type": "markdown",
   "id": "d6504614",
   "metadata": {},
   "source": [
    "**Exercício 353**  \n",
    "Dica: Use o dataframe `titanic` (pandas) – pratique contagens, médias, histogramas."
   ]
  },
  {
   "cell_type": "code",
   "execution_count": null,
   "id": "e1985540",
   "metadata": {},
   "outputs": [],
   "source": [
    "# Seu código aqui\n"
   ]
  },
  {
   "cell_type": "markdown",
   "id": "bff36fac",
   "metadata": {},
   "source": [
    "**Exercício 354**  \n",
    "Dica: Use o dataframe `titanic` (pandas) – pratique contagens, médias, histogramas."
   ]
  },
  {
   "cell_type": "code",
   "execution_count": null,
   "id": "e665bcd5",
   "metadata": {},
   "outputs": [],
   "source": [
    "# Seu código aqui\n"
   ]
  },
  {
   "cell_type": "markdown",
   "id": "7f10d3ff",
   "metadata": {},
   "source": [
    "**Exercício 355**  \n",
    "Dica: Use o dataframe `titanic` (pandas) – pratique contagens, médias, histogramas."
   ]
  },
  {
   "cell_type": "code",
   "execution_count": null,
   "id": "6753899c",
   "metadata": {},
   "outputs": [],
   "source": [
    "# Seu código aqui\n"
   ]
  },
  {
   "cell_type": "markdown",
   "id": "6abe5b80",
   "metadata": {},
   "source": [
    "**Exercício 356**  \n",
    "Dica: Use o dataframe `titanic` (pandas) – pratique contagens, médias, histogramas."
   ]
  },
  {
   "cell_type": "code",
   "execution_count": null,
   "id": "4f2725f6",
   "metadata": {},
   "outputs": [],
   "source": [
    "# Seu código aqui\n"
   ]
  },
  {
   "cell_type": "markdown",
   "id": "15732be8",
   "metadata": {},
   "source": [
    "**Exercício 357**  \n",
    "Dica: Use o dataframe `titanic` (pandas) – pratique contagens, médias, histogramas."
   ]
  },
  {
   "cell_type": "code",
   "execution_count": null,
   "id": "cba7c87d",
   "metadata": {},
   "outputs": [],
   "source": [
    "# Seu código aqui\n"
   ]
  },
  {
   "cell_type": "markdown",
   "id": "3a24adb4",
   "metadata": {},
   "source": [
    "**Exercício 358**  \n",
    "Dica: Use o dataframe `titanic` (pandas) – pratique contagens, médias, histogramas."
   ]
  },
  {
   "cell_type": "code",
   "execution_count": null,
   "id": "9b2dc24b",
   "metadata": {},
   "outputs": [],
   "source": [
    "# Seu código aqui\n"
   ]
  },
  {
   "cell_type": "markdown",
   "id": "67d0dd6f",
   "metadata": {},
   "source": [
    "**Exercício 359**  \n",
    "Dica: Use o dataframe `titanic` (pandas) – pratique contagens, médias, histogramas."
   ]
  },
  {
   "cell_type": "code",
   "execution_count": null,
   "id": "20bf0826",
   "metadata": {},
   "outputs": [],
   "source": [
    "# Seu código aqui\n"
   ]
  },
  {
   "cell_type": "markdown",
   "id": "55882a82",
   "metadata": {},
   "source": [
    "**Exercício 360**  \n",
    "Dica: Use o dataframe `titanic` (pandas) – pratique contagens, médias, histogramas."
   ]
  },
  {
   "cell_type": "code",
   "execution_count": null,
   "id": "b39b4a19",
   "metadata": {},
   "outputs": [],
   "source": [
    "# Seu código aqui\n"
   ]
  },
  {
   "cell_type": "markdown",
   "id": "8f6a0164",
   "metadata": {},
   "source": [
    "**Exercício 361**  \n",
    "Dica: Use o dataframe `titanic` (pandas) – pratique contagens, médias, histogramas."
   ]
  },
  {
   "cell_type": "code",
   "execution_count": null,
   "id": "f0c2a079",
   "metadata": {},
   "outputs": [],
   "source": [
    "# Seu código aqui\n"
   ]
  },
  {
   "cell_type": "markdown",
   "id": "24076de4",
   "metadata": {},
   "source": [
    "**Exercício 362**  \n",
    "Dica: Use o dataframe `titanic` (pandas) – pratique contagens, médias, histogramas."
   ]
  },
  {
   "cell_type": "code",
   "execution_count": null,
   "id": "94f2a999",
   "metadata": {},
   "outputs": [],
   "source": [
    "# Seu código aqui\n"
   ]
  },
  {
   "cell_type": "markdown",
   "id": "ba4b7f03",
   "metadata": {},
   "source": [
    "**Exercício 363**  \n",
    "Dica: Use o dataframe `titanic` (pandas) – pratique contagens, médias, histogramas."
   ]
  },
  {
   "cell_type": "code",
   "execution_count": null,
   "id": "7c93a1af",
   "metadata": {},
   "outputs": [],
   "source": [
    "# Seu código aqui\n"
   ]
  },
  {
   "cell_type": "markdown",
   "id": "fd993ec4",
   "metadata": {},
   "source": [
    "**Exercício 364**  \n",
    "Dica: Use o dataframe `titanic` (pandas) – pratique contagens, médias, histogramas."
   ]
  },
  {
   "cell_type": "code",
   "execution_count": null,
   "id": "11d83045",
   "metadata": {},
   "outputs": [],
   "source": [
    "# Seu código aqui\n"
   ]
  },
  {
   "cell_type": "markdown",
   "id": "d986fb6d",
   "metadata": {},
   "source": [
    "**Exercício 365**  \n",
    "Dica: Use o dataframe `titanic` (pandas) – pratique contagens, médias, histogramas."
   ]
  },
  {
   "cell_type": "code",
   "execution_count": null,
   "id": "27654f60",
   "metadata": {},
   "outputs": [],
   "source": [
    "# Seu código aqui\n"
   ]
  },
  {
   "cell_type": "markdown",
   "id": "8cc5d30a",
   "metadata": {},
   "source": [
    "**Exercício 366**  \n",
    "Dica: Use o dataframe `titanic` (pandas) – pratique contagens, médias, histogramas."
   ]
  },
  {
   "cell_type": "code",
   "execution_count": null,
   "id": "aef13e2b",
   "metadata": {},
   "outputs": [],
   "source": [
    "# Seu código aqui\n"
   ]
  },
  {
   "cell_type": "markdown",
   "id": "a765530e",
   "metadata": {},
   "source": [
    "**Exercício 367**  \n",
    "Dica: Use o dataframe `titanic` (pandas) – pratique contagens, médias, histogramas."
   ]
  },
  {
   "cell_type": "code",
   "execution_count": null,
   "id": "c349af90",
   "metadata": {},
   "outputs": [],
   "source": [
    "# Seu código aqui\n"
   ]
  },
  {
   "cell_type": "markdown",
   "id": "73f20aa1",
   "metadata": {},
   "source": [
    "**Exercício 368**  \n",
    "Dica: Use o dataframe `titanic` (pandas) – pratique contagens, médias, histogramas."
   ]
  },
  {
   "cell_type": "code",
   "execution_count": null,
   "id": "8f3c1d12",
   "metadata": {},
   "outputs": [],
   "source": [
    "# Seu código aqui\n"
   ]
  },
  {
   "cell_type": "markdown",
   "id": "664d1a64",
   "metadata": {},
   "source": [
    "**Exercício 369**  \n",
    "Dica: Use o dataframe `titanic` (pandas) – pratique contagens, médias, histogramas."
   ]
  },
  {
   "cell_type": "code",
   "execution_count": null,
   "id": "9b520990",
   "metadata": {},
   "outputs": [],
   "source": [
    "# Seu código aqui\n"
   ]
  },
  {
   "cell_type": "markdown",
   "id": "e4e3beb8",
   "metadata": {},
   "source": [
    "**Exercício 370**  \n",
    "Dica: Use o dataframe `titanic` (pandas) – pratique contagens, médias, histogramas."
   ]
  },
  {
   "cell_type": "code",
   "execution_count": null,
   "id": "2c543ac3",
   "metadata": {},
   "outputs": [],
   "source": [
    "# Seu código aqui\n"
   ]
  },
  {
   "cell_type": "markdown",
   "id": "f9fa4aa4",
   "metadata": {},
   "source": [
    "**Exercício 371**  \n",
    "Dica: Use o dataframe `titanic` (pandas) – pratique contagens, médias, histogramas."
   ]
  },
  {
   "cell_type": "code",
   "execution_count": null,
   "id": "eb9787c1",
   "metadata": {},
   "outputs": [],
   "source": [
    "# Seu código aqui\n"
   ]
  },
  {
   "cell_type": "markdown",
   "id": "ea66a033",
   "metadata": {},
   "source": [
    "**Exercício 372**  \n",
    "Dica: Use o dataframe `titanic` (pandas) – pratique contagens, médias, histogramas."
   ]
  },
  {
   "cell_type": "code",
   "execution_count": null,
   "id": "c6414be1",
   "metadata": {},
   "outputs": [],
   "source": [
    "# Seu código aqui\n"
   ]
  },
  {
   "cell_type": "markdown",
   "id": "78723b9b",
   "metadata": {},
   "source": [
    "**Exercício 373**  \n",
    "Dica: Use o dataframe `titanic` (pandas) – pratique contagens, médias, histogramas."
   ]
  },
  {
   "cell_type": "code",
   "execution_count": null,
   "id": "666c1aa1",
   "metadata": {},
   "outputs": [],
   "source": [
    "# Seu código aqui\n"
   ]
  },
  {
   "cell_type": "markdown",
   "id": "a069bdab",
   "metadata": {},
   "source": [
    "**Exercício 374**  \n",
    "Dica: Use o dataframe `titanic` (pandas) – pratique contagens, médias, histogramas."
   ]
  },
  {
   "cell_type": "code",
   "execution_count": null,
   "id": "ef69aac5",
   "metadata": {},
   "outputs": [],
   "source": [
    "# Seu código aqui\n"
   ]
  },
  {
   "cell_type": "markdown",
   "id": "5088ff84",
   "metadata": {},
   "source": [
    "**Exercício 375**  \n",
    "Dica: Use o dataframe `titanic` (pandas) – pratique contagens, médias, histogramas."
   ]
  },
  {
   "cell_type": "code",
   "execution_count": null,
   "id": "008060ac",
   "metadata": {},
   "outputs": [],
   "source": [
    "# Seu código aqui\n"
   ]
  },
  {
   "cell_type": "markdown",
   "id": "ebc78ea5",
   "metadata": {},
   "source": [
    "**Exercício 376**  \n",
    "Dica: Use o dataframe `titanic` (pandas) – pratique contagens, médias, histogramas."
   ]
  },
  {
   "cell_type": "code",
   "execution_count": null,
   "id": "4711384b",
   "metadata": {},
   "outputs": [],
   "source": [
    "# Seu código aqui\n"
   ]
  },
  {
   "cell_type": "markdown",
   "id": "9cc3095f",
   "metadata": {},
   "source": [
    "**Exercício 377**  \n",
    "Dica: Use o dataframe `titanic` (pandas) – pratique contagens, médias, histogramas."
   ]
  },
  {
   "cell_type": "code",
   "execution_count": null,
   "id": "fcd9d30f",
   "metadata": {},
   "outputs": [],
   "source": [
    "# Seu código aqui\n"
   ]
  },
  {
   "cell_type": "markdown",
   "id": "1c8fb4d1",
   "metadata": {},
   "source": [
    "**Exercício 378**  \n",
    "Dica: Use o dataframe `titanic` (pandas) – pratique contagens, médias, histogramas."
   ]
  },
  {
   "cell_type": "code",
   "execution_count": null,
   "id": "1359da28",
   "metadata": {},
   "outputs": [],
   "source": [
    "# Seu código aqui\n"
   ]
  },
  {
   "cell_type": "markdown",
   "id": "4bef4bad",
   "metadata": {},
   "source": [
    "**Exercício 379**  \n",
    "Dica: Use o dataframe `titanic` (pandas) – pratique contagens, médias, histogramas."
   ]
  },
  {
   "cell_type": "code",
   "execution_count": null,
   "id": "86b8caa2",
   "metadata": {},
   "outputs": [],
   "source": [
    "# Seu código aqui\n"
   ]
  },
  {
   "cell_type": "markdown",
   "id": "2940cc3e",
   "metadata": {},
   "source": [
    "**Exercício 380**  \n",
    "Dica: Use o dataframe `titanic` (pandas) – pratique contagens, médias, histogramas."
   ]
  },
  {
   "cell_type": "code",
   "execution_count": null,
   "id": "bab296e4",
   "metadata": {},
   "outputs": [],
   "source": [
    "# Seu código aqui\n"
   ]
  },
  {
   "cell_type": "markdown",
   "id": "92ad45e7",
   "metadata": {},
   "source": [
    "**Exercício 381**  \n",
    "Dica: Use o dataframe `titanic` (pandas) – pratique contagens, médias, histogramas."
   ]
  },
  {
   "cell_type": "code",
   "execution_count": null,
   "id": "7e04f165",
   "metadata": {},
   "outputs": [],
   "source": [
    "# Seu código aqui\n"
   ]
  },
  {
   "cell_type": "markdown",
   "id": "d430d749",
   "metadata": {},
   "source": [
    "**Exercício 382**  \n",
    "Dica: Use o dataframe `titanic` (pandas) – pratique contagens, médias, histogramas."
   ]
  },
  {
   "cell_type": "code",
   "execution_count": null,
   "id": "f6a57eec",
   "metadata": {},
   "outputs": [],
   "source": [
    "# Seu código aqui\n"
   ]
  },
  {
   "cell_type": "markdown",
   "id": "6fd76cb8",
   "metadata": {},
   "source": [
    "**Exercício 383**  \n",
    "Dica: Use o dataframe `titanic` (pandas) – pratique contagens, médias, histogramas."
   ]
  },
  {
   "cell_type": "code",
   "execution_count": null,
   "id": "b998266f",
   "metadata": {},
   "outputs": [],
   "source": [
    "# Seu código aqui\n"
   ]
  },
  {
   "cell_type": "markdown",
   "id": "a90c188b",
   "metadata": {},
   "source": [
    "**Exercício 384**  \n",
    "Dica: Use o dataframe `titanic` (pandas) – pratique contagens, médias, histogramas."
   ]
  },
  {
   "cell_type": "code",
   "execution_count": null,
   "id": "a2f37e90",
   "metadata": {},
   "outputs": [],
   "source": [
    "# Seu código aqui\n"
   ]
  },
  {
   "cell_type": "markdown",
   "id": "74ebfc9f",
   "metadata": {},
   "source": [
    "**Exercício 385**  \n",
    "Dica: Use o dataframe `titanic` (pandas) – pratique contagens, médias, histogramas."
   ]
  },
  {
   "cell_type": "code",
   "execution_count": null,
   "id": "4cf3ad87",
   "metadata": {},
   "outputs": [],
   "source": [
    "# Seu código aqui\n"
   ]
  },
  {
   "cell_type": "markdown",
   "id": "d4503ceb",
   "metadata": {},
   "source": [
    "**Exercício 386**  \n",
    "Dica: Use o dataframe `titanic` (pandas) – pratique contagens, médias, histogramas."
   ]
  },
  {
   "cell_type": "code",
   "execution_count": null,
   "id": "ebd56430",
   "metadata": {},
   "outputs": [],
   "source": [
    "# Seu código aqui\n"
   ]
  },
  {
   "cell_type": "markdown",
   "id": "0176bab0",
   "metadata": {},
   "source": [
    "**Exercício 387**  \n",
    "Dica: Use o dataframe `titanic` (pandas) – pratique contagens, médias, histogramas."
   ]
  },
  {
   "cell_type": "code",
   "execution_count": null,
   "id": "b69da539",
   "metadata": {},
   "outputs": [],
   "source": [
    "# Seu código aqui\n"
   ]
  },
  {
   "cell_type": "markdown",
   "id": "99fac202",
   "metadata": {},
   "source": [
    "**Exercício 388**  \n",
    "Dica: Use o dataframe `titanic` (pandas) – pratique contagens, médias, histogramas."
   ]
  },
  {
   "cell_type": "code",
   "execution_count": null,
   "id": "c4bcd03d",
   "metadata": {},
   "outputs": [],
   "source": [
    "# Seu código aqui\n"
   ]
  },
  {
   "cell_type": "markdown",
   "id": "d5d6e6ca",
   "metadata": {},
   "source": [
    "**Exercício 389**  \n",
    "Dica: Use o dataframe `titanic` (pandas) – pratique contagens, médias, histogramas."
   ]
  },
  {
   "cell_type": "code",
   "execution_count": null,
   "id": "82675e9c",
   "metadata": {},
   "outputs": [],
   "source": [
    "# Seu código aqui\n"
   ]
  },
  {
   "cell_type": "markdown",
   "id": "cc1c88e9",
   "metadata": {},
   "source": [
    "**Exercício 390**  \n",
    "Dica: Use o dataframe `titanic` (pandas) – pratique contagens, médias, histogramas."
   ]
  },
  {
   "cell_type": "code",
   "execution_count": null,
   "id": "48d8a75f",
   "metadata": {},
   "outputs": [],
   "source": [
    "# Seu código aqui\n"
   ]
  },
  {
   "cell_type": "markdown",
   "id": "ac9e067b",
   "metadata": {},
   "source": [
    "**Exercício 391**  \n",
    "Dica: Use o dataframe `titanic` (pandas) – pratique contagens, médias, histogramas."
   ]
  },
  {
   "cell_type": "code",
   "execution_count": null,
   "id": "7022d7ef",
   "metadata": {},
   "outputs": [],
   "source": [
    "# Seu código aqui\n"
   ]
  },
  {
   "cell_type": "markdown",
   "id": "56af8d83",
   "metadata": {},
   "source": [
    "**Exercício 392**  \n",
    "Dica: Use o dataframe `titanic` (pandas) – pratique contagens, médias, histogramas."
   ]
  },
  {
   "cell_type": "code",
   "execution_count": null,
   "id": "ab81c17d",
   "metadata": {},
   "outputs": [],
   "source": [
    "# Seu código aqui\n"
   ]
  },
  {
   "cell_type": "markdown",
   "id": "e62c61d5",
   "metadata": {},
   "source": [
    "**Exercício 393**  \n",
    "Dica: Use o dataframe `titanic` (pandas) – pratique contagens, médias, histogramas."
   ]
  },
  {
   "cell_type": "code",
   "execution_count": null,
   "id": "97c7df8d",
   "metadata": {},
   "outputs": [],
   "source": [
    "# Seu código aqui\n"
   ]
  },
  {
   "cell_type": "markdown",
   "id": "834ff998",
   "metadata": {},
   "source": [
    "**Exercício 394**  \n",
    "Dica: Use o dataframe `titanic` (pandas) – pratique contagens, médias, histogramas."
   ]
  },
  {
   "cell_type": "code",
   "execution_count": null,
   "id": "97665033",
   "metadata": {},
   "outputs": [],
   "source": [
    "# Seu código aqui\n"
   ]
  },
  {
   "cell_type": "markdown",
   "id": "9727d1c8",
   "metadata": {},
   "source": [
    "**Exercício 395**  \n",
    "Dica: Use o dataframe `titanic` (pandas) – pratique contagens, médias, histogramas."
   ]
  },
  {
   "cell_type": "code",
   "execution_count": null,
   "id": "abd862b2",
   "metadata": {},
   "outputs": [],
   "source": [
    "# Seu código aqui\n"
   ]
  },
  {
   "cell_type": "markdown",
   "id": "bacfe80d",
   "metadata": {},
   "source": [
    "**Exercício 396**  \n",
    "Dica: Use o dataframe `titanic` (pandas) – pratique contagens, médias, histogramas."
   ]
  },
  {
   "cell_type": "code",
   "execution_count": null,
   "id": "38770a6d",
   "metadata": {},
   "outputs": [],
   "source": [
    "# Seu código aqui\n"
   ]
  },
  {
   "cell_type": "markdown",
   "id": "8947bb43",
   "metadata": {},
   "source": [
    "**Exercício 397**  \n",
    "Dica: Use o dataframe `titanic` (pandas) – pratique contagens, médias, histogramas."
   ]
  },
  {
   "cell_type": "code",
   "execution_count": null,
   "id": "72fd6a3c",
   "metadata": {},
   "outputs": [],
   "source": [
    "# Seu código aqui\n"
   ]
  },
  {
   "cell_type": "markdown",
   "id": "bcf5a9ae",
   "metadata": {},
   "source": [
    "**Exercício 398**  \n",
    "Dica: Use o dataframe `titanic` (pandas) – pratique contagens, médias, histogramas."
   ]
  },
  {
   "cell_type": "code",
   "execution_count": null,
   "id": "c5a39c03",
   "metadata": {},
   "outputs": [],
   "source": [
    "# Seu código aqui\n"
   ]
  },
  {
   "cell_type": "markdown",
   "id": "1304bf39",
   "metadata": {},
   "source": [
    "**Exercício 399**  \n",
    "Dica: Use o dataframe `titanic` (pandas) – pratique contagens, médias, histogramas."
   ]
  },
  {
   "cell_type": "code",
   "execution_count": null,
   "id": "3aa05167",
   "metadata": {},
   "outputs": [],
   "source": [
    "# Seu código aqui\n"
   ]
  },
  {
   "cell_type": "markdown",
   "id": "eb741269",
   "metadata": {},
   "source": [
    "**Exercício 400**  \n",
    "Dica: Use o dataframe `titanic` (pandas) – pratique contagens, médias, histogramas."
   ]
  },
  {
   "cell_type": "code",
   "execution_count": null,
   "id": "0ae5312f",
   "metadata": {},
   "outputs": [],
   "source": [
    "# Seu código aqui\n"
   ]
  },
  {
   "cell_type": "markdown",
   "id": "dc1d59d8",
   "metadata": {},
   "source": [
    "**Exercício 401**  \n",
    "Dica: Use o dataframe `titanic` (pandas) – pratique contagens, médias, histogramas."
   ]
  },
  {
   "cell_type": "code",
   "execution_count": null,
   "id": "f4b910ba",
   "metadata": {},
   "outputs": [],
   "source": [
    "# Seu código aqui\n"
   ]
  },
  {
   "cell_type": "markdown",
   "id": "455eeeb4",
   "metadata": {},
   "source": [
    "**Exercício 402**  \n",
    "Dica: Use o dataframe `titanic` (pandas) – pratique contagens, médias, histogramas."
   ]
  },
  {
   "cell_type": "code",
   "execution_count": null,
   "id": "ab5aa4d4",
   "metadata": {},
   "outputs": [],
   "source": [
    "# Seu código aqui\n"
   ]
  },
  {
   "cell_type": "markdown",
   "id": "5b56e56b",
   "metadata": {},
   "source": [
    "**Exercício 403**  \n",
    "Dica: Use o dataframe `titanic` (pandas) – pratique contagens, médias, histogramas."
   ]
  },
  {
   "cell_type": "code",
   "execution_count": null,
   "id": "7fc247a3",
   "metadata": {},
   "outputs": [],
   "source": [
    "# Seu código aqui\n"
   ]
  },
  {
   "cell_type": "markdown",
   "id": "b75a6e07",
   "metadata": {},
   "source": [
    "**Exercício 404**  \n",
    "Dica: Use o dataframe `titanic` (pandas) – pratique contagens, médias, histogramas."
   ]
  },
  {
   "cell_type": "code",
   "execution_count": null,
   "id": "bdb165d3",
   "metadata": {},
   "outputs": [],
   "source": [
    "# Seu código aqui\n"
   ]
  },
  {
   "cell_type": "markdown",
   "id": "797a9fe9",
   "metadata": {},
   "source": [
    "**Exercício 405**  \n",
    "Dica: Use o dataframe `titanic` (pandas) – pratique contagens, médias, histogramas."
   ]
  },
  {
   "cell_type": "code",
   "execution_count": null,
   "id": "27320b6a",
   "metadata": {},
   "outputs": [],
   "source": [
    "# Seu código aqui\n"
   ]
  },
  {
   "cell_type": "markdown",
   "id": "b62c1824",
   "metadata": {},
   "source": [
    "**Exercício 406**  \n",
    "Dica: Use o dataframe `titanic` (pandas) – pratique contagens, médias, histogramas."
   ]
  },
  {
   "cell_type": "code",
   "execution_count": null,
   "id": "47a03198",
   "metadata": {},
   "outputs": [],
   "source": [
    "# Seu código aqui\n"
   ]
  },
  {
   "cell_type": "markdown",
   "id": "f50fdaa3",
   "metadata": {},
   "source": [
    "**Exercício 407**  \n",
    "Dica: Use o dataframe `titanic` (pandas) – pratique contagens, médias, histogramas."
   ]
  },
  {
   "cell_type": "code",
   "execution_count": null,
   "id": "3ffaa70b",
   "metadata": {},
   "outputs": [],
   "source": [
    "# Seu código aqui\n"
   ]
  },
  {
   "cell_type": "markdown",
   "id": "3d941e61",
   "metadata": {},
   "source": [
    "**Exercício 408**  \n",
    "Dica: Use o dataframe `titanic` (pandas) – pratique contagens, médias, histogramas."
   ]
  },
  {
   "cell_type": "code",
   "execution_count": null,
   "id": "db061bf0",
   "metadata": {},
   "outputs": [],
   "source": [
    "# Seu código aqui\n"
   ]
  },
  {
   "cell_type": "markdown",
   "id": "79222d5e",
   "metadata": {},
   "source": [
    "**Exercício 409**  \n",
    "Dica: Use o dataframe `titanic` (pandas) – pratique contagens, médias, histogramas."
   ]
  },
  {
   "cell_type": "code",
   "execution_count": null,
   "id": "27d7df8b",
   "metadata": {},
   "outputs": [],
   "source": [
    "# Seu código aqui\n"
   ]
  },
  {
   "cell_type": "markdown",
   "id": "3333118e",
   "metadata": {},
   "source": [
    "**Exercício 410**  \n",
    "Dica: Use o dataframe `titanic` (pandas) – pratique contagens, médias, histogramas."
   ]
  },
  {
   "cell_type": "code",
   "execution_count": null,
   "id": "0856bf64",
   "metadata": {},
   "outputs": [],
   "source": [
    "# Seu código aqui\n"
   ]
  },
  {
   "cell_type": "markdown",
   "id": "3c48ef55",
   "metadata": {},
   "source": [
    "**Exercício 411**  \n",
    "Dica: Use o dataframe `titanic` (pandas) – pratique contagens, médias, histogramas."
   ]
  },
  {
   "cell_type": "code",
   "execution_count": null,
   "id": "8260e4b7",
   "metadata": {},
   "outputs": [],
   "source": [
    "# Seu código aqui\n"
   ]
  },
  {
   "cell_type": "markdown",
   "id": "ed99ab3c",
   "metadata": {},
   "source": [
    "**Exercício 412**  \n",
    "Dica: Use o dataframe `titanic` (pandas) – pratique contagens, médias, histogramas."
   ]
  },
  {
   "cell_type": "code",
   "execution_count": null,
   "id": "e7424592",
   "metadata": {},
   "outputs": [],
   "source": [
    "# Seu código aqui\n"
   ]
  },
  {
   "cell_type": "markdown",
   "id": "0ac69305",
   "metadata": {},
   "source": [
    "**Exercício 413**  \n",
    "Dica: Use o dataframe `titanic` (pandas) – pratique contagens, médias, histogramas."
   ]
  },
  {
   "cell_type": "code",
   "execution_count": null,
   "id": "d38e1715",
   "metadata": {},
   "outputs": [],
   "source": [
    "# Seu código aqui\n"
   ]
  },
  {
   "cell_type": "markdown",
   "id": "2ed741f1",
   "metadata": {},
   "source": [
    "**Exercício 414**  \n",
    "Dica: Use o dataframe `titanic` (pandas) – pratique contagens, médias, histogramas."
   ]
  },
  {
   "cell_type": "code",
   "execution_count": null,
   "id": "55444b6b",
   "metadata": {},
   "outputs": [],
   "source": [
    "# Seu código aqui\n"
   ]
  },
  {
   "cell_type": "markdown",
   "id": "4dd3f504",
   "metadata": {},
   "source": [
    "**Exercício 415**  \n",
    "Dica: Use o dataframe `titanic` (pandas) – pratique contagens, médias, histogramas."
   ]
  },
  {
   "cell_type": "code",
   "execution_count": null,
   "id": "8501adff",
   "metadata": {},
   "outputs": [],
   "source": [
    "# Seu código aqui\n"
   ]
  },
  {
   "cell_type": "markdown",
   "id": "43400fb7",
   "metadata": {},
   "source": [
    "**Exercício 416**  \n",
    "Dica: Use o dataframe `titanic` (pandas) – pratique contagens, médias, histogramas."
   ]
  },
  {
   "cell_type": "code",
   "execution_count": null,
   "id": "83dc37ca",
   "metadata": {},
   "outputs": [],
   "source": [
    "# Seu código aqui\n"
   ]
  },
  {
   "cell_type": "markdown",
   "id": "03bd7025",
   "metadata": {},
   "source": [
    "**Exercício 417**  \n",
    "Dica: Use o dataframe `titanic` (pandas) – pratique contagens, médias, histogramas."
   ]
  },
  {
   "cell_type": "code",
   "execution_count": null,
   "id": "97d14f93",
   "metadata": {},
   "outputs": [],
   "source": [
    "# Seu código aqui\n"
   ]
  },
  {
   "cell_type": "markdown",
   "id": "48ba9671",
   "metadata": {},
   "source": [
    "**Exercício 418**  \n",
    "Dica: Use o dataframe `titanic` (pandas) – pratique contagens, médias, histogramas."
   ]
  },
  {
   "cell_type": "code",
   "execution_count": null,
   "id": "127638d7",
   "metadata": {},
   "outputs": [],
   "source": [
    "# Seu código aqui\n"
   ]
  },
  {
   "cell_type": "markdown",
   "id": "12ebaae1",
   "metadata": {},
   "source": [
    "**Exercício 419**  \n",
    "Dica: Use o dataframe `titanic` (pandas) – pratique contagens, médias, histogramas."
   ]
  },
  {
   "cell_type": "code",
   "execution_count": null,
   "id": "80fcc0b2",
   "metadata": {},
   "outputs": [],
   "source": [
    "# Seu código aqui\n"
   ]
  },
  {
   "cell_type": "markdown",
   "id": "81e13032",
   "metadata": {},
   "source": [
    "**Exercício 420**  \n",
    "Dica: Use o dataframe `titanic` (pandas) – pratique contagens, médias, histogramas."
   ]
  },
  {
   "cell_type": "code",
   "execution_count": null,
   "id": "4accefe0",
   "metadata": {},
   "outputs": [],
   "source": [
    "# Seu código aqui\n"
   ]
  },
  {
   "cell_type": "markdown",
   "id": "b2fe8e8f",
   "metadata": {},
   "source": [
    "**Exercício 421**  \n",
    "Dica: Use o dataframe `titanic` (pandas) – pratique contagens, médias, histogramas."
   ]
  },
  {
   "cell_type": "code",
   "execution_count": null,
   "id": "de6595d5",
   "metadata": {},
   "outputs": [],
   "source": [
    "# Seu código aqui\n"
   ]
  },
  {
   "cell_type": "markdown",
   "id": "590e8774",
   "metadata": {},
   "source": [
    "**Exercício 422**  \n",
    "Dica: Use o dataframe `titanic` (pandas) – pratique contagens, médias, histogramas."
   ]
  },
  {
   "cell_type": "code",
   "execution_count": null,
   "id": "34e8a02f",
   "metadata": {},
   "outputs": [],
   "source": [
    "# Seu código aqui\n"
   ]
  },
  {
   "cell_type": "markdown",
   "id": "4d5e3a2e",
   "metadata": {},
   "source": [
    "**Exercício 423**  \n",
    "Dica: Use o dataframe `titanic` (pandas) – pratique contagens, médias, histogramas."
   ]
  },
  {
   "cell_type": "code",
   "execution_count": null,
   "id": "a5b353e9",
   "metadata": {},
   "outputs": [],
   "source": [
    "# Seu código aqui\n"
   ]
  },
  {
   "cell_type": "markdown",
   "id": "72322cb0",
   "metadata": {},
   "source": [
    "**Exercício 424**  \n",
    "Dica: Use o dataframe `titanic` (pandas) – pratique contagens, médias, histogramas."
   ]
  },
  {
   "cell_type": "code",
   "execution_count": null,
   "id": "9fcd7714",
   "metadata": {},
   "outputs": [],
   "source": [
    "# Seu código aqui\n"
   ]
  },
  {
   "cell_type": "markdown",
   "id": "deea623e",
   "metadata": {},
   "source": [
    "**Exercício 425**  \n",
    "Dica: Use o dataframe `titanic` (pandas) – pratique contagens, médias, histogramas."
   ]
  },
  {
   "cell_type": "code",
   "execution_count": null,
   "id": "5cd88b84",
   "metadata": {},
   "outputs": [],
   "source": [
    "# Seu código aqui\n"
   ]
  },
  {
   "cell_type": "markdown",
   "id": "865ca429",
   "metadata": {},
   "source": [
    "**Exercício 426**  \n",
    "Dica: Use o dataframe `titanic` (pandas) – pratique contagens, médias, histogramas."
   ]
  },
  {
   "cell_type": "code",
   "execution_count": null,
   "id": "54477217",
   "metadata": {},
   "outputs": [],
   "source": [
    "# Seu código aqui\n"
   ]
  },
  {
   "cell_type": "markdown",
   "id": "6f2e1686",
   "metadata": {},
   "source": [
    "**Exercício 427**  \n",
    "Dica: Use o dataframe `titanic` (pandas) – pratique contagens, médias, histogramas."
   ]
  },
  {
   "cell_type": "code",
   "execution_count": null,
   "id": "c3eceab5",
   "metadata": {},
   "outputs": [],
   "source": [
    "# Seu código aqui\n"
   ]
  },
  {
   "cell_type": "markdown",
   "id": "6d01f0fa",
   "metadata": {},
   "source": [
    "**Exercício 428**  \n",
    "Dica: Use o dataframe `titanic` (pandas) – pratique contagens, médias, histogramas."
   ]
  },
  {
   "cell_type": "code",
   "execution_count": null,
   "id": "e6ef7700",
   "metadata": {},
   "outputs": [],
   "source": [
    "# Seu código aqui\n"
   ]
  },
  {
   "cell_type": "markdown",
   "id": "e8ed0adf",
   "metadata": {},
   "source": [
    "**Exercício 429**  \n",
    "Dica: Use o dataframe `titanic` (pandas) – pratique contagens, médias, histogramas."
   ]
  },
  {
   "cell_type": "code",
   "execution_count": null,
   "id": "a75d1537",
   "metadata": {},
   "outputs": [],
   "source": [
    "# Seu código aqui\n"
   ]
  },
  {
   "cell_type": "markdown",
   "id": "dd4cc100",
   "metadata": {},
   "source": [
    "**Exercício 430**  \n",
    "Dica: Use o dataframe `titanic` (pandas) – pratique contagens, médias, histogramas."
   ]
  },
  {
   "cell_type": "code",
   "execution_count": null,
   "id": "f35502a1",
   "metadata": {},
   "outputs": [],
   "source": [
    "# Seu código aqui\n"
   ]
  },
  {
   "cell_type": "markdown",
   "id": "4090f89b",
   "metadata": {},
   "source": [
    "**Exercício 431**  \n",
    "Dica: Use o dataframe `titanic` (pandas) – pratique contagens, médias, histogramas."
   ]
  },
  {
   "cell_type": "code",
   "execution_count": null,
   "id": "4e3f5caf",
   "metadata": {},
   "outputs": [],
   "source": [
    "# Seu código aqui\n"
   ]
  },
  {
   "cell_type": "markdown",
   "id": "918118ff",
   "metadata": {},
   "source": [
    "**Exercício 432**  \n",
    "Dica: Use o dataframe `titanic` (pandas) – pratique contagens, médias, histogramas."
   ]
  },
  {
   "cell_type": "code",
   "execution_count": null,
   "id": "03c5159d",
   "metadata": {},
   "outputs": [],
   "source": [
    "# Seu código aqui\n"
   ]
  },
  {
   "cell_type": "markdown",
   "id": "99ca7a51",
   "metadata": {},
   "source": [
    "**Exercício 433**  \n",
    "Dica: Use o dataframe `titanic` (pandas) – pratique contagens, médias, histogramas."
   ]
  },
  {
   "cell_type": "code",
   "execution_count": null,
   "id": "2e873d5e",
   "metadata": {},
   "outputs": [],
   "source": [
    "# Seu código aqui\n"
   ]
  },
  {
   "cell_type": "markdown",
   "id": "cb0fa9e8",
   "metadata": {},
   "source": [
    "**Exercício 434**  \n",
    "Dica: Use o dataframe `titanic` (pandas) – pratique contagens, médias, histogramas."
   ]
  },
  {
   "cell_type": "code",
   "execution_count": null,
   "id": "19072b9c",
   "metadata": {},
   "outputs": [],
   "source": [
    "# Seu código aqui\n"
   ]
  },
  {
   "cell_type": "markdown",
   "id": "573af070",
   "metadata": {},
   "source": [
    "**Exercício 435**  \n",
    "Dica: Use o dataframe `titanic` (pandas) – pratique contagens, médias, histogramas."
   ]
  },
  {
   "cell_type": "code",
   "execution_count": null,
   "id": "5c996347",
   "metadata": {},
   "outputs": [],
   "source": [
    "# Seu código aqui\n"
   ]
  },
  {
   "cell_type": "markdown",
   "id": "85e49720",
   "metadata": {},
   "source": [
    "**Exercício 436**  \n",
    "Dica: Use o dataframe `titanic` (pandas) – pratique contagens, médias, histogramas."
   ]
  },
  {
   "cell_type": "code",
   "execution_count": null,
   "id": "44c833da",
   "metadata": {},
   "outputs": [],
   "source": [
    "# Seu código aqui\n"
   ]
  },
  {
   "cell_type": "markdown",
   "id": "1e9ef31c",
   "metadata": {},
   "source": [
    "**Exercício 437**  \n",
    "Dica: Use o dataframe `titanic` (pandas) – pratique contagens, médias, histogramas."
   ]
  },
  {
   "cell_type": "code",
   "execution_count": null,
   "id": "777e89eb",
   "metadata": {},
   "outputs": [],
   "source": [
    "# Seu código aqui\n"
   ]
  },
  {
   "cell_type": "markdown",
   "id": "6b71f068",
   "metadata": {},
   "source": [
    "**Exercício 438**  \n",
    "Dica: Use o dataframe `titanic` (pandas) – pratique contagens, médias, histogramas."
   ]
  },
  {
   "cell_type": "code",
   "execution_count": null,
   "id": "3ecb6bcd",
   "metadata": {},
   "outputs": [],
   "source": [
    "# Seu código aqui\n"
   ]
  },
  {
   "cell_type": "markdown",
   "id": "28511728",
   "metadata": {},
   "source": [
    "**Exercício 439**  \n",
    "Dica: Use o dataframe `titanic` (pandas) – pratique contagens, médias, histogramas."
   ]
  },
  {
   "cell_type": "code",
   "execution_count": null,
   "id": "10650675",
   "metadata": {},
   "outputs": [],
   "source": [
    "# Seu código aqui\n"
   ]
  },
  {
   "cell_type": "markdown",
   "id": "96637116",
   "metadata": {},
   "source": [
    "**Exercício 440**  \n",
    "Dica: Use o dataframe `titanic` (pandas) – pratique contagens, médias, histogramas."
   ]
  },
  {
   "cell_type": "code",
   "execution_count": null,
   "id": "96a6e4f6",
   "metadata": {},
   "outputs": [],
   "source": [
    "# Seu código aqui\n"
   ]
  },
  {
   "cell_type": "markdown",
   "id": "00ce3cda",
   "metadata": {},
   "source": [
    "**Exercício 441**  \n",
    "Dica: Use o dataframe `titanic` (pandas) – pratique contagens, médias, histogramas."
   ]
  },
  {
   "cell_type": "code",
   "execution_count": null,
   "id": "98d994a7",
   "metadata": {},
   "outputs": [],
   "source": [
    "# Seu código aqui\n"
   ]
  },
  {
   "cell_type": "markdown",
   "id": "73d4e643",
   "metadata": {},
   "source": [
    "**Exercício 442**  \n",
    "Dica: Use o dataframe `titanic` (pandas) – pratique contagens, médias, histogramas."
   ]
  },
  {
   "cell_type": "code",
   "execution_count": null,
   "id": "bf927b26",
   "metadata": {},
   "outputs": [],
   "source": [
    "# Seu código aqui\n"
   ]
  },
  {
   "cell_type": "markdown",
   "id": "10cce241",
   "metadata": {},
   "source": [
    "**Exercício 443**  \n",
    "Dica: Use o dataframe `titanic` (pandas) – pratique contagens, médias, histogramas."
   ]
  },
  {
   "cell_type": "code",
   "execution_count": null,
   "id": "08b37555",
   "metadata": {},
   "outputs": [],
   "source": [
    "# Seu código aqui\n"
   ]
  },
  {
   "cell_type": "markdown",
   "id": "889f8d9e",
   "metadata": {},
   "source": [
    "**Exercício 444**  \n",
    "Dica: Use o dataframe `titanic` (pandas) – pratique contagens, médias, histogramas."
   ]
  },
  {
   "cell_type": "code",
   "execution_count": null,
   "id": "08db5e1c",
   "metadata": {},
   "outputs": [],
   "source": [
    "# Seu código aqui\n"
   ]
  },
  {
   "cell_type": "markdown",
   "id": "be6b25c9",
   "metadata": {},
   "source": [
    "**Exercício 445**  \n",
    "Dica: Use o dataframe `titanic` (pandas) – pratique contagens, médias, histogramas."
   ]
  },
  {
   "cell_type": "code",
   "execution_count": null,
   "id": "11e69021",
   "metadata": {},
   "outputs": [],
   "source": [
    "# Seu código aqui\n"
   ]
  },
  {
   "cell_type": "markdown",
   "id": "6f75095a",
   "metadata": {},
   "source": [
    "**Exercício 446**  \n",
    "Dica: Use o dataframe `titanic` (pandas) – pratique contagens, médias, histogramas."
   ]
  },
  {
   "cell_type": "code",
   "execution_count": null,
   "id": "97fd6ac0",
   "metadata": {},
   "outputs": [],
   "source": [
    "# Seu código aqui\n"
   ]
  },
  {
   "cell_type": "markdown",
   "id": "8429f551",
   "metadata": {},
   "source": [
    "**Exercício 447**  \n",
    "Dica: Use o dataframe `titanic` (pandas) – pratique contagens, médias, histogramas."
   ]
  },
  {
   "cell_type": "code",
   "execution_count": null,
   "id": "a6a0cb8c",
   "metadata": {},
   "outputs": [],
   "source": [
    "# Seu código aqui\n"
   ]
  },
  {
   "cell_type": "markdown",
   "id": "11d84b3f",
   "metadata": {},
   "source": [
    "**Exercício 448**  \n",
    "Dica: Use o dataframe `titanic` (pandas) – pratique contagens, médias, histogramas."
   ]
  },
  {
   "cell_type": "code",
   "execution_count": null,
   "id": "6919f1f0",
   "metadata": {},
   "outputs": [],
   "source": [
    "# Seu código aqui\n"
   ]
  },
  {
   "cell_type": "markdown",
   "id": "de6d1776",
   "metadata": {},
   "source": [
    "**Exercício 449**  \n",
    "Dica: Use o dataframe `titanic` (pandas) – pratique contagens, médias, histogramas."
   ]
  },
  {
   "cell_type": "code",
   "execution_count": null,
   "id": "eaafbde4",
   "metadata": {},
   "outputs": [],
   "source": [
    "# Seu código aqui\n"
   ]
  },
  {
   "cell_type": "markdown",
   "id": "d8e4a373",
   "metadata": {},
   "source": [
    "**Exercício 450**  \n",
    "Dica: Use o dataframe `titanic` (pandas) – pratique contagens, médias, histogramas."
   ]
  },
  {
   "cell_type": "code",
   "execution_count": null,
   "id": "274a7ebb",
   "metadata": {},
   "outputs": [],
   "source": [
    "# Seu código aqui\n"
   ]
  },
  {
   "cell_type": "markdown",
   "id": "31dc89bf",
   "metadata": {},
   "source": [
    "**Exercício 451**  \n",
    "Dica: Use o dataframe `titanic` (pandas) – pratique contagens, médias, histogramas."
   ]
  },
  {
   "cell_type": "code",
   "execution_count": null,
   "id": "c2b0b14d",
   "metadata": {},
   "outputs": [],
   "source": [
    "# Seu código aqui\n"
   ]
  },
  {
   "cell_type": "markdown",
   "id": "72be68c2",
   "metadata": {},
   "source": [
    "**Exercício 452**  \n",
    "Dica: Use o dataframe `titanic` (pandas) – pratique contagens, médias, histogramas."
   ]
  },
  {
   "cell_type": "code",
   "execution_count": null,
   "id": "957b2af1",
   "metadata": {},
   "outputs": [],
   "source": [
    "# Seu código aqui\n"
   ]
  },
  {
   "cell_type": "markdown",
   "id": "9e89c263",
   "metadata": {},
   "source": [
    "**Exercício 453**  \n",
    "Dica: Use o dataframe `titanic` (pandas) – pratique contagens, médias, histogramas."
   ]
  },
  {
   "cell_type": "code",
   "execution_count": null,
   "id": "8f85ce13",
   "metadata": {},
   "outputs": [],
   "source": [
    "# Seu código aqui\n"
   ]
  },
  {
   "cell_type": "markdown",
   "id": "0af2c90f",
   "metadata": {},
   "source": [
    "**Exercício 454**  \n",
    "Dica: Use o dataframe `titanic` (pandas) – pratique contagens, médias, histogramas."
   ]
  },
  {
   "cell_type": "code",
   "execution_count": null,
   "id": "6d00d821",
   "metadata": {},
   "outputs": [],
   "source": [
    "# Seu código aqui\n"
   ]
  },
  {
   "cell_type": "markdown",
   "id": "eaa8b3c5",
   "metadata": {},
   "source": [
    "**Exercício 455**  \n",
    "Dica: Use o dataframe `titanic` (pandas) – pratique contagens, médias, histogramas."
   ]
  },
  {
   "cell_type": "code",
   "execution_count": null,
   "id": "926bbcaa",
   "metadata": {},
   "outputs": [],
   "source": [
    "# Seu código aqui\n"
   ]
  },
  {
   "cell_type": "markdown",
   "id": "bba99b6f",
   "metadata": {},
   "source": [
    "**Exercício 456**  \n",
    "Dica: Use o dataframe `titanic` (pandas) – pratique contagens, médias, histogramas."
   ]
  },
  {
   "cell_type": "code",
   "execution_count": null,
   "id": "c961ab1f",
   "metadata": {},
   "outputs": [],
   "source": [
    "# Seu código aqui\n"
   ]
  },
  {
   "cell_type": "markdown",
   "id": "24dd2520",
   "metadata": {},
   "source": [
    "**Exercício 457**  \n",
    "Dica: Use o dataframe `titanic` (pandas) – pratique contagens, médias, histogramas."
   ]
  },
  {
   "cell_type": "code",
   "execution_count": null,
   "id": "7000cdf1",
   "metadata": {},
   "outputs": [],
   "source": [
    "# Seu código aqui\n"
   ]
  },
  {
   "cell_type": "markdown",
   "id": "e8eac70c",
   "metadata": {},
   "source": [
    "**Exercício 458**  \n",
    "Dica: Use o dataframe `titanic` (pandas) – pratique contagens, médias, histogramas."
   ]
  },
  {
   "cell_type": "code",
   "execution_count": null,
   "id": "7d826453",
   "metadata": {},
   "outputs": [],
   "source": [
    "# Seu código aqui\n"
   ]
  },
  {
   "cell_type": "markdown",
   "id": "35b746c7",
   "metadata": {},
   "source": [
    "**Exercício 459**  \n",
    "Dica: Use o dataframe `titanic` (pandas) – pratique contagens, médias, histogramas."
   ]
  },
  {
   "cell_type": "code",
   "execution_count": null,
   "id": "d9d56511",
   "metadata": {},
   "outputs": [],
   "source": [
    "# Seu código aqui\n"
   ]
  },
  {
   "cell_type": "markdown",
   "id": "7407bbed",
   "metadata": {},
   "source": [
    "**Exercício 460**  \n",
    "Dica: Use o dataframe `titanic` (pandas) – pratique contagens, médias, histogramas."
   ]
  },
  {
   "cell_type": "code",
   "execution_count": null,
   "id": "cfc02aef",
   "metadata": {},
   "outputs": [],
   "source": [
    "# Seu código aqui\n"
   ]
  },
  {
   "cell_type": "markdown",
   "id": "bcca56ba",
   "metadata": {},
   "source": [
    "**Exercício 461**  \n",
    "Dica: Use o dataframe `titanic` (pandas) – pratique contagens, médias, histogramas."
   ]
  },
  {
   "cell_type": "code",
   "execution_count": null,
   "id": "5756201f",
   "metadata": {},
   "outputs": [],
   "source": [
    "# Seu código aqui\n"
   ]
  },
  {
   "cell_type": "markdown",
   "id": "ffe4a616",
   "metadata": {},
   "source": [
    "**Exercício 462**  \n",
    "Dica: Use o dataframe `titanic` (pandas) – pratique contagens, médias, histogramas."
   ]
  },
  {
   "cell_type": "code",
   "execution_count": null,
   "id": "fc167cd8",
   "metadata": {},
   "outputs": [],
   "source": [
    "# Seu código aqui\n"
   ]
  },
  {
   "cell_type": "markdown",
   "id": "c948d473",
   "metadata": {},
   "source": [
    "**Exercício 463**  \n",
    "Dica: Use o dataframe `titanic` (pandas) – pratique contagens, médias, histogramas."
   ]
  },
  {
   "cell_type": "code",
   "execution_count": null,
   "id": "ee94bc6f",
   "metadata": {},
   "outputs": [],
   "source": [
    "# Seu código aqui\n"
   ]
  },
  {
   "cell_type": "markdown",
   "id": "53ec9d94",
   "metadata": {},
   "source": [
    "**Exercício 464**  \n",
    "Dica: Use o dataframe `titanic` (pandas) – pratique contagens, médias, histogramas."
   ]
  },
  {
   "cell_type": "code",
   "execution_count": null,
   "id": "297d80ef",
   "metadata": {},
   "outputs": [],
   "source": [
    "# Seu código aqui\n"
   ]
  },
  {
   "cell_type": "markdown",
   "id": "3ff60876",
   "metadata": {},
   "source": [
    "**Exercício 465**  \n",
    "Dica: Use o dataframe `titanic` (pandas) – pratique contagens, médias, histogramas."
   ]
  },
  {
   "cell_type": "code",
   "execution_count": null,
   "id": "609770e9",
   "metadata": {},
   "outputs": [],
   "source": [
    "# Seu código aqui\n"
   ]
  },
  {
   "cell_type": "markdown",
   "id": "41f7e1ba",
   "metadata": {},
   "source": [
    "**Exercício 466**  \n",
    "Dica: Use o dataframe `titanic` (pandas) – pratique contagens, médias, histogramas."
   ]
  },
  {
   "cell_type": "code",
   "execution_count": null,
   "id": "c1bbb315",
   "metadata": {},
   "outputs": [],
   "source": [
    "# Seu código aqui\n"
   ]
  },
  {
   "cell_type": "markdown",
   "id": "11125840",
   "metadata": {},
   "source": [
    "**Exercício 467**  \n",
    "Dica: Use o dataframe `titanic` (pandas) – pratique contagens, médias, histogramas."
   ]
  },
  {
   "cell_type": "code",
   "execution_count": null,
   "id": "3d59a06c",
   "metadata": {},
   "outputs": [],
   "source": [
    "# Seu código aqui\n"
   ]
  },
  {
   "cell_type": "markdown",
   "id": "a2bdee65",
   "metadata": {},
   "source": [
    "**Exercício 468**  \n",
    "Dica: Use o dataframe `titanic` (pandas) – pratique contagens, médias, histogramas."
   ]
  },
  {
   "cell_type": "code",
   "execution_count": null,
   "id": "b1d998ad",
   "metadata": {},
   "outputs": [],
   "source": [
    "# Seu código aqui\n"
   ]
  },
  {
   "cell_type": "markdown",
   "id": "ec3cdd90",
   "metadata": {},
   "source": [
    "**Exercício 469**  \n",
    "Dica: Use o dataframe `titanic` (pandas) – pratique contagens, médias, histogramas."
   ]
  },
  {
   "cell_type": "code",
   "execution_count": null,
   "id": "7747f078",
   "metadata": {},
   "outputs": [],
   "source": [
    "# Seu código aqui\n"
   ]
  },
  {
   "cell_type": "markdown",
   "id": "378a7e17",
   "metadata": {},
   "source": [
    "**Exercício 470**  \n",
    "Dica: Use o dataframe `titanic` (pandas) – pratique contagens, médias, histogramas."
   ]
  },
  {
   "cell_type": "code",
   "execution_count": null,
   "id": "3391dd37",
   "metadata": {},
   "outputs": [],
   "source": [
    "# Seu código aqui\n"
   ]
  },
  {
   "cell_type": "markdown",
   "id": "c1158419",
   "metadata": {},
   "source": [
    "**Exercício 471**  \n",
    "Dica: Use o dataframe `titanic` (pandas) – pratique contagens, médias, histogramas."
   ]
  },
  {
   "cell_type": "code",
   "execution_count": null,
   "id": "a501f542",
   "metadata": {},
   "outputs": [],
   "source": [
    "# Seu código aqui\n"
   ]
  },
  {
   "cell_type": "markdown",
   "id": "ac7fe3b8",
   "metadata": {},
   "source": [
    "**Exercício 472**  \n",
    "Dica: Use o dataframe `titanic` (pandas) – pratique contagens, médias, histogramas."
   ]
  },
  {
   "cell_type": "code",
   "execution_count": null,
   "id": "ca889154",
   "metadata": {},
   "outputs": [],
   "source": [
    "# Seu código aqui\n"
   ]
  },
  {
   "cell_type": "markdown",
   "id": "4491181c",
   "metadata": {},
   "source": [
    "**Exercício 473**  \n",
    "Dica: Use o dataframe `titanic` (pandas) – pratique contagens, médias, histogramas."
   ]
  },
  {
   "cell_type": "code",
   "execution_count": null,
   "id": "fb2185d8",
   "metadata": {},
   "outputs": [],
   "source": [
    "# Seu código aqui\n"
   ]
  },
  {
   "cell_type": "markdown",
   "id": "9dff2afe",
   "metadata": {},
   "source": [
    "**Exercício 474**  \n",
    "Dica: Use o dataframe `titanic` (pandas) – pratique contagens, médias, histogramas."
   ]
  },
  {
   "cell_type": "code",
   "execution_count": null,
   "id": "54a3d813",
   "metadata": {},
   "outputs": [],
   "source": [
    "# Seu código aqui\n"
   ]
  },
  {
   "cell_type": "markdown",
   "id": "a7533b7b",
   "metadata": {},
   "source": [
    "**Exercício 475**  \n",
    "Dica: Use o dataframe `titanic` (pandas) – pratique contagens, médias, histogramas."
   ]
  },
  {
   "cell_type": "code",
   "execution_count": null,
   "id": "bace8d1d",
   "metadata": {},
   "outputs": [],
   "source": [
    "# Seu código aqui\n"
   ]
  },
  {
   "cell_type": "markdown",
   "id": "f77693ac",
   "metadata": {},
   "source": [
    "**Exercício 476**  \n",
    "Dica: Use o dataframe `titanic` (pandas) – pratique contagens, médias, histogramas."
   ]
  },
  {
   "cell_type": "code",
   "execution_count": null,
   "id": "1fd689d7",
   "metadata": {},
   "outputs": [],
   "source": [
    "# Seu código aqui\n"
   ]
  },
  {
   "cell_type": "markdown",
   "id": "a5251866",
   "metadata": {},
   "source": [
    "**Exercício 477**  \n",
    "Dica: Use o dataframe `titanic` (pandas) – pratique contagens, médias, histogramas."
   ]
  },
  {
   "cell_type": "code",
   "execution_count": null,
   "id": "5d4ff4ba",
   "metadata": {},
   "outputs": [],
   "source": [
    "# Seu código aqui\n"
   ]
  },
  {
   "cell_type": "markdown",
   "id": "97a24b48",
   "metadata": {},
   "source": [
    "**Exercício 478**  \n",
    "Dica: Use o dataframe `titanic` (pandas) – pratique contagens, médias, histogramas."
   ]
  },
  {
   "cell_type": "code",
   "execution_count": null,
   "id": "782e9833",
   "metadata": {},
   "outputs": [],
   "source": [
    "# Seu código aqui\n"
   ]
  },
  {
   "cell_type": "markdown",
   "id": "d81fa846",
   "metadata": {},
   "source": [
    "**Exercício 479**  \n",
    "Dica: Use o dataframe `titanic` (pandas) – pratique contagens, médias, histogramas."
   ]
  },
  {
   "cell_type": "code",
   "execution_count": null,
   "id": "370884dc",
   "metadata": {},
   "outputs": [],
   "source": [
    "# Seu código aqui\n"
   ]
  },
  {
   "cell_type": "markdown",
   "id": "2a129d49",
   "metadata": {},
   "source": [
    "**Exercício 480**  \n",
    "Dica: Use o dataframe `titanic` (pandas) – pratique contagens, médias, histogramas."
   ]
  },
  {
   "cell_type": "code",
   "execution_count": null,
   "id": "16fc94fc",
   "metadata": {},
   "outputs": [],
   "source": [
    "# Seu código aqui\n"
   ]
  },
  {
   "cell_type": "markdown",
   "id": "fbf61a6d",
   "metadata": {},
   "source": [
    "**Exercício 481**  \n",
    "Dica: Use o dataframe `titanic` (pandas) – pratique contagens, médias, histogramas."
   ]
  },
  {
   "cell_type": "code",
   "execution_count": null,
   "id": "0019570a",
   "metadata": {},
   "outputs": [],
   "source": [
    "# Seu código aqui\n"
   ]
  },
  {
   "cell_type": "markdown",
   "id": "8d94ebeb",
   "metadata": {},
   "source": [
    "**Exercício 482**  \n",
    "Dica: Use o dataframe `titanic` (pandas) – pratique contagens, médias, histogramas."
   ]
  },
  {
   "cell_type": "code",
   "execution_count": null,
   "id": "1a61b1f5",
   "metadata": {},
   "outputs": [],
   "source": [
    "# Seu código aqui\n"
   ]
  },
  {
   "cell_type": "markdown",
   "id": "48dbdeb0",
   "metadata": {},
   "source": [
    "**Exercício 483**  \n",
    "Dica: Use o dataframe `titanic` (pandas) – pratique contagens, médias, histogramas."
   ]
  },
  {
   "cell_type": "code",
   "execution_count": null,
   "id": "7b36af4a",
   "metadata": {},
   "outputs": [],
   "source": [
    "# Seu código aqui\n"
   ]
  },
  {
   "cell_type": "markdown",
   "id": "8e443ed4",
   "metadata": {},
   "source": [
    "**Exercício 484**  \n",
    "Dica: Use o dataframe `titanic` (pandas) – pratique contagens, médias, histogramas."
   ]
  },
  {
   "cell_type": "code",
   "execution_count": null,
   "id": "d2db207b",
   "metadata": {},
   "outputs": [],
   "source": [
    "# Seu código aqui\n"
   ]
  },
  {
   "cell_type": "markdown",
   "id": "d5182051",
   "metadata": {},
   "source": [
    "**Exercício 485**  \n",
    "Dica: Use o dataframe `titanic` (pandas) – pratique contagens, médias, histogramas."
   ]
  },
  {
   "cell_type": "code",
   "execution_count": null,
   "id": "0989a2b0",
   "metadata": {},
   "outputs": [],
   "source": [
    "# Seu código aqui\n"
   ]
  },
  {
   "cell_type": "markdown",
   "id": "3693bb01",
   "metadata": {},
   "source": [
    "**Exercício 486**  \n",
    "Dica: Use o dataframe `titanic` (pandas) – pratique contagens, médias, histogramas."
   ]
  },
  {
   "cell_type": "code",
   "execution_count": null,
   "id": "50e8cbb7",
   "metadata": {},
   "outputs": [],
   "source": [
    "# Seu código aqui\n"
   ]
  },
  {
   "cell_type": "markdown",
   "id": "c9a0670c",
   "metadata": {},
   "source": [
    "**Exercício 487**  \n",
    "Dica: Use o dataframe `titanic` (pandas) – pratique contagens, médias, histogramas."
   ]
  },
  {
   "cell_type": "code",
   "execution_count": null,
   "id": "1e8f1a6c",
   "metadata": {},
   "outputs": [],
   "source": [
    "# Seu código aqui\n"
   ]
  },
  {
   "cell_type": "markdown",
   "id": "b1a4a081",
   "metadata": {},
   "source": [
    "**Exercício 488**  \n",
    "Dica: Use o dataframe `titanic` (pandas) – pratique contagens, médias, histogramas."
   ]
  },
  {
   "cell_type": "code",
   "execution_count": null,
   "id": "dd299c60",
   "metadata": {},
   "outputs": [],
   "source": [
    "# Seu código aqui\n"
   ]
  },
  {
   "cell_type": "markdown",
   "id": "f354518d",
   "metadata": {},
   "source": [
    "**Exercício 489**  \n",
    "Dica: Use o dataframe `titanic` (pandas) – pratique contagens, médias, histogramas."
   ]
  },
  {
   "cell_type": "code",
   "execution_count": null,
   "id": "64a2e077",
   "metadata": {},
   "outputs": [],
   "source": [
    "# Seu código aqui\n"
   ]
  },
  {
   "cell_type": "markdown",
   "id": "bcc83594",
   "metadata": {},
   "source": [
    "**Exercício 490**  \n",
    "Dica: Use o dataframe `titanic` (pandas) – pratique contagens, médias, histogramas."
   ]
  },
  {
   "cell_type": "code",
   "execution_count": null,
   "id": "f4428e71",
   "metadata": {},
   "outputs": [],
   "source": [
    "# Seu código aqui\n"
   ]
  },
  {
   "cell_type": "markdown",
   "id": "1b9d1549",
   "metadata": {},
   "source": [
    "**Exercício 491**  \n",
    "Dica: Use o dataframe `titanic` (pandas) – pratique contagens, médias, histogramas."
   ]
  },
  {
   "cell_type": "code",
   "execution_count": null,
   "id": "af80ce1d",
   "metadata": {},
   "outputs": [],
   "source": [
    "# Seu código aqui\n"
   ]
  },
  {
   "cell_type": "markdown",
   "id": "15d31085",
   "metadata": {},
   "source": [
    "**Exercício 492**  \n",
    "Dica: Use o dataframe `titanic` (pandas) – pratique contagens, médias, histogramas."
   ]
  },
  {
   "cell_type": "code",
   "execution_count": null,
   "id": "6e90cbd3",
   "metadata": {},
   "outputs": [],
   "source": [
    "# Seu código aqui\n"
   ]
  },
  {
   "cell_type": "markdown",
   "id": "1a02d434",
   "metadata": {},
   "source": [
    "**Exercício 493**  \n",
    "Dica: Use o dataframe `titanic` (pandas) – pratique contagens, médias, histogramas."
   ]
  },
  {
   "cell_type": "code",
   "execution_count": null,
   "id": "9601c427",
   "metadata": {},
   "outputs": [],
   "source": [
    "# Seu código aqui\n"
   ]
  },
  {
   "cell_type": "markdown",
   "id": "a9be280e",
   "metadata": {},
   "source": [
    "**Exercício 494**  \n",
    "Dica: Use o dataframe `titanic` (pandas) – pratique contagens, médias, histogramas."
   ]
  },
  {
   "cell_type": "code",
   "execution_count": null,
   "id": "bcb341fc",
   "metadata": {},
   "outputs": [],
   "source": [
    "# Seu código aqui\n"
   ]
  },
  {
   "cell_type": "markdown",
   "id": "374ae225",
   "metadata": {},
   "source": [
    "**Exercício 495**  \n",
    "Dica: Use o dataframe `titanic` (pandas) – pratique contagens, médias, histogramas."
   ]
  },
  {
   "cell_type": "code",
   "execution_count": null,
   "id": "864c73b0",
   "metadata": {},
   "outputs": [],
   "source": [
    "# Seu código aqui\n"
   ]
  },
  {
   "cell_type": "markdown",
   "id": "cb5c0243",
   "metadata": {},
   "source": [
    "**Exercício 496**  \n",
    "Dica: Use o dataframe `titanic` (pandas) – pratique contagens, médias, histogramas."
   ]
  },
  {
   "cell_type": "code",
   "execution_count": null,
   "id": "f7d10695",
   "metadata": {},
   "outputs": [],
   "source": [
    "# Seu código aqui\n"
   ]
  },
  {
   "cell_type": "markdown",
   "id": "2f1c730d",
   "metadata": {},
   "source": [
    "**Exercício 497**  \n",
    "Dica: Use o dataframe `titanic` (pandas) – pratique contagens, médias, histogramas."
   ]
  },
  {
   "cell_type": "code",
   "execution_count": null,
   "id": "bf77aca8",
   "metadata": {},
   "outputs": [],
   "source": [
    "# Seu código aqui\n"
   ]
  },
  {
   "cell_type": "markdown",
   "id": "c7cdb1d1",
   "metadata": {},
   "source": [
    "**Exercício 498**  \n",
    "Dica: Use o dataframe `titanic` (pandas) – pratique contagens, médias, histogramas."
   ]
  },
  {
   "cell_type": "code",
   "execution_count": null,
   "id": "3585af54",
   "metadata": {},
   "outputs": [],
   "source": [
    "# Seu código aqui\n"
   ]
  },
  {
   "cell_type": "markdown",
   "id": "d9299c6f",
   "metadata": {},
   "source": [
    "**Exercício 499**  \n",
    "Dica: Use o dataframe `titanic` (pandas) – pratique contagens, médias, histogramas."
   ]
  },
  {
   "cell_type": "code",
   "execution_count": null,
   "id": "09f249cb",
   "metadata": {},
   "outputs": [],
   "source": [
    "# Seu código aqui\n"
   ]
  },
  {
   "cell_type": "markdown",
   "id": "d3364bb7",
   "metadata": {},
   "source": [
    "**Exercício 500**  \n",
    "Dica: Use o dataframe `titanic` (pandas) – pratique contagens, médias, histogramas."
   ]
  },
  {
   "cell_type": "code",
   "execution_count": null,
   "id": "fa6b5c1e",
   "metadata": {},
   "outputs": [],
   "source": [
    "# Seu código aqui\n"
   ]
  }
 ],
 "metadata": {},
 "nbformat": 4,
 "nbformat_minor": 5
}
