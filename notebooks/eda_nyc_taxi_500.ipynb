{
 "cells": [
  {
   "cell_type": "markdown",
   "id": "22b780e6",
   "metadata": {},
   "source": [
    "# EDA NYC Taxi – 500 Exercícios Avançados\n",
    "_Generated 2025-07-15_\n",
    "\n",
    "Dataset: **NYC Taxi & Limousine Commission Trip Records** — baixe CSV/Parquet anual em <https://www.nyc.gov/site/tlc/about/tlc-trip-record-data.page>.\n",
    "Para praticar sem sobrecarregar memória, amostre ~100k linhas."
   ]
  },
  {
   "cell_type": "code",
   "execution_count": null,
   "id": "254fb7ef",
   "metadata": {},
   "outputs": [],
   "source": [
    "import pandas as pd, numpy as np, seaborn as sns, matplotlib.pyplot as plt\n",
    "from sklearn.preprocessing import StandardScaler\n",
    "from umap import UMAP\n",
    "import hdbscan, networkx as nx\n",
    "from mlxtend.frequent_patterns import apriori, association_rules\n",
    "sns.set_theme()\n",
    "# df = pd.read_parquet('yellow_tripdata_2023-01.parquet').sample(100000)  # exemplo\n",
    "df = None  # Carregue seu DataFrame aqui\n"
   ]
  },
  {
   "cell_type": "markdown",
   "id": "040d4fae",
   "metadata": {},
   "source": [
    "## Carregamento & Amostra"
   ]
  },
  {
   "cell_type": "markdown",
   "id": "a79d71ac",
   "metadata": {},
   "source": [
    "**Carregue um sample de 100k linhas do dataset NYC Taxi em `df`.**"
   ]
  },
  {
   "cell_type": "code",
   "execution_count": null,
   "id": "5e86da3d",
   "metadata": {},
   "outputs": [],
   "source": [
    "# Seu código aqui\n"
   ]
  },
  {
   "cell_type": "markdown",
   "id": "38996f06",
   "metadata": {},
   "source": [
    "**Mostre as 5 primeiras linhas e `df.info()`.**"
   ]
  },
  {
   "cell_type": "code",
   "execution_count": null,
   "id": "df9185f1",
   "metadata": {},
   "outputs": [],
   "source": [
    "# Seu código aqui\n"
   ]
  },
  {
   "cell_type": "markdown",
   "id": "cf47762e",
   "metadata": {},
   "source": [
    "**Converta `dropoff_datetime` para datetime e defina como índice.**"
   ]
  },
  {
   "cell_type": "code",
   "execution_count": null,
   "id": "8d94dd92",
   "metadata": {},
   "outputs": [],
   "source": [
    "# Seu código aqui\n"
   ]
  },
  {
   "cell_type": "markdown",
   "id": "2146d520",
   "metadata": {},
   "source": [
    "**Quantos anos de dados estão presentes em `pickup_datetime`?**"
   ]
  },
  {
   "cell_type": "code",
   "execution_count": null,
   "id": "8be45bca",
   "metadata": {},
   "outputs": [],
   "source": [
    "# Seu código aqui\n"
   ]
  },
  {
   "cell_type": "markdown",
   "id": "6a02cb08",
   "metadata": {},
   "source": [
    "**Mostre as colunas numéricas e sua contagem de valores não nulos.**"
   ]
  },
  {
   "cell_type": "code",
   "execution_count": null,
   "id": "cde57cd0",
   "metadata": {},
   "outputs": [],
   "source": [
    "# Seu código aqui\n"
   ]
  },
  {
   "cell_type": "markdown",
   "id": "2d1b3a94",
   "metadata": {},
   "source": [
    "## Estatística Avançada"
   ]
  },
  {
   "cell_type": "markdown",
   "id": "e3d20ebb",
   "metadata": {},
   "source": [
    "**Calcule quantil 95 de `dropoff_latitude`.**"
   ]
  },
  {
   "cell_type": "code",
   "execution_count": null,
   "id": "94b43993",
   "metadata": {},
   "outputs": [],
   "source": [
    "# Seu código aqui\n"
   ]
  },
  {
   "cell_type": "markdown",
   "id": "321f4fd2",
   "metadata": {},
   "source": [
    "**Compare média e mediana de `dropoff_latitude` para detectar skew.**"
   ]
  },
  {
   "cell_type": "code",
   "execution_count": null,
   "id": "148e37ba",
   "metadata": {},
   "outputs": [],
   "source": [
    "# Seu código aqui\n"
   ]
  },
  {
   "cell_type": "markdown",
   "id": "54e7f90a",
   "metadata": {},
   "source": [
    "**Encontre valor máximo de `fare_amount` e mostre a linha correspondente.**"
   ]
  },
  {
   "cell_type": "code",
   "execution_count": null,
   "id": "304e856a",
   "metadata": {},
   "outputs": [],
   "source": [
    "# Seu código aqui\n"
   ]
  },
  {
   "cell_type": "markdown",
   "id": "6c7c89a7",
   "metadata": {},
   "source": [
    "**Compute IQR de `pickup_latitude` e defina limites de outlier.**"
   ]
  },
  {
   "cell_type": "code",
   "execution_count": null,
   "id": "6b8c1982",
   "metadata": {},
   "outputs": [],
   "source": [
    "# Seu código aqui\n"
   ]
  },
  {
   "cell_type": "markdown",
   "id": "01251214",
   "metadata": {},
   "source": [
    "**Conte passageiros (`passenger_count`) > 4.**"
   ]
  },
  {
   "cell_type": "code",
   "execution_count": null,
   "id": "6fb90b5a",
   "metadata": {},
   "outputs": [],
   "source": [
    "# Seu código aqui\n"
   ]
  },
  {
   "cell_type": "markdown",
   "id": "33ec9d03",
   "metadata": {},
   "source": [
    "## Visualização Temporal"
   ]
  },
  {
   "cell_type": "markdown",
   "id": "086fd445",
   "metadata": {},
   "source": [
    "**Plote série mensal da média de `pickup_longitude`.**"
   ]
  },
  {
   "cell_type": "code",
   "execution_count": null,
   "id": "f00f1822",
   "metadata": {},
   "outputs": [],
   "source": [
    "# Seu código aqui\n"
   ]
  },
  {
   "cell_type": "markdown",
   "id": "70925899",
   "metadata": {},
   "source": [
    "**Crie gráfico de heatmap dia da semana vs hora para média de `dropoff_latitude`.**"
   ]
  },
  {
   "cell_type": "code",
   "execution_count": null,
   "id": "8cd88f7a",
   "metadata": {},
   "outputs": [],
   "source": [
    "# Seu código aqui\n"
   ]
  },
  {
   "cell_type": "markdown",
   "id": "bad34591",
   "metadata": {},
   "source": [
    "**Desenhe boxplot de `tip_amount` por hora do dia.**"
   ]
  },
  {
   "cell_type": "code",
   "execution_count": null,
   "id": "0d8dc42f",
   "metadata": {},
   "outputs": [],
   "source": [
    "# Seu código aqui\n"
   ]
  },
  {
   "cell_type": "markdown",
   "id": "4c244427",
   "metadata": {},
   "source": [
    "**Crie gráficos de rolling mean (window=30d) para `total_amount`.**"
   ]
  },
  {
   "cell_type": "code",
   "execution_count": null,
   "id": "22b559c1",
   "metadata": {},
   "outputs": [],
   "source": [
    "# Seu código aqui\n"
   ]
  },
  {
   "cell_type": "markdown",
   "id": "55afa6e4",
   "metadata": {},
   "source": [
    "**Exiba autocorrelação parcial (PACF) de `fare_amount` agregado diário.**"
   ]
  },
  {
   "cell_type": "code",
   "execution_count": null,
   "id": "749cf8ee",
   "metadata": {},
   "outputs": [],
   "source": [
    "# Seu código aqui\n"
   ]
  },
  {
   "cell_type": "markdown",
   "id": "8b252bde",
   "metadata": {},
   "source": [
    "## Geoespacial"
   ]
  },
  {
   "cell_type": "markdown",
   "id": "a799daf2",
   "metadata": {},
   "source": [
    "**Plote um scatter dos pickups longitude/latitude amostrados (10k) sobre mapa simples.**"
   ]
  },
  {
   "cell_type": "code",
   "execution_count": null,
   "id": "51911f75",
   "metadata": {},
   "outputs": [],
   "source": [
    "# Seu código aqui\n"
   ]
  },
  {
   "cell_type": "markdown",
   "id": "48107e67",
   "metadata": {},
   "source": [
    "**Crie hexbin map da densidade de pickups.**"
   ]
  },
  {
   "cell_type": "code",
   "execution_count": null,
   "id": "df25d9a1",
   "metadata": {},
   "outputs": [],
   "source": [
    "# Seu código aqui\n"
   ]
  },
  {
   "cell_type": "markdown",
   "id": "80854141",
   "metadata": {},
   "source": [
    "**Calcule distância haversine entre pickup e dropoff.**"
   ]
  },
  {
   "cell_type": "code",
   "execution_count": null,
   "id": "1f436b3e",
   "metadata": {},
   "outputs": [],
   "source": [
    "# Seu código aqui\n"
   ]
  },
  {
   "cell_type": "markdown",
   "id": "aa6cc70d",
   "metadata": {},
   "source": [
    "**Agrupe por borough e calcule média de `pickup_latitude`.**"
   ]
  },
  {
   "cell_type": "code",
   "execution_count": null,
   "id": "977cd44f",
   "metadata": {},
   "outputs": [],
   "source": [
    "# Seu código aqui\n"
   ]
  },
  {
   "cell_type": "markdown",
   "id": "d7511491",
   "metadata": {},
   "source": [
    "**Desenhe choropleth de valor médio de `fare_amount` por borough.**"
   ]
  },
  {
   "cell_type": "code",
   "execution_count": null,
   "id": "4089f623",
   "metadata": {},
   "outputs": [],
   "source": [
    "# Seu código aqui\n"
   ]
  },
  {
   "cell_type": "markdown",
   "id": "4cdbbb40",
   "metadata": {},
   "source": [
    "## UMAP + HDBSCAN"
   ]
  },
  {
   "cell_type": "markdown",
   "id": "029ccf5d",
   "metadata": {},
   "source": [
    "**Selecione `fare_amount`, `total_amount`, `passenger_count` e reduza dimensão para 2‑D com UMAP.**"
   ]
  },
  {
   "cell_type": "code",
   "execution_count": null,
   "id": "bc0a45b5",
   "metadata": {},
   "outputs": [],
   "source": [
    "# Seu código aqui\n"
   ]
  },
  {
   "cell_type": "markdown",
   "id": "8f16afb8",
   "metadata": {},
   "source": [
    "**Clusterize embedding com HDBSCAN; quantos clusters rótulo != ‑1 existem?**"
   ]
  },
  {
   "cell_type": "code",
   "execution_count": null,
   "id": "140280bd",
   "metadata": {},
   "outputs": [],
   "source": [
    "# Seu código aqui\n"
   ]
  },
  {
   "cell_type": "markdown",
   "id": "51b33dab",
   "metadata": {},
   "source": [
    "**Plote embedding colorido pelos clusters.**"
   ]
  },
  {
   "cell_type": "code",
   "execution_count": null,
   "id": "e0eb74ed",
   "metadata": {},
   "outputs": [],
   "source": [
    "# Seu código aqui\n"
   ]
  },
  {
   "cell_type": "markdown",
   "id": "6ce73518",
   "metadata": {},
   "source": [
    "**Verifique distribuição de `payment_type` por cluster.**"
   ]
  },
  {
   "cell_type": "code",
   "execution_count": null,
   "id": "454e3ea5",
   "metadata": {},
   "outputs": [],
   "source": [
    "# Seu código aqui\n"
   ]
  },
  {
   "cell_type": "markdown",
   "id": "1b32c426",
   "metadata": {},
   "source": [
    "**Explique significado possível do cluster com maior média de `tip_amount`.**"
   ]
  },
  {
   "cell_type": "code",
   "execution_count": null,
   "id": "c1788b9f",
   "metadata": {},
   "outputs": [],
   "source": [
    "# Seu código aqui\n"
   ]
  },
  {
   "cell_type": "markdown",
   "id": "1f7a1c99",
   "metadata": {},
   "source": [
    "## Grafos & Centralidade"
   ]
  },
  {
   "cell_type": "markdown",
   "id": "82bb8355",
   "metadata": {},
   "source": [
    "**Construa grafo onde nós são boroughs com arestas quando passageiros viajam entre eles.**"
   ]
  },
  {
   "cell_type": "code",
   "execution_count": null,
   "id": "2c39f1b0",
   "metadata": {},
   "outputs": [],
   "source": [
    "# Seu código aqui\n"
   ]
  },
  {
   "cell_type": "markdown",
   "id": "73f475b0",
   "metadata": {},
   "source": [
    "**Calcule grau e PageRank de cada borough.**"
   ]
  },
  {
   "cell_type": "code",
   "execution_count": null,
   "id": "01e8d486",
   "metadata": {},
   "outputs": [],
   "source": [
    "# Seu código aqui\n"
   ]
  },
  {
   "cell_type": "markdown",
   "id": "aa35a104",
   "metadata": {},
   "source": [
    "**Liste top 3 boroughs por PageRank.**"
   ]
  },
  {
   "cell_type": "code",
   "execution_count": null,
   "id": "b851b530",
   "metadata": {},
   "outputs": [],
   "source": [
    "# Seu código aqui\n"
   ]
  },
  {
   "cell_type": "markdown",
   "id": "41b3af20",
   "metadata": {},
   "source": [
    "**Plote grafo com pesos proporcionais à contagem de viagens.**"
   ]
  },
  {
   "cell_type": "code",
   "execution_count": null,
   "id": "296f4648",
   "metadata": {},
   "outputs": [],
   "source": [
    "# Seu código aqui\n"
   ]
  },
  {
   "cell_type": "markdown",
   "id": "e35296db",
   "metadata": {},
   "source": [
    "**Discuta hub‑ness vs densidade populacional.**"
   ]
  },
  {
   "cell_type": "code",
   "execution_count": null,
   "id": "3a89ec86",
   "metadata": {},
   "outputs": [],
   "source": [
    "# Seu código aqui\n"
   ]
  },
  {
   "cell_type": "markdown",
   "id": "b1b8e3f4",
   "metadata": {},
   "source": [
    "## Regras de Associação"
   ]
  },
  {
   "cell_type": "markdown",
   "id": "0959d385",
   "metadata": {},
   "source": [
    "**Discretize `trip_distance` em bins curtos/longos e crie dummies.**"
   ]
  },
  {
   "cell_type": "code",
   "execution_count": null,
   "id": "2e6501ab",
   "metadata": {},
   "outputs": [],
   "source": [
    "# Seu código aqui\n"
   ]
  },
  {
   "cell_type": "markdown",
   "id": "bbf720dd",
   "metadata": {},
   "source": [
    "**Gere DataFrame one‑hot de `pickup_borough` + bins criados.**"
   ]
  },
  {
   "cell_type": "code",
   "execution_count": null,
   "id": "78c4385f",
   "metadata": {},
   "outputs": [],
   "source": [
    "# Seu código aqui\n"
   ]
  },
  {
   "cell_type": "markdown",
   "id": "94d49340",
   "metadata": {},
   "source": [
    "**Execute Apriori (min_support=0.02) e derive regras (lift>1.3).**"
   ]
  },
  {
   "cell_type": "code",
   "execution_count": null,
   "id": "c863214e",
   "metadata": {},
   "outputs": [],
   "source": [
    "# Seu código aqui\n"
   ]
  },
  {
   "cell_type": "markdown",
   "id": "26bc4544",
   "metadata": {},
   "source": [
    "**Mostre top 5 regras ordenadas por lift.**"
   ]
  },
  {
   "cell_type": "code",
   "execution_count": null,
   "id": "d70268c2",
   "metadata": {},
   "outputs": [],
   "source": [
    "# Seu código aqui\n"
   ]
  },
  {
   "cell_type": "markdown",
   "id": "0d80906c",
   "metadata": {},
   "source": [
    "**Interprete regra com maior confiança.**"
   ]
  },
  {
   "cell_type": "code",
   "execution_count": null,
   "id": "3a33270a",
   "metadata": {},
   "outputs": [],
   "source": [
    "# Seu código aqui\n"
   ]
  },
  {
   "cell_type": "markdown",
   "id": "c4fd9156",
   "metadata": {},
   "source": [
    "## Anomaly & Outlier Detection"
   ]
  },
  {
   "cell_type": "markdown",
   "id": "24e6f0e8",
   "metadata": {},
   "source": [
    "**Use DBSCAN em `trip_distance` vs `fare_amount` para detectar outliers.**"
   ]
  },
  {
   "cell_type": "code",
   "execution_count": null,
   "id": "f3adcb1d",
   "metadata": {},
   "outputs": [],
   "source": [
    "# Seu código aqui\n"
   ]
  },
  {
   "cell_type": "markdown",
   "id": "47106baf",
   "metadata": {},
   "source": [
    "**Conte quantas viagens têm `fare_amount` < 0.**"
   ]
  },
  {
   "cell_type": "code",
   "execution_count": null,
   "id": "c9145efc",
   "metadata": {},
   "outputs": [],
   "source": [
    "# Seu código aqui\n"
   ]
  },
  {
   "cell_type": "markdown",
   "id": "be482b35",
   "metadata": {},
   "source": [
    "**Crie boxplot de `tip_amount` para encontrar valores extremos.**"
   ]
  },
  {
   "cell_type": "code",
   "execution_count": null,
   "id": "b9175606",
   "metadata": {},
   "outputs": [],
   "source": [
    "# Seu código aqui\n"
   ]
  },
  {
   "cell_type": "markdown",
   "id": "8386bbb6",
   "metadata": {},
   "source": [
    "**Marque viagens com distância > 100 km como anômalas.**"
   ]
  },
  {
   "cell_type": "code",
   "execution_count": null,
   "id": "31bfaff1",
   "metadata": {},
   "outputs": [],
   "source": [
    "# Seu código aqui\n"
   ]
  },
  {
   "cell_type": "markdown",
   "id": "952915cd",
   "metadata": {},
   "source": [
    "**Visualize anômalas sobre mapa scatter vermelho.**"
   ]
  },
  {
   "cell_type": "code",
   "execution_count": null,
   "id": "f8198521",
   "metadata": {},
   "outputs": [],
   "source": [
    "# Seu código aqui\n"
   ]
  },
  {
   "cell_type": "markdown",
   "id": "b5f49645",
   "metadata": {},
   "source": [
    "## Feature Engineering"
   ]
  },
  {
   "cell_type": "markdown",
   "id": "61e1e621",
   "metadata": {},
   "source": [
    "**Crie coluna `trip_duration_min` = (dropoff_pickup)/60s.**"
   ]
  },
  {
   "cell_type": "code",
   "execution_count": null,
   "id": "ebc51bba",
   "metadata": {},
   "outputs": [],
   "source": [
    "# Seu código aqui\n"
   ]
  },
  {
   "cell_type": "markdown",
   "id": "3e2c7b02",
   "metadata": {},
   "source": [
    "**Crie coluna `speed_kmph` = `trip_distance` / (duration_h).**"
   ]
  },
  {
   "cell_type": "code",
   "execution_count": null,
   "id": "459b61d9",
   "metadata": {},
   "outputs": [],
   "source": [
    "# Seu código aqui\n"
   ]
  },
  {
   "cell_type": "markdown",
   "id": "66b719fa",
   "metadata": {},
   "source": [
    "**Crie bin de `tip_percent` = `tip_amount` / `fare_amount`.**"
   ]
  },
  {
   "cell_type": "code",
   "execution_count": null,
   "id": "2a77e6da",
   "metadata": {},
   "outputs": [],
   "source": [
    "# Seu código aqui\n"
   ]
  },
  {
   "cell_type": "markdown",
   "id": "30714f0d",
   "metadata": {},
   "source": [
    "**Binarize `payment_type` em categorical dummies.**"
   ]
  },
  {
   "cell_type": "code",
   "execution_count": null,
   "id": "8659d0e8",
   "metadata": {},
   "outputs": [],
   "source": [
    "# Seu código aqui\n"
   ]
  },
  {
   "cell_type": "markdown",
   "id": "469541dd",
   "metadata": {},
   "source": [
    "**Normalize `total_amount` usando StandardScaler.**"
   ]
  },
  {
   "cell_type": "code",
   "execution_count": null,
   "id": "f3bd48b7",
   "metadata": {},
   "outputs": [],
   "source": [
    "# Seu código aqui\n"
   ]
  },
  {
   "cell_type": "markdown",
   "id": "e4f13513",
   "metadata": {},
   "source": [
    "## Storytelling & Insights"
   ]
  },
  {
   "cell_type": "markdown",
   "id": "e11b4efd",
   "metadata": {},
   "source": [
    "**Escreva insight sobre variação de `fare_amount` por hora.**"
   ]
  },
  {
   "cell_type": "code",
   "execution_count": null,
   "id": "08d3eeac",
   "metadata": {},
   "outputs": [],
   "source": [
    "# Seu código aqui\n"
   ]
  },
  {
   "cell_type": "markdown",
   "id": "7fb6b2b4",
   "metadata": {},
   "source": [
    "**Visualize distribuição de `speed_kmph` e descreva anomalias.**"
   ]
  },
  {
   "cell_type": "code",
   "execution_count": null,
   "id": "abfeb1e0",
   "metadata": {},
   "outputs": [],
   "source": [
    "# Seu código aqui\n"
   ]
  },
  {
   "cell_type": "markdown",
   "id": "5482e6a0",
   "metadata": {},
   "source": [
    "**Resuma em 3 bullets como `payment_type` afeta `tip_percent`.**"
   ]
  },
  {
   "cell_type": "code",
   "execution_count": null,
   "id": "eb7c9dba",
   "metadata": {},
   "outputs": [],
   "source": [
    "# Seu código aqui\n"
   ]
  },
  {
   "cell_type": "markdown",
   "id": "2cf8d3dc",
   "metadata": {},
   "source": [
    "**Crie dashboard (com subplots) de métricas chave.**"
   ]
  },
  {
   "cell_type": "code",
   "execution_count": null,
   "id": "fdd65103",
   "metadata": {},
   "outputs": [],
   "source": [
    "# Seu código aqui\n"
   ]
  },
  {
   "cell_type": "markdown",
   "id": "e365789f",
   "metadata": {},
   "source": [
    "**Liste próximos passos de investigação em texto Markdown.**"
   ]
  },
  {
   "cell_type": "code",
   "execution_count": null,
   "id": "64a5693d",
   "metadata": {},
   "outputs": [],
   "source": [
    "# Seu código aqui\n"
   ]
  },
  {
   "cell_type": "markdown",
   "id": "3eca0130",
   "metadata": {},
   "source": [
    "## Carregamento & Amostra"
   ]
  },
  {
   "cell_type": "markdown",
   "id": "d9a2eca5",
   "metadata": {},
   "source": [
    "**Carregue um sample de 100k linhas do dataset NYC Taxi em `df`.**"
   ]
  },
  {
   "cell_type": "code",
   "execution_count": null,
   "id": "5d208dd0",
   "metadata": {},
   "outputs": [],
   "source": [
    "# Seu código aqui\n"
   ]
  },
  {
   "cell_type": "markdown",
   "id": "9c991068",
   "metadata": {},
   "source": [
    "**Mostre as 5 primeiras linhas e `df.info()`.**"
   ]
  },
  {
   "cell_type": "code",
   "execution_count": null,
   "id": "7b57a23f",
   "metadata": {},
   "outputs": [],
   "source": [
    "# Seu código aqui\n"
   ]
  },
  {
   "cell_type": "markdown",
   "id": "cd2379cd",
   "metadata": {},
   "source": [
    "**Converta `pickup_datetime` para datetime e defina como índice.**"
   ]
  },
  {
   "cell_type": "code",
   "execution_count": null,
   "id": "baf07fbf",
   "metadata": {},
   "outputs": [],
   "source": [
    "# Seu código aqui\n"
   ]
  },
  {
   "cell_type": "markdown",
   "id": "d012b96e",
   "metadata": {},
   "source": [
    "**Quantos anos de dados estão presentes em `pickup_datetime`?**"
   ]
  },
  {
   "cell_type": "code",
   "execution_count": null,
   "id": "cba83b95",
   "metadata": {},
   "outputs": [],
   "source": [
    "# Seu código aqui\n"
   ]
  },
  {
   "cell_type": "markdown",
   "id": "8700dccc",
   "metadata": {},
   "source": [
    "**Mostre as colunas numéricas e sua contagem de valores não nulos.**"
   ]
  },
  {
   "cell_type": "code",
   "execution_count": null,
   "id": "9532180e",
   "metadata": {},
   "outputs": [],
   "source": [
    "# Seu código aqui\n"
   ]
  },
  {
   "cell_type": "markdown",
   "id": "059f841a",
   "metadata": {},
   "source": [
    "## Estatística Avançada"
   ]
  },
  {
   "cell_type": "markdown",
   "id": "cb1a108f",
   "metadata": {},
   "source": [
    "**Calcule quantil 95 de `tip_amount`.**"
   ]
  },
  {
   "cell_type": "code",
   "execution_count": null,
   "id": "f905a7f3",
   "metadata": {},
   "outputs": [],
   "source": [
    "# Seu código aqui\n"
   ]
  },
  {
   "cell_type": "markdown",
   "id": "3c00ffdb",
   "metadata": {},
   "source": [
    "**Compare média e mediana de `total_amount` para detectar skew.**"
   ]
  },
  {
   "cell_type": "code",
   "execution_count": null,
   "id": "e8799d99",
   "metadata": {},
   "outputs": [],
   "source": [
    "# Seu código aqui\n"
   ]
  },
  {
   "cell_type": "markdown",
   "id": "ff7171bc",
   "metadata": {},
   "source": [
    "**Encontre valor máximo de `dropoff_latitude` e mostre a linha correspondente.**"
   ]
  },
  {
   "cell_type": "code",
   "execution_count": null,
   "id": "f842a8d9",
   "metadata": {},
   "outputs": [],
   "source": [
    "# Seu código aqui\n"
   ]
  },
  {
   "cell_type": "markdown",
   "id": "33e54832",
   "metadata": {},
   "source": [
    "**Compute IQR de `fare_amount` e defina limites de outlier.**"
   ]
  },
  {
   "cell_type": "code",
   "execution_count": null,
   "id": "e359663b",
   "metadata": {},
   "outputs": [],
   "source": [
    "# Seu código aqui\n"
   ]
  },
  {
   "cell_type": "markdown",
   "id": "f330d5c2",
   "metadata": {},
   "source": [
    "**Conte passageiros (`passenger_count`) > 4.**"
   ]
  },
  {
   "cell_type": "code",
   "execution_count": null,
   "id": "706c7ba1",
   "metadata": {},
   "outputs": [],
   "source": [
    "# Seu código aqui\n"
   ]
  },
  {
   "cell_type": "markdown",
   "id": "3b09b136",
   "metadata": {},
   "source": [
    "## Visualização Temporal"
   ]
  },
  {
   "cell_type": "markdown",
   "id": "a9c9ec62",
   "metadata": {},
   "source": [
    "**Plote série mensal da média de `tip_amount`.**"
   ]
  },
  {
   "cell_type": "code",
   "execution_count": null,
   "id": "7f47d864",
   "metadata": {},
   "outputs": [],
   "source": [
    "# Seu código aqui\n"
   ]
  },
  {
   "cell_type": "markdown",
   "id": "375b1939",
   "metadata": {},
   "source": [
    "**Crie gráfico de heatmap dia da semana vs hora para média de `dropoff_longitude`.**"
   ]
  },
  {
   "cell_type": "code",
   "execution_count": null,
   "id": "94d27bda",
   "metadata": {},
   "outputs": [],
   "source": [
    "# Seu código aqui\n"
   ]
  },
  {
   "cell_type": "markdown",
   "id": "8d4c697d",
   "metadata": {},
   "source": [
    "**Desenhe boxplot de `passenger_count` por hora do dia.**"
   ]
  },
  {
   "cell_type": "code",
   "execution_count": null,
   "id": "8da72045",
   "metadata": {},
   "outputs": [],
   "source": [
    "# Seu código aqui\n"
   ]
  },
  {
   "cell_type": "markdown",
   "id": "4b34b8cf",
   "metadata": {},
   "source": [
    "**Crie gráficos de rolling mean (window=30d) para `fare_amount`.**"
   ]
  },
  {
   "cell_type": "code",
   "execution_count": null,
   "id": "94ed1bba",
   "metadata": {},
   "outputs": [],
   "source": [
    "# Seu código aqui\n"
   ]
  },
  {
   "cell_type": "markdown",
   "id": "4924ba8b",
   "metadata": {},
   "source": [
    "**Exiba autocorrelação parcial (PACF) de `total_amount` agregado diário.**"
   ]
  },
  {
   "cell_type": "code",
   "execution_count": null,
   "id": "40bdbb3d",
   "metadata": {},
   "outputs": [],
   "source": [
    "# Seu código aqui\n"
   ]
  },
  {
   "cell_type": "markdown",
   "id": "14f4b547",
   "metadata": {},
   "source": [
    "## Geoespacial"
   ]
  },
  {
   "cell_type": "markdown",
   "id": "f91a6845",
   "metadata": {},
   "source": [
    "**Plote um scatter dos pickups longitude/latitude amostrados (10k) sobre mapa simples.**"
   ]
  },
  {
   "cell_type": "code",
   "execution_count": null,
   "id": "9565e32b",
   "metadata": {},
   "outputs": [],
   "source": [
    "# Seu código aqui\n"
   ]
  },
  {
   "cell_type": "markdown",
   "id": "dfab9059",
   "metadata": {},
   "source": [
    "**Crie hexbin map da densidade de pickups.**"
   ]
  },
  {
   "cell_type": "code",
   "execution_count": null,
   "id": "b265aa76",
   "metadata": {},
   "outputs": [],
   "source": [
    "# Seu código aqui\n"
   ]
  },
  {
   "cell_type": "markdown",
   "id": "320aa07d",
   "metadata": {},
   "source": [
    "**Calcule distância haversine entre pickup e dropoff.**"
   ]
  },
  {
   "cell_type": "code",
   "execution_count": null,
   "id": "d51082d6",
   "metadata": {},
   "outputs": [],
   "source": [
    "# Seu código aqui\n"
   ]
  },
  {
   "cell_type": "markdown",
   "id": "dc344145",
   "metadata": {},
   "source": [
    "**Agrupe por borough e calcule média de `trip_distance`.**"
   ]
  },
  {
   "cell_type": "code",
   "execution_count": null,
   "id": "46c3d5df",
   "metadata": {},
   "outputs": [],
   "source": [
    "# Seu código aqui\n"
   ]
  },
  {
   "cell_type": "markdown",
   "id": "76821c18",
   "metadata": {},
   "source": [
    "**Desenhe choropleth de valor médio de `fare_amount` por borough.**"
   ]
  },
  {
   "cell_type": "code",
   "execution_count": null,
   "id": "5e6e4956",
   "metadata": {},
   "outputs": [],
   "source": [
    "# Seu código aqui\n"
   ]
  },
  {
   "cell_type": "markdown",
   "id": "4dbca490",
   "metadata": {},
   "source": [
    "## UMAP + HDBSCAN"
   ]
  },
  {
   "cell_type": "markdown",
   "id": "6862bcdf",
   "metadata": {},
   "source": [
    "**Selecione `total_amount`, `fare_amount`, `dropoff_longitude` e reduza dimensão para 2‑D com UMAP.**"
   ]
  },
  {
   "cell_type": "code",
   "execution_count": null,
   "id": "911fea34",
   "metadata": {},
   "outputs": [],
   "source": [
    "# Seu código aqui\n"
   ]
  },
  {
   "cell_type": "markdown",
   "id": "d92e97b0",
   "metadata": {},
   "source": [
    "**Clusterize embedding com HDBSCAN; quantos clusters rótulo != ‑1 existem?**"
   ]
  },
  {
   "cell_type": "code",
   "execution_count": null,
   "id": "1b947932",
   "metadata": {},
   "outputs": [],
   "source": [
    "# Seu código aqui\n"
   ]
  },
  {
   "cell_type": "markdown",
   "id": "781df35f",
   "metadata": {},
   "source": [
    "**Plote embedding colorido pelos clusters.**"
   ]
  },
  {
   "cell_type": "code",
   "execution_count": null,
   "id": "1cbb6121",
   "metadata": {},
   "outputs": [],
   "source": [
    "# Seu código aqui\n"
   ]
  },
  {
   "cell_type": "markdown",
   "id": "ede87514",
   "metadata": {},
   "source": [
    "**Verifique distribuição de `payment_type` por cluster.**"
   ]
  },
  {
   "cell_type": "code",
   "execution_count": null,
   "id": "5d43639f",
   "metadata": {},
   "outputs": [],
   "source": [
    "# Seu código aqui\n"
   ]
  },
  {
   "cell_type": "markdown",
   "id": "82c6ed46",
   "metadata": {},
   "source": [
    "**Explique significado possível do cluster com maior média de `tip_amount`.**"
   ]
  },
  {
   "cell_type": "code",
   "execution_count": null,
   "id": "c8f2dc2c",
   "metadata": {},
   "outputs": [],
   "source": [
    "# Seu código aqui\n"
   ]
  },
  {
   "cell_type": "markdown",
   "id": "75c09465",
   "metadata": {},
   "source": [
    "## Grafos & Centralidade"
   ]
  },
  {
   "cell_type": "markdown",
   "id": "e8baadb5",
   "metadata": {},
   "source": [
    "**Construa grafo onde nós são boroughs com arestas quando passageiros viajam entre eles.**"
   ]
  },
  {
   "cell_type": "code",
   "execution_count": null,
   "id": "40f0158d",
   "metadata": {},
   "outputs": [],
   "source": [
    "# Seu código aqui\n"
   ]
  },
  {
   "cell_type": "markdown",
   "id": "c66ec413",
   "metadata": {},
   "source": [
    "**Calcule grau e PageRank de cada borough.**"
   ]
  },
  {
   "cell_type": "code",
   "execution_count": null,
   "id": "d769ae91",
   "metadata": {},
   "outputs": [],
   "source": [
    "# Seu código aqui\n"
   ]
  },
  {
   "cell_type": "markdown",
   "id": "7477a96e",
   "metadata": {},
   "source": [
    "**Liste top 3 boroughs por PageRank.**"
   ]
  },
  {
   "cell_type": "code",
   "execution_count": null,
   "id": "78395258",
   "metadata": {},
   "outputs": [],
   "source": [
    "# Seu código aqui\n"
   ]
  },
  {
   "cell_type": "markdown",
   "id": "e6976c61",
   "metadata": {},
   "source": [
    "**Plote grafo com pesos proporcionais à contagem de viagens.**"
   ]
  },
  {
   "cell_type": "code",
   "execution_count": null,
   "id": "e5d10a48",
   "metadata": {},
   "outputs": [],
   "source": [
    "# Seu código aqui\n"
   ]
  },
  {
   "cell_type": "markdown",
   "id": "21a16239",
   "metadata": {},
   "source": [
    "**Discuta hub‑ness vs densidade populacional.**"
   ]
  },
  {
   "cell_type": "code",
   "execution_count": null,
   "id": "5e5dd7e4",
   "metadata": {},
   "outputs": [],
   "source": [
    "# Seu código aqui\n"
   ]
  },
  {
   "cell_type": "markdown",
   "id": "3a972055",
   "metadata": {},
   "source": [
    "## Regras de Associação"
   ]
  },
  {
   "cell_type": "markdown",
   "id": "356983fd",
   "metadata": {},
   "source": [
    "**Discretize `trip_distance` em bins curtos/longos e crie dummies.**"
   ]
  },
  {
   "cell_type": "code",
   "execution_count": null,
   "id": "e09bc6a8",
   "metadata": {},
   "outputs": [],
   "source": [
    "# Seu código aqui\n"
   ]
  },
  {
   "cell_type": "markdown",
   "id": "08b810b4",
   "metadata": {},
   "source": [
    "**Gere DataFrame one‑hot de `payment_type` + bins criados.**"
   ]
  },
  {
   "cell_type": "code",
   "execution_count": null,
   "id": "59fb3617",
   "metadata": {},
   "outputs": [],
   "source": [
    "# Seu código aqui\n"
   ]
  },
  {
   "cell_type": "markdown",
   "id": "0673c4ab",
   "metadata": {},
   "source": [
    "**Execute Apriori (min_support=0.02) e derive regras (lift>1.3).**"
   ]
  },
  {
   "cell_type": "code",
   "execution_count": null,
   "id": "b80a122a",
   "metadata": {},
   "outputs": [],
   "source": [
    "# Seu código aqui\n"
   ]
  },
  {
   "cell_type": "markdown",
   "id": "cd4bbb2e",
   "metadata": {},
   "source": [
    "**Mostre top 5 regras ordenadas por lift.**"
   ]
  },
  {
   "cell_type": "code",
   "execution_count": null,
   "id": "c7ca0932",
   "metadata": {},
   "outputs": [],
   "source": [
    "# Seu código aqui\n"
   ]
  },
  {
   "cell_type": "markdown",
   "id": "9780c2e8",
   "metadata": {},
   "source": [
    "**Interprete regra com maior confiança.**"
   ]
  },
  {
   "cell_type": "code",
   "execution_count": null,
   "id": "290fecd4",
   "metadata": {},
   "outputs": [],
   "source": [
    "# Seu código aqui\n"
   ]
  },
  {
   "cell_type": "markdown",
   "id": "cd7050d9",
   "metadata": {},
   "source": [
    "## Anomaly & Outlier Detection"
   ]
  },
  {
   "cell_type": "markdown",
   "id": "ced05f6f",
   "metadata": {},
   "source": [
    "**Use DBSCAN em `trip_distance` vs `fare_amount` para detectar outliers.**"
   ]
  },
  {
   "cell_type": "code",
   "execution_count": null,
   "id": "38f329f5",
   "metadata": {},
   "outputs": [],
   "source": [
    "# Seu código aqui\n"
   ]
  },
  {
   "cell_type": "markdown",
   "id": "e3473691",
   "metadata": {},
   "source": [
    "**Conte quantas viagens têm `fare_amount` < 0.**"
   ]
  },
  {
   "cell_type": "code",
   "execution_count": null,
   "id": "d880d9b1",
   "metadata": {},
   "outputs": [],
   "source": [
    "# Seu código aqui\n"
   ]
  },
  {
   "cell_type": "markdown",
   "id": "059c5e9d",
   "metadata": {},
   "source": [
    "**Crie boxplot de `tip_amount` para encontrar valores extremos.**"
   ]
  },
  {
   "cell_type": "code",
   "execution_count": null,
   "id": "fa8856ef",
   "metadata": {},
   "outputs": [],
   "source": [
    "# Seu código aqui\n"
   ]
  },
  {
   "cell_type": "markdown",
   "id": "c0498b44",
   "metadata": {},
   "source": [
    "**Marque viagens com distância > 100 km como anômalas.**"
   ]
  },
  {
   "cell_type": "code",
   "execution_count": null,
   "id": "5e00d84b",
   "metadata": {},
   "outputs": [],
   "source": [
    "# Seu código aqui\n"
   ]
  },
  {
   "cell_type": "markdown",
   "id": "61f7666c",
   "metadata": {},
   "source": [
    "**Visualize anômalas sobre mapa scatter vermelho.**"
   ]
  },
  {
   "cell_type": "code",
   "execution_count": null,
   "id": "9489d0ad",
   "metadata": {},
   "outputs": [],
   "source": [
    "# Seu código aqui\n"
   ]
  },
  {
   "cell_type": "markdown",
   "id": "2235141f",
   "metadata": {},
   "source": [
    "## Feature Engineering"
   ]
  },
  {
   "cell_type": "markdown",
   "id": "afad8fcf",
   "metadata": {},
   "source": [
    "**Crie coluna `trip_duration_min` = (dropoff_pickup)/60s.**"
   ]
  },
  {
   "cell_type": "code",
   "execution_count": null,
   "id": "d5645900",
   "metadata": {},
   "outputs": [],
   "source": [
    "# Seu código aqui\n"
   ]
  },
  {
   "cell_type": "markdown",
   "id": "6be98902",
   "metadata": {},
   "source": [
    "**Crie coluna `speed_kmph` = `trip_distance` / (duration_h).**"
   ]
  },
  {
   "cell_type": "code",
   "execution_count": null,
   "id": "2ef220f8",
   "metadata": {},
   "outputs": [],
   "source": [
    "# Seu código aqui\n"
   ]
  },
  {
   "cell_type": "markdown",
   "id": "94a36130",
   "metadata": {},
   "source": [
    "**Crie bin de `tip_percent` = `tip_amount` / `fare_amount`.**"
   ]
  },
  {
   "cell_type": "code",
   "execution_count": null,
   "id": "f5f3558a",
   "metadata": {},
   "outputs": [],
   "source": [
    "# Seu código aqui\n"
   ]
  },
  {
   "cell_type": "markdown",
   "id": "d5a20e54",
   "metadata": {},
   "source": [
    "**Binarize `payment_type` em categorical dummies.**"
   ]
  },
  {
   "cell_type": "code",
   "execution_count": null,
   "id": "3e572bcd",
   "metadata": {},
   "outputs": [],
   "source": [
    "# Seu código aqui\n"
   ]
  },
  {
   "cell_type": "markdown",
   "id": "d7dd46e2",
   "metadata": {},
   "source": [
    "**Normalize `tip_amount` usando StandardScaler.**"
   ]
  },
  {
   "cell_type": "code",
   "execution_count": null,
   "id": "c288e62d",
   "metadata": {},
   "outputs": [],
   "source": [
    "# Seu código aqui\n"
   ]
  },
  {
   "cell_type": "markdown",
   "id": "b106606f",
   "metadata": {},
   "source": [
    "## Storytelling & Insights"
   ]
  },
  {
   "cell_type": "markdown",
   "id": "4294e7a6",
   "metadata": {},
   "source": [
    "**Escreva insight sobre variação de `fare_amount` por hora.**"
   ]
  },
  {
   "cell_type": "code",
   "execution_count": null,
   "id": "272aaffb",
   "metadata": {},
   "outputs": [],
   "source": [
    "# Seu código aqui\n"
   ]
  },
  {
   "cell_type": "markdown",
   "id": "bf1dedb2",
   "metadata": {},
   "source": [
    "**Visualize distribuição de `speed_kmph` e descreva anomalias.**"
   ]
  },
  {
   "cell_type": "code",
   "execution_count": null,
   "id": "f917ae15",
   "metadata": {},
   "outputs": [],
   "source": [
    "# Seu código aqui\n"
   ]
  },
  {
   "cell_type": "markdown",
   "id": "6085e31c",
   "metadata": {},
   "source": [
    "**Resuma em 3 bullets como `payment_type` afeta `tip_percent`.**"
   ]
  },
  {
   "cell_type": "code",
   "execution_count": null,
   "id": "5bd65acb",
   "metadata": {},
   "outputs": [],
   "source": [
    "# Seu código aqui\n"
   ]
  },
  {
   "cell_type": "markdown",
   "id": "baf4f3cf",
   "metadata": {},
   "source": [
    "**Crie dashboard (com subplots) de métricas chave.**"
   ]
  },
  {
   "cell_type": "code",
   "execution_count": null,
   "id": "cc150366",
   "metadata": {},
   "outputs": [],
   "source": [
    "# Seu código aqui\n"
   ]
  },
  {
   "cell_type": "markdown",
   "id": "ddd7097b",
   "metadata": {},
   "source": [
    "**Liste próximos passos de investigação em texto Markdown.**"
   ]
  },
  {
   "cell_type": "code",
   "execution_count": null,
   "id": "1ec0a651",
   "metadata": {},
   "outputs": [],
   "source": [
    "# Seu código aqui\n"
   ]
  },
  {
   "cell_type": "markdown",
   "id": "6232a4bf",
   "metadata": {},
   "source": [
    "## Carregamento & Amostra"
   ]
  },
  {
   "cell_type": "markdown",
   "id": "10814fad",
   "metadata": {},
   "source": [
    "**Carregue um sample de 100k linhas do dataset NYC Taxi em `df`.**"
   ]
  },
  {
   "cell_type": "code",
   "execution_count": null,
   "id": "cc576e82",
   "metadata": {},
   "outputs": [],
   "source": [
    "# Seu código aqui\n"
   ]
  },
  {
   "cell_type": "markdown",
   "id": "bf802765",
   "metadata": {},
   "source": [
    "**Mostre as 5 primeiras linhas e `df.info()`.**"
   ]
  },
  {
   "cell_type": "code",
   "execution_count": null,
   "id": "0d8580b3",
   "metadata": {},
   "outputs": [],
   "source": [
    "# Seu código aqui\n"
   ]
  },
  {
   "cell_type": "markdown",
   "id": "156241c8",
   "metadata": {},
   "source": [
    "**Converta `dropoff_datetime` para datetime e defina como índice.**"
   ]
  },
  {
   "cell_type": "code",
   "execution_count": null,
   "id": "acf4b615",
   "metadata": {},
   "outputs": [],
   "source": [
    "# Seu código aqui\n"
   ]
  },
  {
   "cell_type": "markdown",
   "id": "47c6db66",
   "metadata": {},
   "source": [
    "**Quantos anos de dados estão presentes em `pickup_datetime`?**"
   ]
  },
  {
   "cell_type": "code",
   "execution_count": null,
   "id": "69949e00",
   "metadata": {},
   "outputs": [],
   "source": [
    "# Seu código aqui\n"
   ]
  },
  {
   "cell_type": "markdown",
   "id": "dc7fdc9c",
   "metadata": {},
   "source": [
    "**Mostre as colunas numéricas e sua contagem de valores não nulos.**"
   ]
  },
  {
   "cell_type": "code",
   "execution_count": null,
   "id": "a4dd824a",
   "metadata": {},
   "outputs": [],
   "source": [
    "# Seu código aqui\n"
   ]
  },
  {
   "cell_type": "markdown",
   "id": "2f8eb55c",
   "metadata": {},
   "source": [
    "## Estatística Avançada"
   ]
  },
  {
   "cell_type": "markdown",
   "id": "eba532f9",
   "metadata": {},
   "source": [
    "**Calcule quantil 95 de `tip_amount`.**"
   ]
  },
  {
   "cell_type": "code",
   "execution_count": null,
   "id": "07ad297a",
   "metadata": {},
   "outputs": [],
   "source": [
    "# Seu código aqui\n"
   ]
  },
  {
   "cell_type": "markdown",
   "id": "4a33a4af",
   "metadata": {},
   "source": [
    "**Compare média e mediana de `pickup_longitude` para detectar skew.**"
   ]
  },
  {
   "cell_type": "code",
   "execution_count": null,
   "id": "2f07ab7b",
   "metadata": {},
   "outputs": [],
   "source": [
    "# Seu código aqui\n"
   ]
  },
  {
   "cell_type": "markdown",
   "id": "0f18e6e7",
   "metadata": {},
   "source": [
    "**Encontre valor máximo de `total_amount` e mostre a linha correspondente.**"
   ]
  },
  {
   "cell_type": "code",
   "execution_count": null,
   "id": "33bd2a5e",
   "metadata": {},
   "outputs": [],
   "source": [
    "# Seu código aqui\n"
   ]
  },
  {
   "cell_type": "markdown",
   "id": "7aa1f328",
   "metadata": {},
   "source": [
    "**Compute IQR de `dropoff_longitude` e defina limites de outlier.**"
   ]
  },
  {
   "cell_type": "code",
   "execution_count": null,
   "id": "ef5b3d64",
   "metadata": {},
   "outputs": [],
   "source": [
    "# Seu código aqui\n"
   ]
  },
  {
   "cell_type": "markdown",
   "id": "9944c496",
   "metadata": {},
   "source": [
    "**Conte passageiros (`passenger_count`) > 4.**"
   ]
  },
  {
   "cell_type": "code",
   "execution_count": null,
   "id": "c1679d5b",
   "metadata": {},
   "outputs": [],
   "source": [
    "# Seu código aqui\n"
   ]
  },
  {
   "cell_type": "markdown",
   "id": "28205b3e",
   "metadata": {},
   "source": [
    "## Visualização Temporal"
   ]
  },
  {
   "cell_type": "markdown",
   "id": "68be85ca",
   "metadata": {},
   "source": [
    "**Plote série mensal da média de `pickup_latitude`.**"
   ]
  },
  {
   "cell_type": "code",
   "execution_count": null,
   "id": "fcb87550",
   "metadata": {},
   "outputs": [],
   "source": [
    "# Seu código aqui\n"
   ]
  },
  {
   "cell_type": "markdown",
   "id": "bf90aef9",
   "metadata": {},
   "source": [
    "**Crie gráfico de heatmap dia da semana vs hora para média de `fare_amount`.**"
   ]
  },
  {
   "cell_type": "code",
   "execution_count": null,
   "id": "c0636676",
   "metadata": {},
   "outputs": [],
   "source": [
    "# Seu código aqui\n"
   ]
  },
  {
   "cell_type": "markdown",
   "id": "52c17751",
   "metadata": {},
   "source": [
    "**Desenhe boxplot de `pickup_latitude` por hora do dia.**"
   ]
  },
  {
   "cell_type": "code",
   "execution_count": null,
   "id": "b1b9f135",
   "metadata": {},
   "outputs": [],
   "source": [
    "# Seu código aqui\n"
   ]
  },
  {
   "cell_type": "markdown",
   "id": "341f3bcf",
   "metadata": {},
   "source": [
    "**Crie gráficos de rolling mean (window=30d) para `passenger_count`.**"
   ]
  },
  {
   "cell_type": "code",
   "execution_count": null,
   "id": "b20ea98d",
   "metadata": {},
   "outputs": [],
   "source": [
    "# Seu código aqui\n"
   ]
  },
  {
   "cell_type": "markdown",
   "id": "c5cf2a85",
   "metadata": {},
   "source": [
    "**Exiba autocorrelação parcial (PACF) de `pickup_latitude` agregado diário.**"
   ]
  },
  {
   "cell_type": "code",
   "execution_count": null,
   "id": "0cd4fd81",
   "metadata": {},
   "outputs": [],
   "source": [
    "# Seu código aqui\n"
   ]
  },
  {
   "cell_type": "markdown",
   "id": "1caeb9ed",
   "metadata": {},
   "source": [
    "## Geoespacial"
   ]
  },
  {
   "cell_type": "markdown",
   "id": "d771b585",
   "metadata": {},
   "source": [
    "**Plote um scatter dos pickups longitude/latitude amostrados (10k) sobre mapa simples.**"
   ]
  },
  {
   "cell_type": "code",
   "execution_count": null,
   "id": "746b6637",
   "metadata": {},
   "outputs": [],
   "source": [
    "# Seu código aqui\n"
   ]
  },
  {
   "cell_type": "markdown",
   "id": "39476969",
   "metadata": {},
   "source": [
    "**Crie hexbin map da densidade de pickups.**"
   ]
  },
  {
   "cell_type": "code",
   "execution_count": null,
   "id": "d104929d",
   "metadata": {},
   "outputs": [],
   "source": [
    "# Seu código aqui\n"
   ]
  },
  {
   "cell_type": "markdown",
   "id": "76d67053",
   "metadata": {},
   "source": [
    "**Calcule distância haversine entre pickup e dropoff.**"
   ]
  },
  {
   "cell_type": "code",
   "execution_count": null,
   "id": "bc7d8ff8",
   "metadata": {},
   "outputs": [],
   "source": [
    "# Seu código aqui\n"
   ]
  },
  {
   "cell_type": "markdown",
   "id": "a53678aa",
   "metadata": {},
   "source": [
    "**Agrupe por borough e calcule média de `dropoff_longitude`.**"
   ]
  },
  {
   "cell_type": "code",
   "execution_count": null,
   "id": "40df8834",
   "metadata": {},
   "outputs": [],
   "source": [
    "# Seu código aqui\n"
   ]
  },
  {
   "cell_type": "markdown",
   "id": "c36a98f0",
   "metadata": {},
   "source": [
    "**Desenhe choropleth de valor médio de `fare_amount` por borough.**"
   ]
  },
  {
   "cell_type": "code",
   "execution_count": null,
   "id": "8fff4da6",
   "metadata": {},
   "outputs": [],
   "source": [
    "# Seu código aqui\n"
   ]
  },
  {
   "cell_type": "markdown",
   "id": "8454b580",
   "metadata": {},
   "source": [
    "## UMAP + HDBSCAN"
   ]
  },
  {
   "cell_type": "markdown",
   "id": "38934355",
   "metadata": {},
   "source": [
    "**Selecione `pickup_longitude`, `passenger_count`, `tip_amount` e reduza dimensão para 2‑D com UMAP.**"
   ]
  },
  {
   "cell_type": "code",
   "execution_count": null,
   "id": "c05091b5",
   "metadata": {},
   "outputs": [],
   "source": [
    "# Seu código aqui\n"
   ]
  },
  {
   "cell_type": "markdown",
   "id": "a753a94f",
   "metadata": {},
   "source": [
    "**Clusterize embedding com HDBSCAN; quantos clusters rótulo != ‑1 existem?**"
   ]
  },
  {
   "cell_type": "code",
   "execution_count": null,
   "id": "1e53fe9b",
   "metadata": {},
   "outputs": [],
   "source": [
    "# Seu código aqui\n"
   ]
  },
  {
   "cell_type": "markdown",
   "id": "12148938",
   "metadata": {},
   "source": [
    "**Plote embedding colorido pelos clusters.**"
   ]
  },
  {
   "cell_type": "code",
   "execution_count": null,
   "id": "8ec7cc07",
   "metadata": {},
   "outputs": [],
   "source": [
    "# Seu código aqui\n"
   ]
  },
  {
   "cell_type": "markdown",
   "id": "05df4628",
   "metadata": {},
   "source": [
    "**Verifique distribuição de `payment_type` por cluster.**"
   ]
  },
  {
   "cell_type": "code",
   "execution_count": null,
   "id": "09bc72ed",
   "metadata": {},
   "outputs": [],
   "source": [
    "# Seu código aqui\n"
   ]
  },
  {
   "cell_type": "markdown",
   "id": "41a974ab",
   "metadata": {},
   "source": [
    "**Explique significado possível do cluster com maior média de `tip_amount`.**"
   ]
  },
  {
   "cell_type": "code",
   "execution_count": null,
   "id": "68bb7e5a",
   "metadata": {},
   "outputs": [],
   "source": [
    "# Seu código aqui\n"
   ]
  },
  {
   "cell_type": "markdown",
   "id": "f13c78d0",
   "metadata": {},
   "source": [
    "## Grafos & Centralidade"
   ]
  },
  {
   "cell_type": "markdown",
   "id": "5769123d",
   "metadata": {},
   "source": [
    "**Construa grafo onde nós são boroughs com arestas quando passageiros viajam entre eles.**"
   ]
  },
  {
   "cell_type": "code",
   "execution_count": null,
   "id": "6b0cb00e",
   "metadata": {},
   "outputs": [],
   "source": [
    "# Seu código aqui\n"
   ]
  },
  {
   "cell_type": "markdown",
   "id": "a4847900",
   "metadata": {},
   "source": [
    "**Calcule grau e PageRank de cada borough.**"
   ]
  },
  {
   "cell_type": "code",
   "execution_count": null,
   "id": "7f70bf4e",
   "metadata": {},
   "outputs": [],
   "source": [
    "# Seu código aqui\n"
   ]
  },
  {
   "cell_type": "markdown",
   "id": "e277f865",
   "metadata": {},
   "source": [
    "**Liste top 3 boroughs por PageRank.**"
   ]
  },
  {
   "cell_type": "code",
   "execution_count": null,
   "id": "a1940597",
   "metadata": {},
   "outputs": [],
   "source": [
    "# Seu código aqui\n"
   ]
  },
  {
   "cell_type": "markdown",
   "id": "680510fb",
   "metadata": {},
   "source": [
    "**Plote grafo com pesos proporcionais à contagem de viagens.**"
   ]
  },
  {
   "cell_type": "code",
   "execution_count": null,
   "id": "0a2e0f81",
   "metadata": {},
   "outputs": [],
   "source": [
    "# Seu código aqui\n"
   ]
  },
  {
   "cell_type": "markdown",
   "id": "f51eb69e",
   "metadata": {},
   "source": [
    "**Discuta hub‑ness vs densidade populacional.**"
   ]
  },
  {
   "cell_type": "code",
   "execution_count": null,
   "id": "a2b0a0af",
   "metadata": {},
   "outputs": [],
   "source": [
    "# Seu código aqui\n"
   ]
  },
  {
   "cell_type": "markdown",
   "id": "8ebde8ed",
   "metadata": {},
   "source": [
    "## Regras de Associação"
   ]
  },
  {
   "cell_type": "markdown",
   "id": "f7010a88",
   "metadata": {},
   "source": [
    "**Discretize `trip_distance` em bins curtos/longos e crie dummies.**"
   ]
  },
  {
   "cell_type": "code",
   "execution_count": null,
   "id": "5bed9b17",
   "metadata": {},
   "outputs": [],
   "source": [
    "# Seu código aqui\n"
   ]
  },
  {
   "cell_type": "markdown",
   "id": "ddd8f5c6",
   "metadata": {},
   "source": [
    "**Gere DataFrame one‑hot de `rate_code` + bins criados.**"
   ]
  },
  {
   "cell_type": "code",
   "execution_count": null,
   "id": "5ce03361",
   "metadata": {},
   "outputs": [],
   "source": [
    "# Seu código aqui\n"
   ]
  },
  {
   "cell_type": "markdown",
   "id": "b398f3ca",
   "metadata": {},
   "source": [
    "**Execute Apriori (min_support=0.02) e derive regras (lift>1.3).**"
   ]
  },
  {
   "cell_type": "code",
   "execution_count": null,
   "id": "18d88cec",
   "metadata": {},
   "outputs": [],
   "source": [
    "# Seu código aqui\n"
   ]
  },
  {
   "cell_type": "markdown",
   "id": "093cf799",
   "metadata": {},
   "source": [
    "**Mostre top 5 regras ordenadas por lift.**"
   ]
  },
  {
   "cell_type": "code",
   "execution_count": null,
   "id": "0d9525b1",
   "metadata": {},
   "outputs": [],
   "source": [
    "# Seu código aqui\n"
   ]
  },
  {
   "cell_type": "markdown",
   "id": "959fc668",
   "metadata": {},
   "source": [
    "**Interprete regra com maior confiança.**"
   ]
  },
  {
   "cell_type": "code",
   "execution_count": null,
   "id": "ae89a911",
   "metadata": {},
   "outputs": [],
   "source": [
    "# Seu código aqui\n"
   ]
  },
  {
   "cell_type": "markdown",
   "id": "4c537741",
   "metadata": {},
   "source": [
    "## Anomaly & Outlier Detection"
   ]
  },
  {
   "cell_type": "markdown",
   "id": "e9ff66e3",
   "metadata": {},
   "source": [
    "**Use DBSCAN em `trip_distance` vs `fare_amount` para detectar outliers.**"
   ]
  },
  {
   "cell_type": "code",
   "execution_count": null,
   "id": "f679c12a",
   "metadata": {},
   "outputs": [],
   "source": [
    "# Seu código aqui\n"
   ]
  },
  {
   "cell_type": "markdown",
   "id": "6ca5e0cf",
   "metadata": {},
   "source": [
    "**Conte quantas viagens têm `fare_amount` < 0.**"
   ]
  },
  {
   "cell_type": "code",
   "execution_count": null,
   "id": "968ad5bc",
   "metadata": {},
   "outputs": [],
   "source": [
    "# Seu código aqui\n"
   ]
  },
  {
   "cell_type": "markdown",
   "id": "ced5d525",
   "metadata": {},
   "source": [
    "**Crie boxplot de `tip_amount` para encontrar valores extremos.**"
   ]
  },
  {
   "cell_type": "code",
   "execution_count": null,
   "id": "c0a78f85",
   "metadata": {},
   "outputs": [],
   "source": [
    "# Seu código aqui\n"
   ]
  },
  {
   "cell_type": "markdown",
   "id": "31e6e2a8",
   "metadata": {},
   "source": [
    "**Marque viagens com distância > 100 km como anômalas.**"
   ]
  },
  {
   "cell_type": "code",
   "execution_count": null,
   "id": "3d5490f6",
   "metadata": {},
   "outputs": [],
   "source": [
    "# Seu código aqui\n"
   ]
  },
  {
   "cell_type": "markdown",
   "id": "db1a7f00",
   "metadata": {},
   "source": [
    "**Visualize anômalas sobre mapa scatter vermelho.**"
   ]
  },
  {
   "cell_type": "code",
   "execution_count": null,
   "id": "d9110127",
   "metadata": {},
   "outputs": [],
   "source": [
    "# Seu código aqui\n"
   ]
  },
  {
   "cell_type": "markdown",
   "id": "0f4ed5d2",
   "metadata": {},
   "source": [
    "## Feature Engineering"
   ]
  },
  {
   "cell_type": "markdown",
   "id": "8694e62e",
   "metadata": {},
   "source": [
    "**Crie coluna `trip_duration_min` = (dropoff_pickup)/60s.**"
   ]
  },
  {
   "cell_type": "code",
   "execution_count": null,
   "id": "1c0125f4",
   "metadata": {},
   "outputs": [],
   "source": [
    "# Seu código aqui\n"
   ]
  },
  {
   "cell_type": "markdown",
   "id": "2f25ddf7",
   "metadata": {},
   "source": [
    "**Crie coluna `speed_kmph` = `trip_distance` / (duration_h).**"
   ]
  },
  {
   "cell_type": "code",
   "execution_count": null,
   "id": "528f0989",
   "metadata": {},
   "outputs": [],
   "source": [
    "# Seu código aqui\n"
   ]
  },
  {
   "cell_type": "markdown",
   "id": "f97bba8c",
   "metadata": {},
   "source": [
    "**Crie bin de `tip_percent` = `tip_amount` / `fare_amount`.**"
   ]
  },
  {
   "cell_type": "code",
   "execution_count": null,
   "id": "6fbc5713",
   "metadata": {},
   "outputs": [],
   "source": [
    "# Seu código aqui\n"
   ]
  },
  {
   "cell_type": "markdown",
   "id": "6ba6c0ae",
   "metadata": {},
   "source": [
    "**Binarize `payment_type` em categorical dummies.**"
   ]
  },
  {
   "cell_type": "code",
   "execution_count": null,
   "id": "dbbec951",
   "metadata": {},
   "outputs": [],
   "source": [
    "# Seu código aqui\n"
   ]
  },
  {
   "cell_type": "markdown",
   "id": "bd016095",
   "metadata": {},
   "source": [
    "**Normalize `total_amount` usando StandardScaler.**"
   ]
  },
  {
   "cell_type": "code",
   "execution_count": null,
   "id": "4b71d0f7",
   "metadata": {},
   "outputs": [],
   "source": [
    "# Seu código aqui\n"
   ]
  },
  {
   "cell_type": "markdown",
   "id": "46f390eb",
   "metadata": {},
   "source": [
    "## Storytelling & Insights"
   ]
  },
  {
   "cell_type": "markdown",
   "id": "c0a26640",
   "metadata": {},
   "source": [
    "**Escreva insight sobre variação de `fare_amount` por hora.**"
   ]
  },
  {
   "cell_type": "code",
   "execution_count": null,
   "id": "16e17411",
   "metadata": {},
   "outputs": [],
   "source": [
    "# Seu código aqui\n"
   ]
  },
  {
   "cell_type": "markdown",
   "id": "a2b52163",
   "metadata": {},
   "source": [
    "**Visualize distribuição de `speed_kmph` e descreva anomalias.**"
   ]
  },
  {
   "cell_type": "code",
   "execution_count": null,
   "id": "adfaf1fb",
   "metadata": {},
   "outputs": [],
   "source": [
    "# Seu código aqui\n"
   ]
  },
  {
   "cell_type": "markdown",
   "id": "71218e7c",
   "metadata": {},
   "source": [
    "**Resuma em 3 bullets como `payment_type` afeta `tip_percent`.**"
   ]
  },
  {
   "cell_type": "code",
   "execution_count": null,
   "id": "e5c4ad25",
   "metadata": {},
   "outputs": [],
   "source": [
    "# Seu código aqui\n"
   ]
  },
  {
   "cell_type": "markdown",
   "id": "1b36bb14",
   "metadata": {},
   "source": [
    "**Crie dashboard (com subplots) de métricas chave.**"
   ]
  },
  {
   "cell_type": "code",
   "execution_count": null,
   "id": "ca6cb91c",
   "metadata": {},
   "outputs": [],
   "source": [
    "# Seu código aqui\n"
   ]
  },
  {
   "cell_type": "markdown",
   "id": "5a33a561",
   "metadata": {},
   "source": [
    "**Liste próximos passos de investigação em texto Markdown.**"
   ]
  },
  {
   "cell_type": "code",
   "execution_count": null,
   "id": "12f6ea4c",
   "metadata": {},
   "outputs": [],
   "source": [
    "# Seu código aqui\n"
   ]
  },
  {
   "cell_type": "markdown",
   "id": "30aac425",
   "metadata": {},
   "source": [
    "## Carregamento & Amostra"
   ]
  },
  {
   "cell_type": "markdown",
   "id": "eafd7c8c",
   "metadata": {},
   "source": [
    "**Carregue um sample de 100k linhas do dataset NYC Taxi em `df`.**"
   ]
  },
  {
   "cell_type": "code",
   "execution_count": null,
   "id": "a9c45e3f",
   "metadata": {},
   "outputs": [],
   "source": [
    "# Seu código aqui\n"
   ]
  },
  {
   "cell_type": "markdown",
   "id": "e0d0010d",
   "metadata": {},
   "source": [
    "**Mostre as 5 primeiras linhas e `df.info()`.**"
   ]
  },
  {
   "cell_type": "code",
   "execution_count": null,
   "id": "43234bd8",
   "metadata": {},
   "outputs": [],
   "source": [
    "# Seu código aqui\n"
   ]
  },
  {
   "cell_type": "markdown",
   "id": "e03f0b8b",
   "metadata": {},
   "source": [
    "**Converta `pickup_datetime` para datetime e defina como índice.**"
   ]
  },
  {
   "cell_type": "code",
   "execution_count": null,
   "id": "6e9b802c",
   "metadata": {},
   "outputs": [],
   "source": [
    "# Seu código aqui\n"
   ]
  },
  {
   "cell_type": "markdown",
   "id": "90ec9d16",
   "metadata": {},
   "source": [
    "**Quantos anos de dados estão presentes em `pickup_datetime`?**"
   ]
  },
  {
   "cell_type": "code",
   "execution_count": null,
   "id": "109cfa8d",
   "metadata": {},
   "outputs": [],
   "source": [
    "# Seu código aqui\n"
   ]
  },
  {
   "cell_type": "markdown",
   "id": "d06fed1a",
   "metadata": {},
   "source": [
    "**Mostre as colunas numéricas e sua contagem de valores não nulos.**"
   ]
  },
  {
   "cell_type": "code",
   "execution_count": null,
   "id": "4ea0a0a6",
   "metadata": {},
   "outputs": [],
   "source": [
    "# Seu código aqui\n"
   ]
  },
  {
   "cell_type": "markdown",
   "id": "64d20bba",
   "metadata": {},
   "source": [
    "## Estatística Avançada"
   ]
  },
  {
   "cell_type": "markdown",
   "id": "b6e0cdb7",
   "metadata": {},
   "source": [
    "**Calcule quantil 95 de `trip_distance`.**"
   ]
  },
  {
   "cell_type": "code",
   "execution_count": null,
   "id": "c46d8831",
   "metadata": {},
   "outputs": [],
   "source": [
    "# Seu código aqui\n"
   ]
  },
  {
   "cell_type": "markdown",
   "id": "ab9aef7a",
   "metadata": {},
   "source": [
    "**Compare média e mediana de `dropoff_latitude` para detectar skew.**"
   ]
  },
  {
   "cell_type": "code",
   "execution_count": null,
   "id": "2087dea1",
   "metadata": {},
   "outputs": [],
   "source": [
    "# Seu código aqui\n"
   ]
  },
  {
   "cell_type": "markdown",
   "id": "977d397a",
   "metadata": {},
   "source": [
    "**Encontre valor máximo de `trip_distance` e mostre a linha correspondente.**"
   ]
  },
  {
   "cell_type": "code",
   "execution_count": null,
   "id": "e14750d2",
   "metadata": {},
   "outputs": [],
   "source": [
    "# Seu código aqui\n"
   ]
  },
  {
   "cell_type": "markdown",
   "id": "89c598a1",
   "metadata": {},
   "source": [
    "**Compute IQR de `pickup_latitude` e defina limites de outlier.**"
   ]
  },
  {
   "cell_type": "code",
   "execution_count": null,
   "id": "4abbac1b",
   "metadata": {},
   "outputs": [],
   "source": [
    "# Seu código aqui\n"
   ]
  },
  {
   "cell_type": "markdown",
   "id": "09da8b7b",
   "metadata": {},
   "source": [
    "**Conte passageiros (`passenger_count`) > 4.**"
   ]
  },
  {
   "cell_type": "code",
   "execution_count": null,
   "id": "99a7045d",
   "metadata": {},
   "outputs": [],
   "source": [
    "# Seu código aqui\n"
   ]
  },
  {
   "cell_type": "markdown",
   "id": "edf96ca5",
   "metadata": {},
   "source": [
    "## Visualização Temporal"
   ]
  },
  {
   "cell_type": "markdown",
   "id": "f81a225b",
   "metadata": {},
   "source": [
    "**Plote série mensal da média de `dropoff_latitude`.**"
   ]
  },
  {
   "cell_type": "code",
   "execution_count": null,
   "id": "266ab399",
   "metadata": {},
   "outputs": [],
   "source": [
    "# Seu código aqui\n"
   ]
  },
  {
   "cell_type": "markdown",
   "id": "ba5bf06a",
   "metadata": {},
   "source": [
    "**Crie gráfico de heatmap dia da semana vs hora para média de `pickup_longitude`.**"
   ]
  },
  {
   "cell_type": "code",
   "execution_count": null,
   "id": "fbbe6e1f",
   "metadata": {},
   "outputs": [],
   "source": [
    "# Seu código aqui\n"
   ]
  },
  {
   "cell_type": "markdown",
   "id": "44a7a182",
   "metadata": {},
   "source": [
    "**Desenhe boxplot de `trip_distance` por hora do dia.**"
   ]
  },
  {
   "cell_type": "code",
   "execution_count": null,
   "id": "9b70e45e",
   "metadata": {},
   "outputs": [],
   "source": [
    "# Seu código aqui\n"
   ]
  },
  {
   "cell_type": "markdown",
   "id": "c350f819",
   "metadata": {},
   "source": [
    "**Crie gráficos de rolling mean (window=30d) para `passenger_count`.**"
   ]
  },
  {
   "cell_type": "code",
   "execution_count": null,
   "id": "040fbb05",
   "metadata": {},
   "outputs": [],
   "source": [
    "# Seu código aqui\n"
   ]
  },
  {
   "cell_type": "markdown",
   "id": "ee6bb282",
   "metadata": {},
   "source": [
    "**Exiba autocorrelação parcial (PACF) de `tip_amount` agregado diário.**"
   ]
  },
  {
   "cell_type": "code",
   "execution_count": null,
   "id": "b3d4502f",
   "metadata": {},
   "outputs": [],
   "source": [
    "# Seu código aqui\n"
   ]
  },
  {
   "cell_type": "markdown",
   "id": "0ecd6837",
   "metadata": {},
   "source": [
    "## Geoespacial"
   ]
  },
  {
   "cell_type": "markdown",
   "id": "68dd0251",
   "metadata": {},
   "source": [
    "**Plote um scatter dos pickups longitude/latitude amostrados (10k) sobre mapa simples.**"
   ]
  },
  {
   "cell_type": "code",
   "execution_count": null,
   "id": "469b8e88",
   "metadata": {},
   "outputs": [],
   "source": [
    "# Seu código aqui\n"
   ]
  },
  {
   "cell_type": "markdown",
   "id": "01231280",
   "metadata": {},
   "source": [
    "**Crie hexbin map da densidade de pickups.**"
   ]
  },
  {
   "cell_type": "code",
   "execution_count": null,
   "id": "5458e9ad",
   "metadata": {},
   "outputs": [],
   "source": [
    "# Seu código aqui\n"
   ]
  },
  {
   "cell_type": "markdown",
   "id": "efac6285",
   "metadata": {},
   "source": [
    "**Calcule distância haversine entre pickup e dropoff.**"
   ]
  },
  {
   "cell_type": "code",
   "execution_count": null,
   "id": "438dd116",
   "metadata": {},
   "outputs": [],
   "source": [
    "# Seu código aqui\n"
   ]
  },
  {
   "cell_type": "markdown",
   "id": "d720eba2",
   "metadata": {},
   "source": [
    "**Agrupe por borough e calcule média de `total_amount`.**"
   ]
  },
  {
   "cell_type": "code",
   "execution_count": null,
   "id": "12140ea2",
   "metadata": {},
   "outputs": [],
   "source": [
    "# Seu código aqui\n"
   ]
  },
  {
   "cell_type": "markdown",
   "id": "529399fc",
   "metadata": {},
   "source": [
    "**Desenhe choropleth de valor médio de `fare_amount` por borough.**"
   ]
  },
  {
   "cell_type": "code",
   "execution_count": null,
   "id": "fa5d7952",
   "metadata": {},
   "outputs": [],
   "source": [
    "# Seu código aqui\n"
   ]
  },
  {
   "cell_type": "markdown",
   "id": "6d10181f",
   "metadata": {},
   "source": [
    "## UMAP + HDBSCAN"
   ]
  },
  {
   "cell_type": "markdown",
   "id": "39fb0871",
   "metadata": {},
   "source": [
    "**Selecione `pickup_latitude`, `passenger_count`, `pickup_longitude` e reduza dimensão para 2‑D com UMAP.**"
   ]
  },
  {
   "cell_type": "code",
   "execution_count": null,
   "id": "3ec5d151",
   "metadata": {},
   "outputs": [],
   "source": [
    "# Seu código aqui\n"
   ]
  },
  {
   "cell_type": "markdown",
   "id": "c5b36818",
   "metadata": {},
   "source": [
    "**Clusterize embedding com HDBSCAN; quantos clusters rótulo != ‑1 existem?**"
   ]
  },
  {
   "cell_type": "code",
   "execution_count": null,
   "id": "c29d2d13",
   "metadata": {},
   "outputs": [],
   "source": [
    "# Seu código aqui\n"
   ]
  },
  {
   "cell_type": "markdown",
   "id": "2d9b21a3",
   "metadata": {},
   "source": [
    "**Plote embedding colorido pelos clusters.**"
   ]
  },
  {
   "cell_type": "code",
   "execution_count": null,
   "id": "1d094640",
   "metadata": {},
   "outputs": [],
   "source": [
    "# Seu código aqui\n"
   ]
  },
  {
   "cell_type": "markdown",
   "id": "6a29a997",
   "metadata": {},
   "source": [
    "**Verifique distribuição de `payment_type` por cluster.**"
   ]
  },
  {
   "cell_type": "code",
   "execution_count": null,
   "id": "896228dc",
   "metadata": {},
   "outputs": [],
   "source": [
    "# Seu código aqui\n"
   ]
  },
  {
   "cell_type": "markdown",
   "id": "84ad6073",
   "metadata": {},
   "source": [
    "**Explique significado possível do cluster com maior média de `tip_amount`.**"
   ]
  },
  {
   "cell_type": "code",
   "execution_count": null,
   "id": "999f9a5d",
   "metadata": {},
   "outputs": [],
   "source": [
    "# Seu código aqui\n"
   ]
  },
  {
   "cell_type": "markdown",
   "id": "559c8bb5",
   "metadata": {},
   "source": [
    "## Grafos & Centralidade"
   ]
  },
  {
   "cell_type": "markdown",
   "id": "b545ee7a",
   "metadata": {},
   "source": [
    "**Construa grafo onde nós são boroughs com arestas quando passageiros viajam entre eles.**"
   ]
  },
  {
   "cell_type": "code",
   "execution_count": null,
   "id": "fd0a6f73",
   "metadata": {},
   "outputs": [],
   "source": [
    "# Seu código aqui\n"
   ]
  },
  {
   "cell_type": "markdown",
   "id": "471fbf6f",
   "metadata": {},
   "source": [
    "**Calcule grau e PageRank de cada borough.**"
   ]
  },
  {
   "cell_type": "code",
   "execution_count": null,
   "id": "187ab491",
   "metadata": {},
   "outputs": [],
   "source": [
    "# Seu código aqui\n"
   ]
  },
  {
   "cell_type": "markdown",
   "id": "517d1a12",
   "metadata": {},
   "source": [
    "**Liste top 3 boroughs por PageRank.**"
   ]
  },
  {
   "cell_type": "code",
   "execution_count": null,
   "id": "afff28a6",
   "metadata": {},
   "outputs": [],
   "source": [
    "# Seu código aqui\n"
   ]
  },
  {
   "cell_type": "markdown",
   "id": "b82ebf51",
   "metadata": {},
   "source": [
    "**Plote grafo com pesos proporcionais à contagem de viagens.**"
   ]
  },
  {
   "cell_type": "code",
   "execution_count": null,
   "id": "e4fb2835",
   "metadata": {},
   "outputs": [],
   "source": [
    "# Seu código aqui\n"
   ]
  },
  {
   "cell_type": "markdown",
   "id": "2e23f87e",
   "metadata": {},
   "source": [
    "**Discuta hub‑ness vs densidade populacional.**"
   ]
  },
  {
   "cell_type": "code",
   "execution_count": null,
   "id": "a34092ed",
   "metadata": {},
   "outputs": [],
   "source": [
    "# Seu código aqui\n"
   ]
  },
  {
   "cell_type": "markdown",
   "id": "45f97765",
   "metadata": {},
   "source": [
    "## Regras de Associação"
   ]
  },
  {
   "cell_type": "markdown",
   "id": "96d8cd4d",
   "metadata": {},
   "source": [
    "**Discretize `trip_distance` em bins curtos/longos e crie dummies.**"
   ]
  },
  {
   "cell_type": "code",
   "execution_count": null,
   "id": "fe128b6f",
   "metadata": {},
   "outputs": [],
   "source": [
    "# Seu código aqui\n"
   ]
  },
  {
   "cell_type": "markdown",
   "id": "0d8dc3bc",
   "metadata": {},
   "source": [
    "**Gere DataFrame one‑hot de `vendor_id` + bins criados.**"
   ]
  },
  {
   "cell_type": "code",
   "execution_count": null,
   "id": "9a140cc1",
   "metadata": {},
   "outputs": [],
   "source": [
    "# Seu código aqui\n"
   ]
  },
  {
   "cell_type": "markdown",
   "id": "d72182ee",
   "metadata": {},
   "source": [
    "**Execute Apriori (min_support=0.02) e derive regras (lift>1.3).**"
   ]
  },
  {
   "cell_type": "code",
   "execution_count": null,
   "id": "043511d6",
   "metadata": {},
   "outputs": [],
   "source": [
    "# Seu código aqui\n"
   ]
  },
  {
   "cell_type": "markdown",
   "id": "83c3a1aa",
   "metadata": {},
   "source": [
    "**Mostre top 5 regras ordenadas por lift.**"
   ]
  },
  {
   "cell_type": "code",
   "execution_count": null,
   "id": "09d8503c",
   "metadata": {},
   "outputs": [],
   "source": [
    "# Seu código aqui\n"
   ]
  },
  {
   "cell_type": "markdown",
   "id": "41a1cc35",
   "metadata": {},
   "source": [
    "**Interprete regra com maior confiança.**"
   ]
  },
  {
   "cell_type": "code",
   "execution_count": null,
   "id": "75568544",
   "metadata": {},
   "outputs": [],
   "source": [
    "# Seu código aqui\n"
   ]
  },
  {
   "cell_type": "markdown",
   "id": "c949750c",
   "metadata": {},
   "source": [
    "## Anomaly & Outlier Detection"
   ]
  },
  {
   "cell_type": "markdown",
   "id": "81a6e10a",
   "metadata": {},
   "source": [
    "**Use DBSCAN em `trip_distance` vs `fare_amount` para detectar outliers.**"
   ]
  },
  {
   "cell_type": "code",
   "execution_count": null,
   "id": "a265822d",
   "metadata": {},
   "outputs": [],
   "source": [
    "# Seu código aqui\n"
   ]
  },
  {
   "cell_type": "markdown",
   "id": "2bf3fe9a",
   "metadata": {},
   "source": [
    "**Conte quantas viagens têm `fare_amount` < 0.**"
   ]
  },
  {
   "cell_type": "code",
   "execution_count": null,
   "id": "40c75ea9",
   "metadata": {},
   "outputs": [],
   "source": [
    "# Seu código aqui\n"
   ]
  },
  {
   "cell_type": "markdown",
   "id": "6302dbc9",
   "metadata": {},
   "source": [
    "**Crie boxplot de `tip_amount` para encontrar valores extremos.**"
   ]
  },
  {
   "cell_type": "code",
   "execution_count": null,
   "id": "83aa815d",
   "metadata": {},
   "outputs": [],
   "source": [
    "# Seu código aqui\n"
   ]
  },
  {
   "cell_type": "markdown",
   "id": "664763cb",
   "metadata": {},
   "source": [
    "**Marque viagens com distância > 100 km como anômalas.**"
   ]
  },
  {
   "cell_type": "code",
   "execution_count": null,
   "id": "b1ce77e7",
   "metadata": {},
   "outputs": [],
   "source": [
    "# Seu código aqui\n"
   ]
  },
  {
   "cell_type": "markdown",
   "id": "86b8f959",
   "metadata": {},
   "source": [
    "**Visualize anômalas sobre mapa scatter vermelho.**"
   ]
  },
  {
   "cell_type": "code",
   "execution_count": null,
   "id": "f260ae52",
   "metadata": {},
   "outputs": [],
   "source": [
    "# Seu código aqui\n"
   ]
  },
  {
   "cell_type": "markdown",
   "id": "260864c9",
   "metadata": {},
   "source": [
    "## Feature Engineering"
   ]
  },
  {
   "cell_type": "markdown",
   "id": "fd93cc2c",
   "metadata": {},
   "source": [
    "**Crie coluna `trip_duration_min` = (dropoff_pickup)/60s.**"
   ]
  },
  {
   "cell_type": "code",
   "execution_count": null,
   "id": "567a831c",
   "metadata": {},
   "outputs": [],
   "source": [
    "# Seu código aqui\n"
   ]
  },
  {
   "cell_type": "markdown",
   "id": "b433c01b",
   "metadata": {},
   "source": [
    "**Crie coluna `speed_kmph` = `trip_distance` / (duration_h).**"
   ]
  },
  {
   "cell_type": "code",
   "execution_count": null,
   "id": "eb06d1a1",
   "metadata": {},
   "outputs": [],
   "source": [
    "# Seu código aqui\n"
   ]
  },
  {
   "cell_type": "markdown",
   "id": "15670b72",
   "metadata": {},
   "source": [
    "**Crie bin de `tip_percent` = `tip_amount` / `fare_amount`.**"
   ]
  },
  {
   "cell_type": "code",
   "execution_count": null,
   "id": "8ae88953",
   "metadata": {},
   "outputs": [],
   "source": [
    "# Seu código aqui\n"
   ]
  },
  {
   "cell_type": "markdown",
   "id": "6b041630",
   "metadata": {},
   "source": [
    "**Binarize `payment_type` em categorical dummies.**"
   ]
  },
  {
   "cell_type": "code",
   "execution_count": null,
   "id": "48851da0",
   "metadata": {},
   "outputs": [],
   "source": [
    "# Seu código aqui\n"
   ]
  },
  {
   "cell_type": "markdown",
   "id": "88c5bbed",
   "metadata": {},
   "source": [
    "**Normalize `pickup_latitude` usando StandardScaler.**"
   ]
  },
  {
   "cell_type": "code",
   "execution_count": null,
   "id": "f489d18e",
   "metadata": {},
   "outputs": [],
   "source": [
    "# Seu código aqui\n"
   ]
  },
  {
   "cell_type": "markdown",
   "id": "60fe712a",
   "metadata": {},
   "source": [
    "## Storytelling & Insights"
   ]
  },
  {
   "cell_type": "markdown",
   "id": "d20db017",
   "metadata": {},
   "source": [
    "**Escreva insight sobre variação de `fare_amount` por hora.**"
   ]
  },
  {
   "cell_type": "code",
   "execution_count": null,
   "id": "16d1ca3e",
   "metadata": {},
   "outputs": [],
   "source": [
    "# Seu código aqui\n"
   ]
  },
  {
   "cell_type": "markdown",
   "id": "de5405e1",
   "metadata": {},
   "source": [
    "**Visualize distribuição de `speed_kmph` e descreva anomalias.**"
   ]
  },
  {
   "cell_type": "code",
   "execution_count": null,
   "id": "ee7e6031",
   "metadata": {},
   "outputs": [],
   "source": [
    "# Seu código aqui\n"
   ]
  },
  {
   "cell_type": "markdown",
   "id": "b62802a3",
   "metadata": {},
   "source": [
    "**Resuma em 3 bullets como `payment_type` afeta `tip_percent`.**"
   ]
  },
  {
   "cell_type": "code",
   "execution_count": null,
   "id": "72473120",
   "metadata": {},
   "outputs": [],
   "source": [
    "# Seu código aqui\n"
   ]
  },
  {
   "cell_type": "markdown",
   "id": "99ecaa2d",
   "metadata": {},
   "source": [
    "**Crie dashboard (com subplots) de métricas chave.**"
   ]
  },
  {
   "cell_type": "code",
   "execution_count": null,
   "id": "55e8348c",
   "metadata": {},
   "outputs": [],
   "source": [
    "# Seu código aqui\n"
   ]
  },
  {
   "cell_type": "markdown",
   "id": "0e4e6aeb",
   "metadata": {},
   "source": [
    "**Liste próximos passos de investigação em texto Markdown.**"
   ]
  },
  {
   "cell_type": "code",
   "execution_count": null,
   "id": "041d1b84",
   "metadata": {},
   "outputs": [],
   "source": [
    "# Seu código aqui\n"
   ]
  },
  {
   "cell_type": "markdown",
   "id": "466fbaf2",
   "metadata": {},
   "source": [
    "## Carregamento & Amostra"
   ]
  },
  {
   "cell_type": "markdown",
   "id": "d6cf2386",
   "metadata": {},
   "source": [
    "**Carregue um sample de 100k linhas do dataset NYC Taxi em `df`.**"
   ]
  },
  {
   "cell_type": "code",
   "execution_count": null,
   "id": "43655c0c",
   "metadata": {},
   "outputs": [],
   "source": [
    "# Seu código aqui\n"
   ]
  },
  {
   "cell_type": "markdown",
   "id": "61ba7586",
   "metadata": {},
   "source": [
    "**Mostre as 5 primeiras linhas e `df.info()`.**"
   ]
  },
  {
   "cell_type": "code",
   "execution_count": null,
   "id": "2b1aae65",
   "metadata": {},
   "outputs": [],
   "source": [
    "# Seu código aqui\n"
   ]
  },
  {
   "cell_type": "markdown",
   "id": "65167672",
   "metadata": {},
   "source": [
    "**Converta `dropoff_datetime` para datetime e defina como índice.**"
   ]
  },
  {
   "cell_type": "code",
   "execution_count": null,
   "id": "c6d14fb6",
   "metadata": {},
   "outputs": [],
   "source": [
    "# Seu código aqui\n"
   ]
  },
  {
   "cell_type": "markdown",
   "id": "8645462d",
   "metadata": {},
   "source": [
    "**Quantos anos de dados estão presentes em `pickup_datetime`?**"
   ]
  },
  {
   "cell_type": "code",
   "execution_count": null,
   "id": "8060be9e",
   "metadata": {},
   "outputs": [],
   "source": [
    "# Seu código aqui\n"
   ]
  },
  {
   "cell_type": "markdown",
   "id": "594d2c6c",
   "metadata": {},
   "source": [
    "**Mostre as colunas numéricas e sua contagem de valores não nulos.**"
   ]
  },
  {
   "cell_type": "code",
   "execution_count": null,
   "id": "379cb15d",
   "metadata": {},
   "outputs": [],
   "source": [
    "# Seu código aqui\n"
   ]
  },
  {
   "cell_type": "markdown",
   "id": "19f6c417",
   "metadata": {},
   "source": [
    "## Estatística Avançada"
   ]
  },
  {
   "cell_type": "markdown",
   "id": "6dd2c04d",
   "metadata": {},
   "source": [
    "**Calcule quantil 95 de `passenger_count`.**"
   ]
  },
  {
   "cell_type": "code",
   "execution_count": null,
   "id": "bb1fedb0",
   "metadata": {},
   "outputs": [],
   "source": [
    "# Seu código aqui\n"
   ]
  },
  {
   "cell_type": "markdown",
   "id": "2610a4ce",
   "metadata": {},
   "source": [
    "**Compare média e mediana de `tip_amount` para detectar skew.**"
   ]
  },
  {
   "cell_type": "code",
   "execution_count": null,
   "id": "b6ba56dd",
   "metadata": {},
   "outputs": [],
   "source": [
    "# Seu código aqui\n"
   ]
  },
  {
   "cell_type": "markdown",
   "id": "80db3770",
   "metadata": {},
   "source": [
    "**Encontre valor máximo de `dropoff_longitude` e mostre a linha correspondente.**"
   ]
  },
  {
   "cell_type": "code",
   "execution_count": null,
   "id": "fd807560",
   "metadata": {},
   "outputs": [],
   "source": [
    "# Seu código aqui\n"
   ]
  },
  {
   "cell_type": "markdown",
   "id": "320f54b2",
   "metadata": {},
   "source": [
    "**Compute IQR de `dropoff_longitude` e defina limites de outlier.**"
   ]
  },
  {
   "cell_type": "code",
   "execution_count": null,
   "id": "963e517b",
   "metadata": {},
   "outputs": [],
   "source": [
    "# Seu código aqui\n"
   ]
  },
  {
   "cell_type": "markdown",
   "id": "e95a9aaa",
   "metadata": {},
   "source": [
    "**Conte passageiros (`passenger_count`) > 4.**"
   ]
  },
  {
   "cell_type": "code",
   "execution_count": null,
   "id": "ab593038",
   "metadata": {},
   "outputs": [],
   "source": [
    "# Seu código aqui\n"
   ]
  },
  {
   "cell_type": "markdown",
   "id": "ed6cb87d",
   "metadata": {},
   "source": [
    "## Visualização Temporal"
   ]
  },
  {
   "cell_type": "markdown",
   "id": "fc3e19dd",
   "metadata": {},
   "source": [
    "**Plote série mensal da média de `trip_distance`.**"
   ]
  },
  {
   "cell_type": "code",
   "execution_count": null,
   "id": "be135d09",
   "metadata": {},
   "outputs": [],
   "source": [
    "# Seu código aqui\n"
   ]
  },
  {
   "cell_type": "markdown",
   "id": "da7031a6",
   "metadata": {},
   "source": [
    "**Crie gráfico de heatmap dia da semana vs hora para média de `dropoff_longitude`.**"
   ]
  },
  {
   "cell_type": "code",
   "execution_count": null,
   "id": "9eb548eb",
   "metadata": {},
   "outputs": [],
   "source": [
    "# Seu código aqui\n"
   ]
  },
  {
   "cell_type": "markdown",
   "id": "3c969bf7",
   "metadata": {},
   "source": [
    "**Desenhe boxplot de `fare_amount` por hora do dia.**"
   ]
  },
  {
   "cell_type": "code",
   "execution_count": null,
   "id": "0ab9cae1",
   "metadata": {},
   "outputs": [],
   "source": [
    "# Seu código aqui\n"
   ]
  },
  {
   "cell_type": "markdown",
   "id": "2ec5b454",
   "metadata": {},
   "source": [
    "**Crie gráficos de rolling mean (window=30d) para `pickup_longitude`.**"
   ]
  },
  {
   "cell_type": "code",
   "execution_count": null,
   "id": "5a797884",
   "metadata": {},
   "outputs": [],
   "source": [
    "# Seu código aqui\n"
   ]
  },
  {
   "cell_type": "markdown",
   "id": "cd1f8fa3",
   "metadata": {},
   "source": [
    "**Exiba autocorrelação parcial (PACF) de `dropoff_latitude` agregado diário.**"
   ]
  },
  {
   "cell_type": "code",
   "execution_count": null,
   "id": "9a0582a3",
   "metadata": {},
   "outputs": [],
   "source": [
    "# Seu código aqui\n"
   ]
  },
  {
   "cell_type": "markdown",
   "id": "a53c253b",
   "metadata": {},
   "source": [
    "## Geoespacial"
   ]
  },
  {
   "cell_type": "markdown",
   "id": "62f76b8d",
   "metadata": {},
   "source": [
    "**Plote um scatter dos pickups longitude/latitude amostrados (10k) sobre mapa simples.**"
   ]
  },
  {
   "cell_type": "code",
   "execution_count": null,
   "id": "a0f4ae6e",
   "metadata": {},
   "outputs": [],
   "source": [
    "# Seu código aqui\n"
   ]
  },
  {
   "cell_type": "markdown",
   "id": "aea24c76",
   "metadata": {},
   "source": [
    "**Crie hexbin map da densidade de pickups.**"
   ]
  },
  {
   "cell_type": "code",
   "execution_count": null,
   "id": "78cdc870",
   "metadata": {},
   "outputs": [],
   "source": [
    "# Seu código aqui\n"
   ]
  },
  {
   "cell_type": "markdown",
   "id": "7a498716",
   "metadata": {},
   "source": [
    "**Calcule distância haversine entre pickup e dropoff.**"
   ]
  },
  {
   "cell_type": "code",
   "execution_count": null,
   "id": "206b4237",
   "metadata": {},
   "outputs": [],
   "source": [
    "# Seu código aqui\n"
   ]
  },
  {
   "cell_type": "markdown",
   "id": "2c48445c",
   "metadata": {},
   "source": [
    "**Agrupe por borough e calcule média de `fare_amount`.**"
   ]
  },
  {
   "cell_type": "code",
   "execution_count": null,
   "id": "add1f594",
   "metadata": {},
   "outputs": [],
   "source": [
    "# Seu código aqui\n"
   ]
  },
  {
   "cell_type": "markdown",
   "id": "a7deed73",
   "metadata": {},
   "source": [
    "**Desenhe choropleth de valor médio de `fare_amount` por borough.**"
   ]
  },
  {
   "cell_type": "code",
   "execution_count": null,
   "id": "9f8d522f",
   "metadata": {},
   "outputs": [],
   "source": [
    "# Seu código aqui\n"
   ]
  },
  {
   "cell_type": "markdown",
   "id": "e4ee6dbd",
   "metadata": {},
   "source": [
    "## UMAP + HDBSCAN"
   ]
  },
  {
   "cell_type": "markdown",
   "id": "325a11e7",
   "metadata": {},
   "source": [
    "**Selecione `trip_distance`, `pickup_longitude`, `total_amount` e reduza dimensão para 2‑D com UMAP.**"
   ]
  },
  {
   "cell_type": "code",
   "execution_count": null,
   "id": "9a83e66e",
   "metadata": {},
   "outputs": [],
   "source": [
    "# Seu código aqui\n"
   ]
  },
  {
   "cell_type": "markdown",
   "id": "0b6dfce2",
   "metadata": {},
   "source": [
    "**Clusterize embedding com HDBSCAN; quantos clusters rótulo != ‑1 existem?**"
   ]
  },
  {
   "cell_type": "code",
   "execution_count": null,
   "id": "605520d0",
   "metadata": {},
   "outputs": [],
   "source": [
    "# Seu código aqui\n"
   ]
  },
  {
   "cell_type": "markdown",
   "id": "2db93bc8",
   "metadata": {},
   "source": [
    "**Plote embedding colorido pelos clusters.**"
   ]
  },
  {
   "cell_type": "code",
   "execution_count": null,
   "id": "e4f4e152",
   "metadata": {},
   "outputs": [],
   "source": [
    "# Seu código aqui\n"
   ]
  },
  {
   "cell_type": "markdown",
   "id": "90714a4f",
   "metadata": {},
   "source": [
    "**Verifique distribuição de `payment_type` por cluster.**"
   ]
  },
  {
   "cell_type": "code",
   "execution_count": null,
   "id": "a51ce228",
   "metadata": {},
   "outputs": [],
   "source": [
    "# Seu código aqui\n"
   ]
  },
  {
   "cell_type": "markdown",
   "id": "8ddc0b8d",
   "metadata": {},
   "source": [
    "**Explique significado possível do cluster com maior média de `tip_amount`.**"
   ]
  },
  {
   "cell_type": "code",
   "execution_count": null,
   "id": "4f1d15d0",
   "metadata": {},
   "outputs": [],
   "source": [
    "# Seu código aqui\n"
   ]
  },
  {
   "cell_type": "markdown",
   "id": "ba60d654",
   "metadata": {},
   "source": [
    "## Grafos & Centralidade"
   ]
  },
  {
   "cell_type": "markdown",
   "id": "fddb1a0d",
   "metadata": {},
   "source": [
    "**Construa grafo onde nós são boroughs com arestas quando passageiros viajam entre eles.**"
   ]
  },
  {
   "cell_type": "code",
   "execution_count": null,
   "id": "5b8a4f54",
   "metadata": {},
   "outputs": [],
   "source": [
    "# Seu código aqui\n"
   ]
  },
  {
   "cell_type": "markdown",
   "id": "8988aa42",
   "metadata": {},
   "source": [
    "**Calcule grau e PageRank de cada borough.**"
   ]
  },
  {
   "cell_type": "code",
   "execution_count": null,
   "id": "f9e7edfd",
   "metadata": {},
   "outputs": [],
   "source": [
    "# Seu código aqui\n"
   ]
  },
  {
   "cell_type": "markdown",
   "id": "14801fe7",
   "metadata": {},
   "source": [
    "**Liste top 3 boroughs por PageRank.**"
   ]
  },
  {
   "cell_type": "code",
   "execution_count": null,
   "id": "442249fc",
   "metadata": {},
   "outputs": [],
   "source": [
    "# Seu código aqui\n"
   ]
  },
  {
   "cell_type": "markdown",
   "id": "12cc7b0e",
   "metadata": {},
   "source": [
    "**Plote grafo com pesos proporcionais à contagem de viagens.**"
   ]
  },
  {
   "cell_type": "code",
   "execution_count": null,
   "id": "66d27506",
   "metadata": {},
   "outputs": [],
   "source": [
    "# Seu código aqui\n"
   ]
  },
  {
   "cell_type": "markdown",
   "id": "241cc46f",
   "metadata": {},
   "source": [
    "**Discuta hub‑ness vs densidade populacional.**"
   ]
  },
  {
   "cell_type": "code",
   "execution_count": null,
   "id": "3ce5dec7",
   "metadata": {},
   "outputs": [],
   "source": [
    "# Seu código aqui\n"
   ]
  },
  {
   "cell_type": "markdown",
   "id": "8a08054f",
   "metadata": {},
   "source": [
    "## Regras de Associação"
   ]
  },
  {
   "cell_type": "markdown",
   "id": "fca4c4a5",
   "metadata": {},
   "source": [
    "**Discretize `trip_distance` em bins curtos/longos e crie dummies.**"
   ]
  },
  {
   "cell_type": "code",
   "execution_count": null,
   "id": "6d48ace6",
   "metadata": {},
   "outputs": [],
   "source": [
    "# Seu código aqui\n"
   ]
  },
  {
   "cell_type": "markdown",
   "id": "7cd1e9c3",
   "metadata": {},
   "source": [
    "**Gere DataFrame one‑hot de `pickup_borough` + bins criados.**"
   ]
  },
  {
   "cell_type": "code",
   "execution_count": null,
   "id": "75c427a7",
   "metadata": {},
   "outputs": [],
   "source": [
    "# Seu código aqui\n"
   ]
  },
  {
   "cell_type": "markdown",
   "id": "0984245f",
   "metadata": {},
   "source": [
    "**Execute Apriori (min_support=0.02) e derive regras (lift>1.3).**"
   ]
  },
  {
   "cell_type": "code",
   "execution_count": null,
   "id": "a4613b38",
   "metadata": {},
   "outputs": [],
   "source": [
    "# Seu código aqui\n"
   ]
  },
  {
   "cell_type": "markdown",
   "id": "45797cff",
   "metadata": {},
   "source": [
    "**Mostre top 5 regras ordenadas por lift.**"
   ]
  },
  {
   "cell_type": "code",
   "execution_count": null,
   "id": "a278efaf",
   "metadata": {},
   "outputs": [],
   "source": [
    "# Seu código aqui\n"
   ]
  },
  {
   "cell_type": "markdown",
   "id": "4fcaf1ee",
   "metadata": {},
   "source": [
    "**Interprete regra com maior confiança.**"
   ]
  },
  {
   "cell_type": "code",
   "execution_count": null,
   "id": "e9ada073",
   "metadata": {},
   "outputs": [],
   "source": [
    "# Seu código aqui\n"
   ]
  },
  {
   "cell_type": "markdown",
   "id": "eea2326d",
   "metadata": {},
   "source": [
    "## Anomaly & Outlier Detection"
   ]
  },
  {
   "cell_type": "markdown",
   "id": "98f2aaa4",
   "metadata": {},
   "source": [
    "**Use DBSCAN em `trip_distance` vs `fare_amount` para detectar outliers.**"
   ]
  },
  {
   "cell_type": "code",
   "execution_count": null,
   "id": "58a9a1d1",
   "metadata": {},
   "outputs": [],
   "source": [
    "# Seu código aqui\n"
   ]
  },
  {
   "cell_type": "markdown",
   "id": "09995785",
   "metadata": {},
   "source": [
    "**Conte quantas viagens têm `fare_amount` < 0.**"
   ]
  },
  {
   "cell_type": "code",
   "execution_count": null,
   "id": "c6ede18d",
   "metadata": {},
   "outputs": [],
   "source": [
    "# Seu código aqui\n"
   ]
  },
  {
   "cell_type": "markdown",
   "id": "ae9b18fe",
   "metadata": {},
   "source": [
    "**Crie boxplot de `tip_amount` para encontrar valores extremos.**"
   ]
  },
  {
   "cell_type": "code",
   "execution_count": null,
   "id": "512e6cfe",
   "metadata": {},
   "outputs": [],
   "source": [
    "# Seu código aqui\n"
   ]
  },
  {
   "cell_type": "markdown",
   "id": "f0abcd14",
   "metadata": {},
   "source": [
    "**Marque viagens com distância > 100 km como anômalas.**"
   ]
  },
  {
   "cell_type": "code",
   "execution_count": null,
   "id": "61f8e0b4",
   "metadata": {},
   "outputs": [],
   "source": [
    "# Seu código aqui\n"
   ]
  },
  {
   "cell_type": "markdown",
   "id": "cca86be6",
   "metadata": {},
   "source": [
    "**Visualize anômalas sobre mapa scatter vermelho.**"
   ]
  },
  {
   "cell_type": "code",
   "execution_count": null,
   "id": "15187ab8",
   "metadata": {},
   "outputs": [],
   "source": [
    "# Seu código aqui\n"
   ]
  },
  {
   "cell_type": "markdown",
   "id": "0e820349",
   "metadata": {},
   "source": [
    "## Feature Engineering"
   ]
  },
  {
   "cell_type": "markdown",
   "id": "6db16a92",
   "metadata": {},
   "source": [
    "**Crie coluna `trip_duration_min` = (dropoff_pickup)/60s.**"
   ]
  },
  {
   "cell_type": "code",
   "execution_count": null,
   "id": "616f8510",
   "metadata": {},
   "outputs": [],
   "source": [
    "# Seu código aqui\n"
   ]
  },
  {
   "cell_type": "markdown",
   "id": "9da83e9d",
   "metadata": {},
   "source": [
    "**Crie coluna `speed_kmph` = `trip_distance` / (duration_h).**"
   ]
  },
  {
   "cell_type": "code",
   "execution_count": null,
   "id": "de3797c9",
   "metadata": {},
   "outputs": [],
   "source": [
    "# Seu código aqui\n"
   ]
  },
  {
   "cell_type": "markdown",
   "id": "67aca0db",
   "metadata": {},
   "source": [
    "**Crie bin de `tip_percent` = `tip_amount` / `fare_amount`.**"
   ]
  },
  {
   "cell_type": "code",
   "execution_count": null,
   "id": "8fc585f7",
   "metadata": {},
   "outputs": [],
   "source": [
    "# Seu código aqui\n"
   ]
  },
  {
   "cell_type": "markdown",
   "id": "a735c7a3",
   "metadata": {},
   "source": [
    "**Binarize `payment_type` em categorical dummies.**"
   ]
  },
  {
   "cell_type": "code",
   "execution_count": null,
   "id": "f4d64872",
   "metadata": {},
   "outputs": [],
   "source": [
    "# Seu código aqui\n"
   ]
  },
  {
   "cell_type": "markdown",
   "id": "aff71645",
   "metadata": {},
   "source": [
    "**Normalize `pickup_longitude` usando StandardScaler.**"
   ]
  },
  {
   "cell_type": "code",
   "execution_count": null,
   "id": "b3e67737",
   "metadata": {},
   "outputs": [],
   "source": [
    "# Seu código aqui\n"
   ]
  },
  {
   "cell_type": "markdown",
   "id": "529a7041",
   "metadata": {},
   "source": [
    "## Storytelling & Insights"
   ]
  },
  {
   "cell_type": "markdown",
   "id": "e7f91d8e",
   "metadata": {},
   "source": [
    "**Escreva insight sobre variação de `fare_amount` por hora.**"
   ]
  },
  {
   "cell_type": "code",
   "execution_count": null,
   "id": "8cb0f38c",
   "metadata": {},
   "outputs": [],
   "source": [
    "# Seu código aqui\n"
   ]
  },
  {
   "cell_type": "markdown",
   "id": "33addb08",
   "metadata": {},
   "source": [
    "**Visualize distribuição de `speed_kmph` e descreva anomalias.**"
   ]
  },
  {
   "cell_type": "code",
   "execution_count": null,
   "id": "14232083",
   "metadata": {},
   "outputs": [],
   "source": [
    "# Seu código aqui\n"
   ]
  },
  {
   "cell_type": "markdown",
   "id": "8e3c41eb",
   "metadata": {},
   "source": [
    "**Resuma em 3 bullets como `payment_type` afeta `tip_percent`.**"
   ]
  },
  {
   "cell_type": "code",
   "execution_count": null,
   "id": "765cc056",
   "metadata": {},
   "outputs": [],
   "source": [
    "# Seu código aqui\n"
   ]
  },
  {
   "cell_type": "markdown",
   "id": "99dab46b",
   "metadata": {},
   "source": [
    "**Crie dashboard (com subplots) de métricas chave.**"
   ]
  },
  {
   "cell_type": "code",
   "execution_count": null,
   "id": "f533718b",
   "metadata": {},
   "outputs": [],
   "source": [
    "# Seu código aqui\n"
   ]
  },
  {
   "cell_type": "markdown",
   "id": "e61bb7b9",
   "metadata": {},
   "source": [
    "**Liste próximos passos de investigação em texto Markdown.**"
   ]
  },
  {
   "cell_type": "code",
   "execution_count": null,
   "id": "ef52fcae",
   "metadata": {},
   "outputs": [],
   "source": [
    "# Seu código aqui\n"
   ]
  },
  {
   "cell_type": "markdown",
   "id": "3c5ab00c",
   "metadata": {},
   "source": [
    "## Carregamento & Amostra"
   ]
  },
  {
   "cell_type": "markdown",
   "id": "52059dae",
   "metadata": {},
   "source": [
    "**Carregue um sample de 100k linhas do dataset NYC Taxi em `df`.**"
   ]
  },
  {
   "cell_type": "code",
   "execution_count": null,
   "id": "e6fb6d02",
   "metadata": {},
   "outputs": [],
   "source": [
    "# Seu código aqui\n"
   ]
  },
  {
   "cell_type": "markdown",
   "id": "730b67dc",
   "metadata": {},
   "source": [
    "**Mostre as 5 primeiras linhas e `df.info()`.**"
   ]
  },
  {
   "cell_type": "code",
   "execution_count": null,
   "id": "dde1fd0b",
   "metadata": {},
   "outputs": [],
   "source": [
    "# Seu código aqui\n"
   ]
  },
  {
   "cell_type": "markdown",
   "id": "10cd456d",
   "metadata": {},
   "source": [
    "**Converta `pickup_datetime` para datetime e defina como índice.**"
   ]
  },
  {
   "cell_type": "code",
   "execution_count": null,
   "id": "9c61d56c",
   "metadata": {},
   "outputs": [],
   "source": [
    "# Seu código aqui\n"
   ]
  },
  {
   "cell_type": "markdown",
   "id": "540043e4",
   "metadata": {},
   "source": [
    "**Quantos anos de dados estão presentes em `pickup_datetime`?**"
   ]
  },
  {
   "cell_type": "code",
   "execution_count": null,
   "id": "f6ae5ad9",
   "metadata": {},
   "outputs": [],
   "source": [
    "# Seu código aqui\n"
   ]
  },
  {
   "cell_type": "markdown",
   "id": "bcdab44a",
   "metadata": {},
   "source": [
    "**Mostre as colunas numéricas e sua contagem de valores não nulos.**"
   ]
  },
  {
   "cell_type": "code",
   "execution_count": null,
   "id": "97a9282d",
   "metadata": {},
   "outputs": [],
   "source": [
    "# Seu código aqui\n"
   ]
  },
  {
   "cell_type": "markdown",
   "id": "9721d9db",
   "metadata": {},
   "source": [
    "## Estatística Avançada"
   ]
  },
  {
   "cell_type": "markdown",
   "id": "72f4a00a",
   "metadata": {},
   "source": [
    "**Calcule quantil 95 de `dropoff_latitude`.**"
   ]
  },
  {
   "cell_type": "code",
   "execution_count": null,
   "id": "e4a156b9",
   "metadata": {},
   "outputs": [],
   "source": [
    "# Seu código aqui\n"
   ]
  },
  {
   "cell_type": "markdown",
   "id": "eb37d504",
   "metadata": {},
   "source": [
    "**Compare média e mediana de `pickup_longitude` para detectar skew.**"
   ]
  },
  {
   "cell_type": "code",
   "execution_count": null,
   "id": "403cbbf5",
   "metadata": {},
   "outputs": [],
   "source": [
    "# Seu código aqui\n"
   ]
  },
  {
   "cell_type": "markdown",
   "id": "183a184a",
   "metadata": {},
   "source": [
    "**Encontre valor máximo de `passenger_count` e mostre a linha correspondente.**"
   ]
  },
  {
   "cell_type": "code",
   "execution_count": null,
   "id": "b8647479",
   "metadata": {},
   "outputs": [],
   "source": [
    "# Seu código aqui\n"
   ]
  },
  {
   "cell_type": "markdown",
   "id": "e7a54a0c",
   "metadata": {},
   "source": [
    "**Compute IQR de `dropoff_latitude` e defina limites de outlier.**"
   ]
  },
  {
   "cell_type": "code",
   "execution_count": null,
   "id": "3b0ae955",
   "metadata": {},
   "outputs": [],
   "source": [
    "# Seu código aqui\n"
   ]
  },
  {
   "cell_type": "markdown",
   "id": "6c96d119",
   "metadata": {},
   "source": [
    "**Conte passageiros (`passenger_count`) > 4.**"
   ]
  },
  {
   "cell_type": "code",
   "execution_count": null,
   "id": "f54bfb61",
   "metadata": {},
   "outputs": [],
   "source": [
    "# Seu código aqui\n"
   ]
  },
  {
   "cell_type": "markdown",
   "id": "83078267",
   "metadata": {},
   "source": [
    "## Visualização Temporal"
   ]
  },
  {
   "cell_type": "markdown",
   "id": "a549c7ce",
   "metadata": {},
   "source": [
    "**Plote série mensal da média de `trip_distance`.**"
   ]
  },
  {
   "cell_type": "code",
   "execution_count": null,
   "id": "a0de303b",
   "metadata": {},
   "outputs": [],
   "source": [
    "# Seu código aqui\n"
   ]
  },
  {
   "cell_type": "markdown",
   "id": "d27e021d",
   "metadata": {},
   "source": [
    "**Crie gráfico de heatmap dia da semana vs hora para média de `tip_amount`.**"
   ]
  },
  {
   "cell_type": "code",
   "execution_count": null,
   "id": "31197a4d",
   "metadata": {},
   "outputs": [],
   "source": [
    "# Seu código aqui\n"
   ]
  },
  {
   "cell_type": "markdown",
   "id": "042d43c7",
   "metadata": {},
   "source": [
    "**Desenhe boxplot de `total_amount` por hora do dia.**"
   ]
  },
  {
   "cell_type": "code",
   "execution_count": null,
   "id": "657f09af",
   "metadata": {},
   "outputs": [],
   "source": [
    "# Seu código aqui\n"
   ]
  },
  {
   "cell_type": "markdown",
   "id": "da715d41",
   "metadata": {},
   "source": [
    "**Crie gráficos de rolling mean (window=30d) para `passenger_count`.**"
   ]
  },
  {
   "cell_type": "code",
   "execution_count": null,
   "id": "c94da39e",
   "metadata": {},
   "outputs": [],
   "source": [
    "# Seu código aqui\n"
   ]
  },
  {
   "cell_type": "markdown",
   "id": "265f9fd4",
   "metadata": {},
   "source": [
    "**Exiba autocorrelação parcial (PACF) de `dropoff_longitude` agregado diário.**"
   ]
  },
  {
   "cell_type": "code",
   "execution_count": null,
   "id": "b93f98ef",
   "metadata": {},
   "outputs": [],
   "source": [
    "# Seu código aqui\n"
   ]
  },
  {
   "cell_type": "markdown",
   "id": "8cd728b4",
   "metadata": {},
   "source": [
    "## Geoespacial"
   ]
  },
  {
   "cell_type": "markdown",
   "id": "c416edf0",
   "metadata": {},
   "source": [
    "**Plote um scatter dos pickups longitude/latitude amostrados (10k) sobre mapa simples.**"
   ]
  },
  {
   "cell_type": "code",
   "execution_count": null,
   "id": "62fe4600",
   "metadata": {},
   "outputs": [],
   "source": [
    "# Seu código aqui\n"
   ]
  },
  {
   "cell_type": "markdown",
   "id": "d7b35cbd",
   "metadata": {},
   "source": [
    "**Crie hexbin map da densidade de pickups.**"
   ]
  },
  {
   "cell_type": "code",
   "execution_count": null,
   "id": "4f6c92c3",
   "metadata": {},
   "outputs": [],
   "source": [
    "# Seu código aqui\n"
   ]
  },
  {
   "cell_type": "markdown",
   "id": "fbea6f6b",
   "metadata": {},
   "source": [
    "**Calcule distância haversine entre pickup e dropoff.**"
   ]
  },
  {
   "cell_type": "code",
   "execution_count": null,
   "id": "059f314f",
   "metadata": {},
   "outputs": [],
   "source": [
    "# Seu código aqui\n"
   ]
  },
  {
   "cell_type": "markdown",
   "id": "89edaf6d",
   "metadata": {},
   "source": [
    "**Agrupe por borough e calcule média de `trip_distance`.**"
   ]
  },
  {
   "cell_type": "code",
   "execution_count": null,
   "id": "ad302130",
   "metadata": {},
   "outputs": [],
   "source": [
    "# Seu código aqui\n"
   ]
  },
  {
   "cell_type": "markdown",
   "id": "71aca8ba",
   "metadata": {},
   "source": [
    "**Desenhe choropleth de valor médio de `fare_amount` por borough.**"
   ]
  },
  {
   "cell_type": "code",
   "execution_count": null,
   "id": "d85dc5f3",
   "metadata": {},
   "outputs": [],
   "source": [
    "# Seu código aqui\n"
   ]
  },
  {
   "cell_type": "markdown",
   "id": "9e139270",
   "metadata": {},
   "source": [
    "## UMAP + HDBSCAN"
   ]
  },
  {
   "cell_type": "markdown",
   "id": "c0dff416",
   "metadata": {},
   "source": [
    "**Selecione `tip_amount`, `trip_distance`, `total_amount` e reduza dimensão para 2‑D com UMAP.**"
   ]
  },
  {
   "cell_type": "code",
   "execution_count": null,
   "id": "6ad2a016",
   "metadata": {},
   "outputs": [],
   "source": [
    "# Seu código aqui\n"
   ]
  },
  {
   "cell_type": "markdown",
   "id": "cee17d01",
   "metadata": {},
   "source": [
    "**Clusterize embedding com HDBSCAN; quantos clusters rótulo != ‑1 existem?**"
   ]
  },
  {
   "cell_type": "code",
   "execution_count": null,
   "id": "197e1a43",
   "metadata": {},
   "outputs": [],
   "source": [
    "# Seu código aqui\n"
   ]
  },
  {
   "cell_type": "markdown",
   "id": "c0a28e2d",
   "metadata": {},
   "source": [
    "**Plote embedding colorido pelos clusters.**"
   ]
  },
  {
   "cell_type": "code",
   "execution_count": null,
   "id": "5a42e483",
   "metadata": {},
   "outputs": [],
   "source": [
    "# Seu código aqui\n"
   ]
  },
  {
   "cell_type": "markdown",
   "id": "6577c793",
   "metadata": {},
   "source": [
    "**Verifique distribuição de `payment_type` por cluster.**"
   ]
  },
  {
   "cell_type": "code",
   "execution_count": null,
   "id": "a947b028",
   "metadata": {},
   "outputs": [],
   "source": [
    "# Seu código aqui\n"
   ]
  },
  {
   "cell_type": "markdown",
   "id": "88ffde95",
   "metadata": {},
   "source": [
    "**Explique significado possível do cluster com maior média de `tip_amount`.**"
   ]
  },
  {
   "cell_type": "code",
   "execution_count": null,
   "id": "258f71d9",
   "metadata": {},
   "outputs": [],
   "source": [
    "# Seu código aqui\n"
   ]
  },
  {
   "cell_type": "markdown",
   "id": "b2d99f60",
   "metadata": {},
   "source": [
    "## Grafos & Centralidade"
   ]
  },
  {
   "cell_type": "markdown",
   "id": "2a1a4772",
   "metadata": {},
   "source": [
    "**Construa grafo onde nós são boroughs com arestas quando passageiros viajam entre eles.**"
   ]
  },
  {
   "cell_type": "code",
   "execution_count": null,
   "id": "908d9965",
   "metadata": {},
   "outputs": [],
   "source": [
    "# Seu código aqui\n"
   ]
  },
  {
   "cell_type": "markdown",
   "id": "16664ab8",
   "metadata": {},
   "source": [
    "**Calcule grau e PageRank de cada borough.**"
   ]
  },
  {
   "cell_type": "code",
   "execution_count": null,
   "id": "859d695e",
   "metadata": {},
   "outputs": [],
   "source": [
    "# Seu código aqui\n"
   ]
  },
  {
   "cell_type": "markdown",
   "id": "a769e48e",
   "metadata": {},
   "source": [
    "**Liste top 3 boroughs por PageRank.**"
   ]
  },
  {
   "cell_type": "code",
   "execution_count": null,
   "id": "fcd96a8f",
   "metadata": {},
   "outputs": [],
   "source": [
    "# Seu código aqui\n"
   ]
  },
  {
   "cell_type": "markdown",
   "id": "007af818",
   "metadata": {},
   "source": [
    "**Plote grafo com pesos proporcionais à contagem de viagens.**"
   ]
  },
  {
   "cell_type": "code",
   "execution_count": null,
   "id": "cc16feef",
   "metadata": {},
   "outputs": [],
   "source": [
    "# Seu código aqui\n"
   ]
  },
  {
   "cell_type": "markdown",
   "id": "1b3589eb",
   "metadata": {},
   "source": [
    "**Discuta hub‑ness vs densidade populacional.**"
   ]
  },
  {
   "cell_type": "code",
   "execution_count": null,
   "id": "07cb9efc",
   "metadata": {},
   "outputs": [],
   "source": [
    "# Seu código aqui\n"
   ]
  },
  {
   "cell_type": "markdown",
   "id": "3386dfd2",
   "metadata": {},
   "source": [
    "## Regras de Associação"
   ]
  },
  {
   "cell_type": "markdown",
   "id": "38ec8d85",
   "metadata": {},
   "source": [
    "**Discretize `trip_distance` em bins curtos/longos e crie dummies.**"
   ]
  },
  {
   "cell_type": "code",
   "execution_count": null,
   "id": "1bbaf695",
   "metadata": {},
   "outputs": [],
   "source": [
    "# Seu código aqui\n"
   ]
  },
  {
   "cell_type": "markdown",
   "id": "7767b838",
   "metadata": {},
   "source": [
    "**Gere DataFrame one‑hot de `rate_code` + bins criados.**"
   ]
  },
  {
   "cell_type": "code",
   "execution_count": null,
   "id": "e58ac686",
   "metadata": {},
   "outputs": [],
   "source": [
    "# Seu código aqui\n"
   ]
  },
  {
   "cell_type": "markdown",
   "id": "f990cde1",
   "metadata": {},
   "source": [
    "**Execute Apriori (min_support=0.02) e derive regras (lift>1.3).**"
   ]
  },
  {
   "cell_type": "code",
   "execution_count": null,
   "id": "6e8d2ef7",
   "metadata": {},
   "outputs": [],
   "source": [
    "# Seu código aqui\n"
   ]
  },
  {
   "cell_type": "markdown",
   "id": "0d0e976a",
   "metadata": {},
   "source": [
    "**Mostre top 5 regras ordenadas por lift.**"
   ]
  },
  {
   "cell_type": "code",
   "execution_count": null,
   "id": "2816b9ed",
   "metadata": {},
   "outputs": [],
   "source": [
    "# Seu código aqui\n"
   ]
  },
  {
   "cell_type": "markdown",
   "id": "ab27b694",
   "metadata": {},
   "source": [
    "**Interprete regra com maior confiança.**"
   ]
  },
  {
   "cell_type": "code",
   "execution_count": null,
   "id": "c6362baf",
   "metadata": {},
   "outputs": [],
   "source": [
    "# Seu código aqui\n"
   ]
  },
  {
   "cell_type": "markdown",
   "id": "f15d88ee",
   "metadata": {},
   "source": [
    "## Anomaly & Outlier Detection"
   ]
  },
  {
   "cell_type": "markdown",
   "id": "3a59a0d7",
   "metadata": {},
   "source": [
    "**Use DBSCAN em `trip_distance` vs `fare_amount` para detectar outliers.**"
   ]
  },
  {
   "cell_type": "code",
   "execution_count": null,
   "id": "9cc8d195",
   "metadata": {},
   "outputs": [],
   "source": [
    "# Seu código aqui\n"
   ]
  },
  {
   "cell_type": "markdown",
   "id": "8fb808db",
   "metadata": {},
   "source": [
    "**Conte quantas viagens têm `fare_amount` < 0.**"
   ]
  },
  {
   "cell_type": "code",
   "execution_count": null,
   "id": "6fa9df18",
   "metadata": {},
   "outputs": [],
   "source": [
    "# Seu código aqui\n"
   ]
  },
  {
   "cell_type": "markdown",
   "id": "b3781308",
   "metadata": {},
   "source": [
    "**Crie boxplot de `tip_amount` para encontrar valores extremos.**"
   ]
  },
  {
   "cell_type": "code",
   "execution_count": null,
   "id": "8a749cdc",
   "metadata": {},
   "outputs": [],
   "source": [
    "# Seu código aqui\n"
   ]
  },
  {
   "cell_type": "markdown",
   "id": "e50f59c9",
   "metadata": {},
   "source": [
    "**Marque viagens com distância > 100 km como anômalas.**"
   ]
  },
  {
   "cell_type": "code",
   "execution_count": null,
   "id": "5fe2cb3c",
   "metadata": {},
   "outputs": [],
   "source": [
    "# Seu código aqui\n"
   ]
  },
  {
   "cell_type": "markdown",
   "id": "9d2df90d",
   "metadata": {},
   "source": [
    "**Visualize anômalas sobre mapa scatter vermelho.**"
   ]
  },
  {
   "cell_type": "code",
   "execution_count": null,
   "id": "f59cda32",
   "metadata": {},
   "outputs": [],
   "source": [
    "# Seu código aqui\n"
   ]
  },
  {
   "cell_type": "markdown",
   "id": "b5f44f88",
   "metadata": {},
   "source": [
    "## Feature Engineering"
   ]
  },
  {
   "cell_type": "markdown",
   "id": "a930268f",
   "metadata": {},
   "source": [
    "**Crie coluna `trip_duration_min` = (dropoff_pickup)/60s.**"
   ]
  },
  {
   "cell_type": "code",
   "execution_count": null,
   "id": "1d795cf1",
   "metadata": {},
   "outputs": [],
   "source": [
    "# Seu código aqui\n"
   ]
  },
  {
   "cell_type": "markdown",
   "id": "cf7f0704",
   "metadata": {},
   "source": [
    "**Crie coluna `speed_kmph` = `trip_distance` / (duration_h).**"
   ]
  },
  {
   "cell_type": "code",
   "execution_count": null,
   "id": "69b5809e",
   "metadata": {},
   "outputs": [],
   "source": [
    "# Seu código aqui\n"
   ]
  },
  {
   "cell_type": "markdown",
   "id": "e9913b5a",
   "metadata": {},
   "source": [
    "**Crie bin de `tip_percent` = `tip_amount` / `fare_amount`.**"
   ]
  },
  {
   "cell_type": "code",
   "execution_count": null,
   "id": "f0a7e6a4",
   "metadata": {},
   "outputs": [],
   "source": [
    "# Seu código aqui\n"
   ]
  },
  {
   "cell_type": "markdown",
   "id": "9f23267d",
   "metadata": {},
   "source": [
    "**Binarize `payment_type` em categorical dummies.**"
   ]
  },
  {
   "cell_type": "code",
   "execution_count": null,
   "id": "11a281fd",
   "metadata": {},
   "outputs": [],
   "source": [
    "# Seu código aqui\n"
   ]
  },
  {
   "cell_type": "markdown",
   "id": "8962ab26",
   "metadata": {},
   "source": [
    "**Normalize `trip_distance` usando StandardScaler.**"
   ]
  },
  {
   "cell_type": "code",
   "execution_count": null,
   "id": "6fce0a0c",
   "metadata": {},
   "outputs": [],
   "source": [
    "# Seu código aqui\n"
   ]
  },
  {
   "cell_type": "markdown",
   "id": "d8d8f2ab",
   "metadata": {},
   "source": [
    "## Storytelling & Insights"
   ]
  },
  {
   "cell_type": "markdown",
   "id": "8e0ee64c",
   "metadata": {},
   "source": [
    "**Escreva insight sobre variação de `fare_amount` por hora.**"
   ]
  },
  {
   "cell_type": "code",
   "execution_count": null,
   "id": "537628a0",
   "metadata": {},
   "outputs": [],
   "source": [
    "# Seu código aqui\n"
   ]
  },
  {
   "cell_type": "markdown",
   "id": "e0ed5553",
   "metadata": {},
   "source": [
    "**Visualize distribuição de `speed_kmph` e descreva anomalias.**"
   ]
  },
  {
   "cell_type": "code",
   "execution_count": null,
   "id": "090090d3",
   "metadata": {},
   "outputs": [],
   "source": [
    "# Seu código aqui\n"
   ]
  },
  {
   "cell_type": "markdown",
   "id": "e0242d0e",
   "metadata": {},
   "source": [
    "**Resuma em 3 bullets como `payment_type` afeta `tip_percent`.**"
   ]
  },
  {
   "cell_type": "code",
   "execution_count": null,
   "id": "6c55fb9a",
   "metadata": {},
   "outputs": [],
   "source": [
    "# Seu código aqui\n"
   ]
  },
  {
   "cell_type": "markdown",
   "id": "b40a9064",
   "metadata": {},
   "source": [
    "**Crie dashboard (com subplots) de métricas chave.**"
   ]
  },
  {
   "cell_type": "code",
   "execution_count": null,
   "id": "92657a25",
   "metadata": {},
   "outputs": [],
   "source": [
    "# Seu código aqui\n"
   ]
  },
  {
   "cell_type": "markdown",
   "id": "faaacfe5",
   "metadata": {},
   "source": [
    "**Liste próximos passos de investigação em texto Markdown.**"
   ]
  },
  {
   "cell_type": "code",
   "execution_count": null,
   "id": "81a113c9",
   "metadata": {},
   "outputs": [],
   "source": [
    "# Seu código aqui\n"
   ]
  },
  {
   "cell_type": "markdown",
   "id": "0b75975e",
   "metadata": {},
   "source": [
    "## Carregamento & Amostra"
   ]
  },
  {
   "cell_type": "markdown",
   "id": "e329d776",
   "metadata": {},
   "source": [
    "**Carregue um sample de 100k linhas do dataset NYC Taxi em `df`.**"
   ]
  },
  {
   "cell_type": "code",
   "execution_count": null,
   "id": "4d5fae55",
   "metadata": {},
   "outputs": [],
   "source": [
    "# Seu código aqui\n"
   ]
  },
  {
   "cell_type": "markdown",
   "id": "0031e88d",
   "metadata": {},
   "source": [
    "**Mostre as 5 primeiras linhas e `df.info()`.**"
   ]
  },
  {
   "cell_type": "code",
   "execution_count": null,
   "id": "f9f6ddb5",
   "metadata": {},
   "outputs": [],
   "source": [
    "# Seu código aqui\n"
   ]
  },
  {
   "cell_type": "markdown",
   "id": "a798b45a",
   "metadata": {},
   "source": [
    "**Converta `dropoff_datetime` para datetime e defina como índice.**"
   ]
  },
  {
   "cell_type": "code",
   "execution_count": null,
   "id": "18150124",
   "metadata": {},
   "outputs": [],
   "source": [
    "# Seu código aqui\n"
   ]
  },
  {
   "cell_type": "markdown",
   "id": "fddebd01",
   "metadata": {},
   "source": [
    "**Quantos anos de dados estão presentes em `pickup_datetime`?**"
   ]
  },
  {
   "cell_type": "code",
   "execution_count": null,
   "id": "9a759b6a",
   "metadata": {},
   "outputs": [],
   "source": [
    "# Seu código aqui\n"
   ]
  },
  {
   "cell_type": "markdown",
   "id": "b86d361d",
   "metadata": {},
   "source": [
    "**Mostre as colunas numéricas e sua contagem de valores não nulos.**"
   ]
  },
  {
   "cell_type": "code",
   "execution_count": null,
   "id": "32d6e27c",
   "metadata": {},
   "outputs": [],
   "source": [
    "# Seu código aqui\n"
   ]
  },
  {
   "cell_type": "markdown",
   "id": "f5be9d4e",
   "metadata": {},
   "source": [
    "## Estatística Avançada"
   ]
  },
  {
   "cell_type": "markdown",
   "id": "a0509d12",
   "metadata": {},
   "source": [
    "**Calcule quantil 95 de `tip_amount`.**"
   ]
  },
  {
   "cell_type": "code",
   "execution_count": null,
   "id": "d9f1526b",
   "metadata": {},
   "outputs": [],
   "source": [
    "# Seu código aqui\n"
   ]
  },
  {
   "cell_type": "markdown",
   "id": "ba65f7ee",
   "metadata": {},
   "source": [
    "**Compare média e mediana de `fare_amount` para detectar skew.**"
   ]
  },
  {
   "cell_type": "code",
   "execution_count": null,
   "id": "a26391f5",
   "metadata": {},
   "outputs": [],
   "source": [
    "# Seu código aqui\n"
   ]
  },
  {
   "cell_type": "markdown",
   "id": "3330988a",
   "metadata": {},
   "source": [
    "**Encontre valor máximo de `pickup_latitude` e mostre a linha correspondente.**"
   ]
  },
  {
   "cell_type": "code",
   "execution_count": null,
   "id": "398900ef",
   "metadata": {},
   "outputs": [],
   "source": [
    "# Seu código aqui\n"
   ]
  },
  {
   "cell_type": "markdown",
   "id": "9fbc6767",
   "metadata": {},
   "source": [
    "**Compute IQR de `tip_amount` e defina limites de outlier.**"
   ]
  },
  {
   "cell_type": "code",
   "execution_count": null,
   "id": "b8a310c1",
   "metadata": {},
   "outputs": [],
   "source": [
    "# Seu código aqui\n"
   ]
  },
  {
   "cell_type": "markdown",
   "id": "492e03e4",
   "metadata": {},
   "source": [
    "**Conte passageiros (`passenger_count`) > 4.**"
   ]
  },
  {
   "cell_type": "code",
   "execution_count": null,
   "id": "99151205",
   "metadata": {},
   "outputs": [],
   "source": [
    "# Seu código aqui\n"
   ]
  },
  {
   "cell_type": "markdown",
   "id": "59fe51a8",
   "metadata": {},
   "source": [
    "## Visualização Temporal"
   ]
  },
  {
   "cell_type": "markdown",
   "id": "22057d4c",
   "metadata": {},
   "source": [
    "**Plote série mensal da média de `dropoff_latitude`.**"
   ]
  },
  {
   "cell_type": "code",
   "execution_count": null,
   "id": "efd6d2e6",
   "metadata": {},
   "outputs": [],
   "source": [
    "# Seu código aqui\n"
   ]
  },
  {
   "cell_type": "markdown",
   "id": "3b0a0f6c",
   "metadata": {},
   "source": [
    "**Crie gráfico de heatmap dia da semana vs hora para média de `pickup_longitude`.**"
   ]
  },
  {
   "cell_type": "code",
   "execution_count": null,
   "id": "734d0db7",
   "metadata": {},
   "outputs": [],
   "source": [
    "# Seu código aqui\n"
   ]
  },
  {
   "cell_type": "markdown",
   "id": "be052d4d",
   "metadata": {},
   "source": [
    "**Desenhe boxplot de `tip_amount` por hora do dia.**"
   ]
  },
  {
   "cell_type": "code",
   "execution_count": null,
   "id": "bf533a67",
   "metadata": {},
   "outputs": [],
   "source": [
    "# Seu código aqui\n"
   ]
  },
  {
   "cell_type": "markdown",
   "id": "b3802f42",
   "metadata": {},
   "source": [
    "**Crie gráficos de rolling mean (window=30d) para `fare_amount`.**"
   ]
  },
  {
   "cell_type": "code",
   "execution_count": null,
   "id": "c4e24e28",
   "metadata": {},
   "outputs": [],
   "source": [
    "# Seu código aqui\n"
   ]
  },
  {
   "cell_type": "markdown",
   "id": "968abd3a",
   "metadata": {},
   "source": [
    "**Exiba autocorrelação parcial (PACF) de `pickup_latitude` agregado diário.**"
   ]
  },
  {
   "cell_type": "code",
   "execution_count": null,
   "id": "021e139f",
   "metadata": {},
   "outputs": [],
   "source": [
    "# Seu código aqui\n"
   ]
  },
  {
   "cell_type": "markdown",
   "id": "28b99867",
   "metadata": {},
   "source": [
    "## Geoespacial"
   ]
  },
  {
   "cell_type": "markdown",
   "id": "710cd44b",
   "metadata": {},
   "source": [
    "**Plote um scatter dos pickups longitude/latitude amostrados (10k) sobre mapa simples.**"
   ]
  },
  {
   "cell_type": "code",
   "execution_count": null,
   "id": "eadf4912",
   "metadata": {},
   "outputs": [],
   "source": [
    "# Seu código aqui\n"
   ]
  },
  {
   "cell_type": "markdown",
   "id": "20adeec2",
   "metadata": {},
   "source": [
    "**Crie hexbin map da densidade de pickups.**"
   ]
  },
  {
   "cell_type": "code",
   "execution_count": null,
   "id": "4e5306fb",
   "metadata": {},
   "outputs": [],
   "source": [
    "# Seu código aqui\n"
   ]
  },
  {
   "cell_type": "markdown",
   "id": "2637361f",
   "metadata": {},
   "source": [
    "**Calcule distância haversine entre pickup e dropoff.**"
   ]
  },
  {
   "cell_type": "code",
   "execution_count": null,
   "id": "292874ec",
   "metadata": {},
   "outputs": [],
   "source": [
    "# Seu código aqui\n"
   ]
  },
  {
   "cell_type": "markdown",
   "id": "7d8053ff",
   "metadata": {},
   "source": [
    "**Agrupe por borough e calcule média de `dropoff_longitude`.**"
   ]
  },
  {
   "cell_type": "code",
   "execution_count": null,
   "id": "78e145f2",
   "metadata": {},
   "outputs": [],
   "source": [
    "# Seu código aqui\n"
   ]
  },
  {
   "cell_type": "markdown",
   "id": "a5138301",
   "metadata": {},
   "source": [
    "**Desenhe choropleth de valor médio de `fare_amount` por borough.**"
   ]
  },
  {
   "cell_type": "code",
   "execution_count": null,
   "id": "c7fb2c01",
   "metadata": {},
   "outputs": [],
   "source": [
    "# Seu código aqui\n"
   ]
  },
  {
   "cell_type": "markdown",
   "id": "06acabf6",
   "metadata": {},
   "source": [
    "## UMAP + HDBSCAN"
   ]
  },
  {
   "cell_type": "markdown",
   "id": "8d14d41e",
   "metadata": {},
   "source": [
    "**Selecione `dropoff_latitude`, `trip_distance`, `total_amount` e reduza dimensão para 2‑D com UMAP.**"
   ]
  },
  {
   "cell_type": "code",
   "execution_count": null,
   "id": "8ca93ca3",
   "metadata": {},
   "outputs": [],
   "source": [
    "# Seu código aqui\n"
   ]
  },
  {
   "cell_type": "markdown",
   "id": "851b81bc",
   "metadata": {},
   "source": [
    "**Clusterize embedding com HDBSCAN; quantos clusters rótulo != ‑1 existem?**"
   ]
  },
  {
   "cell_type": "code",
   "execution_count": null,
   "id": "c29e82e6",
   "metadata": {},
   "outputs": [],
   "source": [
    "# Seu código aqui\n"
   ]
  },
  {
   "cell_type": "markdown",
   "id": "841b481e",
   "metadata": {},
   "source": [
    "**Plote embedding colorido pelos clusters.**"
   ]
  },
  {
   "cell_type": "code",
   "execution_count": null,
   "id": "0ed3448d",
   "metadata": {},
   "outputs": [],
   "source": [
    "# Seu código aqui\n"
   ]
  },
  {
   "cell_type": "markdown",
   "id": "da4f3d3c",
   "metadata": {},
   "source": [
    "**Verifique distribuição de `payment_type` por cluster.**"
   ]
  },
  {
   "cell_type": "code",
   "execution_count": null,
   "id": "30fa2ae4",
   "metadata": {},
   "outputs": [],
   "source": [
    "# Seu código aqui\n"
   ]
  },
  {
   "cell_type": "markdown",
   "id": "97dacedf",
   "metadata": {},
   "source": [
    "**Explique significado possível do cluster com maior média de `tip_amount`.**"
   ]
  },
  {
   "cell_type": "code",
   "execution_count": null,
   "id": "86b13031",
   "metadata": {},
   "outputs": [],
   "source": [
    "# Seu código aqui\n"
   ]
  },
  {
   "cell_type": "markdown",
   "id": "a801d885",
   "metadata": {},
   "source": [
    "## Grafos & Centralidade"
   ]
  },
  {
   "cell_type": "markdown",
   "id": "243e02cd",
   "metadata": {},
   "source": [
    "**Construa grafo onde nós são boroughs com arestas quando passageiros viajam entre eles.**"
   ]
  },
  {
   "cell_type": "code",
   "execution_count": null,
   "id": "fae7f68b",
   "metadata": {},
   "outputs": [],
   "source": [
    "# Seu código aqui\n"
   ]
  },
  {
   "cell_type": "markdown",
   "id": "6f858ec4",
   "metadata": {},
   "source": [
    "**Calcule grau e PageRank de cada borough.**"
   ]
  },
  {
   "cell_type": "code",
   "execution_count": null,
   "id": "433a2c0c",
   "metadata": {},
   "outputs": [],
   "source": [
    "# Seu código aqui\n"
   ]
  },
  {
   "cell_type": "markdown",
   "id": "e96a46d4",
   "metadata": {},
   "source": [
    "**Liste top 3 boroughs por PageRank.**"
   ]
  },
  {
   "cell_type": "code",
   "execution_count": null,
   "id": "ba3f5412",
   "metadata": {},
   "outputs": [],
   "source": [
    "# Seu código aqui\n"
   ]
  },
  {
   "cell_type": "markdown",
   "id": "38133c0a",
   "metadata": {},
   "source": [
    "**Plote grafo com pesos proporcionais à contagem de viagens.**"
   ]
  },
  {
   "cell_type": "code",
   "execution_count": null,
   "id": "33755615",
   "metadata": {},
   "outputs": [],
   "source": [
    "# Seu código aqui\n"
   ]
  },
  {
   "cell_type": "markdown",
   "id": "4ae1618d",
   "metadata": {},
   "source": [
    "**Discuta hub‑ness vs densidade populacional.**"
   ]
  },
  {
   "cell_type": "code",
   "execution_count": null,
   "id": "f2390a5e",
   "metadata": {},
   "outputs": [],
   "source": [
    "# Seu código aqui\n"
   ]
  },
  {
   "cell_type": "markdown",
   "id": "eacf969a",
   "metadata": {},
   "source": [
    "## Regras de Associação"
   ]
  },
  {
   "cell_type": "markdown",
   "id": "981095ee",
   "metadata": {},
   "source": [
    "**Discretize `trip_distance` em bins curtos/longos e crie dummies.**"
   ]
  },
  {
   "cell_type": "code",
   "execution_count": null,
   "id": "754460f1",
   "metadata": {},
   "outputs": [],
   "source": [
    "# Seu código aqui\n"
   ]
  },
  {
   "cell_type": "markdown",
   "id": "1726e121",
   "metadata": {},
   "source": [
    "**Gere DataFrame one‑hot de `pickup_borough` + bins criados.**"
   ]
  },
  {
   "cell_type": "code",
   "execution_count": null,
   "id": "8675dadd",
   "metadata": {},
   "outputs": [],
   "source": [
    "# Seu código aqui\n"
   ]
  },
  {
   "cell_type": "markdown",
   "id": "f25e50cb",
   "metadata": {},
   "source": [
    "**Execute Apriori (min_support=0.02) e derive regras (lift>1.3).**"
   ]
  },
  {
   "cell_type": "code",
   "execution_count": null,
   "id": "342a9e41",
   "metadata": {},
   "outputs": [],
   "source": [
    "# Seu código aqui\n"
   ]
  },
  {
   "cell_type": "markdown",
   "id": "6b20f9fb",
   "metadata": {},
   "source": [
    "**Mostre top 5 regras ordenadas por lift.**"
   ]
  },
  {
   "cell_type": "code",
   "execution_count": null,
   "id": "5c1c8b16",
   "metadata": {},
   "outputs": [],
   "source": [
    "# Seu código aqui\n"
   ]
  },
  {
   "cell_type": "markdown",
   "id": "96705d07",
   "metadata": {},
   "source": [
    "**Interprete regra com maior confiança.**"
   ]
  },
  {
   "cell_type": "code",
   "execution_count": null,
   "id": "f88cfe1c",
   "metadata": {},
   "outputs": [],
   "source": [
    "# Seu código aqui\n"
   ]
  },
  {
   "cell_type": "markdown",
   "id": "dc30430b",
   "metadata": {},
   "source": [
    "## Anomaly & Outlier Detection"
   ]
  },
  {
   "cell_type": "markdown",
   "id": "36509d43",
   "metadata": {},
   "source": [
    "**Use DBSCAN em `trip_distance` vs `fare_amount` para detectar outliers.**"
   ]
  },
  {
   "cell_type": "code",
   "execution_count": null,
   "id": "b61afd93",
   "metadata": {},
   "outputs": [],
   "source": [
    "# Seu código aqui\n"
   ]
  },
  {
   "cell_type": "markdown",
   "id": "d40d6842",
   "metadata": {},
   "source": [
    "**Conte quantas viagens têm `fare_amount` < 0.**"
   ]
  },
  {
   "cell_type": "code",
   "execution_count": null,
   "id": "6312e521",
   "metadata": {},
   "outputs": [],
   "source": [
    "# Seu código aqui\n"
   ]
  },
  {
   "cell_type": "markdown",
   "id": "aa5a24a3",
   "metadata": {},
   "source": [
    "**Crie boxplot de `tip_amount` para encontrar valores extremos.**"
   ]
  },
  {
   "cell_type": "code",
   "execution_count": null,
   "id": "2387d7f2",
   "metadata": {},
   "outputs": [],
   "source": [
    "# Seu código aqui\n"
   ]
  },
  {
   "cell_type": "markdown",
   "id": "0693d8f1",
   "metadata": {},
   "source": [
    "**Marque viagens com distância > 100 km como anômalas.**"
   ]
  },
  {
   "cell_type": "code",
   "execution_count": null,
   "id": "af5810b5",
   "metadata": {},
   "outputs": [],
   "source": [
    "# Seu código aqui\n"
   ]
  },
  {
   "cell_type": "markdown",
   "id": "6e776f11",
   "metadata": {},
   "source": [
    "**Visualize anômalas sobre mapa scatter vermelho.**"
   ]
  },
  {
   "cell_type": "code",
   "execution_count": null,
   "id": "e28114cd",
   "metadata": {},
   "outputs": [],
   "source": [
    "# Seu código aqui\n"
   ]
  },
  {
   "cell_type": "markdown",
   "id": "90879696",
   "metadata": {},
   "source": [
    "## Feature Engineering"
   ]
  },
  {
   "cell_type": "markdown",
   "id": "1467222b",
   "metadata": {},
   "source": [
    "**Crie coluna `trip_duration_min` = (dropoff_pickup)/60s.**"
   ]
  },
  {
   "cell_type": "code",
   "execution_count": null,
   "id": "d841ae14",
   "metadata": {},
   "outputs": [],
   "source": [
    "# Seu código aqui\n"
   ]
  },
  {
   "cell_type": "markdown",
   "id": "d5a7d45c",
   "metadata": {},
   "source": [
    "**Crie coluna `speed_kmph` = `trip_distance` / (duration_h).**"
   ]
  },
  {
   "cell_type": "code",
   "execution_count": null,
   "id": "55bc0412",
   "metadata": {},
   "outputs": [],
   "source": [
    "# Seu código aqui\n"
   ]
  },
  {
   "cell_type": "markdown",
   "id": "07ed3e97",
   "metadata": {},
   "source": [
    "**Crie bin de `tip_percent` = `tip_amount` / `fare_amount`.**"
   ]
  },
  {
   "cell_type": "code",
   "execution_count": null,
   "id": "566db6ca",
   "metadata": {},
   "outputs": [],
   "source": [
    "# Seu código aqui\n"
   ]
  },
  {
   "cell_type": "markdown",
   "id": "f29288ed",
   "metadata": {},
   "source": [
    "**Binarize `payment_type` em categorical dummies.**"
   ]
  },
  {
   "cell_type": "code",
   "execution_count": null,
   "id": "b18b73b2",
   "metadata": {},
   "outputs": [],
   "source": [
    "# Seu código aqui\n"
   ]
  },
  {
   "cell_type": "markdown",
   "id": "85037e55",
   "metadata": {},
   "source": [
    "**Normalize `fare_amount` usando StandardScaler.**"
   ]
  },
  {
   "cell_type": "code",
   "execution_count": null,
   "id": "1704ee00",
   "metadata": {},
   "outputs": [],
   "source": [
    "# Seu código aqui\n"
   ]
  },
  {
   "cell_type": "markdown",
   "id": "7cb84737",
   "metadata": {},
   "source": [
    "## Storytelling & Insights"
   ]
  },
  {
   "cell_type": "markdown",
   "id": "e7be78d9",
   "metadata": {},
   "source": [
    "**Escreva insight sobre variação de `fare_amount` por hora.**"
   ]
  },
  {
   "cell_type": "code",
   "execution_count": null,
   "id": "a8a57914",
   "metadata": {},
   "outputs": [],
   "source": [
    "# Seu código aqui\n"
   ]
  },
  {
   "cell_type": "markdown",
   "id": "138f25b2",
   "metadata": {},
   "source": [
    "**Visualize distribuição de `speed_kmph` e descreva anomalias.**"
   ]
  },
  {
   "cell_type": "code",
   "execution_count": null,
   "id": "f6533375",
   "metadata": {},
   "outputs": [],
   "source": [
    "# Seu código aqui\n"
   ]
  },
  {
   "cell_type": "markdown",
   "id": "58325fad",
   "metadata": {},
   "source": [
    "**Resuma em 3 bullets como `payment_type` afeta `tip_percent`.**"
   ]
  },
  {
   "cell_type": "code",
   "execution_count": null,
   "id": "a76112d6",
   "metadata": {},
   "outputs": [],
   "source": [
    "# Seu código aqui\n"
   ]
  },
  {
   "cell_type": "markdown",
   "id": "cbbb6dcc",
   "metadata": {},
   "source": [
    "**Crie dashboard (com subplots) de métricas chave.**"
   ]
  },
  {
   "cell_type": "code",
   "execution_count": null,
   "id": "7939cea6",
   "metadata": {},
   "outputs": [],
   "source": [
    "# Seu código aqui\n"
   ]
  },
  {
   "cell_type": "markdown",
   "id": "8ec0b02a",
   "metadata": {},
   "source": [
    "**Liste próximos passos de investigação em texto Markdown.**"
   ]
  },
  {
   "cell_type": "code",
   "execution_count": null,
   "id": "0d9e4c41",
   "metadata": {},
   "outputs": [],
   "source": [
    "# Seu código aqui\n"
   ]
  },
  {
   "cell_type": "markdown",
   "id": "93e7a8b2",
   "metadata": {},
   "source": [
    "## Carregamento & Amostra"
   ]
  },
  {
   "cell_type": "markdown",
   "id": "ded73a00",
   "metadata": {},
   "source": [
    "**Carregue um sample de 100k linhas do dataset NYC Taxi em `df`.**"
   ]
  },
  {
   "cell_type": "code",
   "execution_count": null,
   "id": "7350e633",
   "metadata": {},
   "outputs": [],
   "source": [
    "# Seu código aqui\n"
   ]
  },
  {
   "cell_type": "markdown",
   "id": "33acc99e",
   "metadata": {},
   "source": [
    "**Mostre as 5 primeiras linhas e `df.info()`.**"
   ]
  },
  {
   "cell_type": "code",
   "execution_count": null,
   "id": "c3aa1b09",
   "metadata": {},
   "outputs": [],
   "source": [
    "# Seu código aqui\n"
   ]
  },
  {
   "cell_type": "markdown",
   "id": "33a57799",
   "metadata": {},
   "source": [
    "**Converta `pickup_datetime` para datetime e defina como índice.**"
   ]
  },
  {
   "cell_type": "code",
   "execution_count": null,
   "id": "5eb19945",
   "metadata": {},
   "outputs": [],
   "source": [
    "# Seu código aqui\n"
   ]
  },
  {
   "cell_type": "markdown",
   "id": "5e25ff0e",
   "metadata": {},
   "source": [
    "**Quantos anos de dados estão presentes em `pickup_datetime`?**"
   ]
  },
  {
   "cell_type": "code",
   "execution_count": null,
   "id": "d44b6fb5",
   "metadata": {},
   "outputs": [],
   "source": [
    "# Seu código aqui\n"
   ]
  },
  {
   "cell_type": "markdown",
   "id": "53ea2390",
   "metadata": {},
   "source": [
    "**Mostre as colunas numéricas e sua contagem de valores não nulos.**"
   ]
  },
  {
   "cell_type": "code",
   "execution_count": null,
   "id": "ab9a27aa",
   "metadata": {},
   "outputs": [],
   "source": [
    "# Seu código aqui\n"
   ]
  },
  {
   "cell_type": "markdown",
   "id": "2b16c57e",
   "metadata": {},
   "source": [
    "## Estatística Avançada"
   ]
  },
  {
   "cell_type": "markdown",
   "id": "a37912f8",
   "metadata": {},
   "source": [
    "**Calcule quantil 95 de `fare_amount`.**"
   ]
  },
  {
   "cell_type": "code",
   "execution_count": null,
   "id": "bbb038fc",
   "metadata": {},
   "outputs": [],
   "source": [
    "# Seu código aqui\n"
   ]
  },
  {
   "cell_type": "markdown",
   "id": "4d809d63",
   "metadata": {},
   "source": [
    "**Compare média e mediana de `fare_amount` para detectar skew.**"
   ]
  },
  {
   "cell_type": "code",
   "execution_count": null,
   "id": "3a4d1c28",
   "metadata": {},
   "outputs": [],
   "source": [
    "# Seu código aqui\n"
   ]
  },
  {
   "cell_type": "markdown",
   "id": "cae29804",
   "metadata": {},
   "source": [
    "**Encontre valor máximo de `pickup_latitude` e mostre a linha correspondente.**"
   ]
  },
  {
   "cell_type": "code",
   "execution_count": null,
   "id": "55e68fb6",
   "metadata": {},
   "outputs": [],
   "source": [
    "# Seu código aqui\n"
   ]
  },
  {
   "cell_type": "markdown",
   "id": "30680aea",
   "metadata": {},
   "source": [
    "**Compute IQR de `pickup_latitude` e defina limites de outlier.**"
   ]
  },
  {
   "cell_type": "code",
   "execution_count": null,
   "id": "0d962be0",
   "metadata": {},
   "outputs": [],
   "source": [
    "# Seu código aqui\n"
   ]
  },
  {
   "cell_type": "markdown",
   "id": "9f0bd5d2",
   "metadata": {},
   "source": [
    "**Conte passageiros (`passenger_count`) > 4.**"
   ]
  },
  {
   "cell_type": "code",
   "execution_count": null,
   "id": "225e0d6f",
   "metadata": {},
   "outputs": [],
   "source": [
    "# Seu código aqui\n"
   ]
  },
  {
   "cell_type": "markdown",
   "id": "4ee07722",
   "metadata": {},
   "source": [
    "## Visualização Temporal"
   ]
  },
  {
   "cell_type": "markdown",
   "id": "628ec4c1",
   "metadata": {},
   "source": [
    "**Plote série mensal da média de `passenger_count`.**"
   ]
  },
  {
   "cell_type": "code",
   "execution_count": null,
   "id": "c693d850",
   "metadata": {},
   "outputs": [],
   "source": [
    "# Seu código aqui\n"
   ]
  },
  {
   "cell_type": "markdown",
   "id": "415fea45",
   "metadata": {},
   "source": [
    "**Crie gráfico de heatmap dia da semana vs hora para média de `total_amount`.**"
   ]
  },
  {
   "cell_type": "code",
   "execution_count": null,
   "id": "0d35cc57",
   "metadata": {},
   "outputs": [],
   "source": [
    "# Seu código aqui\n"
   ]
  },
  {
   "cell_type": "markdown",
   "id": "36e05f6a",
   "metadata": {},
   "source": [
    "**Desenhe boxplot de `passenger_count` por hora do dia.**"
   ]
  },
  {
   "cell_type": "code",
   "execution_count": null,
   "id": "fe70fb10",
   "metadata": {},
   "outputs": [],
   "source": [
    "# Seu código aqui\n"
   ]
  },
  {
   "cell_type": "markdown",
   "id": "d2a1e8e0",
   "metadata": {},
   "source": [
    "**Crie gráficos de rolling mean (window=30d) para `tip_amount`.**"
   ]
  },
  {
   "cell_type": "code",
   "execution_count": null,
   "id": "643aa1f0",
   "metadata": {},
   "outputs": [],
   "source": [
    "# Seu código aqui\n"
   ]
  },
  {
   "cell_type": "markdown",
   "id": "002dac1e",
   "metadata": {},
   "source": [
    "**Exiba autocorrelação parcial (PACF) de `pickup_longitude` agregado diário.**"
   ]
  },
  {
   "cell_type": "code",
   "execution_count": null,
   "id": "74b994a8",
   "metadata": {},
   "outputs": [],
   "source": [
    "# Seu código aqui\n"
   ]
  },
  {
   "cell_type": "markdown",
   "id": "9d69450b",
   "metadata": {},
   "source": [
    "## Geoespacial"
   ]
  },
  {
   "cell_type": "markdown",
   "id": "78beb6f7",
   "metadata": {},
   "source": [
    "**Plote um scatter dos pickups longitude/latitude amostrados (10k) sobre mapa simples.**"
   ]
  },
  {
   "cell_type": "code",
   "execution_count": null,
   "id": "e682802c",
   "metadata": {},
   "outputs": [],
   "source": [
    "# Seu código aqui\n"
   ]
  },
  {
   "cell_type": "markdown",
   "id": "6aa91ff2",
   "metadata": {},
   "source": [
    "**Crie hexbin map da densidade de pickups.**"
   ]
  },
  {
   "cell_type": "code",
   "execution_count": null,
   "id": "4cdecdfc",
   "metadata": {},
   "outputs": [],
   "source": [
    "# Seu código aqui\n"
   ]
  },
  {
   "cell_type": "markdown",
   "id": "c4a96dea",
   "metadata": {},
   "source": [
    "**Calcule distância haversine entre pickup e dropoff.**"
   ]
  },
  {
   "cell_type": "code",
   "execution_count": null,
   "id": "6b3f0bec",
   "metadata": {},
   "outputs": [],
   "source": [
    "# Seu código aqui\n"
   ]
  },
  {
   "cell_type": "markdown",
   "id": "c7edb9f9",
   "metadata": {},
   "source": [
    "**Agrupe por borough e calcule média de `fare_amount`.**"
   ]
  },
  {
   "cell_type": "code",
   "execution_count": null,
   "id": "7eb86dfd",
   "metadata": {},
   "outputs": [],
   "source": [
    "# Seu código aqui\n"
   ]
  },
  {
   "cell_type": "markdown",
   "id": "fb05796d",
   "metadata": {},
   "source": [
    "**Desenhe choropleth de valor médio de `fare_amount` por borough.**"
   ]
  },
  {
   "cell_type": "code",
   "execution_count": null,
   "id": "f26b6dc8",
   "metadata": {},
   "outputs": [],
   "source": [
    "# Seu código aqui\n"
   ]
  },
  {
   "cell_type": "markdown",
   "id": "17af8509",
   "metadata": {},
   "source": [
    "## UMAP + HDBSCAN"
   ]
  },
  {
   "cell_type": "markdown",
   "id": "d05ec278",
   "metadata": {},
   "source": [
    "**Selecione `pickup_longitude`, `dropoff_longitude`, `total_amount` e reduza dimensão para 2‑D com UMAP.**"
   ]
  },
  {
   "cell_type": "code",
   "execution_count": null,
   "id": "b9817691",
   "metadata": {},
   "outputs": [],
   "source": [
    "# Seu código aqui\n"
   ]
  },
  {
   "cell_type": "markdown",
   "id": "01cc9da4",
   "metadata": {},
   "source": [
    "**Clusterize embedding com HDBSCAN; quantos clusters rótulo != ‑1 existem?**"
   ]
  },
  {
   "cell_type": "code",
   "execution_count": null,
   "id": "a9774b63",
   "metadata": {},
   "outputs": [],
   "source": [
    "# Seu código aqui\n"
   ]
  },
  {
   "cell_type": "markdown",
   "id": "74ed034e",
   "metadata": {},
   "source": [
    "**Plote embedding colorido pelos clusters.**"
   ]
  },
  {
   "cell_type": "code",
   "execution_count": null,
   "id": "332ff48a",
   "metadata": {},
   "outputs": [],
   "source": [
    "# Seu código aqui\n"
   ]
  },
  {
   "cell_type": "markdown",
   "id": "96593034",
   "metadata": {},
   "source": [
    "**Verifique distribuição de `payment_type` por cluster.**"
   ]
  },
  {
   "cell_type": "code",
   "execution_count": null,
   "id": "81eed743",
   "metadata": {},
   "outputs": [],
   "source": [
    "# Seu código aqui\n"
   ]
  },
  {
   "cell_type": "markdown",
   "id": "3f533f55",
   "metadata": {},
   "source": [
    "**Explique significado possível do cluster com maior média de `tip_amount`.**"
   ]
  },
  {
   "cell_type": "code",
   "execution_count": null,
   "id": "4c582662",
   "metadata": {},
   "outputs": [],
   "source": [
    "# Seu código aqui\n"
   ]
  },
  {
   "cell_type": "markdown",
   "id": "ce567aaa",
   "metadata": {},
   "source": [
    "## Grafos & Centralidade"
   ]
  },
  {
   "cell_type": "markdown",
   "id": "bfffe787",
   "metadata": {},
   "source": [
    "**Construa grafo onde nós são boroughs com arestas quando passageiros viajam entre eles.**"
   ]
  },
  {
   "cell_type": "code",
   "execution_count": null,
   "id": "bb7fc80f",
   "metadata": {},
   "outputs": [],
   "source": [
    "# Seu código aqui\n"
   ]
  },
  {
   "cell_type": "markdown",
   "id": "51d461ed",
   "metadata": {},
   "source": [
    "**Calcule grau e PageRank de cada borough.**"
   ]
  },
  {
   "cell_type": "code",
   "execution_count": null,
   "id": "47c74c9c",
   "metadata": {},
   "outputs": [],
   "source": [
    "# Seu código aqui\n"
   ]
  },
  {
   "cell_type": "markdown",
   "id": "2ebe5f01",
   "metadata": {},
   "source": [
    "**Liste top 3 boroughs por PageRank.**"
   ]
  },
  {
   "cell_type": "code",
   "execution_count": null,
   "id": "6f7e72f8",
   "metadata": {},
   "outputs": [],
   "source": [
    "# Seu código aqui\n"
   ]
  },
  {
   "cell_type": "markdown",
   "id": "4c64c04b",
   "metadata": {},
   "source": [
    "**Plote grafo com pesos proporcionais à contagem de viagens.**"
   ]
  },
  {
   "cell_type": "code",
   "execution_count": null,
   "id": "eb7be001",
   "metadata": {},
   "outputs": [],
   "source": [
    "# Seu código aqui\n"
   ]
  },
  {
   "cell_type": "markdown",
   "id": "28fe243a",
   "metadata": {},
   "source": [
    "**Discuta hub‑ness vs densidade populacional.**"
   ]
  },
  {
   "cell_type": "code",
   "execution_count": null,
   "id": "e7120d08",
   "metadata": {},
   "outputs": [],
   "source": [
    "# Seu código aqui\n"
   ]
  },
  {
   "cell_type": "markdown",
   "id": "2eac37d3",
   "metadata": {},
   "source": [
    "## Regras de Associação"
   ]
  },
  {
   "cell_type": "markdown",
   "id": "8a965dae",
   "metadata": {},
   "source": [
    "**Discretize `trip_distance` em bins curtos/longos e crie dummies.**"
   ]
  },
  {
   "cell_type": "code",
   "execution_count": null,
   "id": "cdc453b4",
   "metadata": {},
   "outputs": [],
   "source": [
    "# Seu código aqui\n"
   ]
  },
  {
   "cell_type": "markdown",
   "id": "4d03e21d",
   "metadata": {},
   "source": [
    "**Gere DataFrame one‑hot de `vendor_id` + bins criados.**"
   ]
  },
  {
   "cell_type": "code",
   "execution_count": null,
   "id": "064c83f1",
   "metadata": {},
   "outputs": [],
   "source": [
    "# Seu código aqui\n"
   ]
  },
  {
   "cell_type": "markdown",
   "id": "a09be7c0",
   "metadata": {},
   "source": [
    "**Execute Apriori (min_support=0.02) e derive regras (lift>1.3).**"
   ]
  },
  {
   "cell_type": "code",
   "execution_count": null,
   "id": "29e9fcfc",
   "metadata": {},
   "outputs": [],
   "source": [
    "# Seu código aqui\n"
   ]
  },
  {
   "cell_type": "markdown",
   "id": "9f8810cb",
   "metadata": {},
   "source": [
    "**Mostre top 5 regras ordenadas por lift.**"
   ]
  },
  {
   "cell_type": "code",
   "execution_count": null,
   "id": "cd3d4ed1",
   "metadata": {},
   "outputs": [],
   "source": [
    "# Seu código aqui\n"
   ]
  },
  {
   "cell_type": "markdown",
   "id": "99dfce94",
   "metadata": {},
   "source": [
    "**Interprete regra com maior confiança.**"
   ]
  },
  {
   "cell_type": "code",
   "execution_count": null,
   "id": "f74bb1ce",
   "metadata": {},
   "outputs": [],
   "source": [
    "# Seu código aqui\n"
   ]
  },
  {
   "cell_type": "markdown",
   "id": "526683f8",
   "metadata": {},
   "source": [
    "## Anomaly & Outlier Detection"
   ]
  },
  {
   "cell_type": "markdown",
   "id": "c5857f74",
   "metadata": {},
   "source": [
    "**Use DBSCAN em `trip_distance` vs `fare_amount` para detectar outliers.**"
   ]
  },
  {
   "cell_type": "code",
   "execution_count": null,
   "id": "65287223",
   "metadata": {},
   "outputs": [],
   "source": [
    "# Seu código aqui\n"
   ]
  },
  {
   "cell_type": "markdown",
   "id": "5b59a102",
   "metadata": {},
   "source": [
    "**Conte quantas viagens têm `fare_amount` < 0.**"
   ]
  },
  {
   "cell_type": "code",
   "execution_count": null,
   "id": "6580c6d0",
   "metadata": {},
   "outputs": [],
   "source": [
    "# Seu código aqui\n"
   ]
  },
  {
   "cell_type": "markdown",
   "id": "3fc4e8de",
   "metadata": {},
   "source": [
    "**Crie boxplot de `tip_amount` para encontrar valores extremos.**"
   ]
  },
  {
   "cell_type": "code",
   "execution_count": null,
   "id": "69b58cc5",
   "metadata": {},
   "outputs": [],
   "source": [
    "# Seu código aqui\n"
   ]
  },
  {
   "cell_type": "markdown",
   "id": "3f7dec35",
   "metadata": {},
   "source": [
    "**Marque viagens com distância > 100 km como anômalas.**"
   ]
  },
  {
   "cell_type": "code",
   "execution_count": null,
   "id": "f5b596e0",
   "metadata": {},
   "outputs": [],
   "source": [
    "# Seu código aqui\n"
   ]
  },
  {
   "cell_type": "markdown",
   "id": "e4455b9f",
   "metadata": {},
   "source": [
    "**Visualize anômalas sobre mapa scatter vermelho.**"
   ]
  },
  {
   "cell_type": "code",
   "execution_count": null,
   "id": "18117e75",
   "metadata": {},
   "outputs": [],
   "source": [
    "# Seu código aqui\n"
   ]
  },
  {
   "cell_type": "markdown",
   "id": "baa2c853",
   "metadata": {},
   "source": [
    "## Feature Engineering"
   ]
  },
  {
   "cell_type": "markdown",
   "id": "608d6536",
   "metadata": {},
   "source": [
    "**Crie coluna `trip_duration_min` = (dropoff_pickup)/60s.**"
   ]
  },
  {
   "cell_type": "code",
   "execution_count": null,
   "id": "d6088c25",
   "metadata": {},
   "outputs": [],
   "source": [
    "# Seu código aqui\n"
   ]
  },
  {
   "cell_type": "markdown",
   "id": "a912e56c",
   "metadata": {},
   "source": [
    "**Crie coluna `speed_kmph` = `trip_distance` / (duration_h).**"
   ]
  },
  {
   "cell_type": "code",
   "execution_count": null,
   "id": "974ce431",
   "metadata": {},
   "outputs": [],
   "source": [
    "# Seu código aqui\n"
   ]
  },
  {
   "cell_type": "markdown",
   "id": "f43c156d",
   "metadata": {},
   "source": [
    "**Crie bin de `tip_percent` = `tip_amount` / `fare_amount`.**"
   ]
  },
  {
   "cell_type": "code",
   "execution_count": null,
   "id": "17319f8b",
   "metadata": {},
   "outputs": [],
   "source": [
    "# Seu código aqui\n"
   ]
  },
  {
   "cell_type": "markdown",
   "id": "ad402aca",
   "metadata": {},
   "source": [
    "**Binarize `payment_type` em categorical dummies.**"
   ]
  },
  {
   "cell_type": "code",
   "execution_count": null,
   "id": "7d10104c",
   "metadata": {},
   "outputs": [],
   "source": [
    "# Seu código aqui\n"
   ]
  },
  {
   "cell_type": "markdown",
   "id": "e60fbed4",
   "metadata": {},
   "source": [
    "**Normalize `passenger_count` usando StandardScaler.**"
   ]
  },
  {
   "cell_type": "code",
   "execution_count": null,
   "id": "2efe7224",
   "metadata": {},
   "outputs": [],
   "source": [
    "# Seu código aqui\n"
   ]
  },
  {
   "cell_type": "markdown",
   "id": "a6cbb5e0",
   "metadata": {},
   "source": [
    "## Storytelling & Insights"
   ]
  },
  {
   "cell_type": "markdown",
   "id": "28086acc",
   "metadata": {},
   "source": [
    "**Escreva insight sobre variação de `fare_amount` por hora.**"
   ]
  },
  {
   "cell_type": "code",
   "execution_count": null,
   "id": "a4fc47bd",
   "metadata": {},
   "outputs": [],
   "source": [
    "# Seu código aqui\n"
   ]
  },
  {
   "cell_type": "markdown",
   "id": "d9eb80a5",
   "metadata": {},
   "source": [
    "**Visualize distribuição de `speed_kmph` e descreva anomalias.**"
   ]
  },
  {
   "cell_type": "code",
   "execution_count": null,
   "id": "798de7be",
   "metadata": {},
   "outputs": [],
   "source": [
    "# Seu código aqui\n"
   ]
  },
  {
   "cell_type": "markdown",
   "id": "b9518a9e",
   "metadata": {},
   "source": [
    "**Resuma em 3 bullets como `payment_type` afeta `tip_percent`.**"
   ]
  },
  {
   "cell_type": "code",
   "execution_count": null,
   "id": "883ff1ac",
   "metadata": {},
   "outputs": [],
   "source": [
    "# Seu código aqui\n"
   ]
  },
  {
   "cell_type": "markdown",
   "id": "e2d25a0b",
   "metadata": {},
   "source": [
    "**Crie dashboard (com subplots) de métricas chave.**"
   ]
  },
  {
   "cell_type": "code",
   "execution_count": null,
   "id": "a5822897",
   "metadata": {},
   "outputs": [],
   "source": [
    "# Seu código aqui\n"
   ]
  },
  {
   "cell_type": "markdown",
   "id": "dedb0408",
   "metadata": {},
   "source": [
    "**Liste próximos passos de investigação em texto Markdown.**"
   ]
  },
  {
   "cell_type": "code",
   "execution_count": null,
   "id": "f151e79c",
   "metadata": {},
   "outputs": [],
   "source": [
    "# Seu código aqui\n"
   ]
  },
  {
   "cell_type": "markdown",
   "id": "ac383d83",
   "metadata": {},
   "source": [
    "## Carregamento & Amostra"
   ]
  },
  {
   "cell_type": "markdown",
   "id": "f0f8152a",
   "metadata": {},
   "source": [
    "**Carregue um sample de 100k linhas do dataset NYC Taxi em `df`.**"
   ]
  },
  {
   "cell_type": "code",
   "execution_count": null,
   "id": "5e03c037",
   "metadata": {},
   "outputs": [],
   "source": [
    "# Seu código aqui\n"
   ]
  },
  {
   "cell_type": "markdown",
   "id": "c304f603",
   "metadata": {},
   "source": [
    "**Mostre as 5 primeiras linhas e `df.info()`.**"
   ]
  },
  {
   "cell_type": "code",
   "execution_count": null,
   "id": "a96f7ebd",
   "metadata": {},
   "outputs": [],
   "source": [
    "# Seu código aqui\n"
   ]
  },
  {
   "cell_type": "markdown",
   "id": "7598175c",
   "metadata": {},
   "source": [
    "**Converta `dropoff_datetime` para datetime e defina como índice.**"
   ]
  },
  {
   "cell_type": "code",
   "execution_count": null,
   "id": "96ddcfdb",
   "metadata": {},
   "outputs": [],
   "source": [
    "# Seu código aqui\n"
   ]
  },
  {
   "cell_type": "markdown",
   "id": "35cda90c",
   "metadata": {},
   "source": [
    "**Quantos anos de dados estão presentes em `pickup_datetime`?**"
   ]
  },
  {
   "cell_type": "code",
   "execution_count": null,
   "id": "3d6a0b4c",
   "metadata": {},
   "outputs": [],
   "source": [
    "# Seu código aqui\n"
   ]
  },
  {
   "cell_type": "markdown",
   "id": "4d596f9d",
   "metadata": {},
   "source": [
    "**Mostre as colunas numéricas e sua contagem de valores não nulos.**"
   ]
  },
  {
   "cell_type": "code",
   "execution_count": null,
   "id": "c187fae1",
   "metadata": {},
   "outputs": [],
   "source": [
    "# Seu código aqui\n"
   ]
  },
  {
   "cell_type": "markdown",
   "id": "1aa3d08e",
   "metadata": {},
   "source": [
    "## Estatística Avançada"
   ]
  },
  {
   "cell_type": "markdown",
   "id": "38bb01f5",
   "metadata": {},
   "source": [
    "**Calcule quantil 95 de `pickup_longitude`.**"
   ]
  },
  {
   "cell_type": "code",
   "execution_count": null,
   "id": "07213596",
   "metadata": {},
   "outputs": [],
   "source": [
    "# Seu código aqui\n"
   ]
  },
  {
   "cell_type": "markdown",
   "id": "0f39be53",
   "metadata": {},
   "source": [
    "**Compare média e mediana de `passenger_count` para detectar skew.**"
   ]
  },
  {
   "cell_type": "code",
   "execution_count": null,
   "id": "43df52b6",
   "metadata": {},
   "outputs": [],
   "source": [
    "# Seu código aqui\n"
   ]
  },
  {
   "cell_type": "markdown",
   "id": "226a9819",
   "metadata": {},
   "source": [
    "**Encontre valor máximo de `pickup_latitude` e mostre a linha correspondente.**"
   ]
  },
  {
   "cell_type": "code",
   "execution_count": null,
   "id": "d960dba5",
   "metadata": {},
   "outputs": [],
   "source": [
    "# Seu código aqui\n"
   ]
  },
  {
   "cell_type": "markdown",
   "id": "6db51d28",
   "metadata": {},
   "source": [
    "**Compute IQR de `dropoff_longitude` e defina limites de outlier.**"
   ]
  },
  {
   "cell_type": "code",
   "execution_count": null,
   "id": "f147aec2",
   "metadata": {},
   "outputs": [],
   "source": [
    "# Seu código aqui\n"
   ]
  },
  {
   "cell_type": "markdown",
   "id": "92cb1cef",
   "metadata": {},
   "source": [
    "**Conte passageiros (`passenger_count`) > 4.**"
   ]
  },
  {
   "cell_type": "code",
   "execution_count": null,
   "id": "9187df58",
   "metadata": {},
   "outputs": [],
   "source": [
    "# Seu código aqui\n"
   ]
  },
  {
   "cell_type": "markdown",
   "id": "64c8af4b",
   "metadata": {},
   "source": [
    "## Visualização Temporal"
   ]
  },
  {
   "cell_type": "markdown",
   "id": "a5c58dc2",
   "metadata": {},
   "source": [
    "**Plote série mensal da média de `tip_amount`.**"
   ]
  },
  {
   "cell_type": "code",
   "execution_count": null,
   "id": "8f3c2354",
   "metadata": {},
   "outputs": [],
   "source": [
    "# Seu código aqui\n"
   ]
  },
  {
   "cell_type": "markdown",
   "id": "7d8bd1e9",
   "metadata": {},
   "source": [
    "**Crie gráfico de heatmap dia da semana vs hora para média de `dropoff_longitude`.**"
   ]
  },
  {
   "cell_type": "code",
   "execution_count": null,
   "id": "c3b56cf6",
   "metadata": {},
   "outputs": [],
   "source": [
    "# Seu código aqui\n"
   ]
  },
  {
   "cell_type": "markdown",
   "id": "5136e1cf",
   "metadata": {},
   "source": [
    "**Desenhe boxplot de `trip_distance` por hora do dia.**"
   ]
  },
  {
   "cell_type": "code",
   "execution_count": null,
   "id": "87281ea1",
   "metadata": {},
   "outputs": [],
   "source": [
    "# Seu código aqui\n"
   ]
  },
  {
   "cell_type": "markdown",
   "id": "6fb38a49",
   "metadata": {},
   "source": [
    "**Crie gráficos de rolling mean (window=30d) para `dropoff_latitude`.**"
   ]
  },
  {
   "cell_type": "code",
   "execution_count": null,
   "id": "c16277bb",
   "metadata": {},
   "outputs": [],
   "source": [
    "# Seu código aqui\n"
   ]
  },
  {
   "cell_type": "markdown",
   "id": "653f2b77",
   "metadata": {},
   "source": [
    "**Exiba autocorrelação parcial (PACF) de `pickup_longitude` agregado diário.**"
   ]
  },
  {
   "cell_type": "code",
   "execution_count": null,
   "id": "70f453f8",
   "metadata": {},
   "outputs": [],
   "source": [
    "# Seu código aqui\n"
   ]
  },
  {
   "cell_type": "markdown",
   "id": "493b5c2d",
   "metadata": {},
   "source": [
    "## Geoespacial"
   ]
  },
  {
   "cell_type": "markdown",
   "id": "ab303da4",
   "metadata": {},
   "source": [
    "**Plote um scatter dos pickups longitude/latitude amostrados (10k) sobre mapa simples.**"
   ]
  },
  {
   "cell_type": "code",
   "execution_count": null,
   "id": "442f91b2",
   "metadata": {},
   "outputs": [],
   "source": [
    "# Seu código aqui\n"
   ]
  },
  {
   "cell_type": "markdown",
   "id": "a312fef8",
   "metadata": {},
   "source": [
    "**Crie hexbin map da densidade de pickups.**"
   ]
  },
  {
   "cell_type": "code",
   "execution_count": null,
   "id": "f593713f",
   "metadata": {},
   "outputs": [],
   "source": [
    "# Seu código aqui\n"
   ]
  },
  {
   "cell_type": "markdown",
   "id": "875a8c62",
   "metadata": {},
   "source": [
    "**Calcule distância haversine entre pickup e dropoff.**"
   ]
  },
  {
   "cell_type": "code",
   "execution_count": null,
   "id": "68be037b",
   "metadata": {},
   "outputs": [],
   "source": [
    "# Seu código aqui\n"
   ]
  },
  {
   "cell_type": "markdown",
   "id": "445fae4e",
   "metadata": {},
   "source": [
    "**Agrupe por borough e calcule média de `trip_distance`.**"
   ]
  },
  {
   "cell_type": "code",
   "execution_count": null,
   "id": "1d6a2041",
   "metadata": {},
   "outputs": [],
   "source": [
    "# Seu código aqui\n"
   ]
  },
  {
   "cell_type": "markdown",
   "id": "db9678ae",
   "metadata": {},
   "source": [
    "**Desenhe choropleth de valor médio de `fare_amount` por borough.**"
   ]
  },
  {
   "cell_type": "code",
   "execution_count": null,
   "id": "1b54b65f",
   "metadata": {},
   "outputs": [],
   "source": [
    "# Seu código aqui\n"
   ]
  },
  {
   "cell_type": "markdown",
   "id": "785d181b",
   "metadata": {},
   "source": [
    "## UMAP + HDBSCAN"
   ]
  },
  {
   "cell_type": "markdown",
   "id": "d038c4c4",
   "metadata": {},
   "source": [
    "**Selecione `fare_amount`, `trip_distance`, `total_amount` e reduza dimensão para 2‑D com UMAP.**"
   ]
  },
  {
   "cell_type": "code",
   "execution_count": null,
   "id": "c9b8dfd6",
   "metadata": {},
   "outputs": [],
   "source": [
    "# Seu código aqui\n"
   ]
  },
  {
   "cell_type": "markdown",
   "id": "91c44c87",
   "metadata": {},
   "source": [
    "**Clusterize embedding com HDBSCAN; quantos clusters rótulo != ‑1 existem?**"
   ]
  },
  {
   "cell_type": "code",
   "execution_count": null,
   "id": "c1571c5d",
   "metadata": {},
   "outputs": [],
   "source": [
    "# Seu código aqui\n"
   ]
  },
  {
   "cell_type": "markdown",
   "id": "efc0b3e8",
   "metadata": {},
   "source": [
    "**Plote embedding colorido pelos clusters.**"
   ]
  },
  {
   "cell_type": "code",
   "execution_count": null,
   "id": "0505cf80",
   "metadata": {},
   "outputs": [],
   "source": [
    "# Seu código aqui\n"
   ]
  },
  {
   "cell_type": "markdown",
   "id": "e1ec398e",
   "metadata": {},
   "source": [
    "**Verifique distribuição de `payment_type` por cluster.**"
   ]
  },
  {
   "cell_type": "code",
   "execution_count": null,
   "id": "57666373",
   "metadata": {},
   "outputs": [],
   "source": [
    "# Seu código aqui\n"
   ]
  },
  {
   "cell_type": "markdown",
   "id": "e258be59",
   "metadata": {},
   "source": [
    "**Explique significado possível do cluster com maior média de `tip_amount`.**"
   ]
  },
  {
   "cell_type": "code",
   "execution_count": null,
   "id": "07b5bffb",
   "metadata": {},
   "outputs": [],
   "source": [
    "# Seu código aqui\n"
   ]
  },
  {
   "cell_type": "markdown",
   "id": "d70eba57",
   "metadata": {},
   "source": [
    "## Grafos & Centralidade"
   ]
  },
  {
   "cell_type": "markdown",
   "id": "57fd71c9",
   "metadata": {},
   "source": [
    "**Construa grafo onde nós são boroughs com arestas quando passageiros viajam entre eles.**"
   ]
  },
  {
   "cell_type": "code",
   "execution_count": null,
   "id": "62f1ccb3",
   "metadata": {},
   "outputs": [],
   "source": [
    "# Seu código aqui\n"
   ]
  },
  {
   "cell_type": "markdown",
   "id": "3cf9bbf6",
   "metadata": {},
   "source": [
    "**Calcule grau e PageRank de cada borough.**"
   ]
  },
  {
   "cell_type": "code",
   "execution_count": null,
   "id": "39fbce4f",
   "metadata": {},
   "outputs": [],
   "source": [
    "# Seu código aqui\n"
   ]
  },
  {
   "cell_type": "markdown",
   "id": "90da7319",
   "metadata": {},
   "source": [
    "**Liste top 3 boroughs por PageRank.**"
   ]
  },
  {
   "cell_type": "code",
   "execution_count": null,
   "id": "b972a06c",
   "metadata": {},
   "outputs": [],
   "source": [
    "# Seu código aqui\n"
   ]
  },
  {
   "cell_type": "markdown",
   "id": "71d5dec8",
   "metadata": {},
   "source": [
    "**Plote grafo com pesos proporcionais à contagem de viagens.**"
   ]
  },
  {
   "cell_type": "code",
   "execution_count": null,
   "id": "988af821",
   "metadata": {},
   "outputs": [],
   "source": [
    "# Seu código aqui\n"
   ]
  },
  {
   "cell_type": "markdown",
   "id": "db5878fd",
   "metadata": {},
   "source": [
    "**Discuta hub‑ness vs densidade populacional.**"
   ]
  },
  {
   "cell_type": "code",
   "execution_count": null,
   "id": "292ae3aa",
   "metadata": {},
   "outputs": [],
   "source": [
    "# Seu código aqui\n"
   ]
  },
  {
   "cell_type": "markdown",
   "id": "ba0e1891",
   "metadata": {},
   "source": [
    "## Regras de Associação"
   ]
  },
  {
   "cell_type": "markdown",
   "id": "f11f9d5f",
   "metadata": {},
   "source": [
    "**Discretize `trip_distance` em bins curtos/longos e crie dummies.**"
   ]
  },
  {
   "cell_type": "code",
   "execution_count": null,
   "id": "68620a73",
   "metadata": {},
   "outputs": [],
   "source": [
    "# Seu código aqui\n"
   ]
  },
  {
   "cell_type": "markdown",
   "id": "00afa5fd",
   "metadata": {},
   "source": [
    "**Gere DataFrame one‑hot de `pickup_borough` + bins criados.**"
   ]
  },
  {
   "cell_type": "code",
   "execution_count": null,
   "id": "17cee186",
   "metadata": {},
   "outputs": [],
   "source": [
    "# Seu código aqui\n"
   ]
  },
  {
   "cell_type": "markdown",
   "id": "d9690925",
   "metadata": {},
   "source": [
    "**Execute Apriori (min_support=0.02) e derive regras (lift>1.3).**"
   ]
  },
  {
   "cell_type": "code",
   "execution_count": null,
   "id": "1ad95277",
   "metadata": {},
   "outputs": [],
   "source": [
    "# Seu código aqui\n"
   ]
  },
  {
   "cell_type": "markdown",
   "id": "97519d3b",
   "metadata": {},
   "source": [
    "**Mostre top 5 regras ordenadas por lift.**"
   ]
  },
  {
   "cell_type": "code",
   "execution_count": null,
   "id": "7e1c3afd",
   "metadata": {},
   "outputs": [],
   "source": [
    "# Seu código aqui\n"
   ]
  },
  {
   "cell_type": "markdown",
   "id": "9d18bb04",
   "metadata": {},
   "source": [
    "**Interprete regra com maior confiança.**"
   ]
  },
  {
   "cell_type": "code",
   "execution_count": null,
   "id": "5eb43138",
   "metadata": {},
   "outputs": [],
   "source": [
    "# Seu código aqui\n"
   ]
  },
  {
   "cell_type": "markdown",
   "id": "244e9b41",
   "metadata": {},
   "source": [
    "## Anomaly & Outlier Detection"
   ]
  },
  {
   "cell_type": "markdown",
   "id": "9265a2c9",
   "metadata": {},
   "source": [
    "**Use DBSCAN em `trip_distance` vs `fare_amount` para detectar outliers.**"
   ]
  },
  {
   "cell_type": "code",
   "execution_count": null,
   "id": "e80334a2",
   "metadata": {},
   "outputs": [],
   "source": [
    "# Seu código aqui\n"
   ]
  },
  {
   "cell_type": "markdown",
   "id": "56d0d942",
   "metadata": {},
   "source": [
    "**Conte quantas viagens têm `fare_amount` < 0.**"
   ]
  },
  {
   "cell_type": "code",
   "execution_count": null,
   "id": "d4ca5ae3",
   "metadata": {},
   "outputs": [],
   "source": [
    "# Seu código aqui\n"
   ]
  },
  {
   "cell_type": "markdown",
   "id": "a542fe5e",
   "metadata": {},
   "source": [
    "**Crie boxplot de `tip_amount` para encontrar valores extremos.**"
   ]
  },
  {
   "cell_type": "code",
   "execution_count": null,
   "id": "7de2d915",
   "metadata": {},
   "outputs": [],
   "source": [
    "# Seu código aqui\n"
   ]
  },
  {
   "cell_type": "markdown",
   "id": "42e74d53",
   "metadata": {},
   "source": [
    "**Marque viagens com distância > 100 km como anômalas.**"
   ]
  },
  {
   "cell_type": "code",
   "execution_count": null,
   "id": "e4a26caf",
   "metadata": {},
   "outputs": [],
   "source": [
    "# Seu código aqui\n"
   ]
  },
  {
   "cell_type": "markdown",
   "id": "429b1a23",
   "metadata": {},
   "source": [
    "**Visualize anômalas sobre mapa scatter vermelho.**"
   ]
  },
  {
   "cell_type": "code",
   "execution_count": null,
   "id": "3db02fbc",
   "metadata": {},
   "outputs": [],
   "source": [
    "# Seu código aqui\n"
   ]
  },
  {
   "cell_type": "markdown",
   "id": "d91fa9fb",
   "metadata": {},
   "source": [
    "## Feature Engineering"
   ]
  },
  {
   "cell_type": "markdown",
   "id": "2ac1c545",
   "metadata": {},
   "source": [
    "**Crie coluna `trip_duration_min` = (dropoff_pickup)/60s.**"
   ]
  },
  {
   "cell_type": "code",
   "execution_count": null,
   "id": "f1f0f521",
   "metadata": {},
   "outputs": [],
   "source": [
    "# Seu código aqui\n"
   ]
  },
  {
   "cell_type": "markdown",
   "id": "58d24e45",
   "metadata": {},
   "source": [
    "**Crie coluna `speed_kmph` = `trip_distance` / (duration_h).**"
   ]
  },
  {
   "cell_type": "code",
   "execution_count": null,
   "id": "87196ddc",
   "metadata": {},
   "outputs": [],
   "source": [
    "# Seu código aqui\n"
   ]
  },
  {
   "cell_type": "markdown",
   "id": "64aceaae",
   "metadata": {},
   "source": [
    "**Crie bin de `tip_percent` = `tip_amount` / `fare_amount`.**"
   ]
  },
  {
   "cell_type": "code",
   "execution_count": null,
   "id": "7403df90",
   "metadata": {},
   "outputs": [],
   "source": [
    "# Seu código aqui\n"
   ]
  },
  {
   "cell_type": "markdown",
   "id": "cbedc030",
   "metadata": {},
   "source": [
    "**Binarize `payment_type` em categorical dummies.**"
   ]
  },
  {
   "cell_type": "code",
   "execution_count": null,
   "id": "d1dc8dc5",
   "metadata": {},
   "outputs": [],
   "source": [
    "# Seu código aqui\n"
   ]
  },
  {
   "cell_type": "markdown",
   "id": "7f0b9fdd",
   "metadata": {},
   "source": [
    "**Normalize `dropoff_longitude` usando StandardScaler.**"
   ]
  },
  {
   "cell_type": "code",
   "execution_count": null,
   "id": "747e6a90",
   "metadata": {},
   "outputs": [],
   "source": [
    "# Seu código aqui\n"
   ]
  },
  {
   "cell_type": "markdown",
   "id": "8c620f1f",
   "metadata": {},
   "source": [
    "## Storytelling & Insights"
   ]
  },
  {
   "cell_type": "markdown",
   "id": "b425a972",
   "metadata": {},
   "source": [
    "**Escreva insight sobre variação de `fare_amount` por hora.**"
   ]
  },
  {
   "cell_type": "code",
   "execution_count": null,
   "id": "14bcdca4",
   "metadata": {},
   "outputs": [],
   "source": [
    "# Seu código aqui\n"
   ]
  },
  {
   "cell_type": "markdown",
   "id": "6a964c2c",
   "metadata": {},
   "source": [
    "**Visualize distribuição de `speed_kmph` e descreva anomalias.**"
   ]
  },
  {
   "cell_type": "code",
   "execution_count": null,
   "id": "2cfd0da8",
   "metadata": {},
   "outputs": [],
   "source": [
    "# Seu código aqui\n"
   ]
  },
  {
   "cell_type": "markdown",
   "id": "a9b2b83e",
   "metadata": {},
   "source": [
    "**Resuma em 3 bullets como `payment_type` afeta `tip_percent`.**"
   ]
  },
  {
   "cell_type": "code",
   "execution_count": null,
   "id": "7d41333b",
   "metadata": {},
   "outputs": [],
   "source": [
    "# Seu código aqui\n"
   ]
  },
  {
   "cell_type": "markdown",
   "id": "5e7ed0b9",
   "metadata": {},
   "source": [
    "**Crie dashboard (com subplots) de métricas chave.**"
   ]
  },
  {
   "cell_type": "code",
   "execution_count": null,
   "id": "dec3c4c2",
   "metadata": {},
   "outputs": [],
   "source": [
    "# Seu código aqui\n"
   ]
  },
  {
   "cell_type": "markdown",
   "id": "868d6137",
   "metadata": {},
   "source": [
    "**Liste próximos passos de investigação em texto Markdown.**"
   ]
  },
  {
   "cell_type": "code",
   "execution_count": null,
   "id": "4b66077d",
   "metadata": {},
   "outputs": [],
   "source": [
    "# Seu código aqui\n"
   ]
  },
  {
   "cell_type": "markdown",
   "id": "add7692d",
   "metadata": {},
   "source": [
    "## Carregamento & Amostra"
   ]
  },
  {
   "cell_type": "markdown",
   "id": "98e92666",
   "metadata": {},
   "source": [
    "**Carregue um sample de 100k linhas do dataset NYC Taxi em `df`.**"
   ]
  },
  {
   "cell_type": "code",
   "execution_count": null,
   "id": "f15d7689",
   "metadata": {},
   "outputs": [],
   "source": [
    "# Seu código aqui\n"
   ]
  },
  {
   "cell_type": "markdown",
   "id": "dd3e3e4b",
   "metadata": {},
   "source": [
    "**Mostre as 5 primeiras linhas e `df.info()`.**"
   ]
  },
  {
   "cell_type": "code",
   "execution_count": null,
   "id": "fc16c4ae",
   "metadata": {},
   "outputs": [],
   "source": [
    "# Seu código aqui\n"
   ]
  },
  {
   "cell_type": "markdown",
   "id": "55dc5c58",
   "metadata": {},
   "source": [
    "**Converta `dropoff_datetime` para datetime e defina como índice.**"
   ]
  },
  {
   "cell_type": "code",
   "execution_count": null,
   "id": "aaded58a",
   "metadata": {},
   "outputs": [],
   "source": [
    "# Seu código aqui\n"
   ]
  },
  {
   "cell_type": "markdown",
   "id": "40fbdf18",
   "metadata": {},
   "source": [
    "**Quantos anos de dados estão presentes em `pickup_datetime`?**"
   ]
  },
  {
   "cell_type": "code",
   "execution_count": null,
   "id": "06cf4f7f",
   "metadata": {},
   "outputs": [],
   "source": [
    "# Seu código aqui\n"
   ]
  },
  {
   "cell_type": "markdown",
   "id": "62ab94f1",
   "metadata": {},
   "source": [
    "**Mostre as colunas numéricas e sua contagem de valores não nulos.**"
   ]
  },
  {
   "cell_type": "code",
   "execution_count": null,
   "id": "b787351e",
   "metadata": {},
   "outputs": [],
   "source": [
    "# Seu código aqui\n"
   ]
  },
  {
   "cell_type": "markdown",
   "id": "e0015b90",
   "metadata": {},
   "source": [
    "## Estatística Avançada"
   ]
  },
  {
   "cell_type": "markdown",
   "id": "427e7f5e",
   "metadata": {},
   "source": [
    "**Calcule quantil 95 de `dropoff_latitude`.**"
   ]
  },
  {
   "cell_type": "code",
   "execution_count": null,
   "id": "58e6cc95",
   "metadata": {},
   "outputs": [],
   "source": [
    "# Seu código aqui\n"
   ]
  },
  {
   "cell_type": "markdown",
   "id": "133a5df3",
   "metadata": {},
   "source": [
    "**Compare média e mediana de `passenger_count` para detectar skew.**"
   ]
  },
  {
   "cell_type": "code",
   "execution_count": null,
   "id": "325845f7",
   "metadata": {},
   "outputs": [],
   "source": [
    "# Seu código aqui\n"
   ]
  },
  {
   "cell_type": "markdown",
   "id": "699b60c0",
   "metadata": {},
   "source": [
    "**Encontre valor máximo de `dropoff_latitude` e mostre a linha correspondente.**"
   ]
  },
  {
   "cell_type": "code",
   "execution_count": null,
   "id": "dbcab06e",
   "metadata": {},
   "outputs": [],
   "source": [
    "# Seu código aqui\n"
   ]
  },
  {
   "cell_type": "markdown",
   "id": "798ae746",
   "metadata": {},
   "source": [
    "**Compute IQR de `dropoff_latitude` e defina limites de outlier.**"
   ]
  },
  {
   "cell_type": "code",
   "execution_count": null,
   "id": "72518367",
   "metadata": {},
   "outputs": [],
   "source": [
    "# Seu código aqui\n"
   ]
  },
  {
   "cell_type": "markdown",
   "id": "76410cdf",
   "metadata": {},
   "source": [
    "**Conte passageiros (`passenger_count`) > 4.**"
   ]
  },
  {
   "cell_type": "code",
   "execution_count": null,
   "id": "28aefb55",
   "metadata": {},
   "outputs": [],
   "source": [
    "# Seu código aqui\n"
   ]
  },
  {
   "cell_type": "markdown",
   "id": "a5d368b2",
   "metadata": {},
   "source": [
    "## Visualização Temporal"
   ]
  },
  {
   "cell_type": "markdown",
   "id": "4217612f",
   "metadata": {},
   "source": [
    "**Plote série mensal da média de `fare_amount`.**"
   ]
  },
  {
   "cell_type": "code",
   "execution_count": null,
   "id": "1641079f",
   "metadata": {},
   "outputs": [],
   "source": [
    "# Seu código aqui\n"
   ]
  },
  {
   "cell_type": "markdown",
   "id": "9eae6b35",
   "metadata": {},
   "source": [
    "**Crie gráfico de heatmap dia da semana vs hora para média de `total_amount`.**"
   ]
  },
  {
   "cell_type": "code",
   "execution_count": null,
   "id": "5c3349e1",
   "metadata": {},
   "outputs": [],
   "source": [
    "# Seu código aqui\n"
   ]
  },
  {
   "cell_type": "markdown",
   "id": "099d7bc0",
   "metadata": {},
   "source": [
    "**Desenhe boxplot de `pickup_longitude` por hora do dia.**"
   ]
  },
  {
   "cell_type": "code",
   "execution_count": null,
   "id": "d1c10b87",
   "metadata": {},
   "outputs": [],
   "source": [
    "# Seu código aqui\n"
   ]
  },
  {
   "cell_type": "markdown",
   "id": "f1275a89",
   "metadata": {},
   "source": [
    "**Crie gráficos de rolling mean (window=30d) para `fare_amount`.**"
   ]
  },
  {
   "cell_type": "code",
   "execution_count": null,
   "id": "0aa66368",
   "metadata": {},
   "outputs": [],
   "source": [
    "# Seu código aqui\n"
   ]
  },
  {
   "cell_type": "markdown",
   "id": "ae0aa036",
   "metadata": {},
   "source": [
    "**Exiba autocorrelação parcial (PACF) de `passenger_count` agregado diário.**"
   ]
  },
  {
   "cell_type": "code",
   "execution_count": null,
   "id": "21a2d96a",
   "metadata": {},
   "outputs": [],
   "source": [
    "# Seu código aqui\n"
   ]
  },
  {
   "cell_type": "markdown",
   "id": "a299eefe",
   "metadata": {},
   "source": [
    "## Geoespacial"
   ]
  },
  {
   "cell_type": "markdown",
   "id": "d4b0a783",
   "metadata": {},
   "source": [
    "**Plote um scatter dos pickups longitude/latitude amostrados (10k) sobre mapa simples.**"
   ]
  },
  {
   "cell_type": "code",
   "execution_count": null,
   "id": "a974d460",
   "metadata": {},
   "outputs": [],
   "source": [
    "# Seu código aqui\n"
   ]
  },
  {
   "cell_type": "markdown",
   "id": "61f37924",
   "metadata": {},
   "source": [
    "**Crie hexbin map da densidade de pickups.**"
   ]
  },
  {
   "cell_type": "code",
   "execution_count": null,
   "id": "0d37d2a1",
   "metadata": {},
   "outputs": [],
   "source": [
    "# Seu código aqui\n"
   ]
  },
  {
   "cell_type": "markdown",
   "id": "c5913c32",
   "metadata": {},
   "source": [
    "**Calcule distância haversine entre pickup e dropoff.**"
   ]
  },
  {
   "cell_type": "code",
   "execution_count": null,
   "id": "cad28e5b",
   "metadata": {},
   "outputs": [],
   "source": [
    "# Seu código aqui\n"
   ]
  },
  {
   "cell_type": "markdown",
   "id": "cc4e08c7",
   "metadata": {},
   "source": [
    "**Agrupe por borough e calcule média de `tip_amount`.**"
   ]
  },
  {
   "cell_type": "code",
   "execution_count": null,
   "id": "dfa91147",
   "metadata": {},
   "outputs": [],
   "source": [
    "# Seu código aqui\n"
   ]
  },
  {
   "cell_type": "markdown",
   "id": "d9e85b91",
   "metadata": {},
   "source": [
    "**Desenhe choropleth de valor médio de `fare_amount` por borough.**"
   ]
  },
  {
   "cell_type": "code",
   "execution_count": null,
   "id": "af34c217",
   "metadata": {},
   "outputs": [],
   "source": [
    "# Seu código aqui\n"
   ]
  },
  {
   "cell_type": "markdown",
   "id": "36e48fd3",
   "metadata": {},
   "source": [
    "## UMAP + HDBSCAN"
   ]
  },
  {
   "cell_type": "markdown",
   "id": "11d5797f",
   "metadata": {},
   "source": [
    "**Selecione `dropoff_longitude`, `trip_distance`, `total_amount` e reduza dimensão para 2‑D com UMAP.**"
   ]
  },
  {
   "cell_type": "code",
   "execution_count": null,
   "id": "b5234464",
   "metadata": {},
   "outputs": [],
   "source": [
    "# Seu código aqui\n"
   ]
  },
  {
   "cell_type": "markdown",
   "id": "c650c9c7",
   "metadata": {},
   "source": [
    "**Clusterize embedding com HDBSCAN; quantos clusters rótulo != ‑1 existem?**"
   ]
  },
  {
   "cell_type": "code",
   "execution_count": null,
   "id": "2a5f028b",
   "metadata": {},
   "outputs": [],
   "source": [
    "# Seu código aqui\n"
   ]
  },
  {
   "cell_type": "markdown",
   "id": "f3eac8e0",
   "metadata": {},
   "source": [
    "**Plote embedding colorido pelos clusters.**"
   ]
  },
  {
   "cell_type": "code",
   "execution_count": null,
   "id": "8d9c3310",
   "metadata": {},
   "outputs": [],
   "source": [
    "# Seu código aqui\n"
   ]
  },
  {
   "cell_type": "markdown",
   "id": "1366e763",
   "metadata": {},
   "source": [
    "**Verifique distribuição de `payment_type` por cluster.**"
   ]
  },
  {
   "cell_type": "code",
   "execution_count": null,
   "id": "123bcda4",
   "metadata": {},
   "outputs": [],
   "source": [
    "# Seu código aqui\n"
   ]
  },
  {
   "cell_type": "markdown",
   "id": "1bb2e244",
   "metadata": {},
   "source": [
    "**Explique significado possível do cluster com maior média de `tip_amount`.**"
   ]
  },
  {
   "cell_type": "code",
   "execution_count": null,
   "id": "05602360",
   "metadata": {},
   "outputs": [],
   "source": [
    "# Seu código aqui\n"
   ]
  },
  {
   "cell_type": "markdown",
   "id": "bdced7be",
   "metadata": {},
   "source": [
    "## Grafos & Centralidade"
   ]
  },
  {
   "cell_type": "markdown",
   "id": "ddc2fc86",
   "metadata": {},
   "source": [
    "**Construa grafo onde nós são boroughs com arestas quando passageiros viajam entre eles.**"
   ]
  },
  {
   "cell_type": "code",
   "execution_count": null,
   "id": "27945900",
   "metadata": {},
   "outputs": [],
   "source": [
    "# Seu código aqui\n"
   ]
  },
  {
   "cell_type": "markdown",
   "id": "71dd7e38",
   "metadata": {},
   "source": [
    "**Calcule grau e PageRank de cada borough.**"
   ]
  },
  {
   "cell_type": "code",
   "execution_count": null,
   "id": "455902b6",
   "metadata": {},
   "outputs": [],
   "source": [
    "# Seu código aqui\n"
   ]
  },
  {
   "cell_type": "markdown",
   "id": "2fdcff84",
   "metadata": {},
   "source": [
    "**Liste top 3 boroughs por PageRank.**"
   ]
  },
  {
   "cell_type": "code",
   "execution_count": null,
   "id": "1d52f215",
   "metadata": {},
   "outputs": [],
   "source": [
    "# Seu código aqui\n"
   ]
  },
  {
   "cell_type": "markdown",
   "id": "b4486caf",
   "metadata": {},
   "source": [
    "**Plote grafo com pesos proporcionais à contagem de viagens.**"
   ]
  },
  {
   "cell_type": "code",
   "execution_count": null,
   "id": "0021218d",
   "metadata": {},
   "outputs": [],
   "source": [
    "# Seu código aqui\n"
   ]
  },
  {
   "cell_type": "markdown",
   "id": "9edd6a63",
   "metadata": {},
   "source": [
    "**Discuta hub‑ness vs densidade populacional.**"
   ]
  },
  {
   "cell_type": "code",
   "execution_count": null,
   "id": "44aa75b9",
   "metadata": {},
   "outputs": [],
   "source": [
    "# Seu código aqui\n"
   ]
  },
  {
   "cell_type": "markdown",
   "id": "7052c500",
   "metadata": {},
   "source": [
    "## Regras de Associação"
   ]
  },
  {
   "cell_type": "markdown",
   "id": "54eb929d",
   "metadata": {},
   "source": [
    "**Discretize `trip_distance` em bins curtos/longos e crie dummies.**"
   ]
  },
  {
   "cell_type": "code",
   "execution_count": null,
   "id": "b280ebcd",
   "metadata": {},
   "outputs": [],
   "source": [
    "# Seu código aqui\n"
   ]
  },
  {
   "cell_type": "markdown",
   "id": "93671fed",
   "metadata": {},
   "source": [
    "**Gere DataFrame one‑hot de `payment_type` + bins criados.**"
   ]
  },
  {
   "cell_type": "code",
   "execution_count": null,
   "id": "d2ced7b5",
   "metadata": {},
   "outputs": [],
   "source": [
    "# Seu código aqui\n"
   ]
  },
  {
   "cell_type": "markdown",
   "id": "57a68d06",
   "metadata": {},
   "source": [
    "**Execute Apriori (min_support=0.02) e derive regras (lift>1.3).**"
   ]
  },
  {
   "cell_type": "code",
   "execution_count": null,
   "id": "83fdc216",
   "metadata": {},
   "outputs": [],
   "source": [
    "# Seu código aqui\n"
   ]
  },
  {
   "cell_type": "markdown",
   "id": "ac94fb4f",
   "metadata": {},
   "source": [
    "**Mostre top 5 regras ordenadas por lift.**"
   ]
  },
  {
   "cell_type": "code",
   "execution_count": null,
   "id": "e07a3fea",
   "metadata": {},
   "outputs": [],
   "source": [
    "# Seu código aqui\n"
   ]
  },
  {
   "cell_type": "markdown",
   "id": "f276f52d",
   "metadata": {},
   "source": [
    "**Interprete regra com maior confiança.**"
   ]
  },
  {
   "cell_type": "code",
   "execution_count": null,
   "id": "eec6792a",
   "metadata": {},
   "outputs": [],
   "source": [
    "# Seu código aqui\n"
   ]
  },
  {
   "cell_type": "markdown",
   "id": "54c70421",
   "metadata": {},
   "source": [
    "## Anomaly & Outlier Detection"
   ]
  },
  {
   "cell_type": "markdown",
   "id": "4c1f1cbb",
   "metadata": {},
   "source": [
    "**Use DBSCAN em `trip_distance` vs `fare_amount` para detectar outliers.**"
   ]
  },
  {
   "cell_type": "code",
   "execution_count": null,
   "id": "631028d6",
   "metadata": {},
   "outputs": [],
   "source": [
    "# Seu código aqui\n"
   ]
  },
  {
   "cell_type": "markdown",
   "id": "e34c8548",
   "metadata": {},
   "source": [
    "**Conte quantas viagens têm `fare_amount` < 0.**"
   ]
  },
  {
   "cell_type": "code",
   "execution_count": null,
   "id": "023dda86",
   "metadata": {},
   "outputs": [],
   "source": [
    "# Seu código aqui\n"
   ]
  },
  {
   "cell_type": "markdown",
   "id": "0c49e9f5",
   "metadata": {},
   "source": [
    "**Crie boxplot de `tip_amount` para encontrar valores extremos.**"
   ]
  },
  {
   "cell_type": "code",
   "execution_count": null,
   "id": "d238f91c",
   "metadata": {},
   "outputs": [],
   "source": [
    "# Seu código aqui\n"
   ]
  },
  {
   "cell_type": "markdown",
   "id": "af32f327",
   "metadata": {},
   "source": [
    "**Marque viagens com distância > 100 km como anômalas.**"
   ]
  },
  {
   "cell_type": "code",
   "execution_count": null,
   "id": "594f0af6",
   "metadata": {},
   "outputs": [],
   "source": [
    "# Seu código aqui\n"
   ]
  },
  {
   "cell_type": "markdown",
   "id": "29bdf17c",
   "metadata": {},
   "source": [
    "**Visualize anômalas sobre mapa scatter vermelho.**"
   ]
  },
  {
   "cell_type": "code",
   "execution_count": null,
   "id": "096ef946",
   "metadata": {},
   "outputs": [],
   "source": [
    "# Seu código aqui\n"
   ]
  },
  {
   "cell_type": "markdown",
   "id": "2237d9cb",
   "metadata": {},
   "source": [
    "## Feature Engineering"
   ]
  },
  {
   "cell_type": "markdown",
   "id": "1a3291a1",
   "metadata": {},
   "source": [
    "**Crie coluna `trip_duration_min` = (dropoff_pickup)/60s.**"
   ]
  },
  {
   "cell_type": "code",
   "execution_count": null,
   "id": "2684ef66",
   "metadata": {},
   "outputs": [],
   "source": [
    "# Seu código aqui\n"
   ]
  },
  {
   "cell_type": "markdown",
   "id": "1ef71efd",
   "metadata": {},
   "source": [
    "**Crie coluna `speed_kmph` = `trip_distance` / (duration_h).**"
   ]
  },
  {
   "cell_type": "code",
   "execution_count": null,
   "id": "2ab2df07",
   "metadata": {},
   "outputs": [],
   "source": [
    "# Seu código aqui\n"
   ]
  },
  {
   "cell_type": "markdown",
   "id": "4aaa8623",
   "metadata": {},
   "source": [
    "**Crie bin de `tip_percent` = `tip_amount` / `fare_amount`.**"
   ]
  },
  {
   "cell_type": "code",
   "execution_count": null,
   "id": "b2f41779",
   "metadata": {},
   "outputs": [],
   "source": [
    "# Seu código aqui\n"
   ]
  },
  {
   "cell_type": "markdown",
   "id": "d12594c9",
   "metadata": {},
   "source": [
    "**Binarize `payment_type` em categorical dummies.**"
   ]
  },
  {
   "cell_type": "code",
   "execution_count": null,
   "id": "707a0b03",
   "metadata": {},
   "outputs": [],
   "source": [
    "# Seu código aqui\n"
   ]
  },
  {
   "cell_type": "markdown",
   "id": "c699a344",
   "metadata": {},
   "source": [
    "**Normalize `fare_amount` usando StandardScaler.**"
   ]
  },
  {
   "cell_type": "code",
   "execution_count": null,
   "id": "c3d6c71b",
   "metadata": {},
   "outputs": [],
   "source": [
    "# Seu código aqui\n"
   ]
  },
  {
   "cell_type": "markdown",
   "id": "43db784f",
   "metadata": {},
   "source": [
    "## Storytelling & Insights"
   ]
  },
  {
   "cell_type": "markdown",
   "id": "5f08de2b",
   "metadata": {},
   "source": [
    "**Escreva insight sobre variação de `fare_amount` por hora.**"
   ]
  },
  {
   "cell_type": "code",
   "execution_count": null,
   "id": "6ce0be56",
   "metadata": {},
   "outputs": [],
   "source": [
    "# Seu código aqui\n"
   ]
  },
  {
   "cell_type": "markdown",
   "id": "4a930d5c",
   "metadata": {},
   "source": [
    "**Visualize distribuição de `speed_kmph` e descreva anomalias.**"
   ]
  },
  {
   "cell_type": "code",
   "execution_count": null,
   "id": "149fb717",
   "metadata": {},
   "outputs": [],
   "source": [
    "# Seu código aqui\n"
   ]
  },
  {
   "cell_type": "markdown",
   "id": "48c8b5f4",
   "metadata": {},
   "source": [
    "**Resuma em 3 bullets como `payment_type` afeta `tip_percent`.**"
   ]
  },
  {
   "cell_type": "code",
   "execution_count": null,
   "id": "d0e44b8a",
   "metadata": {},
   "outputs": [],
   "source": [
    "# Seu código aqui\n"
   ]
  },
  {
   "cell_type": "markdown",
   "id": "1e9b2741",
   "metadata": {},
   "source": [
    "**Crie dashboard (com subplots) de métricas chave.**"
   ]
  },
  {
   "cell_type": "code",
   "execution_count": null,
   "id": "bc0ffb56",
   "metadata": {},
   "outputs": [],
   "source": [
    "# Seu código aqui\n"
   ]
  },
  {
   "cell_type": "markdown",
   "id": "470140d6",
   "metadata": {},
   "source": [
    "**Liste próximos passos de investigação em texto Markdown.**"
   ]
  },
  {
   "cell_type": "code",
   "execution_count": null,
   "id": "bd698c1a",
   "metadata": {},
   "outputs": [],
   "source": [
    "# Seu código aqui\n"
   ]
  }
 ],
 "metadata": {},
 "nbformat": 4,
 "nbformat_minor": 5
}
