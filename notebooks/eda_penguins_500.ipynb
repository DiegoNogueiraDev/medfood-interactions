{
 "cells": [
  {
   "cell_type": "markdown",
   "id": "d6396b9e",
   "metadata": {},
   "source": [
    "# EDA Penguins – 500 Exercícios (Nível Médio)\n",
    "_Generated 2025-07-15_\n",
    "\n",
    "Dataset: **Palmer Penguins** – via `seaborn.load_dataset('penguins')`."
   ]
  },
  {
   "cell_type": "code",
   "execution_count": null,
   "id": "68ba4b9f",
   "metadata": {},
   "outputs": [],
   "source": [
    "import pandas as pd, numpy as np, seaborn as sns, matplotlib.pyplot as plt\n",
    "from scipy import stats\n",
    "from sklearn.preprocessing import StandardScaler\n",
    "from sklearn.cluster import KMeans\n",
    "sns.set_theme()\n",
    "df = sns.load_dataset('penguins')\n",
    "df.head()"
   ]
  },
  {
   "cell_type": "markdown",
   "id": "05667a96",
   "metadata": {},
   "source": [
    "## Carregamento & Visão Geral"
   ]
  },
  {
   "cell_type": "markdown",
   "id": "5fe3b6ec",
   "metadata": {},
   "source": [
    "**Carregue o dataset Penguins em um DataFrame `df` via `seaborn.load_dataset('penguins')`.**"
   ]
  },
  {
   "cell_type": "code",
   "execution_count": null,
   "id": "cefd8cad",
   "metadata": {},
   "outputs": [],
   "source": [
    "# Seu código aqui\n"
   ]
  },
  {
   "cell_type": "markdown",
   "id": "197b71b0",
   "metadata": {},
   "source": [
    "**Exiba as 5 primeiras linhas de `df`.**"
   ]
  },
  {
   "cell_type": "code",
   "execution_count": null,
   "id": "3a2e7c33",
   "metadata": {},
   "outputs": [],
   "source": [
    "# Seu código aqui\n"
   ]
  },
  {
   "cell_type": "markdown",
   "id": "b2e5cd59",
   "metadata": {},
   "source": [
    "**Mostre `df.info()` para inspeção de tipos.**"
   ]
  },
  {
   "cell_type": "code",
   "execution_count": null,
   "id": "ac40d1ed",
   "metadata": {},
   "outputs": [],
   "source": [
    "# Seu código aqui\n"
   ]
  },
  {
   "cell_type": "markdown",
   "id": "90f7730f",
   "metadata": {},
   "source": [
    "**Quantos valores ausentes existem em cada coluna?**"
   ]
  },
  {
   "cell_type": "code",
   "execution_count": null,
   "id": "7fb4a300",
   "metadata": {},
   "outputs": [],
   "source": [
    "# Seu código aqui\n"
   ]
  },
  {
   "cell_type": "markdown",
   "id": "f1285395",
   "metadata": {},
   "source": [
    "**Liste todas as colunas presentes e seus tipos.**"
   ]
  },
  {
   "cell_type": "code",
   "execution_count": null,
   "id": "9480662c",
   "metadata": {},
   "outputs": [],
   "source": [
    "# Seu código aqui\n"
   ]
  },
  {
   "cell_type": "markdown",
   "id": "4180a6f2",
   "metadata": {},
   "source": [
    "## Estatística Descritiva"
   ]
  },
  {
   "cell_type": "markdown",
   "id": "8e09a9bb",
   "metadata": {},
   "source": [
    "**Calcule a média de `bill_length_mm`.**"
   ]
  },
  {
   "cell_type": "code",
   "execution_count": null,
   "id": "a8e78268",
   "metadata": {},
   "outputs": [],
   "source": [
    "# Seu código aqui\n"
   ]
  },
  {
   "cell_type": "markdown",
   "id": "0229612f",
   "metadata": {},
   "source": [
    "**Encontre a mediana de `bill_length_mm`.**"
   ]
  },
  {
   "cell_type": "code",
   "execution_count": null,
   "id": "cb9dbe9b",
   "metadata": {},
   "outputs": [],
   "source": [
    "# Seu código aqui\n"
   ]
  },
  {
   "cell_type": "markdown",
   "id": "19a46053",
   "metadata": {},
   "source": [
    "**Qual é o desvio‑padrão de `bill_length_mm`?**"
   ]
  },
  {
   "cell_type": "code",
   "execution_count": null,
   "id": "e24de7b4",
   "metadata": {},
   "outputs": [],
   "source": [
    "# Seu código aqui\n"
   ]
  },
  {
   "cell_type": "markdown",
   "id": "e693826f",
   "metadata": {},
   "source": [
    "**Exiba o resumo estatístico (`describe`) para `body_mass_g`.**"
   ]
  },
  {
   "cell_type": "code",
   "execution_count": null,
   "id": "342d52b7",
   "metadata": {},
   "outputs": [],
   "source": [
    "# Seu código aqui\n"
   ]
  },
  {
   "cell_type": "markdown",
   "id": "07ec9c4d",
   "metadata": {},
   "source": [
    "**Conte valores nulos em `flipper_length_mm`.**"
   ]
  },
  {
   "cell_type": "code",
   "execution_count": null,
   "id": "57240ac2",
   "metadata": {},
   "outputs": [],
   "source": [
    "# Seu código aqui\n"
   ]
  },
  {
   "cell_type": "markdown",
   "id": "5fbb937f",
   "metadata": {},
   "source": [
    "## Visualização Univariada"
   ]
  },
  {
   "cell_type": "markdown",
   "id": "3e4e1d1e",
   "metadata": {},
   "source": [
    "**Plote histograma para `flipper_length_mm`.**"
   ]
  },
  {
   "cell_type": "code",
   "execution_count": null,
   "id": "25f640d0",
   "metadata": {},
   "outputs": [],
   "source": [
    "# Seu código aqui\n"
   ]
  },
  {
   "cell_type": "markdown",
   "id": "5ce72beb",
   "metadata": {},
   "source": [
    "**Crie boxplot de `body_mass_g` dividido por `year`.**"
   ]
  },
  {
   "cell_type": "code",
   "execution_count": null,
   "id": "66786390",
   "metadata": {},
   "outputs": [],
   "source": [
    "# Seu código aqui\n"
   ]
  },
  {
   "cell_type": "markdown",
   "id": "16884d1b",
   "metadata": {},
   "source": [
    "**Gere countplot para `island`.**"
   ]
  },
  {
   "cell_type": "code",
   "execution_count": null,
   "id": "4caa1d6f",
   "metadata": {},
   "outputs": [],
   "source": [
    "# Seu código aqui\n"
   ]
  },
  {
   "cell_type": "markdown",
   "id": "a4e7a6f6",
   "metadata": {},
   "source": [
    "**Desenhe violin plot de `flipper_length_mm` por `species`.**"
   ]
  },
  {
   "cell_type": "code",
   "execution_count": null,
   "id": "611592e5",
   "metadata": {},
   "outputs": [],
   "source": [
    "# Seu código aqui\n"
   ]
  },
  {
   "cell_type": "markdown",
   "id": "46eb21d6",
   "metadata": {},
   "source": [
    "**Faça KDE plot de `body_mass_g`.**"
   ]
  },
  {
   "cell_type": "code",
   "execution_count": null,
   "id": "b6c19e03",
   "metadata": {},
   "outputs": [],
   "source": [
    "# Seu código aqui\n"
   ]
  },
  {
   "cell_type": "markdown",
   "id": "de14ae1c",
   "metadata": {},
   "source": [
    "## Visualização Bivariada"
   ]
  },
  {
   "cell_type": "markdown",
   "id": "db9ddc37",
   "metadata": {},
   "source": [
    "**Scatterplot `body_mass_g` vs `bill_depth_mm` colorido por `species`.**"
   ]
  },
  {
   "cell_type": "code",
   "execution_count": null,
   "id": "71cc0e01",
   "metadata": {},
   "outputs": [],
   "source": [
    "# Seu código aqui\n"
   ]
  },
  {
   "cell_type": "markdown",
   "id": "91b9c586",
   "metadata": {},
   "source": [
    "**Boxplot de `bill_length_mm` por `sex`.**"
   ]
  },
  {
   "cell_type": "code",
   "execution_count": null,
   "id": "2c7723c6",
   "metadata": {},
   "outputs": [],
   "source": [
    "# Seu código aqui\n"
   ]
  },
  {
   "cell_type": "markdown",
   "id": "dffaa937",
   "metadata": {},
   "source": [
    "**Barplot de média de `bill_depth_mm` por `year`.**"
   ]
  },
  {
   "cell_type": "code",
   "execution_count": null,
   "id": "7fa1c511",
   "metadata": {},
   "outputs": [],
   "source": [
    "# Seu código aqui\n"
   ]
  },
  {
   "cell_type": "markdown",
   "id": "c3f380f2",
   "metadata": {},
   "source": [
    "**Heatmap de correlação entre variáveis numéricas.**"
   ]
  },
  {
   "cell_type": "code",
   "execution_count": null,
   "id": "079b6e25",
   "metadata": {},
   "outputs": [],
   "source": [
    "# Seu código aqui\n"
   ]
  },
  {
   "cell_type": "markdown",
   "id": "91bf4516",
   "metadata": {},
   "source": [
    "**Pairplot para duas colunas numéricas escolhidas.**"
   ]
  },
  {
   "cell_type": "code",
   "execution_count": null,
   "id": "ae05ec0d",
   "metadata": {},
   "outputs": [],
   "source": [
    "# Seu código aqui\n"
   ]
  },
  {
   "cell_type": "markdown",
   "id": "580fafdf",
   "metadata": {},
   "source": [
    "## GroupBy & Aggregations"
   ]
  },
  {
   "cell_type": "markdown",
   "id": "fdd30f7c",
   "metadata": {},
   "source": [
    "**Calcule média de `body_mass_g` por `year`.**"
   ]
  },
  {
   "cell_type": "code",
   "execution_count": null,
   "id": "3b6e7c96",
   "metadata": {},
   "outputs": [],
   "source": [
    "# Seu código aqui\n"
   ]
  },
  {
   "cell_type": "markdown",
   "id": "6bb62e81",
   "metadata": {},
   "source": [
    "**Use `groupby(['species','island']).size()` e exiba as 5 primeiras linhas.**"
   ]
  },
  {
   "cell_type": "code",
   "execution_count": null,
   "id": "e007a1b4",
   "metadata": {},
   "outputs": [],
   "source": [
    "# Seu código aqui\n"
   ]
  },
  {
   "cell_type": "markdown",
   "id": "c3712fa2",
   "metadata": {},
   "source": [
    "**Pivot table com índice `sex`, colunas `species`, valores `bill_length_mm`, aggfunc média.**"
   ]
  },
  {
   "cell_type": "code",
   "execution_count": null,
   "id": "0f5ac0cd",
   "metadata": {},
   "outputs": [],
   "source": [
    "# Seu código aqui\n"
   ]
  },
  {
   "cell_type": "markdown",
   "id": "e101a842",
   "metadata": {},
   "source": [
    "**Ordene agregação média de `flipper_length_mm` por `year` decrescente.**"
   ]
  },
  {
   "cell_type": "code",
   "execution_count": null,
   "id": "49973247",
   "metadata": {},
   "outputs": [],
   "source": [
    "# Seu código aqui\n"
   ]
  },
  {
   "cell_type": "markdown",
   "id": "d459f95e",
   "metadata": {},
   "source": [
    "**Mostre a soma total de `bill_length_mm` por `species`.**"
   ]
  },
  {
   "cell_type": "code",
   "execution_count": null,
   "id": "0803a620",
   "metadata": {},
   "outputs": [],
   "source": [
    "# Seu código aqui\n"
   ]
  },
  {
   "cell_type": "markdown",
   "id": "bc4bb54e",
   "metadata": {},
   "source": [
    "## Testes Estatísticos"
   ]
  },
  {
   "cell_type": "markdown",
   "id": "bf6b4ab2",
   "metadata": {},
   "source": [
    "**Execute ANOVA de `bill_length_mm` entre diferentes espécies.**"
   ]
  },
  {
   "cell_type": "code",
   "execution_count": null,
   "id": "78b58dd4",
   "metadata": {},
   "outputs": [],
   "source": [
    "# Seu código aqui\n"
   ]
  },
  {
   "cell_type": "markdown",
   "id": "1eb11323",
   "metadata": {},
   "source": [
    "**Realize teste t para `body_mass_g` entre duas ilhas (`island`).**"
   ]
  },
  {
   "cell_type": "code",
   "execution_count": null,
   "id": "41bf18c9",
   "metadata": {},
   "outputs": [],
   "source": [
    "# Seu código aqui\n"
   ]
  },
  {
   "cell_type": "markdown",
   "id": "a5a7c5c5",
   "metadata": {},
   "source": [
    "**Teste chi‑quadrado de independência entre `sex` e `species`.**"
   ]
  },
  {
   "cell_type": "code",
   "execution_count": null,
   "id": "c0b5e020",
   "metadata": {},
   "outputs": [],
   "source": [
    "# Seu código aqui\n"
   ]
  },
  {
   "cell_type": "markdown",
   "id": "5b78cbee",
   "metadata": {},
   "source": [
    "**Construa intervalo de confiança 95% para média de `flipper_length_mm`.**"
   ]
  },
  {
   "cell_type": "code",
   "execution_count": null,
   "id": "36cbd6d8",
   "metadata": {},
   "outputs": [],
   "source": [
    "# Seu código aqui\n"
   ]
  },
  {
   "cell_type": "markdown",
   "id": "b4d345a9",
   "metadata": {},
   "source": [
    "**Interprete p‑valor de um teste t executado sobre `bill_depth_mm`.**"
   ]
  },
  {
   "cell_type": "code",
   "execution_count": null,
   "id": "2bc44776",
   "metadata": {},
   "outputs": [],
   "source": [
    "# Seu código aqui\n"
   ]
  },
  {
   "cell_type": "markdown",
   "id": "b5e17ab8",
   "metadata": {},
   "source": [
    "## Clustering K‑Means"
   ]
  },
  {
   "cell_type": "markdown",
   "id": "6a60e0d3",
   "metadata": {},
   "source": [
    "**Padronize `bill_length_mm` e `body_mass_g`, aplique K‑Means (k=3) e plote clusters.**"
   ]
  },
  {
   "cell_type": "code",
   "execution_count": null,
   "id": "77f4cb74",
   "metadata": {},
   "outputs": [],
   "source": [
    "# Seu código aqui\n"
   ]
  },
  {
   "cell_type": "markdown",
   "id": "16ae4639",
   "metadata": {},
   "source": [
    "**Avalie inércia do modelo e discuta se k=3 faz sentido.**"
   ]
  },
  {
   "cell_type": "code",
   "execution_count": null,
   "id": "c4dc580e",
   "metadata": {},
   "outputs": [],
   "source": [
    "# Seu código aqui\n"
   ]
  },
  {
   "cell_type": "markdown",
   "id": "2f589e8b",
   "metadata": {},
   "source": [
    "**Adicione rótulo de cluster ao DataFrame.**"
   ]
  },
  {
   "cell_type": "code",
   "execution_count": null,
   "id": "85e4e499",
   "metadata": {},
   "outputs": [],
   "source": [
    "# Seu código aqui\n"
   ]
  },
  {
   "cell_type": "markdown",
   "id": "adf027e5",
   "metadata": {},
   "source": [
    "**Compare distribuição de `species` dentro de cada cluster.**"
   ]
  },
  {
   "cell_type": "code",
   "execution_count": null,
   "id": "9d41d613",
   "metadata": {},
   "outputs": [],
   "source": [
    "# Seu código aqui\n"
   ]
  },
  {
   "cell_type": "markdown",
   "id": "3a023426",
   "metadata": {},
   "source": [
    "**Plot silhouette score para k=2 a 5 e escolha melhor k.**"
   ]
  },
  {
   "cell_type": "code",
   "execution_count": null,
   "id": "680829f2",
   "metadata": {},
   "outputs": [],
   "source": [
    "# Seu código aqui\n"
   ]
  },
  {
   "cell_type": "markdown",
   "id": "6494f577",
   "metadata": {},
   "source": [
    "## Correlação & Covariância"
   ]
  },
  {
   "cell_type": "markdown",
   "id": "011aa72f",
   "metadata": {},
   "source": [
    "**Calcule correlação Pearson entre `body_mass_g` e `bill_depth_mm`.**"
   ]
  },
  {
   "cell_type": "code",
   "execution_count": null,
   "id": "7948f8d6",
   "metadata": {},
   "outputs": [],
   "source": [
    "# Seu código aqui\n"
   ]
  },
  {
   "cell_type": "markdown",
   "id": "26209815",
   "metadata": {},
   "source": [
    "**Visualize matriz de correlação usando `sns.heatmap`.**"
   ]
  },
  {
   "cell_type": "code",
   "execution_count": null,
   "id": "9992c7b3",
   "metadata": {},
   "outputs": [],
   "source": [
    "# Seu código aqui\n"
   ]
  },
  {
   "cell_type": "markdown",
   "id": "6db3b1c8",
   "metadata": {},
   "source": [
    "**Liste pares com correlação > 0.7.**"
   ]
  },
  {
   "cell_type": "code",
   "execution_count": null,
   "id": "c5d2bc72",
   "metadata": {},
   "outputs": [],
   "source": [
    "# Seu código aqui\n"
   ]
  },
  {
   "cell_type": "markdown",
   "id": "a1a8b9ae",
   "metadata": {},
   "source": [
    "**Calcule covariância entre `body_mass_g` e `bill_length_mm`.**"
   ]
  },
  {
   "cell_type": "code",
   "execution_count": null,
   "id": "fad8effa",
   "metadata": {},
   "outputs": [],
   "source": [
    "# Seu código aqui\n"
   ]
  },
  {
   "cell_type": "markdown",
   "id": "a8dff9ca",
   "metadata": {},
   "source": [
    "**Explique correlação negativa, se existir, no dataset.**"
   ]
  },
  {
   "cell_type": "code",
   "execution_count": null,
   "id": "c7f18392",
   "metadata": {},
   "outputs": [],
   "source": [
    "# Seu código aqui\n"
   ]
  },
  {
   "cell_type": "markdown",
   "id": "4a6db9b1",
   "metadata": {},
   "source": [
    "## Feature Engineering"
   ]
  },
  {
   "cell_type": "markdown",
   "id": "13e725af",
   "metadata": {},
   "source": [
    "**Crie coluna `bill_ratio` = `bill_length_mm` / `bill_depth_mm`.**"
   ]
  },
  {
   "cell_type": "code",
   "execution_count": null,
   "id": "5955db07",
   "metadata": {},
   "outputs": [],
   "source": [
    "# Seu código aqui\n"
   ]
  },
  {
   "cell_type": "markdown",
   "id": "8852c180",
   "metadata": {},
   "source": [
    "**Bin discretize `bill_depth_mm` em 4 faixas e conte elementos por faixa.**"
   ]
  },
  {
   "cell_type": "code",
   "execution_count": null,
   "id": "a3b9d245",
   "metadata": {},
   "outputs": [],
   "source": [
    "# Seu código aqui\n"
   ]
  },
  {
   "cell_type": "markdown",
   "id": "da7a2a1c",
   "metadata": {},
   "source": [
    "**Encode `species` usando one‑hot e mostre DataFrame resultante.**"
   ]
  },
  {
   "cell_type": "code",
   "execution_count": null,
   "id": "20b4202a",
   "metadata": {},
   "outputs": [],
   "source": [
    "# Seu código aqui\n"
   ]
  },
  {
   "cell_type": "markdown",
   "id": "87fd4f90",
   "metadata": {},
   "source": [
    "**Escalone `bill_depth_mm` com StandardScaler e mostre estatísticas.**"
   ]
  },
  {
   "cell_type": "code",
   "execution_count": null,
   "id": "0590b3d5",
   "metadata": {},
   "outputs": [],
   "source": [
    "# Seu código aqui\n"
   ]
  },
  {
   "cell_type": "markdown",
   "id": "095dbd49",
   "metadata": {},
   "source": [
    "**Crie coluna lógica `is_heavy` se `body_mass_g` > 4500.**"
   ]
  },
  {
   "cell_type": "code",
   "execution_count": null,
   "id": "d701506b",
   "metadata": {},
   "outputs": [],
   "source": [
    "# Seu código aqui\n"
   ]
  },
  {
   "cell_type": "markdown",
   "id": "c9015a9b",
   "metadata": {},
   "source": [
    "## Insights & Storytelling"
   ]
  },
  {
   "cell_type": "markdown",
   "id": "71e3d2c5",
   "metadata": {},
   "source": [
    "**Escreva insight sobre diferença de `flipper_length_mm` entre espécies.**"
   ]
  },
  {
   "cell_type": "code",
   "execution_count": null,
   "id": "f367c6e4",
   "metadata": {},
   "outputs": [],
   "source": [
    "# Seu código aqui\n"
   ]
  },
  {
   "cell_type": "markdown",
   "id": "c1f4f4ff",
   "metadata": {},
   "source": [
    "**Qual ilha apresenta maior média de `body_mass_g`?**"
   ]
  },
  {
   "cell_type": "code",
   "execution_count": null,
   "id": "09d44a93",
   "metadata": {},
   "outputs": [],
   "source": [
    "# Seu código aqui\n"
   ]
  },
  {
   "cell_type": "markdown",
   "id": "51e9a8de",
   "metadata": {},
   "source": [
    "**Resuma distribuição de `body_mass_g` em 3 frases.**"
   ]
  },
  {
   "cell_type": "code",
   "execution_count": null,
   "id": "bb730820",
   "metadata": {},
   "outputs": [],
   "source": [
    "# Seu código aqui\n"
   ]
  },
  {
   "cell_type": "markdown",
   "id": "693c18d8",
   "metadata": {},
   "source": [
    "**Crie gráfico combinado (box + strip) para `bill_depth_mm` por `species`.**"
   ]
  },
  {
   "cell_type": "code",
   "execution_count": null,
   "id": "65bd0c7d",
   "metadata": {},
   "outputs": [],
   "source": [
    "# Seu código aqui\n"
   ]
  },
  {
   "cell_type": "markdown",
   "id": "c4f953ea",
   "metadata": {},
   "source": [
    "**Explique relação entre `body_mass_g` e `bill_depth_mm` baseada no scatterplot.**"
   ]
  },
  {
   "cell_type": "code",
   "execution_count": null,
   "id": "1cb463d6",
   "metadata": {},
   "outputs": [],
   "source": [
    "# Seu código aqui\n"
   ]
  },
  {
   "cell_type": "markdown",
   "id": "5f2131f5",
   "metadata": {},
   "source": [
    "## Carregamento & Visão Geral"
   ]
  },
  {
   "cell_type": "markdown",
   "id": "981a8706",
   "metadata": {},
   "source": [
    "**Carregue o dataset Penguins em um DataFrame `df` via `seaborn.load_dataset('penguins')`.**"
   ]
  },
  {
   "cell_type": "code",
   "execution_count": null,
   "id": "69118835",
   "metadata": {},
   "outputs": [],
   "source": [
    "# Seu código aqui\n"
   ]
  },
  {
   "cell_type": "markdown",
   "id": "8042eec4",
   "metadata": {},
   "source": [
    "**Exiba as 5 primeiras linhas de `df`.**"
   ]
  },
  {
   "cell_type": "code",
   "execution_count": null,
   "id": "b370b42c",
   "metadata": {},
   "outputs": [],
   "source": [
    "# Seu código aqui\n"
   ]
  },
  {
   "cell_type": "markdown",
   "id": "ba687aea",
   "metadata": {},
   "source": [
    "**Mostre `df.info()` para inspeção de tipos.**"
   ]
  },
  {
   "cell_type": "code",
   "execution_count": null,
   "id": "f6d2ec63",
   "metadata": {},
   "outputs": [],
   "source": [
    "# Seu código aqui\n"
   ]
  },
  {
   "cell_type": "markdown",
   "id": "d68855ba",
   "metadata": {},
   "source": [
    "**Quantos valores ausentes existem em cada coluna?**"
   ]
  },
  {
   "cell_type": "code",
   "execution_count": null,
   "id": "5f280b60",
   "metadata": {},
   "outputs": [],
   "source": [
    "# Seu código aqui\n"
   ]
  },
  {
   "cell_type": "markdown",
   "id": "e04fc8a1",
   "metadata": {},
   "source": [
    "**Liste todas as colunas presentes e seus tipos.**"
   ]
  },
  {
   "cell_type": "code",
   "execution_count": null,
   "id": "2f0f02fe",
   "metadata": {},
   "outputs": [],
   "source": [
    "# Seu código aqui\n"
   ]
  },
  {
   "cell_type": "markdown",
   "id": "3c2a4052",
   "metadata": {},
   "source": [
    "## Estatística Descritiva"
   ]
  },
  {
   "cell_type": "markdown",
   "id": "3c7e15f2",
   "metadata": {},
   "source": [
    "**Calcule a média de `bill_length_mm`.**"
   ]
  },
  {
   "cell_type": "code",
   "execution_count": null,
   "id": "9d371f10",
   "metadata": {},
   "outputs": [],
   "source": [
    "# Seu código aqui\n"
   ]
  },
  {
   "cell_type": "markdown",
   "id": "b6734cf6",
   "metadata": {},
   "source": [
    "**Encontre a mediana de `body_mass_g`.**"
   ]
  },
  {
   "cell_type": "code",
   "execution_count": null,
   "id": "c66c5591",
   "metadata": {},
   "outputs": [],
   "source": [
    "# Seu código aqui\n"
   ]
  },
  {
   "cell_type": "markdown",
   "id": "701edf12",
   "metadata": {},
   "source": [
    "**Qual é o desvio‑padrão de `bill_length_mm`?**"
   ]
  },
  {
   "cell_type": "code",
   "execution_count": null,
   "id": "e7919a22",
   "metadata": {},
   "outputs": [],
   "source": [
    "# Seu código aqui\n"
   ]
  },
  {
   "cell_type": "markdown",
   "id": "affd290b",
   "metadata": {},
   "source": [
    "**Exiba o resumo estatístico (`describe`) para `body_mass_g`.**"
   ]
  },
  {
   "cell_type": "code",
   "execution_count": null,
   "id": "579f889a",
   "metadata": {},
   "outputs": [],
   "source": [
    "# Seu código aqui\n"
   ]
  },
  {
   "cell_type": "markdown",
   "id": "7e379b17",
   "metadata": {},
   "source": [
    "**Conte valores nulos em `flipper_length_mm`.**"
   ]
  },
  {
   "cell_type": "code",
   "execution_count": null,
   "id": "05d6c33e",
   "metadata": {},
   "outputs": [],
   "source": [
    "# Seu código aqui\n"
   ]
  },
  {
   "cell_type": "markdown",
   "id": "48d19855",
   "metadata": {},
   "source": [
    "## Visualização Univariada"
   ]
  },
  {
   "cell_type": "markdown",
   "id": "57d10a5c",
   "metadata": {},
   "source": [
    "**Plote histograma para `flipper_length_mm`.**"
   ]
  },
  {
   "cell_type": "code",
   "execution_count": null,
   "id": "e84b084e",
   "metadata": {},
   "outputs": [],
   "source": [
    "# Seu código aqui\n"
   ]
  },
  {
   "cell_type": "markdown",
   "id": "4a375939",
   "metadata": {},
   "source": [
    "**Crie boxplot de `bill_length_mm` dividido por `species`.**"
   ]
  },
  {
   "cell_type": "code",
   "execution_count": null,
   "id": "5595f51a",
   "metadata": {},
   "outputs": [],
   "source": [
    "# Seu código aqui\n"
   ]
  },
  {
   "cell_type": "markdown",
   "id": "895a308a",
   "metadata": {},
   "source": [
    "**Gere countplot para `island`.**"
   ]
  },
  {
   "cell_type": "code",
   "execution_count": null,
   "id": "f2ad0cf9",
   "metadata": {},
   "outputs": [],
   "source": [
    "# Seu código aqui\n"
   ]
  },
  {
   "cell_type": "markdown",
   "id": "94e081fb",
   "metadata": {},
   "source": [
    "**Desenhe violin plot de `bill_length_mm` por `species`.**"
   ]
  },
  {
   "cell_type": "code",
   "execution_count": null,
   "id": "35638477",
   "metadata": {},
   "outputs": [],
   "source": [
    "# Seu código aqui\n"
   ]
  },
  {
   "cell_type": "markdown",
   "id": "10009e00",
   "metadata": {},
   "source": [
    "**Faça KDE plot de `flipper_length_mm`.**"
   ]
  },
  {
   "cell_type": "code",
   "execution_count": null,
   "id": "0ee130d3",
   "metadata": {},
   "outputs": [],
   "source": [
    "# Seu código aqui\n"
   ]
  },
  {
   "cell_type": "markdown",
   "id": "c7e212f4",
   "metadata": {},
   "source": [
    "## Visualização Bivariada"
   ]
  },
  {
   "cell_type": "markdown",
   "id": "d89254b1",
   "metadata": {},
   "source": [
    "**Scatterplot `bill_length_mm` vs `flipper_length_mm` colorido por `species`.**"
   ]
  },
  {
   "cell_type": "code",
   "execution_count": null,
   "id": "72a43f18",
   "metadata": {},
   "outputs": [],
   "source": [
    "# Seu código aqui\n"
   ]
  },
  {
   "cell_type": "markdown",
   "id": "5b8c509a",
   "metadata": {},
   "source": [
    "**Boxplot de `body_mass_g` por `island`.**"
   ]
  },
  {
   "cell_type": "code",
   "execution_count": null,
   "id": "1b2e7364",
   "metadata": {},
   "outputs": [],
   "source": [
    "# Seu código aqui\n"
   ]
  },
  {
   "cell_type": "markdown",
   "id": "caf58267",
   "metadata": {},
   "source": [
    "**Barplot de média de `flipper_length_mm` por `island`.**"
   ]
  },
  {
   "cell_type": "code",
   "execution_count": null,
   "id": "003b0014",
   "metadata": {},
   "outputs": [],
   "source": [
    "# Seu código aqui\n"
   ]
  },
  {
   "cell_type": "markdown",
   "id": "3c393491",
   "metadata": {},
   "source": [
    "**Heatmap de correlação entre variáveis numéricas.**"
   ]
  },
  {
   "cell_type": "code",
   "execution_count": null,
   "id": "1a7df28f",
   "metadata": {},
   "outputs": [],
   "source": [
    "# Seu código aqui\n"
   ]
  },
  {
   "cell_type": "markdown",
   "id": "cebca309",
   "metadata": {},
   "source": [
    "**Pairplot para duas colunas numéricas escolhidas.**"
   ]
  },
  {
   "cell_type": "code",
   "execution_count": null,
   "id": "ab4489ce",
   "metadata": {},
   "outputs": [],
   "source": [
    "# Seu código aqui\n"
   ]
  },
  {
   "cell_type": "markdown",
   "id": "e1050a03",
   "metadata": {},
   "source": [
    "## GroupBy & Aggregations"
   ]
  },
  {
   "cell_type": "markdown",
   "id": "d456f773",
   "metadata": {},
   "source": [
    "**Calcule média de `bill_depth_mm` por `island`.**"
   ]
  },
  {
   "cell_type": "code",
   "execution_count": null,
   "id": "3ba8ef8d",
   "metadata": {},
   "outputs": [],
   "source": [
    "# Seu código aqui\n"
   ]
  },
  {
   "cell_type": "markdown",
   "id": "a30a3443",
   "metadata": {},
   "source": [
    "**Use `groupby(['species','island']).size()` e exiba as 5 primeiras linhas.**"
   ]
  },
  {
   "cell_type": "code",
   "execution_count": null,
   "id": "af9c75fa",
   "metadata": {},
   "outputs": [],
   "source": [
    "# Seu código aqui\n"
   ]
  },
  {
   "cell_type": "markdown",
   "id": "252d1a87",
   "metadata": {},
   "source": [
    "**Pivot table com índice `species`, colunas `species`, valores `bill_length_mm`, aggfunc média.**"
   ]
  },
  {
   "cell_type": "code",
   "execution_count": null,
   "id": "c97dc08d",
   "metadata": {},
   "outputs": [],
   "source": [
    "# Seu código aqui\n"
   ]
  },
  {
   "cell_type": "markdown",
   "id": "84edaf88",
   "metadata": {},
   "source": [
    "**Ordene agregação média de `flipper_length_mm` por `island` decrescente.**"
   ]
  },
  {
   "cell_type": "code",
   "execution_count": null,
   "id": "38a4855c",
   "metadata": {},
   "outputs": [],
   "source": [
    "# Seu código aqui\n"
   ]
  },
  {
   "cell_type": "markdown",
   "id": "c93d73c4",
   "metadata": {},
   "source": [
    "**Mostre a soma total de `body_mass_g` por `species`.**"
   ]
  },
  {
   "cell_type": "code",
   "execution_count": null,
   "id": "6f92b57a",
   "metadata": {},
   "outputs": [],
   "source": [
    "# Seu código aqui\n"
   ]
  },
  {
   "cell_type": "markdown",
   "id": "144e6f15",
   "metadata": {},
   "source": [
    "## Testes Estatísticos"
   ]
  },
  {
   "cell_type": "markdown",
   "id": "d5e3adf0",
   "metadata": {},
   "source": [
    "**Execute ANOVA de `bill_length_mm` entre diferentes espécies.**"
   ]
  },
  {
   "cell_type": "code",
   "execution_count": null,
   "id": "a724c5d9",
   "metadata": {},
   "outputs": [],
   "source": [
    "# Seu código aqui\n"
   ]
  },
  {
   "cell_type": "markdown",
   "id": "c14b2937",
   "metadata": {},
   "source": [
    "**Realize teste t para `flipper_length_mm` entre duas ilhas (`island`).**"
   ]
  },
  {
   "cell_type": "code",
   "execution_count": null,
   "id": "dc08deb8",
   "metadata": {},
   "outputs": [],
   "source": [
    "# Seu código aqui\n"
   ]
  },
  {
   "cell_type": "markdown",
   "id": "06f4305d",
   "metadata": {},
   "source": [
    "**Teste chi‑quadrado de independência entre `island` e `species`.**"
   ]
  },
  {
   "cell_type": "code",
   "execution_count": null,
   "id": "3c3f57e8",
   "metadata": {},
   "outputs": [],
   "source": [
    "# Seu código aqui\n"
   ]
  },
  {
   "cell_type": "markdown",
   "id": "029e0754",
   "metadata": {},
   "source": [
    "**Construa intervalo de confiança 95% para média de `bill_depth_mm`.**"
   ]
  },
  {
   "cell_type": "code",
   "execution_count": null,
   "id": "c2b8206f",
   "metadata": {},
   "outputs": [],
   "source": [
    "# Seu código aqui\n"
   ]
  },
  {
   "cell_type": "markdown",
   "id": "3ca8e84b",
   "metadata": {},
   "source": [
    "**Interprete p‑valor de um teste t executado sobre `bill_length_mm`.**"
   ]
  },
  {
   "cell_type": "code",
   "execution_count": null,
   "id": "b82a7912",
   "metadata": {},
   "outputs": [],
   "source": [
    "# Seu código aqui\n"
   ]
  },
  {
   "cell_type": "markdown",
   "id": "b016f527",
   "metadata": {},
   "source": [
    "## Clustering K‑Means"
   ]
  },
  {
   "cell_type": "markdown",
   "id": "fc1fba23",
   "metadata": {},
   "source": [
    "**Padronize `body_mass_g` e `flipper_length_mm`, aplique K‑Means (k=3) e plote clusters.**"
   ]
  },
  {
   "cell_type": "code",
   "execution_count": null,
   "id": "258dc23a",
   "metadata": {},
   "outputs": [],
   "source": [
    "# Seu código aqui\n"
   ]
  },
  {
   "cell_type": "markdown",
   "id": "3e2c3372",
   "metadata": {},
   "source": [
    "**Avalie inércia do modelo e discuta se k=3 faz sentido.**"
   ]
  },
  {
   "cell_type": "code",
   "execution_count": null,
   "id": "a7bdfa00",
   "metadata": {},
   "outputs": [],
   "source": [
    "# Seu código aqui\n"
   ]
  },
  {
   "cell_type": "markdown",
   "id": "7e445312",
   "metadata": {},
   "source": [
    "**Adicione rótulo de cluster ao DataFrame.**"
   ]
  },
  {
   "cell_type": "code",
   "execution_count": null,
   "id": "51551ed9",
   "metadata": {},
   "outputs": [],
   "source": [
    "# Seu código aqui\n"
   ]
  },
  {
   "cell_type": "markdown",
   "id": "fb3ebd2d",
   "metadata": {},
   "source": [
    "**Compare distribuição de `species` dentro de cada cluster.**"
   ]
  },
  {
   "cell_type": "code",
   "execution_count": null,
   "id": "24d15331",
   "metadata": {},
   "outputs": [],
   "source": [
    "# Seu código aqui\n"
   ]
  },
  {
   "cell_type": "markdown",
   "id": "be53644b",
   "metadata": {},
   "source": [
    "**Plot silhouette score para k=2 a 5 e escolha melhor k.**"
   ]
  },
  {
   "cell_type": "code",
   "execution_count": null,
   "id": "badac86d",
   "metadata": {},
   "outputs": [],
   "source": [
    "# Seu código aqui\n"
   ]
  },
  {
   "cell_type": "markdown",
   "id": "7d7935de",
   "metadata": {},
   "source": [
    "## Correlação & Covariância"
   ]
  },
  {
   "cell_type": "markdown",
   "id": "8d4b138b",
   "metadata": {},
   "source": [
    "**Calcule correlação Pearson entre `bill_depth_mm` e `body_mass_g`.**"
   ]
  },
  {
   "cell_type": "code",
   "execution_count": null,
   "id": "d5862bb1",
   "metadata": {},
   "outputs": [],
   "source": [
    "# Seu código aqui\n"
   ]
  },
  {
   "cell_type": "markdown",
   "id": "1af74610",
   "metadata": {},
   "source": [
    "**Visualize matriz de correlação usando `sns.heatmap`.**"
   ]
  },
  {
   "cell_type": "code",
   "execution_count": null,
   "id": "606ae2d6",
   "metadata": {},
   "outputs": [],
   "source": [
    "# Seu código aqui\n"
   ]
  },
  {
   "cell_type": "markdown",
   "id": "5c97efd4",
   "metadata": {},
   "source": [
    "**Liste pares com correlação > 0.7.**"
   ]
  },
  {
   "cell_type": "code",
   "execution_count": null,
   "id": "5dc5d6e9",
   "metadata": {},
   "outputs": [],
   "source": [
    "# Seu código aqui\n"
   ]
  },
  {
   "cell_type": "markdown",
   "id": "2adbf237",
   "metadata": {},
   "source": [
    "**Calcule covariância entre `bill_length_mm` e `bill_depth_mm`.**"
   ]
  },
  {
   "cell_type": "code",
   "execution_count": null,
   "id": "33d6b977",
   "metadata": {},
   "outputs": [],
   "source": [
    "# Seu código aqui\n"
   ]
  },
  {
   "cell_type": "markdown",
   "id": "13685621",
   "metadata": {},
   "source": [
    "**Explique correlação negativa, se existir, no dataset.**"
   ]
  },
  {
   "cell_type": "code",
   "execution_count": null,
   "id": "251fdd4e",
   "metadata": {},
   "outputs": [],
   "source": [
    "# Seu código aqui\n"
   ]
  },
  {
   "cell_type": "markdown",
   "id": "b1da4697",
   "metadata": {},
   "source": [
    "## Feature Engineering"
   ]
  },
  {
   "cell_type": "markdown",
   "id": "5bec4848",
   "metadata": {},
   "source": [
    "**Crie coluna `bill_ratio` = `bill_length_mm` / `bill_depth_mm`.**"
   ]
  },
  {
   "cell_type": "code",
   "execution_count": null,
   "id": "5446976d",
   "metadata": {},
   "outputs": [],
   "source": [
    "# Seu código aqui\n"
   ]
  },
  {
   "cell_type": "markdown",
   "id": "093cf83c",
   "metadata": {},
   "source": [
    "**Bin discretize `bill_length_mm` em 4 faixas e conte elementos por faixa.**"
   ]
  },
  {
   "cell_type": "code",
   "execution_count": null,
   "id": "05ff1628",
   "metadata": {},
   "outputs": [],
   "source": [
    "# Seu código aqui\n"
   ]
  },
  {
   "cell_type": "markdown",
   "id": "f438293a",
   "metadata": {},
   "source": [
    "**Encode `island` usando one‑hot e mostre DataFrame resultante.**"
   ]
  },
  {
   "cell_type": "code",
   "execution_count": null,
   "id": "fb34b228",
   "metadata": {},
   "outputs": [],
   "source": [
    "# Seu código aqui\n"
   ]
  },
  {
   "cell_type": "markdown",
   "id": "3917aa3c",
   "metadata": {},
   "source": [
    "**Escalone `body_mass_g` com StandardScaler e mostre estatísticas.**"
   ]
  },
  {
   "cell_type": "code",
   "execution_count": null,
   "id": "95ea2d11",
   "metadata": {},
   "outputs": [],
   "source": [
    "# Seu código aqui\n"
   ]
  },
  {
   "cell_type": "markdown",
   "id": "503335db",
   "metadata": {},
   "source": [
    "**Crie coluna lógica `is_heavy` se `body_mass_g` > 4500.**"
   ]
  },
  {
   "cell_type": "code",
   "execution_count": null,
   "id": "8220c9b8",
   "metadata": {},
   "outputs": [],
   "source": [
    "# Seu código aqui\n"
   ]
  },
  {
   "cell_type": "markdown",
   "id": "97f2c21a",
   "metadata": {},
   "source": [
    "## Insights & Storytelling"
   ]
  },
  {
   "cell_type": "markdown",
   "id": "06e2cfb6",
   "metadata": {},
   "source": [
    "**Escreva insight sobre diferença de `bill_length_mm` entre espécies.**"
   ]
  },
  {
   "cell_type": "code",
   "execution_count": null,
   "id": "9ea333bc",
   "metadata": {},
   "outputs": [],
   "source": [
    "# Seu código aqui\n"
   ]
  },
  {
   "cell_type": "markdown",
   "id": "4e18e8fa",
   "metadata": {},
   "source": [
    "**Qual ilha apresenta maior média de `body_mass_g`?**"
   ]
  },
  {
   "cell_type": "code",
   "execution_count": null,
   "id": "2f90b3a6",
   "metadata": {},
   "outputs": [],
   "source": [
    "# Seu código aqui\n"
   ]
  },
  {
   "cell_type": "markdown",
   "id": "3686bd8d",
   "metadata": {},
   "source": [
    "**Resuma distribuição de `body_mass_g` em 3 frases.**"
   ]
  },
  {
   "cell_type": "code",
   "execution_count": null,
   "id": "1f951c1d",
   "metadata": {},
   "outputs": [],
   "source": [
    "# Seu código aqui\n"
   ]
  },
  {
   "cell_type": "markdown",
   "id": "33913502",
   "metadata": {},
   "source": [
    "**Crie gráfico combinado (box + strip) para `bill_length_mm` por `species`.**"
   ]
  },
  {
   "cell_type": "code",
   "execution_count": null,
   "id": "178f9864",
   "metadata": {},
   "outputs": [],
   "source": [
    "# Seu código aqui\n"
   ]
  },
  {
   "cell_type": "markdown",
   "id": "39964185",
   "metadata": {},
   "source": [
    "**Explique relação entre `bill_length_mm` e `bill_depth_mm` baseada no scatterplot.**"
   ]
  },
  {
   "cell_type": "code",
   "execution_count": null,
   "id": "ccc73526",
   "metadata": {},
   "outputs": [],
   "source": [
    "# Seu código aqui\n"
   ]
  },
  {
   "cell_type": "markdown",
   "id": "61a9c056",
   "metadata": {},
   "source": [
    "## Carregamento & Visão Geral"
   ]
  },
  {
   "cell_type": "markdown",
   "id": "b28c085e",
   "metadata": {},
   "source": [
    "**Carregue o dataset Penguins em um DataFrame `df` via `seaborn.load_dataset('penguins')`.**"
   ]
  },
  {
   "cell_type": "code",
   "execution_count": null,
   "id": "63f4dec7",
   "metadata": {},
   "outputs": [],
   "source": [
    "# Seu código aqui\n"
   ]
  },
  {
   "cell_type": "markdown",
   "id": "2e5315c4",
   "metadata": {},
   "source": [
    "**Exiba as 5 primeiras linhas de `df`.**"
   ]
  },
  {
   "cell_type": "code",
   "execution_count": null,
   "id": "b4a1427c",
   "metadata": {},
   "outputs": [],
   "source": [
    "# Seu código aqui\n"
   ]
  },
  {
   "cell_type": "markdown",
   "id": "a107b56f",
   "metadata": {},
   "source": [
    "**Mostre `df.info()` para inspeção de tipos.**"
   ]
  },
  {
   "cell_type": "code",
   "execution_count": null,
   "id": "8690a557",
   "metadata": {},
   "outputs": [],
   "source": [
    "# Seu código aqui\n"
   ]
  },
  {
   "cell_type": "markdown",
   "id": "d546f67b",
   "metadata": {},
   "source": [
    "**Quantos valores ausentes existem em cada coluna?**"
   ]
  },
  {
   "cell_type": "code",
   "execution_count": null,
   "id": "ab1900ed",
   "metadata": {},
   "outputs": [],
   "source": [
    "# Seu código aqui\n"
   ]
  },
  {
   "cell_type": "markdown",
   "id": "462fe7a0",
   "metadata": {},
   "source": [
    "**Liste todas as colunas presentes e seus tipos.**"
   ]
  },
  {
   "cell_type": "code",
   "execution_count": null,
   "id": "a8fd5585",
   "metadata": {},
   "outputs": [],
   "source": [
    "# Seu código aqui\n"
   ]
  },
  {
   "cell_type": "markdown",
   "id": "e1346efa",
   "metadata": {},
   "source": [
    "## Estatística Descritiva"
   ]
  },
  {
   "cell_type": "markdown",
   "id": "fc3b6b9d",
   "metadata": {},
   "source": [
    "**Calcule a média de `bill_length_mm`.**"
   ]
  },
  {
   "cell_type": "code",
   "execution_count": null,
   "id": "a28f6daf",
   "metadata": {},
   "outputs": [],
   "source": [
    "# Seu código aqui\n"
   ]
  },
  {
   "cell_type": "markdown",
   "id": "c3a9971e",
   "metadata": {},
   "source": [
    "**Encontre a mediana de `flipper_length_mm`.**"
   ]
  },
  {
   "cell_type": "code",
   "execution_count": null,
   "id": "9e3759c9",
   "metadata": {},
   "outputs": [],
   "source": [
    "# Seu código aqui\n"
   ]
  },
  {
   "cell_type": "markdown",
   "id": "c287e0cd",
   "metadata": {},
   "source": [
    "**Qual é o desvio‑padrão de `bill_length_mm`?**"
   ]
  },
  {
   "cell_type": "code",
   "execution_count": null,
   "id": "3b8645ac",
   "metadata": {},
   "outputs": [],
   "source": [
    "# Seu código aqui\n"
   ]
  },
  {
   "cell_type": "markdown",
   "id": "0dc0d708",
   "metadata": {},
   "source": [
    "**Exiba o resumo estatístico (`describe`) para `bill_length_mm`.**"
   ]
  },
  {
   "cell_type": "code",
   "execution_count": null,
   "id": "9b918b18",
   "metadata": {},
   "outputs": [],
   "source": [
    "# Seu código aqui\n"
   ]
  },
  {
   "cell_type": "markdown",
   "id": "22ee5ad0",
   "metadata": {},
   "source": [
    "**Conte valores nulos em `flipper_length_mm`.**"
   ]
  },
  {
   "cell_type": "code",
   "execution_count": null,
   "id": "f00ee76b",
   "metadata": {},
   "outputs": [],
   "source": [
    "# Seu código aqui\n"
   ]
  },
  {
   "cell_type": "markdown",
   "id": "83f8733e",
   "metadata": {},
   "source": [
    "## Visualização Univariada"
   ]
  },
  {
   "cell_type": "markdown",
   "id": "f3f7f364",
   "metadata": {},
   "source": [
    "**Plote histograma para `bill_depth_mm`.**"
   ]
  },
  {
   "cell_type": "code",
   "execution_count": null,
   "id": "71d7d82e",
   "metadata": {},
   "outputs": [],
   "source": [
    "# Seu código aqui\n"
   ]
  },
  {
   "cell_type": "markdown",
   "id": "43f40100",
   "metadata": {},
   "source": [
    "**Crie boxplot de `bill_depth_mm` dividido por `year`.**"
   ]
  },
  {
   "cell_type": "code",
   "execution_count": null,
   "id": "6ce4ba38",
   "metadata": {},
   "outputs": [],
   "source": [
    "# Seu código aqui\n"
   ]
  },
  {
   "cell_type": "markdown",
   "id": "f5370f9e",
   "metadata": {},
   "source": [
    "**Gere countplot para `sex`.**"
   ]
  },
  {
   "cell_type": "code",
   "execution_count": null,
   "id": "cda621d9",
   "metadata": {},
   "outputs": [],
   "source": [
    "# Seu código aqui\n"
   ]
  },
  {
   "cell_type": "markdown",
   "id": "e1347ca9",
   "metadata": {},
   "source": [
    "**Desenhe violin plot de `flipper_length_mm` por `species`.**"
   ]
  },
  {
   "cell_type": "code",
   "execution_count": null,
   "id": "a776430a",
   "metadata": {},
   "outputs": [],
   "source": [
    "# Seu código aqui\n"
   ]
  },
  {
   "cell_type": "markdown",
   "id": "a93ba5d0",
   "metadata": {},
   "source": [
    "**Faça KDE plot de `flipper_length_mm`.**"
   ]
  },
  {
   "cell_type": "code",
   "execution_count": null,
   "id": "265c48c3",
   "metadata": {},
   "outputs": [],
   "source": [
    "# Seu código aqui\n"
   ]
  },
  {
   "cell_type": "markdown",
   "id": "8bda0494",
   "metadata": {},
   "source": [
    "## Visualização Bivariada"
   ]
  },
  {
   "cell_type": "markdown",
   "id": "408a70ab",
   "metadata": {},
   "source": [
    "**Scatterplot `bill_depth_mm` vs `bill_length_mm` colorido por `species`.**"
   ]
  },
  {
   "cell_type": "code",
   "execution_count": null,
   "id": "44fe0429",
   "metadata": {},
   "outputs": [],
   "source": [
    "# Seu código aqui\n"
   ]
  },
  {
   "cell_type": "markdown",
   "id": "06fd7e60",
   "metadata": {},
   "source": [
    "**Boxplot de `bill_length_mm` por `sex`.**"
   ]
  },
  {
   "cell_type": "code",
   "execution_count": null,
   "id": "a64dd79b",
   "metadata": {},
   "outputs": [],
   "source": [
    "# Seu código aqui\n"
   ]
  },
  {
   "cell_type": "markdown",
   "id": "7d166d87",
   "metadata": {},
   "source": [
    "**Barplot de média de `flipper_length_mm` por `species`.**"
   ]
  },
  {
   "cell_type": "code",
   "execution_count": null,
   "id": "3ef0505e",
   "metadata": {},
   "outputs": [],
   "source": [
    "# Seu código aqui\n"
   ]
  },
  {
   "cell_type": "markdown",
   "id": "10500a54",
   "metadata": {},
   "source": [
    "**Heatmap de correlação entre variáveis numéricas.**"
   ]
  },
  {
   "cell_type": "code",
   "execution_count": null,
   "id": "c2344893",
   "metadata": {},
   "outputs": [],
   "source": [
    "# Seu código aqui\n"
   ]
  },
  {
   "cell_type": "markdown",
   "id": "ea8d2efb",
   "metadata": {},
   "source": [
    "**Pairplot para duas colunas numéricas escolhidas.**"
   ]
  },
  {
   "cell_type": "code",
   "execution_count": null,
   "id": "b2be31e1",
   "metadata": {},
   "outputs": [],
   "source": [
    "# Seu código aqui\n"
   ]
  },
  {
   "cell_type": "markdown",
   "id": "05c73ca2",
   "metadata": {},
   "source": [
    "## GroupBy & Aggregations"
   ]
  },
  {
   "cell_type": "markdown",
   "id": "cb029955",
   "metadata": {},
   "source": [
    "**Calcule média de `flipper_length_mm` por `sex`.**"
   ]
  },
  {
   "cell_type": "code",
   "execution_count": null,
   "id": "6346ff18",
   "metadata": {},
   "outputs": [],
   "source": [
    "# Seu código aqui\n"
   ]
  },
  {
   "cell_type": "markdown",
   "id": "d212e25c",
   "metadata": {},
   "source": [
    "**Use `groupby(['species','species']).size()` e exiba as 5 primeiras linhas.**"
   ]
  },
  {
   "cell_type": "code",
   "execution_count": null,
   "id": "e3d15bf3",
   "metadata": {},
   "outputs": [],
   "source": [
    "# Seu código aqui\n"
   ]
  },
  {
   "cell_type": "markdown",
   "id": "1e869796",
   "metadata": {},
   "source": [
    "**Pivot table com índice `year`, colunas `species`, valores `bill_length_mm`, aggfunc média.**"
   ]
  },
  {
   "cell_type": "code",
   "execution_count": null,
   "id": "63cc8c9d",
   "metadata": {},
   "outputs": [],
   "source": [
    "# Seu código aqui\n"
   ]
  },
  {
   "cell_type": "markdown",
   "id": "b6db1493",
   "metadata": {},
   "source": [
    "**Ordene agregação média de `bill_depth_mm` por `island` decrescente.**"
   ]
  },
  {
   "cell_type": "code",
   "execution_count": null,
   "id": "c9e2ace8",
   "metadata": {},
   "outputs": [],
   "source": [
    "# Seu código aqui\n"
   ]
  },
  {
   "cell_type": "markdown",
   "id": "f6c5f8c5",
   "metadata": {},
   "source": [
    "**Mostre a soma total de `body_mass_g` por `species`.**"
   ]
  },
  {
   "cell_type": "code",
   "execution_count": null,
   "id": "955d0406",
   "metadata": {},
   "outputs": [],
   "source": [
    "# Seu código aqui\n"
   ]
  },
  {
   "cell_type": "markdown",
   "id": "12038bb7",
   "metadata": {},
   "source": [
    "## Testes Estatísticos"
   ]
  },
  {
   "cell_type": "markdown",
   "id": "5c1f7927",
   "metadata": {},
   "source": [
    "**Execute ANOVA de `body_mass_g` entre diferentes espécies.**"
   ]
  },
  {
   "cell_type": "code",
   "execution_count": null,
   "id": "7c5f58c6",
   "metadata": {},
   "outputs": [],
   "source": [
    "# Seu código aqui\n"
   ]
  },
  {
   "cell_type": "markdown",
   "id": "02e0bbb5",
   "metadata": {},
   "source": [
    "**Realize teste t para `flipper_length_mm` entre duas ilhas (`island`).**"
   ]
  },
  {
   "cell_type": "code",
   "execution_count": null,
   "id": "1b94d875",
   "metadata": {},
   "outputs": [],
   "source": [
    "# Seu código aqui\n"
   ]
  },
  {
   "cell_type": "markdown",
   "id": "368c3e26",
   "metadata": {},
   "source": [
    "**Teste chi‑quadrado de independência entre `species` e `species`.**"
   ]
  },
  {
   "cell_type": "code",
   "execution_count": null,
   "id": "97d3bb61",
   "metadata": {},
   "outputs": [],
   "source": [
    "# Seu código aqui\n"
   ]
  },
  {
   "cell_type": "markdown",
   "id": "7a3297cd",
   "metadata": {},
   "source": [
    "**Construa intervalo de confiança 95% para média de `body_mass_g`.**"
   ]
  },
  {
   "cell_type": "code",
   "execution_count": null,
   "id": "0771702d",
   "metadata": {},
   "outputs": [],
   "source": [
    "# Seu código aqui\n"
   ]
  },
  {
   "cell_type": "markdown",
   "id": "ca2bd9ca",
   "metadata": {},
   "source": [
    "**Interprete p‑valor de um teste t executado sobre `bill_depth_mm`.**"
   ]
  },
  {
   "cell_type": "code",
   "execution_count": null,
   "id": "d7d61a4e",
   "metadata": {},
   "outputs": [],
   "source": [
    "# Seu código aqui\n"
   ]
  },
  {
   "cell_type": "markdown",
   "id": "b87bc4db",
   "metadata": {},
   "source": [
    "## Clustering K‑Means"
   ]
  },
  {
   "cell_type": "markdown",
   "id": "106a6d47",
   "metadata": {},
   "source": [
    "**Padronize `flipper_length_mm` e `body_mass_g`, aplique K‑Means (k=3) e plote clusters.**"
   ]
  },
  {
   "cell_type": "code",
   "execution_count": null,
   "id": "3e2196fa",
   "metadata": {},
   "outputs": [],
   "source": [
    "# Seu código aqui\n"
   ]
  },
  {
   "cell_type": "markdown",
   "id": "ea35cd6b",
   "metadata": {},
   "source": [
    "**Avalie inércia do modelo e discuta se k=3 faz sentido.**"
   ]
  },
  {
   "cell_type": "code",
   "execution_count": null,
   "id": "800b8943",
   "metadata": {},
   "outputs": [],
   "source": [
    "# Seu código aqui\n"
   ]
  },
  {
   "cell_type": "markdown",
   "id": "79d4091a",
   "metadata": {},
   "source": [
    "**Adicione rótulo de cluster ao DataFrame.**"
   ]
  },
  {
   "cell_type": "code",
   "execution_count": null,
   "id": "a799bfa1",
   "metadata": {},
   "outputs": [],
   "source": [
    "# Seu código aqui\n"
   ]
  },
  {
   "cell_type": "markdown",
   "id": "5d41069c",
   "metadata": {},
   "source": [
    "**Compare distribuição de `species` dentro de cada cluster.**"
   ]
  },
  {
   "cell_type": "code",
   "execution_count": null,
   "id": "25b08332",
   "metadata": {},
   "outputs": [],
   "source": [
    "# Seu código aqui\n"
   ]
  },
  {
   "cell_type": "markdown",
   "id": "0147f433",
   "metadata": {},
   "source": [
    "**Plot silhouette score para k=2 a 5 e escolha melhor k.**"
   ]
  },
  {
   "cell_type": "code",
   "execution_count": null,
   "id": "635954f0",
   "metadata": {},
   "outputs": [],
   "source": [
    "# Seu código aqui\n"
   ]
  },
  {
   "cell_type": "markdown",
   "id": "44d16d34",
   "metadata": {},
   "source": [
    "## Correlação & Covariância"
   ]
  },
  {
   "cell_type": "markdown",
   "id": "2f8bc9b7",
   "metadata": {},
   "source": [
    "**Calcule correlação Pearson entre `body_mass_g` e `flipper_length_mm`.**"
   ]
  },
  {
   "cell_type": "code",
   "execution_count": null,
   "id": "e0cb7ec5",
   "metadata": {},
   "outputs": [],
   "source": [
    "# Seu código aqui\n"
   ]
  },
  {
   "cell_type": "markdown",
   "id": "cf11ec1a",
   "metadata": {},
   "source": [
    "**Visualize matriz de correlação usando `sns.heatmap`.**"
   ]
  },
  {
   "cell_type": "code",
   "execution_count": null,
   "id": "f542ca30",
   "metadata": {},
   "outputs": [],
   "source": [
    "# Seu código aqui\n"
   ]
  },
  {
   "cell_type": "markdown",
   "id": "e95225cc",
   "metadata": {},
   "source": [
    "**Liste pares com correlação > 0.7.**"
   ]
  },
  {
   "cell_type": "code",
   "execution_count": null,
   "id": "88f0c213",
   "metadata": {},
   "outputs": [],
   "source": [
    "# Seu código aqui\n"
   ]
  },
  {
   "cell_type": "markdown",
   "id": "93544d78",
   "metadata": {},
   "source": [
    "**Calcule covariância entre `flipper_length_mm` e `body_mass_g`.**"
   ]
  },
  {
   "cell_type": "code",
   "execution_count": null,
   "id": "a397005d",
   "metadata": {},
   "outputs": [],
   "source": [
    "# Seu código aqui\n"
   ]
  },
  {
   "cell_type": "markdown",
   "id": "d34aa61b",
   "metadata": {},
   "source": [
    "**Explique correlação negativa, se existir, no dataset.**"
   ]
  },
  {
   "cell_type": "code",
   "execution_count": null,
   "id": "aa7ed8d0",
   "metadata": {},
   "outputs": [],
   "source": [
    "# Seu código aqui\n"
   ]
  },
  {
   "cell_type": "markdown",
   "id": "01fb06ae",
   "metadata": {},
   "source": [
    "## Feature Engineering"
   ]
  },
  {
   "cell_type": "markdown",
   "id": "b2b4932b",
   "metadata": {},
   "source": [
    "**Crie coluna `bill_ratio` = `bill_length_mm` / `bill_depth_mm`.**"
   ]
  },
  {
   "cell_type": "code",
   "execution_count": null,
   "id": "fa21e526",
   "metadata": {},
   "outputs": [],
   "source": [
    "# Seu código aqui\n"
   ]
  },
  {
   "cell_type": "markdown",
   "id": "ebd286fd",
   "metadata": {},
   "source": [
    "**Bin discretize `bill_depth_mm` em 4 faixas e conte elementos por faixa.**"
   ]
  },
  {
   "cell_type": "code",
   "execution_count": null,
   "id": "2d28f01d",
   "metadata": {},
   "outputs": [],
   "source": [
    "# Seu código aqui\n"
   ]
  },
  {
   "cell_type": "markdown",
   "id": "8b95187e",
   "metadata": {},
   "source": [
    "**Encode `species` usando one‑hot e mostre DataFrame resultante.**"
   ]
  },
  {
   "cell_type": "code",
   "execution_count": null,
   "id": "b54b1e6f",
   "metadata": {},
   "outputs": [],
   "source": [
    "# Seu código aqui\n"
   ]
  },
  {
   "cell_type": "markdown",
   "id": "d14fa4cf",
   "metadata": {},
   "source": [
    "**Escalone `bill_depth_mm` com StandardScaler e mostre estatísticas.**"
   ]
  },
  {
   "cell_type": "code",
   "execution_count": null,
   "id": "ce84fcb6",
   "metadata": {},
   "outputs": [],
   "source": [
    "# Seu código aqui\n"
   ]
  },
  {
   "cell_type": "markdown",
   "id": "0ab4a7f9",
   "metadata": {},
   "source": [
    "**Crie coluna lógica `is_heavy` se `body_mass_g` > 4500.**"
   ]
  },
  {
   "cell_type": "code",
   "execution_count": null,
   "id": "f4bd60b9",
   "metadata": {},
   "outputs": [],
   "source": [
    "# Seu código aqui\n"
   ]
  },
  {
   "cell_type": "markdown",
   "id": "6edc6f16",
   "metadata": {},
   "source": [
    "## Insights & Storytelling"
   ]
  },
  {
   "cell_type": "markdown",
   "id": "215851ce",
   "metadata": {},
   "source": [
    "**Escreva insight sobre diferença de `bill_depth_mm` entre espécies.**"
   ]
  },
  {
   "cell_type": "code",
   "execution_count": null,
   "id": "8a37d1a0",
   "metadata": {},
   "outputs": [],
   "source": [
    "# Seu código aqui\n"
   ]
  },
  {
   "cell_type": "markdown",
   "id": "61ae8687",
   "metadata": {},
   "source": [
    "**Qual ilha apresenta maior média de `bill_depth_mm`?**"
   ]
  },
  {
   "cell_type": "code",
   "execution_count": null,
   "id": "a9560bf6",
   "metadata": {},
   "outputs": [],
   "source": [
    "# Seu código aqui\n"
   ]
  },
  {
   "cell_type": "markdown",
   "id": "08fdd951",
   "metadata": {},
   "source": [
    "**Resuma distribuição de `bill_depth_mm` em 3 frases.**"
   ]
  },
  {
   "cell_type": "code",
   "execution_count": null,
   "id": "ea53890b",
   "metadata": {},
   "outputs": [],
   "source": [
    "# Seu código aqui\n"
   ]
  },
  {
   "cell_type": "markdown",
   "id": "467fd82c",
   "metadata": {},
   "source": [
    "**Crie gráfico combinado (box + strip) para `flipper_length_mm` por `species`.**"
   ]
  },
  {
   "cell_type": "code",
   "execution_count": null,
   "id": "5630a342",
   "metadata": {},
   "outputs": [],
   "source": [
    "# Seu código aqui\n"
   ]
  },
  {
   "cell_type": "markdown",
   "id": "c7f558a7",
   "metadata": {},
   "source": [
    "**Explique relação entre `flipper_length_mm` e `body_mass_g` baseada no scatterplot.**"
   ]
  },
  {
   "cell_type": "code",
   "execution_count": null,
   "id": "02b1b636",
   "metadata": {},
   "outputs": [],
   "source": [
    "# Seu código aqui\n"
   ]
  },
  {
   "cell_type": "markdown",
   "id": "89280930",
   "metadata": {},
   "source": [
    "## Carregamento & Visão Geral"
   ]
  },
  {
   "cell_type": "markdown",
   "id": "0404a717",
   "metadata": {},
   "source": [
    "**Carregue o dataset Penguins em um DataFrame `df` via `seaborn.load_dataset('penguins')`.**"
   ]
  },
  {
   "cell_type": "code",
   "execution_count": null,
   "id": "9ff142b5",
   "metadata": {},
   "outputs": [],
   "source": [
    "# Seu código aqui\n"
   ]
  },
  {
   "cell_type": "markdown",
   "id": "b9bfaee5",
   "metadata": {},
   "source": [
    "**Exiba as 5 primeiras linhas de `df`.**"
   ]
  },
  {
   "cell_type": "code",
   "execution_count": null,
   "id": "4c7269a6",
   "metadata": {},
   "outputs": [],
   "source": [
    "# Seu código aqui\n"
   ]
  },
  {
   "cell_type": "markdown",
   "id": "e44d87cd",
   "metadata": {},
   "source": [
    "**Mostre `df.info()` para inspeção de tipos.**"
   ]
  },
  {
   "cell_type": "code",
   "execution_count": null,
   "id": "8916c5c9",
   "metadata": {},
   "outputs": [],
   "source": [
    "# Seu código aqui\n"
   ]
  },
  {
   "cell_type": "markdown",
   "id": "1a01ad36",
   "metadata": {},
   "source": [
    "**Quantos valores ausentes existem em cada coluna?**"
   ]
  },
  {
   "cell_type": "code",
   "execution_count": null,
   "id": "54933ca0",
   "metadata": {},
   "outputs": [],
   "source": [
    "# Seu código aqui\n"
   ]
  },
  {
   "cell_type": "markdown",
   "id": "14d16df4",
   "metadata": {},
   "source": [
    "**Liste todas as colunas presentes e seus tipos.**"
   ]
  },
  {
   "cell_type": "code",
   "execution_count": null,
   "id": "93c9ead4",
   "metadata": {},
   "outputs": [],
   "source": [
    "# Seu código aqui\n"
   ]
  },
  {
   "cell_type": "markdown",
   "id": "8fa00912",
   "metadata": {},
   "source": [
    "## Estatística Descritiva"
   ]
  },
  {
   "cell_type": "markdown",
   "id": "858b89b3",
   "metadata": {},
   "source": [
    "**Calcule a média de `body_mass_g`.**"
   ]
  },
  {
   "cell_type": "code",
   "execution_count": null,
   "id": "ec54de8e",
   "metadata": {},
   "outputs": [],
   "source": [
    "# Seu código aqui\n"
   ]
  },
  {
   "cell_type": "markdown",
   "id": "4dce786c",
   "metadata": {},
   "source": [
    "**Encontre a mediana de `body_mass_g`.**"
   ]
  },
  {
   "cell_type": "code",
   "execution_count": null,
   "id": "ce5b63af",
   "metadata": {},
   "outputs": [],
   "source": [
    "# Seu código aqui\n"
   ]
  },
  {
   "cell_type": "markdown",
   "id": "4ea5261b",
   "metadata": {},
   "source": [
    "**Qual é o desvio‑padrão de `bill_length_mm`?**"
   ]
  },
  {
   "cell_type": "code",
   "execution_count": null,
   "id": "8e99baed",
   "metadata": {},
   "outputs": [],
   "source": [
    "# Seu código aqui\n"
   ]
  },
  {
   "cell_type": "markdown",
   "id": "535da0ca",
   "metadata": {},
   "source": [
    "**Exiba o resumo estatístico (`describe`) para `bill_depth_mm`.**"
   ]
  },
  {
   "cell_type": "code",
   "execution_count": null,
   "id": "245489ba",
   "metadata": {},
   "outputs": [],
   "source": [
    "# Seu código aqui\n"
   ]
  },
  {
   "cell_type": "markdown",
   "id": "3e1b0364",
   "metadata": {},
   "source": [
    "**Conte valores nulos em `body_mass_g`.**"
   ]
  },
  {
   "cell_type": "code",
   "execution_count": null,
   "id": "4966a0d8",
   "metadata": {},
   "outputs": [],
   "source": [
    "# Seu código aqui\n"
   ]
  },
  {
   "cell_type": "markdown",
   "id": "3d2de5c7",
   "metadata": {},
   "source": [
    "## Visualização Univariada"
   ]
  },
  {
   "cell_type": "markdown",
   "id": "699dc452",
   "metadata": {},
   "source": [
    "**Plote histograma para `bill_depth_mm`.**"
   ]
  },
  {
   "cell_type": "code",
   "execution_count": null,
   "id": "1d576e47",
   "metadata": {},
   "outputs": [],
   "source": [
    "# Seu código aqui\n"
   ]
  },
  {
   "cell_type": "markdown",
   "id": "c29488d8",
   "metadata": {},
   "source": [
    "**Crie boxplot de `bill_depth_mm` dividido por `sex`.**"
   ]
  },
  {
   "cell_type": "code",
   "execution_count": null,
   "id": "f4c7dbcd",
   "metadata": {},
   "outputs": [],
   "source": [
    "# Seu código aqui\n"
   ]
  },
  {
   "cell_type": "markdown",
   "id": "51828894",
   "metadata": {},
   "source": [
    "**Gere countplot para `island`.**"
   ]
  },
  {
   "cell_type": "code",
   "execution_count": null,
   "id": "bd720d39",
   "metadata": {},
   "outputs": [],
   "source": [
    "# Seu código aqui\n"
   ]
  },
  {
   "cell_type": "markdown",
   "id": "1e36cdc6",
   "metadata": {},
   "source": [
    "**Desenhe violin plot de `body_mass_g` por `species`.**"
   ]
  },
  {
   "cell_type": "code",
   "execution_count": null,
   "id": "4ec8ce6a",
   "metadata": {},
   "outputs": [],
   "source": [
    "# Seu código aqui\n"
   ]
  },
  {
   "cell_type": "markdown",
   "id": "6894e973",
   "metadata": {},
   "source": [
    "**Faça KDE plot de `body_mass_g`.**"
   ]
  },
  {
   "cell_type": "code",
   "execution_count": null,
   "id": "b11ae5cb",
   "metadata": {},
   "outputs": [],
   "source": [
    "# Seu código aqui\n"
   ]
  },
  {
   "cell_type": "markdown",
   "id": "9a4f3eb4",
   "metadata": {},
   "source": [
    "## Visualização Bivariada"
   ]
  },
  {
   "cell_type": "markdown",
   "id": "9a625e0a",
   "metadata": {},
   "source": [
    "**Scatterplot `bill_length_mm` vs `flipper_length_mm` colorido por `species`.**"
   ]
  },
  {
   "cell_type": "code",
   "execution_count": null,
   "id": "e037009d",
   "metadata": {},
   "outputs": [],
   "source": [
    "# Seu código aqui\n"
   ]
  },
  {
   "cell_type": "markdown",
   "id": "0b4250aa",
   "metadata": {},
   "source": [
    "**Boxplot de `bill_length_mm` por `sex`.**"
   ]
  },
  {
   "cell_type": "code",
   "execution_count": null,
   "id": "ed83f235",
   "metadata": {},
   "outputs": [],
   "source": [
    "# Seu código aqui\n"
   ]
  },
  {
   "cell_type": "markdown",
   "id": "c77b0568",
   "metadata": {},
   "source": [
    "**Barplot de média de `bill_depth_mm` por `year`.**"
   ]
  },
  {
   "cell_type": "code",
   "execution_count": null,
   "id": "ffa017e3",
   "metadata": {},
   "outputs": [],
   "source": [
    "# Seu código aqui\n"
   ]
  },
  {
   "cell_type": "markdown",
   "id": "84bb3974",
   "metadata": {},
   "source": [
    "**Heatmap de correlação entre variáveis numéricas.**"
   ]
  },
  {
   "cell_type": "code",
   "execution_count": null,
   "id": "6780d954",
   "metadata": {},
   "outputs": [],
   "source": [
    "# Seu código aqui\n"
   ]
  },
  {
   "cell_type": "markdown",
   "id": "d10eb2bb",
   "metadata": {},
   "source": [
    "**Pairplot para duas colunas numéricas escolhidas.**"
   ]
  },
  {
   "cell_type": "code",
   "execution_count": null,
   "id": "7a436fa0",
   "metadata": {},
   "outputs": [],
   "source": [
    "# Seu código aqui\n"
   ]
  },
  {
   "cell_type": "markdown",
   "id": "5094432d",
   "metadata": {},
   "source": [
    "## GroupBy & Aggregations"
   ]
  },
  {
   "cell_type": "markdown",
   "id": "092a8e43",
   "metadata": {},
   "source": [
    "**Calcule média de `bill_length_mm` por `sex`.**"
   ]
  },
  {
   "cell_type": "code",
   "execution_count": null,
   "id": "7fcb00b1",
   "metadata": {},
   "outputs": [],
   "source": [
    "# Seu código aqui\n"
   ]
  },
  {
   "cell_type": "markdown",
   "id": "0e1e4c7a",
   "metadata": {},
   "source": [
    "**Use `groupby(['species','sex']).size()` e exiba as 5 primeiras linhas.**"
   ]
  },
  {
   "cell_type": "code",
   "execution_count": null,
   "id": "481def20",
   "metadata": {},
   "outputs": [],
   "source": [
    "# Seu código aqui\n"
   ]
  },
  {
   "cell_type": "markdown",
   "id": "54da6a0d",
   "metadata": {},
   "source": [
    "**Pivot table com índice `species`, colunas `species`, valores `bill_depth_mm`, aggfunc média.**"
   ]
  },
  {
   "cell_type": "code",
   "execution_count": null,
   "id": "7bcec9a9",
   "metadata": {},
   "outputs": [],
   "source": [
    "# Seu código aqui\n"
   ]
  },
  {
   "cell_type": "markdown",
   "id": "2019d9fb",
   "metadata": {},
   "source": [
    "**Ordene agregação média de `bill_depth_mm` por `species` decrescente.**"
   ]
  },
  {
   "cell_type": "code",
   "execution_count": null,
   "id": "83728af1",
   "metadata": {},
   "outputs": [],
   "source": [
    "# Seu código aqui\n"
   ]
  },
  {
   "cell_type": "markdown",
   "id": "0b5e80aa",
   "metadata": {},
   "source": [
    "**Mostre a soma total de `body_mass_g` por `species`.**"
   ]
  },
  {
   "cell_type": "code",
   "execution_count": null,
   "id": "45891675",
   "metadata": {},
   "outputs": [],
   "source": [
    "# Seu código aqui\n"
   ]
  },
  {
   "cell_type": "markdown",
   "id": "b08e6540",
   "metadata": {},
   "source": [
    "## Testes Estatísticos"
   ]
  },
  {
   "cell_type": "markdown",
   "id": "682e960c",
   "metadata": {},
   "source": [
    "**Execute ANOVA de `bill_depth_mm` entre diferentes espécies.**"
   ]
  },
  {
   "cell_type": "code",
   "execution_count": null,
   "id": "c0b0693b",
   "metadata": {},
   "outputs": [],
   "source": [
    "# Seu código aqui\n"
   ]
  },
  {
   "cell_type": "markdown",
   "id": "ab367499",
   "metadata": {},
   "source": [
    "**Realize teste t para `flipper_length_mm` entre duas ilhas (`island`).**"
   ]
  },
  {
   "cell_type": "code",
   "execution_count": null,
   "id": "24e1ee25",
   "metadata": {},
   "outputs": [],
   "source": [
    "# Seu código aqui\n"
   ]
  },
  {
   "cell_type": "markdown",
   "id": "f51a4f6e",
   "metadata": {},
   "source": [
    "**Teste chi‑quadrado de independência entre `species` e `species`.**"
   ]
  },
  {
   "cell_type": "code",
   "execution_count": null,
   "id": "d1c3df71",
   "metadata": {},
   "outputs": [],
   "source": [
    "# Seu código aqui\n"
   ]
  },
  {
   "cell_type": "markdown",
   "id": "3b996951",
   "metadata": {},
   "source": [
    "**Construa intervalo de confiança 95% para média de `body_mass_g`.**"
   ]
  },
  {
   "cell_type": "code",
   "execution_count": null,
   "id": "0bf7c742",
   "metadata": {},
   "outputs": [],
   "source": [
    "# Seu código aqui\n"
   ]
  },
  {
   "cell_type": "markdown",
   "id": "c601c9fc",
   "metadata": {},
   "source": [
    "**Interprete p‑valor de um teste t executado sobre `bill_length_mm`.**"
   ]
  },
  {
   "cell_type": "code",
   "execution_count": null,
   "id": "ad04247d",
   "metadata": {},
   "outputs": [],
   "source": [
    "# Seu código aqui\n"
   ]
  },
  {
   "cell_type": "markdown",
   "id": "58d3521f",
   "metadata": {},
   "source": [
    "## Clustering K‑Means"
   ]
  },
  {
   "cell_type": "markdown",
   "id": "2d8d103f",
   "metadata": {},
   "source": [
    "**Padronize `flipper_length_mm` e `bill_length_mm`, aplique K‑Means (k=3) e plote clusters.**"
   ]
  },
  {
   "cell_type": "code",
   "execution_count": null,
   "id": "0a280f54",
   "metadata": {},
   "outputs": [],
   "source": [
    "# Seu código aqui\n"
   ]
  },
  {
   "cell_type": "markdown",
   "id": "5809ac4e",
   "metadata": {},
   "source": [
    "**Avalie inércia do modelo e discuta se k=3 faz sentido.**"
   ]
  },
  {
   "cell_type": "code",
   "execution_count": null,
   "id": "199da37a",
   "metadata": {},
   "outputs": [],
   "source": [
    "# Seu código aqui\n"
   ]
  },
  {
   "cell_type": "markdown",
   "id": "81c25b27",
   "metadata": {},
   "source": [
    "**Adicione rótulo de cluster ao DataFrame.**"
   ]
  },
  {
   "cell_type": "code",
   "execution_count": null,
   "id": "381316f7",
   "metadata": {},
   "outputs": [],
   "source": [
    "# Seu código aqui\n"
   ]
  },
  {
   "cell_type": "markdown",
   "id": "0ee59b98",
   "metadata": {},
   "source": [
    "**Compare distribuição de `species` dentro de cada cluster.**"
   ]
  },
  {
   "cell_type": "code",
   "execution_count": null,
   "id": "f866432f",
   "metadata": {},
   "outputs": [],
   "source": [
    "# Seu código aqui\n"
   ]
  },
  {
   "cell_type": "markdown",
   "id": "66504ea0",
   "metadata": {},
   "source": [
    "**Plot silhouette score para k=2 a 5 e escolha melhor k.**"
   ]
  },
  {
   "cell_type": "code",
   "execution_count": null,
   "id": "3cbdc9cc",
   "metadata": {},
   "outputs": [],
   "source": [
    "# Seu código aqui\n"
   ]
  },
  {
   "cell_type": "markdown",
   "id": "02998cd5",
   "metadata": {},
   "source": [
    "## Correlação & Covariância"
   ]
  },
  {
   "cell_type": "markdown",
   "id": "61997ff3",
   "metadata": {},
   "source": [
    "**Calcule correlação Pearson entre `flipper_length_mm` e `bill_length_mm`.**"
   ]
  },
  {
   "cell_type": "code",
   "execution_count": null,
   "id": "13f71181",
   "metadata": {},
   "outputs": [],
   "source": [
    "# Seu código aqui\n"
   ]
  },
  {
   "cell_type": "markdown",
   "id": "0e44cea5",
   "metadata": {},
   "source": [
    "**Visualize matriz de correlação usando `sns.heatmap`.**"
   ]
  },
  {
   "cell_type": "code",
   "execution_count": null,
   "id": "455ab8a5",
   "metadata": {},
   "outputs": [],
   "source": [
    "# Seu código aqui\n"
   ]
  },
  {
   "cell_type": "markdown",
   "id": "6b466919",
   "metadata": {},
   "source": [
    "**Liste pares com correlação > 0.7.**"
   ]
  },
  {
   "cell_type": "code",
   "execution_count": null,
   "id": "2ddc2e68",
   "metadata": {},
   "outputs": [],
   "source": [
    "# Seu código aqui\n"
   ]
  },
  {
   "cell_type": "markdown",
   "id": "ee7a150f",
   "metadata": {},
   "source": [
    "**Calcule covariância entre `flipper_length_mm` e `body_mass_g`.**"
   ]
  },
  {
   "cell_type": "code",
   "execution_count": null,
   "id": "71f80e63",
   "metadata": {},
   "outputs": [],
   "source": [
    "# Seu código aqui\n"
   ]
  },
  {
   "cell_type": "markdown",
   "id": "da97dad1",
   "metadata": {},
   "source": [
    "**Explique correlação negativa, se existir, no dataset.**"
   ]
  },
  {
   "cell_type": "code",
   "execution_count": null,
   "id": "782deb2b",
   "metadata": {},
   "outputs": [],
   "source": [
    "# Seu código aqui\n"
   ]
  },
  {
   "cell_type": "markdown",
   "id": "b1c3ca4e",
   "metadata": {},
   "source": [
    "## Feature Engineering"
   ]
  },
  {
   "cell_type": "markdown",
   "id": "6016cb7f",
   "metadata": {},
   "source": [
    "**Crie coluna `bill_ratio` = `bill_length_mm` / `bill_depth_mm`.**"
   ]
  },
  {
   "cell_type": "code",
   "execution_count": null,
   "id": "9f7ebffb",
   "metadata": {},
   "outputs": [],
   "source": [
    "# Seu código aqui\n"
   ]
  },
  {
   "cell_type": "markdown",
   "id": "e0c03345",
   "metadata": {},
   "source": [
    "**Bin discretize `flipper_length_mm` em 4 faixas e conte elementos por faixa.**"
   ]
  },
  {
   "cell_type": "code",
   "execution_count": null,
   "id": "65366cae",
   "metadata": {},
   "outputs": [],
   "source": [
    "# Seu código aqui\n"
   ]
  },
  {
   "cell_type": "markdown",
   "id": "c3b31867",
   "metadata": {},
   "source": [
    "**Encode `sex` usando one‑hot e mostre DataFrame resultante.**"
   ]
  },
  {
   "cell_type": "code",
   "execution_count": null,
   "id": "b7c9c82e",
   "metadata": {},
   "outputs": [],
   "source": [
    "# Seu código aqui\n"
   ]
  },
  {
   "cell_type": "markdown",
   "id": "2b5951fd",
   "metadata": {},
   "source": [
    "**Escalone `body_mass_g` com StandardScaler e mostre estatísticas.**"
   ]
  },
  {
   "cell_type": "code",
   "execution_count": null,
   "id": "65bfe294",
   "metadata": {},
   "outputs": [],
   "source": [
    "# Seu código aqui\n"
   ]
  },
  {
   "cell_type": "markdown",
   "id": "1bdb0406",
   "metadata": {},
   "source": [
    "**Crie coluna lógica `is_heavy` se `body_mass_g` > 4500.**"
   ]
  },
  {
   "cell_type": "code",
   "execution_count": null,
   "id": "a2f36cc3",
   "metadata": {},
   "outputs": [],
   "source": [
    "# Seu código aqui\n"
   ]
  },
  {
   "cell_type": "markdown",
   "id": "874ab07e",
   "metadata": {},
   "source": [
    "## Insights & Storytelling"
   ]
  },
  {
   "cell_type": "markdown",
   "id": "b926693c",
   "metadata": {},
   "source": [
    "**Escreva insight sobre diferença de `flipper_length_mm` entre espécies.**"
   ]
  },
  {
   "cell_type": "code",
   "execution_count": null,
   "id": "437ae38d",
   "metadata": {},
   "outputs": [],
   "source": [
    "# Seu código aqui\n"
   ]
  },
  {
   "cell_type": "markdown",
   "id": "acadd32b",
   "metadata": {},
   "source": [
    "**Qual ilha apresenta maior média de `bill_length_mm`?**"
   ]
  },
  {
   "cell_type": "code",
   "execution_count": null,
   "id": "cefd9593",
   "metadata": {},
   "outputs": [],
   "source": [
    "# Seu código aqui\n"
   ]
  },
  {
   "cell_type": "markdown",
   "id": "6259057c",
   "metadata": {},
   "source": [
    "**Resuma distribuição de `bill_depth_mm` em 3 frases.**"
   ]
  },
  {
   "cell_type": "code",
   "execution_count": null,
   "id": "55ee1c73",
   "metadata": {},
   "outputs": [],
   "source": [
    "# Seu código aqui\n"
   ]
  },
  {
   "cell_type": "markdown",
   "id": "96bc366c",
   "metadata": {},
   "source": [
    "**Crie gráfico combinado (box + strip) para `body_mass_g` por `species`.**"
   ]
  },
  {
   "cell_type": "code",
   "execution_count": null,
   "id": "b370df49",
   "metadata": {},
   "outputs": [],
   "source": [
    "# Seu código aqui\n"
   ]
  },
  {
   "cell_type": "markdown",
   "id": "0283a0a3",
   "metadata": {},
   "source": [
    "**Explique relação entre `flipper_length_mm` e `body_mass_g` baseada no scatterplot.**"
   ]
  },
  {
   "cell_type": "code",
   "execution_count": null,
   "id": "721bf392",
   "metadata": {},
   "outputs": [],
   "source": [
    "# Seu código aqui\n"
   ]
  },
  {
   "cell_type": "markdown",
   "id": "ed11c0e3",
   "metadata": {},
   "source": [
    "## Carregamento & Visão Geral"
   ]
  },
  {
   "cell_type": "markdown",
   "id": "69087631",
   "metadata": {},
   "source": [
    "**Carregue o dataset Penguins em um DataFrame `df` via `seaborn.load_dataset('penguins')`.**"
   ]
  },
  {
   "cell_type": "code",
   "execution_count": null,
   "id": "f5318de2",
   "metadata": {},
   "outputs": [],
   "source": [
    "# Seu código aqui\n"
   ]
  },
  {
   "cell_type": "markdown",
   "id": "4293c65e",
   "metadata": {},
   "source": [
    "**Exiba as 5 primeiras linhas de `df`.**"
   ]
  },
  {
   "cell_type": "code",
   "execution_count": null,
   "id": "7a7d4a7d",
   "metadata": {},
   "outputs": [],
   "source": [
    "# Seu código aqui\n"
   ]
  },
  {
   "cell_type": "markdown",
   "id": "48397228",
   "metadata": {},
   "source": [
    "**Mostre `df.info()` para inspeção de tipos.**"
   ]
  },
  {
   "cell_type": "code",
   "execution_count": null,
   "id": "c59d713a",
   "metadata": {},
   "outputs": [],
   "source": [
    "# Seu código aqui\n"
   ]
  },
  {
   "cell_type": "markdown",
   "id": "5b80e8dc",
   "metadata": {},
   "source": [
    "**Quantos valores ausentes existem em cada coluna?**"
   ]
  },
  {
   "cell_type": "code",
   "execution_count": null,
   "id": "882ce8e6",
   "metadata": {},
   "outputs": [],
   "source": [
    "# Seu código aqui\n"
   ]
  },
  {
   "cell_type": "markdown",
   "id": "c01c6f23",
   "metadata": {},
   "source": [
    "**Liste todas as colunas presentes e seus tipos.**"
   ]
  },
  {
   "cell_type": "code",
   "execution_count": null,
   "id": "d31c40ae",
   "metadata": {},
   "outputs": [],
   "source": [
    "# Seu código aqui\n"
   ]
  },
  {
   "cell_type": "markdown",
   "id": "8ae8caa8",
   "metadata": {},
   "source": [
    "## Estatística Descritiva"
   ]
  },
  {
   "cell_type": "markdown",
   "id": "24f5f023",
   "metadata": {},
   "source": [
    "**Calcule a média de `bill_depth_mm`.**"
   ]
  },
  {
   "cell_type": "code",
   "execution_count": null,
   "id": "98a8d2e1",
   "metadata": {},
   "outputs": [],
   "source": [
    "# Seu código aqui\n"
   ]
  },
  {
   "cell_type": "markdown",
   "id": "ce6516cf",
   "metadata": {},
   "source": [
    "**Encontre a mediana de `bill_length_mm`.**"
   ]
  },
  {
   "cell_type": "code",
   "execution_count": null,
   "id": "818fc0bb",
   "metadata": {},
   "outputs": [],
   "source": [
    "# Seu código aqui\n"
   ]
  },
  {
   "cell_type": "markdown",
   "id": "3d915005",
   "metadata": {},
   "source": [
    "**Qual é o desvio‑padrão de `body_mass_g`?**"
   ]
  },
  {
   "cell_type": "code",
   "execution_count": null,
   "id": "8c0d7701",
   "metadata": {},
   "outputs": [],
   "source": [
    "# Seu código aqui\n"
   ]
  },
  {
   "cell_type": "markdown",
   "id": "394062d1",
   "metadata": {},
   "source": [
    "**Exiba o resumo estatístico (`describe`) para `flipper_length_mm`.**"
   ]
  },
  {
   "cell_type": "code",
   "execution_count": null,
   "id": "e544f67c",
   "metadata": {},
   "outputs": [],
   "source": [
    "# Seu código aqui\n"
   ]
  },
  {
   "cell_type": "markdown",
   "id": "e80e9755",
   "metadata": {},
   "source": [
    "**Conte valores nulos em `bill_length_mm`.**"
   ]
  },
  {
   "cell_type": "code",
   "execution_count": null,
   "id": "e9029909",
   "metadata": {},
   "outputs": [],
   "source": [
    "# Seu código aqui\n"
   ]
  },
  {
   "cell_type": "markdown",
   "id": "f50f311c",
   "metadata": {},
   "source": [
    "## Visualização Univariada"
   ]
  },
  {
   "cell_type": "markdown",
   "id": "22b25925",
   "metadata": {},
   "source": [
    "**Plote histograma para `bill_depth_mm`.**"
   ]
  },
  {
   "cell_type": "code",
   "execution_count": null,
   "id": "1c81abcc",
   "metadata": {},
   "outputs": [],
   "source": [
    "# Seu código aqui\n"
   ]
  },
  {
   "cell_type": "markdown",
   "id": "710a6c2c",
   "metadata": {},
   "source": [
    "**Crie boxplot de `body_mass_g` dividido por `island`.**"
   ]
  },
  {
   "cell_type": "code",
   "execution_count": null,
   "id": "1681cbd2",
   "metadata": {},
   "outputs": [],
   "source": [
    "# Seu código aqui\n"
   ]
  },
  {
   "cell_type": "markdown",
   "id": "d2731f48",
   "metadata": {},
   "source": [
    "**Gere countplot para `island`.**"
   ]
  },
  {
   "cell_type": "code",
   "execution_count": null,
   "id": "1f193aea",
   "metadata": {},
   "outputs": [],
   "source": [
    "# Seu código aqui\n"
   ]
  },
  {
   "cell_type": "markdown",
   "id": "9cdc9170",
   "metadata": {},
   "source": [
    "**Desenhe violin plot de `bill_depth_mm` por `species`.**"
   ]
  },
  {
   "cell_type": "code",
   "execution_count": null,
   "id": "dd3c9ee4",
   "metadata": {},
   "outputs": [],
   "source": [
    "# Seu código aqui\n"
   ]
  },
  {
   "cell_type": "markdown",
   "id": "95a47f95",
   "metadata": {},
   "source": [
    "**Faça KDE plot de `body_mass_g`.**"
   ]
  },
  {
   "cell_type": "code",
   "execution_count": null,
   "id": "95c16035",
   "metadata": {},
   "outputs": [],
   "source": [
    "# Seu código aqui\n"
   ]
  },
  {
   "cell_type": "markdown",
   "id": "d34bfa2f",
   "metadata": {},
   "source": [
    "## Visualização Bivariada"
   ]
  },
  {
   "cell_type": "markdown",
   "id": "8082f6b5",
   "metadata": {},
   "source": [
    "**Scatterplot `flipper_length_mm` vs `body_mass_g` colorido por `species`.**"
   ]
  },
  {
   "cell_type": "code",
   "execution_count": null,
   "id": "6748b622",
   "metadata": {},
   "outputs": [],
   "source": [
    "# Seu código aqui\n"
   ]
  },
  {
   "cell_type": "markdown",
   "id": "74d2e912",
   "metadata": {},
   "source": [
    "**Boxplot de `body_mass_g` por `year`.**"
   ]
  },
  {
   "cell_type": "code",
   "execution_count": null,
   "id": "9cda3c54",
   "metadata": {},
   "outputs": [],
   "source": [
    "# Seu código aqui\n"
   ]
  },
  {
   "cell_type": "markdown",
   "id": "430b0b74",
   "metadata": {},
   "source": [
    "**Barplot de média de `bill_depth_mm` por `island`.**"
   ]
  },
  {
   "cell_type": "code",
   "execution_count": null,
   "id": "440eebcd",
   "metadata": {},
   "outputs": [],
   "source": [
    "# Seu código aqui\n"
   ]
  },
  {
   "cell_type": "markdown",
   "id": "7b0cd6fb",
   "metadata": {},
   "source": [
    "**Heatmap de correlação entre variáveis numéricas.**"
   ]
  },
  {
   "cell_type": "code",
   "execution_count": null,
   "id": "72700110",
   "metadata": {},
   "outputs": [],
   "source": [
    "# Seu código aqui\n"
   ]
  },
  {
   "cell_type": "markdown",
   "id": "4061e0f6",
   "metadata": {},
   "source": [
    "**Pairplot para duas colunas numéricas escolhidas.**"
   ]
  },
  {
   "cell_type": "code",
   "execution_count": null,
   "id": "05fd5f29",
   "metadata": {},
   "outputs": [],
   "source": [
    "# Seu código aqui\n"
   ]
  },
  {
   "cell_type": "markdown",
   "id": "80e26c87",
   "metadata": {},
   "source": [
    "## GroupBy & Aggregations"
   ]
  },
  {
   "cell_type": "markdown",
   "id": "9a114d59",
   "metadata": {},
   "source": [
    "**Calcule média de `bill_length_mm` por `species`.**"
   ]
  },
  {
   "cell_type": "code",
   "execution_count": null,
   "id": "452675ba",
   "metadata": {},
   "outputs": [],
   "source": [
    "# Seu código aqui\n"
   ]
  },
  {
   "cell_type": "markdown",
   "id": "ef466b0e",
   "metadata": {},
   "source": [
    "**Use `groupby(['species','species']).size()` e exiba as 5 primeiras linhas.**"
   ]
  },
  {
   "cell_type": "code",
   "execution_count": null,
   "id": "664c0500",
   "metadata": {},
   "outputs": [],
   "source": [
    "# Seu código aqui\n"
   ]
  },
  {
   "cell_type": "markdown",
   "id": "68dcd839",
   "metadata": {},
   "source": [
    "**Pivot table com índice `island`, colunas `species`, valores `body_mass_g`, aggfunc média.**"
   ]
  },
  {
   "cell_type": "code",
   "execution_count": null,
   "id": "7127f2b5",
   "metadata": {},
   "outputs": [],
   "source": [
    "# Seu código aqui\n"
   ]
  },
  {
   "cell_type": "markdown",
   "id": "f9541507",
   "metadata": {},
   "source": [
    "**Ordene agregação média de `body_mass_g` por `species` decrescente.**"
   ]
  },
  {
   "cell_type": "code",
   "execution_count": null,
   "id": "5cfe5e00",
   "metadata": {},
   "outputs": [],
   "source": [
    "# Seu código aqui\n"
   ]
  },
  {
   "cell_type": "markdown",
   "id": "0921ca64",
   "metadata": {},
   "source": [
    "**Mostre a soma total de `flipper_length_mm` por `species`.**"
   ]
  },
  {
   "cell_type": "code",
   "execution_count": null,
   "id": "2b763b19",
   "metadata": {},
   "outputs": [],
   "source": [
    "# Seu código aqui\n"
   ]
  },
  {
   "cell_type": "markdown",
   "id": "09bc9638",
   "metadata": {},
   "source": [
    "## Testes Estatísticos"
   ]
  },
  {
   "cell_type": "markdown",
   "id": "97ff5da8",
   "metadata": {},
   "source": [
    "**Execute ANOVA de `bill_depth_mm` entre diferentes espécies.**"
   ]
  },
  {
   "cell_type": "code",
   "execution_count": null,
   "id": "e3a2d482",
   "metadata": {},
   "outputs": [],
   "source": [
    "# Seu código aqui\n"
   ]
  },
  {
   "cell_type": "markdown",
   "id": "b7dad729",
   "metadata": {},
   "source": [
    "**Realize teste t para `bill_length_mm` entre duas ilhas (`island`).**"
   ]
  },
  {
   "cell_type": "code",
   "execution_count": null,
   "id": "3fbf1969",
   "metadata": {},
   "outputs": [],
   "source": [
    "# Seu código aqui\n"
   ]
  },
  {
   "cell_type": "markdown",
   "id": "842959f3",
   "metadata": {},
   "source": [
    "**Teste chi‑quadrado de independência entre `island` e `species`.**"
   ]
  },
  {
   "cell_type": "code",
   "execution_count": null,
   "id": "cb431220",
   "metadata": {},
   "outputs": [],
   "source": [
    "# Seu código aqui\n"
   ]
  },
  {
   "cell_type": "markdown",
   "id": "ad2e2cdc",
   "metadata": {},
   "source": [
    "**Construa intervalo de confiança 95% para média de `bill_length_mm`.**"
   ]
  },
  {
   "cell_type": "code",
   "execution_count": null,
   "id": "c31a190a",
   "metadata": {},
   "outputs": [],
   "source": [
    "# Seu código aqui\n"
   ]
  },
  {
   "cell_type": "markdown",
   "id": "d0835ef0",
   "metadata": {},
   "source": [
    "**Interprete p‑valor de um teste t executado sobre `body_mass_g`.**"
   ]
  },
  {
   "cell_type": "code",
   "execution_count": null,
   "id": "f189c9ef",
   "metadata": {},
   "outputs": [],
   "source": [
    "# Seu código aqui\n"
   ]
  },
  {
   "cell_type": "markdown",
   "id": "80909401",
   "metadata": {},
   "source": [
    "## Clustering K‑Means"
   ]
  },
  {
   "cell_type": "markdown",
   "id": "ea004edc",
   "metadata": {},
   "source": [
    "**Padronize `bill_depth_mm` e `flipper_length_mm`, aplique K‑Means (k=3) e plote clusters.**"
   ]
  },
  {
   "cell_type": "code",
   "execution_count": null,
   "id": "24ffa58d",
   "metadata": {},
   "outputs": [],
   "source": [
    "# Seu código aqui\n"
   ]
  },
  {
   "cell_type": "markdown",
   "id": "93ffd105",
   "metadata": {},
   "source": [
    "**Avalie inércia do modelo e discuta se k=3 faz sentido.**"
   ]
  },
  {
   "cell_type": "code",
   "execution_count": null,
   "id": "0367723c",
   "metadata": {},
   "outputs": [],
   "source": [
    "# Seu código aqui\n"
   ]
  },
  {
   "cell_type": "markdown",
   "id": "c168bb51",
   "metadata": {},
   "source": [
    "**Adicione rótulo de cluster ao DataFrame.**"
   ]
  },
  {
   "cell_type": "code",
   "execution_count": null,
   "id": "712b8e5c",
   "metadata": {},
   "outputs": [],
   "source": [
    "# Seu código aqui\n"
   ]
  },
  {
   "cell_type": "markdown",
   "id": "675f5100",
   "metadata": {},
   "source": [
    "**Compare distribuição de `species` dentro de cada cluster.**"
   ]
  },
  {
   "cell_type": "code",
   "execution_count": null,
   "id": "e04eda7f",
   "metadata": {},
   "outputs": [],
   "source": [
    "# Seu código aqui\n"
   ]
  },
  {
   "cell_type": "markdown",
   "id": "86899f82",
   "metadata": {},
   "source": [
    "**Plot silhouette score para k=2 a 5 e escolha melhor k.**"
   ]
  },
  {
   "cell_type": "code",
   "execution_count": null,
   "id": "5bcb510c",
   "metadata": {},
   "outputs": [],
   "source": [
    "# Seu código aqui\n"
   ]
  },
  {
   "cell_type": "markdown",
   "id": "098a2f0a",
   "metadata": {},
   "source": [
    "## Correlação & Covariância"
   ]
  },
  {
   "cell_type": "markdown",
   "id": "ea726660",
   "metadata": {},
   "source": [
    "**Calcule correlação Pearson entre `bill_length_mm` e `bill_depth_mm`.**"
   ]
  },
  {
   "cell_type": "code",
   "execution_count": null,
   "id": "b796bae3",
   "metadata": {},
   "outputs": [],
   "source": [
    "# Seu código aqui\n"
   ]
  },
  {
   "cell_type": "markdown",
   "id": "ca234306",
   "metadata": {},
   "source": [
    "**Visualize matriz de correlação usando `sns.heatmap`.**"
   ]
  },
  {
   "cell_type": "code",
   "execution_count": null,
   "id": "8d17af7e",
   "metadata": {},
   "outputs": [],
   "source": [
    "# Seu código aqui\n"
   ]
  },
  {
   "cell_type": "markdown",
   "id": "494941de",
   "metadata": {},
   "source": [
    "**Liste pares com correlação > 0.7.**"
   ]
  },
  {
   "cell_type": "code",
   "execution_count": null,
   "id": "b2d2f358",
   "metadata": {},
   "outputs": [],
   "source": [
    "# Seu código aqui\n"
   ]
  },
  {
   "cell_type": "markdown",
   "id": "96fad592",
   "metadata": {},
   "source": [
    "**Calcule covariância entre `flipper_length_mm` e `bill_length_mm`.**"
   ]
  },
  {
   "cell_type": "code",
   "execution_count": null,
   "id": "0b72781a",
   "metadata": {},
   "outputs": [],
   "source": [
    "# Seu código aqui\n"
   ]
  },
  {
   "cell_type": "markdown",
   "id": "32414dfc",
   "metadata": {},
   "source": [
    "**Explique correlação negativa, se existir, no dataset.**"
   ]
  },
  {
   "cell_type": "code",
   "execution_count": null,
   "id": "11bfe69e",
   "metadata": {},
   "outputs": [],
   "source": [
    "# Seu código aqui\n"
   ]
  },
  {
   "cell_type": "markdown",
   "id": "89e04dd3",
   "metadata": {},
   "source": [
    "## Feature Engineering"
   ]
  },
  {
   "cell_type": "markdown",
   "id": "9198c14d",
   "metadata": {},
   "source": [
    "**Crie coluna `bill_ratio` = `bill_length_mm` / `bill_depth_mm`.**"
   ]
  },
  {
   "cell_type": "code",
   "execution_count": null,
   "id": "f4a31a9c",
   "metadata": {},
   "outputs": [],
   "source": [
    "# Seu código aqui\n"
   ]
  },
  {
   "cell_type": "markdown",
   "id": "efb420ed",
   "metadata": {},
   "source": [
    "**Bin discretize `body_mass_g` em 4 faixas e conte elementos por faixa.**"
   ]
  },
  {
   "cell_type": "code",
   "execution_count": null,
   "id": "5bd6d503",
   "metadata": {},
   "outputs": [],
   "source": [
    "# Seu código aqui\n"
   ]
  },
  {
   "cell_type": "markdown",
   "id": "35d2c46e",
   "metadata": {},
   "source": [
    "**Encode `island` usando one‑hot e mostre DataFrame resultante.**"
   ]
  },
  {
   "cell_type": "code",
   "execution_count": null,
   "id": "c6af3548",
   "metadata": {},
   "outputs": [],
   "source": [
    "# Seu código aqui\n"
   ]
  },
  {
   "cell_type": "markdown",
   "id": "08bb58be",
   "metadata": {},
   "source": [
    "**Escalone `flipper_length_mm` com StandardScaler e mostre estatísticas.**"
   ]
  },
  {
   "cell_type": "code",
   "execution_count": null,
   "id": "99346ebf",
   "metadata": {},
   "outputs": [],
   "source": [
    "# Seu código aqui\n"
   ]
  },
  {
   "cell_type": "markdown",
   "id": "1b95c29a",
   "metadata": {},
   "source": [
    "**Crie coluna lógica `is_heavy` se `body_mass_g` > 4500.**"
   ]
  },
  {
   "cell_type": "code",
   "execution_count": null,
   "id": "446eb39b",
   "metadata": {},
   "outputs": [],
   "source": [
    "# Seu código aqui\n"
   ]
  },
  {
   "cell_type": "markdown",
   "id": "12126bb5",
   "metadata": {},
   "source": [
    "## Insights & Storytelling"
   ]
  },
  {
   "cell_type": "markdown",
   "id": "a7ce3839",
   "metadata": {},
   "source": [
    "**Escreva insight sobre diferença de `bill_length_mm` entre espécies.**"
   ]
  },
  {
   "cell_type": "code",
   "execution_count": null,
   "id": "9e07eb73",
   "metadata": {},
   "outputs": [],
   "source": [
    "# Seu código aqui\n"
   ]
  },
  {
   "cell_type": "markdown",
   "id": "ab4f1bf4",
   "metadata": {},
   "source": [
    "**Qual ilha apresenta maior média de `bill_depth_mm`?**"
   ]
  },
  {
   "cell_type": "code",
   "execution_count": null,
   "id": "d4080d0a",
   "metadata": {},
   "outputs": [],
   "source": [
    "# Seu código aqui\n"
   ]
  },
  {
   "cell_type": "markdown",
   "id": "89eb2059",
   "metadata": {},
   "source": [
    "**Resuma distribuição de `bill_depth_mm` em 3 frases.**"
   ]
  },
  {
   "cell_type": "code",
   "execution_count": null,
   "id": "ae974f20",
   "metadata": {},
   "outputs": [],
   "source": [
    "# Seu código aqui\n"
   ]
  },
  {
   "cell_type": "markdown",
   "id": "27284b93",
   "metadata": {},
   "source": [
    "**Crie gráfico combinado (box + strip) para `bill_depth_mm` por `species`.**"
   ]
  },
  {
   "cell_type": "code",
   "execution_count": null,
   "id": "5b7cb502",
   "metadata": {},
   "outputs": [],
   "source": [
    "# Seu código aqui\n"
   ]
  },
  {
   "cell_type": "markdown",
   "id": "e7d8ee74",
   "metadata": {},
   "source": [
    "**Explique relação entre `flipper_length_mm` e `bill_depth_mm` baseada no scatterplot.**"
   ]
  },
  {
   "cell_type": "code",
   "execution_count": null,
   "id": "e0c70fb6",
   "metadata": {},
   "outputs": [],
   "source": [
    "# Seu código aqui\n"
   ]
  },
  {
   "cell_type": "markdown",
   "id": "a509c206",
   "metadata": {},
   "source": [
    "## Carregamento & Visão Geral"
   ]
  },
  {
   "cell_type": "markdown",
   "id": "cd111723",
   "metadata": {},
   "source": [
    "**Carregue o dataset Penguins em um DataFrame `df` via `seaborn.load_dataset('penguins')`.**"
   ]
  },
  {
   "cell_type": "code",
   "execution_count": null,
   "id": "cefa00c3",
   "metadata": {},
   "outputs": [],
   "source": [
    "# Seu código aqui\n"
   ]
  },
  {
   "cell_type": "markdown",
   "id": "4f00bf7a",
   "metadata": {},
   "source": [
    "**Exiba as 5 primeiras linhas de `df`.**"
   ]
  },
  {
   "cell_type": "code",
   "execution_count": null,
   "id": "5252e4c5",
   "metadata": {},
   "outputs": [],
   "source": [
    "# Seu código aqui\n"
   ]
  },
  {
   "cell_type": "markdown",
   "id": "cf55dba9",
   "metadata": {},
   "source": [
    "**Mostre `df.info()` para inspeção de tipos.**"
   ]
  },
  {
   "cell_type": "code",
   "execution_count": null,
   "id": "01f1cbe8",
   "metadata": {},
   "outputs": [],
   "source": [
    "# Seu código aqui\n"
   ]
  },
  {
   "cell_type": "markdown",
   "id": "43c65552",
   "metadata": {},
   "source": [
    "**Quantos valores ausentes existem em cada coluna?**"
   ]
  },
  {
   "cell_type": "code",
   "execution_count": null,
   "id": "79548df6",
   "metadata": {},
   "outputs": [],
   "source": [
    "# Seu código aqui\n"
   ]
  },
  {
   "cell_type": "markdown",
   "id": "6a30d921",
   "metadata": {},
   "source": [
    "**Liste todas as colunas presentes e seus tipos.**"
   ]
  },
  {
   "cell_type": "code",
   "execution_count": null,
   "id": "28c86e66",
   "metadata": {},
   "outputs": [],
   "source": [
    "# Seu código aqui\n"
   ]
  },
  {
   "cell_type": "markdown",
   "id": "d4ba6fec",
   "metadata": {},
   "source": [
    "## Estatística Descritiva"
   ]
  },
  {
   "cell_type": "markdown",
   "id": "4a3b01c0",
   "metadata": {},
   "source": [
    "**Calcule a média de `bill_depth_mm`.**"
   ]
  },
  {
   "cell_type": "code",
   "execution_count": null,
   "id": "cfadf3e4",
   "metadata": {},
   "outputs": [],
   "source": [
    "# Seu código aqui\n"
   ]
  },
  {
   "cell_type": "markdown",
   "id": "610a7ca7",
   "metadata": {},
   "source": [
    "**Encontre a mediana de `bill_length_mm`.**"
   ]
  },
  {
   "cell_type": "code",
   "execution_count": null,
   "id": "47e41e18",
   "metadata": {},
   "outputs": [],
   "source": [
    "# Seu código aqui\n"
   ]
  },
  {
   "cell_type": "markdown",
   "id": "10a3c2c1",
   "metadata": {},
   "source": [
    "**Qual é o desvio‑padrão de `flipper_length_mm`?**"
   ]
  },
  {
   "cell_type": "code",
   "execution_count": null,
   "id": "995fb705",
   "metadata": {},
   "outputs": [],
   "source": [
    "# Seu código aqui\n"
   ]
  },
  {
   "cell_type": "markdown",
   "id": "3a5bceb8",
   "metadata": {},
   "source": [
    "**Exiba o resumo estatístico (`describe`) para `bill_length_mm`.**"
   ]
  },
  {
   "cell_type": "code",
   "execution_count": null,
   "id": "5bcd78ca",
   "metadata": {},
   "outputs": [],
   "source": [
    "# Seu código aqui\n"
   ]
  },
  {
   "cell_type": "markdown",
   "id": "6f032a7a",
   "metadata": {},
   "source": [
    "**Conte valores nulos em `body_mass_g`.**"
   ]
  },
  {
   "cell_type": "code",
   "execution_count": null,
   "id": "ca0babbf",
   "metadata": {},
   "outputs": [],
   "source": [
    "# Seu código aqui\n"
   ]
  },
  {
   "cell_type": "markdown",
   "id": "ad550736",
   "metadata": {},
   "source": [
    "## Visualização Univariada"
   ]
  },
  {
   "cell_type": "markdown",
   "id": "9132c92b",
   "metadata": {},
   "source": [
    "**Plote histograma para `bill_depth_mm`.**"
   ]
  },
  {
   "cell_type": "code",
   "execution_count": null,
   "id": "cfab5467",
   "metadata": {},
   "outputs": [],
   "source": [
    "# Seu código aqui\n"
   ]
  },
  {
   "cell_type": "markdown",
   "id": "d70f6f36",
   "metadata": {},
   "source": [
    "**Crie boxplot de `bill_depth_mm` dividido por `island`.**"
   ]
  },
  {
   "cell_type": "code",
   "execution_count": null,
   "id": "ab1cc2c6",
   "metadata": {},
   "outputs": [],
   "source": [
    "# Seu código aqui\n"
   ]
  },
  {
   "cell_type": "markdown",
   "id": "06a5fb29",
   "metadata": {},
   "source": [
    "**Gere countplot para `sex`.**"
   ]
  },
  {
   "cell_type": "code",
   "execution_count": null,
   "id": "638fec00",
   "metadata": {},
   "outputs": [],
   "source": [
    "# Seu código aqui\n"
   ]
  },
  {
   "cell_type": "markdown",
   "id": "da887989",
   "metadata": {},
   "source": [
    "**Desenhe violin plot de `flipper_length_mm` por `species`.**"
   ]
  },
  {
   "cell_type": "code",
   "execution_count": null,
   "id": "1ce197a4",
   "metadata": {},
   "outputs": [],
   "source": [
    "# Seu código aqui\n"
   ]
  },
  {
   "cell_type": "markdown",
   "id": "03a43fb3",
   "metadata": {},
   "source": [
    "**Faça KDE plot de `bill_depth_mm`.**"
   ]
  },
  {
   "cell_type": "code",
   "execution_count": null,
   "id": "6979fa2d",
   "metadata": {},
   "outputs": [],
   "source": [
    "# Seu código aqui\n"
   ]
  },
  {
   "cell_type": "markdown",
   "id": "22afc0c3",
   "metadata": {},
   "source": [
    "## Visualização Bivariada"
   ]
  },
  {
   "cell_type": "markdown",
   "id": "24475b79",
   "metadata": {},
   "source": [
    "**Scatterplot `bill_depth_mm` vs `bill_length_mm` colorido por `species`.**"
   ]
  },
  {
   "cell_type": "code",
   "execution_count": null,
   "id": "c896ace7",
   "metadata": {},
   "outputs": [],
   "source": [
    "# Seu código aqui\n"
   ]
  },
  {
   "cell_type": "markdown",
   "id": "a16cd67f",
   "metadata": {},
   "source": [
    "**Boxplot de `body_mass_g` por `species`.**"
   ]
  },
  {
   "cell_type": "code",
   "execution_count": null,
   "id": "a55a40ed",
   "metadata": {},
   "outputs": [],
   "source": [
    "# Seu código aqui\n"
   ]
  },
  {
   "cell_type": "markdown",
   "id": "05b9110d",
   "metadata": {},
   "source": [
    "**Barplot de média de `bill_length_mm` por `year`.**"
   ]
  },
  {
   "cell_type": "code",
   "execution_count": null,
   "id": "4e274fee",
   "metadata": {},
   "outputs": [],
   "source": [
    "# Seu código aqui\n"
   ]
  },
  {
   "cell_type": "markdown",
   "id": "95a39162",
   "metadata": {},
   "source": [
    "**Heatmap de correlação entre variáveis numéricas.**"
   ]
  },
  {
   "cell_type": "code",
   "execution_count": null,
   "id": "d5aa4938",
   "metadata": {},
   "outputs": [],
   "source": [
    "# Seu código aqui\n"
   ]
  },
  {
   "cell_type": "markdown",
   "id": "99268a2b",
   "metadata": {},
   "source": [
    "**Pairplot para duas colunas numéricas escolhidas.**"
   ]
  },
  {
   "cell_type": "code",
   "execution_count": null,
   "id": "16936b1a",
   "metadata": {},
   "outputs": [],
   "source": [
    "# Seu código aqui\n"
   ]
  },
  {
   "cell_type": "markdown",
   "id": "7b51865d",
   "metadata": {},
   "source": [
    "## GroupBy & Aggregations"
   ]
  },
  {
   "cell_type": "markdown",
   "id": "ff287a68",
   "metadata": {},
   "source": [
    "**Calcule média de `flipper_length_mm` por `island`.**"
   ]
  },
  {
   "cell_type": "code",
   "execution_count": null,
   "id": "8f13efe4",
   "metadata": {},
   "outputs": [],
   "source": [
    "# Seu código aqui\n"
   ]
  },
  {
   "cell_type": "markdown",
   "id": "d2087ca6",
   "metadata": {},
   "source": [
    "**Use `groupby(['species','sex']).size()` e exiba as 5 primeiras linhas.**"
   ]
  },
  {
   "cell_type": "code",
   "execution_count": null,
   "id": "74774dbe",
   "metadata": {},
   "outputs": [],
   "source": [
    "# Seu código aqui\n"
   ]
  },
  {
   "cell_type": "markdown",
   "id": "6c6e9630",
   "metadata": {},
   "source": [
    "**Pivot table com índice `island`, colunas `species`, valores `flipper_length_mm`, aggfunc média.**"
   ]
  },
  {
   "cell_type": "code",
   "execution_count": null,
   "id": "be7efd28",
   "metadata": {},
   "outputs": [],
   "source": [
    "# Seu código aqui\n"
   ]
  },
  {
   "cell_type": "markdown",
   "id": "c345c070",
   "metadata": {},
   "source": [
    "**Ordene agregação média de `bill_length_mm` por `island` decrescente.**"
   ]
  },
  {
   "cell_type": "code",
   "execution_count": null,
   "id": "01cee894",
   "metadata": {},
   "outputs": [],
   "source": [
    "# Seu código aqui\n"
   ]
  },
  {
   "cell_type": "markdown",
   "id": "7423f120",
   "metadata": {},
   "source": [
    "**Mostre a soma total de `body_mass_g` por `species`.**"
   ]
  },
  {
   "cell_type": "code",
   "execution_count": null,
   "id": "010166ca",
   "metadata": {},
   "outputs": [],
   "source": [
    "# Seu código aqui\n"
   ]
  },
  {
   "cell_type": "markdown",
   "id": "c45217f4",
   "metadata": {},
   "source": [
    "## Testes Estatísticos"
   ]
  },
  {
   "cell_type": "markdown",
   "id": "1887ed7f",
   "metadata": {},
   "source": [
    "**Execute ANOVA de `body_mass_g` entre diferentes espécies.**"
   ]
  },
  {
   "cell_type": "code",
   "execution_count": null,
   "id": "04865dfd",
   "metadata": {},
   "outputs": [],
   "source": [
    "# Seu código aqui\n"
   ]
  },
  {
   "cell_type": "markdown",
   "id": "d632e690",
   "metadata": {},
   "source": [
    "**Realize teste t para `bill_length_mm` entre duas ilhas (`island`).**"
   ]
  },
  {
   "cell_type": "code",
   "execution_count": null,
   "id": "70c03b87",
   "metadata": {},
   "outputs": [],
   "source": [
    "# Seu código aqui\n"
   ]
  },
  {
   "cell_type": "markdown",
   "id": "e13dd193",
   "metadata": {},
   "source": [
    "**Teste chi‑quadrado de independência entre `sex` e `species`.**"
   ]
  },
  {
   "cell_type": "code",
   "execution_count": null,
   "id": "09c2bb61",
   "metadata": {},
   "outputs": [],
   "source": [
    "# Seu código aqui\n"
   ]
  },
  {
   "cell_type": "markdown",
   "id": "15fc1e29",
   "metadata": {},
   "source": [
    "**Construa intervalo de confiança 95% para média de `bill_depth_mm`.**"
   ]
  },
  {
   "cell_type": "code",
   "execution_count": null,
   "id": "1a53443c",
   "metadata": {},
   "outputs": [],
   "source": [
    "# Seu código aqui\n"
   ]
  },
  {
   "cell_type": "markdown",
   "id": "4c920ad0",
   "metadata": {},
   "source": [
    "**Interprete p‑valor de um teste t executado sobre `bill_depth_mm`.**"
   ]
  },
  {
   "cell_type": "code",
   "execution_count": null,
   "id": "e192b2a1",
   "metadata": {},
   "outputs": [],
   "source": [
    "# Seu código aqui\n"
   ]
  },
  {
   "cell_type": "markdown",
   "id": "77af66b8",
   "metadata": {},
   "source": [
    "## Clustering K‑Means"
   ]
  },
  {
   "cell_type": "markdown",
   "id": "f8cdf7a1",
   "metadata": {},
   "source": [
    "**Padronize `bill_length_mm` e `body_mass_g`, aplique K‑Means (k=3) e plote clusters.**"
   ]
  },
  {
   "cell_type": "code",
   "execution_count": null,
   "id": "8772ce4c",
   "metadata": {},
   "outputs": [],
   "source": [
    "# Seu código aqui\n"
   ]
  },
  {
   "cell_type": "markdown",
   "id": "130cb6fb",
   "metadata": {},
   "source": [
    "**Avalie inércia do modelo e discuta se k=3 faz sentido.**"
   ]
  },
  {
   "cell_type": "code",
   "execution_count": null,
   "id": "c081e8f1",
   "metadata": {},
   "outputs": [],
   "source": [
    "# Seu código aqui\n"
   ]
  },
  {
   "cell_type": "markdown",
   "id": "30f76697",
   "metadata": {},
   "source": [
    "**Adicione rótulo de cluster ao DataFrame.**"
   ]
  },
  {
   "cell_type": "code",
   "execution_count": null,
   "id": "f26e3152",
   "metadata": {},
   "outputs": [],
   "source": [
    "# Seu código aqui\n"
   ]
  },
  {
   "cell_type": "markdown",
   "id": "bf75dbaf",
   "metadata": {},
   "source": [
    "**Compare distribuição de `species` dentro de cada cluster.**"
   ]
  },
  {
   "cell_type": "code",
   "execution_count": null,
   "id": "f8228a13",
   "metadata": {},
   "outputs": [],
   "source": [
    "# Seu código aqui\n"
   ]
  },
  {
   "cell_type": "markdown",
   "id": "19eca37d",
   "metadata": {},
   "source": [
    "**Plot silhouette score para k=2 a 5 e escolha melhor k.**"
   ]
  },
  {
   "cell_type": "code",
   "execution_count": null,
   "id": "01e3c5a8",
   "metadata": {},
   "outputs": [],
   "source": [
    "# Seu código aqui\n"
   ]
  },
  {
   "cell_type": "markdown",
   "id": "64adbe23",
   "metadata": {},
   "source": [
    "## Correlação & Covariância"
   ]
  },
  {
   "cell_type": "markdown",
   "id": "98667f15",
   "metadata": {},
   "source": [
    "**Calcule correlação Pearson entre `flipper_length_mm` e `bill_length_mm`.**"
   ]
  },
  {
   "cell_type": "code",
   "execution_count": null,
   "id": "be4c635e",
   "metadata": {},
   "outputs": [],
   "source": [
    "# Seu código aqui\n"
   ]
  },
  {
   "cell_type": "markdown",
   "id": "78fdded5",
   "metadata": {},
   "source": [
    "**Visualize matriz de correlação usando `sns.heatmap`.**"
   ]
  },
  {
   "cell_type": "code",
   "execution_count": null,
   "id": "49ff0982",
   "metadata": {},
   "outputs": [],
   "source": [
    "# Seu código aqui\n"
   ]
  },
  {
   "cell_type": "markdown",
   "id": "4f01a6d2",
   "metadata": {},
   "source": [
    "**Liste pares com correlação > 0.7.**"
   ]
  },
  {
   "cell_type": "code",
   "execution_count": null,
   "id": "d0347065",
   "metadata": {},
   "outputs": [],
   "source": [
    "# Seu código aqui\n"
   ]
  },
  {
   "cell_type": "markdown",
   "id": "ec8d7c60",
   "metadata": {},
   "source": [
    "**Calcule covariância entre `bill_length_mm` e `flipper_length_mm`.**"
   ]
  },
  {
   "cell_type": "code",
   "execution_count": null,
   "id": "449e18e9",
   "metadata": {},
   "outputs": [],
   "source": [
    "# Seu código aqui\n"
   ]
  },
  {
   "cell_type": "markdown",
   "id": "555f4942",
   "metadata": {},
   "source": [
    "**Explique correlação negativa, se existir, no dataset.**"
   ]
  },
  {
   "cell_type": "code",
   "execution_count": null,
   "id": "745678c5",
   "metadata": {},
   "outputs": [],
   "source": [
    "# Seu código aqui\n"
   ]
  },
  {
   "cell_type": "markdown",
   "id": "d0da59f0",
   "metadata": {},
   "source": [
    "## Feature Engineering"
   ]
  },
  {
   "cell_type": "markdown",
   "id": "d3064e96",
   "metadata": {},
   "source": [
    "**Crie coluna `bill_ratio` = `bill_length_mm` / `bill_depth_mm`.**"
   ]
  },
  {
   "cell_type": "code",
   "execution_count": null,
   "id": "4f01397c",
   "metadata": {},
   "outputs": [],
   "source": [
    "# Seu código aqui\n"
   ]
  },
  {
   "cell_type": "markdown",
   "id": "1761502f",
   "metadata": {},
   "source": [
    "**Bin discretize `bill_length_mm` em 4 faixas e conte elementos por faixa.**"
   ]
  },
  {
   "cell_type": "code",
   "execution_count": null,
   "id": "678e06ed",
   "metadata": {},
   "outputs": [],
   "source": [
    "# Seu código aqui\n"
   ]
  },
  {
   "cell_type": "markdown",
   "id": "ddb130e4",
   "metadata": {},
   "source": [
    "**Encode `island` usando one‑hot e mostre DataFrame resultante.**"
   ]
  },
  {
   "cell_type": "code",
   "execution_count": null,
   "id": "a6c785d9",
   "metadata": {},
   "outputs": [],
   "source": [
    "# Seu código aqui\n"
   ]
  },
  {
   "cell_type": "markdown",
   "id": "1fcc5160",
   "metadata": {},
   "source": [
    "**Escalone `body_mass_g` com StandardScaler e mostre estatísticas.**"
   ]
  },
  {
   "cell_type": "code",
   "execution_count": null,
   "id": "e0812d8c",
   "metadata": {},
   "outputs": [],
   "source": [
    "# Seu código aqui\n"
   ]
  },
  {
   "cell_type": "markdown",
   "id": "7a533cbe",
   "metadata": {},
   "source": [
    "**Crie coluna lógica `is_heavy` se `body_mass_g` > 4500.**"
   ]
  },
  {
   "cell_type": "code",
   "execution_count": null,
   "id": "77191a37",
   "metadata": {},
   "outputs": [],
   "source": [
    "# Seu código aqui\n"
   ]
  },
  {
   "cell_type": "markdown",
   "id": "e2adb74e",
   "metadata": {},
   "source": [
    "## Insights & Storytelling"
   ]
  },
  {
   "cell_type": "markdown",
   "id": "786c0c05",
   "metadata": {},
   "source": [
    "**Escreva insight sobre diferença de `flipper_length_mm` entre espécies.**"
   ]
  },
  {
   "cell_type": "code",
   "execution_count": null,
   "id": "e0ab4fc7",
   "metadata": {},
   "outputs": [],
   "source": [
    "# Seu código aqui\n"
   ]
  },
  {
   "cell_type": "markdown",
   "id": "0e2188e0",
   "metadata": {},
   "source": [
    "**Qual ilha apresenta maior média de `bill_depth_mm`?**"
   ]
  },
  {
   "cell_type": "code",
   "execution_count": null,
   "id": "965c1d8a",
   "metadata": {},
   "outputs": [],
   "source": [
    "# Seu código aqui\n"
   ]
  },
  {
   "cell_type": "markdown",
   "id": "e425bba2",
   "metadata": {},
   "source": [
    "**Resuma distribuição de `bill_depth_mm` em 3 frases.**"
   ]
  },
  {
   "cell_type": "code",
   "execution_count": null,
   "id": "43f451f4",
   "metadata": {},
   "outputs": [],
   "source": [
    "# Seu código aqui\n"
   ]
  },
  {
   "cell_type": "markdown",
   "id": "baebc98a",
   "metadata": {},
   "source": [
    "**Crie gráfico combinado (box + strip) para `flipper_length_mm` por `species`.**"
   ]
  },
  {
   "cell_type": "code",
   "execution_count": null,
   "id": "fc129ac8",
   "metadata": {},
   "outputs": [],
   "source": [
    "# Seu código aqui\n"
   ]
  },
  {
   "cell_type": "markdown",
   "id": "9ed226ee",
   "metadata": {},
   "source": [
    "**Explique relação entre `bill_depth_mm` e `bill_length_mm` baseada no scatterplot.**"
   ]
  },
  {
   "cell_type": "code",
   "execution_count": null,
   "id": "ce94a90b",
   "metadata": {},
   "outputs": [],
   "source": [
    "# Seu código aqui\n"
   ]
  },
  {
   "cell_type": "markdown",
   "id": "2c248459",
   "metadata": {},
   "source": [
    "## Carregamento & Visão Geral"
   ]
  },
  {
   "cell_type": "markdown",
   "id": "4b70a419",
   "metadata": {},
   "source": [
    "**Carregue o dataset Penguins em um DataFrame `df` via `seaborn.load_dataset('penguins')`.**"
   ]
  },
  {
   "cell_type": "code",
   "execution_count": null,
   "id": "85faf808",
   "metadata": {},
   "outputs": [],
   "source": [
    "# Seu código aqui\n"
   ]
  },
  {
   "cell_type": "markdown",
   "id": "36c54e6e",
   "metadata": {},
   "source": [
    "**Exiba as 5 primeiras linhas de `df`.**"
   ]
  },
  {
   "cell_type": "code",
   "execution_count": null,
   "id": "a0262b33",
   "metadata": {},
   "outputs": [],
   "source": [
    "# Seu código aqui\n"
   ]
  },
  {
   "cell_type": "markdown",
   "id": "003354b2",
   "metadata": {},
   "source": [
    "**Mostre `df.info()` para inspeção de tipos.**"
   ]
  },
  {
   "cell_type": "code",
   "execution_count": null,
   "id": "192b6b9f",
   "metadata": {},
   "outputs": [],
   "source": [
    "# Seu código aqui\n"
   ]
  },
  {
   "cell_type": "markdown",
   "id": "1a094920",
   "metadata": {},
   "source": [
    "**Quantos valores ausentes existem em cada coluna?**"
   ]
  },
  {
   "cell_type": "code",
   "execution_count": null,
   "id": "4e4465a9",
   "metadata": {},
   "outputs": [],
   "source": [
    "# Seu código aqui\n"
   ]
  },
  {
   "cell_type": "markdown",
   "id": "4ee27bd2",
   "metadata": {},
   "source": [
    "**Liste todas as colunas presentes e seus tipos.**"
   ]
  },
  {
   "cell_type": "code",
   "execution_count": null,
   "id": "fef359d1",
   "metadata": {},
   "outputs": [],
   "source": [
    "# Seu código aqui\n"
   ]
  },
  {
   "cell_type": "markdown",
   "id": "20d77fa0",
   "metadata": {},
   "source": [
    "## Estatística Descritiva"
   ]
  },
  {
   "cell_type": "markdown",
   "id": "c801402a",
   "metadata": {},
   "source": [
    "**Calcule a média de `bill_length_mm`.**"
   ]
  },
  {
   "cell_type": "code",
   "execution_count": null,
   "id": "ea34a1f8",
   "metadata": {},
   "outputs": [],
   "source": [
    "# Seu código aqui\n"
   ]
  },
  {
   "cell_type": "markdown",
   "id": "3ab4a43f",
   "metadata": {},
   "source": [
    "**Encontre a mediana de `bill_length_mm`.**"
   ]
  },
  {
   "cell_type": "code",
   "execution_count": null,
   "id": "72e94a43",
   "metadata": {},
   "outputs": [],
   "source": [
    "# Seu código aqui\n"
   ]
  },
  {
   "cell_type": "markdown",
   "id": "f6436a70",
   "metadata": {},
   "source": [
    "**Qual é o desvio‑padrão de `bill_depth_mm`?**"
   ]
  },
  {
   "cell_type": "code",
   "execution_count": null,
   "id": "728ca632",
   "metadata": {},
   "outputs": [],
   "source": [
    "# Seu código aqui\n"
   ]
  },
  {
   "cell_type": "markdown",
   "id": "f02e5941",
   "metadata": {},
   "source": [
    "**Exiba o resumo estatístico (`describe`) para `flipper_length_mm`.**"
   ]
  },
  {
   "cell_type": "code",
   "execution_count": null,
   "id": "9cc39f3b",
   "metadata": {},
   "outputs": [],
   "source": [
    "# Seu código aqui\n"
   ]
  },
  {
   "cell_type": "markdown",
   "id": "418760e7",
   "metadata": {},
   "source": [
    "**Conte valores nulos em `bill_length_mm`.**"
   ]
  },
  {
   "cell_type": "code",
   "execution_count": null,
   "id": "009fc381",
   "metadata": {},
   "outputs": [],
   "source": [
    "# Seu código aqui\n"
   ]
  },
  {
   "cell_type": "markdown",
   "id": "a22b98d7",
   "metadata": {},
   "source": [
    "## Visualização Univariada"
   ]
  },
  {
   "cell_type": "markdown",
   "id": "67580bed",
   "metadata": {},
   "source": [
    "**Plote histograma para `bill_length_mm`.**"
   ]
  },
  {
   "cell_type": "code",
   "execution_count": null,
   "id": "bd328a9d",
   "metadata": {},
   "outputs": [],
   "source": [
    "# Seu código aqui\n"
   ]
  },
  {
   "cell_type": "markdown",
   "id": "d98c9eaf",
   "metadata": {},
   "source": [
    "**Crie boxplot de `body_mass_g` dividido por `sex`.**"
   ]
  },
  {
   "cell_type": "code",
   "execution_count": null,
   "id": "936e51ac",
   "metadata": {},
   "outputs": [],
   "source": [
    "# Seu código aqui\n"
   ]
  },
  {
   "cell_type": "markdown",
   "id": "91696155",
   "metadata": {},
   "source": [
    "**Gere countplot para `island`.**"
   ]
  },
  {
   "cell_type": "code",
   "execution_count": null,
   "id": "d4692ad5",
   "metadata": {},
   "outputs": [],
   "source": [
    "# Seu código aqui\n"
   ]
  },
  {
   "cell_type": "markdown",
   "id": "05be8754",
   "metadata": {},
   "source": [
    "**Desenhe violin plot de `flipper_length_mm` por `species`.**"
   ]
  },
  {
   "cell_type": "code",
   "execution_count": null,
   "id": "bc6e844f",
   "metadata": {},
   "outputs": [],
   "source": [
    "# Seu código aqui\n"
   ]
  },
  {
   "cell_type": "markdown",
   "id": "801f5809",
   "metadata": {},
   "source": [
    "**Faça KDE plot de `bill_depth_mm`.**"
   ]
  },
  {
   "cell_type": "code",
   "execution_count": null,
   "id": "52cfac7c",
   "metadata": {},
   "outputs": [],
   "source": [
    "# Seu código aqui\n"
   ]
  },
  {
   "cell_type": "markdown",
   "id": "0359f6d7",
   "metadata": {},
   "source": [
    "## Visualização Bivariada"
   ]
  },
  {
   "cell_type": "markdown",
   "id": "90b0819a",
   "metadata": {},
   "source": [
    "**Scatterplot `body_mass_g` vs `bill_depth_mm` colorido por `species`.**"
   ]
  },
  {
   "cell_type": "code",
   "execution_count": null,
   "id": "0740121a",
   "metadata": {},
   "outputs": [],
   "source": [
    "# Seu código aqui\n"
   ]
  },
  {
   "cell_type": "markdown",
   "id": "460d8778",
   "metadata": {},
   "source": [
    "**Boxplot de `body_mass_g` por `year`.**"
   ]
  },
  {
   "cell_type": "code",
   "execution_count": null,
   "id": "8eab25ad",
   "metadata": {},
   "outputs": [],
   "source": [
    "# Seu código aqui\n"
   ]
  },
  {
   "cell_type": "markdown",
   "id": "cbd0952a",
   "metadata": {},
   "source": [
    "**Barplot de média de `body_mass_g` por `sex`.**"
   ]
  },
  {
   "cell_type": "code",
   "execution_count": null,
   "id": "e0ad8d2a",
   "metadata": {},
   "outputs": [],
   "source": [
    "# Seu código aqui\n"
   ]
  },
  {
   "cell_type": "markdown",
   "id": "f313cc1a",
   "metadata": {},
   "source": [
    "**Heatmap de correlação entre variáveis numéricas.**"
   ]
  },
  {
   "cell_type": "code",
   "execution_count": null,
   "id": "3df6da06",
   "metadata": {},
   "outputs": [],
   "source": [
    "# Seu código aqui\n"
   ]
  },
  {
   "cell_type": "markdown",
   "id": "163960ea",
   "metadata": {},
   "source": [
    "**Pairplot para duas colunas numéricas escolhidas.**"
   ]
  },
  {
   "cell_type": "code",
   "execution_count": null,
   "id": "586cb9c0",
   "metadata": {},
   "outputs": [],
   "source": [
    "# Seu código aqui\n"
   ]
  },
  {
   "cell_type": "markdown",
   "id": "6cf97165",
   "metadata": {},
   "source": [
    "## GroupBy & Aggregations"
   ]
  },
  {
   "cell_type": "markdown",
   "id": "b740d5a0",
   "metadata": {},
   "source": [
    "**Calcule média de `bill_depth_mm` por `year`.**"
   ]
  },
  {
   "cell_type": "code",
   "execution_count": null,
   "id": "16e57776",
   "metadata": {},
   "outputs": [],
   "source": [
    "# Seu código aqui\n"
   ]
  },
  {
   "cell_type": "markdown",
   "id": "817cdbd1",
   "metadata": {},
   "source": [
    "**Use `groupby(['species','island']).size()` e exiba as 5 primeiras linhas.**"
   ]
  },
  {
   "cell_type": "code",
   "execution_count": null,
   "id": "0e32350f",
   "metadata": {},
   "outputs": [],
   "source": [
    "# Seu código aqui\n"
   ]
  },
  {
   "cell_type": "markdown",
   "id": "a4a3f5a0",
   "metadata": {},
   "source": [
    "**Pivot table com índice `sex`, colunas `species`, valores `flipper_length_mm`, aggfunc média.**"
   ]
  },
  {
   "cell_type": "code",
   "execution_count": null,
   "id": "3d8cd88a",
   "metadata": {},
   "outputs": [],
   "source": [
    "# Seu código aqui\n"
   ]
  },
  {
   "cell_type": "markdown",
   "id": "b57ff4a8",
   "metadata": {},
   "source": [
    "**Ordene agregação média de `body_mass_g` por `sex` decrescente.**"
   ]
  },
  {
   "cell_type": "code",
   "execution_count": null,
   "id": "213c220b",
   "metadata": {},
   "outputs": [],
   "source": [
    "# Seu código aqui\n"
   ]
  },
  {
   "cell_type": "markdown",
   "id": "7a913f88",
   "metadata": {},
   "source": [
    "**Mostre a soma total de `bill_length_mm` por `species`.**"
   ]
  },
  {
   "cell_type": "code",
   "execution_count": null,
   "id": "a02e33b7",
   "metadata": {},
   "outputs": [],
   "source": [
    "# Seu código aqui\n"
   ]
  },
  {
   "cell_type": "markdown",
   "id": "e8b0d38c",
   "metadata": {},
   "source": [
    "## Testes Estatísticos"
   ]
  },
  {
   "cell_type": "markdown",
   "id": "ad190911",
   "metadata": {},
   "source": [
    "**Execute ANOVA de `bill_length_mm` entre diferentes espécies.**"
   ]
  },
  {
   "cell_type": "code",
   "execution_count": null,
   "id": "00a38c0c",
   "metadata": {},
   "outputs": [],
   "source": [
    "# Seu código aqui\n"
   ]
  },
  {
   "cell_type": "markdown",
   "id": "8274c256",
   "metadata": {},
   "source": [
    "**Realize teste t para `body_mass_g` entre duas ilhas (`island`).**"
   ]
  },
  {
   "cell_type": "code",
   "execution_count": null,
   "id": "b461b1ee",
   "metadata": {},
   "outputs": [],
   "source": [
    "# Seu código aqui\n"
   ]
  },
  {
   "cell_type": "markdown",
   "id": "f95fa353",
   "metadata": {},
   "source": [
    "**Teste chi‑quadrado de independência entre `island` e `species`.**"
   ]
  },
  {
   "cell_type": "code",
   "execution_count": null,
   "id": "da455b00",
   "metadata": {},
   "outputs": [],
   "source": [
    "# Seu código aqui\n"
   ]
  },
  {
   "cell_type": "markdown",
   "id": "1b025c8e",
   "metadata": {},
   "source": [
    "**Construa intervalo de confiança 95% para média de `flipper_length_mm`.**"
   ]
  },
  {
   "cell_type": "code",
   "execution_count": null,
   "id": "671a087c",
   "metadata": {},
   "outputs": [],
   "source": [
    "# Seu código aqui\n"
   ]
  },
  {
   "cell_type": "markdown",
   "id": "4300fd4b",
   "metadata": {},
   "source": [
    "**Interprete p‑valor de um teste t executado sobre `flipper_length_mm`.**"
   ]
  },
  {
   "cell_type": "code",
   "execution_count": null,
   "id": "0f73d3bc",
   "metadata": {},
   "outputs": [],
   "source": [
    "# Seu código aqui\n"
   ]
  },
  {
   "cell_type": "markdown",
   "id": "542dcb76",
   "metadata": {},
   "source": [
    "## Clustering K‑Means"
   ]
  },
  {
   "cell_type": "markdown",
   "id": "ac3cb967",
   "metadata": {},
   "source": [
    "**Padronize `body_mass_g` e `bill_depth_mm`, aplique K‑Means (k=3) e plote clusters.**"
   ]
  },
  {
   "cell_type": "code",
   "execution_count": null,
   "id": "813499e2",
   "metadata": {},
   "outputs": [],
   "source": [
    "# Seu código aqui\n"
   ]
  },
  {
   "cell_type": "markdown",
   "id": "ad245bef",
   "metadata": {},
   "source": [
    "**Avalie inércia do modelo e discuta se k=3 faz sentido.**"
   ]
  },
  {
   "cell_type": "code",
   "execution_count": null,
   "id": "7b361f9a",
   "metadata": {},
   "outputs": [],
   "source": [
    "# Seu código aqui\n"
   ]
  },
  {
   "cell_type": "markdown",
   "id": "a7cd9108",
   "metadata": {},
   "source": [
    "**Adicione rótulo de cluster ao DataFrame.**"
   ]
  },
  {
   "cell_type": "code",
   "execution_count": null,
   "id": "b59169b8",
   "metadata": {},
   "outputs": [],
   "source": [
    "# Seu código aqui\n"
   ]
  },
  {
   "cell_type": "markdown",
   "id": "eb0f0695",
   "metadata": {},
   "source": [
    "**Compare distribuição de `species` dentro de cada cluster.**"
   ]
  },
  {
   "cell_type": "code",
   "execution_count": null,
   "id": "97fce5aa",
   "metadata": {},
   "outputs": [],
   "source": [
    "# Seu código aqui\n"
   ]
  },
  {
   "cell_type": "markdown",
   "id": "f9eb893f",
   "metadata": {},
   "source": [
    "**Plot silhouette score para k=2 a 5 e escolha melhor k.**"
   ]
  },
  {
   "cell_type": "code",
   "execution_count": null,
   "id": "6178138c",
   "metadata": {},
   "outputs": [],
   "source": [
    "# Seu código aqui\n"
   ]
  },
  {
   "cell_type": "markdown",
   "id": "b27aa35d",
   "metadata": {},
   "source": [
    "## Correlação & Covariância"
   ]
  },
  {
   "cell_type": "markdown",
   "id": "1d102876",
   "metadata": {},
   "source": [
    "**Calcule correlação Pearson entre `bill_depth_mm` e `bill_length_mm`.**"
   ]
  },
  {
   "cell_type": "code",
   "execution_count": null,
   "id": "4707f0fa",
   "metadata": {},
   "outputs": [],
   "source": [
    "# Seu código aqui\n"
   ]
  },
  {
   "cell_type": "markdown",
   "id": "3630e9c8",
   "metadata": {},
   "source": [
    "**Visualize matriz de correlação usando `sns.heatmap`.**"
   ]
  },
  {
   "cell_type": "code",
   "execution_count": null,
   "id": "3e30dcaa",
   "metadata": {},
   "outputs": [],
   "source": [
    "# Seu código aqui\n"
   ]
  },
  {
   "cell_type": "markdown",
   "id": "ab1b4872",
   "metadata": {},
   "source": [
    "**Liste pares com correlação > 0.7.**"
   ]
  },
  {
   "cell_type": "code",
   "execution_count": null,
   "id": "971efc1d",
   "metadata": {},
   "outputs": [],
   "source": [
    "# Seu código aqui\n"
   ]
  },
  {
   "cell_type": "markdown",
   "id": "c3d97c0c",
   "metadata": {},
   "source": [
    "**Calcule covariância entre `bill_depth_mm` e `bill_length_mm`.**"
   ]
  },
  {
   "cell_type": "code",
   "execution_count": null,
   "id": "54739e8a",
   "metadata": {},
   "outputs": [],
   "source": [
    "# Seu código aqui\n"
   ]
  },
  {
   "cell_type": "markdown",
   "id": "d8eecc77",
   "metadata": {},
   "source": [
    "**Explique correlação negativa, se existir, no dataset.**"
   ]
  },
  {
   "cell_type": "code",
   "execution_count": null,
   "id": "8162183e",
   "metadata": {},
   "outputs": [],
   "source": [
    "# Seu código aqui\n"
   ]
  },
  {
   "cell_type": "markdown",
   "id": "d0f1ad2c",
   "metadata": {},
   "source": [
    "## Feature Engineering"
   ]
  },
  {
   "cell_type": "markdown",
   "id": "fca1bf6b",
   "metadata": {},
   "source": [
    "**Crie coluna `bill_ratio` = `bill_length_mm` / `bill_depth_mm`.**"
   ]
  },
  {
   "cell_type": "code",
   "execution_count": null,
   "id": "ab066eb4",
   "metadata": {},
   "outputs": [],
   "source": [
    "# Seu código aqui\n"
   ]
  },
  {
   "cell_type": "markdown",
   "id": "122f5b10",
   "metadata": {},
   "source": [
    "**Bin discretize `bill_length_mm` em 4 faixas e conte elementos por faixa.**"
   ]
  },
  {
   "cell_type": "code",
   "execution_count": null,
   "id": "659333c0",
   "metadata": {},
   "outputs": [],
   "source": [
    "# Seu código aqui\n"
   ]
  },
  {
   "cell_type": "markdown",
   "id": "d3ce33d5",
   "metadata": {},
   "source": [
    "**Encode `sex` usando one‑hot e mostre DataFrame resultante.**"
   ]
  },
  {
   "cell_type": "code",
   "execution_count": null,
   "id": "366799a2",
   "metadata": {},
   "outputs": [],
   "source": [
    "# Seu código aqui\n"
   ]
  },
  {
   "cell_type": "markdown",
   "id": "d3eee2c9",
   "metadata": {},
   "source": [
    "**Escalone `bill_depth_mm` com StandardScaler e mostre estatísticas.**"
   ]
  },
  {
   "cell_type": "code",
   "execution_count": null,
   "id": "aa703e30",
   "metadata": {},
   "outputs": [],
   "source": [
    "# Seu código aqui\n"
   ]
  },
  {
   "cell_type": "markdown",
   "id": "56f9d1f2",
   "metadata": {},
   "source": [
    "**Crie coluna lógica `is_heavy` se `body_mass_g` > 4500.**"
   ]
  },
  {
   "cell_type": "code",
   "execution_count": null,
   "id": "eb743b5b",
   "metadata": {},
   "outputs": [],
   "source": [
    "# Seu código aqui\n"
   ]
  },
  {
   "cell_type": "markdown",
   "id": "f1232f14",
   "metadata": {},
   "source": [
    "## Insights & Storytelling"
   ]
  },
  {
   "cell_type": "markdown",
   "id": "33d59675",
   "metadata": {},
   "source": [
    "**Escreva insight sobre diferença de `bill_depth_mm` entre espécies.**"
   ]
  },
  {
   "cell_type": "code",
   "execution_count": null,
   "id": "e740224c",
   "metadata": {},
   "outputs": [],
   "source": [
    "# Seu código aqui\n"
   ]
  },
  {
   "cell_type": "markdown",
   "id": "349fe11a",
   "metadata": {},
   "source": [
    "**Qual ilha apresenta maior média de `body_mass_g`?**"
   ]
  },
  {
   "cell_type": "code",
   "execution_count": null,
   "id": "19191561",
   "metadata": {},
   "outputs": [],
   "source": [
    "# Seu código aqui\n"
   ]
  },
  {
   "cell_type": "markdown",
   "id": "3e23136b",
   "metadata": {},
   "source": [
    "**Resuma distribuição de `bill_depth_mm` em 3 frases.**"
   ]
  },
  {
   "cell_type": "code",
   "execution_count": null,
   "id": "4b211e5d",
   "metadata": {},
   "outputs": [],
   "source": [
    "# Seu código aqui\n"
   ]
  },
  {
   "cell_type": "markdown",
   "id": "a92acfc3",
   "metadata": {},
   "source": [
    "**Crie gráfico combinado (box + strip) para `bill_depth_mm` por `species`.**"
   ]
  },
  {
   "cell_type": "code",
   "execution_count": null,
   "id": "2dc9e7d7",
   "metadata": {},
   "outputs": [],
   "source": [
    "# Seu código aqui\n"
   ]
  },
  {
   "cell_type": "markdown",
   "id": "99068a88",
   "metadata": {},
   "source": [
    "**Explique relação entre `bill_length_mm` e `bill_depth_mm` baseada no scatterplot.**"
   ]
  },
  {
   "cell_type": "code",
   "execution_count": null,
   "id": "10702673",
   "metadata": {},
   "outputs": [],
   "source": [
    "# Seu código aqui\n"
   ]
  },
  {
   "cell_type": "markdown",
   "id": "61016f43",
   "metadata": {},
   "source": [
    "## Carregamento & Visão Geral"
   ]
  },
  {
   "cell_type": "markdown",
   "id": "70627c86",
   "metadata": {},
   "source": [
    "**Carregue o dataset Penguins em um DataFrame `df` via `seaborn.load_dataset('penguins')`.**"
   ]
  },
  {
   "cell_type": "code",
   "execution_count": null,
   "id": "9775132c",
   "metadata": {},
   "outputs": [],
   "source": [
    "# Seu código aqui\n"
   ]
  },
  {
   "cell_type": "markdown",
   "id": "1f5da22c",
   "metadata": {},
   "source": [
    "**Exiba as 5 primeiras linhas de `df`.**"
   ]
  },
  {
   "cell_type": "code",
   "execution_count": null,
   "id": "eeb4f204",
   "metadata": {},
   "outputs": [],
   "source": [
    "# Seu código aqui\n"
   ]
  },
  {
   "cell_type": "markdown",
   "id": "d242a114",
   "metadata": {},
   "source": [
    "**Mostre `df.info()` para inspeção de tipos.**"
   ]
  },
  {
   "cell_type": "code",
   "execution_count": null,
   "id": "5cbd0728",
   "metadata": {},
   "outputs": [],
   "source": [
    "# Seu código aqui\n"
   ]
  },
  {
   "cell_type": "markdown",
   "id": "36ddd825",
   "metadata": {},
   "source": [
    "**Quantos valores ausentes existem em cada coluna?**"
   ]
  },
  {
   "cell_type": "code",
   "execution_count": null,
   "id": "e49b35d5",
   "metadata": {},
   "outputs": [],
   "source": [
    "# Seu código aqui\n"
   ]
  },
  {
   "cell_type": "markdown",
   "id": "622983b7",
   "metadata": {},
   "source": [
    "**Liste todas as colunas presentes e seus tipos.**"
   ]
  },
  {
   "cell_type": "code",
   "execution_count": null,
   "id": "39dc74fb",
   "metadata": {},
   "outputs": [],
   "source": [
    "# Seu código aqui\n"
   ]
  },
  {
   "cell_type": "markdown",
   "id": "5c6dea6a",
   "metadata": {},
   "source": [
    "## Estatística Descritiva"
   ]
  },
  {
   "cell_type": "markdown",
   "id": "f19289c1",
   "metadata": {},
   "source": [
    "**Calcule a média de `bill_length_mm`.**"
   ]
  },
  {
   "cell_type": "code",
   "execution_count": null,
   "id": "a44e7439",
   "metadata": {},
   "outputs": [],
   "source": [
    "# Seu código aqui\n"
   ]
  },
  {
   "cell_type": "markdown",
   "id": "d0a86fb3",
   "metadata": {},
   "source": [
    "**Encontre a mediana de `flipper_length_mm`.**"
   ]
  },
  {
   "cell_type": "code",
   "execution_count": null,
   "id": "fa9125db",
   "metadata": {},
   "outputs": [],
   "source": [
    "# Seu código aqui\n"
   ]
  },
  {
   "cell_type": "markdown",
   "id": "ebcf4f8b",
   "metadata": {},
   "source": [
    "**Qual é o desvio‑padrão de `flipper_length_mm`?**"
   ]
  },
  {
   "cell_type": "code",
   "execution_count": null,
   "id": "3b175068",
   "metadata": {},
   "outputs": [],
   "source": [
    "# Seu código aqui\n"
   ]
  },
  {
   "cell_type": "markdown",
   "id": "705b6279",
   "metadata": {},
   "source": [
    "**Exiba o resumo estatístico (`describe`) para `flipper_length_mm`.**"
   ]
  },
  {
   "cell_type": "code",
   "execution_count": null,
   "id": "e627c430",
   "metadata": {},
   "outputs": [],
   "source": [
    "# Seu código aqui\n"
   ]
  },
  {
   "cell_type": "markdown",
   "id": "73151abb",
   "metadata": {},
   "source": [
    "**Conte valores nulos em `body_mass_g`.**"
   ]
  },
  {
   "cell_type": "code",
   "execution_count": null,
   "id": "5b241744",
   "metadata": {},
   "outputs": [],
   "source": [
    "# Seu código aqui\n"
   ]
  },
  {
   "cell_type": "markdown",
   "id": "d8c57ca0",
   "metadata": {},
   "source": [
    "## Visualização Univariada"
   ]
  },
  {
   "cell_type": "markdown",
   "id": "ab845cbd",
   "metadata": {},
   "source": [
    "**Plote histograma para `body_mass_g`.**"
   ]
  },
  {
   "cell_type": "code",
   "execution_count": null,
   "id": "5c0cca48",
   "metadata": {},
   "outputs": [],
   "source": [
    "# Seu código aqui\n"
   ]
  },
  {
   "cell_type": "markdown",
   "id": "9b1ef74a",
   "metadata": {},
   "source": [
    "**Crie boxplot de `bill_length_mm` dividido por `species`.**"
   ]
  },
  {
   "cell_type": "code",
   "execution_count": null,
   "id": "6542851d",
   "metadata": {},
   "outputs": [],
   "source": [
    "# Seu código aqui\n"
   ]
  },
  {
   "cell_type": "markdown",
   "id": "dd8601cc",
   "metadata": {},
   "source": [
    "**Gere countplot para `island`.**"
   ]
  },
  {
   "cell_type": "code",
   "execution_count": null,
   "id": "2551857d",
   "metadata": {},
   "outputs": [],
   "source": [
    "# Seu código aqui\n"
   ]
  },
  {
   "cell_type": "markdown",
   "id": "c46f7d9d",
   "metadata": {},
   "source": [
    "**Desenhe violin plot de `flipper_length_mm` por `species`.**"
   ]
  },
  {
   "cell_type": "code",
   "execution_count": null,
   "id": "55ef7207",
   "metadata": {},
   "outputs": [],
   "source": [
    "# Seu código aqui\n"
   ]
  },
  {
   "cell_type": "markdown",
   "id": "84969441",
   "metadata": {},
   "source": [
    "**Faça KDE plot de `bill_depth_mm`.**"
   ]
  },
  {
   "cell_type": "code",
   "execution_count": null,
   "id": "e29e9bc2",
   "metadata": {},
   "outputs": [],
   "source": [
    "# Seu código aqui\n"
   ]
  },
  {
   "cell_type": "markdown",
   "id": "1ae2f164",
   "metadata": {},
   "source": [
    "## Visualização Bivariada"
   ]
  },
  {
   "cell_type": "markdown",
   "id": "36e993af",
   "metadata": {},
   "source": [
    "**Scatterplot `bill_length_mm` vs `flipper_length_mm` colorido por `species`.**"
   ]
  },
  {
   "cell_type": "code",
   "execution_count": null,
   "id": "423278a3",
   "metadata": {},
   "outputs": [],
   "source": [
    "# Seu código aqui\n"
   ]
  },
  {
   "cell_type": "markdown",
   "id": "9ba0a9a2",
   "metadata": {},
   "source": [
    "**Boxplot de `bill_length_mm` por `species`.**"
   ]
  },
  {
   "cell_type": "code",
   "execution_count": null,
   "id": "2cdda429",
   "metadata": {},
   "outputs": [],
   "source": [
    "# Seu código aqui\n"
   ]
  },
  {
   "cell_type": "markdown",
   "id": "43ded98c",
   "metadata": {},
   "source": [
    "**Barplot de média de `bill_length_mm` por `sex`.**"
   ]
  },
  {
   "cell_type": "code",
   "execution_count": null,
   "id": "f731e207",
   "metadata": {},
   "outputs": [],
   "source": [
    "# Seu código aqui\n"
   ]
  },
  {
   "cell_type": "markdown",
   "id": "5b5b133d",
   "metadata": {},
   "source": [
    "**Heatmap de correlação entre variáveis numéricas.**"
   ]
  },
  {
   "cell_type": "code",
   "execution_count": null,
   "id": "4b4cdec0",
   "metadata": {},
   "outputs": [],
   "source": [
    "# Seu código aqui\n"
   ]
  },
  {
   "cell_type": "markdown",
   "id": "94cbc3a7",
   "metadata": {},
   "source": [
    "**Pairplot para duas colunas numéricas escolhidas.**"
   ]
  },
  {
   "cell_type": "code",
   "execution_count": null,
   "id": "d348baaa",
   "metadata": {},
   "outputs": [],
   "source": [
    "# Seu código aqui\n"
   ]
  },
  {
   "cell_type": "markdown",
   "id": "8682f0ac",
   "metadata": {},
   "source": [
    "## GroupBy & Aggregations"
   ]
  },
  {
   "cell_type": "markdown",
   "id": "dc5d5358",
   "metadata": {},
   "source": [
    "**Calcule média de `flipper_length_mm` por `year`.**"
   ]
  },
  {
   "cell_type": "code",
   "execution_count": null,
   "id": "612badd3",
   "metadata": {},
   "outputs": [],
   "source": [
    "# Seu código aqui\n"
   ]
  },
  {
   "cell_type": "markdown",
   "id": "ae79d818",
   "metadata": {},
   "source": [
    "**Use `groupby(['species','island']).size()` e exiba as 5 primeiras linhas.**"
   ]
  },
  {
   "cell_type": "code",
   "execution_count": null,
   "id": "7ba47ef0",
   "metadata": {},
   "outputs": [],
   "source": [
    "# Seu código aqui\n"
   ]
  },
  {
   "cell_type": "markdown",
   "id": "8c185b24",
   "metadata": {},
   "source": [
    "**Pivot table com índice `year`, colunas `species`, valores `body_mass_g`, aggfunc média.**"
   ]
  },
  {
   "cell_type": "code",
   "execution_count": null,
   "id": "07d6ceb1",
   "metadata": {},
   "outputs": [],
   "source": [
    "# Seu código aqui\n"
   ]
  },
  {
   "cell_type": "markdown",
   "id": "481abf1c",
   "metadata": {},
   "source": [
    "**Ordene agregação média de `bill_depth_mm` por `sex` decrescente.**"
   ]
  },
  {
   "cell_type": "code",
   "execution_count": null,
   "id": "198d2886",
   "metadata": {},
   "outputs": [],
   "source": [
    "# Seu código aqui\n"
   ]
  },
  {
   "cell_type": "markdown",
   "id": "1eafb161",
   "metadata": {},
   "source": [
    "**Mostre a soma total de `body_mass_g` por `species`.**"
   ]
  },
  {
   "cell_type": "code",
   "execution_count": null,
   "id": "a2cb32cb",
   "metadata": {},
   "outputs": [],
   "source": [
    "# Seu código aqui\n"
   ]
  },
  {
   "cell_type": "markdown",
   "id": "c6dd294e",
   "metadata": {},
   "source": [
    "## Testes Estatísticos"
   ]
  },
  {
   "cell_type": "markdown",
   "id": "a80f04fb",
   "metadata": {},
   "source": [
    "**Execute ANOVA de `bill_length_mm` entre diferentes espécies.**"
   ]
  },
  {
   "cell_type": "code",
   "execution_count": null,
   "id": "314102f0",
   "metadata": {},
   "outputs": [],
   "source": [
    "# Seu código aqui\n"
   ]
  },
  {
   "cell_type": "markdown",
   "id": "a2f6a17f",
   "metadata": {},
   "source": [
    "**Realize teste t para `flipper_length_mm` entre duas ilhas (`island`).**"
   ]
  },
  {
   "cell_type": "code",
   "execution_count": null,
   "id": "e6b61bbf",
   "metadata": {},
   "outputs": [],
   "source": [
    "# Seu código aqui\n"
   ]
  },
  {
   "cell_type": "markdown",
   "id": "e661155f",
   "metadata": {},
   "source": [
    "**Teste chi‑quadrado de independência entre `species` e `species`.**"
   ]
  },
  {
   "cell_type": "code",
   "execution_count": null,
   "id": "ac3a4b39",
   "metadata": {},
   "outputs": [],
   "source": [
    "# Seu código aqui\n"
   ]
  },
  {
   "cell_type": "markdown",
   "id": "35022c61",
   "metadata": {},
   "source": [
    "**Construa intervalo de confiança 95% para média de `bill_depth_mm`.**"
   ]
  },
  {
   "cell_type": "code",
   "execution_count": null,
   "id": "7f43524e",
   "metadata": {},
   "outputs": [],
   "source": [
    "# Seu código aqui\n"
   ]
  },
  {
   "cell_type": "markdown",
   "id": "7cbf7489",
   "metadata": {},
   "source": [
    "**Interprete p‑valor de um teste t executado sobre `flipper_length_mm`.**"
   ]
  },
  {
   "cell_type": "code",
   "execution_count": null,
   "id": "c69504b0",
   "metadata": {},
   "outputs": [],
   "source": [
    "# Seu código aqui\n"
   ]
  },
  {
   "cell_type": "markdown",
   "id": "84b10c18",
   "metadata": {},
   "source": [
    "## Clustering K‑Means"
   ]
  },
  {
   "cell_type": "markdown",
   "id": "d4e4536c",
   "metadata": {},
   "source": [
    "**Padronize `body_mass_g` e `bill_depth_mm`, aplique K‑Means (k=3) e plote clusters.**"
   ]
  },
  {
   "cell_type": "code",
   "execution_count": null,
   "id": "4c7de2ca",
   "metadata": {},
   "outputs": [],
   "source": [
    "# Seu código aqui\n"
   ]
  },
  {
   "cell_type": "markdown",
   "id": "b7bce586",
   "metadata": {},
   "source": [
    "**Avalie inércia do modelo e discuta se k=3 faz sentido.**"
   ]
  },
  {
   "cell_type": "code",
   "execution_count": null,
   "id": "524f1625",
   "metadata": {},
   "outputs": [],
   "source": [
    "# Seu código aqui\n"
   ]
  },
  {
   "cell_type": "markdown",
   "id": "a7609141",
   "metadata": {},
   "source": [
    "**Adicione rótulo de cluster ao DataFrame.**"
   ]
  },
  {
   "cell_type": "code",
   "execution_count": null,
   "id": "ecbe7721",
   "metadata": {},
   "outputs": [],
   "source": [
    "# Seu código aqui\n"
   ]
  },
  {
   "cell_type": "markdown",
   "id": "ba7ca4e8",
   "metadata": {},
   "source": [
    "**Compare distribuição de `species` dentro de cada cluster.**"
   ]
  },
  {
   "cell_type": "code",
   "execution_count": null,
   "id": "3edb0487",
   "metadata": {},
   "outputs": [],
   "source": [
    "# Seu código aqui\n"
   ]
  },
  {
   "cell_type": "markdown",
   "id": "8ff8df80",
   "metadata": {},
   "source": [
    "**Plot silhouette score para k=2 a 5 e escolha melhor k.**"
   ]
  },
  {
   "cell_type": "code",
   "execution_count": null,
   "id": "8a33675b",
   "metadata": {},
   "outputs": [],
   "source": [
    "# Seu código aqui\n"
   ]
  },
  {
   "cell_type": "markdown",
   "id": "57a84967",
   "metadata": {},
   "source": [
    "## Correlação & Covariância"
   ]
  },
  {
   "cell_type": "markdown",
   "id": "3a4faf7d",
   "metadata": {},
   "source": [
    "**Calcule correlação Pearson entre `bill_length_mm` e `bill_depth_mm`.**"
   ]
  },
  {
   "cell_type": "code",
   "execution_count": null,
   "id": "0eee75bf",
   "metadata": {},
   "outputs": [],
   "source": [
    "# Seu código aqui\n"
   ]
  },
  {
   "cell_type": "markdown",
   "id": "4d7c1452",
   "metadata": {},
   "source": [
    "**Visualize matriz de correlação usando `sns.heatmap`.**"
   ]
  },
  {
   "cell_type": "code",
   "execution_count": null,
   "id": "b497a582",
   "metadata": {},
   "outputs": [],
   "source": [
    "# Seu código aqui\n"
   ]
  },
  {
   "cell_type": "markdown",
   "id": "edd12cd8",
   "metadata": {},
   "source": [
    "**Liste pares com correlação > 0.7.**"
   ]
  },
  {
   "cell_type": "code",
   "execution_count": null,
   "id": "272c39c7",
   "metadata": {},
   "outputs": [],
   "source": [
    "# Seu código aqui\n"
   ]
  },
  {
   "cell_type": "markdown",
   "id": "c313f12c",
   "metadata": {},
   "source": [
    "**Calcule covariância entre `bill_length_mm` e `body_mass_g`.**"
   ]
  },
  {
   "cell_type": "code",
   "execution_count": null,
   "id": "42169160",
   "metadata": {},
   "outputs": [],
   "source": [
    "# Seu código aqui\n"
   ]
  },
  {
   "cell_type": "markdown",
   "id": "3b97e161",
   "metadata": {},
   "source": [
    "**Explique correlação negativa, se existir, no dataset.**"
   ]
  },
  {
   "cell_type": "code",
   "execution_count": null,
   "id": "9ecad8d3",
   "metadata": {},
   "outputs": [],
   "source": [
    "# Seu código aqui\n"
   ]
  },
  {
   "cell_type": "markdown",
   "id": "8f7ae979",
   "metadata": {},
   "source": [
    "## Feature Engineering"
   ]
  },
  {
   "cell_type": "markdown",
   "id": "8aa7f98d",
   "metadata": {},
   "source": [
    "**Crie coluna `bill_ratio` = `bill_length_mm` / `bill_depth_mm`.**"
   ]
  },
  {
   "cell_type": "code",
   "execution_count": null,
   "id": "10d8c033",
   "metadata": {},
   "outputs": [],
   "source": [
    "# Seu código aqui\n"
   ]
  },
  {
   "cell_type": "markdown",
   "id": "326a1591",
   "metadata": {},
   "source": [
    "**Bin discretize `bill_length_mm` em 4 faixas e conte elementos por faixa.**"
   ]
  },
  {
   "cell_type": "code",
   "execution_count": null,
   "id": "489fb844",
   "metadata": {},
   "outputs": [],
   "source": [
    "# Seu código aqui\n"
   ]
  },
  {
   "cell_type": "markdown",
   "id": "9d9f6803",
   "metadata": {},
   "source": [
    "**Encode `species` usando one‑hot e mostre DataFrame resultante.**"
   ]
  },
  {
   "cell_type": "code",
   "execution_count": null,
   "id": "37693598",
   "metadata": {},
   "outputs": [],
   "source": [
    "# Seu código aqui\n"
   ]
  },
  {
   "cell_type": "markdown",
   "id": "d32095ee",
   "metadata": {},
   "source": [
    "**Escalone `body_mass_g` com StandardScaler e mostre estatísticas.**"
   ]
  },
  {
   "cell_type": "code",
   "execution_count": null,
   "id": "ded1eebe",
   "metadata": {},
   "outputs": [],
   "source": [
    "# Seu código aqui\n"
   ]
  },
  {
   "cell_type": "markdown",
   "id": "ed5afdf4",
   "metadata": {},
   "source": [
    "**Crie coluna lógica `is_heavy` se `body_mass_g` > 4500.**"
   ]
  },
  {
   "cell_type": "code",
   "execution_count": null,
   "id": "463c81ae",
   "metadata": {},
   "outputs": [],
   "source": [
    "# Seu código aqui\n"
   ]
  },
  {
   "cell_type": "markdown",
   "id": "913f2327",
   "metadata": {},
   "source": [
    "## Insights & Storytelling"
   ]
  },
  {
   "cell_type": "markdown",
   "id": "3a16f6c6",
   "metadata": {},
   "source": [
    "**Escreva insight sobre diferença de `bill_length_mm` entre espécies.**"
   ]
  },
  {
   "cell_type": "code",
   "execution_count": null,
   "id": "b1f7ef27",
   "metadata": {},
   "outputs": [],
   "source": [
    "# Seu código aqui\n"
   ]
  },
  {
   "cell_type": "markdown",
   "id": "79ad5d64",
   "metadata": {},
   "source": [
    "**Qual ilha apresenta maior média de `bill_length_mm`?**"
   ]
  },
  {
   "cell_type": "code",
   "execution_count": null,
   "id": "df2f770e",
   "metadata": {},
   "outputs": [],
   "source": [
    "# Seu código aqui\n"
   ]
  },
  {
   "cell_type": "markdown",
   "id": "a39a5f46",
   "metadata": {},
   "source": [
    "**Resuma distribuição de `bill_depth_mm` em 3 frases.**"
   ]
  },
  {
   "cell_type": "code",
   "execution_count": null,
   "id": "79f38bb2",
   "metadata": {},
   "outputs": [],
   "source": [
    "# Seu código aqui\n"
   ]
  },
  {
   "cell_type": "markdown",
   "id": "087a8272",
   "metadata": {},
   "source": [
    "**Crie gráfico combinado (box + strip) para `bill_length_mm` por `species`.**"
   ]
  },
  {
   "cell_type": "code",
   "execution_count": null,
   "id": "a6c9ca8a",
   "metadata": {},
   "outputs": [],
   "source": [
    "# Seu código aqui\n"
   ]
  },
  {
   "cell_type": "markdown",
   "id": "8617a1ed",
   "metadata": {},
   "source": [
    "**Explique relação entre `bill_depth_mm` e `bill_length_mm` baseada no scatterplot.**"
   ]
  },
  {
   "cell_type": "code",
   "execution_count": null,
   "id": "a90e26be",
   "metadata": {},
   "outputs": [],
   "source": [
    "# Seu código aqui\n"
   ]
  },
  {
   "cell_type": "markdown",
   "id": "e28e8dbd",
   "metadata": {},
   "source": [
    "## Carregamento & Visão Geral"
   ]
  },
  {
   "cell_type": "markdown",
   "id": "a991ee34",
   "metadata": {},
   "source": [
    "**Carregue o dataset Penguins em um DataFrame `df` via `seaborn.load_dataset('penguins')`.**"
   ]
  },
  {
   "cell_type": "code",
   "execution_count": null,
   "id": "063792c5",
   "metadata": {},
   "outputs": [],
   "source": [
    "# Seu código aqui\n"
   ]
  },
  {
   "cell_type": "markdown",
   "id": "349f2ecb",
   "metadata": {},
   "source": [
    "**Exiba as 5 primeiras linhas de `df`.**"
   ]
  },
  {
   "cell_type": "code",
   "execution_count": null,
   "id": "71fa2b30",
   "metadata": {},
   "outputs": [],
   "source": [
    "# Seu código aqui\n"
   ]
  },
  {
   "cell_type": "markdown",
   "id": "9c15a05d",
   "metadata": {},
   "source": [
    "**Mostre `df.info()` para inspeção de tipos.**"
   ]
  },
  {
   "cell_type": "code",
   "execution_count": null,
   "id": "cc9b3bf8",
   "metadata": {},
   "outputs": [],
   "source": [
    "# Seu código aqui\n"
   ]
  },
  {
   "cell_type": "markdown",
   "id": "494eb467",
   "metadata": {},
   "source": [
    "**Quantos valores ausentes existem em cada coluna?**"
   ]
  },
  {
   "cell_type": "code",
   "execution_count": null,
   "id": "3106f147",
   "metadata": {},
   "outputs": [],
   "source": [
    "# Seu código aqui\n"
   ]
  },
  {
   "cell_type": "markdown",
   "id": "c7a6c97d",
   "metadata": {},
   "source": [
    "**Liste todas as colunas presentes e seus tipos.**"
   ]
  },
  {
   "cell_type": "code",
   "execution_count": null,
   "id": "712b9029",
   "metadata": {},
   "outputs": [],
   "source": [
    "# Seu código aqui\n"
   ]
  },
  {
   "cell_type": "markdown",
   "id": "8530d625",
   "metadata": {},
   "source": [
    "## Estatística Descritiva"
   ]
  },
  {
   "cell_type": "markdown",
   "id": "662af51c",
   "metadata": {},
   "source": [
    "**Calcule a média de `bill_depth_mm`.**"
   ]
  },
  {
   "cell_type": "code",
   "execution_count": null,
   "id": "1bbafcaf",
   "metadata": {},
   "outputs": [],
   "source": [
    "# Seu código aqui\n"
   ]
  },
  {
   "cell_type": "markdown",
   "id": "2e21c743",
   "metadata": {},
   "source": [
    "**Encontre a mediana de `bill_depth_mm`.**"
   ]
  },
  {
   "cell_type": "code",
   "execution_count": null,
   "id": "84c0756a",
   "metadata": {},
   "outputs": [],
   "source": [
    "# Seu código aqui\n"
   ]
  },
  {
   "cell_type": "markdown",
   "id": "9a23a838",
   "metadata": {},
   "source": [
    "**Qual é o desvio‑padrão de `bill_length_mm`?**"
   ]
  },
  {
   "cell_type": "code",
   "execution_count": null,
   "id": "09828b50",
   "metadata": {},
   "outputs": [],
   "source": [
    "# Seu código aqui\n"
   ]
  },
  {
   "cell_type": "markdown",
   "id": "1cb02b62",
   "metadata": {},
   "source": [
    "**Exiba o resumo estatístico (`describe`) para `flipper_length_mm`.**"
   ]
  },
  {
   "cell_type": "code",
   "execution_count": null,
   "id": "32c17d6e",
   "metadata": {},
   "outputs": [],
   "source": [
    "# Seu código aqui\n"
   ]
  },
  {
   "cell_type": "markdown",
   "id": "9b562dd4",
   "metadata": {},
   "source": [
    "**Conte valores nulos em `body_mass_g`.**"
   ]
  },
  {
   "cell_type": "code",
   "execution_count": null,
   "id": "d5668960",
   "metadata": {},
   "outputs": [],
   "source": [
    "# Seu código aqui\n"
   ]
  },
  {
   "cell_type": "markdown",
   "id": "7d6bd575",
   "metadata": {},
   "source": [
    "## Visualização Univariada"
   ]
  },
  {
   "cell_type": "markdown",
   "id": "f290311d",
   "metadata": {},
   "source": [
    "**Plote histograma para `bill_depth_mm`.**"
   ]
  },
  {
   "cell_type": "code",
   "execution_count": null,
   "id": "17cf9523",
   "metadata": {},
   "outputs": [],
   "source": [
    "# Seu código aqui\n"
   ]
  },
  {
   "cell_type": "markdown",
   "id": "1fd3115a",
   "metadata": {},
   "source": [
    "**Crie boxplot de `body_mass_g` dividido por `year`.**"
   ]
  },
  {
   "cell_type": "code",
   "execution_count": null,
   "id": "cd9fc935",
   "metadata": {},
   "outputs": [],
   "source": [
    "# Seu código aqui\n"
   ]
  },
  {
   "cell_type": "markdown",
   "id": "f6ba4cc6",
   "metadata": {},
   "source": [
    "**Gere countplot para `year`.**"
   ]
  },
  {
   "cell_type": "code",
   "execution_count": null,
   "id": "bb273c30",
   "metadata": {},
   "outputs": [],
   "source": [
    "# Seu código aqui\n"
   ]
  },
  {
   "cell_type": "markdown",
   "id": "037f1050",
   "metadata": {},
   "source": [
    "**Desenhe violin plot de `body_mass_g` por `species`.**"
   ]
  },
  {
   "cell_type": "code",
   "execution_count": null,
   "id": "ed606a85",
   "metadata": {},
   "outputs": [],
   "source": [
    "# Seu código aqui\n"
   ]
  },
  {
   "cell_type": "markdown",
   "id": "85d015bd",
   "metadata": {},
   "source": [
    "**Faça KDE plot de `flipper_length_mm`.**"
   ]
  },
  {
   "cell_type": "code",
   "execution_count": null,
   "id": "a5ebc340",
   "metadata": {},
   "outputs": [],
   "source": [
    "# Seu código aqui\n"
   ]
  },
  {
   "cell_type": "markdown",
   "id": "51adc7cf",
   "metadata": {},
   "source": [
    "## Visualização Bivariada"
   ]
  },
  {
   "cell_type": "markdown",
   "id": "32d9d345",
   "metadata": {},
   "source": [
    "**Scatterplot `bill_depth_mm` vs `bill_length_mm` colorido por `species`.**"
   ]
  },
  {
   "cell_type": "code",
   "execution_count": null,
   "id": "1b26ba94",
   "metadata": {},
   "outputs": [],
   "source": [
    "# Seu código aqui\n"
   ]
  },
  {
   "cell_type": "markdown",
   "id": "ef8908c9",
   "metadata": {},
   "source": [
    "**Boxplot de `body_mass_g` por `species`.**"
   ]
  },
  {
   "cell_type": "code",
   "execution_count": null,
   "id": "8cfe2dde",
   "metadata": {},
   "outputs": [],
   "source": [
    "# Seu código aqui\n"
   ]
  },
  {
   "cell_type": "markdown",
   "id": "dbb9f7f1",
   "metadata": {},
   "source": [
    "**Barplot de média de `body_mass_g` por `sex`.**"
   ]
  },
  {
   "cell_type": "code",
   "execution_count": null,
   "id": "863aaba6",
   "metadata": {},
   "outputs": [],
   "source": [
    "# Seu código aqui\n"
   ]
  },
  {
   "cell_type": "markdown",
   "id": "be0a11d2",
   "metadata": {},
   "source": [
    "**Heatmap de correlação entre variáveis numéricas.**"
   ]
  },
  {
   "cell_type": "code",
   "execution_count": null,
   "id": "10507ba8",
   "metadata": {},
   "outputs": [],
   "source": [
    "# Seu código aqui\n"
   ]
  },
  {
   "cell_type": "markdown",
   "id": "396daf8c",
   "metadata": {},
   "source": [
    "**Pairplot para duas colunas numéricas escolhidas.**"
   ]
  },
  {
   "cell_type": "code",
   "execution_count": null,
   "id": "1c423833",
   "metadata": {},
   "outputs": [],
   "source": [
    "# Seu código aqui\n"
   ]
  },
  {
   "cell_type": "markdown",
   "id": "7f87029c",
   "metadata": {},
   "source": [
    "## GroupBy & Aggregations"
   ]
  },
  {
   "cell_type": "markdown",
   "id": "2f73d6c5",
   "metadata": {},
   "source": [
    "**Calcule média de `flipper_length_mm` por `island`.**"
   ]
  },
  {
   "cell_type": "code",
   "execution_count": null,
   "id": "319bd592",
   "metadata": {},
   "outputs": [],
   "source": [
    "# Seu código aqui\n"
   ]
  },
  {
   "cell_type": "markdown",
   "id": "b9554bba",
   "metadata": {},
   "source": [
    "**Use `groupby(['species','species']).size()` e exiba as 5 primeiras linhas.**"
   ]
  },
  {
   "cell_type": "code",
   "execution_count": null,
   "id": "59dd5f9a",
   "metadata": {},
   "outputs": [],
   "source": [
    "# Seu código aqui\n"
   ]
  },
  {
   "cell_type": "markdown",
   "id": "583be05f",
   "metadata": {},
   "source": [
    "**Pivot table com índice `year`, colunas `species`, valores `bill_depth_mm`, aggfunc média.**"
   ]
  },
  {
   "cell_type": "code",
   "execution_count": null,
   "id": "26495a6a",
   "metadata": {},
   "outputs": [],
   "source": [
    "# Seu código aqui\n"
   ]
  },
  {
   "cell_type": "markdown",
   "id": "b25d5ab5",
   "metadata": {},
   "source": [
    "**Ordene agregação média de `bill_depth_mm` por `species` decrescente.**"
   ]
  },
  {
   "cell_type": "code",
   "execution_count": null,
   "id": "d07191e9",
   "metadata": {},
   "outputs": [],
   "source": [
    "# Seu código aqui\n"
   ]
  },
  {
   "cell_type": "markdown",
   "id": "01fd83c4",
   "metadata": {},
   "source": [
    "**Mostre a soma total de `bill_depth_mm` por `species`.**"
   ]
  },
  {
   "cell_type": "code",
   "execution_count": null,
   "id": "a388e6a4",
   "metadata": {},
   "outputs": [],
   "source": [
    "# Seu código aqui\n"
   ]
  },
  {
   "cell_type": "markdown",
   "id": "c2bcbceb",
   "metadata": {},
   "source": [
    "## Testes Estatísticos"
   ]
  },
  {
   "cell_type": "markdown",
   "id": "5b47b023",
   "metadata": {},
   "source": [
    "**Execute ANOVA de `bill_length_mm` entre diferentes espécies.**"
   ]
  },
  {
   "cell_type": "code",
   "execution_count": null,
   "id": "f4b13e45",
   "metadata": {},
   "outputs": [],
   "source": [
    "# Seu código aqui\n"
   ]
  },
  {
   "cell_type": "markdown",
   "id": "a2832bfd",
   "metadata": {},
   "source": [
    "**Realize teste t para `body_mass_g` entre duas ilhas (`island`).**"
   ]
  },
  {
   "cell_type": "code",
   "execution_count": null,
   "id": "721d62e0",
   "metadata": {},
   "outputs": [],
   "source": [
    "# Seu código aqui\n"
   ]
  },
  {
   "cell_type": "markdown",
   "id": "8c5a97e7",
   "metadata": {},
   "source": [
    "**Teste chi‑quadrado de independência entre `species` e `species`.**"
   ]
  },
  {
   "cell_type": "code",
   "execution_count": null,
   "id": "7976f3b9",
   "metadata": {},
   "outputs": [],
   "source": [
    "# Seu código aqui\n"
   ]
  },
  {
   "cell_type": "markdown",
   "id": "bda0dba3",
   "metadata": {},
   "source": [
    "**Construa intervalo de confiança 95% para média de `bill_length_mm`.**"
   ]
  },
  {
   "cell_type": "code",
   "execution_count": null,
   "id": "ae2cace2",
   "metadata": {},
   "outputs": [],
   "source": [
    "# Seu código aqui\n"
   ]
  },
  {
   "cell_type": "markdown",
   "id": "75d6da14",
   "metadata": {},
   "source": [
    "**Interprete p‑valor de um teste t executado sobre `bill_depth_mm`.**"
   ]
  },
  {
   "cell_type": "code",
   "execution_count": null,
   "id": "2007899a",
   "metadata": {},
   "outputs": [],
   "source": [
    "# Seu código aqui\n"
   ]
  },
  {
   "cell_type": "markdown",
   "id": "ba4f413c",
   "metadata": {},
   "source": [
    "## Clustering K‑Means"
   ]
  },
  {
   "cell_type": "markdown",
   "id": "50829579",
   "metadata": {},
   "source": [
    "**Padronize `flipper_length_mm` e `body_mass_g`, aplique K‑Means (k=3) e plote clusters.**"
   ]
  },
  {
   "cell_type": "code",
   "execution_count": null,
   "id": "b173ad51",
   "metadata": {},
   "outputs": [],
   "source": [
    "# Seu código aqui\n"
   ]
  },
  {
   "cell_type": "markdown",
   "id": "ac2c417c",
   "metadata": {},
   "source": [
    "**Avalie inércia do modelo e discuta se k=3 faz sentido.**"
   ]
  },
  {
   "cell_type": "code",
   "execution_count": null,
   "id": "ebec73be",
   "metadata": {},
   "outputs": [],
   "source": [
    "# Seu código aqui\n"
   ]
  },
  {
   "cell_type": "markdown",
   "id": "d42e355b",
   "metadata": {},
   "source": [
    "**Adicione rótulo de cluster ao DataFrame.**"
   ]
  },
  {
   "cell_type": "code",
   "execution_count": null,
   "id": "cd2f01c9",
   "metadata": {},
   "outputs": [],
   "source": [
    "# Seu código aqui\n"
   ]
  },
  {
   "cell_type": "markdown",
   "id": "24bd04fb",
   "metadata": {},
   "source": [
    "**Compare distribuição de `species` dentro de cada cluster.**"
   ]
  },
  {
   "cell_type": "code",
   "execution_count": null,
   "id": "c7bf5d33",
   "metadata": {},
   "outputs": [],
   "source": [
    "# Seu código aqui\n"
   ]
  },
  {
   "cell_type": "markdown",
   "id": "53047ce7",
   "metadata": {},
   "source": [
    "**Plot silhouette score para k=2 a 5 e escolha melhor k.**"
   ]
  },
  {
   "cell_type": "code",
   "execution_count": null,
   "id": "f91d5609",
   "metadata": {},
   "outputs": [],
   "source": [
    "# Seu código aqui\n"
   ]
  },
  {
   "cell_type": "markdown",
   "id": "a779d52f",
   "metadata": {},
   "source": [
    "## Correlação & Covariância"
   ]
  },
  {
   "cell_type": "markdown",
   "id": "35424745",
   "metadata": {},
   "source": [
    "**Calcule correlação Pearson entre `flipper_length_mm` e `bill_depth_mm`.**"
   ]
  },
  {
   "cell_type": "code",
   "execution_count": null,
   "id": "4fd91736",
   "metadata": {},
   "outputs": [],
   "source": [
    "# Seu código aqui\n"
   ]
  },
  {
   "cell_type": "markdown",
   "id": "43ed9d8c",
   "metadata": {},
   "source": [
    "**Visualize matriz de correlação usando `sns.heatmap`.**"
   ]
  },
  {
   "cell_type": "code",
   "execution_count": null,
   "id": "314da1e9",
   "metadata": {},
   "outputs": [],
   "source": [
    "# Seu código aqui\n"
   ]
  },
  {
   "cell_type": "markdown",
   "id": "96c83607",
   "metadata": {},
   "source": [
    "**Liste pares com correlação > 0.7.**"
   ]
  },
  {
   "cell_type": "code",
   "execution_count": null,
   "id": "8003c6a1",
   "metadata": {},
   "outputs": [],
   "source": [
    "# Seu código aqui\n"
   ]
  },
  {
   "cell_type": "markdown",
   "id": "d5511ffc",
   "metadata": {},
   "source": [
    "**Calcule covariância entre `flipper_length_mm` e `bill_depth_mm`.**"
   ]
  },
  {
   "cell_type": "code",
   "execution_count": null,
   "id": "758bd65b",
   "metadata": {},
   "outputs": [],
   "source": [
    "# Seu código aqui\n"
   ]
  },
  {
   "cell_type": "markdown",
   "id": "5408ed84",
   "metadata": {},
   "source": [
    "**Explique correlação negativa, se existir, no dataset.**"
   ]
  },
  {
   "cell_type": "code",
   "execution_count": null,
   "id": "84801f6d",
   "metadata": {},
   "outputs": [],
   "source": [
    "# Seu código aqui\n"
   ]
  },
  {
   "cell_type": "markdown",
   "id": "2fcf3534",
   "metadata": {},
   "source": [
    "## Feature Engineering"
   ]
  },
  {
   "cell_type": "markdown",
   "id": "9689a67b",
   "metadata": {},
   "source": [
    "**Crie coluna `bill_ratio` = `bill_length_mm` / `bill_depth_mm`.**"
   ]
  },
  {
   "cell_type": "code",
   "execution_count": null,
   "id": "1bdad04f",
   "metadata": {},
   "outputs": [],
   "source": [
    "# Seu código aqui\n"
   ]
  },
  {
   "cell_type": "markdown",
   "id": "c9217988",
   "metadata": {},
   "source": [
    "**Bin discretize `bill_depth_mm` em 4 faixas e conte elementos por faixa.**"
   ]
  },
  {
   "cell_type": "code",
   "execution_count": null,
   "id": "84bef7e4",
   "metadata": {},
   "outputs": [],
   "source": [
    "# Seu código aqui\n"
   ]
  },
  {
   "cell_type": "markdown",
   "id": "ef28d9c1",
   "metadata": {},
   "source": [
    "**Encode `island` usando one‑hot e mostre DataFrame resultante.**"
   ]
  },
  {
   "cell_type": "code",
   "execution_count": null,
   "id": "51d4ba89",
   "metadata": {},
   "outputs": [],
   "source": [
    "# Seu código aqui\n"
   ]
  },
  {
   "cell_type": "markdown",
   "id": "84795b97",
   "metadata": {},
   "source": [
    "**Escalone `bill_depth_mm` com StandardScaler e mostre estatísticas.**"
   ]
  },
  {
   "cell_type": "code",
   "execution_count": null,
   "id": "17681c62",
   "metadata": {},
   "outputs": [],
   "source": [
    "# Seu código aqui\n"
   ]
  },
  {
   "cell_type": "markdown",
   "id": "630e59cf",
   "metadata": {},
   "source": [
    "**Crie coluna lógica `is_heavy` se `body_mass_g` > 4500.**"
   ]
  },
  {
   "cell_type": "code",
   "execution_count": null,
   "id": "b84b9c9c",
   "metadata": {},
   "outputs": [],
   "source": [
    "# Seu código aqui\n"
   ]
  },
  {
   "cell_type": "markdown",
   "id": "383791ad",
   "metadata": {},
   "source": [
    "## Insights & Storytelling"
   ]
  },
  {
   "cell_type": "markdown",
   "id": "19ba0f5f",
   "metadata": {},
   "source": [
    "**Escreva insight sobre diferença de `bill_depth_mm` entre espécies.**"
   ]
  },
  {
   "cell_type": "code",
   "execution_count": null,
   "id": "88ed23cb",
   "metadata": {},
   "outputs": [],
   "source": [
    "# Seu código aqui\n"
   ]
  },
  {
   "cell_type": "markdown",
   "id": "b1637bc1",
   "metadata": {},
   "source": [
    "**Qual ilha apresenta maior média de `bill_length_mm`?**"
   ]
  },
  {
   "cell_type": "code",
   "execution_count": null,
   "id": "df4c4ab8",
   "metadata": {},
   "outputs": [],
   "source": [
    "# Seu código aqui\n"
   ]
  },
  {
   "cell_type": "markdown",
   "id": "a23f1f85",
   "metadata": {},
   "source": [
    "**Resuma distribuição de `flipper_length_mm` em 3 frases.**"
   ]
  },
  {
   "cell_type": "code",
   "execution_count": null,
   "id": "c790cb8b",
   "metadata": {},
   "outputs": [],
   "source": [
    "# Seu código aqui\n"
   ]
  },
  {
   "cell_type": "markdown",
   "id": "8252306a",
   "metadata": {},
   "source": [
    "**Crie gráfico combinado (box + strip) para `body_mass_g` por `species`.**"
   ]
  },
  {
   "cell_type": "code",
   "execution_count": null,
   "id": "7fedbf7d",
   "metadata": {},
   "outputs": [],
   "source": [
    "# Seu código aqui\n"
   ]
  },
  {
   "cell_type": "markdown",
   "id": "f88b916c",
   "metadata": {},
   "source": [
    "**Explique relação entre `flipper_length_mm` e `bill_depth_mm` baseada no scatterplot.**"
   ]
  },
  {
   "cell_type": "code",
   "execution_count": null,
   "id": "b8b4232f",
   "metadata": {},
   "outputs": [],
   "source": [
    "# Seu código aqui\n"
   ]
  },
  {
   "cell_type": "markdown",
   "id": "be4c6208",
   "metadata": {},
   "source": [
    "## Carregamento & Visão Geral"
   ]
  },
  {
   "cell_type": "markdown",
   "id": "8ee6d257",
   "metadata": {},
   "source": [
    "**Carregue o dataset Penguins em um DataFrame `df` via `seaborn.load_dataset('penguins')`.**"
   ]
  },
  {
   "cell_type": "code",
   "execution_count": null,
   "id": "f5bc3c55",
   "metadata": {},
   "outputs": [],
   "source": [
    "# Seu código aqui\n"
   ]
  },
  {
   "cell_type": "markdown",
   "id": "6923334f",
   "metadata": {},
   "source": [
    "**Exiba as 5 primeiras linhas de `df`.**"
   ]
  },
  {
   "cell_type": "code",
   "execution_count": null,
   "id": "f78cbcf4",
   "metadata": {},
   "outputs": [],
   "source": [
    "# Seu código aqui\n"
   ]
  },
  {
   "cell_type": "markdown",
   "id": "6acff2ae",
   "metadata": {},
   "source": [
    "**Mostre `df.info()` para inspeção de tipos.**"
   ]
  },
  {
   "cell_type": "code",
   "execution_count": null,
   "id": "fc24eeca",
   "metadata": {},
   "outputs": [],
   "source": [
    "# Seu código aqui\n"
   ]
  },
  {
   "cell_type": "markdown",
   "id": "8d4e45e3",
   "metadata": {},
   "source": [
    "**Quantos valores ausentes existem em cada coluna?**"
   ]
  },
  {
   "cell_type": "code",
   "execution_count": null,
   "id": "67b3b71a",
   "metadata": {},
   "outputs": [],
   "source": [
    "# Seu código aqui\n"
   ]
  },
  {
   "cell_type": "markdown",
   "id": "a51ec354",
   "metadata": {},
   "source": [
    "**Liste todas as colunas presentes e seus tipos.**"
   ]
  },
  {
   "cell_type": "code",
   "execution_count": null,
   "id": "fee22f03",
   "metadata": {},
   "outputs": [],
   "source": [
    "# Seu código aqui\n"
   ]
  },
  {
   "cell_type": "markdown",
   "id": "eb11c8d0",
   "metadata": {},
   "source": [
    "## Estatística Descritiva"
   ]
  },
  {
   "cell_type": "markdown",
   "id": "1c1569ac",
   "metadata": {},
   "source": [
    "**Calcule a média de `body_mass_g`.**"
   ]
  },
  {
   "cell_type": "code",
   "execution_count": null,
   "id": "2cb8e48a",
   "metadata": {},
   "outputs": [],
   "source": [
    "# Seu código aqui\n"
   ]
  },
  {
   "cell_type": "markdown",
   "id": "98c0d191",
   "metadata": {},
   "source": [
    "**Encontre a mediana de `body_mass_g`.**"
   ]
  },
  {
   "cell_type": "code",
   "execution_count": null,
   "id": "b3f5bd64",
   "metadata": {},
   "outputs": [],
   "source": [
    "# Seu código aqui\n"
   ]
  },
  {
   "cell_type": "markdown",
   "id": "68647ee8",
   "metadata": {},
   "source": [
    "**Qual é o desvio‑padrão de `body_mass_g`?**"
   ]
  },
  {
   "cell_type": "code",
   "execution_count": null,
   "id": "2e593736",
   "metadata": {},
   "outputs": [],
   "source": [
    "# Seu código aqui\n"
   ]
  },
  {
   "cell_type": "markdown",
   "id": "0a12745c",
   "metadata": {},
   "source": [
    "**Exiba o resumo estatístico (`describe`) para `flipper_length_mm`.**"
   ]
  },
  {
   "cell_type": "code",
   "execution_count": null,
   "id": "293d4e65",
   "metadata": {},
   "outputs": [],
   "source": [
    "# Seu código aqui\n"
   ]
  },
  {
   "cell_type": "markdown",
   "id": "c780de30",
   "metadata": {},
   "source": [
    "**Conte valores nulos em `flipper_length_mm`.**"
   ]
  },
  {
   "cell_type": "code",
   "execution_count": null,
   "id": "426bb2c2",
   "metadata": {},
   "outputs": [],
   "source": [
    "# Seu código aqui\n"
   ]
  },
  {
   "cell_type": "markdown",
   "id": "e2582937",
   "metadata": {},
   "source": [
    "## Visualização Univariada"
   ]
  },
  {
   "cell_type": "markdown",
   "id": "55a66323",
   "metadata": {},
   "source": [
    "**Plote histograma para `flipper_length_mm`.**"
   ]
  },
  {
   "cell_type": "code",
   "execution_count": null,
   "id": "ae43c5f7",
   "metadata": {},
   "outputs": [],
   "source": [
    "# Seu código aqui\n"
   ]
  },
  {
   "cell_type": "markdown",
   "id": "15e4c04c",
   "metadata": {},
   "source": [
    "**Crie boxplot de `bill_depth_mm` dividido por `species`.**"
   ]
  },
  {
   "cell_type": "code",
   "execution_count": null,
   "id": "82ab676a",
   "metadata": {},
   "outputs": [],
   "source": [
    "# Seu código aqui\n"
   ]
  },
  {
   "cell_type": "markdown",
   "id": "0d9f445e",
   "metadata": {},
   "source": [
    "**Gere countplot para `species`.**"
   ]
  },
  {
   "cell_type": "code",
   "execution_count": null,
   "id": "86273e45",
   "metadata": {},
   "outputs": [],
   "source": [
    "# Seu código aqui\n"
   ]
  },
  {
   "cell_type": "markdown",
   "id": "4a748e49",
   "metadata": {},
   "source": [
    "**Desenhe violin plot de `flipper_length_mm` por `species`.**"
   ]
  },
  {
   "cell_type": "code",
   "execution_count": null,
   "id": "064fad8f",
   "metadata": {},
   "outputs": [],
   "source": [
    "# Seu código aqui\n"
   ]
  },
  {
   "cell_type": "markdown",
   "id": "b8a67c4e",
   "metadata": {},
   "source": [
    "**Faça KDE plot de `bill_length_mm`.**"
   ]
  },
  {
   "cell_type": "code",
   "execution_count": null,
   "id": "9ef06fd5",
   "metadata": {},
   "outputs": [],
   "source": [
    "# Seu código aqui\n"
   ]
  },
  {
   "cell_type": "markdown",
   "id": "5e0e7437",
   "metadata": {},
   "source": [
    "## Visualização Bivariada"
   ]
  },
  {
   "cell_type": "markdown",
   "id": "ebd59200",
   "metadata": {},
   "source": [
    "**Scatterplot `bill_depth_mm` vs `body_mass_g` colorido por `species`.**"
   ]
  },
  {
   "cell_type": "code",
   "execution_count": null,
   "id": "49a1650b",
   "metadata": {},
   "outputs": [],
   "source": [
    "# Seu código aqui\n"
   ]
  },
  {
   "cell_type": "markdown",
   "id": "54c061b6",
   "metadata": {},
   "source": [
    "**Boxplot de `flipper_length_mm` por `species`.**"
   ]
  },
  {
   "cell_type": "code",
   "execution_count": null,
   "id": "b2a83cf2",
   "metadata": {},
   "outputs": [],
   "source": [
    "# Seu código aqui\n"
   ]
  },
  {
   "cell_type": "markdown",
   "id": "e56d1dd1",
   "metadata": {},
   "source": [
    "**Barplot de média de `body_mass_g` por `species`.**"
   ]
  },
  {
   "cell_type": "code",
   "execution_count": null,
   "id": "0d7494d7",
   "metadata": {},
   "outputs": [],
   "source": [
    "# Seu código aqui\n"
   ]
  },
  {
   "cell_type": "markdown",
   "id": "3b4e3277",
   "metadata": {},
   "source": [
    "**Heatmap de correlação entre variáveis numéricas.**"
   ]
  },
  {
   "cell_type": "code",
   "execution_count": null,
   "id": "7171b511",
   "metadata": {},
   "outputs": [],
   "source": [
    "# Seu código aqui\n"
   ]
  },
  {
   "cell_type": "markdown",
   "id": "a62cbdfb",
   "metadata": {},
   "source": [
    "**Pairplot para duas colunas numéricas escolhidas.**"
   ]
  },
  {
   "cell_type": "code",
   "execution_count": null,
   "id": "57833a23",
   "metadata": {},
   "outputs": [],
   "source": [
    "# Seu código aqui\n"
   ]
  },
  {
   "cell_type": "markdown",
   "id": "a3161713",
   "metadata": {},
   "source": [
    "## GroupBy & Aggregations"
   ]
  },
  {
   "cell_type": "markdown",
   "id": "61e282c3",
   "metadata": {},
   "source": [
    "**Calcule média de `bill_length_mm` por `sex`.**"
   ]
  },
  {
   "cell_type": "code",
   "execution_count": null,
   "id": "7f18db60",
   "metadata": {},
   "outputs": [],
   "source": [
    "# Seu código aqui\n"
   ]
  },
  {
   "cell_type": "markdown",
   "id": "4aa07e49",
   "metadata": {},
   "source": [
    "**Use `groupby(['species','sex']).size()` e exiba as 5 primeiras linhas.**"
   ]
  },
  {
   "cell_type": "code",
   "execution_count": null,
   "id": "b5cff38a",
   "metadata": {},
   "outputs": [],
   "source": [
    "# Seu código aqui\n"
   ]
  },
  {
   "cell_type": "markdown",
   "id": "4dfec184",
   "metadata": {},
   "source": [
    "**Pivot table com índice `year`, colunas `species`, valores `bill_length_mm`, aggfunc média.**"
   ]
  },
  {
   "cell_type": "code",
   "execution_count": null,
   "id": "196333d4",
   "metadata": {},
   "outputs": [],
   "source": [
    "# Seu código aqui\n"
   ]
  },
  {
   "cell_type": "markdown",
   "id": "a522a73f",
   "metadata": {},
   "source": [
    "**Ordene agregação média de `flipper_length_mm` por `island` decrescente.**"
   ]
  },
  {
   "cell_type": "code",
   "execution_count": null,
   "id": "d5bda7b5",
   "metadata": {},
   "outputs": [],
   "source": [
    "# Seu código aqui\n"
   ]
  },
  {
   "cell_type": "markdown",
   "id": "bdc0999f",
   "metadata": {},
   "source": [
    "**Mostre a soma total de `flipper_length_mm` por `species`.**"
   ]
  },
  {
   "cell_type": "code",
   "execution_count": null,
   "id": "618e3a4f",
   "metadata": {},
   "outputs": [],
   "source": [
    "# Seu código aqui\n"
   ]
  },
  {
   "cell_type": "markdown",
   "id": "61ea5e80",
   "metadata": {},
   "source": [
    "## Testes Estatísticos"
   ]
  },
  {
   "cell_type": "markdown",
   "id": "46803d72",
   "metadata": {},
   "source": [
    "**Execute ANOVA de `bill_depth_mm` entre diferentes espécies.**"
   ]
  },
  {
   "cell_type": "code",
   "execution_count": null,
   "id": "3b771186",
   "metadata": {},
   "outputs": [],
   "source": [
    "# Seu código aqui\n"
   ]
  },
  {
   "cell_type": "markdown",
   "id": "515e36fa",
   "metadata": {},
   "source": [
    "**Realize teste t para `flipper_length_mm` entre duas ilhas (`island`).**"
   ]
  },
  {
   "cell_type": "code",
   "execution_count": null,
   "id": "54f5a1da",
   "metadata": {},
   "outputs": [],
   "source": [
    "# Seu código aqui\n"
   ]
  },
  {
   "cell_type": "markdown",
   "id": "074a1e2e",
   "metadata": {},
   "source": [
    "**Teste chi‑quadrado de independência entre `island` e `species`.**"
   ]
  },
  {
   "cell_type": "code",
   "execution_count": null,
   "id": "d852f3f5",
   "metadata": {},
   "outputs": [],
   "source": [
    "# Seu código aqui\n"
   ]
  },
  {
   "cell_type": "markdown",
   "id": "fb12d1bb",
   "metadata": {},
   "source": [
    "**Construa intervalo de confiança 95% para média de `bill_depth_mm`.**"
   ]
  },
  {
   "cell_type": "code",
   "execution_count": null,
   "id": "20bed676",
   "metadata": {},
   "outputs": [],
   "source": [
    "# Seu código aqui\n"
   ]
  },
  {
   "cell_type": "markdown",
   "id": "b38652b6",
   "metadata": {},
   "source": [
    "**Interprete p‑valor de um teste t executado sobre `bill_depth_mm`.**"
   ]
  },
  {
   "cell_type": "code",
   "execution_count": null,
   "id": "8446464e",
   "metadata": {},
   "outputs": [],
   "source": [
    "# Seu código aqui\n"
   ]
  },
  {
   "cell_type": "markdown",
   "id": "8a57e38b",
   "metadata": {},
   "source": [
    "## Clustering K‑Means"
   ]
  },
  {
   "cell_type": "markdown",
   "id": "8a626f51",
   "metadata": {},
   "source": [
    "**Padronize `body_mass_g` e `bill_length_mm`, aplique K‑Means (k=3) e plote clusters.**"
   ]
  },
  {
   "cell_type": "code",
   "execution_count": null,
   "id": "0ccf1036",
   "metadata": {},
   "outputs": [],
   "source": [
    "# Seu código aqui\n"
   ]
  },
  {
   "cell_type": "markdown",
   "id": "78e9fa7d",
   "metadata": {},
   "source": [
    "**Avalie inércia do modelo e discuta se k=3 faz sentido.**"
   ]
  },
  {
   "cell_type": "code",
   "execution_count": null,
   "id": "a879cd89",
   "metadata": {},
   "outputs": [],
   "source": [
    "# Seu código aqui\n"
   ]
  },
  {
   "cell_type": "markdown",
   "id": "45e6d4f3",
   "metadata": {},
   "source": [
    "**Adicione rótulo de cluster ao DataFrame.**"
   ]
  },
  {
   "cell_type": "code",
   "execution_count": null,
   "id": "daee1829",
   "metadata": {},
   "outputs": [],
   "source": [
    "# Seu código aqui\n"
   ]
  },
  {
   "cell_type": "markdown",
   "id": "ebe23167",
   "metadata": {},
   "source": [
    "**Compare distribuição de `species` dentro de cada cluster.**"
   ]
  },
  {
   "cell_type": "code",
   "execution_count": null,
   "id": "14e699d6",
   "metadata": {},
   "outputs": [],
   "source": [
    "# Seu código aqui\n"
   ]
  },
  {
   "cell_type": "markdown",
   "id": "f1087c99",
   "metadata": {},
   "source": [
    "**Plot silhouette score para k=2 a 5 e escolha melhor k.**"
   ]
  },
  {
   "cell_type": "code",
   "execution_count": null,
   "id": "5753a21a",
   "metadata": {},
   "outputs": [],
   "source": [
    "# Seu código aqui\n"
   ]
  },
  {
   "cell_type": "markdown",
   "id": "139d61c9",
   "metadata": {},
   "source": [
    "## Correlação & Covariância"
   ]
  },
  {
   "cell_type": "markdown",
   "id": "56f23dd4",
   "metadata": {},
   "source": [
    "**Calcule correlação Pearson entre `body_mass_g` e `flipper_length_mm`.**"
   ]
  },
  {
   "cell_type": "code",
   "execution_count": null,
   "id": "caa12b1f",
   "metadata": {},
   "outputs": [],
   "source": [
    "# Seu código aqui\n"
   ]
  },
  {
   "cell_type": "markdown",
   "id": "d6c59967",
   "metadata": {},
   "source": [
    "**Visualize matriz de correlação usando `sns.heatmap`.**"
   ]
  },
  {
   "cell_type": "code",
   "execution_count": null,
   "id": "76cc6cae",
   "metadata": {},
   "outputs": [],
   "source": [
    "# Seu código aqui\n"
   ]
  },
  {
   "cell_type": "markdown",
   "id": "31a01c58",
   "metadata": {},
   "source": [
    "**Liste pares com correlação > 0.7.**"
   ]
  },
  {
   "cell_type": "code",
   "execution_count": null,
   "id": "dd52a387",
   "metadata": {},
   "outputs": [],
   "source": [
    "# Seu código aqui\n"
   ]
  },
  {
   "cell_type": "markdown",
   "id": "4d2af745",
   "metadata": {},
   "source": [
    "**Calcule covariância entre `body_mass_g` e `flipper_length_mm`.**"
   ]
  },
  {
   "cell_type": "code",
   "execution_count": null,
   "id": "a584d952",
   "metadata": {},
   "outputs": [],
   "source": [
    "# Seu código aqui\n"
   ]
  },
  {
   "cell_type": "markdown",
   "id": "2b03a8c8",
   "metadata": {},
   "source": [
    "**Explique correlação negativa, se existir, no dataset.**"
   ]
  },
  {
   "cell_type": "code",
   "execution_count": null,
   "id": "d611cb3a",
   "metadata": {},
   "outputs": [],
   "source": [
    "# Seu código aqui\n"
   ]
  },
  {
   "cell_type": "markdown",
   "id": "aff6eec0",
   "metadata": {},
   "source": [
    "## Feature Engineering"
   ]
  },
  {
   "cell_type": "markdown",
   "id": "d9ddb6a9",
   "metadata": {},
   "source": [
    "**Crie coluna `bill_ratio` = `bill_length_mm` / `bill_depth_mm`.**"
   ]
  },
  {
   "cell_type": "code",
   "execution_count": null,
   "id": "b57defee",
   "metadata": {},
   "outputs": [],
   "source": [
    "# Seu código aqui\n"
   ]
  },
  {
   "cell_type": "markdown",
   "id": "070494f6",
   "metadata": {},
   "source": [
    "**Bin discretize `bill_length_mm` em 4 faixas e conte elementos por faixa.**"
   ]
  },
  {
   "cell_type": "code",
   "execution_count": null,
   "id": "baae17e5",
   "metadata": {},
   "outputs": [],
   "source": [
    "# Seu código aqui\n"
   ]
  },
  {
   "cell_type": "markdown",
   "id": "a15710e0",
   "metadata": {},
   "source": [
    "**Encode `island` usando one‑hot e mostre DataFrame resultante.**"
   ]
  },
  {
   "cell_type": "code",
   "execution_count": null,
   "id": "ef82efe6",
   "metadata": {},
   "outputs": [],
   "source": [
    "# Seu código aqui\n"
   ]
  },
  {
   "cell_type": "markdown",
   "id": "fdbbafe8",
   "metadata": {},
   "source": [
    "**Escalone `bill_length_mm` com StandardScaler e mostre estatísticas.**"
   ]
  },
  {
   "cell_type": "code",
   "execution_count": null,
   "id": "d37939f5",
   "metadata": {},
   "outputs": [],
   "source": [
    "# Seu código aqui\n"
   ]
  },
  {
   "cell_type": "markdown",
   "id": "84b7b2d6",
   "metadata": {},
   "source": [
    "**Crie coluna lógica `is_heavy` se `body_mass_g` > 4500.**"
   ]
  },
  {
   "cell_type": "code",
   "execution_count": null,
   "id": "671c2dd2",
   "metadata": {},
   "outputs": [],
   "source": [
    "# Seu código aqui\n"
   ]
  },
  {
   "cell_type": "markdown",
   "id": "549aa977",
   "metadata": {},
   "source": [
    "## Insights & Storytelling"
   ]
  },
  {
   "cell_type": "markdown",
   "id": "85310aad",
   "metadata": {},
   "source": [
    "**Escreva insight sobre diferença de `bill_length_mm` entre espécies.**"
   ]
  },
  {
   "cell_type": "code",
   "execution_count": null,
   "id": "daabb1d6",
   "metadata": {},
   "outputs": [],
   "source": [
    "# Seu código aqui\n"
   ]
  },
  {
   "cell_type": "markdown",
   "id": "472bb935",
   "metadata": {},
   "source": [
    "**Qual ilha apresenta maior média de `bill_length_mm`?**"
   ]
  },
  {
   "cell_type": "code",
   "execution_count": null,
   "id": "fdb5452f",
   "metadata": {},
   "outputs": [],
   "source": [
    "# Seu código aqui\n"
   ]
  },
  {
   "cell_type": "markdown",
   "id": "37106012",
   "metadata": {},
   "source": [
    "**Resuma distribuição de `bill_length_mm` em 3 frases.**"
   ]
  },
  {
   "cell_type": "code",
   "execution_count": null,
   "id": "02b1805f",
   "metadata": {},
   "outputs": [],
   "source": [
    "# Seu código aqui\n"
   ]
  },
  {
   "cell_type": "markdown",
   "id": "ec104f8f",
   "metadata": {},
   "source": [
    "**Crie gráfico combinado (box + strip) para `bill_length_mm` por `species`.**"
   ]
  },
  {
   "cell_type": "code",
   "execution_count": null,
   "id": "a236803a",
   "metadata": {},
   "outputs": [],
   "source": [
    "# Seu código aqui\n"
   ]
  },
  {
   "cell_type": "markdown",
   "id": "fd15eb84",
   "metadata": {},
   "source": [
    "**Explique relação entre `bill_length_mm` e `bill_depth_mm` baseada no scatterplot.**"
   ]
  },
  {
   "cell_type": "code",
   "execution_count": null,
   "id": "2d88fe98",
   "metadata": {},
   "outputs": [],
   "source": [
    "# Seu código aqui\n"
   ]
  }
 ],
 "metadata": {},
 "nbformat": 4,
 "nbformat_minor": 5
}
