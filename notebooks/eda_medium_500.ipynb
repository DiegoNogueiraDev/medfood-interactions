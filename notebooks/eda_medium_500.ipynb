{
 "cells": [
  {
   "cell_type": "markdown",
   "id": "10e53ea8",
   "metadata": {},
   "source": [
    "# EDA Practice Notebook – Medium Complexity  \n",
    "_Generated 2025-07-15_  \n",
    "\n",
    "Este caderno foca em técnicas estatísticas intermediárias e clustering.  \n",
    "\n",
    "Dataset sugerido: **Palmer Penguins (UCI)** – download em: https://archive.ics.uci.edu/dataset/690/palmer+penguins-3"
   ]
  },
  {
   "cell_type": "code",
   "execution_count": null,
   "id": "610a85fc",
   "metadata": {},
   "outputs": [],
   "source": [
    "import pandas as pd, numpy as np, matplotlib.pyplot as plt, seaborn as sns\n",
    "sns.set_theme()"
   ]
  },
  {
   "cell_type": "markdown",
   "id": "9df1ca2c",
   "metadata": {},
   "source": [
    "**Exercício 1**  \n",
    "Dica: Explore variáveis de espécie, massa corporal e comprimento de nadadeiras para hipóteses e K‑Means."
   ]
  },
  {
   "cell_type": "code",
   "execution_count": null,
   "id": "1e3c5ca5",
   "metadata": {},
   "outputs": [],
   "source": [
    "# Seu código aqui\n"
   ]
  },
  {
   "cell_type": "markdown",
   "id": "35a2dec0",
   "metadata": {},
   "source": [
    "**Exercício 2**  \n",
    "Dica: Explore variáveis de espécie, massa corporal e comprimento de nadadeiras para hipóteses e K‑Means."
   ]
  },
  {
   "cell_type": "code",
   "execution_count": null,
   "id": "191ec509",
   "metadata": {},
   "outputs": [],
   "source": [
    "# Seu código aqui\n"
   ]
  },
  {
   "cell_type": "markdown",
   "id": "4d151f52",
   "metadata": {},
   "source": [
    "**Exercício 3**  \n",
    "Dica: Explore variáveis de espécie, massa corporal e comprimento de nadadeiras para hipóteses e K‑Means."
   ]
  },
  {
   "cell_type": "code",
   "execution_count": null,
   "id": "9adb4d2b",
   "metadata": {},
   "outputs": [],
   "source": [
    "# Seu código aqui\n"
   ]
  },
  {
   "cell_type": "markdown",
   "id": "06c21b23",
   "metadata": {},
   "source": [
    "**Exercício 4**  \n",
    "Dica: Explore variáveis de espécie, massa corporal e comprimento de nadadeiras para hipóteses e K‑Means."
   ]
  },
  {
   "cell_type": "code",
   "execution_count": null,
   "id": "14e0d52c",
   "metadata": {},
   "outputs": [],
   "source": [
    "# Seu código aqui\n"
   ]
  },
  {
   "cell_type": "markdown",
   "id": "f8ff7441",
   "metadata": {},
   "source": [
    "**Exercício 5**  \n",
    "Dica: Explore variáveis de espécie, massa corporal e comprimento de nadadeiras para hipóteses e K‑Means."
   ]
  },
  {
   "cell_type": "code",
   "execution_count": null,
   "id": "fb18a73b",
   "metadata": {},
   "outputs": [],
   "source": [
    "# Seu código aqui\n"
   ]
  },
  {
   "cell_type": "markdown",
   "id": "cd7d6105",
   "metadata": {},
   "source": [
    "**Exercício 6**  \n",
    "Dica: Explore variáveis de espécie, massa corporal e comprimento de nadadeiras para hipóteses e K‑Means."
   ]
  },
  {
   "cell_type": "code",
   "execution_count": null,
   "id": "84787273",
   "metadata": {},
   "outputs": [],
   "source": [
    "# Seu código aqui\n"
   ]
  },
  {
   "cell_type": "markdown",
   "id": "33fb34db",
   "metadata": {},
   "source": [
    "**Exercício 7**  \n",
    "Dica: Explore variáveis de espécie, massa corporal e comprimento de nadadeiras para hipóteses e K‑Means."
   ]
  },
  {
   "cell_type": "code",
   "execution_count": null,
   "id": "d237b40e",
   "metadata": {},
   "outputs": [],
   "source": [
    "# Seu código aqui\n"
   ]
  },
  {
   "cell_type": "markdown",
   "id": "ad917cbf",
   "metadata": {},
   "source": [
    "**Exercício 8**  \n",
    "Dica: Explore variáveis de espécie, massa corporal e comprimento de nadadeiras para hipóteses e K‑Means."
   ]
  },
  {
   "cell_type": "code",
   "execution_count": null,
   "id": "a045532b",
   "metadata": {},
   "outputs": [],
   "source": [
    "# Seu código aqui\n"
   ]
  },
  {
   "cell_type": "markdown",
   "id": "0f95b038",
   "metadata": {},
   "source": [
    "**Exercício 9**  \n",
    "Dica: Explore variáveis de espécie, massa corporal e comprimento de nadadeiras para hipóteses e K‑Means."
   ]
  },
  {
   "cell_type": "code",
   "execution_count": null,
   "id": "a9b8dfe1",
   "metadata": {},
   "outputs": [],
   "source": [
    "# Seu código aqui\n"
   ]
  },
  {
   "cell_type": "markdown",
   "id": "15d98453",
   "metadata": {},
   "source": [
    "**Exercício 10**  \n",
    "Dica: Explore variáveis de espécie, massa corporal e comprimento de nadadeiras para hipóteses e K‑Means."
   ]
  },
  {
   "cell_type": "code",
   "execution_count": null,
   "id": "45845cfa",
   "metadata": {},
   "outputs": [],
   "source": [
    "# Seu código aqui\n"
   ]
  },
  {
   "cell_type": "markdown",
   "id": "162fe770",
   "metadata": {},
   "source": [
    "**Exercício 11**  \n",
    "Dica: Explore variáveis de espécie, massa corporal e comprimento de nadadeiras para hipóteses e K‑Means."
   ]
  },
  {
   "cell_type": "code",
   "execution_count": null,
   "id": "e9e5f84f",
   "metadata": {},
   "outputs": [],
   "source": [
    "# Seu código aqui\n"
   ]
  },
  {
   "cell_type": "markdown",
   "id": "70fa2459",
   "metadata": {},
   "source": [
    "**Exercício 12**  \n",
    "Dica: Explore variáveis de espécie, massa corporal e comprimento de nadadeiras para hipóteses e K‑Means."
   ]
  },
  {
   "cell_type": "code",
   "execution_count": null,
   "id": "13feb6c8",
   "metadata": {},
   "outputs": [],
   "source": [
    "# Seu código aqui\n"
   ]
  },
  {
   "cell_type": "markdown",
   "id": "36c4a10a",
   "metadata": {},
   "source": [
    "**Exercício 13**  \n",
    "Dica: Explore variáveis de espécie, massa corporal e comprimento de nadadeiras para hipóteses e K‑Means."
   ]
  },
  {
   "cell_type": "code",
   "execution_count": null,
   "id": "bd6f356c",
   "metadata": {},
   "outputs": [],
   "source": [
    "# Seu código aqui\n"
   ]
  },
  {
   "cell_type": "markdown",
   "id": "df6379fb",
   "metadata": {},
   "source": [
    "**Exercício 14**  \n",
    "Dica: Explore variáveis de espécie, massa corporal e comprimento de nadadeiras para hipóteses e K‑Means."
   ]
  },
  {
   "cell_type": "code",
   "execution_count": null,
   "id": "32ffde6d",
   "metadata": {},
   "outputs": [],
   "source": [
    "# Seu código aqui\n"
   ]
  },
  {
   "cell_type": "markdown",
   "id": "6ce45bc1",
   "metadata": {},
   "source": [
    "**Exercício 15**  \n",
    "Dica: Explore variáveis de espécie, massa corporal e comprimento de nadadeiras para hipóteses e K‑Means."
   ]
  },
  {
   "cell_type": "code",
   "execution_count": null,
   "id": "caf9084d",
   "metadata": {},
   "outputs": [],
   "source": [
    "# Seu código aqui\n"
   ]
  },
  {
   "cell_type": "markdown",
   "id": "7d0ac710",
   "metadata": {},
   "source": [
    "**Exercício 16**  \n",
    "Dica: Explore variáveis de espécie, massa corporal e comprimento de nadadeiras para hipóteses e K‑Means."
   ]
  },
  {
   "cell_type": "code",
   "execution_count": null,
   "id": "bf933ebf",
   "metadata": {},
   "outputs": [],
   "source": [
    "# Seu código aqui\n"
   ]
  },
  {
   "cell_type": "markdown",
   "id": "bc3af1e3",
   "metadata": {},
   "source": [
    "**Exercício 17**  \n",
    "Dica: Explore variáveis de espécie, massa corporal e comprimento de nadadeiras para hipóteses e K‑Means."
   ]
  },
  {
   "cell_type": "code",
   "execution_count": null,
   "id": "8beada6d",
   "metadata": {},
   "outputs": [],
   "source": [
    "# Seu código aqui\n"
   ]
  },
  {
   "cell_type": "markdown",
   "id": "2881debc",
   "metadata": {},
   "source": [
    "**Exercício 18**  \n",
    "Dica: Explore variáveis de espécie, massa corporal e comprimento de nadadeiras para hipóteses e K‑Means."
   ]
  },
  {
   "cell_type": "code",
   "execution_count": null,
   "id": "106f711e",
   "metadata": {},
   "outputs": [],
   "source": [
    "# Seu código aqui\n"
   ]
  },
  {
   "cell_type": "markdown",
   "id": "07683c4c",
   "metadata": {},
   "source": [
    "**Exercício 19**  \n",
    "Dica: Explore variáveis de espécie, massa corporal e comprimento de nadadeiras para hipóteses e K‑Means."
   ]
  },
  {
   "cell_type": "code",
   "execution_count": null,
   "id": "6d0116b1",
   "metadata": {},
   "outputs": [],
   "source": [
    "# Seu código aqui\n"
   ]
  },
  {
   "cell_type": "markdown",
   "id": "df7b7bd9",
   "metadata": {},
   "source": [
    "**Exercício 20**  \n",
    "Dica: Explore variáveis de espécie, massa corporal e comprimento de nadadeiras para hipóteses e K‑Means."
   ]
  },
  {
   "cell_type": "code",
   "execution_count": null,
   "id": "7f67ad2d",
   "metadata": {},
   "outputs": [],
   "source": [
    "# Seu código aqui\n"
   ]
  },
  {
   "cell_type": "markdown",
   "id": "850d1b8b",
   "metadata": {},
   "source": [
    "**Exercício 21**  \n",
    "Dica: Explore variáveis de espécie, massa corporal e comprimento de nadadeiras para hipóteses e K‑Means."
   ]
  },
  {
   "cell_type": "code",
   "execution_count": null,
   "id": "abf644e9",
   "metadata": {},
   "outputs": [],
   "source": [
    "# Seu código aqui\n"
   ]
  },
  {
   "cell_type": "markdown",
   "id": "67b21ec3",
   "metadata": {},
   "source": [
    "**Exercício 22**  \n",
    "Dica: Explore variáveis de espécie, massa corporal e comprimento de nadadeiras para hipóteses e K‑Means."
   ]
  },
  {
   "cell_type": "code",
   "execution_count": null,
   "id": "794cb9bc",
   "metadata": {},
   "outputs": [],
   "source": [
    "# Seu código aqui\n"
   ]
  },
  {
   "cell_type": "markdown",
   "id": "416dd013",
   "metadata": {},
   "source": [
    "**Exercício 23**  \n",
    "Dica: Explore variáveis de espécie, massa corporal e comprimento de nadadeiras para hipóteses e K‑Means."
   ]
  },
  {
   "cell_type": "code",
   "execution_count": null,
   "id": "3d03207d",
   "metadata": {},
   "outputs": [],
   "source": [
    "# Seu código aqui\n"
   ]
  },
  {
   "cell_type": "markdown",
   "id": "43c82ad5",
   "metadata": {},
   "source": [
    "**Exercício 24**  \n",
    "Dica: Explore variáveis de espécie, massa corporal e comprimento de nadadeiras para hipóteses e K‑Means."
   ]
  },
  {
   "cell_type": "code",
   "execution_count": null,
   "id": "e05cc25d",
   "metadata": {},
   "outputs": [],
   "source": [
    "# Seu código aqui\n"
   ]
  },
  {
   "cell_type": "markdown",
   "id": "12795bd0",
   "metadata": {},
   "source": [
    "**Exercício 25**  \n",
    "Dica: Explore variáveis de espécie, massa corporal e comprimento de nadadeiras para hipóteses e K‑Means."
   ]
  },
  {
   "cell_type": "code",
   "execution_count": null,
   "id": "ac9e0f6e",
   "metadata": {},
   "outputs": [],
   "source": [
    "# Seu código aqui\n"
   ]
  },
  {
   "cell_type": "markdown",
   "id": "884310dc",
   "metadata": {},
   "source": [
    "**Exercício 26**  \n",
    "Dica: Explore variáveis de espécie, massa corporal e comprimento de nadadeiras para hipóteses e K‑Means."
   ]
  },
  {
   "cell_type": "code",
   "execution_count": null,
   "id": "71615b98",
   "metadata": {},
   "outputs": [],
   "source": [
    "# Seu código aqui\n"
   ]
  },
  {
   "cell_type": "markdown",
   "id": "80be148a",
   "metadata": {},
   "source": [
    "**Exercício 27**  \n",
    "Dica: Explore variáveis de espécie, massa corporal e comprimento de nadadeiras para hipóteses e K‑Means."
   ]
  },
  {
   "cell_type": "code",
   "execution_count": null,
   "id": "7938218a",
   "metadata": {},
   "outputs": [],
   "source": [
    "# Seu código aqui\n"
   ]
  },
  {
   "cell_type": "markdown",
   "id": "c4a7570a",
   "metadata": {},
   "source": [
    "**Exercício 28**  \n",
    "Dica: Explore variáveis de espécie, massa corporal e comprimento de nadadeiras para hipóteses e K‑Means."
   ]
  },
  {
   "cell_type": "code",
   "execution_count": null,
   "id": "25cfc3e1",
   "metadata": {},
   "outputs": [],
   "source": [
    "# Seu código aqui\n"
   ]
  },
  {
   "cell_type": "markdown",
   "id": "79a6b9a9",
   "metadata": {},
   "source": [
    "**Exercício 29**  \n",
    "Dica: Explore variáveis de espécie, massa corporal e comprimento de nadadeiras para hipóteses e K‑Means."
   ]
  },
  {
   "cell_type": "code",
   "execution_count": null,
   "id": "0dca6512",
   "metadata": {},
   "outputs": [],
   "source": [
    "# Seu código aqui\n"
   ]
  },
  {
   "cell_type": "markdown",
   "id": "3723d2de",
   "metadata": {},
   "source": [
    "**Exercício 30**  \n",
    "Dica: Explore variáveis de espécie, massa corporal e comprimento de nadadeiras para hipóteses e K‑Means."
   ]
  },
  {
   "cell_type": "code",
   "execution_count": null,
   "id": "337a2ad1",
   "metadata": {},
   "outputs": [],
   "source": [
    "# Seu código aqui\n"
   ]
  },
  {
   "cell_type": "markdown",
   "id": "1de84937",
   "metadata": {},
   "source": [
    "**Exercício 31**  \n",
    "Dica: Explore variáveis de espécie, massa corporal e comprimento de nadadeiras para hipóteses e K‑Means."
   ]
  },
  {
   "cell_type": "code",
   "execution_count": null,
   "id": "83b90022",
   "metadata": {},
   "outputs": [],
   "source": [
    "# Seu código aqui\n"
   ]
  },
  {
   "cell_type": "markdown",
   "id": "1c983ca5",
   "metadata": {},
   "source": [
    "**Exercício 32**  \n",
    "Dica: Explore variáveis de espécie, massa corporal e comprimento de nadadeiras para hipóteses e K‑Means."
   ]
  },
  {
   "cell_type": "code",
   "execution_count": null,
   "id": "016c365d",
   "metadata": {},
   "outputs": [],
   "source": [
    "# Seu código aqui\n"
   ]
  },
  {
   "cell_type": "markdown",
   "id": "526c995f",
   "metadata": {},
   "source": [
    "**Exercício 33**  \n",
    "Dica: Explore variáveis de espécie, massa corporal e comprimento de nadadeiras para hipóteses e K‑Means."
   ]
  },
  {
   "cell_type": "code",
   "execution_count": null,
   "id": "0f7ac549",
   "metadata": {},
   "outputs": [],
   "source": [
    "# Seu código aqui\n"
   ]
  },
  {
   "cell_type": "markdown",
   "id": "c4743706",
   "metadata": {},
   "source": [
    "**Exercício 34**  \n",
    "Dica: Explore variáveis de espécie, massa corporal e comprimento de nadadeiras para hipóteses e K‑Means."
   ]
  },
  {
   "cell_type": "code",
   "execution_count": null,
   "id": "ff3930a0",
   "metadata": {},
   "outputs": [],
   "source": [
    "# Seu código aqui\n"
   ]
  },
  {
   "cell_type": "markdown",
   "id": "a3e996c7",
   "metadata": {},
   "source": [
    "**Exercício 35**  \n",
    "Dica: Explore variáveis de espécie, massa corporal e comprimento de nadadeiras para hipóteses e K‑Means."
   ]
  },
  {
   "cell_type": "code",
   "execution_count": null,
   "id": "0d043d71",
   "metadata": {},
   "outputs": [],
   "source": [
    "# Seu código aqui\n"
   ]
  },
  {
   "cell_type": "markdown",
   "id": "23db8964",
   "metadata": {},
   "source": [
    "**Exercício 36**  \n",
    "Dica: Explore variáveis de espécie, massa corporal e comprimento de nadadeiras para hipóteses e K‑Means."
   ]
  },
  {
   "cell_type": "code",
   "execution_count": null,
   "id": "937df09c",
   "metadata": {},
   "outputs": [],
   "source": [
    "# Seu código aqui\n"
   ]
  },
  {
   "cell_type": "markdown",
   "id": "9a070572",
   "metadata": {},
   "source": [
    "**Exercício 37**  \n",
    "Dica: Explore variáveis de espécie, massa corporal e comprimento de nadadeiras para hipóteses e K‑Means."
   ]
  },
  {
   "cell_type": "code",
   "execution_count": null,
   "id": "f08abb0e",
   "metadata": {},
   "outputs": [],
   "source": [
    "# Seu código aqui\n"
   ]
  },
  {
   "cell_type": "markdown",
   "id": "585660ae",
   "metadata": {},
   "source": [
    "**Exercício 38**  \n",
    "Dica: Explore variáveis de espécie, massa corporal e comprimento de nadadeiras para hipóteses e K‑Means."
   ]
  },
  {
   "cell_type": "code",
   "execution_count": null,
   "id": "4d2adc2c",
   "metadata": {},
   "outputs": [],
   "source": [
    "# Seu código aqui\n"
   ]
  },
  {
   "cell_type": "markdown",
   "id": "c9b6af36",
   "metadata": {},
   "source": [
    "**Exercício 39**  \n",
    "Dica: Explore variáveis de espécie, massa corporal e comprimento de nadadeiras para hipóteses e K‑Means."
   ]
  },
  {
   "cell_type": "code",
   "execution_count": null,
   "id": "182352c9",
   "metadata": {},
   "outputs": [],
   "source": [
    "# Seu código aqui\n"
   ]
  },
  {
   "cell_type": "markdown",
   "id": "8476d38e",
   "metadata": {},
   "source": [
    "**Exercício 40**  \n",
    "Dica: Explore variáveis de espécie, massa corporal e comprimento de nadadeiras para hipóteses e K‑Means."
   ]
  },
  {
   "cell_type": "code",
   "execution_count": null,
   "id": "659eb266",
   "metadata": {},
   "outputs": [],
   "source": [
    "# Seu código aqui\n"
   ]
  },
  {
   "cell_type": "markdown",
   "id": "eb743a99",
   "metadata": {},
   "source": [
    "**Exercício 41**  \n",
    "Dica: Explore variáveis de espécie, massa corporal e comprimento de nadadeiras para hipóteses e K‑Means."
   ]
  },
  {
   "cell_type": "code",
   "execution_count": null,
   "id": "007938ef",
   "metadata": {},
   "outputs": [],
   "source": [
    "# Seu código aqui\n"
   ]
  },
  {
   "cell_type": "markdown",
   "id": "78cf3794",
   "metadata": {},
   "source": [
    "**Exercício 42**  \n",
    "Dica: Explore variáveis de espécie, massa corporal e comprimento de nadadeiras para hipóteses e K‑Means."
   ]
  },
  {
   "cell_type": "code",
   "execution_count": null,
   "id": "dd0d2f68",
   "metadata": {},
   "outputs": [],
   "source": [
    "# Seu código aqui\n"
   ]
  },
  {
   "cell_type": "markdown",
   "id": "940e0a0b",
   "metadata": {},
   "source": [
    "**Exercício 43**  \n",
    "Dica: Explore variáveis de espécie, massa corporal e comprimento de nadadeiras para hipóteses e K‑Means."
   ]
  },
  {
   "cell_type": "code",
   "execution_count": null,
   "id": "cd111893",
   "metadata": {},
   "outputs": [],
   "source": [
    "# Seu código aqui\n"
   ]
  },
  {
   "cell_type": "markdown",
   "id": "259cfd48",
   "metadata": {},
   "source": [
    "**Exercício 44**  \n",
    "Dica: Explore variáveis de espécie, massa corporal e comprimento de nadadeiras para hipóteses e K‑Means."
   ]
  },
  {
   "cell_type": "code",
   "execution_count": null,
   "id": "4965aecd",
   "metadata": {},
   "outputs": [],
   "source": [
    "# Seu código aqui\n"
   ]
  },
  {
   "cell_type": "markdown",
   "id": "e8e277fb",
   "metadata": {},
   "source": [
    "**Exercício 45**  \n",
    "Dica: Explore variáveis de espécie, massa corporal e comprimento de nadadeiras para hipóteses e K‑Means."
   ]
  },
  {
   "cell_type": "code",
   "execution_count": null,
   "id": "f43ee590",
   "metadata": {},
   "outputs": [],
   "source": [
    "# Seu código aqui\n"
   ]
  },
  {
   "cell_type": "markdown",
   "id": "8731075e",
   "metadata": {},
   "source": [
    "**Exercício 46**  \n",
    "Dica: Explore variáveis de espécie, massa corporal e comprimento de nadadeiras para hipóteses e K‑Means."
   ]
  },
  {
   "cell_type": "code",
   "execution_count": null,
   "id": "2dfcd93d",
   "metadata": {},
   "outputs": [],
   "source": [
    "# Seu código aqui\n"
   ]
  },
  {
   "cell_type": "markdown",
   "id": "549143f2",
   "metadata": {},
   "source": [
    "**Exercício 47**  \n",
    "Dica: Explore variáveis de espécie, massa corporal e comprimento de nadadeiras para hipóteses e K‑Means."
   ]
  },
  {
   "cell_type": "code",
   "execution_count": null,
   "id": "7d673748",
   "metadata": {},
   "outputs": [],
   "source": [
    "# Seu código aqui\n"
   ]
  },
  {
   "cell_type": "markdown",
   "id": "15db0d53",
   "metadata": {},
   "source": [
    "**Exercício 48**  \n",
    "Dica: Explore variáveis de espécie, massa corporal e comprimento de nadadeiras para hipóteses e K‑Means."
   ]
  },
  {
   "cell_type": "code",
   "execution_count": null,
   "id": "f4f96e7a",
   "metadata": {},
   "outputs": [],
   "source": [
    "# Seu código aqui\n"
   ]
  },
  {
   "cell_type": "markdown",
   "id": "48e4f7e1",
   "metadata": {},
   "source": [
    "**Exercício 49**  \n",
    "Dica: Explore variáveis de espécie, massa corporal e comprimento de nadadeiras para hipóteses e K‑Means."
   ]
  },
  {
   "cell_type": "code",
   "execution_count": null,
   "id": "5671b4aa",
   "metadata": {},
   "outputs": [],
   "source": [
    "# Seu código aqui\n"
   ]
  },
  {
   "cell_type": "markdown",
   "id": "3bc4dabb",
   "metadata": {},
   "source": [
    "**Exercício 50**  \n",
    "Dica: Explore variáveis de espécie, massa corporal e comprimento de nadadeiras para hipóteses e K‑Means."
   ]
  },
  {
   "cell_type": "code",
   "execution_count": null,
   "id": "65e1eba9",
   "metadata": {},
   "outputs": [],
   "source": [
    "# Seu código aqui\n"
   ]
  },
  {
   "cell_type": "markdown",
   "id": "c98d5be8",
   "metadata": {},
   "source": [
    "**Exercício 51**  \n",
    "Dica: Explore variáveis de espécie, massa corporal e comprimento de nadadeiras para hipóteses e K‑Means."
   ]
  },
  {
   "cell_type": "code",
   "execution_count": null,
   "id": "a2793a0f",
   "metadata": {},
   "outputs": [],
   "source": [
    "# Seu código aqui\n"
   ]
  },
  {
   "cell_type": "markdown",
   "id": "bff00425",
   "metadata": {},
   "source": [
    "**Exercício 52**  \n",
    "Dica: Explore variáveis de espécie, massa corporal e comprimento de nadadeiras para hipóteses e K‑Means."
   ]
  },
  {
   "cell_type": "code",
   "execution_count": null,
   "id": "75140d02",
   "metadata": {},
   "outputs": [],
   "source": [
    "# Seu código aqui\n"
   ]
  },
  {
   "cell_type": "markdown",
   "id": "00ea5fdf",
   "metadata": {},
   "source": [
    "**Exercício 53**  \n",
    "Dica: Explore variáveis de espécie, massa corporal e comprimento de nadadeiras para hipóteses e K‑Means."
   ]
  },
  {
   "cell_type": "code",
   "execution_count": null,
   "id": "c0bc39d4",
   "metadata": {},
   "outputs": [],
   "source": [
    "# Seu código aqui\n"
   ]
  },
  {
   "cell_type": "markdown",
   "id": "fd1f4cb0",
   "metadata": {},
   "source": [
    "**Exercício 54**  \n",
    "Dica: Explore variáveis de espécie, massa corporal e comprimento de nadadeiras para hipóteses e K‑Means."
   ]
  },
  {
   "cell_type": "code",
   "execution_count": null,
   "id": "143400d2",
   "metadata": {},
   "outputs": [],
   "source": [
    "# Seu código aqui\n"
   ]
  },
  {
   "cell_type": "markdown",
   "id": "a2dc0f03",
   "metadata": {},
   "source": [
    "**Exercício 55**  \n",
    "Dica: Explore variáveis de espécie, massa corporal e comprimento de nadadeiras para hipóteses e K‑Means."
   ]
  },
  {
   "cell_type": "code",
   "execution_count": null,
   "id": "1ccb3a57",
   "metadata": {},
   "outputs": [],
   "source": [
    "# Seu código aqui\n"
   ]
  },
  {
   "cell_type": "markdown",
   "id": "1732e469",
   "metadata": {},
   "source": [
    "**Exercício 56**  \n",
    "Dica: Explore variáveis de espécie, massa corporal e comprimento de nadadeiras para hipóteses e K‑Means."
   ]
  },
  {
   "cell_type": "code",
   "execution_count": null,
   "id": "075eb599",
   "metadata": {},
   "outputs": [],
   "source": [
    "# Seu código aqui\n"
   ]
  },
  {
   "cell_type": "markdown",
   "id": "db547454",
   "metadata": {},
   "source": [
    "**Exercício 57**  \n",
    "Dica: Explore variáveis de espécie, massa corporal e comprimento de nadadeiras para hipóteses e K‑Means."
   ]
  },
  {
   "cell_type": "code",
   "execution_count": null,
   "id": "0e3214b4",
   "metadata": {},
   "outputs": [],
   "source": [
    "# Seu código aqui\n"
   ]
  },
  {
   "cell_type": "markdown",
   "id": "cb0e8d61",
   "metadata": {},
   "source": [
    "**Exercício 58**  \n",
    "Dica: Explore variáveis de espécie, massa corporal e comprimento de nadadeiras para hipóteses e K‑Means."
   ]
  },
  {
   "cell_type": "code",
   "execution_count": null,
   "id": "92510646",
   "metadata": {},
   "outputs": [],
   "source": [
    "# Seu código aqui\n"
   ]
  },
  {
   "cell_type": "markdown",
   "id": "b19a7752",
   "metadata": {},
   "source": [
    "**Exercício 59**  \n",
    "Dica: Explore variáveis de espécie, massa corporal e comprimento de nadadeiras para hipóteses e K‑Means."
   ]
  },
  {
   "cell_type": "code",
   "execution_count": null,
   "id": "bc04424e",
   "metadata": {},
   "outputs": [],
   "source": [
    "# Seu código aqui\n"
   ]
  },
  {
   "cell_type": "markdown",
   "id": "4ff29025",
   "metadata": {},
   "source": [
    "**Exercício 60**  \n",
    "Dica: Explore variáveis de espécie, massa corporal e comprimento de nadadeiras para hipóteses e K‑Means."
   ]
  },
  {
   "cell_type": "code",
   "execution_count": null,
   "id": "0137be06",
   "metadata": {},
   "outputs": [],
   "source": [
    "# Seu código aqui\n"
   ]
  },
  {
   "cell_type": "markdown",
   "id": "187d704a",
   "metadata": {},
   "source": [
    "**Exercício 61**  \n",
    "Dica: Explore variáveis de espécie, massa corporal e comprimento de nadadeiras para hipóteses e K‑Means."
   ]
  },
  {
   "cell_type": "code",
   "execution_count": null,
   "id": "1fe62036",
   "metadata": {},
   "outputs": [],
   "source": [
    "# Seu código aqui\n"
   ]
  },
  {
   "cell_type": "markdown",
   "id": "7c0f60a0",
   "metadata": {},
   "source": [
    "**Exercício 62**  \n",
    "Dica: Explore variáveis de espécie, massa corporal e comprimento de nadadeiras para hipóteses e K‑Means."
   ]
  },
  {
   "cell_type": "code",
   "execution_count": null,
   "id": "be2464eb",
   "metadata": {},
   "outputs": [],
   "source": [
    "# Seu código aqui\n"
   ]
  },
  {
   "cell_type": "markdown",
   "id": "1decf10c",
   "metadata": {},
   "source": [
    "**Exercício 63**  \n",
    "Dica: Explore variáveis de espécie, massa corporal e comprimento de nadadeiras para hipóteses e K‑Means."
   ]
  },
  {
   "cell_type": "code",
   "execution_count": null,
   "id": "1e654c85",
   "metadata": {},
   "outputs": [],
   "source": [
    "# Seu código aqui\n"
   ]
  },
  {
   "cell_type": "markdown",
   "id": "ba74f6a8",
   "metadata": {},
   "source": [
    "**Exercício 64**  \n",
    "Dica: Explore variáveis de espécie, massa corporal e comprimento de nadadeiras para hipóteses e K‑Means."
   ]
  },
  {
   "cell_type": "code",
   "execution_count": null,
   "id": "d3617b4c",
   "metadata": {},
   "outputs": [],
   "source": [
    "# Seu código aqui\n"
   ]
  },
  {
   "cell_type": "markdown",
   "id": "926f1cb9",
   "metadata": {},
   "source": [
    "**Exercício 65**  \n",
    "Dica: Explore variáveis de espécie, massa corporal e comprimento de nadadeiras para hipóteses e K‑Means."
   ]
  },
  {
   "cell_type": "code",
   "execution_count": null,
   "id": "0eb71532",
   "metadata": {},
   "outputs": [],
   "source": [
    "# Seu código aqui\n"
   ]
  },
  {
   "cell_type": "markdown",
   "id": "62725070",
   "metadata": {},
   "source": [
    "**Exercício 66**  \n",
    "Dica: Explore variáveis de espécie, massa corporal e comprimento de nadadeiras para hipóteses e K‑Means."
   ]
  },
  {
   "cell_type": "code",
   "execution_count": null,
   "id": "745bba31",
   "metadata": {},
   "outputs": [],
   "source": [
    "# Seu código aqui\n"
   ]
  },
  {
   "cell_type": "markdown",
   "id": "683fff92",
   "metadata": {},
   "source": [
    "**Exercício 67**  \n",
    "Dica: Explore variáveis de espécie, massa corporal e comprimento de nadadeiras para hipóteses e K‑Means."
   ]
  },
  {
   "cell_type": "code",
   "execution_count": null,
   "id": "e0ca0fbb",
   "metadata": {},
   "outputs": [],
   "source": [
    "# Seu código aqui\n"
   ]
  },
  {
   "cell_type": "markdown",
   "id": "14c1ba9b",
   "metadata": {},
   "source": [
    "**Exercício 68**  \n",
    "Dica: Explore variáveis de espécie, massa corporal e comprimento de nadadeiras para hipóteses e K‑Means."
   ]
  },
  {
   "cell_type": "code",
   "execution_count": null,
   "id": "8eb8e623",
   "metadata": {},
   "outputs": [],
   "source": [
    "# Seu código aqui\n"
   ]
  },
  {
   "cell_type": "markdown",
   "id": "fb78777a",
   "metadata": {},
   "source": [
    "**Exercício 69**  \n",
    "Dica: Explore variáveis de espécie, massa corporal e comprimento de nadadeiras para hipóteses e K‑Means."
   ]
  },
  {
   "cell_type": "code",
   "execution_count": null,
   "id": "633973b3",
   "metadata": {},
   "outputs": [],
   "source": [
    "# Seu código aqui\n"
   ]
  },
  {
   "cell_type": "markdown",
   "id": "94d6395c",
   "metadata": {},
   "source": [
    "**Exercício 70**  \n",
    "Dica: Explore variáveis de espécie, massa corporal e comprimento de nadadeiras para hipóteses e K‑Means."
   ]
  },
  {
   "cell_type": "code",
   "execution_count": null,
   "id": "90d1f91a",
   "metadata": {},
   "outputs": [],
   "source": [
    "# Seu código aqui\n"
   ]
  },
  {
   "cell_type": "markdown",
   "id": "e3173e8d",
   "metadata": {},
   "source": [
    "**Exercício 71**  \n",
    "Dica: Explore variáveis de espécie, massa corporal e comprimento de nadadeiras para hipóteses e K‑Means."
   ]
  },
  {
   "cell_type": "code",
   "execution_count": null,
   "id": "257a937c",
   "metadata": {},
   "outputs": [],
   "source": [
    "# Seu código aqui\n"
   ]
  },
  {
   "cell_type": "markdown",
   "id": "f79391cd",
   "metadata": {},
   "source": [
    "**Exercício 72**  \n",
    "Dica: Explore variáveis de espécie, massa corporal e comprimento de nadadeiras para hipóteses e K‑Means."
   ]
  },
  {
   "cell_type": "code",
   "execution_count": null,
   "id": "8d6e808c",
   "metadata": {},
   "outputs": [],
   "source": [
    "# Seu código aqui\n"
   ]
  },
  {
   "cell_type": "markdown",
   "id": "86744c37",
   "metadata": {},
   "source": [
    "**Exercício 73**  \n",
    "Dica: Explore variáveis de espécie, massa corporal e comprimento de nadadeiras para hipóteses e K‑Means."
   ]
  },
  {
   "cell_type": "code",
   "execution_count": null,
   "id": "de3c79b5",
   "metadata": {},
   "outputs": [],
   "source": [
    "# Seu código aqui\n"
   ]
  },
  {
   "cell_type": "markdown",
   "id": "e616ef37",
   "metadata": {},
   "source": [
    "**Exercício 74**  \n",
    "Dica: Explore variáveis de espécie, massa corporal e comprimento de nadadeiras para hipóteses e K‑Means."
   ]
  },
  {
   "cell_type": "code",
   "execution_count": null,
   "id": "4f6bcaec",
   "metadata": {},
   "outputs": [],
   "source": [
    "# Seu código aqui\n"
   ]
  },
  {
   "cell_type": "markdown",
   "id": "da0bde25",
   "metadata": {},
   "source": [
    "**Exercício 75**  \n",
    "Dica: Explore variáveis de espécie, massa corporal e comprimento de nadadeiras para hipóteses e K‑Means."
   ]
  },
  {
   "cell_type": "code",
   "execution_count": null,
   "id": "b1288534",
   "metadata": {},
   "outputs": [],
   "source": [
    "# Seu código aqui\n"
   ]
  },
  {
   "cell_type": "markdown",
   "id": "cba93bcb",
   "metadata": {},
   "source": [
    "**Exercício 76**  \n",
    "Dica: Explore variáveis de espécie, massa corporal e comprimento de nadadeiras para hipóteses e K‑Means."
   ]
  },
  {
   "cell_type": "code",
   "execution_count": null,
   "id": "5fa4491c",
   "metadata": {},
   "outputs": [],
   "source": [
    "# Seu código aqui\n"
   ]
  },
  {
   "cell_type": "markdown",
   "id": "de5a8e32",
   "metadata": {},
   "source": [
    "**Exercício 77**  \n",
    "Dica: Explore variáveis de espécie, massa corporal e comprimento de nadadeiras para hipóteses e K‑Means."
   ]
  },
  {
   "cell_type": "code",
   "execution_count": null,
   "id": "f244bfcc",
   "metadata": {},
   "outputs": [],
   "source": [
    "# Seu código aqui\n"
   ]
  },
  {
   "cell_type": "markdown",
   "id": "616dc6de",
   "metadata": {},
   "source": [
    "**Exercício 78**  \n",
    "Dica: Explore variáveis de espécie, massa corporal e comprimento de nadadeiras para hipóteses e K‑Means."
   ]
  },
  {
   "cell_type": "code",
   "execution_count": null,
   "id": "7f683d54",
   "metadata": {},
   "outputs": [],
   "source": [
    "# Seu código aqui\n"
   ]
  },
  {
   "cell_type": "markdown",
   "id": "c423a066",
   "metadata": {},
   "source": [
    "**Exercício 79**  \n",
    "Dica: Explore variáveis de espécie, massa corporal e comprimento de nadadeiras para hipóteses e K‑Means."
   ]
  },
  {
   "cell_type": "code",
   "execution_count": null,
   "id": "f8f83669",
   "metadata": {},
   "outputs": [],
   "source": [
    "# Seu código aqui\n"
   ]
  },
  {
   "cell_type": "markdown",
   "id": "32284ead",
   "metadata": {},
   "source": [
    "**Exercício 80**  \n",
    "Dica: Explore variáveis de espécie, massa corporal e comprimento de nadadeiras para hipóteses e K‑Means."
   ]
  },
  {
   "cell_type": "code",
   "execution_count": null,
   "id": "bd40dbcc",
   "metadata": {},
   "outputs": [],
   "source": [
    "# Seu código aqui\n"
   ]
  },
  {
   "cell_type": "markdown",
   "id": "869ddfdc",
   "metadata": {},
   "source": [
    "**Exercício 81**  \n",
    "Dica: Explore variáveis de espécie, massa corporal e comprimento de nadadeiras para hipóteses e K‑Means."
   ]
  },
  {
   "cell_type": "code",
   "execution_count": null,
   "id": "60197272",
   "metadata": {},
   "outputs": [],
   "source": [
    "# Seu código aqui\n"
   ]
  },
  {
   "cell_type": "markdown",
   "id": "7387e89b",
   "metadata": {},
   "source": [
    "**Exercício 82**  \n",
    "Dica: Explore variáveis de espécie, massa corporal e comprimento de nadadeiras para hipóteses e K‑Means."
   ]
  },
  {
   "cell_type": "code",
   "execution_count": null,
   "id": "88ec89a7",
   "metadata": {},
   "outputs": [],
   "source": [
    "# Seu código aqui\n"
   ]
  },
  {
   "cell_type": "markdown",
   "id": "4ff53fa9",
   "metadata": {},
   "source": [
    "**Exercício 83**  \n",
    "Dica: Explore variáveis de espécie, massa corporal e comprimento de nadadeiras para hipóteses e K‑Means."
   ]
  },
  {
   "cell_type": "code",
   "execution_count": null,
   "id": "ee9f6e92",
   "metadata": {},
   "outputs": [],
   "source": [
    "# Seu código aqui\n"
   ]
  },
  {
   "cell_type": "markdown",
   "id": "75f00249",
   "metadata": {},
   "source": [
    "**Exercício 84**  \n",
    "Dica: Explore variáveis de espécie, massa corporal e comprimento de nadadeiras para hipóteses e K‑Means."
   ]
  },
  {
   "cell_type": "code",
   "execution_count": null,
   "id": "b4b57fa4",
   "metadata": {},
   "outputs": [],
   "source": [
    "# Seu código aqui\n"
   ]
  },
  {
   "cell_type": "markdown",
   "id": "b87e1af9",
   "metadata": {},
   "source": [
    "**Exercício 85**  \n",
    "Dica: Explore variáveis de espécie, massa corporal e comprimento de nadadeiras para hipóteses e K‑Means."
   ]
  },
  {
   "cell_type": "code",
   "execution_count": null,
   "id": "f80ef905",
   "metadata": {},
   "outputs": [],
   "source": [
    "# Seu código aqui\n"
   ]
  },
  {
   "cell_type": "markdown",
   "id": "8815e6b5",
   "metadata": {},
   "source": [
    "**Exercício 86**  \n",
    "Dica: Explore variáveis de espécie, massa corporal e comprimento de nadadeiras para hipóteses e K‑Means."
   ]
  },
  {
   "cell_type": "code",
   "execution_count": null,
   "id": "abb3d3dd",
   "metadata": {},
   "outputs": [],
   "source": [
    "# Seu código aqui\n"
   ]
  },
  {
   "cell_type": "markdown",
   "id": "59189c9f",
   "metadata": {},
   "source": [
    "**Exercício 87**  \n",
    "Dica: Explore variáveis de espécie, massa corporal e comprimento de nadadeiras para hipóteses e K‑Means."
   ]
  },
  {
   "cell_type": "code",
   "execution_count": null,
   "id": "fdc03794",
   "metadata": {},
   "outputs": [],
   "source": [
    "# Seu código aqui\n"
   ]
  },
  {
   "cell_type": "markdown",
   "id": "21bdcb1a",
   "metadata": {},
   "source": [
    "**Exercício 88**  \n",
    "Dica: Explore variáveis de espécie, massa corporal e comprimento de nadadeiras para hipóteses e K‑Means."
   ]
  },
  {
   "cell_type": "code",
   "execution_count": null,
   "id": "2e3bb3f2",
   "metadata": {},
   "outputs": [],
   "source": [
    "# Seu código aqui\n"
   ]
  },
  {
   "cell_type": "markdown",
   "id": "c651f647",
   "metadata": {},
   "source": [
    "**Exercício 89**  \n",
    "Dica: Explore variáveis de espécie, massa corporal e comprimento de nadadeiras para hipóteses e K‑Means."
   ]
  },
  {
   "cell_type": "code",
   "execution_count": null,
   "id": "343f8cfa",
   "metadata": {},
   "outputs": [],
   "source": [
    "# Seu código aqui\n"
   ]
  },
  {
   "cell_type": "markdown",
   "id": "291f8b08",
   "metadata": {},
   "source": [
    "**Exercício 90**  \n",
    "Dica: Explore variáveis de espécie, massa corporal e comprimento de nadadeiras para hipóteses e K‑Means."
   ]
  },
  {
   "cell_type": "code",
   "execution_count": null,
   "id": "c450ead7",
   "metadata": {},
   "outputs": [],
   "source": [
    "# Seu código aqui\n"
   ]
  },
  {
   "cell_type": "markdown",
   "id": "f177dce5",
   "metadata": {},
   "source": [
    "**Exercício 91**  \n",
    "Dica: Explore variáveis de espécie, massa corporal e comprimento de nadadeiras para hipóteses e K‑Means."
   ]
  },
  {
   "cell_type": "code",
   "execution_count": null,
   "id": "567811c0",
   "metadata": {},
   "outputs": [],
   "source": [
    "# Seu código aqui\n"
   ]
  },
  {
   "cell_type": "markdown",
   "id": "058b57c5",
   "metadata": {},
   "source": [
    "**Exercício 92**  \n",
    "Dica: Explore variáveis de espécie, massa corporal e comprimento de nadadeiras para hipóteses e K‑Means."
   ]
  },
  {
   "cell_type": "code",
   "execution_count": null,
   "id": "d63a83d1",
   "metadata": {},
   "outputs": [],
   "source": [
    "# Seu código aqui\n"
   ]
  },
  {
   "cell_type": "markdown",
   "id": "e6e148bb",
   "metadata": {},
   "source": [
    "**Exercício 93**  \n",
    "Dica: Explore variáveis de espécie, massa corporal e comprimento de nadadeiras para hipóteses e K‑Means."
   ]
  },
  {
   "cell_type": "code",
   "execution_count": null,
   "id": "5d840147",
   "metadata": {},
   "outputs": [],
   "source": [
    "# Seu código aqui\n"
   ]
  },
  {
   "cell_type": "markdown",
   "id": "71316d59",
   "metadata": {},
   "source": [
    "**Exercício 94**  \n",
    "Dica: Explore variáveis de espécie, massa corporal e comprimento de nadadeiras para hipóteses e K‑Means."
   ]
  },
  {
   "cell_type": "code",
   "execution_count": null,
   "id": "52f7c6e2",
   "metadata": {},
   "outputs": [],
   "source": [
    "# Seu código aqui\n"
   ]
  },
  {
   "cell_type": "markdown",
   "id": "58921889",
   "metadata": {},
   "source": [
    "**Exercício 95**  \n",
    "Dica: Explore variáveis de espécie, massa corporal e comprimento de nadadeiras para hipóteses e K‑Means."
   ]
  },
  {
   "cell_type": "code",
   "execution_count": null,
   "id": "7d9ed9cf",
   "metadata": {},
   "outputs": [],
   "source": [
    "# Seu código aqui\n"
   ]
  },
  {
   "cell_type": "markdown",
   "id": "a3708399",
   "metadata": {},
   "source": [
    "**Exercício 96**  \n",
    "Dica: Explore variáveis de espécie, massa corporal e comprimento de nadadeiras para hipóteses e K‑Means."
   ]
  },
  {
   "cell_type": "code",
   "execution_count": null,
   "id": "ccbe5513",
   "metadata": {},
   "outputs": [],
   "source": [
    "# Seu código aqui\n"
   ]
  },
  {
   "cell_type": "markdown",
   "id": "80a204a9",
   "metadata": {},
   "source": [
    "**Exercício 97**  \n",
    "Dica: Explore variáveis de espécie, massa corporal e comprimento de nadadeiras para hipóteses e K‑Means."
   ]
  },
  {
   "cell_type": "code",
   "execution_count": null,
   "id": "1cc01db1",
   "metadata": {},
   "outputs": [],
   "source": [
    "# Seu código aqui\n"
   ]
  },
  {
   "cell_type": "markdown",
   "id": "314e0204",
   "metadata": {},
   "source": [
    "**Exercício 98**  \n",
    "Dica: Explore variáveis de espécie, massa corporal e comprimento de nadadeiras para hipóteses e K‑Means."
   ]
  },
  {
   "cell_type": "code",
   "execution_count": null,
   "id": "ce652e53",
   "metadata": {},
   "outputs": [],
   "source": [
    "# Seu código aqui\n"
   ]
  },
  {
   "cell_type": "markdown",
   "id": "ac6bf719",
   "metadata": {},
   "source": [
    "**Exercício 99**  \n",
    "Dica: Explore variáveis de espécie, massa corporal e comprimento de nadadeiras para hipóteses e K‑Means."
   ]
  },
  {
   "cell_type": "code",
   "execution_count": null,
   "id": "febfc8c0",
   "metadata": {},
   "outputs": [],
   "source": [
    "# Seu código aqui\n"
   ]
  },
  {
   "cell_type": "markdown",
   "id": "b7fdc963",
   "metadata": {},
   "source": [
    "**Exercício 100**  \n",
    "Dica: Explore variáveis de espécie, massa corporal e comprimento de nadadeiras para hipóteses e K‑Means."
   ]
  },
  {
   "cell_type": "code",
   "execution_count": null,
   "id": "bfe2710d",
   "metadata": {},
   "outputs": [],
   "source": [
    "# Seu código aqui\n"
   ]
  },
  {
   "cell_type": "markdown",
   "id": "d5bad185",
   "metadata": {},
   "source": [
    "**Exercício 101**  \n",
    "Dica: Explore variáveis de espécie, massa corporal e comprimento de nadadeiras para hipóteses e K‑Means."
   ]
  },
  {
   "cell_type": "code",
   "execution_count": null,
   "id": "94bfcf3c",
   "metadata": {},
   "outputs": [],
   "source": [
    "# Seu código aqui\n"
   ]
  },
  {
   "cell_type": "markdown",
   "id": "2d6ed48f",
   "metadata": {},
   "source": [
    "**Exercício 102**  \n",
    "Dica: Explore variáveis de espécie, massa corporal e comprimento de nadadeiras para hipóteses e K‑Means."
   ]
  },
  {
   "cell_type": "code",
   "execution_count": null,
   "id": "3ba51140",
   "metadata": {},
   "outputs": [],
   "source": [
    "# Seu código aqui\n"
   ]
  },
  {
   "cell_type": "markdown",
   "id": "7a506d00",
   "metadata": {},
   "source": [
    "**Exercício 103**  \n",
    "Dica: Explore variáveis de espécie, massa corporal e comprimento de nadadeiras para hipóteses e K‑Means."
   ]
  },
  {
   "cell_type": "code",
   "execution_count": null,
   "id": "00002a9f",
   "metadata": {},
   "outputs": [],
   "source": [
    "# Seu código aqui\n"
   ]
  },
  {
   "cell_type": "markdown",
   "id": "0d5d49cd",
   "metadata": {},
   "source": [
    "**Exercício 104**  \n",
    "Dica: Explore variáveis de espécie, massa corporal e comprimento de nadadeiras para hipóteses e K‑Means."
   ]
  },
  {
   "cell_type": "code",
   "execution_count": null,
   "id": "e0220e29",
   "metadata": {},
   "outputs": [],
   "source": [
    "# Seu código aqui\n"
   ]
  },
  {
   "cell_type": "markdown",
   "id": "f6ed3af8",
   "metadata": {},
   "source": [
    "**Exercício 105**  \n",
    "Dica: Explore variáveis de espécie, massa corporal e comprimento de nadadeiras para hipóteses e K‑Means."
   ]
  },
  {
   "cell_type": "code",
   "execution_count": null,
   "id": "bc3a4ced",
   "metadata": {},
   "outputs": [],
   "source": [
    "# Seu código aqui\n"
   ]
  },
  {
   "cell_type": "markdown",
   "id": "7ee33cf7",
   "metadata": {},
   "source": [
    "**Exercício 106**  \n",
    "Dica: Explore variáveis de espécie, massa corporal e comprimento de nadadeiras para hipóteses e K‑Means."
   ]
  },
  {
   "cell_type": "code",
   "execution_count": null,
   "id": "f96507e8",
   "metadata": {},
   "outputs": [],
   "source": [
    "# Seu código aqui\n"
   ]
  },
  {
   "cell_type": "markdown",
   "id": "0391d3a8",
   "metadata": {},
   "source": [
    "**Exercício 107**  \n",
    "Dica: Explore variáveis de espécie, massa corporal e comprimento de nadadeiras para hipóteses e K‑Means."
   ]
  },
  {
   "cell_type": "code",
   "execution_count": null,
   "id": "b2e2aaea",
   "metadata": {},
   "outputs": [],
   "source": [
    "# Seu código aqui\n"
   ]
  },
  {
   "cell_type": "markdown",
   "id": "b60768e1",
   "metadata": {},
   "source": [
    "**Exercício 108**  \n",
    "Dica: Explore variáveis de espécie, massa corporal e comprimento de nadadeiras para hipóteses e K‑Means."
   ]
  },
  {
   "cell_type": "code",
   "execution_count": null,
   "id": "350b1eb1",
   "metadata": {},
   "outputs": [],
   "source": [
    "# Seu código aqui\n"
   ]
  },
  {
   "cell_type": "markdown",
   "id": "fc2b0021",
   "metadata": {},
   "source": [
    "**Exercício 109**  \n",
    "Dica: Explore variáveis de espécie, massa corporal e comprimento de nadadeiras para hipóteses e K‑Means."
   ]
  },
  {
   "cell_type": "code",
   "execution_count": null,
   "id": "71d1361a",
   "metadata": {},
   "outputs": [],
   "source": [
    "# Seu código aqui\n"
   ]
  },
  {
   "cell_type": "markdown",
   "id": "1c4004d5",
   "metadata": {},
   "source": [
    "**Exercício 110**  \n",
    "Dica: Explore variáveis de espécie, massa corporal e comprimento de nadadeiras para hipóteses e K‑Means."
   ]
  },
  {
   "cell_type": "code",
   "execution_count": null,
   "id": "3cccc144",
   "metadata": {},
   "outputs": [],
   "source": [
    "# Seu código aqui\n"
   ]
  },
  {
   "cell_type": "markdown",
   "id": "4a4f4e28",
   "metadata": {},
   "source": [
    "**Exercício 111**  \n",
    "Dica: Explore variáveis de espécie, massa corporal e comprimento de nadadeiras para hipóteses e K‑Means."
   ]
  },
  {
   "cell_type": "code",
   "execution_count": null,
   "id": "1b8ce445",
   "metadata": {},
   "outputs": [],
   "source": [
    "# Seu código aqui\n"
   ]
  },
  {
   "cell_type": "markdown",
   "id": "2905d906",
   "metadata": {},
   "source": [
    "**Exercício 112**  \n",
    "Dica: Explore variáveis de espécie, massa corporal e comprimento de nadadeiras para hipóteses e K‑Means."
   ]
  },
  {
   "cell_type": "code",
   "execution_count": null,
   "id": "ab4f43fc",
   "metadata": {},
   "outputs": [],
   "source": [
    "# Seu código aqui\n"
   ]
  },
  {
   "cell_type": "markdown",
   "id": "ed4730a4",
   "metadata": {},
   "source": [
    "**Exercício 113**  \n",
    "Dica: Explore variáveis de espécie, massa corporal e comprimento de nadadeiras para hipóteses e K‑Means."
   ]
  },
  {
   "cell_type": "code",
   "execution_count": null,
   "id": "ab482a75",
   "metadata": {},
   "outputs": [],
   "source": [
    "# Seu código aqui\n"
   ]
  },
  {
   "cell_type": "markdown",
   "id": "64ac09c0",
   "metadata": {},
   "source": [
    "**Exercício 114**  \n",
    "Dica: Explore variáveis de espécie, massa corporal e comprimento de nadadeiras para hipóteses e K‑Means."
   ]
  },
  {
   "cell_type": "code",
   "execution_count": null,
   "id": "1b01b072",
   "metadata": {},
   "outputs": [],
   "source": [
    "# Seu código aqui\n"
   ]
  },
  {
   "cell_type": "markdown",
   "id": "e5051e30",
   "metadata": {},
   "source": [
    "**Exercício 115**  \n",
    "Dica: Explore variáveis de espécie, massa corporal e comprimento de nadadeiras para hipóteses e K‑Means."
   ]
  },
  {
   "cell_type": "code",
   "execution_count": null,
   "id": "165a68a3",
   "metadata": {},
   "outputs": [],
   "source": [
    "# Seu código aqui\n"
   ]
  },
  {
   "cell_type": "markdown",
   "id": "31dcf85d",
   "metadata": {},
   "source": [
    "**Exercício 116**  \n",
    "Dica: Explore variáveis de espécie, massa corporal e comprimento de nadadeiras para hipóteses e K‑Means."
   ]
  },
  {
   "cell_type": "code",
   "execution_count": null,
   "id": "23bccf3b",
   "metadata": {},
   "outputs": [],
   "source": [
    "# Seu código aqui\n"
   ]
  },
  {
   "cell_type": "markdown",
   "id": "2fc6adea",
   "metadata": {},
   "source": [
    "**Exercício 117**  \n",
    "Dica: Explore variáveis de espécie, massa corporal e comprimento de nadadeiras para hipóteses e K‑Means."
   ]
  },
  {
   "cell_type": "code",
   "execution_count": null,
   "id": "9ccb7191",
   "metadata": {},
   "outputs": [],
   "source": [
    "# Seu código aqui\n"
   ]
  },
  {
   "cell_type": "markdown",
   "id": "0375e0c0",
   "metadata": {},
   "source": [
    "**Exercício 118**  \n",
    "Dica: Explore variáveis de espécie, massa corporal e comprimento de nadadeiras para hipóteses e K‑Means."
   ]
  },
  {
   "cell_type": "code",
   "execution_count": null,
   "id": "99c066b2",
   "metadata": {},
   "outputs": [],
   "source": [
    "# Seu código aqui\n"
   ]
  },
  {
   "cell_type": "markdown",
   "id": "aff5a9fa",
   "metadata": {},
   "source": [
    "**Exercício 119**  \n",
    "Dica: Explore variáveis de espécie, massa corporal e comprimento de nadadeiras para hipóteses e K‑Means."
   ]
  },
  {
   "cell_type": "code",
   "execution_count": null,
   "id": "3ddee462",
   "metadata": {},
   "outputs": [],
   "source": [
    "# Seu código aqui\n"
   ]
  },
  {
   "cell_type": "markdown",
   "id": "dfe76e4b",
   "metadata": {},
   "source": [
    "**Exercício 120**  \n",
    "Dica: Explore variáveis de espécie, massa corporal e comprimento de nadadeiras para hipóteses e K‑Means."
   ]
  },
  {
   "cell_type": "code",
   "execution_count": null,
   "id": "cac14155",
   "metadata": {},
   "outputs": [],
   "source": [
    "# Seu código aqui\n"
   ]
  },
  {
   "cell_type": "markdown",
   "id": "d1ceeddb",
   "metadata": {},
   "source": [
    "**Exercício 121**  \n",
    "Dica: Explore variáveis de espécie, massa corporal e comprimento de nadadeiras para hipóteses e K‑Means."
   ]
  },
  {
   "cell_type": "code",
   "execution_count": null,
   "id": "3271e0d1",
   "metadata": {},
   "outputs": [],
   "source": [
    "# Seu código aqui\n"
   ]
  },
  {
   "cell_type": "markdown",
   "id": "f9410114",
   "metadata": {},
   "source": [
    "**Exercício 122**  \n",
    "Dica: Explore variáveis de espécie, massa corporal e comprimento de nadadeiras para hipóteses e K‑Means."
   ]
  },
  {
   "cell_type": "code",
   "execution_count": null,
   "id": "ad338477",
   "metadata": {},
   "outputs": [],
   "source": [
    "# Seu código aqui\n"
   ]
  },
  {
   "cell_type": "markdown",
   "id": "bdb2b9ec",
   "metadata": {},
   "source": [
    "**Exercício 123**  \n",
    "Dica: Explore variáveis de espécie, massa corporal e comprimento de nadadeiras para hipóteses e K‑Means."
   ]
  },
  {
   "cell_type": "code",
   "execution_count": null,
   "id": "6b08a2ff",
   "metadata": {},
   "outputs": [],
   "source": [
    "# Seu código aqui\n"
   ]
  },
  {
   "cell_type": "markdown",
   "id": "2de2b4cc",
   "metadata": {},
   "source": [
    "**Exercício 124**  \n",
    "Dica: Explore variáveis de espécie, massa corporal e comprimento de nadadeiras para hipóteses e K‑Means."
   ]
  },
  {
   "cell_type": "code",
   "execution_count": null,
   "id": "88d4b401",
   "metadata": {},
   "outputs": [],
   "source": [
    "# Seu código aqui\n"
   ]
  },
  {
   "cell_type": "markdown",
   "id": "6aaf25da",
   "metadata": {},
   "source": [
    "**Exercício 125**  \n",
    "Dica: Explore variáveis de espécie, massa corporal e comprimento de nadadeiras para hipóteses e K‑Means."
   ]
  },
  {
   "cell_type": "code",
   "execution_count": null,
   "id": "b98dcc62",
   "metadata": {},
   "outputs": [],
   "source": [
    "# Seu código aqui\n"
   ]
  },
  {
   "cell_type": "markdown",
   "id": "efb5aac2",
   "metadata": {},
   "source": [
    "**Exercício 126**  \n",
    "Dica: Explore variáveis de espécie, massa corporal e comprimento de nadadeiras para hipóteses e K‑Means."
   ]
  },
  {
   "cell_type": "code",
   "execution_count": null,
   "id": "bf12bf21",
   "metadata": {},
   "outputs": [],
   "source": [
    "# Seu código aqui\n"
   ]
  },
  {
   "cell_type": "markdown",
   "id": "ddc6b9e6",
   "metadata": {},
   "source": [
    "**Exercício 127**  \n",
    "Dica: Explore variáveis de espécie, massa corporal e comprimento de nadadeiras para hipóteses e K‑Means."
   ]
  },
  {
   "cell_type": "code",
   "execution_count": null,
   "id": "29550e0c",
   "metadata": {},
   "outputs": [],
   "source": [
    "# Seu código aqui\n"
   ]
  },
  {
   "cell_type": "markdown",
   "id": "307ab077",
   "metadata": {},
   "source": [
    "**Exercício 128**  \n",
    "Dica: Explore variáveis de espécie, massa corporal e comprimento de nadadeiras para hipóteses e K‑Means."
   ]
  },
  {
   "cell_type": "code",
   "execution_count": null,
   "id": "5ce76171",
   "metadata": {},
   "outputs": [],
   "source": [
    "# Seu código aqui\n"
   ]
  },
  {
   "cell_type": "markdown",
   "id": "ee256451",
   "metadata": {},
   "source": [
    "**Exercício 129**  \n",
    "Dica: Explore variáveis de espécie, massa corporal e comprimento de nadadeiras para hipóteses e K‑Means."
   ]
  },
  {
   "cell_type": "code",
   "execution_count": null,
   "id": "c44eb115",
   "metadata": {},
   "outputs": [],
   "source": [
    "# Seu código aqui\n"
   ]
  },
  {
   "cell_type": "markdown",
   "id": "346f50d8",
   "metadata": {},
   "source": [
    "**Exercício 130**  \n",
    "Dica: Explore variáveis de espécie, massa corporal e comprimento de nadadeiras para hipóteses e K‑Means."
   ]
  },
  {
   "cell_type": "code",
   "execution_count": null,
   "id": "dba26c42",
   "metadata": {},
   "outputs": [],
   "source": [
    "# Seu código aqui\n"
   ]
  },
  {
   "cell_type": "markdown",
   "id": "6025d633",
   "metadata": {},
   "source": [
    "**Exercício 131**  \n",
    "Dica: Explore variáveis de espécie, massa corporal e comprimento de nadadeiras para hipóteses e K‑Means."
   ]
  },
  {
   "cell_type": "code",
   "execution_count": null,
   "id": "70ee1c0a",
   "metadata": {},
   "outputs": [],
   "source": [
    "# Seu código aqui\n"
   ]
  },
  {
   "cell_type": "markdown",
   "id": "9d59122f",
   "metadata": {},
   "source": [
    "**Exercício 132**  \n",
    "Dica: Explore variáveis de espécie, massa corporal e comprimento de nadadeiras para hipóteses e K‑Means."
   ]
  },
  {
   "cell_type": "code",
   "execution_count": null,
   "id": "b5d9bb8d",
   "metadata": {},
   "outputs": [],
   "source": [
    "# Seu código aqui\n"
   ]
  },
  {
   "cell_type": "markdown",
   "id": "88591cce",
   "metadata": {},
   "source": [
    "**Exercício 133**  \n",
    "Dica: Explore variáveis de espécie, massa corporal e comprimento de nadadeiras para hipóteses e K‑Means."
   ]
  },
  {
   "cell_type": "code",
   "execution_count": null,
   "id": "e1909d54",
   "metadata": {},
   "outputs": [],
   "source": [
    "# Seu código aqui\n"
   ]
  },
  {
   "cell_type": "markdown",
   "id": "eeb6f7ab",
   "metadata": {},
   "source": [
    "**Exercício 134**  \n",
    "Dica: Explore variáveis de espécie, massa corporal e comprimento de nadadeiras para hipóteses e K‑Means."
   ]
  },
  {
   "cell_type": "code",
   "execution_count": null,
   "id": "5f151de8",
   "metadata": {},
   "outputs": [],
   "source": [
    "# Seu código aqui\n"
   ]
  },
  {
   "cell_type": "markdown",
   "id": "bf20d817",
   "metadata": {},
   "source": [
    "**Exercício 135**  \n",
    "Dica: Explore variáveis de espécie, massa corporal e comprimento de nadadeiras para hipóteses e K‑Means."
   ]
  },
  {
   "cell_type": "code",
   "execution_count": null,
   "id": "b3b591db",
   "metadata": {},
   "outputs": [],
   "source": [
    "# Seu código aqui\n"
   ]
  },
  {
   "cell_type": "markdown",
   "id": "3649b8f0",
   "metadata": {},
   "source": [
    "**Exercício 136**  \n",
    "Dica: Explore variáveis de espécie, massa corporal e comprimento de nadadeiras para hipóteses e K‑Means."
   ]
  },
  {
   "cell_type": "code",
   "execution_count": null,
   "id": "ccf31f62",
   "metadata": {},
   "outputs": [],
   "source": [
    "# Seu código aqui\n"
   ]
  },
  {
   "cell_type": "markdown",
   "id": "099c6616",
   "metadata": {},
   "source": [
    "**Exercício 137**  \n",
    "Dica: Explore variáveis de espécie, massa corporal e comprimento de nadadeiras para hipóteses e K‑Means."
   ]
  },
  {
   "cell_type": "code",
   "execution_count": null,
   "id": "8b593703",
   "metadata": {},
   "outputs": [],
   "source": [
    "# Seu código aqui\n"
   ]
  },
  {
   "cell_type": "markdown",
   "id": "f77fe271",
   "metadata": {},
   "source": [
    "**Exercício 138**  \n",
    "Dica: Explore variáveis de espécie, massa corporal e comprimento de nadadeiras para hipóteses e K‑Means."
   ]
  },
  {
   "cell_type": "code",
   "execution_count": null,
   "id": "8959bc99",
   "metadata": {},
   "outputs": [],
   "source": [
    "# Seu código aqui\n"
   ]
  },
  {
   "cell_type": "markdown",
   "id": "6d760b44",
   "metadata": {},
   "source": [
    "**Exercício 139**  \n",
    "Dica: Explore variáveis de espécie, massa corporal e comprimento de nadadeiras para hipóteses e K‑Means."
   ]
  },
  {
   "cell_type": "code",
   "execution_count": null,
   "id": "98a1fa61",
   "metadata": {},
   "outputs": [],
   "source": [
    "# Seu código aqui\n"
   ]
  },
  {
   "cell_type": "markdown",
   "id": "e29fd083",
   "metadata": {},
   "source": [
    "**Exercício 140**  \n",
    "Dica: Explore variáveis de espécie, massa corporal e comprimento de nadadeiras para hipóteses e K‑Means."
   ]
  },
  {
   "cell_type": "code",
   "execution_count": null,
   "id": "45972f38",
   "metadata": {},
   "outputs": [],
   "source": [
    "# Seu código aqui\n"
   ]
  },
  {
   "cell_type": "markdown",
   "id": "9fab2621",
   "metadata": {},
   "source": [
    "**Exercício 141**  \n",
    "Dica: Explore variáveis de espécie, massa corporal e comprimento de nadadeiras para hipóteses e K‑Means."
   ]
  },
  {
   "cell_type": "code",
   "execution_count": null,
   "id": "361d0f87",
   "metadata": {},
   "outputs": [],
   "source": [
    "# Seu código aqui\n"
   ]
  },
  {
   "cell_type": "markdown",
   "id": "f99f0fef",
   "metadata": {},
   "source": [
    "**Exercício 142**  \n",
    "Dica: Explore variáveis de espécie, massa corporal e comprimento de nadadeiras para hipóteses e K‑Means."
   ]
  },
  {
   "cell_type": "code",
   "execution_count": null,
   "id": "f291c4b1",
   "metadata": {},
   "outputs": [],
   "source": [
    "# Seu código aqui\n"
   ]
  },
  {
   "cell_type": "markdown",
   "id": "06ef59f5",
   "metadata": {},
   "source": [
    "**Exercício 143**  \n",
    "Dica: Explore variáveis de espécie, massa corporal e comprimento de nadadeiras para hipóteses e K‑Means."
   ]
  },
  {
   "cell_type": "code",
   "execution_count": null,
   "id": "3e863e76",
   "metadata": {},
   "outputs": [],
   "source": [
    "# Seu código aqui\n"
   ]
  },
  {
   "cell_type": "markdown",
   "id": "a72b1d65",
   "metadata": {},
   "source": [
    "**Exercício 144**  \n",
    "Dica: Explore variáveis de espécie, massa corporal e comprimento de nadadeiras para hipóteses e K‑Means."
   ]
  },
  {
   "cell_type": "code",
   "execution_count": null,
   "id": "2d6f6507",
   "metadata": {},
   "outputs": [],
   "source": [
    "# Seu código aqui\n"
   ]
  },
  {
   "cell_type": "markdown",
   "id": "babf622d",
   "metadata": {},
   "source": [
    "**Exercício 145**  \n",
    "Dica: Explore variáveis de espécie, massa corporal e comprimento de nadadeiras para hipóteses e K‑Means."
   ]
  },
  {
   "cell_type": "code",
   "execution_count": null,
   "id": "4374ad74",
   "metadata": {},
   "outputs": [],
   "source": [
    "# Seu código aqui\n"
   ]
  },
  {
   "cell_type": "markdown",
   "id": "21b89d39",
   "metadata": {},
   "source": [
    "**Exercício 146**  \n",
    "Dica: Explore variáveis de espécie, massa corporal e comprimento de nadadeiras para hipóteses e K‑Means."
   ]
  },
  {
   "cell_type": "code",
   "execution_count": null,
   "id": "cb14a996",
   "metadata": {},
   "outputs": [],
   "source": [
    "# Seu código aqui\n"
   ]
  },
  {
   "cell_type": "markdown",
   "id": "83b0d198",
   "metadata": {},
   "source": [
    "**Exercício 147**  \n",
    "Dica: Explore variáveis de espécie, massa corporal e comprimento de nadadeiras para hipóteses e K‑Means."
   ]
  },
  {
   "cell_type": "code",
   "execution_count": null,
   "id": "44288a5b",
   "metadata": {},
   "outputs": [],
   "source": [
    "# Seu código aqui\n"
   ]
  },
  {
   "cell_type": "markdown",
   "id": "78ddcd62",
   "metadata": {},
   "source": [
    "**Exercício 148**  \n",
    "Dica: Explore variáveis de espécie, massa corporal e comprimento de nadadeiras para hipóteses e K‑Means."
   ]
  },
  {
   "cell_type": "code",
   "execution_count": null,
   "id": "a2fbb5ca",
   "metadata": {},
   "outputs": [],
   "source": [
    "# Seu código aqui\n"
   ]
  },
  {
   "cell_type": "markdown",
   "id": "997b7600",
   "metadata": {},
   "source": [
    "**Exercício 149**  \n",
    "Dica: Explore variáveis de espécie, massa corporal e comprimento de nadadeiras para hipóteses e K‑Means."
   ]
  },
  {
   "cell_type": "code",
   "execution_count": null,
   "id": "eb98ef44",
   "metadata": {},
   "outputs": [],
   "source": [
    "# Seu código aqui\n"
   ]
  },
  {
   "cell_type": "markdown",
   "id": "e553917d",
   "metadata": {},
   "source": [
    "**Exercício 150**  \n",
    "Dica: Explore variáveis de espécie, massa corporal e comprimento de nadadeiras para hipóteses e K‑Means."
   ]
  },
  {
   "cell_type": "code",
   "execution_count": null,
   "id": "80178b82",
   "metadata": {},
   "outputs": [],
   "source": [
    "# Seu código aqui\n"
   ]
  },
  {
   "cell_type": "markdown",
   "id": "6eb604e3",
   "metadata": {},
   "source": [
    "**Exercício 151**  \n",
    "Dica: Explore variáveis de espécie, massa corporal e comprimento de nadadeiras para hipóteses e K‑Means."
   ]
  },
  {
   "cell_type": "code",
   "execution_count": null,
   "id": "427eba18",
   "metadata": {},
   "outputs": [],
   "source": [
    "# Seu código aqui\n"
   ]
  },
  {
   "cell_type": "markdown",
   "id": "90ad9f5f",
   "metadata": {},
   "source": [
    "**Exercício 152**  \n",
    "Dica: Explore variáveis de espécie, massa corporal e comprimento de nadadeiras para hipóteses e K‑Means."
   ]
  },
  {
   "cell_type": "code",
   "execution_count": null,
   "id": "46b51ced",
   "metadata": {},
   "outputs": [],
   "source": [
    "# Seu código aqui\n"
   ]
  },
  {
   "cell_type": "markdown",
   "id": "2ed22723",
   "metadata": {},
   "source": [
    "**Exercício 153**  \n",
    "Dica: Explore variáveis de espécie, massa corporal e comprimento de nadadeiras para hipóteses e K‑Means."
   ]
  },
  {
   "cell_type": "code",
   "execution_count": null,
   "id": "41c82ece",
   "metadata": {},
   "outputs": [],
   "source": [
    "# Seu código aqui\n"
   ]
  },
  {
   "cell_type": "markdown",
   "id": "b86cc53a",
   "metadata": {},
   "source": [
    "**Exercício 154**  \n",
    "Dica: Explore variáveis de espécie, massa corporal e comprimento de nadadeiras para hipóteses e K‑Means."
   ]
  },
  {
   "cell_type": "code",
   "execution_count": null,
   "id": "8ddce3f0",
   "metadata": {},
   "outputs": [],
   "source": [
    "# Seu código aqui\n"
   ]
  },
  {
   "cell_type": "markdown",
   "id": "9330601d",
   "metadata": {},
   "source": [
    "**Exercício 155**  \n",
    "Dica: Explore variáveis de espécie, massa corporal e comprimento de nadadeiras para hipóteses e K‑Means."
   ]
  },
  {
   "cell_type": "code",
   "execution_count": null,
   "id": "a152ec58",
   "metadata": {},
   "outputs": [],
   "source": [
    "# Seu código aqui\n"
   ]
  },
  {
   "cell_type": "markdown",
   "id": "7725cddd",
   "metadata": {},
   "source": [
    "**Exercício 156**  \n",
    "Dica: Explore variáveis de espécie, massa corporal e comprimento de nadadeiras para hipóteses e K‑Means."
   ]
  },
  {
   "cell_type": "code",
   "execution_count": null,
   "id": "a473f082",
   "metadata": {},
   "outputs": [],
   "source": [
    "# Seu código aqui\n"
   ]
  },
  {
   "cell_type": "markdown",
   "id": "03a7015b",
   "metadata": {},
   "source": [
    "**Exercício 157**  \n",
    "Dica: Explore variáveis de espécie, massa corporal e comprimento de nadadeiras para hipóteses e K‑Means."
   ]
  },
  {
   "cell_type": "code",
   "execution_count": null,
   "id": "7d1fcc7c",
   "metadata": {},
   "outputs": [],
   "source": [
    "# Seu código aqui\n"
   ]
  },
  {
   "cell_type": "markdown",
   "id": "6201cb56",
   "metadata": {},
   "source": [
    "**Exercício 158**  \n",
    "Dica: Explore variáveis de espécie, massa corporal e comprimento de nadadeiras para hipóteses e K‑Means."
   ]
  },
  {
   "cell_type": "code",
   "execution_count": null,
   "id": "cb5eb6fa",
   "metadata": {},
   "outputs": [],
   "source": [
    "# Seu código aqui\n"
   ]
  },
  {
   "cell_type": "markdown",
   "id": "3b1cd994",
   "metadata": {},
   "source": [
    "**Exercício 159**  \n",
    "Dica: Explore variáveis de espécie, massa corporal e comprimento de nadadeiras para hipóteses e K‑Means."
   ]
  },
  {
   "cell_type": "code",
   "execution_count": null,
   "id": "4d3f7e31",
   "metadata": {},
   "outputs": [],
   "source": [
    "# Seu código aqui\n"
   ]
  },
  {
   "cell_type": "markdown",
   "id": "38cfa49e",
   "metadata": {},
   "source": [
    "**Exercício 160**  \n",
    "Dica: Explore variáveis de espécie, massa corporal e comprimento de nadadeiras para hipóteses e K‑Means."
   ]
  },
  {
   "cell_type": "code",
   "execution_count": null,
   "id": "094ae928",
   "metadata": {},
   "outputs": [],
   "source": [
    "# Seu código aqui\n"
   ]
  },
  {
   "cell_type": "markdown",
   "id": "1eac5800",
   "metadata": {},
   "source": [
    "**Exercício 161**  \n",
    "Dica: Explore variáveis de espécie, massa corporal e comprimento de nadadeiras para hipóteses e K‑Means."
   ]
  },
  {
   "cell_type": "code",
   "execution_count": null,
   "id": "3930cbd1",
   "metadata": {},
   "outputs": [],
   "source": [
    "# Seu código aqui\n"
   ]
  },
  {
   "cell_type": "markdown",
   "id": "dbf7374c",
   "metadata": {},
   "source": [
    "**Exercício 162**  \n",
    "Dica: Explore variáveis de espécie, massa corporal e comprimento de nadadeiras para hipóteses e K‑Means."
   ]
  },
  {
   "cell_type": "code",
   "execution_count": null,
   "id": "239cad6d",
   "metadata": {},
   "outputs": [],
   "source": [
    "# Seu código aqui\n"
   ]
  },
  {
   "cell_type": "markdown",
   "id": "56654805",
   "metadata": {},
   "source": [
    "**Exercício 163**  \n",
    "Dica: Explore variáveis de espécie, massa corporal e comprimento de nadadeiras para hipóteses e K‑Means."
   ]
  },
  {
   "cell_type": "code",
   "execution_count": null,
   "id": "139b06d2",
   "metadata": {},
   "outputs": [],
   "source": [
    "# Seu código aqui\n"
   ]
  },
  {
   "cell_type": "markdown",
   "id": "97404bce",
   "metadata": {},
   "source": [
    "**Exercício 164**  \n",
    "Dica: Explore variáveis de espécie, massa corporal e comprimento de nadadeiras para hipóteses e K‑Means."
   ]
  },
  {
   "cell_type": "code",
   "execution_count": null,
   "id": "edd74407",
   "metadata": {},
   "outputs": [],
   "source": [
    "# Seu código aqui\n"
   ]
  },
  {
   "cell_type": "markdown",
   "id": "0b43ed37",
   "metadata": {},
   "source": [
    "**Exercício 165**  \n",
    "Dica: Explore variáveis de espécie, massa corporal e comprimento de nadadeiras para hipóteses e K‑Means."
   ]
  },
  {
   "cell_type": "code",
   "execution_count": null,
   "id": "5d53c0c1",
   "metadata": {},
   "outputs": [],
   "source": [
    "# Seu código aqui\n"
   ]
  },
  {
   "cell_type": "markdown",
   "id": "341f03cb",
   "metadata": {},
   "source": [
    "**Exercício 166**  \n",
    "Dica: Explore variáveis de espécie, massa corporal e comprimento de nadadeiras para hipóteses e K‑Means."
   ]
  },
  {
   "cell_type": "code",
   "execution_count": null,
   "id": "83693691",
   "metadata": {},
   "outputs": [],
   "source": [
    "# Seu código aqui\n"
   ]
  },
  {
   "cell_type": "markdown",
   "id": "a13ce76f",
   "metadata": {},
   "source": [
    "**Exercício 167**  \n",
    "Dica: Explore variáveis de espécie, massa corporal e comprimento de nadadeiras para hipóteses e K‑Means."
   ]
  },
  {
   "cell_type": "code",
   "execution_count": null,
   "id": "8d9ddbe7",
   "metadata": {},
   "outputs": [],
   "source": [
    "# Seu código aqui\n"
   ]
  },
  {
   "cell_type": "markdown",
   "id": "dc9abba7",
   "metadata": {},
   "source": [
    "**Exercício 168**  \n",
    "Dica: Explore variáveis de espécie, massa corporal e comprimento de nadadeiras para hipóteses e K‑Means."
   ]
  },
  {
   "cell_type": "code",
   "execution_count": null,
   "id": "c64b201a",
   "metadata": {},
   "outputs": [],
   "source": [
    "# Seu código aqui\n"
   ]
  },
  {
   "cell_type": "markdown",
   "id": "de0ad3fe",
   "metadata": {},
   "source": [
    "**Exercício 169**  \n",
    "Dica: Explore variáveis de espécie, massa corporal e comprimento de nadadeiras para hipóteses e K‑Means."
   ]
  },
  {
   "cell_type": "code",
   "execution_count": null,
   "id": "52ed5c1b",
   "metadata": {},
   "outputs": [],
   "source": [
    "# Seu código aqui\n"
   ]
  },
  {
   "cell_type": "markdown",
   "id": "a72d3609",
   "metadata": {},
   "source": [
    "**Exercício 170**  \n",
    "Dica: Explore variáveis de espécie, massa corporal e comprimento de nadadeiras para hipóteses e K‑Means."
   ]
  },
  {
   "cell_type": "code",
   "execution_count": null,
   "id": "faee273f",
   "metadata": {},
   "outputs": [],
   "source": [
    "# Seu código aqui\n"
   ]
  },
  {
   "cell_type": "markdown",
   "id": "1666f38a",
   "metadata": {},
   "source": [
    "**Exercício 171**  \n",
    "Dica: Explore variáveis de espécie, massa corporal e comprimento de nadadeiras para hipóteses e K‑Means."
   ]
  },
  {
   "cell_type": "code",
   "execution_count": null,
   "id": "300c9b60",
   "metadata": {},
   "outputs": [],
   "source": [
    "# Seu código aqui\n"
   ]
  },
  {
   "cell_type": "markdown",
   "id": "165f83fc",
   "metadata": {},
   "source": [
    "**Exercício 172**  \n",
    "Dica: Explore variáveis de espécie, massa corporal e comprimento de nadadeiras para hipóteses e K‑Means."
   ]
  },
  {
   "cell_type": "code",
   "execution_count": null,
   "id": "ee9b1a32",
   "metadata": {},
   "outputs": [],
   "source": [
    "# Seu código aqui\n"
   ]
  },
  {
   "cell_type": "markdown",
   "id": "2f71700b",
   "metadata": {},
   "source": [
    "**Exercício 173**  \n",
    "Dica: Explore variáveis de espécie, massa corporal e comprimento de nadadeiras para hipóteses e K‑Means."
   ]
  },
  {
   "cell_type": "code",
   "execution_count": null,
   "id": "d214b6af",
   "metadata": {},
   "outputs": [],
   "source": [
    "# Seu código aqui\n"
   ]
  },
  {
   "cell_type": "markdown",
   "id": "b7616533",
   "metadata": {},
   "source": [
    "**Exercício 174**  \n",
    "Dica: Explore variáveis de espécie, massa corporal e comprimento de nadadeiras para hipóteses e K‑Means."
   ]
  },
  {
   "cell_type": "code",
   "execution_count": null,
   "id": "a4c8f84b",
   "metadata": {},
   "outputs": [],
   "source": [
    "# Seu código aqui\n"
   ]
  },
  {
   "cell_type": "markdown",
   "id": "28f338d1",
   "metadata": {},
   "source": [
    "**Exercício 175**  \n",
    "Dica: Explore variáveis de espécie, massa corporal e comprimento de nadadeiras para hipóteses e K‑Means."
   ]
  },
  {
   "cell_type": "code",
   "execution_count": null,
   "id": "c082ea86",
   "metadata": {},
   "outputs": [],
   "source": [
    "# Seu código aqui\n"
   ]
  },
  {
   "cell_type": "markdown",
   "id": "d0fb2c53",
   "metadata": {},
   "source": [
    "**Exercício 176**  \n",
    "Dica: Explore variáveis de espécie, massa corporal e comprimento de nadadeiras para hipóteses e K‑Means."
   ]
  },
  {
   "cell_type": "code",
   "execution_count": null,
   "id": "be74df9e",
   "metadata": {},
   "outputs": [],
   "source": [
    "# Seu código aqui\n"
   ]
  },
  {
   "cell_type": "markdown",
   "id": "23c9f712",
   "metadata": {},
   "source": [
    "**Exercício 177**  \n",
    "Dica: Explore variáveis de espécie, massa corporal e comprimento de nadadeiras para hipóteses e K‑Means."
   ]
  },
  {
   "cell_type": "code",
   "execution_count": null,
   "id": "3449192e",
   "metadata": {},
   "outputs": [],
   "source": [
    "# Seu código aqui\n"
   ]
  },
  {
   "cell_type": "markdown",
   "id": "56fa5220",
   "metadata": {},
   "source": [
    "**Exercício 178**  \n",
    "Dica: Explore variáveis de espécie, massa corporal e comprimento de nadadeiras para hipóteses e K‑Means."
   ]
  },
  {
   "cell_type": "code",
   "execution_count": null,
   "id": "eca61106",
   "metadata": {},
   "outputs": [],
   "source": [
    "# Seu código aqui\n"
   ]
  },
  {
   "cell_type": "markdown",
   "id": "6842707e",
   "metadata": {},
   "source": [
    "**Exercício 179**  \n",
    "Dica: Explore variáveis de espécie, massa corporal e comprimento de nadadeiras para hipóteses e K‑Means."
   ]
  },
  {
   "cell_type": "code",
   "execution_count": null,
   "id": "4584c39a",
   "metadata": {},
   "outputs": [],
   "source": [
    "# Seu código aqui\n"
   ]
  },
  {
   "cell_type": "markdown",
   "id": "12d3f1e1",
   "metadata": {},
   "source": [
    "**Exercício 180**  \n",
    "Dica: Explore variáveis de espécie, massa corporal e comprimento de nadadeiras para hipóteses e K‑Means."
   ]
  },
  {
   "cell_type": "code",
   "execution_count": null,
   "id": "c1d62321",
   "metadata": {},
   "outputs": [],
   "source": [
    "# Seu código aqui\n"
   ]
  },
  {
   "cell_type": "markdown",
   "id": "ea3b7cde",
   "metadata": {},
   "source": [
    "**Exercício 181**  \n",
    "Dica: Explore variáveis de espécie, massa corporal e comprimento de nadadeiras para hipóteses e K‑Means."
   ]
  },
  {
   "cell_type": "code",
   "execution_count": null,
   "id": "c0cd2ca9",
   "metadata": {},
   "outputs": [],
   "source": [
    "# Seu código aqui\n"
   ]
  },
  {
   "cell_type": "markdown",
   "id": "effb64de",
   "metadata": {},
   "source": [
    "**Exercício 182**  \n",
    "Dica: Explore variáveis de espécie, massa corporal e comprimento de nadadeiras para hipóteses e K‑Means."
   ]
  },
  {
   "cell_type": "code",
   "execution_count": null,
   "id": "59474223",
   "metadata": {},
   "outputs": [],
   "source": [
    "# Seu código aqui\n"
   ]
  },
  {
   "cell_type": "markdown",
   "id": "de0f95c8",
   "metadata": {},
   "source": [
    "**Exercício 183**  \n",
    "Dica: Explore variáveis de espécie, massa corporal e comprimento de nadadeiras para hipóteses e K‑Means."
   ]
  },
  {
   "cell_type": "code",
   "execution_count": null,
   "id": "ccab5c84",
   "metadata": {},
   "outputs": [],
   "source": [
    "# Seu código aqui\n"
   ]
  },
  {
   "cell_type": "markdown",
   "id": "ea194ee1",
   "metadata": {},
   "source": [
    "**Exercício 184**  \n",
    "Dica: Explore variáveis de espécie, massa corporal e comprimento de nadadeiras para hipóteses e K‑Means."
   ]
  },
  {
   "cell_type": "code",
   "execution_count": null,
   "id": "1d1ba848",
   "metadata": {},
   "outputs": [],
   "source": [
    "# Seu código aqui\n"
   ]
  },
  {
   "cell_type": "markdown",
   "id": "b0ad3f5e",
   "metadata": {},
   "source": [
    "**Exercício 185**  \n",
    "Dica: Explore variáveis de espécie, massa corporal e comprimento de nadadeiras para hipóteses e K‑Means."
   ]
  },
  {
   "cell_type": "code",
   "execution_count": null,
   "id": "684107d0",
   "metadata": {},
   "outputs": [],
   "source": [
    "# Seu código aqui\n"
   ]
  },
  {
   "cell_type": "markdown",
   "id": "996c80da",
   "metadata": {},
   "source": [
    "**Exercício 186**  \n",
    "Dica: Explore variáveis de espécie, massa corporal e comprimento de nadadeiras para hipóteses e K‑Means."
   ]
  },
  {
   "cell_type": "code",
   "execution_count": null,
   "id": "64e42c65",
   "metadata": {},
   "outputs": [],
   "source": [
    "# Seu código aqui\n"
   ]
  },
  {
   "cell_type": "markdown",
   "id": "ae2f3233",
   "metadata": {},
   "source": [
    "**Exercício 187**  \n",
    "Dica: Explore variáveis de espécie, massa corporal e comprimento de nadadeiras para hipóteses e K‑Means."
   ]
  },
  {
   "cell_type": "code",
   "execution_count": null,
   "id": "e2bb021c",
   "metadata": {},
   "outputs": [],
   "source": [
    "# Seu código aqui\n"
   ]
  },
  {
   "cell_type": "markdown",
   "id": "3f5bddf9",
   "metadata": {},
   "source": [
    "**Exercício 188**  \n",
    "Dica: Explore variáveis de espécie, massa corporal e comprimento de nadadeiras para hipóteses e K‑Means."
   ]
  },
  {
   "cell_type": "code",
   "execution_count": null,
   "id": "3743bc27",
   "metadata": {},
   "outputs": [],
   "source": [
    "# Seu código aqui\n"
   ]
  },
  {
   "cell_type": "markdown",
   "id": "15266bcd",
   "metadata": {},
   "source": [
    "**Exercício 189**  \n",
    "Dica: Explore variáveis de espécie, massa corporal e comprimento de nadadeiras para hipóteses e K‑Means."
   ]
  },
  {
   "cell_type": "code",
   "execution_count": null,
   "id": "5c581cda",
   "metadata": {},
   "outputs": [],
   "source": [
    "# Seu código aqui\n"
   ]
  },
  {
   "cell_type": "markdown",
   "id": "55e46933",
   "metadata": {},
   "source": [
    "**Exercício 190**  \n",
    "Dica: Explore variáveis de espécie, massa corporal e comprimento de nadadeiras para hipóteses e K‑Means."
   ]
  },
  {
   "cell_type": "code",
   "execution_count": null,
   "id": "abfba6c5",
   "metadata": {},
   "outputs": [],
   "source": [
    "# Seu código aqui\n"
   ]
  },
  {
   "cell_type": "markdown",
   "id": "21f39de4",
   "metadata": {},
   "source": [
    "**Exercício 191**  \n",
    "Dica: Explore variáveis de espécie, massa corporal e comprimento de nadadeiras para hipóteses e K‑Means."
   ]
  },
  {
   "cell_type": "code",
   "execution_count": null,
   "id": "aa514d04",
   "metadata": {},
   "outputs": [],
   "source": [
    "# Seu código aqui\n"
   ]
  },
  {
   "cell_type": "markdown",
   "id": "6800df02",
   "metadata": {},
   "source": [
    "**Exercício 192**  \n",
    "Dica: Explore variáveis de espécie, massa corporal e comprimento de nadadeiras para hipóteses e K‑Means."
   ]
  },
  {
   "cell_type": "code",
   "execution_count": null,
   "id": "92f2f2ea",
   "metadata": {},
   "outputs": [],
   "source": [
    "# Seu código aqui\n"
   ]
  },
  {
   "cell_type": "markdown",
   "id": "c0a290a0",
   "metadata": {},
   "source": [
    "**Exercício 193**  \n",
    "Dica: Explore variáveis de espécie, massa corporal e comprimento de nadadeiras para hipóteses e K‑Means."
   ]
  },
  {
   "cell_type": "code",
   "execution_count": null,
   "id": "a14beb4f",
   "metadata": {},
   "outputs": [],
   "source": [
    "# Seu código aqui\n"
   ]
  },
  {
   "cell_type": "markdown",
   "id": "3a049ada",
   "metadata": {},
   "source": [
    "**Exercício 194**  \n",
    "Dica: Explore variáveis de espécie, massa corporal e comprimento de nadadeiras para hipóteses e K‑Means."
   ]
  },
  {
   "cell_type": "code",
   "execution_count": null,
   "id": "3cce0302",
   "metadata": {},
   "outputs": [],
   "source": [
    "# Seu código aqui\n"
   ]
  },
  {
   "cell_type": "markdown",
   "id": "a5d2bf68",
   "metadata": {},
   "source": [
    "**Exercício 195**  \n",
    "Dica: Explore variáveis de espécie, massa corporal e comprimento de nadadeiras para hipóteses e K‑Means."
   ]
  },
  {
   "cell_type": "code",
   "execution_count": null,
   "id": "cbe33e08",
   "metadata": {},
   "outputs": [],
   "source": [
    "# Seu código aqui\n"
   ]
  },
  {
   "cell_type": "markdown",
   "id": "50f279ac",
   "metadata": {},
   "source": [
    "**Exercício 196**  \n",
    "Dica: Explore variáveis de espécie, massa corporal e comprimento de nadadeiras para hipóteses e K‑Means."
   ]
  },
  {
   "cell_type": "code",
   "execution_count": null,
   "id": "5b5ba556",
   "metadata": {},
   "outputs": [],
   "source": [
    "# Seu código aqui\n"
   ]
  },
  {
   "cell_type": "markdown",
   "id": "7ef1de84",
   "metadata": {},
   "source": [
    "**Exercício 197**  \n",
    "Dica: Explore variáveis de espécie, massa corporal e comprimento de nadadeiras para hipóteses e K‑Means."
   ]
  },
  {
   "cell_type": "code",
   "execution_count": null,
   "id": "47566a80",
   "metadata": {},
   "outputs": [],
   "source": [
    "# Seu código aqui\n"
   ]
  },
  {
   "cell_type": "markdown",
   "id": "6862fd78",
   "metadata": {},
   "source": [
    "**Exercício 198**  \n",
    "Dica: Explore variáveis de espécie, massa corporal e comprimento de nadadeiras para hipóteses e K‑Means."
   ]
  },
  {
   "cell_type": "code",
   "execution_count": null,
   "id": "4c1ff43e",
   "metadata": {},
   "outputs": [],
   "source": [
    "# Seu código aqui\n"
   ]
  },
  {
   "cell_type": "markdown",
   "id": "9a84f91c",
   "metadata": {},
   "source": [
    "**Exercício 199**  \n",
    "Dica: Explore variáveis de espécie, massa corporal e comprimento de nadadeiras para hipóteses e K‑Means."
   ]
  },
  {
   "cell_type": "code",
   "execution_count": null,
   "id": "d19b4e1c",
   "metadata": {},
   "outputs": [],
   "source": [
    "# Seu código aqui\n"
   ]
  },
  {
   "cell_type": "markdown",
   "id": "48d4c28c",
   "metadata": {},
   "source": [
    "**Exercício 200**  \n",
    "Dica: Explore variáveis de espécie, massa corporal e comprimento de nadadeiras para hipóteses e K‑Means."
   ]
  },
  {
   "cell_type": "code",
   "execution_count": null,
   "id": "a1f2e08d",
   "metadata": {},
   "outputs": [],
   "source": [
    "# Seu código aqui\n"
   ]
  },
  {
   "cell_type": "markdown",
   "id": "68e4cc91",
   "metadata": {},
   "source": [
    "**Exercício 201**  \n",
    "Dica: Explore variáveis de espécie, massa corporal e comprimento de nadadeiras para hipóteses e K‑Means."
   ]
  },
  {
   "cell_type": "code",
   "execution_count": null,
   "id": "4b7a3fd1",
   "metadata": {},
   "outputs": [],
   "source": [
    "# Seu código aqui\n"
   ]
  },
  {
   "cell_type": "markdown",
   "id": "a11d72c3",
   "metadata": {},
   "source": [
    "**Exercício 202**  \n",
    "Dica: Explore variáveis de espécie, massa corporal e comprimento de nadadeiras para hipóteses e K‑Means."
   ]
  },
  {
   "cell_type": "code",
   "execution_count": null,
   "id": "e038f468",
   "metadata": {},
   "outputs": [],
   "source": [
    "# Seu código aqui\n"
   ]
  },
  {
   "cell_type": "markdown",
   "id": "571a3eab",
   "metadata": {},
   "source": [
    "**Exercício 203**  \n",
    "Dica: Explore variáveis de espécie, massa corporal e comprimento de nadadeiras para hipóteses e K‑Means."
   ]
  },
  {
   "cell_type": "code",
   "execution_count": null,
   "id": "6de22b82",
   "metadata": {},
   "outputs": [],
   "source": [
    "# Seu código aqui\n"
   ]
  },
  {
   "cell_type": "markdown",
   "id": "fb92c06e",
   "metadata": {},
   "source": [
    "**Exercício 204**  \n",
    "Dica: Explore variáveis de espécie, massa corporal e comprimento de nadadeiras para hipóteses e K‑Means."
   ]
  },
  {
   "cell_type": "code",
   "execution_count": null,
   "id": "3d0e7778",
   "metadata": {},
   "outputs": [],
   "source": [
    "# Seu código aqui\n"
   ]
  },
  {
   "cell_type": "markdown",
   "id": "5c14c90f",
   "metadata": {},
   "source": [
    "**Exercício 205**  \n",
    "Dica: Explore variáveis de espécie, massa corporal e comprimento de nadadeiras para hipóteses e K‑Means."
   ]
  },
  {
   "cell_type": "code",
   "execution_count": null,
   "id": "f50688d2",
   "metadata": {},
   "outputs": [],
   "source": [
    "# Seu código aqui\n"
   ]
  },
  {
   "cell_type": "markdown",
   "id": "d86a5e81",
   "metadata": {},
   "source": [
    "**Exercício 206**  \n",
    "Dica: Explore variáveis de espécie, massa corporal e comprimento de nadadeiras para hipóteses e K‑Means."
   ]
  },
  {
   "cell_type": "code",
   "execution_count": null,
   "id": "6ea8919d",
   "metadata": {},
   "outputs": [],
   "source": [
    "# Seu código aqui\n"
   ]
  },
  {
   "cell_type": "markdown",
   "id": "32381b1a",
   "metadata": {},
   "source": [
    "**Exercício 207**  \n",
    "Dica: Explore variáveis de espécie, massa corporal e comprimento de nadadeiras para hipóteses e K‑Means."
   ]
  },
  {
   "cell_type": "code",
   "execution_count": null,
   "id": "c317c652",
   "metadata": {},
   "outputs": [],
   "source": [
    "# Seu código aqui\n"
   ]
  },
  {
   "cell_type": "markdown",
   "id": "83c5c468",
   "metadata": {},
   "source": [
    "**Exercício 208**  \n",
    "Dica: Explore variáveis de espécie, massa corporal e comprimento de nadadeiras para hipóteses e K‑Means."
   ]
  },
  {
   "cell_type": "code",
   "execution_count": null,
   "id": "a179d12f",
   "metadata": {},
   "outputs": [],
   "source": [
    "# Seu código aqui\n"
   ]
  },
  {
   "cell_type": "markdown",
   "id": "4aead90c",
   "metadata": {},
   "source": [
    "**Exercício 209**  \n",
    "Dica: Explore variáveis de espécie, massa corporal e comprimento de nadadeiras para hipóteses e K‑Means."
   ]
  },
  {
   "cell_type": "code",
   "execution_count": null,
   "id": "07fd63de",
   "metadata": {},
   "outputs": [],
   "source": [
    "# Seu código aqui\n"
   ]
  },
  {
   "cell_type": "markdown",
   "id": "6d928dab",
   "metadata": {},
   "source": [
    "**Exercício 210**  \n",
    "Dica: Explore variáveis de espécie, massa corporal e comprimento de nadadeiras para hipóteses e K‑Means."
   ]
  },
  {
   "cell_type": "code",
   "execution_count": null,
   "id": "a6072a22",
   "metadata": {},
   "outputs": [],
   "source": [
    "# Seu código aqui\n"
   ]
  },
  {
   "cell_type": "markdown",
   "id": "d167d223",
   "metadata": {},
   "source": [
    "**Exercício 211**  \n",
    "Dica: Explore variáveis de espécie, massa corporal e comprimento de nadadeiras para hipóteses e K‑Means."
   ]
  },
  {
   "cell_type": "code",
   "execution_count": null,
   "id": "50d5fcc7",
   "metadata": {},
   "outputs": [],
   "source": [
    "# Seu código aqui\n"
   ]
  },
  {
   "cell_type": "markdown",
   "id": "4921d8cf",
   "metadata": {},
   "source": [
    "**Exercício 212**  \n",
    "Dica: Explore variáveis de espécie, massa corporal e comprimento de nadadeiras para hipóteses e K‑Means."
   ]
  },
  {
   "cell_type": "code",
   "execution_count": null,
   "id": "c2c04c21",
   "metadata": {},
   "outputs": [],
   "source": [
    "# Seu código aqui\n"
   ]
  },
  {
   "cell_type": "markdown",
   "id": "5c007392",
   "metadata": {},
   "source": [
    "**Exercício 213**  \n",
    "Dica: Explore variáveis de espécie, massa corporal e comprimento de nadadeiras para hipóteses e K‑Means."
   ]
  },
  {
   "cell_type": "code",
   "execution_count": null,
   "id": "37b93bb4",
   "metadata": {},
   "outputs": [],
   "source": [
    "# Seu código aqui\n"
   ]
  },
  {
   "cell_type": "markdown",
   "id": "d24f3977",
   "metadata": {},
   "source": [
    "**Exercício 214**  \n",
    "Dica: Explore variáveis de espécie, massa corporal e comprimento de nadadeiras para hipóteses e K‑Means."
   ]
  },
  {
   "cell_type": "code",
   "execution_count": null,
   "id": "acbac2a4",
   "metadata": {},
   "outputs": [],
   "source": [
    "# Seu código aqui\n"
   ]
  },
  {
   "cell_type": "markdown",
   "id": "3c9c7444",
   "metadata": {},
   "source": [
    "**Exercício 215**  \n",
    "Dica: Explore variáveis de espécie, massa corporal e comprimento de nadadeiras para hipóteses e K‑Means."
   ]
  },
  {
   "cell_type": "code",
   "execution_count": null,
   "id": "01106e81",
   "metadata": {},
   "outputs": [],
   "source": [
    "# Seu código aqui\n"
   ]
  },
  {
   "cell_type": "markdown",
   "id": "22e3d961",
   "metadata": {},
   "source": [
    "**Exercício 216**  \n",
    "Dica: Explore variáveis de espécie, massa corporal e comprimento de nadadeiras para hipóteses e K‑Means."
   ]
  },
  {
   "cell_type": "code",
   "execution_count": null,
   "id": "4e5b7899",
   "metadata": {},
   "outputs": [],
   "source": [
    "# Seu código aqui\n"
   ]
  },
  {
   "cell_type": "markdown",
   "id": "25cc3b08",
   "metadata": {},
   "source": [
    "**Exercício 217**  \n",
    "Dica: Explore variáveis de espécie, massa corporal e comprimento de nadadeiras para hipóteses e K‑Means."
   ]
  },
  {
   "cell_type": "code",
   "execution_count": null,
   "id": "3b07a449",
   "metadata": {},
   "outputs": [],
   "source": [
    "# Seu código aqui\n"
   ]
  },
  {
   "cell_type": "markdown",
   "id": "4618ce4d",
   "metadata": {},
   "source": [
    "**Exercício 218**  \n",
    "Dica: Explore variáveis de espécie, massa corporal e comprimento de nadadeiras para hipóteses e K‑Means."
   ]
  },
  {
   "cell_type": "code",
   "execution_count": null,
   "id": "1abfb40a",
   "metadata": {},
   "outputs": [],
   "source": [
    "# Seu código aqui\n"
   ]
  },
  {
   "cell_type": "markdown",
   "id": "4a587ae7",
   "metadata": {},
   "source": [
    "**Exercício 219**  \n",
    "Dica: Explore variáveis de espécie, massa corporal e comprimento de nadadeiras para hipóteses e K‑Means."
   ]
  },
  {
   "cell_type": "code",
   "execution_count": null,
   "id": "741e091b",
   "metadata": {},
   "outputs": [],
   "source": [
    "# Seu código aqui\n"
   ]
  },
  {
   "cell_type": "markdown",
   "id": "77c5fbbc",
   "metadata": {},
   "source": [
    "**Exercício 220**  \n",
    "Dica: Explore variáveis de espécie, massa corporal e comprimento de nadadeiras para hipóteses e K‑Means."
   ]
  },
  {
   "cell_type": "code",
   "execution_count": null,
   "id": "aafbaf4d",
   "metadata": {},
   "outputs": [],
   "source": [
    "# Seu código aqui\n"
   ]
  },
  {
   "cell_type": "markdown",
   "id": "59b4675d",
   "metadata": {},
   "source": [
    "**Exercício 221**  \n",
    "Dica: Explore variáveis de espécie, massa corporal e comprimento de nadadeiras para hipóteses e K‑Means."
   ]
  },
  {
   "cell_type": "code",
   "execution_count": null,
   "id": "aad9bd72",
   "metadata": {},
   "outputs": [],
   "source": [
    "# Seu código aqui\n"
   ]
  },
  {
   "cell_type": "markdown",
   "id": "ad9fc72a",
   "metadata": {},
   "source": [
    "**Exercício 222**  \n",
    "Dica: Explore variáveis de espécie, massa corporal e comprimento de nadadeiras para hipóteses e K‑Means."
   ]
  },
  {
   "cell_type": "code",
   "execution_count": null,
   "id": "e67d676f",
   "metadata": {},
   "outputs": [],
   "source": [
    "# Seu código aqui\n"
   ]
  },
  {
   "cell_type": "markdown",
   "id": "13881c23",
   "metadata": {},
   "source": [
    "**Exercício 223**  \n",
    "Dica: Explore variáveis de espécie, massa corporal e comprimento de nadadeiras para hipóteses e K‑Means."
   ]
  },
  {
   "cell_type": "code",
   "execution_count": null,
   "id": "5135b62e",
   "metadata": {},
   "outputs": [],
   "source": [
    "# Seu código aqui\n"
   ]
  },
  {
   "cell_type": "markdown",
   "id": "5044056e",
   "metadata": {},
   "source": [
    "**Exercício 224**  \n",
    "Dica: Explore variáveis de espécie, massa corporal e comprimento de nadadeiras para hipóteses e K‑Means."
   ]
  },
  {
   "cell_type": "code",
   "execution_count": null,
   "id": "a4b5d23a",
   "metadata": {},
   "outputs": [],
   "source": [
    "# Seu código aqui\n"
   ]
  },
  {
   "cell_type": "markdown",
   "id": "a3997ec0",
   "metadata": {},
   "source": [
    "**Exercício 225**  \n",
    "Dica: Explore variáveis de espécie, massa corporal e comprimento de nadadeiras para hipóteses e K‑Means."
   ]
  },
  {
   "cell_type": "code",
   "execution_count": null,
   "id": "057660cb",
   "metadata": {},
   "outputs": [],
   "source": [
    "# Seu código aqui\n"
   ]
  },
  {
   "cell_type": "markdown",
   "id": "357ffe99",
   "metadata": {},
   "source": [
    "**Exercício 226**  \n",
    "Dica: Explore variáveis de espécie, massa corporal e comprimento de nadadeiras para hipóteses e K‑Means."
   ]
  },
  {
   "cell_type": "code",
   "execution_count": null,
   "id": "500ffdcc",
   "metadata": {},
   "outputs": [],
   "source": [
    "# Seu código aqui\n"
   ]
  },
  {
   "cell_type": "markdown",
   "id": "db917dda",
   "metadata": {},
   "source": [
    "**Exercício 227**  \n",
    "Dica: Explore variáveis de espécie, massa corporal e comprimento de nadadeiras para hipóteses e K‑Means."
   ]
  },
  {
   "cell_type": "code",
   "execution_count": null,
   "id": "ec221ee7",
   "metadata": {},
   "outputs": [],
   "source": [
    "# Seu código aqui\n"
   ]
  },
  {
   "cell_type": "markdown",
   "id": "754ffc1c",
   "metadata": {},
   "source": [
    "**Exercício 228**  \n",
    "Dica: Explore variáveis de espécie, massa corporal e comprimento de nadadeiras para hipóteses e K‑Means."
   ]
  },
  {
   "cell_type": "code",
   "execution_count": null,
   "id": "3b177d96",
   "metadata": {},
   "outputs": [],
   "source": [
    "# Seu código aqui\n"
   ]
  },
  {
   "cell_type": "markdown",
   "id": "9a3a85d0",
   "metadata": {},
   "source": [
    "**Exercício 229**  \n",
    "Dica: Explore variáveis de espécie, massa corporal e comprimento de nadadeiras para hipóteses e K‑Means."
   ]
  },
  {
   "cell_type": "code",
   "execution_count": null,
   "id": "e0e2398a",
   "metadata": {},
   "outputs": [],
   "source": [
    "# Seu código aqui\n"
   ]
  },
  {
   "cell_type": "markdown",
   "id": "bc2bc0b6",
   "metadata": {},
   "source": [
    "**Exercício 230**  \n",
    "Dica: Explore variáveis de espécie, massa corporal e comprimento de nadadeiras para hipóteses e K‑Means."
   ]
  },
  {
   "cell_type": "code",
   "execution_count": null,
   "id": "cfa53ef8",
   "metadata": {},
   "outputs": [],
   "source": [
    "# Seu código aqui\n"
   ]
  },
  {
   "cell_type": "markdown",
   "id": "2aab3e60",
   "metadata": {},
   "source": [
    "**Exercício 231**  \n",
    "Dica: Explore variáveis de espécie, massa corporal e comprimento de nadadeiras para hipóteses e K‑Means."
   ]
  },
  {
   "cell_type": "code",
   "execution_count": null,
   "id": "41252c82",
   "metadata": {},
   "outputs": [],
   "source": [
    "# Seu código aqui\n"
   ]
  },
  {
   "cell_type": "markdown",
   "id": "b5b2725d",
   "metadata": {},
   "source": [
    "**Exercício 232**  \n",
    "Dica: Explore variáveis de espécie, massa corporal e comprimento de nadadeiras para hipóteses e K‑Means."
   ]
  },
  {
   "cell_type": "code",
   "execution_count": null,
   "id": "dbcb1737",
   "metadata": {},
   "outputs": [],
   "source": [
    "# Seu código aqui\n"
   ]
  },
  {
   "cell_type": "markdown",
   "id": "8103db98",
   "metadata": {},
   "source": [
    "**Exercício 233**  \n",
    "Dica: Explore variáveis de espécie, massa corporal e comprimento de nadadeiras para hipóteses e K‑Means."
   ]
  },
  {
   "cell_type": "code",
   "execution_count": null,
   "id": "52318e22",
   "metadata": {},
   "outputs": [],
   "source": [
    "# Seu código aqui\n"
   ]
  },
  {
   "cell_type": "markdown",
   "id": "e76a260f",
   "metadata": {},
   "source": [
    "**Exercício 234**  \n",
    "Dica: Explore variáveis de espécie, massa corporal e comprimento de nadadeiras para hipóteses e K‑Means."
   ]
  },
  {
   "cell_type": "code",
   "execution_count": null,
   "id": "dd29978d",
   "metadata": {},
   "outputs": [],
   "source": [
    "# Seu código aqui\n"
   ]
  },
  {
   "cell_type": "markdown",
   "id": "e8d3a28b",
   "metadata": {},
   "source": [
    "**Exercício 235**  \n",
    "Dica: Explore variáveis de espécie, massa corporal e comprimento de nadadeiras para hipóteses e K‑Means."
   ]
  },
  {
   "cell_type": "code",
   "execution_count": null,
   "id": "6d5fa358",
   "metadata": {},
   "outputs": [],
   "source": [
    "# Seu código aqui\n"
   ]
  },
  {
   "cell_type": "markdown",
   "id": "3b962928",
   "metadata": {},
   "source": [
    "**Exercício 236**  \n",
    "Dica: Explore variáveis de espécie, massa corporal e comprimento de nadadeiras para hipóteses e K‑Means."
   ]
  },
  {
   "cell_type": "code",
   "execution_count": null,
   "id": "f06a58f4",
   "metadata": {},
   "outputs": [],
   "source": [
    "# Seu código aqui\n"
   ]
  },
  {
   "cell_type": "markdown",
   "id": "8b102077",
   "metadata": {},
   "source": [
    "**Exercício 237**  \n",
    "Dica: Explore variáveis de espécie, massa corporal e comprimento de nadadeiras para hipóteses e K‑Means."
   ]
  },
  {
   "cell_type": "code",
   "execution_count": null,
   "id": "4fc1afb6",
   "metadata": {},
   "outputs": [],
   "source": [
    "# Seu código aqui\n"
   ]
  },
  {
   "cell_type": "markdown",
   "id": "d358c909",
   "metadata": {},
   "source": [
    "**Exercício 238**  \n",
    "Dica: Explore variáveis de espécie, massa corporal e comprimento de nadadeiras para hipóteses e K‑Means."
   ]
  },
  {
   "cell_type": "code",
   "execution_count": null,
   "id": "5f3f3729",
   "metadata": {},
   "outputs": [],
   "source": [
    "# Seu código aqui\n"
   ]
  },
  {
   "cell_type": "markdown",
   "id": "c2ede225",
   "metadata": {},
   "source": [
    "**Exercício 239**  \n",
    "Dica: Explore variáveis de espécie, massa corporal e comprimento de nadadeiras para hipóteses e K‑Means."
   ]
  },
  {
   "cell_type": "code",
   "execution_count": null,
   "id": "4d1af1a1",
   "metadata": {},
   "outputs": [],
   "source": [
    "# Seu código aqui\n"
   ]
  },
  {
   "cell_type": "markdown",
   "id": "cf4cb1cc",
   "metadata": {},
   "source": [
    "**Exercício 240**  \n",
    "Dica: Explore variáveis de espécie, massa corporal e comprimento de nadadeiras para hipóteses e K‑Means."
   ]
  },
  {
   "cell_type": "code",
   "execution_count": null,
   "id": "02913511",
   "metadata": {},
   "outputs": [],
   "source": [
    "# Seu código aqui\n"
   ]
  },
  {
   "cell_type": "markdown",
   "id": "d98ec714",
   "metadata": {},
   "source": [
    "**Exercício 241**  \n",
    "Dica: Explore variáveis de espécie, massa corporal e comprimento de nadadeiras para hipóteses e K‑Means."
   ]
  },
  {
   "cell_type": "code",
   "execution_count": null,
   "id": "8cb0d0a7",
   "metadata": {},
   "outputs": [],
   "source": [
    "# Seu código aqui\n"
   ]
  },
  {
   "cell_type": "markdown",
   "id": "16f27df6",
   "metadata": {},
   "source": [
    "**Exercício 242**  \n",
    "Dica: Explore variáveis de espécie, massa corporal e comprimento de nadadeiras para hipóteses e K‑Means."
   ]
  },
  {
   "cell_type": "code",
   "execution_count": null,
   "id": "8ef03a6c",
   "metadata": {},
   "outputs": [],
   "source": [
    "# Seu código aqui\n"
   ]
  },
  {
   "cell_type": "markdown",
   "id": "25f4be01",
   "metadata": {},
   "source": [
    "**Exercício 243**  \n",
    "Dica: Explore variáveis de espécie, massa corporal e comprimento de nadadeiras para hipóteses e K‑Means."
   ]
  },
  {
   "cell_type": "code",
   "execution_count": null,
   "id": "eb07a8cc",
   "metadata": {},
   "outputs": [],
   "source": [
    "# Seu código aqui\n"
   ]
  },
  {
   "cell_type": "markdown",
   "id": "2ad689cd",
   "metadata": {},
   "source": [
    "**Exercício 244**  \n",
    "Dica: Explore variáveis de espécie, massa corporal e comprimento de nadadeiras para hipóteses e K‑Means."
   ]
  },
  {
   "cell_type": "code",
   "execution_count": null,
   "id": "c8cbdfa7",
   "metadata": {},
   "outputs": [],
   "source": [
    "# Seu código aqui\n"
   ]
  },
  {
   "cell_type": "markdown",
   "id": "f6da00e0",
   "metadata": {},
   "source": [
    "**Exercício 245**  \n",
    "Dica: Explore variáveis de espécie, massa corporal e comprimento de nadadeiras para hipóteses e K‑Means."
   ]
  },
  {
   "cell_type": "code",
   "execution_count": null,
   "id": "ade42c56",
   "metadata": {},
   "outputs": [],
   "source": [
    "# Seu código aqui\n"
   ]
  },
  {
   "cell_type": "markdown",
   "id": "c0b6ae0f",
   "metadata": {},
   "source": [
    "**Exercício 246**  \n",
    "Dica: Explore variáveis de espécie, massa corporal e comprimento de nadadeiras para hipóteses e K‑Means."
   ]
  },
  {
   "cell_type": "code",
   "execution_count": null,
   "id": "0588adbc",
   "metadata": {},
   "outputs": [],
   "source": [
    "# Seu código aqui\n"
   ]
  },
  {
   "cell_type": "markdown",
   "id": "54de2ef3",
   "metadata": {},
   "source": [
    "**Exercício 247**  \n",
    "Dica: Explore variáveis de espécie, massa corporal e comprimento de nadadeiras para hipóteses e K‑Means."
   ]
  },
  {
   "cell_type": "code",
   "execution_count": null,
   "id": "a56ac40d",
   "metadata": {},
   "outputs": [],
   "source": [
    "# Seu código aqui\n"
   ]
  },
  {
   "cell_type": "markdown",
   "id": "b8b19f79",
   "metadata": {},
   "source": [
    "**Exercício 248**  \n",
    "Dica: Explore variáveis de espécie, massa corporal e comprimento de nadadeiras para hipóteses e K‑Means."
   ]
  },
  {
   "cell_type": "code",
   "execution_count": null,
   "id": "08d924a9",
   "metadata": {},
   "outputs": [],
   "source": [
    "# Seu código aqui\n"
   ]
  },
  {
   "cell_type": "markdown",
   "id": "969e1601",
   "metadata": {},
   "source": [
    "**Exercício 249**  \n",
    "Dica: Explore variáveis de espécie, massa corporal e comprimento de nadadeiras para hipóteses e K‑Means."
   ]
  },
  {
   "cell_type": "code",
   "execution_count": null,
   "id": "1c36de3a",
   "metadata": {},
   "outputs": [],
   "source": [
    "# Seu código aqui\n"
   ]
  },
  {
   "cell_type": "markdown",
   "id": "38b1e0e3",
   "metadata": {},
   "source": [
    "**Exercício 250**  \n",
    "Dica: Explore variáveis de espécie, massa corporal e comprimento de nadadeiras para hipóteses e K‑Means."
   ]
  },
  {
   "cell_type": "code",
   "execution_count": null,
   "id": "82e7fb1e",
   "metadata": {},
   "outputs": [],
   "source": [
    "# Seu código aqui\n"
   ]
  },
  {
   "cell_type": "markdown",
   "id": "0c0808c1",
   "metadata": {},
   "source": [
    "**Exercício 251**  \n",
    "Dica: Explore variáveis de espécie, massa corporal e comprimento de nadadeiras para hipóteses e K‑Means."
   ]
  },
  {
   "cell_type": "code",
   "execution_count": null,
   "id": "74f3e234",
   "metadata": {},
   "outputs": [],
   "source": [
    "# Seu código aqui\n"
   ]
  },
  {
   "cell_type": "markdown",
   "id": "9263961f",
   "metadata": {},
   "source": [
    "**Exercício 252**  \n",
    "Dica: Explore variáveis de espécie, massa corporal e comprimento de nadadeiras para hipóteses e K‑Means."
   ]
  },
  {
   "cell_type": "code",
   "execution_count": null,
   "id": "5d63d27f",
   "metadata": {},
   "outputs": [],
   "source": [
    "# Seu código aqui\n"
   ]
  },
  {
   "cell_type": "markdown",
   "id": "46b35124",
   "metadata": {},
   "source": [
    "**Exercício 253**  \n",
    "Dica: Explore variáveis de espécie, massa corporal e comprimento de nadadeiras para hipóteses e K‑Means."
   ]
  },
  {
   "cell_type": "code",
   "execution_count": null,
   "id": "4d4d50d0",
   "metadata": {},
   "outputs": [],
   "source": [
    "# Seu código aqui\n"
   ]
  },
  {
   "cell_type": "markdown",
   "id": "1babb317",
   "metadata": {},
   "source": [
    "**Exercício 254**  \n",
    "Dica: Explore variáveis de espécie, massa corporal e comprimento de nadadeiras para hipóteses e K‑Means."
   ]
  },
  {
   "cell_type": "code",
   "execution_count": null,
   "id": "5c2a3c46",
   "metadata": {},
   "outputs": [],
   "source": [
    "# Seu código aqui\n"
   ]
  },
  {
   "cell_type": "markdown",
   "id": "5cb0b406",
   "metadata": {},
   "source": [
    "**Exercício 255**  \n",
    "Dica: Explore variáveis de espécie, massa corporal e comprimento de nadadeiras para hipóteses e K‑Means."
   ]
  },
  {
   "cell_type": "code",
   "execution_count": null,
   "id": "440edd07",
   "metadata": {},
   "outputs": [],
   "source": [
    "# Seu código aqui\n"
   ]
  },
  {
   "cell_type": "markdown",
   "id": "71b4b9dd",
   "metadata": {},
   "source": [
    "**Exercício 256**  \n",
    "Dica: Explore variáveis de espécie, massa corporal e comprimento de nadadeiras para hipóteses e K‑Means."
   ]
  },
  {
   "cell_type": "code",
   "execution_count": null,
   "id": "4e44b5b5",
   "metadata": {},
   "outputs": [],
   "source": [
    "# Seu código aqui\n"
   ]
  },
  {
   "cell_type": "markdown",
   "id": "401f23c4",
   "metadata": {},
   "source": [
    "**Exercício 257**  \n",
    "Dica: Explore variáveis de espécie, massa corporal e comprimento de nadadeiras para hipóteses e K‑Means."
   ]
  },
  {
   "cell_type": "code",
   "execution_count": null,
   "id": "fcfd6c71",
   "metadata": {},
   "outputs": [],
   "source": [
    "# Seu código aqui\n"
   ]
  },
  {
   "cell_type": "markdown",
   "id": "1ba682d8",
   "metadata": {},
   "source": [
    "**Exercício 258**  \n",
    "Dica: Explore variáveis de espécie, massa corporal e comprimento de nadadeiras para hipóteses e K‑Means."
   ]
  },
  {
   "cell_type": "code",
   "execution_count": null,
   "id": "476a18de",
   "metadata": {},
   "outputs": [],
   "source": [
    "# Seu código aqui\n"
   ]
  },
  {
   "cell_type": "markdown",
   "id": "3da28cfd",
   "metadata": {},
   "source": [
    "**Exercício 259**  \n",
    "Dica: Explore variáveis de espécie, massa corporal e comprimento de nadadeiras para hipóteses e K‑Means."
   ]
  },
  {
   "cell_type": "code",
   "execution_count": null,
   "id": "9fb8b41d",
   "metadata": {},
   "outputs": [],
   "source": [
    "# Seu código aqui\n"
   ]
  },
  {
   "cell_type": "markdown",
   "id": "2762f1af",
   "metadata": {},
   "source": [
    "**Exercício 260**  \n",
    "Dica: Explore variáveis de espécie, massa corporal e comprimento de nadadeiras para hipóteses e K‑Means."
   ]
  },
  {
   "cell_type": "code",
   "execution_count": null,
   "id": "5bffc8a8",
   "metadata": {},
   "outputs": [],
   "source": [
    "# Seu código aqui\n"
   ]
  },
  {
   "cell_type": "markdown",
   "id": "0b8cb571",
   "metadata": {},
   "source": [
    "**Exercício 261**  \n",
    "Dica: Explore variáveis de espécie, massa corporal e comprimento de nadadeiras para hipóteses e K‑Means."
   ]
  },
  {
   "cell_type": "code",
   "execution_count": null,
   "id": "27906abf",
   "metadata": {},
   "outputs": [],
   "source": [
    "# Seu código aqui\n"
   ]
  },
  {
   "cell_type": "markdown",
   "id": "8e56775d",
   "metadata": {},
   "source": [
    "**Exercício 262**  \n",
    "Dica: Explore variáveis de espécie, massa corporal e comprimento de nadadeiras para hipóteses e K‑Means."
   ]
  },
  {
   "cell_type": "code",
   "execution_count": null,
   "id": "358ca1fb",
   "metadata": {},
   "outputs": [],
   "source": [
    "# Seu código aqui\n"
   ]
  },
  {
   "cell_type": "markdown",
   "id": "508a98a3",
   "metadata": {},
   "source": [
    "**Exercício 263**  \n",
    "Dica: Explore variáveis de espécie, massa corporal e comprimento de nadadeiras para hipóteses e K‑Means."
   ]
  },
  {
   "cell_type": "code",
   "execution_count": null,
   "id": "95d892e1",
   "metadata": {},
   "outputs": [],
   "source": [
    "# Seu código aqui\n"
   ]
  },
  {
   "cell_type": "markdown",
   "id": "f3dbee90",
   "metadata": {},
   "source": [
    "**Exercício 264**  \n",
    "Dica: Explore variáveis de espécie, massa corporal e comprimento de nadadeiras para hipóteses e K‑Means."
   ]
  },
  {
   "cell_type": "code",
   "execution_count": null,
   "id": "3788c385",
   "metadata": {},
   "outputs": [],
   "source": [
    "# Seu código aqui\n"
   ]
  },
  {
   "cell_type": "markdown",
   "id": "31034134",
   "metadata": {},
   "source": [
    "**Exercício 265**  \n",
    "Dica: Explore variáveis de espécie, massa corporal e comprimento de nadadeiras para hipóteses e K‑Means."
   ]
  },
  {
   "cell_type": "code",
   "execution_count": null,
   "id": "096b4be2",
   "metadata": {},
   "outputs": [],
   "source": [
    "# Seu código aqui\n"
   ]
  },
  {
   "cell_type": "markdown",
   "id": "8201ae40",
   "metadata": {},
   "source": [
    "**Exercício 266**  \n",
    "Dica: Explore variáveis de espécie, massa corporal e comprimento de nadadeiras para hipóteses e K‑Means."
   ]
  },
  {
   "cell_type": "code",
   "execution_count": null,
   "id": "cec4bec4",
   "metadata": {},
   "outputs": [],
   "source": [
    "# Seu código aqui\n"
   ]
  },
  {
   "cell_type": "markdown",
   "id": "f82d8a0d",
   "metadata": {},
   "source": [
    "**Exercício 267**  \n",
    "Dica: Explore variáveis de espécie, massa corporal e comprimento de nadadeiras para hipóteses e K‑Means."
   ]
  },
  {
   "cell_type": "code",
   "execution_count": null,
   "id": "505916dd",
   "metadata": {},
   "outputs": [],
   "source": [
    "# Seu código aqui\n"
   ]
  },
  {
   "cell_type": "markdown",
   "id": "32d639d9",
   "metadata": {},
   "source": [
    "**Exercício 268**  \n",
    "Dica: Explore variáveis de espécie, massa corporal e comprimento de nadadeiras para hipóteses e K‑Means."
   ]
  },
  {
   "cell_type": "code",
   "execution_count": null,
   "id": "ba823fd2",
   "metadata": {},
   "outputs": [],
   "source": [
    "# Seu código aqui\n"
   ]
  },
  {
   "cell_type": "markdown",
   "id": "6bbb1051",
   "metadata": {},
   "source": [
    "**Exercício 269**  \n",
    "Dica: Explore variáveis de espécie, massa corporal e comprimento de nadadeiras para hipóteses e K‑Means."
   ]
  },
  {
   "cell_type": "code",
   "execution_count": null,
   "id": "9d7769c2",
   "metadata": {},
   "outputs": [],
   "source": [
    "# Seu código aqui\n"
   ]
  },
  {
   "cell_type": "markdown",
   "id": "0b96de59",
   "metadata": {},
   "source": [
    "**Exercício 270**  \n",
    "Dica: Explore variáveis de espécie, massa corporal e comprimento de nadadeiras para hipóteses e K‑Means."
   ]
  },
  {
   "cell_type": "code",
   "execution_count": null,
   "id": "94b450c7",
   "metadata": {},
   "outputs": [],
   "source": [
    "# Seu código aqui\n"
   ]
  },
  {
   "cell_type": "markdown",
   "id": "5907e71f",
   "metadata": {},
   "source": [
    "**Exercício 271**  \n",
    "Dica: Explore variáveis de espécie, massa corporal e comprimento de nadadeiras para hipóteses e K‑Means."
   ]
  },
  {
   "cell_type": "code",
   "execution_count": null,
   "id": "197e1439",
   "metadata": {},
   "outputs": [],
   "source": [
    "# Seu código aqui\n"
   ]
  },
  {
   "cell_type": "markdown",
   "id": "66db17c4",
   "metadata": {},
   "source": [
    "**Exercício 272**  \n",
    "Dica: Explore variáveis de espécie, massa corporal e comprimento de nadadeiras para hipóteses e K‑Means."
   ]
  },
  {
   "cell_type": "code",
   "execution_count": null,
   "id": "886e205b",
   "metadata": {},
   "outputs": [],
   "source": [
    "# Seu código aqui\n"
   ]
  },
  {
   "cell_type": "markdown",
   "id": "d391f54a",
   "metadata": {},
   "source": [
    "**Exercício 273**  \n",
    "Dica: Explore variáveis de espécie, massa corporal e comprimento de nadadeiras para hipóteses e K‑Means."
   ]
  },
  {
   "cell_type": "code",
   "execution_count": null,
   "id": "869c5b37",
   "metadata": {},
   "outputs": [],
   "source": [
    "# Seu código aqui\n"
   ]
  },
  {
   "cell_type": "markdown",
   "id": "dec2079e",
   "metadata": {},
   "source": [
    "**Exercício 274**  \n",
    "Dica: Explore variáveis de espécie, massa corporal e comprimento de nadadeiras para hipóteses e K‑Means."
   ]
  },
  {
   "cell_type": "code",
   "execution_count": null,
   "id": "8bf0290f",
   "metadata": {},
   "outputs": [],
   "source": [
    "# Seu código aqui\n"
   ]
  },
  {
   "cell_type": "markdown",
   "id": "3902d10d",
   "metadata": {},
   "source": [
    "**Exercício 275**  \n",
    "Dica: Explore variáveis de espécie, massa corporal e comprimento de nadadeiras para hipóteses e K‑Means."
   ]
  },
  {
   "cell_type": "code",
   "execution_count": null,
   "id": "2d1aecd4",
   "metadata": {},
   "outputs": [],
   "source": [
    "# Seu código aqui\n"
   ]
  },
  {
   "cell_type": "markdown",
   "id": "f6011d09",
   "metadata": {},
   "source": [
    "**Exercício 276**  \n",
    "Dica: Explore variáveis de espécie, massa corporal e comprimento de nadadeiras para hipóteses e K‑Means."
   ]
  },
  {
   "cell_type": "code",
   "execution_count": null,
   "id": "27c79a4d",
   "metadata": {},
   "outputs": [],
   "source": [
    "# Seu código aqui\n"
   ]
  },
  {
   "cell_type": "markdown",
   "id": "5d587bf5",
   "metadata": {},
   "source": [
    "**Exercício 277**  \n",
    "Dica: Explore variáveis de espécie, massa corporal e comprimento de nadadeiras para hipóteses e K‑Means."
   ]
  },
  {
   "cell_type": "code",
   "execution_count": null,
   "id": "eb56399e",
   "metadata": {},
   "outputs": [],
   "source": [
    "# Seu código aqui\n"
   ]
  },
  {
   "cell_type": "markdown",
   "id": "969fa368",
   "metadata": {},
   "source": [
    "**Exercício 278**  \n",
    "Dica: Explore variáveis de espécie, massa corporal e comprimento de nadadeiras para hipóteses e K‑Means."
   ]
  },
  {
   "cell_type": "code",
   "execution_count": null,
   "id": "e248d4b0",
   "metadata": {},
   "outputs": [],
   "source": [
    "# Seu código aqui\n"
   ]
  },
  {
   "cell_type": "markdown",
   "id": "da648700",
   "metadata": {},
   "source": [
    "**Exercício 279**  \n",
    "Dica: Explore variáveis de espécie, massa corporal e comprimento de nadadeiras para hipóteses e K‑Means."
   ]
  },
  {
   "cell_type": "code",
   "execution_count": null,
   "id": "0c6d379d",
   "metadata": {},
   "outputs": [],
   "source": [
    "# Seu código aqui\n"
   ]
  },
  {
   "cell_type": "markdown",
   "id": "886f357e",
   "metadata": {},
   "source": [
    "**Exercício 280**  \n",
    "Dica: Explore variáveis de espécie, massa corporal e comprimento de nadadeiras para hipóteses e K‑Means."
   ]
  },
  {
   "cell_type": "code",
   "execution_count": null,
   "id": "295bca9b",
   "metadata": {},
   "outputs": [],
   "source": [
    "# Seu código aqui\n"
   ]
  },
  {
   "cell_type": "markdown",
   "id": "0183b998",
   "metadata": {},
   "source": [
    "**Exercício 281**  \n",
    "Dica: Explore variáveis de espécie, massa corporal e comprimento de nadadeiras para hipóteses e K‑Means."
   ]
  },
  {
   "cell_type": "code",
   "execution_count": null,
   "id": "c2298e6e",
   "metadata": {},
   "outputs": [],
   "source": [
    "# Seu código aqui\n"
   ]
  },
  {
   "cell_type": "markdown",
   "id": "4ad8aa0c",
   "metadata": {},
   "source": [
    "**Exercício 282**  \n",
    "Dica: Explore variáveis de espécie, massa corporal e comprimento de nadadeiras para hipóteses e K‑Means."
   ]
  },
  {
   "cell_type": "code",
   "execution_count": null,
   "id": "3978d50a",
   "metadata": {},
   "outputs": [],
   "source": [
    "# Seu código aqui\n"
   ]
  },
  {
   "cell_type": "markdown",
   "id": "8ca2b3ff",
   "metadata": {},
   "source": [
    "**Exercício 283**  \n",
    "Dica: Explore variáveis de espécie, massa corporal e comprimento de nadadeiras para hipóteses e K‑Means."
   ]
  },
  {
   "cell_type": "code",
   "execution_count": null,
   "id": "f4f19eb4",
   "metadata": {},
   "outputs": [],
   "source": [
    "# Seu código aqui\n"
   ]
  },
  {
   "cell_type": "markdown",
   "id": "ee8a2d89",
   "metadata": {},
   "source": [
    "**Exercício 284**  \n",
    "Dica: Explore variáveis de espécie, massa corporal e comprimento de nadadeiras para hipóteses e K‑Means."
   ]
  },
  {
   "cell_type": "code",
   "execution_count": null,
   "id": "0d834ed5",
   "metadata": {},
   "outputs": [],
   "source": [
    "# Seu código aqui\n"
   ]
  },
  {
   "cell_type": "markdown",
   "id": "9e29c874",
   "metadata": {},
   "source": [
    "**Exercício 285**  \n",
    "Dica: Explore variáveis de espécie, massa corporal e comprimento de nadadeiras para hipóteses e K‑Means."
   ]
  },
  {
   "cell_type": "code",
   "execution_count": null,
   "id": "099c3ef0",
   "metadata": {},
   "outputs": [],
   "source": [
    "# Seu código aqui\n"
   ]
  },
  {
   "cell_type": "markdown",
   "id": "b75a4307",
   "metadata": {},
   "source": [
    "**Exercício 286**  \n",
    "Dica: Explore variáveis de espécie, massa corporal e comprimento de nadadeiras para hipóteses e K‑Means."
   ]
  },
  {
   "cell_type": "code",
   "execution_count": null,
   "id": "531f1c57",
   "metadata": {},
   "outputs": [],
   "source": [
    "# Seu código aqui\n"
   ]
  },
  {
   "cell_type": "markdown",
   "id": "d1e62c9a",
   "metadata": {},
   "source": [
    "**Exercício 287**  \n",
    "Dica: Explore variáveis de espécie, massa corporal e comprimento de nadadeiras para hipóteses e K‑Means."
   ]
  },
  {
   "cell_type": "code",
   "execution_count": null,
   "id": "45529af4",
   "metadata": {},
   "outputs": [],
   "source": [
    "# Seu código aqui\n"
   ]
  },
  {
   "cell_type": "markdown",
   "id": "36a1af38",
   "metadata": {},
   "source": [
    "**Exercício 288**  \n",
    "Dica: Explore variáveis de espécie, massa corporal e comprimento de nadadeiras para hipóteses e K‑Means."
   ]
  },
  {
   "cell_type": "code",
   "execution_count": null,
   "id": "f9b78387",
   "metadata": {},
   "outputs": [],
   "source": [
    "# Seu código aqui\n"
   ]
  },
  {
   "cell_type": "markdown",
   "id": "7a4c081d",
   "metadata": {},
   "source": [
    "**Exercício 289**  \n",
    "Dica: Explore variáveis de espécie, massa corporal e comprimento de nadadeiras para hipóteses e K‑Means."
   ]
  },
  {
   "cell_type": "code",
   "execution_count": null,
   "id": "06b4804e",
   "metadata": {},
   "outputs": [],
   "source": [
    "# Seu código aqui\n"
   ]
  },
  {
   "cell_type": "markdown",
   "id": "e5083368",
   "metadata": {},
   "source": [
    "**Exercício 290**  \n",
    "Dica: Explore variáveis de espécie, massa corporal e comprimento de nadadeiras para hipóteses e K‑Means."
   ]
  },
  {
   "cell_type": "code",
   "execution_count": null,
   "id": "c498ea8b",
   "metadata": {},
   "outputs": [],
   "source": [
    "# Seu código aqui\n"
   ]
  },
  {
   "cell_type": "markdown",
   "id": "f7649ff7",
   "metadata": {},
   "source": [
    "**Exercício 291**  \n",
    "Dica: Explore variáveis de espécie, massa corporal e comprimento de nadadeiras para hipóteses e K‑Means."
   ]
  },
  {
   "cell_type": "code",
   "execution_count": null,
   "id": "782619ae",
   "metadata": {},
   "outputs": [],
   "source": [
    "# Seu código aqui\n"
   ]
  },
  {
   "cell_type": "markdown",
   "id": "893f3cb6",
   "metadata": {},
   "source": [
    "**Exercício 292**  \n",
    "Dica: Explore variáveis de espécie, massa corporal e comprimento de nadadeiras para hipóteses e K‑Means."
   ]
  },
  {
   "cell_type": "code",
   "execution_count": null,
   "id": "97573b3e",
   "metadata": {},
   "outputs": [],
   "source": [
    "# Seu código aqui\n"
   ]
  },
  {
   "cell_type": "markdown",
   "id": "b8c4114a",
   "metadata": {},
   "source": [
    "**Exercício 293**  \n",
    "Dica: Explore variáveis de espécie, massa corporal e comprimento de nadadeiras para hipóteses e K‑Means."
   ]
  },
  {
   "cell_type": "code",
   "execution_count": null,
   "id": "751b7ad5",
   "metadata": {},
   "outputs": [],
   "source": [
    "# Seu código aqui\n"
   ]
  },
  {
   "cell_type": "markdown",
   "id": "06601190",
   "metadata": {},
   "source": [
    "**Exercício 294**  \n",
    "Dica: Explore variáveis de espécie, massa corporal e comprimento de nadadeiras para hipóteses e K‑Means."
   ]
  },
  {
   "cell_type": "code",
   "execution_count": null,
   "id": "0abf0966",
   "metadata": {},
   "outputs": [],
   "source": [
    "# Seu código aqui\n"
   ]
  },
  {
   "cell_type": "markdown",
   "id": "cb7a26bc",
   "metadata": {},
   "source": [
    "**Exercício 295**  \n",
    "Dica: Explore variáveis de espécie, massa corporal e comprimento de nadadeiras para hipóteses e K‑Means."
   ]
  },
  {
   "cell_type": "code",
   "execution_count": null,
   "id": "26fa3bf2",
   "metadata": {},
   "outputs": [],
   "source": [
    "# Seu código aqui\n"
   ]
  },
  {
   "cell_type": "markdown",
   "id": "0ca114ba",
   "metadata": {},
   "source": [
    "**Exercício 296**  \n",
    "Dica: Explore variáveis de espécie, massa corporal e comprimento de nadadeiras para hipóteses e K‑Means."
   ]
  },
  {
   "cell_type": "code",
   "execution_count": null,
   "id": "e8595bba",
   "metadata": {},
   "outputs": [],
   "source": [
    "# Seu código aqui\n"
   ]
  },
  {
   "cell_type": "markdown",
   "id": "4e029899",
   "metadata": {},
   "source": [
    "**Exercício 297**  \n",
    "Dica: Explore variáveis de espécie, massa corporal e comprimento de nadadeiras para hipóteses e K‑Means."
   ]
  },
  {
   "cell_type": "code",
   "execution_count": null,
   "id": "5aa56087",
   "metadata": {},
   "outputs": [],
   "source": [
    "# Seu código aqui\n"
   ]
  },
  {
   "cell_type": "markdown",
   "id": "44ff0b93",
   "metadata": {},
   "source": [
    "**Exercício 298**  \n",
    "Dica: Explore variáveis de espécie, massa corporal e comprimento de nadadeiras para hipóteses e K‑Means."
   ]
  },
  {
   "cell_type": "code",
   "execution_count": null,
   "id": "8f02ac37",
   "metadata": {},
   "outputs": [],
   "source": [
    "# Seu código aqui\n"
   ]
  },
  {
   "cell_type": "markdown",
   "id": "829bb424",
   "metadata": {},
   "source": [
    "**Exercício 299**  \n",
    "Dica: Explore variáveis de espécie, massa corporal e comprimento de nadadeiras para hipóteses e K‑Means."
   ]
  },
  {
   "cell_type": "code",
   "execution_count": null,
   "id": "06746a76",
   "metadata": {},
   "outputs": [],
   "source": [
    "# Seu código aqui\n"
   ]
  },
  {
   "cell_type": "markdown",
   "id": "99d1660c",
   "metadata": {},
   "source": [
    "**Exercício 300**  \n",
    "Dica: Explore variáveis de espécie, massa corporal e comprimento de nadadeiras para hipóteses e K‑Means."
   ]
  },
  {
   "cell_type": "code",
   "execution_count": null,
   "id": "7d8521de",
   "metadata": {},
   "outputs": [],
   "source": [
    "# Seu código aqui\n"
   ]
  },
  {
   "cell_type": "markdown",
   "id": "8b2ad977",
   "metadata": {},
   "source": [
    "**Exercício 301**  \n",
    "Dica: Explore variáveis de espécie, massa corporal e comprimento de nadadeiras para hipóteses e K‑Means."
   ]
  },
  {
   "cell_type": "code",
   "execution_count": null,
   "id": "04924596",
   "metadata": {},
   "outputs": [],
   "source": [
    "# Seu código aqui\n"
   ]
  },
  {
   "cell_type": "markdown",
   "id": "98f7c34d",
   "metadata": {},
   "source": [
    "**Exercício 302**  \n",
    "Dica: Explore variáveis de espécie, massa corporal e comprimento de nadadeiras para hipóteses e K‑Means."
   ]
  },
  {
   "cell_type": "code",
   "execution_count": null,
   "id": "94ca8c03",
   "metadata": {},
   "outputs": [],
   "source": [
    "# Seu código aqui\n"
   ]
  },
  {
   "cell_type": "markdown",
   "id": "67c2b4d2",
   "metadata": {},
   "source": [
    "**Exercício 303**  \n",
    "Dica: Explore variáveis de espécie, massa corporal e comprimento de nadadeiras para hipóteses e K‑Means."
   ]
  },
  {
   "cell_type": "code",
   "execution_count": null,
   "id": "810d5c9e",
   "metadata": {},
   "outputs": [],
   "source": [
    "# Seu código aqui\n"
   ]
  },
  {
   "cell_type": "markdown",
   "id": "b99c96ce",
   "metadata": {},
   "source": [
    "**Exercício 304**  \n",
    "Dica: Explore variáveis de espécie, massa corporal e comprimento de nadadeiras para hipóteses e K‑Means."
   ]
  },
  {
   "cell_type": "code",
   "execution_count": null,
   "id": "39357cc7",
   "metadata": {},
   "outputs": [],
   "source": [
    "# Seu código aqui\n"
   ]
  },
  {
   "cell_type": "markdown",
   "id": "b19b89d4",
   "metadata": {},
   "source": [
    "**Exercício 305**  \n",
    "Dica: Explore variáveis de espécie, massa corporal e comprimento de nadadeiras para hipóteses e K‑Means."
   ]
  },
  {
   "cell_type": "code",
   "execution_count": null,
   "id": "b94738f3",
   "metadata": {},
   "outputs": [],
   "source": [
    "# Seu código aqui\n"
   ]
  },
  {
   "cell_type": "markdown",
   "id": "3cb4c89b",
   "metadata": {},
   "source": [
    "**Exercício 306**  \n",
    "Dica: Explore variáveis de espécie, massa corporal e comprimento de nadadeiras para hipóteses e K‑Means."
   ]
  },
  {
   "cell_type": "code",
   "execution_count": null,
   "id": "512dfbf5",
   "metadata": {},
   "outputs": [],
   "source": [
    "# Seu código aqui\n"
   ]
  },
  {
   "cell_type": "markdown",
   "id": "447c3467",
   "metadata": {},
   "source": [
    "**Exercício 307**  \n",
    "Dica: Explore variáveis de espécie, massa corporal e comprimento de nadadeiras para hipóteses e K‑Means."
   ]
  },
  {
   "cell_type": "code",
   "execution_count": null,
   "id": "47a2db96",
   "metadata": {},
   "outputs": [],
   "source": [
    "# Seu código aqui\n"
   ]
  },
  {
   "cell_type": "markdown",
   "id": "4d83b817",
   "metadata": {},
   "source": [
    "**Exercício 308**  \n",
    "Dica: Explore variáveis de espécie, massa corporal e comprimento de nadadeiras para hipóteses e K‑Means."
   ]
  },
  {
   "cell_type": "code",
   "execution_count": null,
   "id": "aa9db3f7",
   "metadata": {},
   "outputs": [],
   "source": [
    "# Seu código aqui\n"
   ]
  },
  {
   "cell_type": "markdown",
   "id": "686fa340",
   "metadata": {},
   "source": [
    "**Exercício 309**  \n",
    "Dica: Explore variáveis de espécie, massa corporal e comprimento de nadadeiras para hipóteses e K‑Means."
   ]
  },
  {
   "cell_type": "code",
   "execution_count": null,
   "id": "66d799c7",
   "metadata": {},
   "outputs": [],
   "source": [
    "# Seu código aqui\n"
   ]
  },
  {
   "cell_type": "markdown",
   "id": "fc934ff0",
   "metadata": {},
   "source": [
    "**Exercício 310**  \n",
    "Dica: Explore variáveis de espécie, massa corporal e comprimento de nadadeiras para hipóteses e K‑Means."
   ]
  },
  {
   "cell_type": "code",
   "execution_count": null,
   "id": "b670da7d",
   "metadata": {},
   "outputs": [],
   "source": [
    "# Seu código aqui\n"
   ]
  },
  {
   "cell_type": "markdown",
   "id": "9fbdc608",
   "metadata": {},
   "source": [
    "**Exercício 311**  \n",
    "Dica: Explore variáveis de espécie, massa corporal e comprimento de nadadeiras para hipóteses e K‑Means."
   ]
  },
  {
   "cell_type": "code",
   "execution_count": null,
   "id": "7160afd5",
   "metadata": {},
   "outputs": [],
   "source": [
    "# Seu código aqui\n"
   ]
  },
  {
   "cell_type": "markdown",
   "id": "94b71ac4",
   "metadata": {},
   "source": [
    "**Exercício 312**  \n",
    "Dica: Explore variáveis de espécie, massa corporal e comprimento de nadadeiras para hipóteses e K‑Means."
   ]
  },
  {
   "cell_type": "code",
   "execution_count": null,
   "id": "e1d81b77",
   "metadata": {},
   "outputs": [],
   "source": [
    "# Seu código aqui\n"
   ]
  },
  {
   "cell_type": "markdown",
   "id": "da2f4f86",
   "metadata": {},
   "source": [
    "**Exercício 313**  \n",
    "Dica: Explore variáveis de espécie, massa corporal e comprimento de nadadeiras para hipóteses e K‑Means."
   ]
  },
  {
   "cell_type": "code",
   "execution_count": null,
   "id": "01320fbf",
   "metadata": {},
   "outputs": [],
   "source": [
    "# Seu código aqui\n"
   ]
  },
  {
   "cell_type": "markdown",
   "id": "e852f55a",
   "metadata": {},
   "source": [
    "**Exercício 314**  \n",
    "Dica: Explore variáveis de espécie, massa corporal e comprimento de nadadeiras para hipóteses e K‑Means."
   ]
  },
  {
   "cell_type": "code",
   "execution_count": null,
   "id": "b7bb3a16",
   "metadata": {},
   "outputs": [],
   "source": [
    "# Seu código aqui\n"
   ]
  },
  {
   "cell_type": "markdown",
   "id": "5cc2a0b7",
   "metadata": {},
   "source": [
    "**Exercício 315**  \n",
    "Dica: Explore variáveis de espécie, massa corporal e comprimento de nadadeiras para hipóteses e K‑Means."
   ]
  },
  {
   "cell_type": "code",
   "execution_count": null,
   "id": "85cf5c86",
   "metadata": {},
   "outputs": [],
   "source": [
    "# Seu código aqui\n"
   ]
  },
  {
   "cell_type": "markdown",
   "id": "2c20f168",
   "metadata": {},
   "source": [
    "**Exercício 316**  \n",
    "Dica: Explore variáveis de espécie, massa corporal e comprimento de nadadeiras para hipóteses e K‑Means."
   ]
  },
  {
   "cell_type": "code",
   "execution_count": null,
   "id": "276ab788",
   "metadata": {},
   "outputs": [],
   "source": [
    "# Seu código aqui\n"
   ]
  },
  {
   "cell_type": "markdown",
   "id": "52f2de27",
   "metadata": {},
   "source": [
    "**Exercício 317**  \n",
    "Dica: Explore variáveis de espécie, massa corporal e comprimento de nadadeiras para hipóteses e K‑Means."
   ]
  },
  {
   "cell_type": "code",
   "execution_count": null,
   "id": "26d8ae18",
   "metadata": {},
   "outputs": [],
   "source": [
    "# Seu código aqui\n"
   ]
  },
  {
   "cell_type": "markdown",
   "id": "62609b74",
   "metadata": {},
   "source": [
    "**Exercício 318**  \n",
    "Dica: Explore variáveis de espécie, massa corporal e comprimento de nadadeiras para hipóteses e K‑Means."
   ]
  },
  {
   "cell_type": "code",
   "execution_count": null,
   "id": "b80c7d90",
   "metadata": {},
   "outputs": [],
   "source": [
    "# Seu código aqui\n"
   ]
  },
  {
   "cell_type": "markdown",
   "id": "99c2cc87",
   "metadata": {},
   "source": [
    "**Exercício 319**  \n",
    "Dica: Explore variáveis de espécie, massa corporal e comprimento de nadadeiras para hipóteses e K‑Means."
   ]
  },
  {
   "cell_type": "code",
   "execution_count": null,
   "id": "e06d633e",
   "metadata": {},
   "outputs": [],
   "source": [
    "# Seu código aqui\n"
   ]
  },
  {
   "cell_type": "markdown",
   "id": "aefa30d6",
   "metadata": {},
   "source": [
    "**Exercício 320**  \n",
    "Dica: Explore variáveis de espécie, massa corporal e comprimento de nadadeiras para hipóteses e K‑Means."
   ]
  },
  {
   "cell_type": "code",
   "execution_count": null,
   "id": "0c78d907",
   "metadata": {},
   "outputs": [],
   "source": [
    "# Seu código aqui\n"
   ]
  },
  {
   "cell_type": "markdown",
   "id": "87a40acd",
   "metadata": {},
   "source": [
    "**Exercício 321**  \n",
    "Dica: Explore variáveis de espécie, massa corporal e comprimento de nadadeiras para hipóteses e K‑Means."
   ]
  },
  {
   "cell_type": "code",
   "execution_count": null,
   "id": "5d879c38",
   "metadata": {},
   "outputs": [],
   "source": [
    "# Seu código aqui\n"
   ]
  },
  {
   "cell_type": "markdown",
   "id": "3c124d06",
   "metadata": {},
   "source": [
    "**Exercício 322**  \n",
    "Dica: Explore variáveis de espécie, massa corporal e comprimento de nadadeiras para hipóteses e K‑Means."
   ]
  },
  {
   "cell_type": "code",
   "execution_count": null,
   "id": "85e26b7a",
   "metadata": {},
   "outputs": [],
   "source": [
    "# Seu código aqui\n"
   ]
  },
  {
   "cell_type": "markdown",
   "id": "1a0ac40d",
   "metadata": {},
   "source": [
    "**Exercício 323**  \n",
    "Dica: Explore variáveis de espécie, massa corporal e comprimento de nadadeiras para hipóteses e K‑Means."
   ]
  },
  {
   "cell_type": "code",
   "execution_count": null,
   "id": "d99439d9",
   "metadata": {},
   "outputs": [],
   "source": [
    "# Seu código aqui\n"
   ]
  },
  {
   "cell_type": "markdown",
   "id": "17d02800",
   "metadata": {},
   "source": [
    "**Exercício 324**  \n",
    "Dica: Explore variáveis de espécie, massa corporal e comprimento de nadadeiras para hipóteses e K‑Means."
   ]
  },
  {
   "cell_type": "code",
   "execution_count": null,
   "id": "460d1100",
   "metadata": {},
   "outputs": [],
   "source": [
    "# Seu código aqui\n"
   ]
  },
  {
   "cell_type": "markdown",
   "id": "63c4475b",
   "metadata": {},
   "source": [
    "**Exercício 325**  \n",
    "Dica: Explore variáveis de espécie, massa corporal e comprimento de nadadeiras para hipóteses e K‑Means."
   ]
  },
  {
   "cell_type": "code",
   "execution_count": null,
   "id": "99c866e9",
   "metadata": {},
   "outputs": [],
   "source": [
    "# Seu código aqui\n"
   ]
  },
  {
   "cell_type": "markdown",
   "id": "6268a9b6",
   "metadata": {},
   "source": [
    "**Exercício 326**  \n",
    "Dica: Explore variáveis de espécie, massa corporal e comprimento de nadadeiras para hipóteses e K‑Means."
   ]
  },
  {
   "cell_type": "code",
   "execution_count": null,
   "id": "0d632b80",
   "metadata": {},
   "outputs": [],
   "source": [
    "# Seu código aqui\n"
   ]
  },
  {
   "cell_type": "markdown",
   "id": "738d9cda",
   "metadata": {},
   "source": [
    "**Exercício 327**  \n",
    "Dica: Explore variáveis de espécie, massa corporal e comprimento de nadadeiras para hipóteses e K‑Means."
   ]
  },
  {
   "cell_type": "code",
   "execution_count": null,
   "id": "00676f5c",
   "metadata": {},
   "outputs": [],
   "source": [
    "# Seu código aqui\n"
   ]
  },
  {
   "cell_type": "markdown",
   "id": "5bf35a7a",
   "metadata": {},
   "source": [
    "**Exercício 328**  \n",
    "Dica: Explore variáveis de espécie, massa corporal e comprimento de nadadeiras para hipóteses e K‑Means."
   ]
  },
  {
   "cell_type": "code",
   "execution_count": null,
   "id": "30909005",
   "metadata": {},
   "outputs": [],
   "source": [
    "# Seu código aqui\n"
   ]
  },
  {
   "cell_type": "markdown",
   "id": "f5a60303",
   "metadata": {},
   "source": [
    "**Exercício 329**  \n",
    "Dica: Explore variáveis de espécie, massa corporal e comprimento de nadadeiras para hipóteses e K‑Means."
   ]
  },
  {
   "cell_type": "code",
   "execution_count": null,
   "id": "2ebf816f",
   "metadata": {},
   "outputs": [],
   "source": [
    "# Seu código aqui\n"
   ]
  },
  {
   "cell_type": "markdown",
   "id": "7d4b8532",
   "metadata": {},
   "source": [
    "**Exercício 330**  \n",
    "Dica: Explore variáveis de espécie, massa corporal e comprimento de nadadeiras para hipóteses e K‑Means."
   ]
  },
  {
   "cell_type": "code",
   "execution_count": null,
   "id": "d197eb15",
   "metadata": {},
   "outputs": [],
   "source": [
    "# Seu código aqui\n"
   ]
  },
  {
   "cell_type": "markdown",
   "id": "b22c99fe",
   "metadata": {},
   "source": [
    "**Exercício 331**  \n",
    "Dica: Explore variáveis de espécie, massa corporal e comprimento de nadadeiras para hipóteses e K‑Means."
   ]
  },
  {
   "cell_type": "code",
   "execution_count": null,
   "id": "2d646dcc",
   "metadata": {},
   "outputs": [],
   "source": [
    "# Seu código aqui\n"
   ]
  },
  {
   "cell_type": "markdown",
   "id": "bf9af205",
   "metadata": {},
   "source": [
    "**Exercício 332**  \n",
    "Dica: Explore variáveis de espécie, massa corporal e comprimento de nadadeiras para hipóteses e K‑Means."
   ]
  },
  {
   "cell_type": "code",
   "execution_count": null,
   "id": "4c64bb58",
   "metadata": {},
   "outputs": [],
   "source": [
    "# Seu código aqui\n"
   ]
  },
  {
   "cell_type": "markdown",
   "id": "fffe47d9",
   "metadata": {},
   "source": [
    "**Exercício 333**  \n",
    "Dica: Explore variáveis de espécie, massa corporal e comprimento de nadadeiras para hipóteses e K‑Means."
   ]
  },
  {
   "cell_type": "code",
   "execution_count": null,
   "id": "c463343c",
   "metadata": {},
   "outputs": [],
   "source": [
    "# Seu código aqui\n"
   ]
  },
  {
   "cell_type": "markdown",
   "id": "bb036745",
   "metadata": {},
   "source": [
    "**Exercício 334**  \n",
    "Dica: Explore variáveis de espécie, massa corporal e comprimento de nadadeiras para hipóteses e K‑Means."
   ]
  },
  {
   "cell_type": "code",
   "execution_count": null,
   "id": "55b497ea",
   "metadata": {},
   "outputs": [],
   "source": [
    "# Seu código aqui\n"
   ]
  },
  {
   "cell_type": "markdown",
   "id": "29795b6b",
   "metadata": {},
   "source": [
    "**Exercício 335**  \n",
    "Dica: Explore variáveis de espécie, massa corporal e comprimento de nadadeiras para hipóteses e K‑Means."
   ]
  },
  {
   "cell_type": "code",
   "execution_count": null,
   "id": "142030db",
   "metadata": {},
   "outputs": [],
   "source": [
    "# Seu código aqui\n"
   ]
  },
  {
   "cell_type": "markdown",
   "id": "e7ed243a",
   "metadata": {},
   "source": [
    "**Exercício 336**  \n",
    "Dica: Explore variáveis de espécie, massa corporal e comprimento de nadadeiras para hipóteses e K‑Means."
   ]
  },
  {
   "cell_type": "code",
   "execution_count": null,
   "id": "c310525f",
   "metadata": {},
   "outputs": [],
   "source": [
    "# Seu código aqui\n"
   ]
  },
  {
   "cell_type": "markdown",
   "id": "248bc8b6",
   "metadata": {},
   "source": [
    "**Exercício 337**  \n",
    "Dica: Explore variáveis de espécie, massa corporal e comprimento de nadadeiras para hipóteses e K‑Means."
   ]
  },
  {
   "cell_type": "code",
   "execution_count": null,
   "id": "616ad71c",
   "metadata": {},
   "outputs": [],
   "source": [
    "# Seu código aqui\n"
   ]
  },
  {
   "cell_type": "markdown",
   "id": "c08e7412",
   "metadata": {},
   "source": [
    "**Exercício 338**  \n",
    "Dica: Explore variáveis de espécie, massa corporal e comprimento de nadadeiras para hipóteses e K‑Means."
   ]
  },
  {
   "cell_type": "code",
   "execution_count": null,
   "id": "277ab466",
   "metadata": {},
   "outputs": [],
   "source": [
    "# Seu código aqui\n"
   ]
  },
  {
   "cell_type": "markdown",
   "id": "310d0c6b",
   "metadata": {},
   "source": [
    "**Exercício 339**  \n",
    "Dica: Explore variáveis de espécie, massa corporal e comprimento de nadadeiras para hipóteses e K‑Means."
   ]
  },
  {
   "cell_type": "code",
   "execution_count": null,
   "id": "b676ff5f",
   "metadata": {},
   "outputs": [],
   "source": [
    "# Seu código aqui\n"
   ]
  },
  {
   "cell_type": "markdown",
   "id": "72603e84",
   "metadata": {},
   "source": [
    "**Exercício 340**  \n",
    "Dica: Explore variáveis de espécie, massa corporal e comprimento de nadadeiras para hipóteses e K‑Means."
   ]
  },
  {
   "cell_type": "code",
   "execution_count": null,
   "id": "2c4ac79a",
   "metadata": {},
   "outputs": [],
   "source": [
    "# Seu código aqui\n"
   ]
  },
  {
   "cell_type": "markdown",
   "id": "04e208d1",
   "metadata": {},
   "source": [
    "**Exercício 341**  \n",
    "Dica: Explore variáveis de espécie, massa corporal e comprimento de nadadeiras para hipóteses e K‑Means."
   ]
  },
  {
   "cell_type": "code",
   "execution_count": null,
   "id": "f99c0bfd",
   "metadata": {},
   "outputs": [],
   "source": [
    "# Seu código aqui\n"
   ]
  },
  {
   "cell_type": "markdown",
   "id": "cda3b6b6",
   "metadata": {},
   "source": [
    "**Exercício 342**  \n",
    "Dica: Explore variáveis de espécie, massa corporal e comprimento de nadadeiras para hipóteses e K‑Means."
   ]
  },
  {
   "cell_type": "code",
   "execution_count": null,
   "id": "5d84ec28",
   "metadata": {},
   "outputs": [],
   "source": [
    "# Seu código aqui\n"
   ]
  },
  {
   "cell_type": "markdown",
   "id": "be503b52",
   "metadata": {},
   "source": [
    "**Exercício 343**  \n",
    "Dica: Explore variáveis de espécie, massa corporal e comprimento de nadadeiras para hipóteses e K‑Means."
   ]
  },
  {
   "cell_type": "code",
   "execution_count": null,
   "id": "8404530a",
   "metadata": {},
   "outputs": [],
   "source": [
    "# Seu código aqui\n"
   ]
  },
  {
   "cell_type": "markdown",
   "id": "b5be1a79",
   "metadata": {},
   "source": [
    "**Exercício 344**  \n",
    "Dica: Explore variáveis de espécie, massa corporal e comprimento de nadadeiras para hipóteses e K‑Means."
   ]
  },
  {
   "cell_type": "code",
   "execution_count": null,
   "id": "49c355b8",
   "metadata": {},
   "outputs": [],
   "source": [
    "# Seu código aqui\n"
   ]
  },
  {
   "cell_type": "markdown",
   "id": "d9586dce",
   "metadata": {},
   "source": [
    "**Exercício 345**  \n",
    "Dica: Explore variáveis de espécie, massa corporal e comprimento de nadadeiras para hipóteses e K‑Means."
   ]
  },
  {
   "cell_type": "code",
   "execution_count": null,
   "id": "3d271a39",
   "metadata": {},
   "outputs": [],
   "source": [
    "# Seu código aqui\n"
   ]
  },
  {
   "cell_type": "markdown",
   "id": "a21c79af",
   "metadata": {},
   "source": [
    "**Exercício 346**  \n",
    "Dica: Explore variáveis de espécie, massa corporal e comprimento de nadadeiras para hipóteses e K‑Means."
   ]
  },
  {
   "cell_type": "code",
   "execution_count": null,
   "id": "8ef0694f",
   "metadata": {},
   "outputs": [],
   "source": [
    "# Seu código aqui\n"
   ]
  },
  {
   "cell_type": "markdown",
   "id": "9b182924",
   "metadata": {},
   "source": [
    "**Exercício 347**  \n",
    "Dica: Explore variáveis de espécie, massa corporal e comprimento de nadadeiras para hipóteses e K‑Means."
   ]
  },
  {
   "cell_type": "code",
   "execution_count": null,
   "id": "c85d9fa3",
   "metadata": {},
   "outputs": [],
   "source": [
    "# Seu código aqui\n"
   ]
  },
  {
   "cell_type": "markdown",
   "id": "b3f0ef78",
   "metadata": {},
   "source": [
    "**Exercício 348**  \n",
    "Dica: Explore variáveis de espécie, massa corporal e comprimento de nadadeiras para hipóteses e K‑Means."
   ]
  },
  {
   "cell_type": "code",
   "execution_count": null,
   "id": "99a550f0",
   "metadata": {},
   "outputs": [],
   "source": [
    "# Seu código aqui\n"
   ]
  },
  {
   "cell_type": "markdown",
   "id": "9408cb02",
   "metadata": {},
   "source": [
    "**Exercício 349**  \n",
    "Dica: Explore variáveis de espécie, massa corporal e comprimento de nadadeiras para hipóteses e K‑Means."
   ]
  },
  {
   "cell_type": "code",
   "execution_count": null,
   "id": "6dc10e44",
   "metadata": {},
   "outputs": [],
   "source": [
    "# Seu código aqui\n"
   ]
  },
  {
   "cell_type": "markdown",
   "id": "861ebfc5",
   "metadata": {},
   "source": [
    "**Exercício 350**  \n",
    "Dica: Explore variáveis de espécie, massa corporal e comprimento de nadadeiras para hipóteses e K‑Means."
   ]
  },
  {
   "cell_type": "code",
   "execution_count": null,
   "id": "b81bf0cc",
   "metadata": {},
   "outputs": [],
   "source": [
    "# Seu código aqui\n"
   ]
  },
  {
   "cell_type": "markdown",
   "id": "9deae5e2",
   "metadata": {},
   "source": [
    "**Exercício 351**  \n",
    "Dica: Explore variáveis de espécie, massa corporal e comprimento de nadadeiras para hipóteses e K‑Means."
   ]
  },
  {
   "cell_type": "code",
   "execution_count": null,
   "id": "fa208f96",
   "metadata": {},
   "outputs": [],
   "source": [
    "# Seu código aqui\n"
   ]
  },
  {
   "cell_type": "markdown",
   "id": "46101601",
   "metadata": {},
   "source": [
    "**Exercício 352**  \n",
    "Dica: Explore variáveis de espécie, massa corporal e comprimento de nadadeiras para hipóteses e K‑Means."
   ]
  },
  {
   "cell_type": "code",
   "execution_count": null,
   "id": "6c28fe1a",
   "metadata": {},
   "outputs": [],
   "source": [
    "# Seu código aqui\n"
   ]
  },
  {
   "cell_type": "markdown",
   "id": "6d2dfd3f",
   "metadata": {},
   "source": [
    "**Exercício 353**  \n",
    "Dica: Explore variáveis de espécie, massa corporal e comprimento de nadadeiras para hipóteses e K‑Means."
   ]
  },
  {
   "cell_type": "code",
   "execution_count": null,
   "id": "cbe89159",
   "metadata": {},
   "outputs": [],
   "source": [
    "# Seu código aqui\n"
   ]
  },
  {
   "cell_type": "markdown",
   "id": "44b42326",
   "metadata": {},
   "source": [
    "**Exercício 354**  \n",
    "Dica: Explore variáveis de espécie, massa corporal e comprimento de nadadeiras para hipóteses e K‑Means."
   ]
  },
  {
   "cell_type": "code",
   "execution_count": null,
   "id": "114cff12",
   "metadata": {},
   "outputs": [],
   "source": [
    "# Seu código aqui\n"
   ]
  },
  {
   "cell_type": "markdown",
   "id": "6228421d",
   "metadata": {},
   "source": [
    "**Exercício 355**  \n",
    "Dica: Explore variáveis de espécie, massa corporal e comprimento de nadadeiras para hipóteses e K‑Means."
   ]
  },
  {
   "cell_type": "code",
   "execution_count": null,
   "id": "ea475ccc",
   "metadata": {},
   "outputs": [],
   "source": [
    "# Seu código aqui\n"
   ]
  },
  {
   "cell_type": "markdown",
   "id": "682e8b72",
   "metadata": {},
   "source": [
    "**Exercício 356**  \n",
    "Dica: Explore variáveis de espécie, massa corporal e comprimento de nadadeiras para hipóteses e K‑Means."
   ]
  },
  {
   "cell_type": "code",
   "execution_count": null,
   "id": "397eabdb",
   "metadata": {},
   "outputs": [],
   "source": [
    "# Seu código aqui\n"
   ]
  },
  {
   "cell_type": "markdown",
   "id": "9c675ea3",
   "metadata": {},
   "source": [
    "**Exercício 357**  \n",
    "Dica: Explore variáveis de espécie, massa corporal e comprimento de nadadeiras para hipóteses e K‑Means."
   ]
  },
  {
   "cell_type": "code",
   "execution_count": null,
   "id": "dd317e71",
   "metadata": {},
   "outputs": [],
   "source": [
    "# Seu código aqui\n"
   ]
  },
  {
   "cell_type": "markdown",
   "id": "f799d249",
   "metadata": {},
   "source": [
    "**Exercício 358**  \n",
    "Dica: Explore variáveis de espécie, massa corporal e comprimento de nadadeiras para hipóteses e K‑Means."
   ]
  },
  {
   "cell_type": "code",
   "execution_count": null,
   "id": "eee55fb8",
   "metadata": {},
   "outputs": [],
   "source": [
    "# Seu código aqui\n"
   ]
  },
  {
   "cell_type": "markdown",
   "id": "31df79fe",
   "metadata": {},
   "source": [
    "**Exercício 359**  \n",
    "Dica: Explore variáveis de espécie, massa corporal e comprimento de nadadeiras para hipóteses e K‑Means."
   ]
  },
  {
   "cell_type": "code",
   "execution_count": null,
   "id": "f58f9cd9",
   "metadata": {},
   "outputs": [],
   "source": [
    "# Seu código aqui\n"
   ]
  },
  {
   "cell_type": "markdown",
   "id": "70850b12",
   "metadata": {},
   "source": [
    "**Exercício 360**  \n",
    "Dica: Explore variáveis de espécie, massa corporal e comprimento de nadadeiras para hipóteses e K‑Means."
   ]
  },
  {
   "cell_type": "code",
   "execution_count": null,
   "id": "3d72de8e",
   "metadata": {},
   "outputs": [],
   "source": [
    "# Seu código aqui\n"
   ]
  },
  {
   "cell_type": "markdown",
   "id": "32ec80bc",
   "metadata": {},
   "source": [
    "**Exercício 361**  \n",
    "Dica: Explore variáveis de espécie, massa corporal e comprimento de nadadeiras para hipóteses e K‑Means."
   ]
  },
  {
   "cell_type": "code",
   "execution_count": null,
   "id": "f5395d3f",
   "metadata": {},
   "outputs": [],
   "source": [
    "# Seu código aqui\n"
   ]
  },
  {
   "cell_type": "markdown",
   "id": "7dc1136f",
   "metadata": {},
   "source": [
    "**Exercício 362**  \n",
    "Dica: Explore variáveis de espécie, massa corporal e comprimento de nadadeiras para hipóteses e K‑Means."
   ]
  },
  {
   "cell_type": "code",
   "execution_count": null,
   "id": "435680ad",
   "metadata": {},
   "outputs": [],
   "source": [
    "# Seu código aqui\n"
   ]
  },
  {
   "cell_type": "markdown",
   "id": "e86cc365",
   "metadata": {},
   "source": [
    "**Exercício 363**  \n",
    "Dica: Explore variáveis de espécie, massa corporal e comprimento de nadadeiras para hipóteses e K‑Means."
   ]
  },
  {
   "cell_type": "code",
   "execution_count": null,
   "id": "a967e2b4",
   "metadata": {},
   "outputs": [],
   "source": [
    "# Seu código aqui\n"
   ]
  },
  {
   "cell_type": "markdown",
   "id": "888fb1ad",
   "metadata": {},
   "source": [
    "**Exercício 364**  \n",
    "Dica: Explore variáveis de espécie, massa corporal e comprimento de nadadeiras para hipóteses e K‑Means."
   ]
  },
  {
   "cell_type": "code",
   "execution_count": null,
   "id": "af22592a",
   "metadata": {},
   "outputs": [],
   "source": [
    "# Seu código aqui\n"
   ]
  },
  {
   "cell_type": "markdown",
   "id": "1fb11cf3",
   "metadata": {},
   "source": [
    "**Exercício 365**  \n",
    "Dica: Explore variáveis de espécie, massa corporal e comprimento de nadadeiras para hipóteses e K‑Means."
   ]
  },
  {
   "cell_type": "code",
   "execution_count": null,
   "id": "bc55f4eb",
   "metadata": {},
   "outputs": [],
   "source": [
    "# Seu código aqui\n"
   ]
  },
  {
   "cell_type": "markdown",
   "id": "9406f923",
   "metadata": {},
   "source": [
    "**Exercício 366**  \n",
    "Dica: Explore variáveis de espécie, massa corporal e comprimento de nadadeiras para hipóteses e K‑Means."
   ]
  },
  {
   "cell_type": "code",
   "execution_count": null,
   "id": "2e575d1e",
   "metadata": {},
   "outputs": [],
   "source": [
    "# Seu código aqui\n"
   ]
  },
  {
   "cell_type": "markdown",
   "id": "6d8c6776",
   "metadata": {},
   "source": [
    "**Exercício 367**  \n",
    "Dica: Explore variáveis de espécie, massa corporal e comprimento de nadadeiras para hipóteses e K‑Means."
   ]
  },
  {
   "cell_type": "code",
   "execution_count": null,
   "id": "eb6d973e",
   "metadata": {},
   "outputs": [],
   "source": [
    "# Seu código aqui\n"
   ]
  },
  {
   "cell_type": "markdown",
   "id": "2cd1beaf",
   "metadata": {},
   "source": [
    "**Exercício 368**  \n",
    "Dica: Explore variáveis de espécie, massa corporal e comprimento de nadadeiras para hipóteses e K‑Means."
   ]
  },
  {
   "cell_type": "code",
   "execution_count": null,
   "id": "2df2ae76",
   "metadata": {},
   "outputs": [],
   "source": [
    "# Seu código aqui\n"
   ]
  },
  {
   "cell_type": "markdown",
   "id": "ca37b2e6",
   "metadata": {},
   "source": [
    "**Exercício 369**  \n",
    "Dica: Explore variáveis de espécie, massa corporal e comprimento de nadadeiras para hipóteses e K‑Means."
   ]
  },
  {
   "cell_type": "code",
   "execution_count": null,
   "id": "f32db420",
   "metadata": {},
   "outputs": [],
   "source": [
    "# Seu código aqui\n"
   ]
  },
  {
   "cell_type": "markdown",
   "id": "3e33a9cc",
   "metadata": {},
   "source": [
    "**Exercício 370**  \n",
    "Dica: Explore variáveis de espécie, massa corporal e comprimento de nadadeiras para hipóteses e K‑Means."
   ]
  },
  {
   "cell_type": "code",
   "execution_count": null,
   "id": "dd5df9da",
   "metadata": {},
   "outputs": [],
   "source": [
    "# Seu código aqui\n"
   ]
  },
  {
   "cell_type": "markdown",
   "id": "51fb1ac0",
   "metadata": {},
   "source": [
    "**Exercício 371**  \n",
    "Dica: Explore variáveis de espécie, massa corporal e comprimento de nadadeiras para hipóteses e K‑Means."
   ]
  },
  {
   "cell_type": "code",
   "execution_count": null,
   "id": "0cd7cd70",
   "metadata": {},
   "outputs": [],
   "source": [
    "# Seu código aqui\n"
   ]
  },
  {
   "cell_type": "markdown",
   "id": "6bbac9ab",
   "metadata": {},
   "source": [
    "**Exercício 372**  \n",
    "Dica: Explore variáveis de espécie, massa corporal e comprimento de nadadeiras para hipóteses e K‑Means."
   ]
  },
  {
   "cell_type": "code",
   "execution_count": null,
   "id": "b1e7177e",
   "metadata": {},
   "outputs": [],
   "source": [
    "# Seu código aqui\n"
   ]
  },
  {
   "cell_type": "markdown",
   "id": "ced3d3b4",
   "metadata": {},
   "source": [
    "**Exercício 373**  \n",
    "Dica: Explore variáveis de espécie, massa corporal e comprimento de nadadeiras para hipóteses e K‑Means."
   ]
  },
  {
   "cell_type": "code",
   "execution_count": null,
   "id": "7d833bab",
   "metadata": {},
   "outputs": [],
   "source": [
    "# Seu código aqui\n"
   ]
  },
  {
   "cell_type": "markdown",
   "id": "d71a6215",
   "metadata": {},
   "source": [
    "**Exercício 374**  \n",
    "Dica: Explore variáveis de espécie, massa corporal e comprimento de nadadeiras para hipóteses e K‑Means."
   ]
  },
  {
   "cell_type": "code",
   "execution_count": null,
   "id": "38011833",
   "metadata": {},
   "outputs": [],
   "source": [
    "# Seu código aqui\n"
   ]
  },
  {
   "cell_type": "markdown",
   "id": "da5915a0",
   "metadata": {},
   "source": [
    "**Exercício 375**  \n",
    "Dica: Explore variáveis de espécie, massa corporal e comprimento de nadadeiras para hipóteses e K‑Means."
   ]
  },
  {
   "cell_type": "code",
   "execution_count": null,
   "id": "cc04b94f",
   "metadata": {},
   "outputs": [],
   "source": [
    "# Seu código aqui\n"
   ]
  },
  {
   "cell_type": "markdown",
   "id": "d8c959f9",
   "metadata": {},
   "source": [
    "**Exercício 376**  \n",
    "Dica: Explore variáveis de espécie, massa corporal e comprimento de nadadeiras para hipóteses e K‑Means."
   ]
  },
  {
   "cell_type": "code",
   "execution_count": null,
   "id": "e1f6f5ce",
   "metadata": {},
   "outputs": [],
   "source": [
    "# Seu código aqui\n"
   ]
  },
  {
   "cell_type": "markdown",
   "id": "4ece6d86",
   "metadata": {},
   "source": [
    "**Exercício 377**  \n",
    "Dica: Explore variáveis de espécie, massa corporal e comprimento de nadadeiras para hipóteses e K‑Means."
   ]
  },
  {
   "cell_type": "code",
   "execution_count": null,
   "id": "f803a2e6",
   "metadata": {},
   "outputs": [],
   "source": [
    "# Seu código aqui\n"
   ]
  },
  {
   "cell_type": "markdown",
   "id": "8b6d0445",
   "metadata": {},
   "source": [
    "**Exercício 378**  \n",
    "Dica: Explore variáveis de espécie, massa corporal e comprimento de nadadeiras para hipóteses e K‑Means."
   ]
  },
  {
   "cell_type": "code",
   "execution_count": null,
   "id": "e633d899",
   "metadata": {},
   "outputs": [],
   "source": [
    "# Seu código aqui\n"
   ]
  },
  {
   "cell_type": "markdown",
   "id": "a7eb8de6",
   "metadata": {},
   "source": [
    "**Exercício 379**  \n",
    "Dica: Explore variáveis de espécie, massa corporal e comprimento de nadadeiras para hipóteses e K‑Means."
   ]
  },
  {
   "cell_type": "code",
   "execution_count": null,
   "id": "b98a3a40",
   "metadata": {},
   "outputs": [],
   "source": [
    "# Seu código aqui\n"
   ]
  },
  {
   "cell_type": "markdown",
   "id": "30a69ac2",
   "metadata": {},
   "source": [
    "**Exercício 380**  \n",
    "Dica: Explore variáveis de espécie, massa corporal e comprimento de nadadeiras para hipóteses e K‑Means."
   ]
  },
  {
   "cell_type": "code",
   "execution_count": null,
   "id": "876ab93e",
   "metadata": {},
   "outputs": [],
   "source": [
    "# Seu código aqui\n"
   ]
  },
  {
   "cell_type": "markdown",
   "id": "187285a5",
   "metadata": {},
   "source": [
    "**Exercício 381**  \n",
    "Dica: Explore variáveis de espécie, massa corporal e comprimento de nadadeiras para hipóteses e K‑Means."
   ]
  },
  {
   "cell_type": "code",
   "execution_count": null,
   "id": "24a66abf",
   "metadata": {},
   "outputs": [],
   "source": [
    "# Seu código aqui\n"
   ]
  },
  {
   "cell_type": "markdown",
   "id": "6833079e",
   "metadata": {},
   "source": [
    "**Exercício 382**  \n",
    "Dica: Explore variáveis de espécie, massa corporal e comprimento de nadadeiras para hipóteses e K‑Means."
   ]
  },
  {
   "cell_type": "code",
   "execution_count": null,
   "id": "b8d6cc29",
   "metadata": {},
   "outputs": [],
   "source": [
    "# Seu código aqui\n"
   ]
  },
  {
   "cell_type": "markdown",
   "id": "2733be1f",
   "metadata": {},
   "source": [
    "**Exercício 383**  \n",
    "Dica: Explore variáveis de espécie, massa corporal e comprimento de nadadeiras para hipóteses e K‑Means."
   ]
  },
  {
   "cell_type": "code",
   "execution_count": null,
   "id": "f9514093",
   "metadata": {},
   "outputs": [],
   "source": [
    "# Seu código aqui\n"
   ]
  },
  {
   "cell_type": "markdown",
   "id": "59a97993",
   "metadata": {},
   "source": [
    "**Exercício 384**  \n",
    "Dica: Explore variáveis de espécie, massa corporal e comprimento de nadadeiras para hipóteses e K‑Means."
   ]
  },
  {
   "cell_type": "code",
   "execution_count": null,
   "id": "57997581",
   "metadata": {},
   "outputs": [],
   "source": [
    "# Seu código aqui\n"
   ]
  },
  {
   "cell_type": "markdown",
   "id": "c005412d",
   "metadata": {},
   "source": [
    "**Exercício 385**  \n",
    "Dica: Explore variáveis de espécie, massa corporal e comprimento de nadadeiras para hipóteses e K‑Means."
   ]
  },
  {
   "cell_type": "code",
   "execution_count": null,
   "id": "94bca9ce",
   "metadata": {},
   "outputs": [],
   "source": [
    "# Seu código aqui\n"
   ]
  },
  {
   "cell_type": "markdown",
   "id": "cfe7d28c",
   "metadata": {},
   "source": [
    "**Exercício 386**  \n",
    "Dica: Explore variáveis de espécie, massa corporal e comprimento de nadadeiras para hipóteses e K‑Means."
   ]
  },
  {
   "cell_type": "code",
   "execution_count": null,
   "id": "0740416b",
   "metadata": {},
   "outputs": [],
   "source": [
    "# Seu código aqui\n"
   ]
  },
  {
   "cell_type": "markdown",
   "id": "a42c922d",
   "metadata": {},
   "source": [
    "**Exercício 387**  \n",
    "Dica: Explore variáveis de espécie, massa corporal e comprimento de nadadeiras para hipóteses e K‑Means."
   ]
  },
  {
   "cell_type": "code",
   "execution_count": null,
   "id": "86ae61f0",
   "metadata": {},
   "outputs": [],
   "source": [
    "# Seu código aqui\n"
   ]
  },
  {
   "cell_type": "markdown",
   "id": "9ad50c6c",
   "metadata": {},
   "source": [
    "**Exercício 388**  \n",
    "Dica: Explore variáveis de espécie, massa corporal e comprimento de nadadeiras para hipóteses e K‑Means."
   ]
  },
  {
   "cell_type": "code",
   "execution_count": null,
   "id": "3676107d",
   "metadata": {},
   "outputs": [],
   "source": [
    "# Seu código aqui\n"
   ]
  },
  {
   "cell_type": "markdown",
   "id": "561895c9",
   "metadata": {},
   "source": [
    "**Exercício 389**  \n",
    "Dica: Explore variáveis de espécie, massa corporal e comprimento de nadadeiras para hipóteses e K‑Means."
   ]
  },
  {
   "cell_type": "code",
   "execution_count": null,
   "id": "7c8e8f63",
   "metadata": {},
   "outputs": [],
   "source": [
    "# Seu código aqui\n"
   ]
  },
  {
   "cell_type": "markdown",
   "id": "f8384f10",
   "metadata": {},
   "source": [
    "**Exercício 390**  \n",
    "Dica: Explore variáveis de espécie, massa corporal e comprimento de nadadeiras para hipóteses e K‑Means."
   ]
  },
  {
   "cell_type": "code",
   "execution_count": null,
   "id": "00b97f5b",
   "metadata": {},
   "outputs": [],
   "source": [
    "# Seu código aqui\n"
   ]
  },
  {
   "cell_type": "markdown",
   "id": "27b58c84",
   "metadata": {},
   "source": [
    "**Exercício 391**  \n",
    "Dica: Explore variáveis de espécie, massa corporal e comprimento de nadadeiras para hipóteses e K‑Means."
   ]
  },
  {
   "cell_type": "code",
   "execution_count": null,
   "id": "de42b453",
   "metadata": {},
   "outputs": [],
   "source": [
    "# Seu código aqui\n"
   ]
  },
  {
   "cell_type": "markdown",
   "id": "65aaa374",
   "metadata": {},
   "source": [
    "**Exercício 392**  \n",
    "Dica: Explore variáveis de espécie, massa corporal e comprimento de nadadeiras para hipóteses e K‑Means."
   ]
  },
  {
   "cell_type": "code",
   "execution_count": null,
   "id": "2476790f",
   "metadata": {},
   "outputs": [],
   "source": [
    "# Seu código aqui\n"
   ]
  },
  {
   "cell_type": "markdown",
   "id": "443e6f85",
   "metadata": {},
   "source": [
    "**Exercício 393**  \n",
    "Dica: Explore variáveis de espécie, massa corporal e comprimento de nadadeiras para hipóteses e K‑Means."
   ]
  },
  {
   "cell_type": "code",
   "execution_count": null,
   "id": "58848bc4",
   "metadata": {},
   "outputs": [],
   "source": [
    "# Seu código aqui\n"
   ]
  },
  {
   "cell_type": "markdown",
   "id": "877dfd88",
   "metadata": {},
   "source": [
    "**Exercício 394**  \n",
    "Dica: Explore variáveis de espécie, massa corporal e comprimento de nadadeiras para hipóteses e K‑Means."
   ]
  },
  {
   "cell_type": "code",
   "execution_count": null,
   "id": "d9a38e3f",
   "metadata": {},
   "outputs": [],
   "source": [
    "# Seu código aqui\n"
   ]
  },
  {
   "cell_type": "markdown",
   "id": "feffd053",
   "metadata": {},
   "source": [
    "**Exercício 395**  \n",
    "Dica: Explore variáveis de espécie, massa corporal e comprimento de nadadeiras para hipóteses e K‑Means."
   ]
  },
  {
   "cell_type": "code",
   "execution_count": null,
   "id": "c4a1c0dc",
   "metadata": {},
   "outputs": [],
   "source": [
    "# Seu código aqui\n"
   ]
  },
  {
   "cell_type": "markdown",
   "id": "628f332d",
   "metadata": {},
   "source": [
    "**Exercício 396**  \n",
    "Dica: Explore variáveis de espécie, massa corporal e comprimento de nadadeiras para hipóteses e K‑Means."
   ]
  },
  {
   "cell_type": "code",
   "execution_count": null,
   "id": "d2c4e6d0",
   "metadata": {},
   "outputs": [],
   "source": [
    "# Seu código aqui\n"
   ]
  },
  {
   "cell_type": "markdown",
   "id": "ad1433bb",
   "metadata": {},
   "source": [
    "**Exercício 397**  \n",
    "Dica: Explore variáveis de espécie, massa corporal e comprimento de nadadeiras para hipóteses e K‑Means."
   ]
  },
  {
   "cell_type": "code",
   "execution_count": null,
   "id": "3c37788d",
   "metadata": {},
   "outputs": [],
   "source": [
    "# Seu código aqui\n"
   ]
  },
  {
   "cell_type": "markdown",
   "id": "a4b73fe2",
   "metadata": {},
   "source": [
    "**Exercício 398**  \n",
    "Dica: Explore variáveis de espécie, massa corporal e comprimento de nadadeiras para hipóteses e K‑Means."
   ]
  },
  {
   "cell_type": "code",
   "execution_count": null,
   "id": "2f21675e",
   "metadata": {},
   "outputs": [],
   "source": [
    "# Seu código aqui\n"
   ]
  },
  {
   "cell_type": "markdown",
   "id": "bce191f0",
   "metadata": {},
   "source": [
    "**Exercício 399**  \n",
    "Dica: Explore variáveis de espécie, massa corporal e comprimento de nadadeiras para hipóteses e K‑Means."
   ]
  },
  {
   "cell_type": "code",
   "execution_count": null,
   "id": "79319020",
   "metadata": {},
   "outputs": [],
   "source": [
    "# Seu código aqui\n"
   ]
  },
  {
   "cell_type": "markdown",
   "id": "c1eb95b1",
   "metadata": {},
   "source": [
    "**Exercício 400**  \n",
    "Dica: Explore variáveis de espécie, massa corporal e comprimento de nadadeiras para hipóteses e K‑Means."
   ]
  },
  {
   "cell_type": "code",
   "execution_count": null,
   "id": "5c3136f1",
   "metadata": {},
   "outputs": [],
   "source": [
    "# Seu código aqui\n"
   ]
  },
  {
   "cell_type": "markdown",
   "id": "0f332f08",
   "metadata": {},
   "source": [
    "**Exercício 401**  \n",
    "Dica: Explore variáveis de espécie, massa corporal e comprimento de nadadeiras para hipóteses e K‑Means."
   ]
  },
  {
   "cell_type": "code",
   "execution_count": null,
   "id": "cef5a91f",
   "metadata": {},
   "outputs": [],
   "source": [
    "# Seu código aqui\n"
   ]
  },
  {
   "cell_type": "markdown",
   "id": "c4f82267",
   "metadata": {},
   "source": [
    "**Exercício 402**  \n",
    "Dica: Explore variáveis de espécie, massa corporal e comprimento de nadadeiras para hipóteses e K‑Means."
   ]
  },
  {
   "cell_type": "code",
   "execution_count": null,
   "id": "8c3d2124",
   "metadata": {},
   "outputs": [],
   "source": [
    "# Seu código aqui\n"
   ]
  },
  {
   "cell_type": "markdown",
   "id": "f074ff4d",
   "metadata": {},
   "source": [
    "**Exercício 403**  \n",
    "Dica: Explore variáveis de espécie, massa corporal e comprimento de nadadeiras para hipóteses e K‑Means."
   ]
  },
  {
   "cell_type": "code",
   "execution_count": null,
   "id": "72b2a277",
   "metadata": {},
   "outputs": [],
   "source": [
    "# Seu código aqui\n"
   ]
  },
  {
   "cell_type": "markdown",
   "id": "1c80d615",
   "metadata": {},
   "source": [
    "**Exercício 404**  \n",
    "Dica: Explore variáveis de espécie, massa corporal e comprimento de nadadeiras para hipóteses e K‑Means."
   ]
  },
  {
   "cell_type": "code",
   "execution_count": null,
   "id": "b91114c0",
   "metadata": {},
   "outputs": [],
   "source": [
    "# Seu código aqui\n"
   ]
  },
  {
   "cell_type": "markdown",
   "id": "9b836782",
   "metadata": {},
   "source": [
    "**Exercício 405**  \n",
    "Dica: Explore variáveis de espécie, massa corporal e comprimento de nadadeiras para hipóteses e K‑Means."
   ]
  },
  {
   "cell_type": "code",
   "execution_count": null,
   "id": "ca4414bc",
   "metadata": {},
   "outputs": [],
   "source": [
    "# Seu código aqui\n"
   ]
  },
  {
   "cell_type": "markdown",
   "id": "6f3acae4",
   "metadata": {},
   "source": [
    "**Exercício 406**  \n",
    "Dica: Explore variáveis de espécie, massa corporal e comprimento de nadadeiras para hipóteses e K‑Means."
   ]
  },
  {
   "cell_type": "code",
   "execution_count": null,
   "id": "e9fc128c",
   "metadata": {},
   "outputs": [],
   "source": [
    "# Seu código aqui\n"
   ]
  },
  {
   "cell_type": "markdown",
   "id": "9c518578",
   "metadata": {},
   "source": [
    "**Exercício 407**  \n",
    "Dica: Explore variáveis de espécie, massa corporal e comprimento de nadadeiras para hipóteses e K‑Means."
   ]
  },
  {
   "cell_type": "code",
   "execution_count": null,
   "id": "a54ae430",
   "metadata": {},
   "outputs": [],
   "source": [
    "# Seu código aqui\n"
   ]
  },
  {
   "cell_type": "markdown",
   "id": "d749d75f",
   "metadata": {},
   "source": [
    "**Exercício 408**  \n",
    "Dica: Explore variáveis de espécie, massa corporal e comprimento de nadadeiras para hipóteses e K‑Means."
   ]
  },
  {
   "cell_type": "code",
   "execution_count": null,
   "id": "ac295e97",
   "metadata": {},
   "outputs": [],
   "source": [
    "# Seu código aqui\n"
   ]
  },
  {
   "cell_type": "markdown",
   "id": "9191f6b3",
   "metadata": {},
   "source": [
    "**Exercício 409**  \n",
    "Dica: Explore variáveis de espécie, massa corporal e comprimento de nadadeiras para hipóteses e K‑Means."
   ]
  },
  {
   "cell_type": "code",
   "execution_count": null,
   "id": "3f5ee8dd",
   "metadata": {},
   "outputs": [],
   "source": [
    "# Seu código aqui\n"
   ]
  },
  {
   "cell_type": "markdown",
   "id": "a6fce9d1",
   "metadata": {},
   "source": [
    "**Exercício 410**  \n",
    "Dica: Explore variáveis de espécie, massa corporal e comprimento de nadadeiras para hipóteses e K‑Means."
   ]
  },
  {
   "cell_type": "code",
   "execution_count": null,
   "id": "db9d83bb",
   "metadata": {},
   "outputs": [],
   "source": [
    "# Seu código aqui\n"
   ]
  },
  {
   "cell_type": "markdown",
   "id": "09a98f6d",
   "metadata": {},
   "source": [
    "**Exercício 411**  \n",
    "Dica: Explore variáveis de espécie, massa corporal e comprimento de nadadeiras para hipóteses e K‑Means."
   ]
  },
  {
   "cell_type": "code",
   "execution_count": null,
   "id": "ef71c5cb",
   "metadata": {},
   "outputs": [],
   "source": [
    "# Seu código aqui\n"
   ]
  },
  {
   "cell_type": "markdown",
   "id": "84a552be",
   "metadata": {},
   "source": [
    "**Exercício 412**  \n",
    "Dica: Explore variáveis de espécie, massa corporal e comprimento de nadadeiras para hipóteses e K‑Means."
   ]
  },
  {
   "cell_type": "code",
   "execution_count": null,
   "id": "7eb35783",
   "metadata": {},
   "outputs": [],
   "source": [
    "# Seu código aqui\n"
   ]
  },
  {
   "cell_type": "markdown",
   "id": "efce3ae0",
   "metadata": {},
   "source": [
    "**Exercício 413**  \n",
    "Dica: Explore variáveis de espécie, massa corporal e comprimento de nadadeiras para hipóteses e K‑Means."
   ]
  },
  {
   "cell_type": "code",
   "execution_count": null,
   "id": "db5e3af2",
   "metadata": {},
   "outputs": [],
   "source": [
    "# Seu código aqui\n"
   ]
  },
  {
   "cell_type": "markdown",
   "id": "acb2d095",
   "metadata": {},
   "source": [
    "**Exercício 414**  \n",
    "Dica: Explore variáveis de espécie, massa corporal e comprimento de nadadeiras para hipóteses e K‑Means."
   ]
  },
  {
   "cell_type": "code",
   "execution_count": null,
   "id": "fda57a49",
   "metadata": {},
   "outputs": [],
   "source": [
    "# Seu código aqui\n"
   ]
  },
  {
   "cell_type": "markdown",
   "id": "f4087df8",
   "metadata": {},
   "source": [
    "**Exercício 415**  \n",
    "Dica: Explore variáveis de espécie, massa corporal e comprimento de nadadeiras para hipóteses e K‑Means."
   ]
  },
  {
   "cell_type": "code",
   "execution_count": null,
   "id": "6c488093",
   "metadata": {},
   "outputs": [],
   "source": [
    "# Seu código aqui\n"
   ]
  },
  {
   "cell_type": "markdown",
   "id": "ff9432eb",
   "metadata": {},
   "source": [
    "**Exercício 416**  \n",
    "Dica: Explore variáveis de espécie, massa corporal e comprimento de nadadeiras para hipóteses e K‑Means."
   ]
  },
  {
   "cell_type": "code",
   "execution_count": null,
   "id": "d8359134",
   "metadata": {},
   "outputs": [],
   "source": [
    "# Seu código aqui\n"
   ]
  },
  {
   "cell_type": "markdown",
   "id": "cfea1596",
   "metadata": {},
   "source": [
    "**Exercício 417**  \n",
    "Dica: Explore variáveis de espécie, massa corporal e comprimento de nadadeiras para hipóteses e K‑Means."
   ]
  },
  {
   "cell_type": "code",
   "execution_count": null,
   "id": "18a66404",
   "metadata": {},
   "outputs": [],
   "source": [
    "# Seu código aqui\n"
   ]
  },
  {
   "cell_type": "markdown",
   "id": "26500496",
   "metadata": {},
   "source": [
    "**Exercício 418**  \n",
    "Dica: Explore variáveis de espécie, massa corporal e comprimento de nadadeiras para hipóteses e K‑Means."
   ]
  },
  {
   "cell_type": "code",
   "execution_count": null,
   "id": "25792402",
   "metadata": {},
   "outputs": [],
   "source": [
    "# Seu código aqui\n"
   ]
  },
  {
   "cell_type": "markdown",
   "id": "68ef958f",
   "metadata": {},
   "source": [
    "**Exercício 419**  \n",
    "Dica: Explore variáveis de espécie, massa corporal e comprimento de nadadeiras para hipóteses e K‑Means."
   ]
  },
  {
   "cell_type": "code",
   "execution_count": null,
   "id": "06c0fe05",
   "metadata": {},
   "outputs": [],
   "source": [
    "# Seu código aqui\n"
   ]
  },
  {
   "cell_type": "markdown",
   "id": "8941b948",
   "metadata": {},
   "source": [
    "**Exercício 420**  \n",
    "Dica: Explore variáveis de espécie, massa corporal e comprimento de nadadeiras para hipóteses e K‑Means."
   ]
  },
  {
   "cell_type": "code",
   "execution_count": null,
   "id": "89464b07",
   "metadata": {},
   "outputs": [],
   "source": [
    "# Seu código aqui\n"
   ]
  },
  {
   "cell_type": "markdown",
   "id": "3d95726e",
   "metadata": {},
   "source": [
    "**Exercício 421**  \n",
    "Dica: Explore variáveis de espécie, massa corporal e comprimento de nadadeiras para hipóteses e K‑Means."
   ]
  },
  {
   "cell_type": "code",
   "execution_count": null,
   "id": "77fe5f77",
   "metadata": {},
   "outputs": [],
   "source": [
    "# Seu código aqui\n"
   ]
  },
  {
   "cell_type": "markdown",
   "id": "ccde981e",
   "metadata": {},
   "source": [
    "**Exercício 422**  \n",
    "Dica: Explore variáveis de espécie, massa corporal e comprimento de nadadeiras para hipóteses e K‑Means."
   ]
  },
  {
   "cell_type": "code",
   "execution_count": null,
   "id": "3289d26e",
   "metadata": {},
   "outputs": [],
   "source": [
    "# Seu código aqui\n"
   ]
  },
  {
   "cell_type": "markdown",
   "id": "3acdf22b",
   "metadata": {},
   "source": [
    "**Exercício 423**  \n",
    "Dica: Explore variáveis de espécie, massa corporal e comprimento de nadadeiras para hipóteses e K‑Means."
   ]
  },
  {
   "cell_type": "code",
   "execution_count": null,
   "id": "7216eee5",
   "metadata": {},
   "outputs": [],
   "source": [
    "# Seu código aqui\n"
   ]
  },
  {
   "cell_type": "markdown",
   "id": "fe8999e1",
   "metadata": {},
   "source": [
    "**Exercício 424**  \n",
    "Dica: Explore variáveis de espécie, massa corporal e comprimento de nadadeiras para hipóteses e K‑Means."
   ]
  },
  {
   "cell_type": "code",
   "execution_count": null,
   "id": "3588d9fc",
   "metadata": {},
   "outputs": [],
   "source": [
    "# Seu código aqui\n"
   ]
  },
  {
   "cell_type": "markdown",
   "id": "08dcf2a3",
   "metadata": {},
   "source": [
    "**Exercício 425**  \n",
    "Dica: Explore variáveis de espécie, massa corporal e comprimento de nadadeiras para hipóteses e K‑Means."
   ]
  },
  {
   "cell_type": "code",
   "execution_count": null,
   "id": "e34d6be3",
   "metadata": {},
   "outputs": [],
   "source": [
    "# Seu código aqui\n"
   ]
  },
  {
   "cell_type": "markdown",
   "id": "ba99c377",
   "metadata": {},
   "source": [
    "**Exercício 426**  \n",
    "Dica: Explore variáveis de espécie, massa corporal e comprimento de nadadeiras para hipóteses e K‑Means."
   ]
  },
  {
   "cell_type": "code",
   "execution_count": null,
   "id": "e789ec3b",
   "metadata": {},
   "outputs": [],
   "source": [
    "# Seu código aqui\n"
   ]
  },
  {
   "cell_type": "markdown",
   "id": "73421adc",
   "metadata": {},
   "source": [
    "**Exercício 427**  \n",
    "Dica: Explore variáveis de espécie, massa corporal e comprimento de nadadeiras para hipóteses e K‑Means."
   ]
  },
  {
   "cell_type": "code",
   "execution_count": null,
   "id": "51a941e8",
   "metadata": {},
   "outputs": [],
   "source": [
    "# Seu código aqui\n"
   ]
  },
  {
   "cell_type": "markdown",
   "id": "c8bec095",
   "metadata": {},
   "source": [
    "**Exercício 428**  \n",
    "Dica: Explore variáveis de espécie, massa corporal e comprimento de nadadeiras para hipóteses e K‑Means."
   ]
  },
  {
   "cell_type": "code",
   "execution_count": null,
   "id": "33a71188",
   "metadata": {},
   "outputs": [],
   "source": [
    "# Seu código aqui\n"
   ]
  },
  {
   "cell_type": "markdown",
   "id": "1b8b5d88",
   "metadata": {},
   "source": [
    "**Exercício 429**  \n",
    "Dica: Explore variáveis de espécie, massa corporal e comprimento de nadadeiras para hipóteses e K‑Means."
   ]
  },
  {
   "cell_type": "code",
   "execution_count": null,
   "id": "4c9f92e0",
   "metadata": {},
   "outputs": [],
   "source": [
    "# Seu código aqui\n"
   ]
  },
  {
   "cell_type": "markdown",
   "id": "e82803b6",
   "metadata": {},
   "source": [
    "**Exercício 430**  \n",
    "Dica: Explore variáveis de espécie, massa corporal e comprimento de nadadeiras para hipóteses e K‑Means."
   ]
  },
  {
   "cell_type": "code",
   "execution_count": null,
   "id": "acf01e42",
   "metadata": {},
   "outputs": [],
   "source": [
    "# Seu código aqui\n"
   ]
  },
  {
   "cell_type": "markdown",
   "id": "1171c7dc",
   "metadata": {},
   "source": [
    "**Exercício 431**  \n",
    "Dica: Explore variáveis de espécie, massa corporal e comprimento de nadadeiras para hipóteses e K‑Means."
   ]
  },
  {
   "cell_type": "code",
   "execution_count": null,
   "id": "3ff817ac",
   "metadata": {},
   "outputs": [],
   "source": [
    "# Seu código aqui\n"
   ]
  },
  {
   "cell_type": "markdown",
   "id": "8e9c6b37",
   "metadata": {},
   "source": [
    "**Exercício 432**  \n",
    "Dica: Explore variáveis de espécie, massa corporal e comprimento de nadadeiras para hipóteses e K‑Means."
   ]
  },
  {
   "cell_type": "code",
   "execution_count": null,
   "id": "ea2c5bd3",
   "metadata": {},
   "outputs": [],
   "source": [
    "# Seu código aqui\n"
   ]
  },
  {
   "cell_type": "markdown",
   "id": "f51332c2",
   "metadata": {},
   "source": [
    "**Exercício 433**  \n",
    "Dica: Explore variáveis de espécie, massa corporal e comprimento de nadadeiras para hipóteses e K‑Means."
   ]
  },
  {
   "cell_type": "code",
   "execution_count": null,
   "id": "3b12b01a",
   "metadata": {},
   "outputs": [],
   "source": [
    "# Seu código aqui\n"
   ]
  },
  {
   "cell_type": "markdown",
   "id": "ba7067bf",
   "metadata": {},
   "source": [
    "**Exercício 434**  \n",
    "Dica: Explore variáveis de espécie, massa corporal e comprimento de nadadeiras para hipóteses e K‑Means."
   ]
  },
  {
   "cell_type": "code",
   "execution_count": null,
   "id": "8f50782d",
   "metadata": {},
   "outputs": [],
   "source": [
    "# Seu código aqui\n"
   ]
  },
  {
   "cell_type": "markdown",
   "id": "c1483fed",
   "metadata": {},
   "source": [
    "**Exercício 435**  \n",
    "Dica: Explore variáveis de espécie, massa corporal e comprimento de nadadeiras para hipóteses e K‑Means."
   ]
  },
  {
   "cell_type": "code",
   "execution_count": null,
   "id": "960c9d6c",
   "metadata": {},
   "outputs": [],
   "source": [
    "# Seu código aqui\n"
   ]
  },
  {
   "cell_type": "markdown",
   "id": "c42b7ad9",
   "metadata": {},
   "source": [
    "**Exercício 436**  \n",
    "Dica: Explore variáveis de espécie, massa corporal e comprimento de nadadeiras para hipóteses e K‑Means."
   ]
  },
  {
   "cell_type": "code",
   "execution_count": null,
   "id": "8fcef1b9",
   "metadata": {},
   "outputs": [],
   "source": [
    "# Seu código aqui\n"
   ]
  },
  {
   "cell_type": "markdown",
   "id": "cfbbf89c",
   "metadata": {},
   "source": [
    "**Exercício 437**  \n",
    "Dica: Explore variáveis de espécie, massa corporal e comprimento de nadadeiras para hipóteses e K‑Means."
   ]
  },
  {
   "cell_type": "code",
   "execution_count": null,
   "id": "0ac9715a",
   "metadata": {},
   "outputs": [],
   "source": [
    "# Seu código aqui\n"
   ]
  },
  {
   "cell_type": "markdown",
   "id": "4bae2f83",
   "metadata": {},
   "source": [
    "**Exercício 438**  \n",
    "Dica: Explore variáveis de espécie, massa corporal e comprimento de nadadeiras para hipóteses e K‑Means."
   ]
  },
  {
   "cell_type": "code",
   "execution_count": null,
   "id": "ceb3a2fa",
   "metadata": {},
   "outputs": [],
   "source": [
    "# Seu código aqui\n"
   ]
  },
  {
   "cell_type": "markdown",
   "id": "c088b232",
   "metadata": {},
   "source": [
    "**Exercício 439**  \n",
    "Dica: Explore variáveis de espécie, massa corporal e comprimento de nadadeiras para hipóteses e K‑Means."
   ]
  },
  {
   "cell_type": "code",
   "execution_count": null,
   "id": "40d544f6",
   "metadata": {},
   "outputs": [],
   "source": [
    "# Seu código aqui\n"
   ]
  },
  {
   "cell_type": "markdown",
   "id": "966954a9",
   "metadata": {},
   "source": [
    "**Exercício 440**  \n",
    "Dica: Explore variáveis de espécie, massa corporal e comprimento de nadadeiras para hipóteses e K‑Means."
   ]
  },
  {
   "cell_type": "code",
   "execution_count": null,
   "id": "ccfd4d2c",
   "metadata": {},
   "outputs": [],
   "source": [
    "# Seu código aqui\n"
   ]
  },
  {
   "cell_type": "markdown",
   "id": "903fbbbf",
   "metadata": {},
   "source": [
    "**Exercício 441**  \n",
    "Dica: Explore variáveis de espécie, massa corporal e comprimento de nadadeiras para hipóteses e K‑Means."
   ]
  },
  {
   "cell_type": "code",
   "execution_count": null,
   "id": "6086a24b",
   "metadata": {},
   "outputs": [],
   "source": [
    "# Seu código aqui\n"
   ]
  },
  {
   "cell_type": "markdown",
   "id": "10dec49e",
   "metadata": {},
   "source": [
    "**Exercício 442**  \n",
    "Dica: Explore variáveis de espécie, massa corporal e comprimento de nadadeiras para hipóteses e K‑Means."
   ]
  },
  {
   "cell_type": "code",
   "execution_count": null,
   "id": "8e5b9630",
   "metadata": {},
   "outputs": [],
   "source": [
    "# Seu código aqui\n"
   ]
  },
  {
   "cell_type": "markdown",
   "id": "98e5c111",
   "metadata": {},
   "source": [
    "**Exercício 443**  \n",
    "Dica: Explore variáveis de espécie, massa corporal e comprimento de nadadeiras para hipóteses e K‑Means."
   ]
  },
  {
   "cell_type": "code",
   "execution_count": null,
   "id": "92115988",
   "metadata": {},
   "outputs": [],
   "source": [
    "# Seu código aqui\n"
   ]
  },
  {
   "cell_type": "markdown",
   "id": "02fcac8b",
   "metadata": {},
   "source": [
    "**Exercício 444**  \n",
    "Dica: Explore variáveis de espécie, massa corporal e comprimento de nadadeiras para hipóteses e K‑Means."
   ]
  },
  {
   "cell_type": "code",
   "execution_count": null,
   "id": "3edf66a8",
   "metadata": {},
   "outputs": [],
   "source": [
    "# Seu código aqui\n"
   ]
  },
  {
   "cell_type": "markdown",
   "id": "1b2d8cd2",
   "metadata": {},
   "source": [
    "**Exercício 445**  \n",
    "Dica: Explore variáveis de espécie, massa corporal e comprimento de nadadeiras para hipóteses e K‑Means."
   ]
  },
  {
   "cell_type": "code",
   "execution_count": null,
   "id": "3c03bde4",
   "metadata": {},
   "outputs": [],
   "source": [
    "# Seu código aqui\n"
   ]
  },
  {
   "cell_type": "markdown",
   "id": "03581ad2",
   "metadata": {},
   "source": [
    "**Exercício 446**  \n",
    "Dica: Explore variáveis de espécie, massa corporal e comprimento de nadadeiras para hipóteses e K‑Means."
   ]
  },
  {
   "cell_type": "code",
   "execution_count": null,
   "id": "dd0bc02e",
   "metadata": {},
   "outputs": [],
   "source": [
    "# Seu código aqui\n"
   ]
  },
  {
   "cell_type": "markdown",
   "id": "11c638df",
   "metadata": {},
   "source": [
    "**Exercício 447**  \n",
    "Dica: Explore variáveis de espécie, massa corporal e comprimento de nadadeiras para hipóteses e K‑Means."
   ]
  },
  {
   "cell_type": "code",
   "execution_count": null,
   "id": "1d916acb",
   "metadata": {},
   "outputs": [],
   "source": [
    "# Seu código aqui\n"
   ]
  },
  {
   "cell_type": "markdown",
   "id": "6043010e",
   "metadata": {},
   "source": [
    "**Exercício 448**  \n",
    "Dica: Explore variáveis de espécie, massa corporal e comprimento de nadadeiras para hipóteses e K‑Means."
   ]
  },
  {
   "cell_type": "code",
   "execution_count": null,
   "id": "721c9185",
   "metadata": {},
   "outputs": [],
   "source": [
    "# Seu código aqui\n"
   ]
  },
  {
   "cell_type": "markdown",
   "id": "4cbf3dfc",
   "metadata": {},
   "source": [
    "**Exercício 449**  \n",
    "Dica: Explore variáveis de espécie, massa corporal e comprimento de nadadeiras para hipóteses e K‑Means."
   ]
  },
  {
   "cell_type": "code",
   "execution_count": null,
   "id": "c9903f2a",
   "metadata": {},
   "outputs": [],
   "source": [
    "# Seu código aqui\n"
   ]
  },
  {
   "cell_type": "markdown",
   "id": "58f43880",
   "metadata": {},
   "source": [
    "**Exercício 450**  \n",
    "Dica: Explore variáveis de espécie, massa corporal e comprimento de nadadeiras para hipóteses e K‑Means."
   ]
  },
  {
   "cell_type": "code",
   "execution_count": null,
   "id": "7ca805de",
   "metadata": {},
   "outputs": [],
   "source": [
    "# Seu código aqui\n"
   ]
  },
  {
   "cell_type": "markdown",
   "id": "17cfdf04",
   "metadata": {},
   "source": [
    "**Exercício 451**  \n",
    "Dica: Explore variáveis de espécie, massa corporal e comprimento de nadadeiras para hipóteses e K‑Means."
   ]
  },
  {
   "cell_type": "code",
   "execution_count": null,
   "id": "ee23b191",
   "metadata": {},
   "outputs": [],
   "source": [
    "# Seu código aqui\n"
   ]
  },
  {
   "cell_type": "markdown",
   "id": "df7f9a2c",
   "metadata": {},
   "source": [
    "**Exercício 452**  \n",
    "Dica: Explore variáveis de espécie, massa corporal e comprimento de nadadeiras para hipóteses e K‑Means."
   ]
  },
  {
   "cell_type": "code",
   "execution_count": null,
   "id": "a6ff9a44",
   "metadata": {},
   "outputs": [],
   "source": [
    "# Seu código aqui\n"
   ]
  },
  {
   "cell_type": "markdown",
   "id": "3e487c4f",
   "metadata": {},
   "source": [
    "**Exercício 453**  \n",
    "Dica: Explore variáveis de espécie, massa corporal e comprimento de nadadeiras para hipóteses e K‑Means."
   ]
  },
  {
   "cell_type": "code",
   "execution_count": null,
   "id": "aba18125",
   "metadata": {},
   "outputs": [],
   "source": [
    "# Seu código aqui\n"
   ]
  },
  {
   "cell_type": "markdown",
   "id": "173778fd",
   "metadata": {},
   "source": [
    "**Exercício 454**  \n",
    "Dica: Explore variáveis de espécie, massa corporal e comprimento de nadadeiras para hipóteses e K‑Means."
   ]
  },
  {
   "cell_type": "code",
   "execution_count": null,
   "id": "7569f564",
   "metadata": {},
   "outputs": [],
   "source": [
    "# Seu código aqui\n"
   ]
  },
  {
   "cell_type": "markdown",
   "id": "16c3b2c4",
   "metadata": {},
   "source": [
    "**Exercício 455**  \n",
    "Dica: Explore variáveis de espécie, massa corporal e comprimento de nadadeiras para hipóteses e K‑Means."
   ]
  },
  {
   "cell_type": "code",
   "execution_count": null,
   "id": "65f05091",
   "metadata": {},
   "outputs": [],
   "source": [
    "# Seu código aqui\n"
   ]
  },
  {
   "cell_type": "markdown",
   "id": "b3a38182",
   "metadata": {},
   "source": [
    "**Exercício 456**  \n",
    "Dica: Explore variáveis de espécie, massa corporal e comprimento de nadadeiras para hipóteses e K‑Means."
   ]
  },
  {
   "cell_type": "code",
   "execution_count": null,
   "id": "ed57ce12",
   "metadata": {},
   "outputs": [],
   "source": [
    "# Seu código aqui\n"
   ]
  },
  {
   "cell_type": "markdown",
   "id": "46b72a9a",
   "metadata": {},
   "source": [
    "**Exercício 457**  \n",
    "Dica: Explore variáveis de espécie, massa corporal e comprimento de nadadeiras para hipóteses e K‑Means."
   ]
  },
  {
   "cell_type": "code",
   "execution_count": null,
   "id": "af9954e6",
   "metadata": {},
   "outputs": [],
   "source": [
    "# Seu código aqui\n"
   ]
  },
  {
   "cell_type": "markdown",
   "id": "e39d8354",
   "metadata": {},
   "source": [
    "**Exercício 458**  \n",
    "Dica: Explore variáveis de espécie, massa corporal e comprimento de nadadeiras para hipóteses e K‑Means."
   ]
  },
  {
   "cell_type": "code",
   "execution_count": null,
   "id": "603e94b4",
   "metadata": {},
   "outputs": [],
   "source": [
    "# Seu código aqui\n"
   ]
  },
  {
   "cell_type": "markdown",
   "id": "4b467b07",
   "metadata": {},
   "source": [
    "**Exercício 459**  \n",
    "Dica: Explore variáveis de espécie, massa corporal e comprimento de nadadeiras para hipóteses e K‑Means."
   ]
  },
  {
   "cell_type": "code",
   "execution_count": null,
   "id": "59a35e4f",
   "metadata": {},
   "outputs": [],
   "source": [
    "# Seu código aqui\n"
   ]
  },
  {
   "cell_type": "markdown",
   "id": "f40e50bc",
   "metadata": {},
   "source": [
    "**Exercício 460**  \n",
    "Dica: Explore variáveis de espécie, massa corporal e comprimento de nadadeiras para hipóteses e K‑Means."
   ]
  },
  {
   "cell_type": "code",
   "execution_count": null,
   "id": "719d0a23",
   "metadata": {},
   "outputs": [],
   "source": [
    "# Seu código aqui\n"
   ]
  },
  {
   "cell_type": "markdown",
   "id": "b2e33d3e",
   "metadata": {},
   "source": [
    "**Exercício 461**  \n",
    "Dica: Explore variáveis de espécie, massa corporal e comprimento de nadadeiras para hipóteses e K‑Means."
   ]
  },
  {
   "cell_type": "code",
   "execution_count": null,
   "id": "4962b552",
   "metadata": {},
   "outputs": [],
   "source": [
    "# Seu código aqui\n"
   ]
  },
  {
   "cell_type": "markdown",
   "id": "44044021",
   "metadata": {},
   "source": [
    "**Exercício 462**  \n",
    "Dica: Explore variáveis de espécie, massa corporal e comprimento de nadadeiras para hipóteses e K‑Means."
   ]
  },
  {
   "cell_type": "code",
   "execution_count": null,
   "id": "be0a1ec2",
   "metadata": {},
   "outputs": [],
   "source": [
    "# Seu código aqui\n"
   ]
  },
  {
   "cell_type": "markdown",
   "id": "2eafd7bf",
   "metadata": {},
   "source": [
    "**Exercício 463**  \n",
    "Dica: Explore variáveis de espécie, massa corporal e comprimento de nadadeiras para hipóteses e K‑Means."
   ]
  },
  {
   "cell_type": "code",
   "execution_count": null,
   "id": "f63d7464",
   "metadata": {},
   "outputs": [],
   "source": [
    "# Seu código aqui\n"
   ]
  },
  {
   "cell_type": "markdown",
   "id": "01396fe6",
   "metadata": {},
   "source": [
    "**Exercício 464**  \n",
    "Dica: Explore variáveis de espécie, massa corporal e comprimento de nadadeiras para hipóteses e K‑Means."
   ]
  },
  {
   "cell_type": "code",
   "execution_count": null,
   "id": "27772174",
   "metadata": {},
   "outputs": [],
   "source": [
    "# Seu código aqui\n"
   ]
  },
  {
   "cell_type": "markdown",
   "id": "288aa7e3",
   "metadata": {},
   "source": [
    "**Exercício 465**  \n",
    "Dica: Explore variáveis de espécie, massa corporal e comprimento de nadadeiras para hipóteses e K‑Means."
   ]
  },
  {
   "cell_type": "code",
   "execution_count": null,
   "id": "305f6c32",
   "metadata": {},
   "outputs": [],
   "source": [
    "# Seu código aqui\n"
   ]
  },
  {
   "cell_type": "markdown",
   "id": "c8e2453e",
   "metadata": {},
   "source": [
    "**Exercício 466**  \n",
    "Dica: Explore variáveis de espécie, massa corporal e comprimento de nadadeiras para hipóteses e K‑Means."
   ]
  },
  {
   "cell_type": "code",
   "execution_count": null,
   "id": "9792fbdf",
   "metadata": {},
   "outputs": [],
   "source": [
    "# Seu código aqui\n"
   ]
  },
  {
   "cell_type": "markdown",
   "id": "360fc844",
   "metadata": {},
   "source": [
    "**Exercício 467**  \n",
    "Dica: Explore variáveis de espécie, massa corporal e comprimento de nadadeiras para hipóteses e K‑Means."
   ]
  },
  {
   "cell_type": "code",
   "execution_count": null,
   "id": "90cf2357",
   "metadata": {},
   "outputs": [],
   "source": [
    "# Seu código aqui\n"
   ]
  },
  {
   "cell_type": "markdown",
   "id": "a55c7d70",
   "metadata": {},
   "source": [
    "**Exercício 468**  \n",
    "Dica: Explore variáveis de espécie, massa corporal e comprimento de nadadeiras para hipóteses e K‑Means."
   ]
  },
  {
   "cell_type": "code",
   "execution_count": null,
   "id": "28ea3688",
   "metadata": {},
   "outputs": [],
   "source": [
    "# Seu código aqui\n"
   ]
  },
  {
   "cell_type": "markdown",
   "id": "b6cb6c7a",
   "metadata": {},
   "source": [
    "**Exercício 469**  \n",
    "Dica: Explore variáveis de espécie, massa corporal e comprimento de nadadeiras para hipóteses e K‑Means."
   ]
  },
  {
   "cell_type": "code",
   "execution_count": null,
   "id": "0ece75fc",
   "metadata": {},
   "outputs": [],
   "source": [
    "# Seu código aqui\n"
   ]
  },
  {
   "cell_type": "markdown",
   "id": "00a13d24",
   "metadata": {},
   "source": [
    "**Exercício 470**  \n",
    "Dica: Explore variáveis de espécie, massa corporal e comprimento de nadadeiras para hipóteses e K‑Means."
   ]
  },
  {
   "cell_type": "code",
   "execution_count": null,
   "id": "c8efaec1",
   "metadata": {},
   "outputs": [],
   "source": [
    "# Seu código aqui\n"
   ]
  },
  {
   "cell_type": "markdown",
   "id": "1100e22c",
   "metadata": {},
   "source": [
    "**Exercício 471**  \n",
    "Dica: Explore variáveis de espécie, massa corporal e comprimento de nadadeiras para hipóteses e K‑Means."
   ]
  },
  {
   "cell_type": "code",
   "execution_count": null,
   "id": "06998241",
   "metadata": {},
   "outputs": [],
   "source": [
    "# Seu código aqui\n"
   ]
  },
  {
   "cell_type": "markdown",
   "id": "1f35b54e",
   "metadata": {},
   "source": [
    "**Exercício 472**  \n",
    "Dica: Explore variáveis de espécie, massa corporal e comprimento de nadadeiras para hipóteses e K‑Means."
   ]
  },
  {
   "cell_type": "code",
   "execution_count": null,
   "id": "5124c9d5",
   "metadata": {},
   "outputs": [],
   "source": [
    "# Seu código aqui\n"
   ]
  },
  {
   "cell_type": "markdown",
   "id": "e5ad0dce",
   "metadata": {},
   "source": [
    "**Exercício 473**  \n",
    "Dica: Explore variáveis de espécie, massa corporal e comprimento de nadadeiras para hipóteses e K‑Means."
   ]
  },
  {
   "cell_type": "code",
   "execution_count": null,
   "id": "0994018a",
   "metadata": {},
   "outputs": [],
   "source": [
    "# Seu código aqui\n"
   ]
  },
  {
   "cell_type": "markdown",
   "id": "83ed270c",
   "metadata": {},
   "source": [
    "**Exercício 474**  \n",
    "Dica: Explore variáveis de espécie, massa corporal e comprimento de nadadeiras para hipóteses e K‑Means."
   ]
  },
  {
   "cell_type": "code",
   "execution_count": null,
   "id": "9fde0a6e",
   "metadata": {},
   "outputs": [],
   "source": [
    "# Seu código aqui\n"
   ]
  },
  {
   "cell_type": "markdown",
   "id": "79eb26b6",
   "metadata": {},
   "source": [
    "**Exercício 475**  \n",
    "Dica: Explore variáveis de espécie, massa corporal e comprimento de nadadeiras para hipóteses e K‑Means."
   ]
  },
  {
   "cell_type": "code",
   "execution_count": null,
   "id": "ab52a67e",
   "metadata": {},
   "outputs": [],
   "source": [
    "# Seu código aqui\n"
   ]
  },
  {
   "cell_type": "markdown",
   "id": "6ae9e805",
   "metadata": {},
   "source": [
    "**Exercício 476**  \n",
    "Dica: Explore variáveis de espécie, massa corporal e comprimento de nadadeiras para hipóteses e K‑Means."
   ]
  },
  {
   "cell_type": "code",
   "execution_count": null,
   "id": "3251a819",
   "metadata": {},
   "outputs": [],
   "source": [
    "# Seu código aqui\n"
   ]
  },
  {
   "cell_type": "markdown",
   "id": "7717450a",
   "metadata": {},
   "source": [
    "**Exercício 477**  \n",
    "Dica: Explore variáveis de espécie, massa corporal e comprimento de nadadeiras para hipóteses e K‑Means."
   ]
  },
  {
   "cell_type": "code",
   "execution_count": null,
   "id": "411b5969",
   "metadata": {},
   "outputs": [],
   "source": [
    "# Seu código aqui\n"
   ]
  },
  {
   "cell_type": "markdown",
   "id": "7119fdcd",
   "metadata": {},
   "source": [
    "**Exercício 478**  \n",
    "Dica: Explore variáveis de espécie, massa corporal e comprimento de nadadeiras para hipóteses e K‑Means."
   ]
  },
  {
   "cell_type": "code",
   "execution_count": null,
   "id": "62072664",
   "metadata": {},
   "outputs": [],
   "source": [
    "# Seu código aqui\n"
   ]
  },
  {
   "cell_type": "markdown",
   "id": "91f3932b",
   "metadata": {},
   "source": [
    "**Exercício 479**  \n",
    "Dica: Explore variáveis de espécie, massa corporal e comprimento de nadadeiras para hipóteses e K‑Means."
   ]
  },
  {
   "cell_type": "code",
   "execution_count": null,
   "id": "3da9c9d2",
   "metadata": {},
   "outputs": [],
   "source": [
    "# Seu código aqui\n"
   ]
  },
  {
   "cell_type": "markdown",
   "id": "b169f858",
   "metadata": {},
   "source": [
    "**Exercício 480**  \n",
    "Dica: Explore variáveis de espécie, massa corporal e comprimento de nadadeiras para hipóteses e K‑Means."
   ]
  },
  {
   "cell_type": "code",
   "execution_count": null,
   "id": "43fb8f1b",
   "metadata": {},
   "outputs": [],
   "source": [
    "# Seu código aqui\n"
   ]
  },
  {
   "cell_type": "markdown",
   "id": "2fabbea4",
   "metadata": {},
   "source": [
    "**Exercício 481**  \n",
    "Dica: Explore variáveis de espécie, massa corporal e comprimento de nadadeiras para hipóteses e K‑Means."
   ]
  },
  {
   "cell_type": "code",
   "execution_count": null,
   "id": "3242b683",
   "metadata": {},
   "outputs": [],
   "source": [
    "# Seu código aqui\n"
   ]
  },
  {
   "cell_type": "markdown",
   "id": "2aa9280d",
   "metadata": {},
   "source": [
    "**Exercício 482**  \n",
    "Dica: Explore variáveis de espécie, massa corporal e comprimento de nadadeiras para hipóteses e K‑Means."
   ]
  },
  {
   "cell_type": "code",
   "execution_count": null,
   "id": "e5e27b11",
   "metadata": {},
   "outputs": [],
   "source": [
    "# Seu código aqui\n"
   ]
  },
  {
   "cell_type": "markdown",
   "id": "aa1e86c8",
   "metadata": {},
   "source": [
    "**Exercício 483**  \n",
    "Dica: Explore variáveis de espécie, massa corporal e comprimento de nadadeiras para hipóteses e K‑Means."
   ]
  },
  {
   "cell_type": "code",
   "execution_count": null,
   "id": "79f33007",
   "metadata": {},
   "outputs": [],
   "source": [
    "# Seu código aqui\n"
   ]
  },
  {
   "cell_type": "markdown",
   "id": "5a1008bd",
   "metadata": {},
   "source": [
    "**Exercício 484**  \n",
    "Dica: Explore variáveis de espécie, massa corporal e comprimento de nadadeiras para hipóteses e K‑Means."
   ]
  },
  {
   "cell_type": "code",
   "execution_count": null,
   "id": "e02c549f",
   "metadata": {},
   "outputs": [],
   "source": [
    "# Seu código aqui\n"
   ]
  },
  {
   "cell_type": "markdown",
   "id": "4490a1ae",
   "metadata": {},
   "source": [
    "**Exercício 485**  \n",
    "Dica: Explore variáveis de espécie, massa corporal e comprimento de nadadeiras para hipóteses e K‑Means."
   ]
  },
  {
   "cell_type": "code",
   "execution_count": null,
   "id": "346daed2",
   "metadata": {},
   "outputs": [],
   "source": [
    "# Seu código aqui\n"
   ]
  },
  {
   "cell_type": "markdown",
   "id": "314df5a2",
   "metadata": {},
   "source": [
    "**Exercício 486**  \n",
    "Dica: Explore variáveis de espécie, massa corporal e comprimento de nadadeiras para hipóteses e K‑Means."
   ]
  },
  {
   "cell_type": "code",
   "execution_count": null,
   "id": "af5ca7ed",
   "metadata": {},
   "outputs": [],
   "source": [
    "# Seu código aqui\n"
   ]
  },
  {
   "cell_type": "markdown",
   "id": "a74a1bc8",
   "metadata": {},
   "source": [
    "**Exercício 487**  \n",
    "Dica: Explore variáveis de espécie, massa corporal e comprimento de nadadeiras para hipóteses e K‑Means."
   ]
  },
  {
   "cell_type": "code",
   "execution_count": null,
   "id": "b29c218f",
   "metadata": {},
   "outputs": [],
   "source": [
    "# Seu código aqui\n"
   ]
  },
  {
   "cell_type": "markdown",
   "id": "766fd219",
   "metadata": {},
   "source": [
    "**Exercício 488**  \n",
    "Dica: Explore variáveis de espécie, massa corporal e comprimento de nadadeiras para hipóteses e K‑Means."
   ]
  },
  {
   "cell_type": "code",
   "execution_count": null,
   "id": "533fa8f5",
   "metadata": {},
   "outputs": [],
   "source": [
    "# Seu código aqui\n"
   ]
  },
  {
   "cell_type": "markdown",
   "id": "bd5964b4",
   "metadata": {},
   "source": [
    "**Exercício 489**  \n",
    "Dica: Explore variáveis de espécie, massa corporal e comprimento de nadadeiras para hipóteses e K‑Means."
   ]
  },
  {
   "cell_type": "code",
   "execution_count": null,
   "id": "b557d9ef",
   "metadata": {},
   "outputs": [],
   "source": [
    "# Seu código aqui\n"
   ]
  },
  {
   "cell_type": "markdown",
   "id": "e787dc1c",
   "metadata": {},
   "source": [
    "**Exercício 490**  \n",
    "Dica: Explore variáveis de espécie, massa corporal e comprimento de nadadeiras para hipóteses e K‑Means."
   ]
  },
  {
   "cell_type": "code",
   "execution_count": null,
   "id": "96fb6333",
   "metadata": {},
   "outputs": [],
   "source": [
    "# Seu código aqui\n"
   ]
  },
  {
   "cell_type": "markdown",
   "id": "5a233e31",
   "metadata": {},
   "source": [
    "**Exercício 491**  \n",
    "Dica: Explore variáveis de espécie, massa corporal e comprimento de nadadeiras para hipóteses e K‑Means."
   ]
  },
  {
   "cell_type": "code",
   "execution_count": null,
   "id": "36ecb116",
   "metadata": {},
   "outputs": [],
   "source": [
    "# Seu código aqui\n"
   ]
  },
  {
   "cell_type": "markdown",
   "id": "2da6534a",
   "metadata": {},
   "source": [
    "**Exercício 492**  \n",
    "Dica: Explore variáveis de espécie, massa corporal e comprimento de nadadeiras para hipóteses e K‑Means."
   ]
  },
  {
   "cell_type": "code",
   "execution_count": null,
   "id": "3eae3def",
   "metadata": {},
   "outputs": [],
   "source": [
    "# Seu código aqui\n"
   ]
  },
  {
   "cell_type": "markdown",
   "id": "974e5231",
   "metadata": {},
   "source": [
    "**Exercício 493**  \n",
    "Dica: Explore variáveis de espécie, massa corporal e comprimento de nadadeiras para hipóteses e K‑Means."
   ]
  },
  {
   "cell_type": "code",
   "execution_count": null,
   "id": "86383704",
   "metadata": {},
   "outputs": [],
   "source": [
    "# Seu código aqui\n"
   ]
  },
  {
   "cell_type": "markdown",
   "id": "40c8b9d5",
   "metadata": {},
   "source": [
    "**Exercício 494**  \n",
    "Dica: Explore variáveis de espécie, massa corporal e comprimento de nadadeiras para hipóteses e K‑Means."
   ]
  },
  {
   "cell_type": "code",
   "execution_count": null,
   "id": "f4c82c14",
   "metadata": {},
   "outputs": [],
   "source": [
    "# Seu código aqui\n"
   ]
  },
  {
   "cell_type": "markdown",
   "id": "4ef37e8c",
   "metadata": {},
   "source": [
    "**Exercício 495**  \n",
    "Dica: Explore variáveis de espécie, massa corporal e comprimento de nadadeiras para hipóteses e K‑Means."
   ]
  },
  {
   "cell_type": "code",
   "execution_count": null,
   "id": "3ea60cc0",
   "metadata": {},
   "outputs": [],
   "source": [
    "# Seu código aqui\n"
   ]
  },
  {
   "cell_type": "markdown",
   "id": "4a68e87a",
   "metadata": {},
   "source": [
    "**Exercício 496**  \n",
    "Dica: Explore variáveis de espécie, massa corporal e comprimento de nadadeiras para hipóteses e K‑Means."
   ]
  },
  {
   "cell_type": "code",
   "execution_count": null,
   "id": "c5e548f0",
   "metadata": {},
   "outputs": [],
   "source": [
    "# Seu código aqui\n"
   ]
  },
  {
   "cell_type": "markdown",
   "id": "0b6d8a32",
   "metadata": {},
   "source": [
    "**Exercício 497**  \n",
    "Dica: Explore variáveis de espécie, massa corporal e comprimento de nadadeiras para hipóteses e K‑Means."
   ]
  },
  {
   "cell_type": "code",
   "execution_count": null,
   "id": "9747d878",
   "metadata": {},
   "outputs": [],
   "source": [
    "# Seu código aqui\n"
   ]
  },
  {
   "cell_type": "markdown",
   "id": "13894a60",
   "metadata": {},
   "source": [
    "**Exercício 498**  \n",
    "Dica: Explore variáveis de espécie, massa corporal e comprimento de nadadeiras para hipóteses e K‑Means."
   ]
  },
  {
   "cell_type": "code",
   "execution_count": null,
   "id": "d4cbb9e9",
   "metadata": {},
   "outputs": [],
   "source": [
    "# Seu código aqui\n"
   ]
  },
  {
   "cell_type": "markdown",
   "id": "c59a313d",
   "metadata": {},
   "source": [
    "**Exercício 499**  \n",
    "Dica: Explore variáveis de espécie, massa corporal e comprimento de nadadeiras para hipóteses e K‑Means."
   ]
  },
  {
   "cell_type": "code",
   "execution_count": null,
   "id": "ace24fa6",
   "metadata": {},
   "outputs": [],
   "source": [
    "# Seu código aqui\n"
   ]
  },
  {
   "cell_type": "markdown",
   "id": "ffe62666",
   "metadata": {},
   "source": [
    "**Exercício 500**  \n",
    "Dica: Explore variáveis de espécie, massa corporal e comprimento de nadadeiras para hipóteses e K‑Means."
   ]
  },
  {
   "cell_type": "code",
   "execution_count": null,
   "id": "906fb266",
   "metadata": {},
   "outputs": [],
   "source": [
    "# Seu código aqui\n"
   ]
  }
 ],
 "metadata": {},
 "nbformat": 4,
 "nbformat_minor": 5
}
