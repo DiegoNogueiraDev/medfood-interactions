{
 "cells": [
  {
   "cell_type": "markdown",
   "id": "1cab2f0b",
   "metadata": {},
   "source": [
    "# EDA Titanic – 500 Exercícios Variados\n",
    "_Generated 2025-07-15_\n",
    "\n",
    "Dataset: **Titanic Survival** https://www.kaggle.com/c/titanic\n",
    "Carregue o arquivo `train.csv` em um DataFrame `df` antes de começar."
   ]
  },
  {
   "cell_type": "code",
   "execution_count": null,
   "id": "564ad7fb",
   "metadata": {},
   "outputs": [],
   "source": [
    "import pandas as pd, numpy as np, seaborn as sns, matplotlib.pyplot as plt\n",
    "sns.set_theme()\n",
    "df = pd.read_csv('train.csv')  # ajuste caminho conforme necessário\n"
   ]
  },
  {
   "cell_type": "markdown",
   "id": "1aaeebb2",
   "metadata": {},
   "source": [
    "## Carregamento & Visão Geral"
   ]
  },
  {
   "cell_type": "markdown",
   "id": "b9670a79",
   "metadata": {},
   "source": [
    "**Carregue o dataset Titanic em um DataFrame chamado `df`.**"
   ]
  },
  {
   "cell_type": "code",
   "execution_count": null,
   "id": "c67c98f5",
   "metadata": {},
   "outputs": [],
   "source": [
    "# Seu código aqui\n"
   ]
  },
  {
   "cell_type": "markdown",
   "id": "7638e996",
   "metadata": {},
   "source": [
    "**Mostre as 10 primeiras linhas de `df`.**"
   ]
  },
  {
   "cell_type": "code",
   "execution_count": null,
   "id": "2eb3e5d1",
   "metadata": {},
   "outputs": [],
   "source": [
    "# Seu código aqui\n"
   ]
  },
  {
   "cell_type": "markdown",
   "id": "dfbc1167",
   "metadata": {},
   "source": [
    "**Exiba o `df.info()` completo.**"
   ]
  },
  {
   "cell_type": "code",
   "execution_count": null,
   "id": "2c8bd397",
   "metadata": {},
   "outputs": [],
   "source": [
    "# Seu código aqui\n"
   ]
  },
  {
   "cell_type": "markdown",
   "id": "129c1c8a",
   "metadata": {},
   "source": [
    "**Quantas linhas e colunas existem em `df`?**"
   ]
  },
  {
   "cell_type": "code",
   "execution_count": null,
   "id": "542adcd2",
   "metadata": {},
   "outputs": [],
   "source": [
    "# Seu código aqui\n"
   ]
  },
  {
   "cell_type": "markdown",
   "id": "ac4a5620",
   "metadata": {},
   "source": [
    "**Liste os nomes das colunas do DataFrame.**"
   ]
  },
  {
   "cell_type": "code",
   "execution_count": null,
   "id": "c1939475",
   "metadata": {},
   "outputs": [],
   "source": [
    "# Seu código aqui\n"
   ]
  },
  {
   "cell_type": "markdown",
   "id": "77cd136b",
   "metadata": {},
   "source": [
    "## Estatística Descritiva"
   ]
  },
  {
   "cell_type": "markdown",
   "id": "9c2308fd",
   "metadata": {},
   "source": [
    "**Calcule a média da coluna `Fare`.**"
   ]
  },
  {
   "cell_type": "code",
   "execution_count": null,
   "id": "47a4de4f",
   "metadata": {},
   "outputs": [],
   "source": [
    "# Seu código aqui\n"
   ]
  },
  {
   "cell_type": "markdown",
   "id": "efc03aab",
   "metadata": {},
   "source": [
    "**Encontre a mediana da coluna `Fare`.**"
   ]
  },
  {
   "cell_type": "code",
   "execution_count": null,
   "id": "349e0879",
   "metadata": {},
   "outputs": [],
   "source": [
    "# Seu código aqui\n"
   ]
  },
  {
   "cell_type": "markdown",
   "id": "671818d7",
   "metadata": {},
   "source": [
    "**Qual é o desvio‑padrão de `Age`?**"
   ]
  },
  {
   "cell_type": "code",
   "execution_count": null,
   "id": "e8430beb",
   "metadata": {},
   "outputs": [],
   "source": [
    "# Seu código aqui\n"
   ]
  },
  {
   "cell_type": "markdown",
   "id": "75118fb1",
   "metadata": {},
   "source": [
    "**Exiba `df['Fare'].describe()`.**"
   ]
  },
  {
   "cell_type": "code",
   "execution_count": null,
   "id": "065488f6",
   "metadata": {},
   "outputs": [],
   "source": [
    "# Seu código aqui\n"
   ]
  },
  {
   "cell_type": "markdown",
   "id": "ec284c4a",
   "metadata": {},
   "source": [
    "**Conte quantos valores faltantes existem em `Fare`.**"
   ]
  },
  {
   "cell_type": "code",
   "execution_count": null,
   "id": "22f1c81e",
   "metadata": {},
   "outputs": [],
   "source": [
    "# Seu código aqui\n"
   ]
  },
  {
   "cell_type": "markdown",
   "id": "86d0d59e",
   "metadata": {},
   "source": [
    "## Visualizações Univariadas"
   ]
  },
  {
   "cell_type": "markdown",
   "id": "f0bb825e",
   "metadata": {},
   "source": [
    "**Plote um histograma da coluna `Fare`.**"
   ]
  },
  {
   "cell_type": "code",
   "execution_count": null,
   "id": "77183c6f",
   "metadata": {},
   "outputs": [],
   "source": [
    "# Seu código aqui\n"
   ]
  },
  {
   "cell_type": "markdown",
   "id": "e7ea5a20",
   "metadata": {},
   "source": [
    "**Crie um boxplot da coluna `Age`.**"
   ]
  },
  {
   "cell_type": "code",
   "execution_count": null,
   "id": "61801d12",
   "metadata": {},
   "outputs": [],
   "source": [
    "# Seu código aqui\n"
   ]
  },
  {
   "cell_type": "markdown",
   "id": "87f3726f",
   "metadata": {},
   "source": [
    "**Gere uma contagem de barras para `Survived`.**"
   ]
  },
  {
   "cell_type": "code",
   "execution_count": null,
   "id": "b6c66a5b",
   "metadata": {},
   "outputs": [],
   "source": [
    "# Seu código aqui\n"
   ]
  },
  {
   "cell_type": "markdown",
   "id": "156f52f9",
   "metadata": {},
   "source": [
    "**Desenhe um gráfico de dispersão de índice vs `Age`.**"
   ]
  },
  {
   "cell_type": "code",
   "execution_count": null,
   "id": "e17af435",
   "metadata": {},
   "outputs": [],
   "source": [
    "# Seu código aqui\n"
   ]
  },
  {
   "cell_type": "markdown",
   "id": "6bd2c692",
   "metadata": {},
   "source": [
    "**Crie um violin plot de `Fare` separado por `Survived`.**"
   ]
  },
  {
   "cell_type": "code",
   "execution_count": null,
   "id": "3ab9a328",
   "metadata": {},
   "outputs": [],
   "source": [
    "# Seu código aqui\n"
   ]
  },
  {
   "cell_type": "markdown",
   "id": "e8b3bf6c",
   "metadata": {},
   "source": [
    "## Visualizações Bivariadas"
   ]
  },
  {
   "cell_type": "markdown",
   "id": "f4fdbcbd",
   "metadata": {},
   "source": [
    "**Crie um scatterplot de `Age` vs `Fare`.**"
   ]
  },
  {
   "cell_type": "code",
   "execution_count": null,
   "id": "7a92c2dc",
   "metadata": {},
   "outputs": [],
   "source": [
    "# Seu código aqui\n"
   ]
  },
  {
   "cell_type": "markdown",
   "id": "0490cd8a",
   "metadata": {},
   "source": [
    "**Faça um barplot de média de `Age` por `Pclass`.**"
   ]
  },
  {
   "cell_type": "code",
   "execution_count": null,
   "id": "64427863",
   "metadata": {},
   "outputs": [],
   "source": [
    "# Seu código aqui\n"
   ]
  },
  {
   "cell_type": "markdown",
   "id": "5414cd44",
   "metadata": {},
   "source": [
    "**Construa um countplot de `Survived` dividido por `Survived`.**"
   ]
  },
  {
   "cell_type": "code",
   "execution_count": null,
   "id": "e4e562b5",
   "metadata": {},
   "outputs": [],
   "source": [
    "# Seu código aqui\n"
   ]
  },
  {
   "cell_type": "markdown",
   "id": "a665bedb",
   "metadata": {},
   "source": [
    "**Faça um boxplot de `Age` por `Sex`.**"
   ]
  },
  {
   "cell_type": "code",
   "execution_count": null,
   "id": "48ba8b72",
   "metadata": {},
   "outputs": [],
   "source": [
    "# Seu código aqui\n"
   ]
  },
  {
   "cell_type": "markdown",
   "id": "3327cd3b",
   "metadata": {},
   "source": [
    "**Plote um heatmap de correlação entre todas as colunas numéricas.**"
   ]
  },
  {
   "cell_type": "code",
   "execution_count": null,
   "id": "a33f5752",
   "metadata": {},
   "outputs": [],
   "source": [
    "# Seu código aqui\n"
   ]
  },
  {
   "cell_type": "markdown",
   "id": "21932758",
   "metadata": {},
   "source": [
    "## GroupBy & Aggregations"
   ]
  },
  {
   "cell_type": "markdown",
   "id": "dcea08f7",
   "metadata": {},
   "source": [
    "**Use `groupby('Sex').size()` para contar linhas.**"
   ]
  },
  {
   "cell_type": "code",
   "execution_count": null,
   "id": "92c1728a",
   "metadata": {},
   "outputs": [],
   "source": [
    "# Seu código aqui\n"
   ]
  },
  {
   "cell_type": "markdown",
   "id": "acff31d7",
   "metadata": {},
   "source": [
    "**Calcule média de `Age` por cada categoria de `Embarked`.**"
   ]
  },
  {
   "cell_type": "code",
   "execution_count": null,
   "id": "9d6672c2",
   "metadata": {},
   "outputs": [],
   "source": [
    "# Seu código aqui\n"
   ]
  },
  {
   "cell_type": "markdown",
   "id": "9576708a",
   "metadata": {},
   "source": [
    "**Crie uma tabela de pivot de média de `Fare` com índice `Pclass` e colunas `Survived`.**"
   ]
  },
  {
   "cell_type": "code",
   "execution_count": null,
   "id": "84b99603",
   "metadata": {},
   "outputs": [],
   "source": [
    "# Seu código aqui\n"
   ]
  },
  {
   "cell_type": "markdown",
   "id": "d34c720a",
   "metadata": {},
   "source": [
    "**Ordene o resultado de média de `Fare` por `Sex` do maior para o menor.**"
   ]
  },
  {
   "cell_type": "code",
   "execution_count": null,
   "id": "110ce5f5",
   "metadata": {},
   "outputs": [],
   "source": [
    "# Seu código aqui\n"
   ]
  },
  {
   "cell_type": "markdown",
   "id": "6db12dfd",
   "metadata": {},
   "source": [
    "**Mostre a soma de passageiros por combinação `Pclass`‑`Survived`.**"
   ]
  },
  {
   "cell_type": "code",
   "execution_count": null,
   "id": "6d49c2f3",
   "metadata": {},
   "outputs": [],
   "source": [
    "# Seu código aqui\n"
   ]
  },
  {
   "cell_type": "markdown",
   "id": "73b131fe",
   "metadata": {},
   "source": [
    "## Limpeza de Dados"
   ]
  },
  {
   "cell_type": "markdown",
   "id": "00134b7d",
   "metadata": {},
   "source": [
    "**Preencha valores nulos de `Age` com a mediana.**"
   ]
  },
  {
   "cell_type": "code",
   "execution_count": null,
   "id": "11c9eafc",
   "metadata": {},
   "outputs": [],
   "source": [
    "# Seu código aqui\n"
   ]
  },
  {
   "cell_type": "markdown",
   "id": "34c1f7d4",
   "metadata": {},
   "source": [
    "**Remova linhas onde `Age` é nulo.**"
   ]
  },
  {
   "cell_type": "code",
   "execution_count": null,
   "id": "920663ec",
   "metadata": {},
   "outputs": [],
   "source": [
    "# Seu código aqui\n"
   ]
  },
  {
   "cell_type": "markdown",
   "id": "42b01887",
   "metadata": {},
   "source": [
    "**Crie uma nova coluna `IsChild` quando `Fare` < 16.**"
   ]
  },
  {
   "cell_type": "code",
   "execution_count": null,
   "id": "150248e8",
   "metadata": {},
   "outputs": [],
   "source": [
    "# Seu código aqui\n"
   ]
  },
  {
   "cell_type": "markdown",
   "id": "78653456",
   "metadata": {},
   "source": [
    "**Apague a coluna `Survived` temporariamente e mostre `df.head()`.**"
   ]
  },
  {
   "cell_type": "code",
   "execution_count": null,
   "id": "4b996372",
   "metadata": {},
   "outputs": [],
   "source": [
    "# Seu código aqui\n"
   ]
  },
  {
   "cell_type": "markdown",
   "id": "efb0063d",
   "metadata": {},
   "source": [
    "**Renomeie a coluna `Sex` para `Sex_cat`.**"
   ]
  },
  {
   "cell_type": "code",
   "execution_count": null,
   "id": "75162681",
   "metadata": {},
   "outputs": [],
   "source": [
    "# Seu código aqui\n"
   ]
  },
  {
   "cell_type": "markdown",
   "id": "3684e714",
   "metadata": {},
   "source": [
    "## Correlação & Covariância"
   ]
  },
  {
   "cell_type": "markdown",
   "id": "18401077",
   "metadata": {},
   "source": [
    "**Calcule a correlação de Pearson entre `Age` e `Fare`.**"
   ]
  },
  {
   "cell_type": "code",
   "execution_count": null,
   "id": "1d4b4a9b",
   "metadata": {},
   "outputs": [],
   "source": [
    "# Seu código aqui\n"
   ]
  },
  {
   "cell_type": "markdown",
   "id": "b8c2afeb",
   "metadata": {},
   "source": [
    "**Qual covariância entre `Age` e `Fare`?**"
   ]
  },
  {
   "cell_type": "code",
   "execution_count": null,
   "id": "4f3c1904",
   "metadata": {},
   "outputs": [],
   "source": [
    "# Seu código aqui\n"
   ]
  },
  {
   "cell_type": "markdown",
   "id": "ac7bb463",
   "metadata": {},
   "source": [
    "**Liste as 3 maiores correlações de `df.corr()`.**"
   ]
  },
  {
   "cell_type": "code",
   "execution_count": null,
   "id": "c7bb1e0d",
   "metadata": {},
   "outputs": [],
   "source": [
    "# Seu código aqui\n"
   ]
  },
  {
   "cell_type": "markdown",
   "id": "3dda12ec",
   "metadata": {},
   "source": [
    "**Existe correlação negativa significativa (<‑0.3) em `df.corr()`?**"
   ]
  },
  {
   "cell_type": "code",
   "execution_count": null,
   "id": "0091e975",
   "metadata": {},
   "outputs": [],
   "source": [
    "# Seu código aqui\n"
   ]
  },
  {
   "cell_type": "markdown",
   "id": "4c2ffa79",
   "metadata": {},
   "source": [
    "**Visualize matriz de correlação com `sns.heatmap`.**"
   ]
  },
  {
   "cell_type": "code",
   "execution_count": null,
   "id": "e0f5dc9d",
   "metadata": {},
   "outputs": [],
   "source": [
    "# Seu código aqui\n"
   ]
  },
  {
   "cell_type": "markdown",
   "id": "e14a2896",
   "metadata": {},
   "source": [
    "## Teste de Hipótese Simples"
   ]
  },
  {
   "cell_type": "markdown",
   "id": "0c42cf8a",
   "metadata": {},
   "source": [
    "**Realize um teste t de média de `Fare` entre grupos de `Survived`.**"
   ]
  },
  {
   "cell_type": "code",
   "execution_count": null,
   "id": "a7ce97b7",
   "metadata": {},
   "outputs": [],
   "source": [
    "# Seu código aqui\n"
   ]
  },
  {
   "cell_type": "markdown",
   "id": "dbfed9ac",
   "metadata": {},
   "source": [
    "**Utilize chi‑quadrado para independência entre `Survived` e `Survived`.**"
   ]
  },
  {
   "cell_type": "code",
   "execution_count": null,
   "id": "8b923093",
   "metadata": {},
   "outputs": [],
   "source": [
    "# Seu código aqui\n"
   ]
  },
  {
   "cell_type": "markdown",
   "id": "4f015dc6",
   "metadata": {},
   "source": [
    "**Construa intervalo de confiança 95% para média de `Fare`.**"
   ]
  },
  {
   "cell_type": "code",
   "execution_count": null,
   "id": "44ea854c",
   "metadata": {},
   "outputs": [],
   "source": [
    "# Seu código aqui\n"
   ]
  },
  {
   "cell_type": "markdown",
   "id": "17a50378",
   "metadata": {},
   "source": [
    "**Teste se média de `Age` difere entre `Survived`=a e `Survived`=b.**"
   ]
  },
  {
   "cell_type": "code",
   "execution_count": null,
   "id": "0c08f318",
   "metadata": {},
   "outputs": [],
   "source": [
    "# Seu código aqui\n"
   ]
  },
  {
   "cell_type": "markdown",
   "id": "cf2975c0",
   "metadata": {},
   "source": [
    "**Explique o p‑valor obtido em um teste t.**"
   ]
  },
  {
   "cell_type": "code",
   "execution_count": null,
   "id": "e85794a7",
   "metadata": {},
   "outputs": [],
   "source": [
    "# Seu código aqui\n"
   ]
  },
  {
   "cell_type": "markdown",
   "id": "75bbc524",
   "metadata": {},
   "source": [
    "## Feature Engineering Básico"
   ]
  },
  {
   "cell_type": "markdown",
   "id": "acfdccd4",
   "metadata": {},
   "source": [
    "**Extraia o título (Mr/Mrs/Dr) da coluna `Name` para nova coluna `Title`.**"
   ]
  },
  {
   "cell_type": "code",
   "execution_count": null,
   "id": "41692f74",
   "metadata": {},
   "outputs": [],
   "source": [
    "# Seu código aqui\n"
   ]
  },
  {
   "cell_type": "markdown",
   "id": "094b5944",
   "metadata": {},
   "source": [
    "**Crie coluna `FamilySize` somando `SibSp` + `Parch` + 1.**"
   ]
  },
  {
   "cell_type": "code",
   "execution_count": null,
   "id": "ba746413",
   "metadata": {},
   "outputs": [],
   "source": [
    "# Seu código aqui\n"
   ]
  },
  {
   "cell_type": "markdown",
   "id": "ccb25f2d",
   "metadata": {},
   "source": [
    "**Converta `Sex` para dummies usando `pd.get_dummies`.**"
   ]
  },
  {
   "cell_type": "code",
   "execution_count": null,
   "id": "99c98bf0",
   "metadata": {},
   "outputs": [],
   "source": [
    "# Seu código aqui\n"
   ]
  },
  {
   "cell_type": "markdown",
   "id": "4c325164",
   "metadata": {},
   "source": [
    "**Normaliza `Age` com `(x‑min)/(max‑min)`.**"
   ]
  },
  {
   "cell_type": "code",
   "execution_count": null,
   "id": "6ab648dd",
   "metadata": {},
   "outputs": [],
   "source": [
    "# Seu código aqui\n"
   ]
  },
  {
   "cell_type": "markdown",
   "id": "fbf06e19",
   "metadata": {},
   "source": [
    "**Binarize `Fare` por mediana em coluna `High_Fare`.**"
   ]
  },
  {
   "cell_type": "code",
   "execution_count": null,
   "id": "f36938f9",
   "metadata": {},
   "outputs": [],
   "source": [
    "# Seu código aqui\n"
   ]
  },
  {
   "cell_type": "markdown",
   "id": "c77a4ed1",
   "metadata": {},
   "source": [
    "## Quick Insights & Storytelling"
   ]
  },
  {
   "cell_type": "markdown",
   "id": "9cd3e8c7",
   "metadata": {},
   "source": [
    "**Escreva em Markdown a insight sobre taxa de sobrevivência por `Survived`.**"
   ]
  },
  {
   "cell_type": "code",
   "execution_count": null,
   "id": "473a3156",
   "metadata": {},
   "outputs": [],
   "source": [
    "# Seu código aqui\n"
   ]
  },
  {
   "cell_type": "markdown",
   "id": "1a875ed9",
   "metadata": {},
   "source": [
    "**Qual `Pclass` teve maior tarifa média `Fare`?**"
   ]
  },
  {
   "cell_type": "code",
   "execution_count": null,
   "id": "c22e3feb",
   "metadata": {},
   "outputs": [],
   "source": [
    "# Seu código aqui\n"
   ]
  },
  {
   "cell_type": "markdown",
   "id": "75f4185c",
   "metadata": {},
   "source": [
    "**Explique qual variável parece mais associada à sobrevivência.**"
   ]
  },
  {
   "cell_type": "code",
   "execution_count": null,
   "id": "ba7758cd",
   "metadata": {},
   "outputs": [],
   "source": [
    "# Seu código aqui\n"
   ]
  },
  {
   "cell_type": "markdown",
   "id": "2607790f",
   "metadata": {},
   "source": [
    "**Resuma a distribuição de `Age` em 3 frases.**"
   ]
  },
  {
   "cell_type": "code",
   "execution_count": null,
   "id": "e880e96c",
   "metadata": {},
   "outputs": [],
   "source": [
    "# Seu código aqui\n"
   ]
  },
  {
   "cell_type": "markdown",
   "id": "1edef65a",
   "metadata": {},
   "source": [
    "**Anexe um gráfico combinado de histograma e KDE para `Age`.**"
   ]
  },
  {
   "cell_type": "code",
   "execution_count": null,
   "id": "97dd8e19",
   "metadata": {},
   "outputs": [],
   "source": [
    "# Seu código aqui\n"
   ]
  },
  {
   "cell_type": "markdown",
   "id": "0be2e250",
   "metadata": {},
   "source": [
    "## Carregamento & Visão Geral"
   ]
  },
  {
   "cell_type": "markdown",
   "id": "012d2be9",
   "metadata": {},
   "source": [
    "**Carregue o dataset Titanic em um DataFrame chamado `df`.**"
   ]
  },
  {
   "cell_type": "code",
   "execution_count": null,
   "id": "134413cf",
   "metadata": {},
   "outputs": [],
   "source": [
    "# Seu código aqui\n"
   ]
  },
  {
   "cell_type": "markdown",
   "id": "ce926349",
   "metadata": {},
   "source": [
    "**Mostre as 10 primeiras linhas de `df`.**"
   ]
  },
  {
   "cell_type": "code",
   "execution_count": null,
   "id": "4b737d3f",
   "metadata": {},
   "outputs": [],
   "source": [
    "# Seu código aqui\n"
   ]
  },
  {
   "cell_type": "markdown",
   "id": "8c713ff7",
   "metadata": {},
   "source": [
    "**Exiba o `df.info()` completo.**"
   ]
  },
  {
   "cell_type": "code",
   "execution_count": null,
   "id": "08309619",
   "metadata": {},
   "outputs": [],
   "source": [
    "# Seu código aqui\n"
   ]
  },
  {
   "cell_type": "markdown",
   "id": "fef372c1",
   "metadata": {},
   "source": [
    "**Quantas linhas e colunas existem em `df`?**"
   ]
  },
  {
   "cell_type": "code",
   "execution_count": null,
   "id": "5e054cc9",
   "metadata": {},
   "outputs": [],
   "source": [
    "# Seu código aqui\n"
   ]
  },
  {
   "cell_type": "markdown",
   "id": "e94eff88",
   "metadata": {},
   "source": [
    "**Liste os nomes das colunas do DataFrame.**"
   ]
  },
  {
   "cell_type": "code",
   "execution_count": null,
   "id": "490c41c9",
   "metadata": {},
   "outputs": [],
   "source": [
    "# Seu código aqui\n"
   ]
  },
  {
   "cell_type": "markdown",
   "id": "1194a2ef",
   "metadata": {},
   "source": [
    "## Estatística Descritiva"
   ]
  },
  {
   "cell_type": "markdown",
   "id": "b65f0cb1",
   "metadata": {},
   "source": [
    "**Calcule a média da coluna `Fare`.**"
   ]
  },
  {
   "cell_type": "code",
   "execution_count": null,
   "id": "801a85c1",
   "metadata": {},
   "outputs": [],
   "source": [
    "# Seu código aqui\n"
   ]
  },
  {
   "cell_type": "markdown",
   "id": "2f8beae8",
   "metadata": {},
   "source": [
    "**Encontre a mediana da coluna `Age`.**"
   ]
  },
  {
   "cell_type": "code",
   "execution_count": null,
   "id": "774b5266",
   "metadata": {},
   "outputs": [],
   "source": [
    "# Seu código aqui\n"
   ]
  },
  {
   "cell_type": "markdown",
   "id": "266ebe8d",
   "metadata": {},
   "source": [
    "**Qual é o desvio‑padrão de `Age`?**"
   ]
  },
  {
   "cell_type": "code",
   "execution_count": null,
   "id": "5ab38af7",
   "metadata": {},
   "outputs": [],
   "source": [
    "# Seu código aqui\n"
   ]
  },
  {
   "cell_type": "markdown",
   "id": "4f52303e",
   "metadata": {},
   "source": [
    "**Exiba `df['Age'].describe()`.**"
   ]
  },
  {
   "cell_type": "code",
   "execution_count": null,
   "id": "8d4a2ab2",
   "metadata": {},
   "outputs": [],
   "source": [
    "# Seu código aqui\n"
   ]
  },
  {
   "cell_type": "markdown",
   "id": "f0ee73b6",
   "metadata": {},
   "source": [
    "**Conte quantos valores faltantes existem em `Age`.**"
   ]
  },
  {
   "cell_type": "code",
   "execution_count": null,
   "id": "30c0e638",
   "metadata": {},
   "outputs": [],
   "source": [
    "# Seu código aqui\n"
   ]
  },
  {
   "cell_type": "markdown",
   "id": "1a3fc991",
   "metadata": {},
   "source": [
    "## Visualizações Univariadas"
   ]
  },
  {
   "cell_type": "markdown",
   "id": "86a3b8cd",
   "metadata": {},
   "source": [
    "**Plote um histograma da coluna `Fare`.**"
   ]
  },
  {
   "cell_type": "code",
   "execution_count": null,
   "id": "beb56ccc",
   "metadata": {},
   "outputs": [],
   "source": [
    "# Seu código aqui\n"
   ]
  },
  {
   "cell_type": "markdown",
   "id": "8e381637",
   "metadata": {},
   "source": [
    "**Crie um boxplot da coluna `Age`.**"
   ]
  },
  {
   "cell_type": "code",
   "execution_count": null,
   "id": "e6a36f4c",
   "metadata": {},
   "outputs": [],
   "source": [
    "# Seu código aqui\n"
   ]
  },
  {
   "cell_type": "markdown",
   "id": "7ce5f782",
   "metadata": {},
   "source": [
    "**Gere uma contagem de barras para `Pclass`.**"
   ]
  },
  {
   "cell_type": "code",
   "execution_count": null,
   "id": "cc5bdea0",
   "metadata": {},
   "outputs": [],
   "source": [
    "# Seu código aqui\n"
   ]
  },
  {
   "cell_type": "markdown",
   "id": "29808529",
   "metadata": {},
   "source": [
    "**Desenhe um gráfico de dispersão de índice vs `Fare`.**"
   ]
  },
  {
   "cell_type": "code",
   "execution_count": null,
   "id": "cd92585f",
   "metadata": {},
   "outputs": [],
   "source": [
    "# Seu código aqui\n"
   ]
  },
  {
   "cell_type": "markdown",
   "id": "33cf294c",
   "metadata": {},
   "source": [
    "**Crie um violin plot de `Age` separado por `Survived`.**"
   ]
  },
  {
   "cell_type": "code",
   "execution_count": null,
   "id": "27af71a2",
   "metadata": {},
   "outputs": [],
   "source": [
    "# Seu código aqui\n"
   ]
  },
  {
   "cell_type": "markdown",
   "id": "2e1cf323",
   "metadata": {},
   "source": [
    "## Visualizações Bivariadas"
   ]
  },
  {
   "cell_type": "markdown",
   "id": "189e1e48",
   "metadata": {},
   "source": [
    "**Crie um scatterplot de `Fare` vs `Age`.**"
   ]
  },
  {
   "cell_type": "code",
   "execution_count": null,
   "id": "b74264bb",
   "metadata": {},
   "outputs": [],
   "source": [
    "# Seu código aqui\n"
   ]
  },
  {
   "cell_type": "markdown",
   "id": "96d54aeb",
   "metadata": {},
   "source": [
    "**Faça um barplot de média de `Age` por `Survived`.**"
   ]
  },
  {
   "cell_type": "code",
   "execution_count": null,
   "id": "e9a00e97",
   "metadata": {},
   "outputs": [],
   "source": [
    "# Seu código aqui\n"
   ]
  },
  {
   "cell_type": "markdown",
   "id": "6b8b5872",
   "metadata": {},
   "source": [
    "**Construa um countplot de `Sex` dividido por `Survived`.**"
   ]
  },
  {
   "cell_type": "code",
   "execution_count": null,
   "id": "271e8828",
   "metadata": {},
   "outputs": [],
   "source": [
    "# Seu código aqui\n"
   ]
  },
  {
   "cell_type": "markdown",
   "id": "3e3051f1",
   "metadata": {},
   "source": [
    "**Faça um boxplot de `Fare` por `Pclass`.**"
   ]
  },
  {
   "cell_type": "code",
   "execution_count": null,
   "id": "3e69f449",
   "metadata": {},
   "outputs": [],
   "source": [
    "# Seu código aqui\n"
   ]
  },
  {
   "cell_type": "markdown",
   "id": "837572fa",
   "metadata": {},
   "source": [
    "**Plote um heatmap de correlação entre todas as colunas numéricas.**"
   ]
  },
  {
   "cell_type": "code",
   "execution_count": null,
   "id": "33acf8b7",
   "metadata": {},
   "outputs": [],
   "source": [
    "# Seu código aqui\n"
   ]
  },
  {
   "cell_type": "markdown",
   "id": "bba7bef9",
   "metadata": {},
   "source": [
    "## GroupBy & Aggregations"
   ]
  },
  {
   "cell_type": "markdown",
   "id": "2f8095ac",
   "metadata": {},
   "source": [
    "**Use `groupby('Pclass').size()` para contar linhas.**"
   ]
  },
  {
   "cell_type": "code",
   "execution_count": null,
   "id": "c0785d4b",
   "metadata": {},
   "outputs": [],
   "source": [
    "# Seu código aqui\n"
   ]
  },
  {
   "cell_type": "markdown",
   "id": "7a50f8d8",
   "metadata": {},
   "source": [
    "**Calcule média de `Fare` por cada categoria de `Survived`.**"
   ]
  },
  {
   "cell_type": "code",
   "execution_count": null,
   "id": "523f11d4",
   "metadata": {},
   "outputs": [],
   "source": [
    "# Seu código aqui\n"
   ]
  },
  {
   "cell_type": "markdown",
   "id": "8414a2a0",
   "metadata": {},
   "source": [
    "**Crie uma tabela de pivot de média de `Age` com índice `Pclass` e colunas `Survived`.**"
   ]
  },
  {
   "cell_type": "code",
   "execution_count": null,
   "id": "78c06907",
   "metadata": {},
   "outputs": [],
   "source": [
    "# Seu código aqui\n"
   ]
  },
  {
   "cell_type": "markdown",
   "id": "9cbc888d",
   "metadata": {},
   "source": [
    "**Ordene o resultado de média de `Age` por `Embarked` do maior para o menor.**"
   ]
  },
  {
   "cell_type": "code",
   "execution_count": null,
   "id": "07251584",
   "metadata": {},
   "outputs": [],
   "source": [
    "# Seu código aqui\n"
   ]
  },
  {
   "cell_type": "markdown",
   "id": "6d56e9af",
   "metadata": {},
   "source": [
    "**Mostre a soma de passageiros por combinação `Pclass`‑`Survived`.**"
   ]
  },
  {
   "cell_type": "code",
   "execution_count": null,
   "id": "d7140bee",
   "metadata": {},
   "outputs": [],
   "source": [
    "# Seu código aqui\n"
   ]
  },
  {
   "cell_type": "markdown",
   "id": "e76849d0",
   "metadata": {},
   "source": [
    "## Limpeza de Dados"
   ]
  },
  {
   "cell_type": "markdown",
   "id": "42a3cc94",
   "metadata": {},
   "source": [
    "**Preencha valores nulos de `Age` com a mediana.**"
   ]
  },
  {
   "cell_type": "code",
   "execution_count": null,
   "id": "ac799d94",
   "metadata": {},
   "outputs": [],
   "source": [
    "# Seu código aqui\n"
   ]
  },
  {
   "cell_type": "markdown",
   "id": "ecdfcf96",
   "metadata": {},
   "source": [
    "**Remova linhas onde `Fare` é nulo.**"
   ]
  },
  {
   "cell_type": "code",
   "execution_count": null,
   "id": "b745b313",
   "metadata": {},
   "outputs": [],
   "source": [
    "# Seu código aqui\n"
   ]
  },
  {
   "cell_type": "markdown",
   "id": "10822a84",
   "metadata": {},
   "source": [
    "**Crie uma nova coluna `IsChild` quando `Age` < 16.**"
   ]
  },
  {
   "cell_type": "code",
   "execution_count": null,
   "id": "78d44852",
   "metadata": {},
   "outputs": [],
   "source": [
    "# Seu código aqui\n"
   ]
  },
  {
   "cell_type": "markdown",
   "id": "0fd616d0",
   "metadata": {},
   "source": [
    "**Apague a coluna `Embarked` temporariamente e mostre `df.head()`.**"
   ]
  },
  {
   "cell_type": "code",
   "execution_count": null,
   "id": "3036f3b2",
   "metadata": {},
   "outputs": [],
   "source": [
    "# Seu código aqui\n"
   ]
  },
  {
   "cell_type": "markdown",
   "id": "2001a8ff",
   "metadata": {},
   "source": [
    "**Renomeie a coluna `Survived` para `Survived_cat`.**"
   ]
  },
  {
   "cell_type": "code",
   "execution_count": null,
   "id": "c0930d67",
   "metadata": {},
   "outputs": [],
   "source": [
    "# Seu código aqui\n"
   ]
  },
  {
   "cell_type": "markdown",
   "id": "599376a2",
   "metadata": {},
   "source": [
    "## Correlação & Covariância"
   ]
  },
  {
   "cell_type": "markdown",
   "id": "0728baa8",
   "metadata": {},
   "source": [
    "**Calcule a correlação de Pearson entre `Fare` e `Age`.**"
   ]
  },
  {
   "cell_type": "code",
   "execution_count": null,
   "id": "3f07d73d",
   "metadata": {},
   "outputs": [],
   "source": [
    "# Seu código aqui\n"
   ]
  },
  {
   "cell_type": "markdown",
   "id": "18f70953",
   "metadata": {},
   "source": [
    "**Qual covariância entre `Age` e `Fare`?**"
   ]
  },
  {
   "cell_type": "code",
   "execution_count": null,
   "id": "adcbe427",
   "metadata": {},
   "outputs": [],
   "source": [
    "# Seu código aqui\n"
   ]
  },
  {
   "cell_type": "markdown",
   "id": "7e202379",
   "metadata": {},
   "source": [
    "**Liste as 3 maiores correlações de `df.corr()`.**"
   ]
  },
  {
   "cell_type": "code",
   "execution_count": null,
   "id": "6c89b9cf",
   "metadata": {},
   "outputs": [],
   "source": [
    "# Seu código aqui\n"
   ]
  },
  {
   "cell_type": "markdown",
   "id": "f4e11612",
   "metadata": {},
   "source": [
    "**Existe correlação negativa significativa (<‑0.3) em `df.corr()`?**"
   ]
  },
  {
   "cell_type": "code",
   "execution_count": null,
   "id": "7437324b",
   "metadata": {},
   "outputs": [],
   "source": [
    "# Seu código aqui\n"
   ]
  },
  {
   "cell_type": "markdown",
   "id": "6b881158",
   "metadata": {},
   "source": [
    "**Visualize matriz de correlação com `sns.heatmap`.**"
   ]
  },
  {
   "cell_type": "code",
   "execution_count": null,
   "id": "3b25d6cf",
   "metadata": {},
   "outputs": [],
   "source": [
    "# Seu código aqui\n"
   ]
  },
  {
   "cell_type": "markdown",
   "id": "fd6d9881",
   "metadata": {},
   "source": [
    "## Teste de Hipótese Simples"
   ]
  },
  {
   "cell_type": "markdown",
   "id": "efb8aa2d",
   "metadata": {},
   "source": [
    "**Realize um teste t de média de `Age` entre grupos de `Survived`.**"
   ]
  },
  {
   "cell_type": "code",
   "execution_count": null,
   "id": "2aac0417",
   "metadata": {},
   "outputs": [],
   "source": [
    "# Seu código aqui\n"
   ]
  },
  {
   "cell_type": "markdown",
   "id": "2aa6574d",
   "metadata": {},
   "source": [
    "**Utilize chi‑quadrado para independência entre `Embarked` e `Survived`.**"
   ]
  },
  {
   "cell_type": "code",
   "execution_count": null,
   "id": "94a6ea53",
   "metadata": {},
   "outputs": [],
   "source": [
    "# Seu código aqui\n"
   ]
  },
  {
   "cell_type": "markdown",
   "id": "640a124b",
   "metadata": {},
   "source": [
    "**Construa intervalo de confiança 95% para média de `Fare`.**"
   ]
  },
  {
   "cell_type": "code",
   "execution_count": null,
   "id": "88ff08ec",
   "metadata": {},
   "outputs": [],
   "source": [
    "# Seu código aqui\n"
   ]
  },
  {
   "cell_type": "markdown",
   "id": "f8abc5d5",
   "metadata": {},
   "source": [
    "**Teste se média de `Fare` difere entre `Survived`=a e `Survived`=b.**"
   ]
  },
  {
   "cell_type": "code",
   "execution_count": null,
   "id": "eed2fb4e",
   "metadata": {},
   "outputs": [],
   "source": [
    "# Seu código aqui\n"
   ]
  },
  {
   "cell_type": "markdown",
   "id": "f6da5bc9",
   "metadata": {},
   "source": [
    "**Explique o p‑valor obtido em um teste t.**"
   ]
  },
  {
   "cell_type": "code",
   "execution_count": null,
   "id": "831e5d05",
   "metadata": {},
   "outputs": [],
   "source": [
    "# Seu código aqui\n"
   ]
  },
  {
   "cell_type": "markdown",
   "id": "8eb628d8",
   "metadata": {},
   "source": [
    "## Feature Engineering Básico"
   ]
  },
  {
   "cell_type": "markdown",
   "id": "71b42b35",
   "metadata": {},
   "source": [
    "**Extraia o título (Mr/Mrs/Dr) da coluna `Name` para nova coluna `Title`.**"
   ]
  },
  {
   "cell_type": "code",
   "execution_count": null,
   "id": "ab011a8c",
   "metadata": {},
   "outputs": [],
   "source": [
    "# Seu código aqui\n"
   ]
  },
  {
   "cell_type": "markdown",
   "id": "81d9b28c",
   "metadata": {},
   "source": [
    "**Crie coluna `FamilySize` somando `SibSp` + `Parch` + 1.**"
   ]
  },
  {
   "cell_type": "code",
   "execution_count": null,
   "id": "35788a97",
   "metadata": {},
   "outputs": [],
   "source": [
    "# Seu código aqui\n"
   ]
  },
  {
   "cell_type": "markdown",
   "id": "e62279e3",
   "metadata": {},
   "source": [
    "**Converta `Sex` para dummies usando `pd.get_dummies`.**"
   ]
  },
  {
   "cell_type": "code",
   "execution_count": null,
   "id": "a0ac424f",
   "metadata": {},
   "outputs": [],
   "source": [
    "# Seu código aqui\n"
   ]
  },
  {
   "cell_type": "markdown",
   "id": "a70f0ae3",
   "metadata": {},
   "source": [
    "**Normaliza `Age` com `(x‑min)/(max‑min)`.**"
   ]
  },
  {
   "cell_type": "code",
   "execution_count": null,
   "id": "391361aa",
   "metadata": {},
   "outputs": [],
   "source": [
    "# Seu código aqui\n"
   ]
  },
  {
   "cell_type": "markdown",
   "id": "0036a24b",
   "metadata": {},
   "source": [
    "**Binarize `Age` por mediana em coluna `High_Age`.**"
   ]
  },
  {
   "cell_type": "code",
   "execution_count": null,
   "id": "3ce0ded3",
   "metadata": {},
   "outputs": [],
   "source": [
    "# Seu código aqui\n"
   ]
  },
  {
   "cell_type": "markdown",
   "id": "efbe0e2b",
   "metadata": {},
   "source": [
    "## Quick Insights & Storytelling"
   ]
  },
  {
   "cell_type": "markdown",
   "id": "9da954c6",
   "metadata": {},
   "source": [
    "**Escreva em Markdown a insight sobre taxa de sobrevivência por `Survived`.**"
   ]
  },
  {
   "cell_type": "code",
   "execution_count": null,
   "id": "d0a1cd61",
   "metadata": {},
   "outputs": [],
   "source": [
    "# Seu código aqui\n"
   ]
  },
  {
   "cell_type": "markdown",
   "id": "ea5d485c",
   "metadata": {},
   "source": [
    "**Qual `Pclass` teve maior tarifa média `Fare`?**"
   ]
  },
  {
   "cell_type": "code",
   "execution_count": null,
   "id": "a672e0b3",
   "metadata": {},
   "outputs": [],
   "source": [
    "# Seu código aqui\n"
   ]
  },
  {
   "cell_type": "markdown",
   "id": "07d04924",
   "metadata": {},
   "source": [
    "**Explique qual variável parece mais associada à sobrevivência.**"
   ]
  },
  {
   "cell_type": "code",
   "execution_count": null,
   "id": "e5fcb7bd",
   "metadata": {},
   "outputs": [],
   "source": [
    "# Seu código aqui\n"
   ]
  },
  {
   "cell_type": "markdown",
   "id": "c26464ce",
   "metadata": {},
   "source": [
    "**Resuma a distribuição de `Age` em 3 frases.**"
   ]
  },
  {
   "cell_type": "code",
   "execution_count": null,
   "id": "1acd12d1",
   "metadata": {},
   "outputs": [],
   "source": [
    "# Seu código aqui\n"
   ]
  },
  {
   "cell_type": "markdown",
   "id": "689f1110",
   "metadata": {},
   "source": [
    "**Anexe um gráfico combinado de histograma e KDE para `Fare`.**"
   ]
  },
  {
   "cell_type": "code",
   "execution_count": null,
   "id": "bbbd440a",
   "metadata": {},
   "outputs": [],
   "source": [
    "# Seu código aqui\n"
   ]
  },
  {
   "cell_type": "markdown",
   "id": "e41784f7",
   "metadata": {},
   "source": [
    "## Carregamento & Visão Geral"
   ]
  },
  {
   "cell_type": "markdown",
   "id": "ab9b1355",
   "metadata": {},
   "source": [
    "**Carregue o dataset Titanic em um DataFrame chamado `df`.**"
   ]
  },
  {
   "cell_type": "code",
   "execution_count": null,
   "id": "8b75b606",
   "metadata": {},
   "outputs": [],
   "source": [
    "# Seu código aqui\n"
   ]
  },
  {
   "cell_type": "markdown",
   "id": "e4d6686c",
   "metadata": {},
   "source": [
    "**Mostre as 10 primeiras linhas de `df`.**"
   ]
  },
  {
   "cell_type": "code",
   "execution_count": null,
   "id": "88fc178d",
   "metadata": {},
   "outputs": [],
   "source": [
    "# Seu código aqui\n"
   ]
  },
  {
   "cell_type": "markdown",
   "id": "6d734573",
   "metadata": {},
   "source": [
    "**Exiba o `df.info()` completo.**"
   ]
  },
  {
   "cell_type": "code",
   "execution_count": null,
   "id": "2ee11058",
   "metadata": {},
   "outputs": [],
   "source": [
    "# Seu código aqui\n"
   ]
  },
  {
   "cell_type": "markdown",
   "id": "de8abef6",
   "metadata": {},
   "source": [
    "**Quantas linhas e colunas existem em `df`?**"
   ]
  },
  {
   "cell_type": "code",
   "execution_count": null,
   "id": "63eada88",
   "metadata": {},
   "outputs": [],
   "source": [
    "# Seu código aqui\n"
   ]
  },
  {
   "cell_type": "markdown",
   "id": "c4ebd9cd",
   "metadata": {},
   "source": [
    "**Liste os nomes das colunas do DataFrame.**"
   ]
  },
  {
   "cell_type": "code",
   "execution_count": null,
   "id": "99c3143d",
   "metadata": {},
   "outputs": [],
   "source": [
    "# Seu código aqui\n"
   ]
  },
  {
   "cell_type": "markdown",
   "id": "4f659958",
   "metadata": {},
   "source": [
    "## Estatística Descritiva"
   ]
  },
  {
   "cell_type": "markdown",
   "id": "64a70681",
   "metadata": {},
   "source": [
    "**Calcule a média da coluna `Fare`.**"
   ]
  },
  {
   "cell_type": "code",
   "execution_count": null,
   "id": "59343550",
   "metadata": {},
   "outputs": [],
   "source": [
    "# Seu código aqui\n"
   ]
  },
  {
   "cell_type": "markdown",
   "id": "6da4994a",
   "metadata": {},
   "source": [
    "**Encontre a mediana da coluna `Age`.**"
   ]
  },
  {
   "cell_type": "code",
   "execution_count": null,
   "id": "34c68800",
   "metadata": {},
   "outputs": [],
   "source": [
    "# Seu código aqui\n"
   ]
  },
  {
   "cell_type": "markdown",
   "id": "308c4cc0",
   "metadata": {},
   "source": [
    "**Qual é o desvio‑padrão de `Age`?**"
   ]
  },
  {
   "cell_type": "code",
   "execution_count": null,
   "id": "0b7c9963",
   "metadata": {},
   "outputs": [],
   "source": [
    "# Seu código aqui\n"
   ]
  },
  {
   "cell_type": "markdown",
   "id": "0b43c0d4",
   "metadata": {},
   "source": [
    "**Exiba `df['Fare'].describe()`.**"
   ]
  },
  {
   "cell_type": "code",
   "execution_count": null,
   "id": "1887d872",
   "metadata": {},
   "outputs": [],
   "source": [
    "# Seu código aqui\n"
   ]
  },
  {
   "cell_type": "markdown",
   "id": "99562fd6",
   "metadata": {},
   "source": [
    "**Conte quantos valores faltantes existem em `Age`.**"
   ]
  },
  {
   "cell_type": "code",
   "execution_count": null,
   "id": "6690e6a2",
   "metadata": {},
   "outputs": [],
   "source": [
    "# Seu código aqui\n"
   ]
  },
  {
   "cell_type": "markdown",
   "id": "3aceefc6",
   "metadata": {},
   "source": [
    "## Visualizações Univariadas"
   ]
  },
  {
   "cell_type": "markdown",
   "id": "86f86408",
   "metadata": {},
   "source": [
    "**Plote um histograma da coluna `Age`.**"
   ]
  },
  {
   "cell_type": "code",
   "execution_count": null,
   "id": "91681635",
   "metadata": {},
   "outputs": [],
   "source": [
    "# Seu código aqui\n"
   ]
  },
  {
   "cell_type": "markdown",
   "id": "4017df24",
   "metadata": {},
   "source": [
    "**Crie um boxplot da coluna `Fare`.**"
   ]
  },
  {
   "cell_type": "code",
   "execution_count": null,
   "id": "35a3ad67",
   "metadata": {},
   "outputs": [],
   "source": [
    "# Seu código aqui\n"
   ]
  },
  {
   "cell_type": "markdown",
   "id": "ba949675",
   "metadata": {},
   "source": [
    "**Gere uma contagem de barras para `Survived`.**"
   ]
  },
  {
   "cell_type": "code",
   "execution_count": null,
   "id": "f33a635f",
   "metadata": {},
   "outputs": [],
   "source": [
    "# Seu código aqui\n"
   ]
  },
  {
   "cell_type": "markdown",
   "id": "afde9b7c",
   "metadata": {},
   "source": [
    "**Desenhe um gráfico de dispersão de índice vs `Fare`.**"
   ]
  },
  {
   "cell_type": "code",
   "execution_count": null,
   "id": "7443e1a2",
   "metadata": {},
   "outputs": [],
   "source": [
    "# Seu código aqui\n"
   ]
  },
  {
   "cell_type": "markdown",
   "id": "40d53ff9",
   "metadata": {},
   "source": [
    "**Crie um violin plot de `Fare` separado por `Survived`.**"
   ]
  },
  {
   "cell_type": "code",
   "execution_count": null,
   "id": "e6fbe050",
   "metadata": {},
   "outputs": [],
   "source": [
    "# Seu código aqui\n"
   ]
  },
  {
   "cell_type": "markdown",
   "id": "0164f1f1",
   "metadata": {},
   "source": [
    "## Visualizações Bivariadas"
   ]
  },
  {
   "cell_type": "markdown",
   "id": "465f6a1c",
   "metadata": {},
   "source": [
    "**Crie um scatterplot de `Age` vs `Fare`.**"
   ]
  },
  {
   "cell_type": "code",
   "execution_count": null,
   "id": "52a8e447",
   "metadata": {},
   "outputs": [],
   "source": [
    "# Seu código aqui\n"
   ]
  },
  {
   "cell_type": "markdown",
   "id": "9c182202",
   "metadata": {},
   "source": [
    "**Faça um barplot de média de `Age` por `Survived`.**"
   ]
  },
  {
   "cell_type": "code",
   "execution_count": null,
   "id": "87ad8938",
   "metadata": {},
   "outputs": [],
   "source": [
    "# Seu código aqui\n"
   ]
  },
  {
   "cell_type": "markdown",
   "id": "38ffd83b",
   "metadata": {},
   "source": [
    "**Construa um countplot de `Sex` dividido por `Survived`.**"
   ]
  },
  {
   "cell_type": "code",
   "execution_count": null,
   "id": "746050d9",
   "metadata": {},
   "outputs": [],
   "source": [
    "# Seu código aqui\n"
   ]
  },
  {
   "cell_type": "markdown",
   "id": "df9ba199",
   "metadata": {},
   "source": [
    "**Faça um boxplot de `Fare` por `Pclass`.**"
   ]
  },
  {
   "cell_type": "code",
   "execution_count": null,
   "id": "4e7f0ec2",
   "metadata": {},
   "outputs": [],
   "source": [
    "# Seu código aqui\n"
   ]
  },
  {
   "cell_type": "markdown",
   "id": "3fa19876",
   "metadata": {},
   "source": [
    "**Plote um heatmap de correlação entre todas as colunas numéricas.**"
   ]
  },
  {
   "cell_type": "code",
   "execution_count": null,
   "id": "c378244a",
   "metadata": {},
   "outputs": [],
   "source": [
    "# Seu código aqui\n"
   ]
  },
  {
   "cell_type": "markdown",
   "id": "83cd4c48",
   "metadata": {},
   "source": [
    "## GroupBy & Aggregations"
   ]
  },
  {
   "cell_type": "markdown",
   "id": "85325d7a",
   "metadata": {},
   "source": [
    "**Use `groupby('Sex').size()` para contar linhas.**"
   ]
  },
  {
   "cell_type": "code",
   "execution_count": null,
   "id": "97eb9558",
   "metadata": {},
   "outputs": [],
   "source": [
    "# Seu código aqui\n"
   ]
  },
  {
   "cell_type": "markdown",
   "id": "4f87a854",
   "metadata": {},
   "source": [
    "**Calcule média de `Age` por cada categoria de `Embarked`.**"
   ]
  },
  {
   "cell_type": "code",
   "execution_count": null,
   "id": "02c0dc95",
   "metadata": {},
   "outputs": [],
   "source": [
    "# Seu código aqui\n"
   ]
  },
  {
   "cell_type": "markdown",
   "id": "16a8a49b",
   "metadata": {},
   "source": [
    "**Crie uma tabela de pivot de média de `Age` com índice `Sex` e colunas `Survived`.**"
   ]
  },
  {
   "cell_type": "code",
   "execution_count": null,
   "id": "21c31623",
   "metadata": {},
   "outputs": [],
   "source": [
    "# Seu código aqui\n"
   ]
  },
  {
   "cell_type": "markdown",
   "id": "5bd2a6f1",
   "metadata": {},
   "source": [
    "**Ordene o resultado de média de `Age` por `Pclass` do maior para o menor.**"
   ]
  },
  {
   "cell_type": "code",
   "execution_count": null,
   "id": "4da040be",
   "metadata": {},
   "outputs": [],
   "source": [
    "# Seu código aqui\n"
   ]
  },
  {
   "cell_type": "markdown",
   "id": "72e8b37c",
   "metadata": {},
   "source": [
    "**Mostre a soma de passageiros por combinação `Sex`‑`Survived`.**"
   ]
  },
  {
   "cell_type": "code",
   "execution_count": null,
   "id": "769c467c",
   "metadata": {},
   "outputs": [],
   "source": [
    "# Seu código aqui\n"
   ]
  },
  {
   "cell_type": "markdown",
   "id": "13e6c92d",
   "metadata": {},
   "source": [
    "## Limpeza de Dados"
   ]
  },
  {
   "cell_type": "markdown",
   "id": "379af42e",
   "metadata": {},
   "source": [
    "**Preencha valores nulos de `Fare` com a mediana.**"
   ]
  },
  {
   "cell_type": "code",
   "execution_count": null,
   "id": "7b71064d",
   "metadata": {},
   "outputs": [],
   "source": [
    "# Seu código aqui\n"
   ]
  },
  {
   "cell_type": "markdown",
   "id": "aeb91b00",
   "metadata": {},
   "source": [
    "**Remova linhas onde `Age` é nulo.**"
   ]
  },
  {
   "cell_type": "code",
   "execution_count": null,
   "id": "d0307359",
   "metadata": {},
   "outputs": [],
   "source": [
    "# Seu código aqui\n"
   ]
  },
  {
   "cell_type": "markdown",
   "id": "1fc32fdc",
   "metadata": {},
   "source": [
    "**Crie uma nova coluna `IsChild` quando `Fare` < 16.**"
   ]
  },
  {
   "cell_type": "code",
   "execution_count": null,
   "id": "0551a139",
   "metadata": {},
   "outputs": [],
   "source": [
    "# Seu código aqui\n"
   ]
  },
  {
   "cell_type": "markdown",
   "id": "a3335136",
   "metadata": {},
   "source": [
    "**Apague a coluna `Pclass` temporariamente e mostre `df.head()`.**"
   ]
  },
  {
   "cell_type": "code",
   "execution_count": null,
   "id": "09126ea5",
   "metadata": {},
   "outputs": [],
   "source": [
    "# Seu código aqui\n"
   ]
  },
  {
   "cell_type": "markdown",
   "id": "faef6f79",
   "metadata": {},
   "source": [
    "**Renomeie a coluna `Sex` para `Sex_cat`.**"
   ]
  },
  {
   "cell_type": "code",
   "execution_count": null,
   "id": "55ec26c6",
   "metadata": {},
   "outputs": [],
   "source": [
    "# Seu código aqui\n"
   ]
  },
  {
   "cell_type": "markdown",
   "id": "eb4ce64d",
   "metadata": {},
   "source": [
    "## Correlação & Covariância"
   ]
  },
  {
   "cell_type": "markdown",
   "id": "8f41bf4c",
   "metadata": {},
   "source": [
    "**Calcule a correlação de Pearson entre `Fare` e `Age`.**"
   ]
  },
  {
   "cell_type": "code",
   "execution_count": null,
   "id": "680571d4",
   "metadata": {},
   "outputs": [],
   "source": [
    "# Seu código aqui\n"
   ]
  },
  {
   "cell_type": "markdown",
   "id": "2858ec80",
   "metadata": {},
   "source": [
    "**Qual covariância entre `Fare` e `Age`?**"
   ]
  },
  {
   "cell_type": "code",
   "execution_count": null,
   "id": "55544fcf",
   "metadata": {},
   "outputs": [],
   "source": [
    "# Seu código aqui\n"
   ]
  },
  {
   "cell_type": "markdown",
   "id": "4201e264",
   "metadata": {},
   "source": [
    "**Liste as 3 maiores correlações de `df.corr()`.**"
   ]
  },
  {
   "cell_type": "code",
   "execution_count": null,
   "id": "f2be4889",
   "metadata": {},
   "outputs": [],
   "source": [
    "# Seu código aqui\n"
   ]
  },
  {
   "cell_type": "markdown",
   "id": "5dfcd58a",
   "metadata": {},
   "source": [
    "**Existe correlação negativa significativa (<‑0.3) em `df.corr()`?**"
   ]
  },
  {
   "cell_type": "code",
   "execution_count": null,
   "id": "7497ea8e",
   "metadata": {},
   "outputs": [],
   "source": [
    "# Seu código aqui\n"
   ]
  },
  {
   "cell_type": "markdown",
   "id": "7c4e8184",
   "metadata": {},
   "source": [
    "**Visualize matriz de correlação com `sns.heatmap`.**"
   ]
  },
  {
   "cell_type": "code",
   "execution_count": null,
   "id": "9ce020bb",
   "metadata": {},
   "outputs": [],
   "source": [
    "# Seu código aqui\n"
   ]
  },
  {
   "cell_type": "markdown",
   "id": "43fefd61",
   "metadata": {},
   "source": [
    "## Teste de Hipótese Simples"
   ]
  },
  {
   "cell_type": "markdown",
   "id": "e60142a0",
   "metadata": {},
   "source": [
    "**Realize um teste t de média de `Age` entre grupos de `Survived`.**"
   ]
  },
  {
   "cell_type": "code",
   "execution_count": null,
   "id": "7516eadd",
   "metadata": {},
   "outputs": [],
   "source": [
    "# Seu código aqui\n"
   ]
  },
  {
   "cell_type": "markdown",
   "id": "f06452c7",
   "metadata": {},
   "source": [
    "**Utilize chi‑quadrado para independência entre `Survived` e `Survived`.**"
   ]
  },
  {
   "cell_type": "code",
   "execution_count": null,
   "id": "a38b9119",
   "metadata": {},
   "outputs": [],
   "source": [
    "# Seu código aqui\n"
   ]
  },
  {
   "cell_type": "markdown",
   "id": "4cf4beb5",
   "metadata": {},
   "source": [
    "**Construa intervalo de confiança 95% para média de `Fare`.**"
   ]
  },
  {
   "cell_type": "code",
   "execution_count": null,
   "id": "462b55e7",
   "metadata": {},
   "outputs": [],
   "source": [
    "# Seu código aqui\n"
   ]
  },
  {
   "cell_type": "markdown",
   "id": "009df44d",
   "metadata": {},
   "source": [
    "**Teste se média de `Age` difere entre `Embarked`=a e `Embarked`=b.**"
   ]
  },
  {
   "cell_type": "code",
   "execution_count": null,
   "id": "274b28c6",
   "metadata": {},
   "outputs": [],
   "source": [
    "# Seu código aqui\n"
   ]
  },
  {
   "cell_type": "markdown",
   "id": "4e288047",
   "metadata": {},
   "source": [
    "**Explique o p‑valor obtido em um teste t.**"
   ]
  },
  {
   "cell_type": "code",
   "execution_count": null,
   "id": "958a7f30",
   "metadata": {},
   "outputs": [],
   "source": [
    "# Seu código aqui\n"
   ]
  },
  {
   "cell_type": "markdown",
   "id": "907a1b01",
   "metadata": {},
   "source": [
    "## Feature Engineering Básico"
   ]
  },
  {
   "cell_type": "markdown",
   "id": "0926d53b",
   "metadata": {},
   "source": [
    "**Extraia o título (Mr/Mrs/Dr) da coluna `Name` para nova coluna `Title`.**"
   ]
  },
  {
   "cell_type": "code",
   "execution_count": null,
   "id": "da714724",
   "metadata": {},
   "outputs": [],
   "source": [
    "# Seu código aqui\n"
   ]
  },
  {
   "cell_type": "markdown",
   "id": "8587b351",
   "metadata": {},
   "source": [
    "**Crie coluna `FamilySize` somando `SibSp` + `Parch` + 1.**"
   ]
  },
  {
   "cell_type": "code",
   "execution_count": null,
   "id": "a912a1e2",
   "metadata": {},
   "outputs": [],
   "source": [
    "# Seu código aqui\n"
   ]
  },
  {
   "cell_type": "markdown",
   "id": "56b5ac75",
   "metadata": {},
   "source": [
    "**Converta `Sex` para dummies usando `pd.get_dummies`.**"
   ]
  },
  {
   "cell_type": "code",
   "execution_count": null,
   "id": "d847a847",
   "metadata": {},
   "outputs": [],
   "source": [
    "# Seu código aqui\n"
   ]
  },
  {
   "cell_type": "markdown",
   "id": "cebaf695",
   "metadata": {},
   "source": [
    "**Normaliza `Fare` com `(x‑min)/(max‑min)`.**"
   ]
  },
  {
   "cell_type": "code",
   "execution_count": null,
   "id": "832d2096",
   "metadata": {},
   "outputs": [],
   "source": [
    "# Seu código aqui\n"
   ]
  },
  {
   "cell_type": "markdown",
   "id": "a0505f91",
   "metadata": {},
   "source": [
    "**Binarize `Fare` por mediana em coluna `High_Fare`.**"
   ]
  },
  {
   "cell_type": "code",
   "execution_count": null,
   "id": "bf2a83df",
   "metadata": {},
   "outputs": [],
   "source": [
    "# Seu código aqui\n"
   ]
  },
  {
   "cell_type": "markdown",
   "id": "ffd60544",
   "metadata": {},
   "source": [
    "## Quick Insights & Storytelling"
   ]
  },
  {
   "cell_type": "markdown",
   "id": "2a936891",
   "metadata": {},
   "source": [
    "**Escreva em Markdown a insight sobre taxa de sobrevivência por `Survived`.**"
   ]
  },
  {
   "cell_type": "code",
   "execution_count": null,
   "id": "42cd2d54",
   "metadata": {},
   "outputs": [],
   "source": [
    "# Seu código aqui\n"
   ]
  },
  {
   "cell_type": "markdown",
   "id": "07970814",
   "metadata": {},
   "source": [
    "**Qual `Pclass` teve maior tarifa média `Fare`?**"
   ]
  },
  {
   "cell_type": "code",
   "execution_count": null,
   "id": "9ffd9f48",
   "metadata": {},
   "outputs": [],
   "source": [
    "# Seu código aqui\n"
   ]
  },
  {
   "cell_type": "markdown",
   "id": "c4850c58",
   "metadata": {},
   "source": [
    "**Explique qual variável parece mais associada à sobrevivência.**"
   ]
  },
  {
   "cell_type": "code",
   "execution_count": null,
   "id": "eb0e85cd",
   "metadata": {},
   "outputs": [],
   "source": [
    "# Seu código aqui\n"
   ]
  },
  {
   "cell_type": "markdown",
   "id": "1aada40a",
   "metadata": {},
   "source": [
    "**Resuma a distribuição de `Age` em 3 frases.**"
   ]
  },
  {
   "cell_type": "code",
   "execution_count": null,
   "id": "0284e853",
   "metadata": {},
   "outputs": [],
   "source": [
    "# Seu código aqui\n"
   ]
  },
  {
   "cell_type": "markdown",
   "id": "81432010",
   "metadata": {},
   "source": [
    "**Anexe um gráfico combinado de histograma e KDE para `Age`.**"
   ]
  },
  {
   "cell_type": "code",
   "execution_count": null,
   "id": "27007b5c",
   "metadata": {},
   "outputs": [],
   "source": [
    "# Seu código aqui\n"
   ]
  },
  {
   "cell_type": "markdown",
   "id": "f6c80dbd",
   "metadata": {},
   "source": [
    "## Carregamento & Visão Geral"
   ]
  },
  {
   "cell_type": "markdown",
   "id": "75762070",
   "metadata": {},
   "source": [
    "**Carregue o dataset Titanic em um DataFrame chamado `df`.**"
   ]
  },
  {
   "cell_type": "code",
   "execution_count": null,
   "id": "c5060a6e",
   "metadata": {},
   "outputs": [],
   "source": [
    "# Seu código aqui\n"
   ]
  },
  {
   "cell_type": "markdown",
   "id": "a2af21d9",
   "metadata": {},
   "source": [
    "**Mostre as 10 primeiras linhas de `df`.**"
   ]
  },
  {
   "cell_type": "code",
   "execution_count": null,
   "id": "ff9be174",
   "metadata": {},
   "outputs": [],
   "source": [
    "# Seu código aqui\n"
   ]
  },
  {
   "cell_type": "markdown",
   "id": "983e0503",
   "metadata": {},
   "source": [
    "**Exiba o `df.info()` completo.**"
   ]
  },
  {
   "cell_type": "code",
   "execution_count": null,
   "id": "6f35eaa5",
   "metadata": {},
   "outputs": [],
   "source": [
    "# Seu código aqui\n"
   ]
  },
  {
   "cell_type": "markdown",
   "id": "e0433b80",
   "metadata": {},
   "source": [
    "**Quantas linhas e colunas existem em `df`?**"
   ]
  },
  {
   "cell_type": "code",
   "execution_count": null,
   "id": "8d75f158",
   "metadata": {},
   "outputs": [],
   "source": [
    "# Seu código aqui\n"
   ]
  },
  {
   "cell_type": "markdown",
   "id": "a2ccd5be",
   "metadata": {},
   "source": [
    "**Liste os nomes das colunas do DataFrame.**"
   ]
  },
  {
   "cell_type": "code",
   "execution_count": null,
   "id": "2b5a4c05",
   "metadata": {},
   "outputs": [],
   "source": [
    "# Seu código aqui\n"
   ]
  },
  {
   "cell_type": "markdown",
   "id": "4e7bf657",
   "metadata": {},
   "source": [
    "## Estatística Descritiva"
   ]
  },
  {
   "cell_type": "markdown",
   "id": "890f7c0a",
   "metadata": {},
   "source": [
    "**Calcule a média da coluna `Fare`.**"
   ]
  },
  {
   "cell_type": "code",
   "execution_count": null,
   "id": "38dc1940",
   "metadata": {},
   "outputs": [],
   "source": [
    "# Seu código aqui\n"
   ]
  },
  {
   "cell_type": "markdown",
   "id": "3aff95f7",
   "metadata": {},
   "source": [
    "**Encontre a mediana da coluna `Fare`.**"
   ]
  },
  {
   "cell_type": "code",
   "execution_count": null,
   "id": "4c83033b",
   "metadata": {},
   "outputs": [],
   "source": [
    "# Seu código aqui\n"
   ]
  },
  {
   "cell_type": "markdown",
   "id": "28228b49",
   "metadata": {},
   "source": [
    "**Qual é o desvio‑padrão de `Age`?**"
   ]
  },
  {
   "cell_type": "code",
   "execution_count": null,
   "id": "538e233c",
   "metadata": {},
   "outputs": [],
   "source": [
    "# Seu código aqui\n"
   ]
  },
  {
   "cell_type": "markdown",
   "id": "e96fa4d3",
   "metadata": {},
   "source": [
    "**Exiba `df['Age'].describe()`.**"
   ]
  },
  {
   "cell_type": "code",
   "execution_count": null,
   "id": "9e471a18",
   "metadata": {},
   "outputs": [],
   "source": [
    "# Seu código aqui\n"
   ]
  },
  {
   "cell_type": "markdown",
   "id": "63f66413",
   "metadata": {},
   "source": [
    "**Conte quantos valores faltantes existem em `Fare`.**"
   ]
  },
  {
   "cell_type": "code",
   "execution_count": null,
   "id": "deb155da",
   "metadata": {},
   "outputs": [],
   "source": [
    "# Seu código aqui\n"
   ]
  },
  {
   "cell_type": "markdown",
   "id": "74bf1328",
   "metadata": {},
   "source": [
    "## Visualizações Univariadas"
   ]
  },
  {
   "cell_type": "markdown",
   "id": "d31feb53",
   "metadata": {},
   "source": [
    "**Plote um histograma da coluna `Fare`.**"
   ]
  },
  {
   "cell_type": "code",
   "execution_count": null,
   "id": "62e5033d",
   "metadata": {},
   "outputs": [],
   "source": [
    "# Seu código aqui\n"
   ]
  },
  {
   "cell_type": "markdown",
   "id": "d9a8b405",
   "metadata": {},
   "source": [
    "**Crie um boxplot da coluna `Age`.**"
   ]
  },
  {
   "cell_type": "code",
   "execution_count": null,
   "id": "b503019c",
   "metadata": {},
   "outputs": [],
   "source": [
    "# Seu código aqui\n"
   ]
  },
  {
   "cell_type": "markdown",
   "id": "b086f906",
   "metadata": {},
   "source": [
    "**Gere uma contagem de barras para `Pclass`.**"
   ]
  },
  {
   "cell_type": "code",
   "execution_count": null,
   "id": "cb30f1b9",
   "metadata": {},
   "outputs": [],
   "source": [
    "# Seu código aqui\n"
   ]
  },
  {
   "cell_type": "markdown",
   "id": "e4b24b8e",
   "metadata": {},
   "source": [
    "**Desenhe um gráfico de dispersão de índice vs `Age`.**"
   ]
  },
  {
   "cell_type": "code",
   "execution_count": null,
   "id": "587fbd46",
   "metadata": {},
   "outputs": [],
   "source": [
    "# Seu código aqui\n"
   ]
  },
  {
   "cell_type": "markdown",
   "id": "a9824db4",
   "metadata": {},
   "source": [
    "**Crie um violin plot de `Fare` separado por `Survived`.**"
   ]
  },
  {
   "cell_type": "code",
   "execution_count": null,
   "id": "4b95fab5",
   "metadata": {},
   "outputs": [],
   "source": [
    "# Seu código aqui\n"
   ]
  },
  {
   "cell_type": "markdown",
   "id": "ebcaa941",
   "metadata": {},
   "source": [
    "## Visualizações Bivariadas"
   ]
  },
  {
   "cell_type": "markdown",
   "id": "eeb27215",
   "metadata": {},
   "source": [
    "**Crie um scatterplot de `Age` vs `Fare`.**"
   ]
  },
  {
   "cell_type": "code",
   "execution_count": null,
   "id": "b1bac37a",
   "metadata": {},
   "outputs": [],
   "source": [
    "# Seu código aqui\n"
   ]
  },
  {
   "cell_type": "markdown",
   "id": "35cc25ba",
   "metadata": {},
   "source": [
    "**Faça um barplot de média de `Age` por `Embarked`.**"
   ]
  },
  {
   "cell_type": "code",
   "execution_count": null,
   "id": "b95b0797",
   "metadata": {},
   "outputs": [],
   "source": [
    "# Seu código aqui\n"
   ]
  },
  {
   "cell_type": "markdown",
   "id": "017c4e9f",
   "metadata": {},
   "source": [
    "**Construa um countplot de `Pclass` dividido por `Survived`.**"
   ]
  },
  {
   "cell_type": "code",
   "execution_count": null,
   "id": "5781dd1d",
   "metadata": {},
   "outputs": [],
   "source": [
    "# Seu código aqui\n"
   ]
  },
  {
   "cell_type": "markdown",
   "id": "648c9e54",
   "metadata": {},
   "source": [
    "**Faça um boxplot de `Age` por `Sex`.**"
   ]
  },
  {
   "cell_type": "code",
   "execution_count": null,
   "id": "11b8f819",
   "metadata": {},
   "outputs": [],
   "source": [
    "# Seu código aqui\n"
   ]
  },
  {
   "cell_type": "markdown",
   "id": "bacc11c1",
   "metadata": {},
   "source": [
    "**Plote um heatmap de correlação entre todas as colunas numéricas.**"
   ]
  },
  {
   "cell_type": "code",
   "execution_count": null,
   "id": "c0dc4896",
   "metadata": {},
   "outputs": [],
   "source": [
    "# Seu código aqui\n"
   ]
  },
  {
   "cell_type": "markdown",
   "id": "fc0190cb",
   "metadata": {},
   "source": [
    "## GroupBy & Aggregations"
   ]
  },
  {
   "cell_type": "markdown",
   "id": "230b40a5",
   "metadata": {},
   "source": [
    "**Use `groupby('Embarked').size()` para contar linhas.**"
   ]
  },
  {
   "cell_type": "code",
   "execution_count": null,
   "id": "c610c69e",
   "metadata": {},
   "outputs": [],
   "source": [
    "# Seu código aqui\n"
   ]
  },
  {
   "cell_type": "markdown",
   "id": "ea8f4010",
   "metadata": {},
   "source": [
    "**Calcule média de `Fare` por cada categoria de `Survived`.**"
   ]
  },
  {
   "cell_type": "code",
   "execution_count": null,
   "id": "863a8d42",
   "metadata": {},
   "outputs": [],
   "source": [
    "# Seu código aqui\n"
   ]
  },
  {
   "cell_type": "markdown",
   "id": "9d8b1671",
   "metadata": {},
   "source": [
    "**Crie uma tabela de pivot de média de `Fare` com índice `Embarked` e colunas `Survived`.**"
   ]
  },
  {
   "cell_type": "code",
   "execution_count": null,
   "id": "4e141f10",
   "metadata": {},
   "outputs": [],
   "source": [
    "# Seu código aqui\n"
   ]
  },
  {
   "cell_type": "markdown",
   "id": "49cca85e",
   "metadata": {},
   "source": [
    "**Ordene o resultado de média de `Age` por `Pclass` do maior para o menor.**"
   ]
  },
  {
   "cell_type": "code",
   "execution_count": null,
   "id": "19fc71bb",
   "metadata": {},
   "outputs": [],
   "source": [
    "# Seu código aqui\n"
   ]
  },
  {
   "cell_type": "markdown",
   "id": "26587215",
   "metadata": {},
   "source": [
    "**Mostre a soma de passageiros por combinação `Pclass`‑`Survived`.**"
   ]
  },
  {
   "cell_type": "code",
   "execution_count": null,
   "id": "283338e2",
   "metadata": {},
   "outputs": [],
   "source": [
    "# Seu código aqui\n"
   ]
  },
  {
   "cell_type": "markdown",
   "id": "effc2019",
   "metadata": {},
   "source": [
    "## Limpeza de Dados"
   ]
  },
  {
   "cell_type": "markdown",
   "id": "0e859567",
   "metadata": {},
   "source": [
    "**Preencha valores nulos de `Fare` com a mediana.**"
   ]
  },
  {
   "cell_type": "code",
   "execution_count": null,
   "id": "65492f64",
   "metadata": {},
   "outputs": [],
   "source": [
    "# Seu código aqui\n"
   ]
  },
  {
   "cell_type": "markdown",
   "id": "de44e831",
   "metadata": {},
   "source": [
    "**Remova linhas onde `Age` é nulo.**"
   ]
  },
  {
   "cell_type": "code",
   "execution_count": null,
   "id": "b02ef6db",
   "metadata": {},
   "outputs": [],
   "source": [
    "# Seu código aqui\n"
   ]
  },
  {
   "cell_type": "markdown",
   "id": "a1181d33",
   "metadata": {},
   "source": [
    "**Crie uma nova coluna `IsChild` quando `Fare` < 16.**"
   ]
  },
  {
   "cell_type": "code",
   "execution_count": null,
   "id": "261b2ced",
   "metadata": {},
   "outputs": [],
   "source": [
    "# Seu código aqui\n"
   ]
  },
  {
   "cell_type": "markdown",
   "id": "6543645e",
   "metadata": {},
   "source": [
    "**Apague a coluna `Survived` temporariamente e mostre `df.head()`.**"
   ]
  },
  {
   "cell_type": "code",
   "execution_count": null,
   "id": "870b1eb2",
   "metadata": {},
   "outputs": [],
   "source": [
    "# Seu código aqui\n"
   ]
  },
  {
   "cell_type": "markdown",
   "id": "fdae7d75",
   "metadata": {},
   "source": [
    "**Renomeie a coluna `Sex` para `Sex_cat`.**"
   ]
  },
  {
   "cell_type": "code",
   "execution_count": null,
   "id": "46226368",
   "metadata": {},
   "outputs": [],
   "source": [
    "# Seu código aqui\n"
   ]
  },
  {
   "cell_type": "markdown",
   "id": "92c7911c",
   "metadata": {},
   "source": [
    "## Correlação & Covariância"
   ]
  },
  {
   "cell_type": "markdown",
   "id": "6872361e",
   "metadata": {},
   "source": [
    "**Calcule a correlação de Pearson entre `Fare` e `Age`.**"
   ]
  },
  {
   "cell_type": "code",
   "execution_count": null,
   "id": "0ba474b5",
   "metadata": {},
   "outputs": [],
   "source": [
    "# Seu código aqui\n"
   ]
  },
  {
   "cell_type": "markdown",
   "id": "c309f810",
   "metadata": {},
   "source": [
    "**Qual covariância entre `Fare` e `Age`?**"
   ]
  },
  {
   "cell_type": "code",
   "execution_count": null,
   "id": "e5c34ac0",
   "metadata": {},
   "outputs": [],
   "source": [
    "# Seu código aqui\n"
   ]
  },
  {
   "cell_type": "markdown",
   "id": "611e65ae",
   "metadata": {},
   "source": [
    "**Liste as 3 maiores correlações de `df.corr()`.**"
   ]
  },
  {
   "cell_type": "code",
   "execution_count": null,
   "id": "b688f609",
   "metadata": {},
   "outputs": [],
   "source": [
    "# Seu código aqui\n"
   ]
  },
  {
   "cell_type": "markdown",
   "id": "bda0cd84",
   "metadata": {},
   "source": [
    "**Existe correlação negativa significativa (<‑0.3) em `df.corr()`?**"
   ]
  },
  {
   "cell_type": "code",
   "execution_count": null,
   "id": "d70b54e7",
   "metadata": {},
   "outputs": [],
   "source": [
    "# Seu código aqui\n"
   ]
  },
  {
   "cell_type": "markdown",
   "id": "a615a809",
   "metadata": {},
   "source": [
    "**Visualize matriz de correlação com `sns.heatmap`.**"
   ]
  },
  {
   "cell_type": "code",
   "execution_count": null,
   "id": "38538e0f",
   "metadata": {},
   "outputs": [],
   "source": [
    "# Seu código aqui\n"
   ]
  },
  {
   "cell_type": "markdown",
   "id": "46735704",
   "metadata": {},
   "source": [
    "## Teste de Hipótese Simples"
   ]
  },
  {
   "cell_type": "markdown",
   "id": "f3191bab",
   "metadata": {},
   "source": [
    "**Realize um teste t de média de `Age` entre grupos de `Survived`.**"
   ]
  },
  {
   "cell_type": "code",
   "execution_count": null,
   "id": "d6872cd0",
   "metadata": {},
   "outputs": [],
   "source": [
    "# Seu código aqui\n"
   ]
  },
  {
   "cell_type": "markdown",
   "id": "6e49b77c",
   "metadata": {},
   "source": [
    "**Utilize chi‑quadrado para independência entre `Sex` e `Survived`.**"
   ]
  },
  {
   "cell_type": "code",
   "execution_count": null,
   "id": "550d5513",
   "metadata": {},
   "outputs": [],
   "source": [
    "# Seu código aqui\n"
   ]
  },
  {
   "cell_type": "markdown",
   "id": "ae934bd2",
   "metadata": {},
   "source": [
    "**Construa intervalo de confiança 95% para média de `Age`.**"
   ]
  },
  {
   "cell_type": "code",
   "execution_count": null,
   "id": "2f41ce5f",
   "metadata": {},
   "outputs": [],
   "source": [
    "# Seu código aqui\n"
   ]
  },
  {
   "cell_type": "markdown",
   "id": "3b2651f5",
   "metadata": {},
   "source": [
    "**Teste se média de `Age` difere entre `Survived`=a e `Survived`=b.**"
   ]
  },
  {
   "cell_type": "code",
   "execution_count": null,
   "id": "3da02fdd",
   "metadata": {},
   "outputs": [],
   "source": [
    "# Seu código aqui\n"
   ]
  },
  {
   "cell_type": "markdown",
   "id": "c7732761",
   "metadata": {},
   "source": [
    "**Explique o p‑valor obtido em um teste t.**"
   ]
  },
  {
   "cell_type": "code",
   "execution_count": null,
   "id": "280de884",
   "metadata": {},
   "outputs": [],
   "source": [
    "# Seu código aqui\n"
   ]
  },
  {
   "cell_type": "markdown",
   "id": "f326181e",
   "metadata": {},
   "source": [
    "## Feature Engineering Básico"
   ]
  },
  {
   "cell_type": "markdown",
   "id": "bffa9233",
   "metadata": {},
   "source": [
    "**Extraia o título (Mr/Mrs/Dr) da coluna `Name` para nova coluna `Title`.**"
   ]
  },
  {
   "cell_type": "code",
   "execution_count": null,
   "id": "da1a9df2",
   "metadata": {},
   "outputs": [],
   "source": [
    "# Seu código aqui\n"
   ]
  },
  {
   "cell_type": "markdown",
   "id": "0c6ac20d",
   "metadata": {},
   "source": [
    "**Crie coluna `FamilySize` somando `SibSp` + `Parch` + 1.**"
   ]
  },
  {
   "cell_type": "code",
   "execution_count": null,
   "id": "f951d71e",
   "metadata": {},
   "outputs": [],
   "source": [
    "# Seu código aqui\n"
   ]
  },
  {
   "cell_type": "markdown",
   "id": "52b8f22f",
   "metadata": {},
   "source": [
    "**Converta `Embarked` para dummies usando `pd.get_dummies`.**"
   ]
  },
  {
   "cell_type": "code",
   "execution_count": null,
   "id": "458581e8",
   "metadata": {},
   "outputs": [],
   "source": [
    "# Seu código aqui\n"
   ]
  },
  {
   "cell_type": "markdown",
   "id": "1e2df49d",
   "metadata": {},
   "source": [
    "**Normaliza `Fare` com `(x‑min)/(max‑min)`.**"
   ]
  },
  {
   "cell_type": "code",
   "execution_count": null,
   "id": "011f9e93",
   "metadata": {},
   "outputs": [],
   "source": [
    "# Seu código aqui\n"
   ]
  },
  {
   "cell_type": "markdown",
   "id": "3f8f9aa2",
   "metadata": {},
   "source": [
    "**Binarize `Fare` por mediana em coluna `High_Fare`.**"
   ]
  },
  {
   "cell_type": "code",
   "execution_count": null,
   "id": "8763ef1c",
   "metadata": {},
   "outputs": [],
   "source": [
    "# Seu código aqui\n"
   ]
  },
  {
   "cell_type": "markdown",
   "id": "bdeb5fe0",
   "metadata": {},
   "source": [
    "## Quick Insights & Storytelling"
   ]
  },
  {
   "cell_type": "markdown",
   "id": "94dca99d",
   "metadata": {},
   "source": [
    "**Escreva em Markdown a insight sobre taxa de sobrevivência por `Embarked`.**"
   ]
  },
  {
   "cell_type": "code",
   "execution_count": null,
   "id": "2a2aaccf",
   "metadata": {},
   "outputs": [],
   "source": [
    "# Seu código aqui\n"
   ]
  },
  {
   "cell_type": "markdown",
   "id": "8a0dcc67",
   "metadata": {},
   "source": [
    "**Qual `Pclass` teve maior tarifa média `Fare`?**"
   ]
  },
  {
   "cell_type": "code",
   "execution_count": null,
   "id": "e1f7f091",
   "metadata": {},
   "outputs": [],
   "source": [
    "# Seu código aqui\n"
   ]
  },
  {
   "cell_type": "markdown",
   "id": "d7f12bd6",
   "metadata": {},
   "source": [
    "**Explique qual variável parece mais associada à sobrevivência.**"
   ]
  },
  {
   "cell_type": "code",
   "execution_count": null,
   "id": "50a74aef",
   "metadata": {},
   "outputs": [],
   "source": [
    "# Seu código aqui\n"
   ]
  },
  {
   "cell_type": "markdown",
   "id": "61af0517",
   "metadata": {},
   "source": [
    "**Resuma a distribuição de `Age` em 3 frases.**"
   ]
  },
  {
   "cell_type": "code",
   "execution_count": null,
   "id": "d9e8ba69",
   "metadata": {},
   "outputs": [],
   "source": [
    "# Seu código aqui\n"
   ]
  },
  {
   "cell_type": "markdown",
   "id": "3e3178e8",
   "metadata": {},
   "source": [
    "**Anexe um gráfico combinado de histograma e KDE para `Fare`.**"
   ]
  },
  {
   "cell_type": "code",
   "execution_count": null,
   "id": "972e46e0",
   "metadata": {},
   "outputs": [],
   "source": [
    "# Seu código aqui\n"
   ]
  },
  {
   "cell_type": "markdown",
   "id": "44246315",
   "metadata": {},
   "source": [
    "## Carregamento & Visão Geral"
   ]
  },
  {
   "cell_type": "markdown",
   "id": "44602a71",
   "metadata": {},
   "source": [
    "**Carregue o dataset Titanic em um DataFrame chamado `df`.**"
   ]
  },
  {
   "cell_type": "code",
   "execution_count": null,
   "id": "0a3bfc59",
   "metadata": {},
   "outputs": [],
   "source": [
    "# Seu código aqui\n"
   ]
  },
  {
   "cell_type": "markdown",
   "id": "6595aeb2",
   "metadata": {},
   "source": [
    "**Mostre as 10 primeiras linhas de `df`.**"
   ]
  },
  {
   "cell_type": "code",
   "execution_count": null,
   "id": "d200b655",
   "metadata": {},
   "outputs": [],
   "source": [
    "# Seu código aqui\n"
   ]
  },
  {
   "cell_type": "markdown",
   "id": "f50f8dbb",
   "metadata": {},
   "source": [
    "**Exiba o `df.info()` completo.**"
   ]
  },
  {
   "cell_type": "code",
   "execution_count": null,
   "id": "18f2b0b5",
   "metadata": {},
   "outputs": [],
   "source": [
    "# Seu código aqui\n"
   ]
  },
  {
   "cell_type": "markdown",
   "id": "c342644e",
   "metadata": {},
   "source": [
    "**Quantas linhas e colunas existem em `df`?**"
   ]
  },
  {
   "cell_type": "code",
   "execution_count": null,
   "id": "fbf7d73a",
   "metadata": {},
   "outputs": [],
   "source": [
    "# Seu código aqui\n"
   ]
  },
  {
   "cell_type": "markdown",
   "id": "52a98f01",
   "metadata": {},
   "source": [
    "**Liste os nomes das colunas do DataFrame.**"
   ]
  },
  {
   "cell_type": "code",
   "execution_count": null,
   "id": "3c7abe10",
   "metadata": {},
   "outputs": [],
   "source": [
    "# Seu código aqui\n"
   ]
  },
  {
   "cell_type": "markdown",
   "id": "a881eddb",
   "metadata": {},
   "source": [
    "## Estatística Descritiva"
   ]
  },
  {
   "cell_type": "markdown",
   "id": "4ad4f7b4",
   "metadata": {},
   "source": [
    "**Calcule a média da coluna `Age`.**"
   ]
  },
  {
   "cell_type": "code",
   "execution_count": null,
   "id": "44642ead",
   "metadata": {},
   "outputs": [],
   "source": [
    "# Seu código aqui\n"
   ]
  },
  {
   "cell_type": "markdown",
   "id": "bc1e0f6c",
   "metadata": {},
   "source": [
    "**Encontre a mediana da coluna `Fare`.**"
   ]
  },
  {
   "cell_type": "code",
   "execution_count": null,
   "id": "2e2d0278",
   "metadata": {},
   "outputs": [],
   "source": [
    "# Seu código aqui\n"
   ]
  },
  {
   "cell_type": "markdown",
   "id": "57bc9b2f",
   "metadata": {},
   "source": [
    "**Qual é o desvio‑padrão de `Age`?**"
   ]
  },
  {
   "cell_type": "code",
   "execution_count": null,
   "id": "52936f97",
   "metadata": {},
   "outputs": [],
   "source": [
    "# Seu código aqui\n"
   ]
  },
  {
   "cell_type": "markdown",
   "id": "58829678",
   "metadata": {},
   "source": [
    "**Exiba `df['Fare'].describe()`.**"
   ]
  },
  {
   "cell_type": "code",
   "execution_count": null,
   "id": "ddf5c33a",
   "metadata": {},
   "outputs": [],
   "source": [
    "# Seu código aqui\n"
   ]
  },
  {
   "cell_type": "markdown",
   "id": "1b5ab32c",
   "metadata": {},
   "source": [
    "**Conte quantos valores faltantes existem em `Age`.**"
   ]
  },
  {
   "cell_type": "code",
   "execution_count": null,
   "id": "ffc176db",
   "metadata": {},
   "outputs": [],
   "source": [
    "# Seu código aqui\n"
   ]
  },
  {
   "cell_type": "markdown",
   "id": "873880aa",
   "metadata": {},
   "source": [
    "## Visualizações Univariadas"
   ]
  },
  {
   "cell_type": "markdown",
   "id": "3e5ea7c1",
   "metadata": {},
   "source": [
    "**Plote um histograma da coluna `Age`.**"
   ]
  },
  {
   "cell_type": "code",
   "execution_count": null,
   "id": "e6853459",
   "metadata": {},
   "outputs": [],
   "source": [
    "# Seu código aqui\n"
   ]
  },
  {
   "cell_type": "markdown",
   "id": "587fadb2",
   "metadata": {},
   "source": [
    "**Crie um boxplot da coluna `Fare`.**"
   ]
  },
  {
   "cell_type": "code",
   "execution_count": null,
   "id": "050f17d8",
   "metadata": {},
   "outputs": [],
   "source": [
    "# Seu código aqui\n"
   ]
  },
  {
   "cell_type": "markdown",
   "id": "39f1aed0",
   "metadata": {},
   "source": [
    "**Gere uma contagem de barras para `Survived`.**"
   ]
  },
  {
   "cell_type": "code",
   "execution_count": null,
   "id": "b9c0d93b",
   "metadata": {},
   "outputs": [],
   "source": [
    "# Seu código aqui\n"
   ]
  },
  {
   "cell_type": "markdown",
   "id": "c0cfddc5",
   "metadata": {},
   "source": [
    "**Desenhe um gráfico de dispersão de índice vs `Fare`.**"
   ]
  },
  {
   "cell_type": "code",
   "execution_count": null,
   "id": "87c847c9",
   "metadata": {},
   "outputs": [],
   "source": [
    "# Seu código aqui\n"
   ]
  },
  {
   "cell_type": "markdown",
   "id": "4425e851",
   "metadata": {},
   "source": [
    "**Crie um violin plot de `Fare` separado por `Survived`.**"
   ]
  },
  {
   "cell_type": "code",
   "execution_count": null,
   "id": "76bb51d6",
   "metadata": {},
   "outputs": [],
   "source": [
    "# Seu código aqui\n"
   ]
  },
  {
   "cell_type": "markdown",
   "id": "336e8c49",
   "metadata": {},
   "source": [
    "## Visualizações Bivariadas"
   ]
  },
  {
   "cell_type": "markdown",
   "id": "11ecb37a",
   "metadata": {},
   "source": [
    "**Crie um scatterplot de `Fare` vs `Age`.**"
   ]
  },
  {
   "cell_type": "code",
   "execution_count": null,
   "id": "f0a8b36a",
   "metadata": {},
   "outputs": [],
   "source": [
    "# Seu código aqui\n"
   ]
  },
  {
   "cell_type": "markdown",
   "id": "9d44e9f6",
   "metadata": {},
   "source": [
    "**Faça um barplot de média de `Fare` por `Survived`.**"
   ]
  },
  {
   "cell_type": "code",
   "execution_count": null,
   "id": "c97ea5ce",
   "metadata": {},
   "outputs": [],
   "source": [
    "# Seu código aqui\n"
   ]
  },
  {
   "cell_type": "markdown",
   "id": "435f1c25",
   "metadata": {},
   "source": [
    "**Construa um countplot de `Embarked` dividido por `Survived`.**"
   ]
  },
  {
   "cell_type": "code",
   "execution_count": null,
   "id": "fd42d52d",
   "metadata": {},
   "outputs": [],
   "source": [
    "# Seu código aqui\n"
   ]
  },
  {
   "cell_type": "markdown",
   "id": "40a2a208",
   "metadata": {},
   "source": [
    "**Faça um boxplot de `Age` por `Survived`.**"
   ]
  },
  {
   "cell_type": "code",
   "execution_count": null,
   "id": "2b6b5ce3",
   "metadata": {},
   "outputs": [],
   "source": [
    "# Seu código aqui\n"
   ]
  },
  {
   "cell_type": "markdown",
   "id": "f1957ad8",
   "metadata": {},
   "source": [
    "**Plote um heatmap de correlação entre todas as colunas numéricas.**"
   ]
  },
  {
   "cell_type": "code",
   "execution_count": null,
   "id": "39d36a06",
   "metadata": {},
   "outputs": [],
   "source": [
    "# Seu código aqui\n"
   ]
  },
  {
   "cell_type": "markdown",
   "id": "691fc077",
   "metadata": {},
   "source": [
    "## GroupBy & Aggregations"
   ]
  },
  {
   "cell_type": "markdown",
   "id": "325faf2c",
   "metadata": {},
   "source": [
    "**Use `groupby('Pclass').size()` para contar linhas.**"
   ]
  },
  {
   "cell_type": "code",
   "execution_count": null,
   "id": "aaa36245",
   "metadata": {},
   "outputs": [],
   "source": [
    "# Seu código aqui\n"
   ]
  },
  {
   "cell_type": "markdown",
   "id": "def05f24",
   "metadata": {},
   "source": [
    "**Calcule média de `Age` por cada categoria de `Sex`.**"
   ]
  },
  {
   "cell_type": "code",
   "execution_count": null,
   "id": "9782e0f1",
   "metadata": {},
   "outputs": [],
   "source": [
    "# Seu código aqui\n"
   ]
  },
  {
   "cell_type": "markdown",
   "id": "4443860f",
   "metadata": {},
   "source": [
    "**Crie uma tabela de pivot de média de `Fare` com índice `Sex` e colunas `Survived`.**"
   ]
  },
  {
   "cell_type": "code",
   "execution_count": null,
   "id": "e7916354",
   "metadata": {},
   "outputs": [],
   "source": [
    "# Seu código aqui\n"
   ]
  },
  {
   "cell_type": "markdown",
   "id": "41039abe",
   "metadata": {},
   "source": [
    "**Ordene o resultado de média de `Age` por `Embarked` do maior para o menor.**"
   ]
  },
  {
   "cell_type": "code",
   "execution_count": null,
   "id": "dc67a086",
   "metadata": {},
   "outputs": [],
   "source": [
    "# Seu código aqui\n"
   ]
  },
  {
   "cell_type": "markdown",
   "id": "dc9a68c1",
   "metadata": {},
   "source": [
    "**Mostre a soma de passageiros por combinação `Pclass`‑`Survived`.**"
   ]
  },
  {
   "cell_type": "code",
   "execution_count": null,
   "id": "2f169e78",
   "metadata": {},
   "outputs": [],
   "source": [
    "# Seu código aqui\n"
   ]
  },
  {
   "cell_type": "markdown",
   "id": "5c173051",
   "metadata": {},
   "source": [
    "## Limpeza de Dados"
   ]
  },
  {
   "cell_type": "markdown",
   "id": "ca28795a",
   "metadata": {},
   "source": [
    "**Preencha valores nulos de `Fare` com a mediana.**"
   ]
  },
  {
   "cell_type": "code",
   "execution_count": null,
   "id": "567b6c50",
   "metadata": {},
   "outputs": [],
   "source": [
    "# Seu código aqui\n"
   ]
  },
  {
   "cell_type": "markdown",
   "id": "549cf346",
   "metadata": {},
   "source": [
    "**Remova linhas onde `Fare` é nulo.**"
   ]
  },
  {
   "cell_type": "code",
   "execution_count": null,
   "id": "eb458ff5",
   "metadata": {},
   "outputs": [],
   "source": [
    "# Seu código aqui\n"
   ]
  },
  {
   "cell_type": "markdown",
   "id": "8116810f",
   "metadata": {},
   "source": [
    "**Crie uma nova coluna `IsChild` quando `Age` < 16.**"
   ]
  },
  {
   "cell_type": "code",
   "execution_count": null,
   "id": "1502ec4e",
   "metadata": {},
   "outputs": [],
   "source": [
    "# Seu código aqui\n"
   ]
  },
  {
   "cell_type": "markdown",
   "id": "57c06016",
   "metadata": {},
   "source": [
    "**Apague a coluna `Sex` temporariamente e mostre `df.head()`.**"
   ]
  },
  {
   "cell_type": "code",
   "execution_count": null,
   "id": "1422f0c3",
   "metadata": {},
   "outputs": [],
   "source": [
    "# Seu código aqui\n"
   ]
  },
  {
   "cell_type": "markdown",
   "id": "cdf9f080",
   "metadata": {},
   "source": [
    "**Renomeie a coluna `Sex` para `Sex_cat`.**"
   ]
  },
  {
   "cell_type": "code",
   "execution_count": null,
   "id": "25300cee",
   "metadata": {},
   "outputs": [],
   "source": [
    "# Seu código aqui\n"
   ]
  },
  {
   "cell_type": "markdown",
   "id": "b6273d3f",
   "metadata": {},
   "source": [
    "## Correlação & Covariância"
   ]
  },
  {
   "cell_type": "markdown",
   "id": "5c2f5223",
   "metadata": {},
   "source": [
    "**Calcule a correlação de Pearson entre `Fare` e `Age`.**"
   ]
  },
  {
   "cell_type": "code",
   "execution_count": null,
   "id": "d2e16449",
   "metadata": {},
   "outputs": [],
   "source": [
    "# Seu código aqui\n"
   ]
  },
  {
   "cell_type": "markdown",
   "id": "302b3946",
   "metadata": {},
   "source": [
    "**Qual covariância entre `Fare` e `Age`?**"
   ]
  },
  {
   "cell_type": "code",
   "execution_count": null,
   "id": "bedcf290",
   "metadata": {},
   "outputs": [],
   "source": [
    "# Seu código aqui\n"
   ]
  },
  {
   "cell_type": "markdown",
   "id": "60be28dc",
   "metadata": {},
   "source": [
    "**Liste as 3 maiores correlações de `df.corr()`.**"
   ]
  },
  {
   "cell_type": "code",
   "execution_count": null,
   "id": "65a9fff9",
   "metadata": {},
   "outputs": [],
   "source": [
    "# Seu código aqui\n"
   ]
  },
  {
   "cell_type": "markdown",
   "id": "1891ae54",
   "metadata": {},
   "source": [
    "**Existe correlação negativa significativa (<‑0.3) em `df.corr()`?**"
   ]
  },
  {
   "cell_type": "code",
   "execution_count": null,
   "id": "77faaf42",
   "metadata": {},
   "outputs": [],
   "source": [
    "# Seu código aqui\n"
   ]
  },
  {
   "cell_type": "markdown",
   "id": "2fe3b885",
   "metadata": {},
   "source": [
    "**Visualize matriz de correlação com `sns.heatmap`.**"
   ]
  },
  {
   "cell_type": "code",
   "execution_count": null,
   "id": "e4124dcd",
   "metadata": {},
   "outputs": [],
   "source": [
    "# Seu código aqui\n"
   ]
  },
  {
   "cell_type": "markdown",
   "id": "b4a4d004",
   "metadata": {},
   "source": [
    "## Teste de Hipótese Simples"
   ]
  },
  {
   "cell_type": "markdown",
   "id": "27fa974b",
   "metadata": {},
   "source": [
    "**Realize um teste t de média de `Age` entre grupos de `Survived`.**"
   ]
  },
  {
   "cell_type": "code",
   "execution_count": null,
   "id": "bd1af58f",
   "metadata": {},
   "outputs": [],
   "source": [
    "# Seu código aqui\n"
   ]
  },
  {
   "cell_type": "markdown",
   "id": "f3f595d3",
   "metadata": {},
   "source": [
    "**Utilize chi‑quadrado para independência entre `Embarked` e `Survived`.**"
   ]
  },
  {
   "cell_type": "code",
   "execution_count": null,
   "id": "2e32808e",
   "metadata": {},
   "outputs": [],
   "source": [
    "# Seu código aqui\n"
   ]
  },
  {
   "cell_type": "markdown",
   "id": "2884adb2",
   "metadata": {},
   "source": [
    "**Construa intervalo de confiança 95% para média de `Fare`.**"
   ]
  },
  {
   "cell_type": "code",
   "execution_count": null,
   "id": "41cbb683",
   "metadata": {},
   "outputs": [],
   "source": [
    "# Seu código aqui\n"
   ]
  },
  {
   "cell_type": "markdown",
   "id": "8f0e0301",
   "metadata": {},
   "source": [
    "**Teste se média de `Fare` difere entre `Sex`=a e `Sex`=b.**"
   ]
  },
  {
   "cell_type": "code",
   "execution_count": null,
   "id": "7275951d",
   "metadata": {},
   "outputs": [],
   "source": [
    "# Seu código aqui\n"
   ]
  },
  {
   "cell_type": "markdown",
   "id": "c923a5af",
   "metadata": {},
   "source": [
    "**Explique o p‑valor obtido em um teste t.**"
   ]
  },
  {
   "cell_type": "code",
   "execution_count": null,
   "id": "6545096b",
   "metadata": {},
   "outputs": [],
   "source": [
    "# Seu código aqui\n"
   ]
  },
  {
   "cell_type": "markdown",
   "id": "37899b73",
   "metadata": {},
   "source": [
    "## Feature Engineering Básico"
   ]
  },
  {
   "cell_type": "markdown",
   "id": "c6347af3",
   "metadata": {},
   "source": [
    "**Extraia o título (Mr/Mrs/Dr) da coluna `Name` para nova coluna `Title`.**"
   ]
  },
  {
   "cell_type": "code",
   "execution_count": null,
   "id": "985c9d11",
   "metadata": {},
   "outputs": [],
   "source": [
    "# Seu código aqui\n"
   ]
  },
  {
   "cell_type": "markdown",
   "id": "f223a211",
   "metadata": {},
   "source": [
    "**Crie coluna `FamilySize` somando `SibSp` + `Parch` + 1.**"
   ]
  },
  {
   "cell_type": "code",
   "execution_count": null,
   "id": "e52b4e24",
   "metadata": {},
   "outputs": [],
   "source": [
    "# Seu código aqui\n"
   ]
  },
  {
   "cell_type": "markdown",
   "id": "20c5468b",
   "metadata": {},
   "source": [
    "**Converta `Sex` para dummies usando `pd.get_dummies`.**"
   ]
  },
  {
   "cell_type": "code",
   "execution_count": null,
   "id": "1d429eff",
   "metadata": {},
   "outputs": [],
   "source": [
    "# Seu código aqui\n"
   ]
  },
  {
   "cell_type": "markdown",
   "id": "663cafcc",
   "metadata": {},
   "source": [
    "**Normaliza `Age` com `(x‑min)/(max‑min)`.**"
   ]
  },
  {
   "cell_type": "code",
   "execution_count": null,
   "id": "14f5109c",
   "metadata": {},
   "outputs": [],
   "source": [
    "# Seu código aqui\n"
   ]
  },
  {
   "cell_type": "markdown",
   "id": "d22ed318",
   "metadata": {},
   "source": [
    "**Binarize `Age` por mediana em coluna `High_Age`.**"
   ]
  },
  {
   "cell_type": "code",
   "execution_count": null,
   "id": "82a60206",
   "metadata": {},
   "outputs": [],
   "source": [
    "# Seu código aqui\n"
   ]
  },
  {
   "cell_type": "markdown",
   "id": "b672ec16",
   "metadata": {},
   "source": [
    "## Quick Insights & Storytelling"
   ]
  },
  {
   "cell_type": "markdown",
   "id": "191075a0",
   "metadata": {},
   "source": [
    "**Escreva em Markdown a insight sobre taxa de sobrevivência por `Embarked`.**"
   ]
  },
  {
   "cell_type": "code",
   "execution_count": null,
   "id": "1436548d",
   "metadata": {},
   "outputs": [],
   "source": [
    "# Seu código aqui\n"
   ]
  },
  {
   "cell_type": "markdown",
   "id": "b7ebfec0",
   "metadata": {},
   "source": [
    "**Qual `Pclass` teve maior tarifa média `Fare`?**"
   ]
  },
  {
   "cell_type": "code",
   "execution_count": null,
   "id": "323759dc",
   "metadata": {},
   "outputs": [],
   "source": [
    "# Seu código aqui\n"
   ]
  },
  {
   "cell_type": "markdown",
   "id": "6986e4f4",
   "metadata": {},
   "source": [
    "**Explique qual variável parece mais associada à sobrevivência.**"
   ]
  },
  {
   "cell_type": "code",
   "execution_count": null,
   "id": "d55e50bf",
   "metadata": {},
   "outputs": [],
   "source": [
    "# Seu código aqui\n"
   ]
  },
  {
   "cell_type": "markdown",
   "id": "c199bc43",
   "metadata": {},
   "source": [
    "**Resuma a distribuição de `Age` em 3 frases.**"
   ]
  },
  {
   "cell_type": "code",
   "execution_count": null,
   "id": "dadf5d57",
   "metadata": {},
   "outputs": [],
   "source": [
    "# Seu código aqui\n"
   ]
  },
  {
   "cell_type": "markdown",
   "id": "24084c2b",
   "metadata": {},
   "source": [
    "**Anexe um gráfico combinado de histograma e KDE para `Age`.**"
   ]
  },
  {
   "cell_type": "code",
   "execution_count": null,
   "id": "0ce78a92",
   "metadata": {},
   "outputs": [],
   "source": [
    "# Seu código aqui\n"
   ]
  },
  {
   "cell_type": "markdown",
   "id": "3592e8cc",
   "metadata": {},
   "source": [
    "## Carregamento & Visão Geral"
   ]
  },
  {
   "cell_type": "markdown",
   "id": "ae783ed5",
   "metadata": {},
   "source": [
    "**Carregue o dataset Titanic em um DataFrame chamado `df`.**"
   ]
  },
  {
   "cell_type": "code",
   "execution_count": null,
   "id": "b329e9f4",
   "metadata": {},
   "outputs": [],
   "source": [
    "# Seu código aqui\n"
   ]
  },
  {
   "cell_type": "markdown",
   "id": "1d0c2e7e",
   "metadata": {},
   "source": [
    "**Mostre as 10 primeiras linhas de `df`.**"
   ]
  },
  {
   "cell_type": "code",
   "execution_count": null,
   "id": "18b5aa63",
   "metadata": {},
   "outputs": [],
   "source": [
    "# Seu código aqui\n"
   ]
  },
  {
   "cell_type": "markdown",
   "id": "4f41a4ef",
   "metadata": {},
   "source": [
    "**Exiba o `df.info()` completo.**"
   ]
  },
  {
   "cell_type": "code",
   "execution_count": null,
   "id": "dab496d4",
   "metadata": {},
   "outputs": [],
   "source": [
    "# Seu código aqui\n"
   ]
  },
  {
   "cell_type": "markdown",
   "id": "020ce219",
   "metadata": {},
   "source": [
    "**Quantas linhas e colunas existem em `df`?**"
   ]
  },
  {
   "cell_type": "code",
   "execution_count": null,
   "id": "44b8f34e",
   "metadata": {},
   "outputs": [],
   "source": [
    "# Seu código aqui\n"
   ]
  },
  {
   "cell_type": "markdown",
   "id": "33c2ff63",
   "metadata": {},
   "source": [
    "**Liste os nomes das colunas do DataFrame.**"
   ]
  },
  {
   "cell_type": "code",
   "execution_count": null,
   "id": "6e18b381",
   "metadata": {},
   "outputs": [],
   "source": [
    "# Seu código aqui\n"
   ]
  },
  {
   "cell_type": "markdown",
   "id": "02f009c5",
   "metadata": {},
   "source": [
    "## Estatística Descritiva"
   ]
  },
  {
   "cell_type": "markdown",
   "id": "d9c211ad",
   "metadata": {},
   "source": [
    "**Calcule a média da coluna `Fare`.**"
   ]
  },
  {
   "cell_type": "code",
   "execution_count": null,
   "id": "2c5c1a82",
   "metadata": {},
   "outputs": [],
   "source": [
    "# Seu código aqui\n"
   ]
  },
  {
   "cell_type": "markdown",
   "id": "779f7a86",
   "metadata": {},
   "source": [
    "**Encontre a mediana da coluna `Age`.**"
   ]
  },
  {
   "cell_type": "code",
   "execution_count": null,
   "id": "8d8cadd8",
   "metadata": {},
   "outputs": [],
   "source": [
    "# Seu código aqui\n"
   ]
  },
  {
   "cell_type": "markdown",
   "id": "c9ae590a",
   "metadata": {},
   "source": [
    "**Qual é o desvio‑padrão de `Fare`?**"
   ]
  },
  {
   "cell_type": "code",
   "execution_count": null,
   "id": "4bc4f1bd",
   "metadata": {},
   "outputs": [],
   "source": [
    "# Seu código aqui\n"
   ]
  },
  {
   "cell_type": "markdown",
   "id": "edcb2ed6",
   "metadata": {},
   "source": [
    "**Exiba `df['Fare'].describe()`.**"
   ]
  },
  {
   "cell_type": "code",
   "execution_count": null,
   "id": "cfb20d05",
   "metadata": {},
   "outputs": [],
   "source": [
    "# Seu código aqui\n"
   ]
  },
  {
   "cell_type": "markdown",
   "id": "48cfcb5d",
   "metadata": {},
   "source": [
    "**Conte quantos valores faltantes existem em `Fare`.**"
   ]
  },
  {
   "cell_type": "code",
   "execution_count": null,
   "id": "7a449717",
   "metadata": {},
   "outputs": [],
   "source": [
    "# Seu código aqui\n"
   ]
  },
  {
   "cell_type": "markdown",
   "id": "1340eb41",
   "metadata": {},
   "source": [
    "## Visualizações Univariadas"
   ]
  },
  {
   "cell_type": "markdown",
   "id": "14ee2c1e",
   "metadata": {},
   "source": [
    "**Plote um histograma da coluna `Fare`.**"
   ]
  },
  {
   "cell_type": "code",
   "execution_count": null,
   "id": "c762d0a7",
   "metadata": {},
   "outputs": [],
   "source": [
    "# Seu código aqui\n"
   ]
  },
  {
   "cell_type": "markdown",
   "id": "de5b6697",
   "metadata": {},
   "source": [
    "**Crie um boxplot da coluna `Age`.**"
   ]
  },
  {
   "cell_type": "code",
   "execution_count": null,
   "id": "eea97daa",
   "metadata": {},
   "outputs": [],
   "source": [
    "# Seu código aqui\n"
   ]
  },
  {
   "cell_type": "markdown",
   "id": "a0881e81",
   "metadata": {},
   "source": [
    "**Gere uma contagem de barras para `Embarked`.**"
   ]
  },
  {
   "cell_type": "code",
   "execution_count": null,
   "id": "7b1efda3",
   "metadata": {},
   "outputs": [],
   "source": [
    "# Seu código aqui\n"
   ]
  },
  {
   "cell_type": "markdown",
   "id": "faf98730",
   "metadata": {},
   "source": [
    "**Desenhe um gráfico de dispersão de índice vs `Age`.**"
   ]
  },
  {
   "cell_type": "code",
   "execution_count": null,
   "id": "6fc93ab2",
   "metadata": {},
   "outputs": [],
   "source": [
    "# Seu código aqui\n"
   ]
  },
  {
   "cell_type": "markdown",
   "id": "fc34002d",
   "metadata": {},
   "source": [
    "**Crie um violin plot de `Fare` separado por `Survived`.**"
   ]
  },
  {
   "cell_type": "code",
   "execution_count": null,
   "id": "79a9194f",
   "metadata": {},
   "outputs": [],
   "source": [
    "# Seu código aqui\n"
   ]
  },
  {
   "cell_type": "markdown",
   "id": "8c0ab61a",
   "metadata": {},
   "source": [
    "## Visualizações Bivariadas"
   ]
  },
  {
   "cell_type": "markdown",
   "id": "c66d8a28",
   "metadata": {},
   "source": [
    "**Crie um scatterplot de `Fare` vs `Age`.**"
   ]
  },
  {
   "cell_type": "code",
   "execution_count": null,
   "id": "bb248998",
   "metadata": {},
   "outputs": [],
   "source": [
    "# Seu código aqui\n"
   ]
  },
  {
   "cell_type": "markdown",
   "id": "923cbf4d",
   "metadata": {},
   "source": [
    "**Faça um barplot de média de `Fare` por `Survived`.**"
   ]
  },
  {
   "cell_type": "code",
   "execution_count": null,
   "id": "599d0218",
   "metadata": {},
   "outputs": [],
   "source": [
    "# Seu código aqui\n"
   ]
  },
  {
   "cell_type": "markdown",
   "id": "795bedf1",
   "metadata": {},
   "source": [
    "**Construa um countplot de `Embarked` dividido por `Survived`.**"
   ]
  },
  {
   "cell_type": "code",
   "execution_count": null,
   "id": "3134a859",
   "metadata": {},
   "outputs": [],
   "source": [
    "# Seu código aqui\n"
   ]
  },
  {
   "cell_type": "markdown",
   "id": "920c27c3",
   "metadata": {},
   "source": [
    "**Faça um boxplot de `Age` por `Survived`.**"
   ]
  },
  {
   "cell_type": "code",
   "execution_count": null,
   "id": "f64587d3",
   "metadata": {},
   "outputs": [],
   "source": [
    "# Seu código aqui\n"
   ]
  },
  {
   "cell_type": "markdown",
   "id": "8242304d",
   "metadata": {},
   "source": [
    "**Plote um heatmap de correlação entre todas as colunas numéricas.**"
   ]
  },
  {
   "cell_type": "code",
   "execution_count": null,
   "id": "a29c758c",
   "metadata": {},
   "outputs": [],
   "source": [
    "# Seu código aqui\n"
   ]
  },
  {
   "cell_type": "markdown",
   "id": "c523e1dc",
   "metadata": {},
   "source": [
    "## GroupBy & Aggregations"
   ]
  },
  {
   "cell_type": "markdown",
   "id": "0d8775d4",
   "metadata": {},
   "source": [
    "**Use `groupby('Survived').size()` para contar linhas.**"
   ]
  },
  {
   "cell_type": "code",
   "execution_count": null,
   "id": "56d70104",
   "metadata": {},
   "outputs": [],
   "source": [
    "# Seu código aqui\n"
   ]
  },
  {
   "cell_type": "markdown",
   "id": "70cbd08f",
   "metadata": {},
   "source": [
    "**Calcule média de `Age` por cada categoria de `Pclass`.**"
   ]
  },
  {
   "cell_type": "code",
   "execution_count": null,
   "id": "e9a50f8e",
   "metadata": {},
   "outputs": [],
   "source": [
    "# Seu código aqui\n"
   ]
  },
  {
   "cell_type": "markdown",
   "id": "f04595f1",
   "metadata": {},
   "source": [
    "**Crie uma tabela de pivot de média de `Fare` com índice `Embarked` e colunas `Survived`.**"
   ]
  },
  {
   "cell_type": "code",
   "execution_count": null,
   "id": "3090dbc2",
   "metadata": {},
   "outputs": [],
   "source": [
    "# Seu código aqui\n"
   ]
  },
  {
   "cell_type": "markdown",
   "id": "129705c1",
   "metadata": {},
   "source": [
    "**Ordene o resultado de média de `Age` por `Survived` do maior para o menor.**"
   ]
  },
  {
   "cell_type": "code",
   "execution_count": null,
   "id": "14887465",
   "metadata": {},
   "outputs": [],
   "source": [
    "# Seu código aqui\n"
   ]
  },
  {
   "cell_type": "markdown",
   "id": "2717d7d5",
   "metadata": {},
   "source": [
    "**Mostre a soma de passageiros por combinação `Sex`‑`Survived`.**"
   ]
  },
  {
   "cell_type": "code",
   "execution_count": null,
   "id": "23886e79",
   "metadata": {},
   "outputs": [],
   "source": [
    "# Seu código aqui\n"
   ]
  },
  {
   "cell_type": "markdown",
   "id": "7b379c9d",
   "metadata": {},
   "source": [
    "## Limpeza de Dados"
   ]
  },
  {
   "cell_type": "markdown",
   "id": "189fbf5a",
   "metadata": {},
   "source": [
    "**Preencha valores nulos de `Fare` com a mediana.**"
   ]
  },
  {
   "cell_type": "code",
   "execution_count": null,
   "id": "fc94050f",
   "metadata": {},
   "outputs": [],
   "source": [
    "# Seu código aqui\n"
   ]
  },
  {
   "cell_type": "markdown",
   "id": "e789bbad",
   "metadata": {},
   "source": [
    "**Remova linhas onde `Fare` é nulo.**"
   ]
  },
  {
   "cell_type": "code",
   "execution_count": null,
   "id": "fa93e462",
   "metadata": {},
   "outputs": [],
   "source": [
    "# Seu código aqui\n"
   ]
  },
  {
   "cell_type": "markdown",
   "id": "11ada7b9",
   "metadata": {},
   "source": [
    "**Crie uma nova coluna `IsChild` quando `Age` < 16.**"
   ]
  },
  {
   "cell_type": "code",
   "execution_count": null,
   "id": "f98ab732",
   "metadata": {},
   "outputs": [],
   "source": [
    "# Seu código aqui\n"
   ]
  },
  {
   "cell_type": "markdown",
   "id": "b69246fc",
   "metadata": {},
   "source": [
    "**Apague a coluna `Embarked` temporariamente e mostre `df.head()`.**"
   ]
  },
  {
   "cell_type": "code",
   "execution_count": null,
   "id": "989b8a81",
   "metadata": {},
   "outputs": [],
   "source": [
    "# Seu código aqui\n"
   ]
  },
  {
   "cell_type": "markdown",
   "id": "62ed7abe",
   "metadata": {},
   "source": [
    "**Renomeie a coluna `Survived` para `Survived_cat`.**"
   ]
  },
  {
   "cell_type": "code",
   "execution_count": null,
   "id": "891afbf9",
   "metadata": {},
   "outputs": [],
   "source": [
    "# Seu código aqui\n"
   ]
  },
  {
   "cell_type": "markdown",
   "id": "0c7d7736",
   "metadata": {},
   "source": [
    "## Correlação & Covariância"
   ]
  },
  {
   "cell_type": "markdown",
   "id": "eebb3c49",
   "metadata": {},
   "source": [
    "**Calcule a correlação de Pearson entre `Fare` e `Age`.**"
   ]
  },
  {
   "cell_type": "code",
   "execution_count": null,
   "id": "1da9650e",
   "metadata": {},
   "outputs": [],
   "source": [
    "# Seu código aqui\n"
   ]
  },
  {
   "cell_type": "markdown",
   "id": "a426cd60",
   "metadata": {},
   "source": [
    "**Qual covariância entre `Fare` e `Age`?**"
   ]
  },
  {
   "cell_type": "code",
   "execution_count": null,
   "id": "64dbba04",
   "metadata": {},
   "outputs": [],
   "source": [
    "# Seu código aqui\n"
   ]
  },
  {
   "cell_type": "markdown",
   "id": "5c4160fa",
   "metadata": {},
   "source": [
    "**Liste as 3 maiores correlações de `df.corr()`.**"
   ]
  },
  {
   "cell_type": "code",
   "execution_count": null,
   "id": "9074bfb4",
   "metadata": {},
   "outputs": [],
   "source": [
    "# Seu código aqui\n"
   ]
  },
  {
   "cell_type": "markdown",
   "id": "8f893a6c",
   "metadata": {},
   "source": [
    "**Existe correlação negativa significativa (<‑0.3) em `df.corr()`?**"
   ]
  },
  {
   "cell_type": "code",
   "execution_count": null,
   "id": "bde96d7c",
   "metadata": {},
   "outputs": [],
   "source": [
    "# Seu código aqui\n"
   ]
  },
  {
   "cell_type": "markdown",
   "id": "843fd6ad",
   "metadata": {},
   "source": [
    "**Visualize matriz de correlação com `sns.heatmap`.**"
   ]
  },
  {
   "cell_type": "code",
   "execution_count": null,
   "id": "a119b17d",
   "metadata": {},
   "outputs": [],
   "source": [
    "# Seu código aqui\n"
   ]
  },
  {
   "cell_type": "markdown",
   "id": "53d02702",
   "metadata": {},
   "source": [
    "## Teste de Hipótese Simples"
   ]
  },
  {
   "cell_type": "markdown",
   "id": "5878aa28",
   "metadata": {},
   "source": [
    "**Realize um teste t de média de `Age` entre grupos de `Survived`.**"
   ]
  },
  {
   "cell_type": "code",
   "execution_count": null,
   "id": "092249b9",
   "metadata": {},
   "outputs": [],
   "source": [
    "# Seu código aqui\n"
   ]
  },
  {
   "cell_type": "markdown",
   "id": "b3ae2548",
   "metadata": {},
   "source": [
    "**Utilize chi‑quadrado para independência entre `Pclass` e `Survived`.**"
   ]
  },
  {
   "cell_type": "code",
   "execution_count": null,
   "id": "bf8aeff7",
   "metadata": {},
   "outputs": [],
   "source": [
    "# Seu código aqui\n"
   ]
  },
  {
   "cell_type": "markdown",
   "id": "0e2baf24",
   "metadata": {},
   "source": [
    "**Construa intervalo de confiança 95% para média de `Fare`.**"
   ]
  },
  {
   "cell_type": "code",
   "execution_count": null,
   "id": "98da63a0",
   "metadata": {},
   "outputs": [],
   "source": [
    "# Seu código aqui\n"
   ]
  },
  {
   "cell_type": "markdown",
   "id": "0e2ea525",
   "metadata": {},
   "source": [
    "**Teste se média de `Fare` difere entre `Sex`=a e `Sex`=b.**"
   ]
  },
  {
   "cell_type": "code",
   "execution_count": null,
   "id": "a1f6a485",
   "metadata": {},
   "outputs": [],
   "source": [
    "# Seu código aqui\n"
   ]
  },
  {
   "cell_type": "markdown",
   "id": "617aba5c",
   "metadata": {},
   "source": [
    "**Explique o p‑valor obtido em um teste t.**"
   ]
  },
  {
   "cell_type": "code",
   "execution_count": null,
   "id": "971041e5",
   "metadata": {},
   "outputs": [],
   "source": [
    "# Seu código aqui\n"
   ]
  },
  {
   "cell_type": "markdown",
   "id": "54b23762",
   "metadata": {},
   "source": [
    "## Feature Engineering Básico"
   ]
  },
  {
   "cell_type": "markdown",
   "id": "35a8a769",
   "metadata": {},
   "source": [
    "**Extraia o título (Mr/Mrs/Dr) da coluna `Name` para nova coluna `Title`.**"
   ]
  },
  {
   "cell_type": "code",
   "execution_count": null,
   "id": "1f934b1a",
   "metadata": {},
   "outputs": [],
   "source": [
    "# Seu código aqui\n"
   ]
  },
  {
   "cell_type": "markdown",
   "id": "ee2f8bbc",
   "metadata": {},
   "source": [
    "**Crie coluna `FamilySize` somando `SibSp` + `Parch` + 1.**"
   ]
  },
  {
   "cell_type": "code",
   "execution_count": null,
   "id": "273ca6e6",
   "metadata": {},
   "outputs": [],
   "source": [
    "# Seu código aqui\n"
   ]
  },
  {
   "cell_type": "markdown",
   "id": "13c5729f",
   "metadata": {},
   "source": [
    "**Converta `Survived` para dummies usando `pd.get_dummies`.**"
   ]
  },
  {
   "cell_type": "code",
   "execution_count": null,
   "id": "fc5ee469",
   "metadata": {},
   "outputs": [],
   "source": [
    "# Seu código aqui\n"
   ]
  },
  {
   "cell_type": "markdown",
   "id": "bac66705",
   "metadata": {},
   "source": [
    "**Normaliza `Fare` com `(x‑min)/(max‑min)`.**"
   ]
  },
  {
   "cell_type": "code",
   "execution_count": null,
   "id": "9a769046",
   "metadata": {},
   "outputs": [],
   "source": [
    "# Seu código aqui\n"
   ]
  },
  {
   "cell_type": "markdown",
   "id": "90418d9d",
   "metadata": {},
   "source": [
    "**Binarize `Fare` por mediana em coluna `High_Fare`.**"
   ]
  },
  {
   "cell_type": "code",
   "execution_count": null,
   "id": "0b89047e",
   "metadata": {},
   "outputs": [],
   "source": [
    "# Seu código aqui\n"
   ]
  },
  {
   "cell_type": "markdown",
   "id": "7a2c896c",
   "metadata": {},
   "source": [
    "## Quick Insights & Storytelling"
   ]
  },
  {
   "cell_type": "markdown",
   "id": "c39629ee",
   "metadata": {},
   "source": [
    "**Escreva em Markdown a insight sobre taxa de sobrevivência por `Sex`.**"
   ]
  },
  {
   "cell_type": "code",
   "execution_count": null,
   "id": "d4d027b0",
   "metadata": {},
   "outputs": [],
   "source": [
    "# Seu código aqui\n"
   ]
  },
  {
   "cell_type": "markdown",
   "id": "d18351be",
   "metadata": {},
   "source": [
    "**Qual `Pclass` teve maior tarifa média `Fare`?**"
   ]
  },
  {
   "cell_type": "code",
   "execution_count": null,
   "id": "6fc1b91a",
   "metadata": {},
   "outputs": [],
   "source": [
    "# Seu código aqui\n"
   ]
  },
  {
   "cell_type": "markdown",
   "id": "6cb27bdc",
   "metadata": {},
   "source": [
    "**Explique qual variável parece mais associada à sobrevivência.**"
   ]
  },
  {
   "cell_type": "code",
   "execution_count": null,
   "id": "c947cad8",
   "metadata": {},
   "outputs": [],
   "source": [
    "# Seu código aqui\n"
   ]
  },
  {
   "cell_type": "markdown",
   "id": "caae2ebf",
   "metadata": {},
   "source": [
    "**Resuma a distribuição de `Age` em 3 frases.**"
   ]
  },
  {
   "cell_type": "code",
   "execution_count": null,
   "id": "d2bb384a",
   "metadata": {},
   "outputs": [],
   "source": [
    "# Seu código aqui\n"
   ]
  },
  {
   "cell_type": "markdown",
   "id": "bc75fd34",
   "metadata": {},
   "source": [
    "**Anexe um gráfico combinado de histograma e KDE para `Fare`.**"
   ]
  },
  {
   "cell_type": "code",
   "execution_count": null,
   "id": "4c8bc148",
   "metadata": {},
   "outputs": [],
   "source": [
    "# Seu código aqui\n"
   ]
  },
  {
   "cell_type": "markdown",
   "id": "df8efae6",
   "metadata": {},
   "source": [
    "## Carregamento & Visão Geral"
   ]
  },
  {
   "cell_type": "markdown",
   "id": "80bccbf2",
   "metadata": {},
   "source": [
    "**Carregue o dataset Titanic em um DataFrame chamado `df`.**"
   ]
  },
  {
   "cell_type": "code",
   "execution_count": null,
   "id": "8e918ea5",
   "metadata": {},
   "outputs": [],
   "source": [
    "# Seu código aqui\n"
   ]
  },
  {
   "cell_type": "markdown",
   "id": "391a847d",
   "metadata": {},
   "source": [
    "**Mostre as 10 primeiras linhas de `df`.**"
   ]
  },
  {
   "cell_type": "code",
   "execution_count": null,
   "id": "a04574cd",
   "metadata": {},
   "outputs": [],
   "source": [
    "# Seu código aqui\n"
   ]
  },
  {
   "cell_type": "markdown",
   "id": "811fbe00",
   "metadata": {},
   "source": [
    "**Exiba o `df.info()` completo.**"
   ]
  },
  {
   "cell_type": "code",
   "execution_count": null,
   "id": "978e96f3",
   "metadata": {},
   "outputs": [],
   "source": [
    "# Seu código aqui\n"
   ]
  },
  {
   "cell_type": "markdown",
   "id": "3bf5b4bb",
   "metadata": {},
   "source": [
    "**Quantas linhas e colunas existem em `df`?**"
   ]
  },
  {
   "cell_type": "code",
   "execution_count": null,
   "id": "35fe8a4a",
   "metadata": {},
   "outputs": [],
   "source": [
    "# Seu código aqui\n"
   ]
  },
  {
   "cell_type": "markdown",
   "id": "31501e00",
   "metadata": {},
   "source": [
    "**Liste os nomes das colunas do DataFrame.**"
   ]
  },
  {
   "cell_type": "code",
   "execution_count": null,
   "id": "673a6771",
   "metadata": {},
   "outputs": [],
   "source": [
    "# Seu código aqui\n"
   ]
  },
  {
   "cell_type": "markdown",
   "id": "ae124983",
   "metadata": {},
   "source": [
    "## Estatística Descritiva"
   ]
  },
  {
   "cell_type": "markdown",
   "id": "460287e0",
   "metadata": {},
   "source": [
    "**Calcule a média da coluna `Fare`.**"
   ]
  },
  {
   "cell_type": "code",
   "execution_count": null,
   "id": "48428921",
   "metadata": {},
   "outputs": [],
   "source": [
    "# Seu código aqui\n"
   ]
  },
  {
   "cell_type": "markdown",
   "id": "687abf28",
   "metadata": {},
   "source": [
    "**Encontre a mediana da coluna `Age`.**"
   ]
  },
  {
   "cell_type": "code",
   "execution_count": null,
   "id": "eab531b8",
   "metadata": {},
   "outputs": [],
   "source": [
    "# Seu código aqui\n"
   ]
  },
  {
   "cell_type": "markdown",
   "id": "f42c84c9",
   "metadata": {},
   "source": [
    "**Qual é o desvio‑padrão de `Age`?**"
   ]
  },
  {
   "cell_type": "code",
   "execution_count": null,
   "id": "196df738",
   "metadata": {},
   "outputs": [],
   "source": [
    "# Seu código aqui\n"
   ]
  },
  {
   "cell_type": "markdown",
   "id": "f0d5db5c",
   "metadata": {},
   "source": [
    "**Exiba `df['Age'].describe()`.**"
   ]
  },
  {
   "cell_type": "code",
   "execution_count": null,
   "id": "09849448",
   "metadata": {},
   "outputs": [],
   "source": [
    "# Seu código aqui\n"
   ]
  },
  {
   "cell_type": "markdown",
   "id": "dce2a044",
   "metadata": {},
   "source": [
    "**Conte quantos valores faltantes existem em `Fare`.**"
   ]
  },
  {
   "cell_type": "code",
   "execution_count": null,
   "id": "9d195d15",
   "metadata": {},
   "outputs": [],
   "source": [
    "# Seu código aqui\n"
   ]
  },
  {
   "cell_type": "markdown",
   "id": "1abdc41d",
   "metadata": {},
   "source": [
    "## Visualizações Univariadas"
   ]
  },
  {
   "cell_type": "markdown",
   "id": "c3211cda",
   "metadata": {},
   "source": [
    "**Plote um histograma da coluna `Fare`.**"
   ]
  },
  {
   "cell_type": "code",
   "execution_count": null,
   "id": "9d63d810",
   "metadata": {},
   "outputs": [],
   "source": [
    "# Seu código aqui\n"
   ]
  },
  {
   "cell_type": "markdown",
   "id": "a0d043db",
   "metadata": {},
   "source": [
    "**Crie um boxplot da coluna `Fare`.**"
   ]
  },
  {
   "cell_type": "code",
   "execution_count": null,
   "id": "4f8e21ac",
   "metadata": {},
   "outputs": [],
   "source": [
    "# Seu código aqui\n"
   ]
  },
  {
   "cell_type": "markdown",
   "id": "ee0e0c66",
   "metadata": {},
   "source": [
    "**Gere uma contagem de barras para `Sex`.**"
   ]
  },
  {
   "cell_type": "code",
   "execution_count": null,
   "id": "19671ded",
   "metadata": {},
   "outputs": [],
   "source": [
    "# Seu código aqui\n"
   ]
  },
  {
   "cell_type": "markdown",
   "id": "cfd701a3",
   "metadata": {},
   "source": [
    "**Desenhe um gráfico de dispersão de índice vs `Fare`.**"
   ]
  },
  {
   "cell_type": "code",
   "execution_count": null,
   "id": "69ee7bc5",
   "metadata": {},
   "outputs": [],
   "source": [
    "# Seu código aqui\n"
   ]
  },
  {
   "cell_type": "markdown",
   "id": "f79e840f",
   "metadata": {},
   "source": [
    "**Crie um violin plot de `Age` separado por `Survived`.**"
   ]
  },
  {
   "cell_type": "code",
   "execution_count": null,
   "id": "8bd68540",
   "metadata": {},
   "outputs": [],
   "source": [
    "# Seu código aqui\n"
   ]
  },
  {
   "cell_type": "markdown",
   "id": "d0045ced",
   "metadata": {},
   "source": [
    "## Visualizações Bivariadas"
   ]
  },
  {
   "cell_type": "markdown",
   "id": "ec0bba99",
   "metadata": {},
   "source": [
    "**Crie um scatterplot de `Fare` vs `Age`.**"
   ]
  },
  {
   "cell_type": "code",
   "execution_count": null,
   "id": "82dba665",
   "metadata": {},
   "outputs": [],
   "source": [
    "# Seu código aqui\n"
   ]
  },
  {
   "cell_type": "markdown",
   "id": "5368a4b5",
   "metadata": {},
   "source": [
    "**Faça um barplot de média de `Fare` por `Pclass`.**"
   ]
  },
  {
   "cell_type": "code",
   "execution_count": null,
   "id": "48ce3c99",
   "metadata": {},
   "outputs": [],
   "source": [
    "# Seu código aqui\n"
   ]
  },
  {
   "cell_type": "markdown",
   "id": "58dfb618",
   "metadata": {},
   "source": [
    "**Construa um countplot de `Sex` dividido por `Survived`.**"
   ]
  },
  {
   "cell_type": "code",
   "execution_count": null,
   "id": "1d464e94",
   "metadata": {},
   "outputs": [],
   "source": [
    "# Seu código aqui\n"
   ]
  },
  {
   "cell_type": "markdown",
   "id": "933f6184",
   "metadata": {},
   "source": [
    "**Faça um boxplot de `Age` por `Pclass`.**"
   ]
  },
  {
   "cell_type": "code",
   "execution_count": null,
   "id": "237f3084",
   "metadata": {},
   "outputs": [],
   "source": [
    "# Seu código aqui\n"
   ]
  },
  {
   "cell_type": "markdown",
   "id": "4cd8eb2c",
   "metadata": {},
   "source": [
    "**Plote um heatmap de correlação entre todas as colunas numéricas.**"
   ]
  },
  {
   "cell_type": "code",
   "execution_count": null,
   "id": "33e164b3",
   "metadata": {},
   "outputs": [],
   "source": [
    "# Seu código aqui\n"
   ]
  },
  {
   "cell_type": "markdown",
   "id": "d402ae92",
   "metadata": {},
   "source": [
    "## GroupBy & Aggregations"
   ]
  },
  {
   "cell_type": "markdown",
   "id": "d255f0ae",
   "metadata": {},
   "source": [
    "**Use `groupby('Embarked').size()` para contar linhas.**"
   ]
  },
  {
   "cell_type": "code",
   "execution_count": null,
   "id": "6e4b5155",
   "metadata": {},
   "outputs": [],
   "source": [
    "# Seu código aqui\n"
   ]
  },
  {
   "cell_type": "markdown",
   "id": "71d45c59",
   "metadata": {},
   "source": [
    "**Calcule média de `Fare` por cada categoria de `Pclass`.**"
   ]
  },
  {
   "cell_type": "code",
   "execution_count": null,
   "id": "b1106292",
   "metadata": {},
   "outputs": [],
   "source": [
    "# Seu código aqui\n"
   ]
  },
  {
   "cell_type": "markdown",
   "id": "0caedc85",
   "metadata": {},
   "source": [
    "**Crie uma tabela de pivot de média de `Age` com índice `Pclass` e colunas `Survived`.**"
   ]
  },
  {
   "cell_type": "code",
   "execution_count": null,
   "id": "46b463d7",
   "metadata": {},
   "outputs": [],
   "source": [
    "# Seu código aqui\n"
   ]
  },
  {
   "cell_type": "markdown",
   "id": "8c20364c",
   "metadata": {},
   "source": [
    "**Ordene o resultado de média de `Age` por `Survived` do maior para o menor.**"
   ]
  },
  {
   "cell_type": "code",
   "execution_count": null,
   "id": "3b70bb15",
   "metadata": {},
   "outputs": [],
   "source": [
    "# Seu código aqui\n"
   ]
  },
  {
   "cell_type": "markdown",
   "id": "8b078a6b",
   "metadata": {},
   "source": [
    "**Mostre a soma de passageiros por combinação `Embarked`‑`Survived`.**"
   ]
  },
  {
   "cell_type": "code",
   "execution_count": null,
   "id": "9b624da7",
   "metadata": {},
   "outputs": [],
   "source": [
    "# Seu código aqui\n"
   ]
  },
  {
   "cell_type": "markdown",
   "id": "9a9a0800",
   "metadata": {},
   "source": [
    "## Limpeza de Dados"
   ]
  },
  {
   "cell_type": "markdown",
   "id": "6dae443f",
   "metadata": {},
   "source": [
    "**Preencha valores nulos de `Age` com a mediana.**"
   ]
  },
  {
   "cell_type": "code",
   "execution_count": null,
   "id": "88bcb3f8",
   "metadata": {},
   "outputs": [],
   "source": [
    "# Seu código aqui\n"
   ]
  },
  {
   "cell_type": "markdown",
   "id": "7e9c5cf5",
   "metadata": {},
   "source": [
    "**Remova linhas onde `Fare` é nulo.**"
   ]
  },
  {
   "cell_type": "code",
   "execution_count": null,
   "id": "c44c2882",
   "metadata": {},
   "outputs": [],
   "source": [
    "# Seu código aqui\n"
   ]
  },
  {
   "cell_type": "markdown",
   "id": "47f28f11",
   "metadata": {},
   "source": [
    "**Crie uma nova coluna `IsChild` quando `Fare` < 16.**"
   ]
  },
  {
   "cell_type": "code",
   "execution_count": null,
   "id": "be0a4f98",
   "metadata": {},
   "outputs": [],
   "source": [
    "# Seu código aqui\n"
   ]
  },
  {
   "cell_type": "markdown",
   "id": "9ce2fcda",
   "metadata": {},
   "source": [
    "**Apague a coluna `Embarked` temporariamente e mostre `df.head()`.**"
   ]
  },
  {
   "cell_type": "code",
   "execution_count": null,
   "id": "3827f2d3",
   "metadata": {},
   "outputs": [],
   "source": [
    "# Seu código aqui\n"
   ]
  },
  {
   "cell_type": "markdown",
   "id": "5035d253",
   "metadata": {},
   "source": [
    "**Renomeie a coluna `Sex` para `Sex_cat`.**"
   ]
  },
  {
   "cell_type": "code",
   "execution_count": null,
   "id": "8fdcb5f6",
   "metadata": {},
   "outputs": [],
   "source": [
    "# Seu código aqui\n"
   ]
  },
  {
   "cell_type": "markdown",
   "id": "d7900532",
   "metadata": {},
   "source": [
    "## Correlação & Covariância"
   ]
  },
  {
   "cell_type": "markdown",
   "id": "aac06d50",
   "metadata": {},
   "source": [
    "**Calcule a correlação de Pearson entre `Age` e `Fare`.**"
   ]
  },
  {
   "cell_type": "code",
   "execution_count": null,
   "id": "f547122b",
   "metadata": {},
   "outputs": [],
   "source": [
    "# Seu código aqui\n"
   ]
  },
  {
   "cell_type": "markdown",
   "id": "fcfa4a88",
   "metadata": {},
   "source": [
    "**Qual covariância entre `Fare` e `Age`?**"
   ]
  },
  {
   "cell_type": "code",
   "execution_count": null,
   "id": "44516999",
   "metadata": {},
   "outputs": [],
   "source": [
    "# Seu código aqui\n"
   ]
  },
  {
   "cell_type": "markdown",
   "id": "3e927b1c",
   "metadata": {},
   "source": [
    "**Liste as 3 maiores correlações de `df.corr()`.**"
   ]
  },
  {
   "cell_type": "code",
   "execution_count": null,
   "id": "c514687e",
   "metadata": {},
   "outputs": [],
   "source": [
    "# Seu código aqui\n"
   ]
  },
  {
   "cell_type": "markdown",
   "id": "55425b90",
   "metadata": {},
   "source": [
    "**Existe correlação negativa significativa (<‑0.3) em `df.corr()`?**"
   ]
  },
  {
   "cell_type": "code",
   "execution_count": null,
   "id": "ffa68e46",
   "metadata": {},
   "outputs": [],
   "source": [
    "# Seu código aqui\n"
   ]
  },
  {
   "cell_type": "markdown",
   "id": "33edd1c5",
   "metadata": {},
   "source": [
    "**Visualize matriz de correlação com `sns.heatmap`.**"
   ]
  },
  {
   "cell_type": "code",
   "execution_count": null,
   "id": "62e1bb65",
   "metadata": {},
   "outputs": [],
   "source": [
    "# Seu código aqui\n"
   ]
  },
  {
   "cell_type": "markdown",
   "id": "d9ad7bfe",
   "metadata": {},
   "source": [
    "## Teste de Hipótese Simples"
   ]
  },
  {
   "cell_type": "markdown",
   "id": "315f6cd0",
   "metadata": {},
   "source": [
    "**Realize um teste t de média de `Age` entre grupos de `Survived`.**"
   ]
  },
  {
   "cell_type": "code",
   "execution_count": null,
   "id": "cd0ff493",
   "metadata": {},
   "outputs": [],
   "source": [
    "# Seu código aqui\n"
   ]
  },
  {
   "cell_type": "markdown",
   "id": "78dab804",
   "metadata": {},
   "source": [
    "**Utilize chi‑quadrado para independência entre `Pclass` e `Survived`.**"
   ]
  },
  {
   "cell_type": "code",
   "execution_count": null,
   "id": "b3ef7297",
   "metadata": {},
   "outputs": [],
   "source": [
    "# Seu código aqui\n"
   ]
  },
  {
   "cell_type": "markdown",
   "id": "f8f3bb59",
   "metadata": {},
   "source": [
    "**Construa intervalo de confiança 95% para média de `Fare`.**"
   ]
  },
  {
   "cell_type": "code",
   "execution_count": null,
   "id": "02f99f03",
   "metadata": {},
   "outputs": [],
   "source": [
    "# Seu código aqui\n"
   ]
  },
  {
   "cell_type": "markdown",
   "id": "06ede83e",
   "metadata": {},
   "source": [
    "**Teste se média de `Age` difere entre `Sex`=a e `Sex`=b.**"
   ]
  },
  {
   "cell_type": "code",
   "execution_count": null,
   "id": "770c6105",
   "metadata": {},
   "outputs": [],
   "source": [
    "# Seu código aqui\n"
   ]
  },
  {
   "cell_type": "markdown",
   "id": "5e4c5cd1",
   "metadata": {},
   "source": [
    "**Explique o p‑valor obtido em um teste t.**"
   ]
  },
  {
   "cell_type": "code",
   "execution_count": null,
   "id": "3c796815",
   "metadata": {},
   "outputs": [],
   "source": [
    "# Seu código aqui\n"
   ]
  },
  {
   "cell_type": "markdown",
   "id": "20ecb2ef",
   "metadata": {},
   "source": [
    "## Feature Engineering Básico"
   ]
  },
  {
   "cell_type": "markdown",
   "id": "e67b49fe",
   "metadata": {},
   "source": [
    "**Extraia o título (Mr/Mrs/Dr) da coluna `Name` para nova coluna `Title`.**"
   ]
  },
  {
   "cell_type": "code",
   "execution_count": null,
   "id": "10417032",
   "metadata": {},
   "outputs": [],
   "source": [
    "# Seu código aqui\n"
   ]
  },
  {
   "cell_type": "markdown",
   "id": "0a7aa9f7",
   "metadata": {},
   "source": [
    "**Crie coluna `FamilySize` somando `SibSp` + `Parch` + 1.**"
   ]
  },
  {
   "cell_type": "code",
   "execution_count": null,
   "id": "0f65542c",
   "metadata": {},
   "outputs": [],
   "source": [
    "# Seu código aqui\n"
   ]
  },
  {
   "cell_type": "markdown",
   "id": "1f4f17a8",
   "metadata": {},
   "source": [
    "**Converta `Sex` para dummies usando `pd.get_dummies`.**"
   ]
  },
  {
   "cell_type": "code",
   "execution_count": null,
   "id": "d5cadb97",
   "metadata": {},
   "outputs": [],
   "source": [
    "# Seu código aqui\n"
   ]
  },
  {
   "cell_type": "markdown",
   "id": "f8feda47",
   "metadata": {},
   "source": [
    "**Normaliza `Age` com `(x‑min)/(max‑min)`.**"
   ]
  },
  {
   "cell_type": "code",
   "execution_count": null,
   "id": "afb2b355",
   "metadata": {},
   "outputs": [],
   "source": [
    "# Seu código aqui\n"
   ]
  },
  {
   "cell_type": "markdown",
   "id": "bb9d6fec",
   "metadata": {},
   "source": [
    "**Binarize `Age` por mediana em coluna `High_Age`.**"
   ]
  },
  {
   "cell_type": "code",
   "execution_count": null,
   "id": "f4c59761",
   "metadata": {},
   "outputs": [],
   "source": [
    "# Seu código aqui\n"
   ]
  },
  {
   "cell_type": "markdown",
   "id": "e780b95a",
   "metadata": {},
   "source": [
    "## Quick Insights & Storytelling"
   ]
  },
  {
   "cell_type": "markdown",
   "id": "cf30c72c",
   "metadata": {},
   "source": [
    "**Escreva em Markdown a insight sobre taxa de sobrevivência por `Sex`.**"
   ]
  },
  {
   "cell_type": "code",
   "execution_count": null,
   "id": "4f3548df",
   "metadata": {},
   "outputs": [],
   "source": [
    "# Seu código aqui\n"
   ]
  },
  {
   "cell_type": "markdown",
   "id": "aa01235c",
   "metadata": {},
   "source": [
    "**Qual `Pclass` teve maior tarifa média `Age`?**"
   ]
  },
  {
   "cell_type": "code",
   "execution_count": null,
   "id": "8e815d11",
   "metadata": {},
   "outputs": [],
   "source": [
    "# Seu código aqui\n"
   ]
  },
  {
   "cell_type": "markdown",
   "id": "8265eb91",
   "metadata": {},
   "source": [
    "**Explique qual variável parece mais associada à sobrevivência.**"
   ]
  },
  {
   "cell_type": "code",
   "execution_count": null,
   "id": "8aea09fc",
   "metadata": {},
   "outputs": [],
   "source": [
    "# Seu código aqui\n"
   ]
  },
  {
   "cell_type": "markdown",
   "id": "309d09f4",
   "metadata": {},
   "source": [
    "**Resuma a distribuição de `Fare` em 3 frases.**"
   ]
  },
  {
   "cell_type": "code",
   "execution_count": null,
   "id": "66079532",
   "metadata": {},
   "outputs": [],
   "source": [
    "# Seu código aqui\n"
   ]
  },
  {
   "cell_type": "markdown",
   "id": "6c3277ea",
   "metadata": {},
   "source": [
    "**Anexe um gráfico combinado de histograma e KDE para `Age`.**"
   ]
  },
  {
   "cell_type": "code",
   "execution_count": null,
   "id": "eb46d359",
   "metadata": {},
   "outputs": [],
   "source": [
    "# Seu código aqui\n"
   ]
  },
  {
   "cell_type": "markdown",
   "id": "e7800c94",
   "metadata": {},
   "source": [
    "## Carregamento & Visão Geral"
   ]
  },
  {
   "cell_type": "markdown",
   "id": "89cd14d5",
   "metadata": {},
   "source": [
    "**Carregue o dataset Titanic em um DataFrame chamado `df`.**"
   ]
  },
  {
   "cell_type": "code",
   "execution_count": null,
   "id": "eff3f094",
   "metadata": {},
   "outputs": [],
   "source": [
    "# Seu código aqui\n"
   ]
  },
  {
   "cell_type": "markdown",
   "id": "9e3ea440",
   "metadata": {},
   "source": [
    "**Mostre as 10 primeiras linhas de `df`.**"
   ]
  },
  {
   "cell_type": "code",
   "execution_count": null,
   "id": "5fc0e264",
   "metadata": {},
   "outputs": [],
   "source": [
    "# Seu código aqui\n"
   ]
  },
  {
   "cell_type": "markdown",
   "id": "f5886450",
   "metadata": {},
   "source": [
    "**Exiba o `df.info()` completo.**"
   ]
  },
  {
   "cell_type": "code",
   "execution_count": null,
   "id": "54de914c",
   "metadata": {},
   "outputs": [],
   "source": [
    "# Seu código aqui\n"
   ]
  },
  {
   "cell_type": "markdown",
   "id": "6f7b37d7",
   "metadata": {},
   "source": [
    "**Quantas linhas e colunas existem em `df`?**"
   ]
  },
  {
   "cell_type": "code",
   "execution_count": null,
   "id": "1afee36b",
   "metadata": {},
   "outputs": [],
   "source": [
    "# Seu código aqui\n"
   ]
  },
  {
   "cell_type": "markdown",
   "id": "e3e0a021",
   "metadata": {},
   "source": [
    "**Liste os nomes das colunas do DataFrame.**"
   ]
  },
  {
   "cell_type": "code",
   "execution_count": null,
   "id": "c44a67ef",
   "metadata": {},
   "outputs": [],
   "source": [
    "# Seu código aqui\n"
   ]
  },
  {
   "cell_type": "markdown",
   "id": "468a868e",
   "metadata": {},
   "source": [
    "## Estatística Descritiva"
   ]
  },
  {
   "cell_type": "markdown",
   "id": "3e757f95",
   "metadata": {},
   "source": [
    "**Calcule a média da coluna `Age`.**"
   ]
  },
  {
   "cell_type": "code",
   "execution_count": null,
   "id": "3b501756",
   "metadata": {},
   "outputs": [],
   "source": [
    "# Seu código aqui\n"
   ]
  },
  {
   "cell_type": "markdown",
   "id": "cc70dad0",
   "metadata": {},
   "source": [
    "**Encontre a mediana da coluna `Age`.**"
   ]
  },
  {
   "cell_type": "code",
   "execution_count": null,
   "id": "4f0bec2d",
   "metadata": {},
   "outputs": [],
   "source": [
    "# Seu código aqui\n"
   ]
  },
  {
   "cell_type": "markdown",
   "id": "5ce1ce15",
   "metadata": {},
   "source": [
    "**Qual é o desvio‑padrão de `Fare`?**"
   ]
  },
  {
   "cell_type": "code",
   "execution_count": null,
   "id": "0a2444db",
   "metadata": {},
   "outputs": [],
   "source": [
    "# Seu código aqui\n"
   ]
  },
  {
   "cell_type": "markdown",
   "id": "7c595683",
   "metadata": {},
   "source": [
    "**Exiba `df['Fare'].describe()`.**"
   ]
  },
  {
   "cell_type": "code",
   "execution_count": null,
   "id": "3c4d56d5",
   "metadata": {},
   "outputs": [],
   "source": [
    "# Seu código aqui\n"
   ]
  },
  {
   "cell_type": "markdown",
   "id": "e9f4764d",
   "metadata": {},
   "source": [
    "**Conte quantos valores faltantes existem em `Fare`.**"
   ]
  },
  {
   "cell_type": "code",
   "execution_count": null,
   "id": "3e21dccf",
   "metadata": {},
   "outputs": [],
   "source": [
    "# Seu código aqui\n"
   ]
  },
  {
   "cell_type": "markdown",
   "id": "dfbe46bf",
   "metadata": {},
   "source": [
    "## Visualizações Univariadas"
   ]
  },
  {
   "cell_type": "markdown",
   "id": "38ca54da",
   "metadata": {},
   "source": [
    "**Plote um histograma da coluna `Fare`.**"
   ]
  },
  {
   "cell_type": "code",
   "execution_count": null,
   "id": "0d98c4a6",
   "metadata": {},
   "outputs": [],
   "source": [
    "# Seu código aqui\n"
   ]
  },
  {
   "cell_type": "markdown",
   "id": "0ab5a069",
   "metadata": {},
   "source": [
    "**Crie um boxplot da coluna `Fare`.**"
   ]
  },
  {
   "cell_type": "code",
   "execution_count": null,
   "id": "eb8f66e8",
   "metadata": {},
   "outputs": [],
   "source": [
    "# Seu código aqui\n"
   ]
  },
  {
   "cell_type": "markdown",
   "id": "fb353cf4",
   "metadata": {},
   "source": [
    "**Gere uma contagem de barras para `Embarked`.**"
   ]
  },
  {
   "cell_type": "code",
   "execution_count": null,
   "id": "e9aaa23d",
   "metadata": {},
   "outputs": [],
   "source": [
    "# Seu código aqui\n"
   ]
  },
  {
   "cell_type": "markdown",
   "id": "57020f02",
   "metadata": {},
   "source": [
    "**Desenhe um gráfico de dispersão de índice vs `Fare`.**"
   ]
  },
  {
   "cell_type": "code",
   "execution_count": null,
   "id": "83dd094b",
   "metadata": {},
   "outputs": [],
   "source": [
    "# Seu código aqui\n"
   ]
  },
  {
   "cell_type": "markdown",
   "id": "a04f47e4",
   "metadata": {},
   "source": [
    "**Crie um violin plot de `Fare` separado por `Survived`.**"
   ]
  },
  {
   "cell_type": "code",
   "execution_count": null,
   "id": "2d8ed27a",
   "metadata": {},
   "outputs": [],
   "source": [
    "# Seu código aqui\n"
   ]
  },
  {
   "cell_type": "markdown",
   "id": "d7c02dc2",
   "metadata": {},
   "source": [
    "## Visualizações Bivariadas"
   ]
  },
  {
   "cell_type": "markdown",
   "id": "88b9a4e6",
   "metadata": {},
   "source": [
    "**Crie um scatterplot de `Fare` vs `Age`.**"
   ]
  },
  {
   "cell_type": "code",
   "execution_count": null,
   "id": "4b4f82b1",
   "metadata": {},
   "outputs": [],
   "source": [
    "# Seu código aqui\n"
   ]
  },
  {
   "cell_type": "markdown",
   "id": "cc40dbfe",
   "metadata": {},
   "source": [
    "**Faça um barplot de média de `Fare` por `Pclass`.**"
   ]
  },
  {
   "cell_type": "code",
   "execution_count": null,
   "id": "b10d7d82",
   "metadata": {},
   "outputs": [],
   "source": [
    "# Seu código aqui\n"
   ]
  },
  {
   "cell_type": "markdown",
   "id": "e8522b4e",
   "metadata": {},
   "source": [
    "**Construa um countplot de `Sex` dividido por `Survived`.**"
   ]
  },
  {
   "cell_type": "code",
   "execution_count": null,
   "id": "a8c160fd",
   "metadata": {},
   "outputs": [],
   "source": [
    "# Seu código aqui\n"
   ]
  },
  {
   "cell_type": "markdown",
   "id": "40c7d71c",
   "metadata": {},
   "source": [
    "**Faça um boxplot de `Age` por `Embarked`.**"
   ]
  },
  {
   "cell_type": "code",
   "execution_count": null,
   "id": "695f19d7",
   "metadata": {},
   "outputs": [],
   "source": [
    "# Seu código aqui\n"
   ]
  },
  {
   "cell_type": "markdown",
   "id": "81d4b0b6",
   "metadata": {},
   "source": [
    "**Plote um heatmap de correlação entre todas as colunas numéricas.**"
   ]
  },
  {
   "cell_type": "code",
   "execution_count": null,
   "id": "ed4d2935",
   "metadata": {},
   "outputs": [],
   "source": [
    "# Seu código aqui\n"
   ]
  },
  {
   "cell_type": "markdown",
   "id": "b1b4076d",
   "metadata": {},
   "source": [
    "## GroupBy & Aggregations"
   ]
  },
  {
   "cell_type": "markdown",
   "id": "6237d0a9",
   "metadata": {},
   "source": [
    "**Use `groupby('Survived').size()` para contar linhas.**"
   ]
  },
  {
   "cell_type": "code",
   "execution_count": null,
   "id": "3ddd23cc",
   "metadata": {},
   "outputs": [],
   "source": [
    "# Seu código aqui\n"
   ]
  },
  {
   "cell_type": "markdown",
   "id": "6f277782",
   "metadata": {},
   "source": [
    "**Calcule média de `Fare` por cada categoria de `Survived`.**"
   ]
  },
  {
   "cell_type": "code",
   "execution_count": null,
   "id": "942730d2",
   "metadata": {},
   "outputs": [],
   "source": [
    "# Seu código aqui\n"
   ]
  },
  {
   "cell_type": "markdown",
   "id": "068442de",
   "metadata": {},
   "source": [
    "**Crie uma tabela de pivot de média de `Age` com índice `Sex` e colunas `Survived`.**"
   ]
  },
  {
   "cell_type": "code",
   "execution_count": null,
   "id": "f3f17be0",
   "metadata": {},
   "outputs": [],
   "source": [
    "# Seu código aqui\n"
   ]
  },
  {
   "cell_type": "markdown",
   "id": "8959532f",
   "metadata": {},
   "source": [
    "**Ordene o resultado de média de `Fare` por `Survived` do maior para o menor.**"
   ]
  },
  {
   "cell_type": "code",
   "execution_count": null,
   "id": "03c781cf",
   "metadata": {},
   "outputs": [],
   "source": [
    "# Seu código aqui\n"
   ]
  },
  {
   "cell_type": "markdown",
   "id": "2e7f6b8d",
   "metadata": {},
   "source": [
    "**Mostre a soma de passageiros por combinação `Survived`‑`Survived`.**"
   ]
  },
  {
   "cell_type": "code",
   "execution_count": null,
   "id": "c7a4567c",
   "metadata": {},
   "outputs": [],
   "source": [
    "# Seu código aqui\n"
   ]
  },
  {
   "cell_type": "markdown",
   "id": "4f372d2d",
   "metadata": {},
   "source": [
    "## Limpeza de Dados"
   ]
  },
  {
   "cell_type": "markdown",
   "id": "9ee140ef",
   "metadata": {},
   "source": [
    "**Preencha valores nulos de `Fare` com a mediana.**"
   ]
  },
  {
   "cell_type": "code",
   "execution_count": null,
   "id": "6f1030f1",
   "metadata": {},
   "outputs": [],
   "source": [
    "# Seu código aqui\n"
   ]
  },
  {
   "cell_type": "markdown",
   "id": "2d9fc575",
   "metadata": {},
   "source": [
    "**Remova linhas onde `Age` é nulo.**"
   ]
  },
  {
   "cell_type": "code",
   "execution_count": null,
   "id": "5646909c",
   "metadata": {},
   "outputs": [],
   "source": [
    "# Seu código aqui\n"
   ]
  },
  {
   "cell_type": "markdown",
   "id": "9d850466",
   "metadata": {},
   "source": [
    "**Crie uma nova coluna `IsChild` quando `Age` < 16.**"
   ]
  },
  {
   "cell_type": "code",
   "execution_count": null,
   "id": "df5ce49c",
   "metadata": {},
   "outputs": [],
   "source": [
    "# Seu código aqui\n"
   ]
  },
  {
   "cell_type": "markdown",
   "id": "0e2e60d8",
   "metadata": {},
   "source": [
    "**Apague a coluna `Embarked` temporariamente e mostre `df.head()`.**"
   ]
  },
  {
   "cell_type": "code",
   "execution_count": null,
   "id": "deaf4be9",
   "metadata": {},
   "outputs": [],
   "source": [
    "# Seu código aqui\n"
   ]
  },
  {
   "cell_type": "markdown",
   "id": "ca307e34",
   "metadata": {},
   "source": [
    "**Renomeie a coluna `Pclass` para `Pclass_cat`.**"
   ]
  },
  {
   "cell_type": "code",
   "execution_count": null,
   "id": "d09e20cb",
   "metadata": {},
   "outputs": [],
   "source": [
    "# Seu código aqui\n"
   ]
  },
  {
   "cell_type": "markdown",
   "id": "e584cd13",
   "metadata": {},
   "source": [
    "## Correlação & Covariância"
   ]
  },
  {
   "cell_type": "markdown",
   "id": "64ead234",
   "metadata": {},
   "source": [
    "**Calcule a correlação de Pearson entre `Age` e `Fare`.**"
   ]
  },
  {
   "cell_type": "code",
   "execution_count": null,
   "id": "83ef175a",
   "metadata": {},
   "outputs": [],
   "source": [
    "# Seu código aqui\n"
   ]
  },
  {
   "cell_type": "markdown",
   "id": "beb481d5",
   "metadata": {},
   "source": [
    "**Qual covariância entre `Fare` e `Age`?**"
   ]
  },
  {
   "cell_type": "code",
   "execution_count": null,
   "id": "acb1c154",
   "metadata": {},
   "outputs": [],
   "source": [
    "# Seu código aqui\n"
   ]
  },
  {
   "cell_type": "markdown",
   "id": "5d67de74",
   "metadata": {},
   "source": [
    "**Liste as 3 maiores correlações de `df.corr()`.**"
   ]
  },
  {
   "cell_type": "code",
   "execution_count": null,
   "id": "29dd3708",
   "metadata": {},
   "outputs": [],
   "source": [
    "# Seu código aqui\n"
   ]
  },
  {
   "cell_type": "markdown",
   "id": "cce8fa47",
   "metadata": {},
   "source": [
    "**Existe correlação negativa significativa (<‑0.3) em `df.corr()`?**"
   ]
  },
  {
   "cell_type": "code",
   "execution_count": null,
   "id": "d073743d",
   "metadata": {},
   "outputs": [],
   "source": [
    "# Seu código aqui\n"
   ]
  },
  {
   "cell_type": "markdown",
   "id": "6c726167",
   "metadata": {},
   "source": [
    "**Visualize matriz de correlação com `sns.heatmap`.**"
   ]
  },
  {
   "cell_type": "code",
   "execution_count": null,
   "id": "fd0906aa",
   "metadata": {},
   "outputs": [],
   "source": [
    "# Seu código aqui\n"
   ]
  },
  {
   "cell_type": "markdown",
   "id": "bc925457",
   "metadata": {},
   "source": [
    "## Teste de Hipótese Simples"
   ]
  },
  {
   "cell_type": "markdown",
   "id": "5ea9a444",
   "metadata": {},
   "source": [
    "**Realize um teste t de média de `Fare` entre grupos de `Survived`.**"
   ]
  },
  {
   "cell_type": "code",
   "execution_count": null,
   "id": "83ce20c5",
   "metadata": {},
   "outputs": [],
   "source": [
    "# Seu código aqui\n"
   ]
  },
  {
   "cell_type": "markdown",
   "id": "c1bfefb2",
   "metadata": {},
   "source": [
    "**Utilize chi‑quadrado para independência entre `Survived` e `Survived`.**"
   ]
  },
  {
   "cell_type": "code",
   "execution_count": null,
   "id": "87e2beb1",
   "metadata": {},
   "outputs": [],
   "source": [
    "# Seu código aqui\n"
   ]
  },
  {
   "cell_type": "markdown",
   "id": "620ad116",
   "metadata": {},
   "source": [
    "**Construa intervalo de confiança 95% para média de `Age`.**"
   ]
  },
  {
   "cell_type": "code",
   "execution_count": null,
   "id": "c14e06bd",
   "metadata": {},
   "outputs": [],
   "source": [
    "# Seu código aqui\n"
   ]
  },
  {
   "cell_type": "markdown",
   "id": "a0782781",
   "metadata": {},
   "source": [
    "**Teste se média de `Fare` difere entre `Pclass`=a e `Pclass`=b.**"
   ]
  },
  {
   "cell_type": "code",
   "execution_count": null,
   "id": "270ea13b",
   "metadata": {},
   "outputs": [],
   "source": [
    "# Seu código aqui\n"
   ]
  },
  {
   "cell_type": "markdown",
   "id": "d384e88b",
   "metadata": {},
   "source": [
    "**Explique o p‑valor obtido em um teste t.**"
   ]
  },
  {
   "cell_type": "code",
   "execution_count": null,
   "id": "4d41fbc9",
   "metadata": {},
   "outputs": [],
   "source": [
    "# Seu código aqui\n"
   ]
  },
  {
   "cell_type": "markdown",
   "id": "a9ff2279",
   "metadata": {},
   "source": [
    "## Feature Engineering Básico"
   ]
  },
  {
   "cell_type": "markdown",
   "id": "2d3f2764",
   "metadata": {},
   "source": [
    "**Extraia o título (Mr/Mrs/Dr) da coluna `Name` para nova coluna `Title`.**"
   ]
  },
  {
   "cell_type": "code",
   "execution_count": null,
   "id": "1bd06dbd",
   "metadata": {},
   "outputs": [],
   "source": [
    "# Seu código aqui\n"
   ]
  },
  {
   "cell_type": "markdown",
   "id": "6fb15410",
   "metadata": {},
   "source": [
    "**Crie coluna `FamilySize` somando `SibSp` + `Parch` + 1.**"
   ]
  },
  {
   "cell_type": "code",
   "execution_count": null,
   "id": "dd349586",
   "metadata": {},
   "outputs": [],
   "source": [
    "# Seu código aqui\n"
   ]
  },
  {
   "cell_type": "markdown",
   "id": "3a90eca8",
   "metadata": {},
   "source": [
    "**Converta `Sex` para dummies usando `pd.get_dummies`.**"
   ]
  },
  {
   "cell_type": "code",
   "execution_count": null,
   "id": "051221b6",
   "metadata": {},
   "outputs": [],
   "source": [
    "# Seu código aqui\n"
   ]
  },
  {
   "cell_type": "markdown",
   "id": "47e67516",
   "metadata": {},
   "source": [
    "**Normaliza `Age` com `(x‑min)/(max‑min)`.**"
   ]
  },
  {
   "cell_type": "code",
   "execution_count": null,
   "id": "95b311fc",
   "metadata": {},
   "outputs": [],
   "source": [
    "# Seu código aqui\n"
   ]
  },
  {
   "cell_type": "markdown",
   "id": "9987e28c",
   "metadata": {},
   "source": [
    "**Binarize `Fare` por mediana em coluna `High_Fare`.**"
   ]
  },
  {
   "cell_type": "code",
   "execution_count": null,
   "id": "836dd3b2",
   "metadata": {},
   "outputs": [],
   "source": [
    "# Seu código aqui\n"
   ]
  },
  {
   "cell_type": "markdown",
   "id": "e109af37",
   "metadata": {},
   "source": [
    "## Quick Insights & Storytelling"
   ]
  },
  {
   "cell_type": "markdown",
   "id": "627bd57e",
   "metadata": {},
   "source": [
    "**Escreva em Markdown a insight sobre taxa de sobrevivência por `Embarked`.**"
   ]
  },
  {
   "cell_type": "code",
   "execution_count": null,
   "id": "a883946c",
   "metadata": {},
   "outputs": [],
   "source": [
    "# Seu código aqui\n"
   ]
  },
  {
   "cell_type": "markdown",
   "id": "a8889c07",
   "metadata": {},
   "source": [
    "**Qual `Pclass` teve maior tarifa média `Age`?**"
   ]
  },
  {
   "cell_type": "code",
   "execution_count": null,
   "id": "640f247a",
   "metadata": {},
   "outputs": [],
   "source": [
    "# Seu código aqui\n"
   ]
  },
  {
   "cell_type": "markdown",
   "id": "b6186094",
   "metadata": {},
   "source": [
    "**Explique qual variável parece mais associada à sobrevivência.**"
   ]
  },
  {
   "cell_type": "code",
   "execution_count": null,
   "id": "2e7b5cbd",
   "metadata": {},
   "outputs": [],
   "source": [
    "# Seu código aqui\n"
   ]
  },
  {
   "cell_type": "markdown",
   "id": "89e6b70f",
   "metadata": {},
   "source": [
    "**Resuma a distribuição de `Age` em 3 frases.**"
   ]
  },
  {
   "cell_type": "code",
   "execution_count": null,
   "id": "84d10a35",
   "metadata": {},
   "outputs": [],
   "source": [
    "# Seu código aqui\n"
   ]
  },
  {
   "cell_type": "markdown",
   "id": "3fb0ac5a",
   "metadata": {},
   "source": [
    "**Anexe um gráfico combinado de histograma e KDE para `Fare`.**"
   ]
  },
  {
   "cell_type": "code",
   "execution_count": null,
   "id": "41e70599",
   "metadata": {},
   "outputs": [],
   "source": [
    "# Seu código aqui\n"
   ]
  },
  {
   "cell_type": "markdown",
   "id": "91590722",
   "metadata": {},
   "source": [
    "## Carregamento & Visão Geral"
   ]
  },
  {
   "cell_type": "markdown",
   "id": "6cfc02c5",
   "metadata": {},
   "source": [
    "**Carregue o dataset Titanic em um DataFrame chamado `df`.**"
   ]
  },
  {
   "cell_type": "code",
   "execution_count": null,
   "id": "65b5966d",
   "metadata": {},
   "outputs": [],
   "source": [
    "# Seu código aqui\n"
   ]
  },
  {
   "cell_type": "markdown",
   "id": "cb4b5251",
   "metadata": {},
   "source": [
    "**Mostre as 10 primeiras linhas de `df`.**"
   ]
  },
  {
   "cell_type": "code",
   "execution_count": null,
   "id": "d33a2a63",
   "metadata": {},
   "outputs": [],
   "source": [
    "# Seu código aqui\n"
   ]
  },
  {
   "cell_type": "markdown",
   "id": "f58e6485",
   "metadata": {},
   "source": [
    "**Exiba o `df.info()` completo.**"
   ]
  },
  {
   "cell_type": "code",
   "execution_count": null,
   "id": "56c74e98",
   "metadata": {},
   "outputs": [],
   "source": [
    "# Seu código aqui\n"
   ]
  },
  {
   "cell_type": "markdown",
   "id": "b8d5a94e",
   "metadata": {},
   "source": [
    "**Quantas linhas e colunas existem em `df`?**"
   ]
  },
  {
   "cell_type": "code",
   "execution_count": null,
   "id": "e3c9505d",
   "metadata": {},
   "outputs": [],
   "source": [
    "# Seu código aqui\n"
   ]
  },
  {
   "cell_type": "markdown",
   "id": "0360b5a8",
   "metadata": {},
   "source": [
    "**Liste os nomes das colunas do DataFrame.**"
   ]
  },
  {
   "cell_type": "code",
   "execution_count": null,
   "id": "e80b4cbe",
   "metadata": {},
   "outputs": [],
   "source": [
    "# Seu código aqui\n"
   ]
  },
  {
   "cell_type": "markdown",
   "id": "0c970f63",
   "metadata": {},
   "source": [
    "## Estatística Descritiva"
   ]
  },
  {
   "cell_type": "markdown",
   "id": "cad1d0b0",
   "metadata": {},
   "source": [
    "**Calcule a média da coluna `Fare`.**"
   ]
  },
  {
   "cell_type": "code",
   "execution_count": null,
   "id": "fdde3bf2",
   "metadata": {},
   "outputs": [],
   "source": [
    "# Seu código aqui\n"
   ]
  },
  {
   "cell_type": "markdown",
   "id": "4d2636ca",
   "metadata": {},
   "source": [
    "**Encontre a mediana da coluna `Age`.**"
   ]
  },
  {
   "cell_type": "code",
   "execution_count": null,
   "id": "60241655",
   "metadata": {},
   "outputs": [],
   "source": [
    "# Seu código aqui\n"
   ]
  },
  {
   "cell_type": "markdown",
   "id": "d93a710b",
   "metadata": {},
   "source": [
    "**Qual é o desvio‑padrão de `Age`?**"
   ]
  },
  {
   "cell_type": "code",
   "execution_count": null,
   "id": "78febab8",
   "metadata": {},
   "outputs": [],
   "source": [
    "# Seu código aqui\n"
   ]
  },
  {
   "cell_type": "markdown",
   "id": "2db59f06",
   "metadata": {},
   "source": [
    "**Exiba `df['Age'].describe()`.**"
   ]
  },
  {
   "cell_type": "code",
   "execution_count": null,
   "id": "795d44c6",
   "metadata": {},
   "outputs": [],
   "source": [
    "# Seu código aqui\n"
   ]
  },
  {
   "cell_type": "markdown",
   "id": "ecddd208",
   "metadata": {},
   "source": [
    "**Conte quantos valores faltantes existem em `Fare`.**"
   ]
  },
  {
   "cell_type": "code",
   "execution_count": null,
   "id": "2c3975c4",
   "metadata": {},
   "outputs": [],
   "source": [
    "# Seu código aqui\n"
   ]
  },
  {
   "cell_type": "markdown",
   "id": "2e75d92b",
   "metadata": {},
   "source": [
    "## Visualizações Univariadas"
   ]
  },
  {
   "cell_type": "markdown",
   "id": "d0d36736",
   "metadata": {},
   "source": [
    "**Plote um histograma da coluna `Age`.**"
   ]
  },
  {
   "cell_type": "code",
   "execution_count": null,
   "id": "0064b130",
   "metadata": {},
   "outputs": [],
   "source": [
    "# Seu código aqui\n"
   ]
  },
  {
   "cell_type": "markdown",
   "id": "dc2c2299",
   "metadata": {},
   "source": [
    "**Crie um boxplot da coluna `Fare`.**"
   ]
  },
  {
   "cell_type": "code",
   "execution_count": null,
   "id": "13d59c44",
   "metadata": {},
   "outputs": [],
   "source": [
    "# Seu código aqui\n"
   ]
  },
  {
   "cell_type": "markdown",
   "id": "159cdd41",
   "metadata": {},
   "source": [
    "**Gere uma contagem de barras para `Embarked`.**"
   ]
  },
  {
   "cell_type": "code",
   "execution_count": null,
   "id": "ae0e64e3",
   "metadata": {},
   "outputs": [],
   "source": [
    "# Seu código aqui\n"
   ]
  },
  {
   "cell_type": "markdown",
   "id": "062691f3",
   "metadata": {},
   "source": [
    "**Desenhe um gráfico de dispersão de índice vs `Fare`.**"
   ]
  },
  {
   "cell_type": "code",
   "execution_count": null,
   "id": "eb04eeb8",
   "metadata": {},
   "outputs": [],
   "source": [
    "# Seu código aqui\n"
   ]
  },
  {
   "cell_type": "markdown",
   "id": "ff33b24e",
   "metadata": {},
   "source": [
    "**Crie um violin plot de `Age` separado por `Survived`.**"
   ]
  },
  {
   "cell_type": "code",
   "execution_count": null,
   "id": "0a4a1503",
   "metadata": {},
   "outputs": [],
   "source": [
    "# Seu código aqui\n"
   ]
  },
  {
   "cell_type": "markdown",
   "id": "748ad51a",
   "metadata": {},
   "source": [
    "## Visualizações Bivariadas"
   ]
  },
  {
   "cell_type": "markdown",
   "id": "f4299e2a",
   "metadata": {},
   "source": [
    "**Crie um scatterplot de `Fare` vs `Age`.**"
   ]
  },
  {
   "cell_type": "code",
   "execution_count": null,
   "id": "835ffef5",
   "metadata": {},
   "outputs": [],
   "source": [
    "# Seu código aqui\n"
   ]
  },
  {
   "cell_type": "markdown",
   "id": "f0136f6b",
   "metadata": {},
   "source": [
    "**Faça um barplot de média de `Fare` por `Sex`.**"
   ]
  },
  {
   "cell_type": "code",
   "execution_count": null,
   "id": "306f7b14",
   "metadata": {},
   "outputs": [],
   "source": [
    "# Seu código aqui\n"
   ]
  },
  {
   "cell_type": "markdown",
   "id": "3a9f711b",
   "metadata": {},
   "source": [
    "**Construa um countplot de `Embarked` dividido por `Survived`.**"
   ]
  },
  {
   "cell_type": "code",
   "execution_count": null,
   "id": "f4cc1dcf",
   "metadata": {},
   "outputs": [],
   "source": [
    "# Seu código aqui\n"
   ]
  },
  {
   "cell_type": "markdown",
   "id": "8a5b11aa",
   "metadata": {},
   "source": [
    "**Faça um boxplot de `Age` por `Pclass`.**"
   ]
  },
  {
   "cell_type": "code",
   "execution_count": null,
   "id": "5b263725",
   "metadata": {},
   "outputs": [],
   "source": [
    "# Seu código aqui\n"
   ]
  },
  {
   "cell_type": "markdown",
   "id": "d4a60012",
   "metadata": {},
   "source": [
    "**Plote um heatmap de correlação entre todas as colunas numéricas.**"
   ]
  },
  {
   "cell_type": "code",
   "execution_count": null,
   "id": "7202af8c",
   "metadata": {},
   "outputs": [],
   "source": [
    "# Seu código aqui\n"
   ]
  },
  {
   "cell_type": "markdown",
   "id": "9251bd6d",
   "metadata": {},
   "source": [
    "## GroupBy & Aggregations"
   ]
  },
  {
   "cell_type": "markdown",
   "id": "44b4ac22",
   "metadata": {},
   "source": [
    "**Use `groupby('Embarked').size()` para contar linhas.**"
   ]
  },
  {
   "cell_type": "code",
   "execution_count": null,
   "id": "1cc3cc6b",
   "metadata": {},
   "outputs": [],
   "source": [
    "# Seu código aqui\n"
   ]
  },
  {
   "cell_type": "markdown",
   "id": "5e086de3",
   "metadata": {},
   "source": [
    "**Calcule média de `Fare` por cada categoria de `Embarked`.**"
   ]
  },
  {
   "cell_type": "code",
   "execution_count": null,
   "id": "671b4fd7",
   "metadata": {},
   "outputs": [],
   "source": [
    "# Seu código aqui\n"
   ]
  },
  {
   "cell_type": "markdown",
   "id": "dfefd8ed",
   "metadata": {},
   "source": [
    "**Crie uma tabela de pivot de média de `Fare` com índice `Sex` e colunas `Survived`.**"
   ]
  },
  {
   "cell_type": "code",
   "execution_count": null,
   "id": "81e8c9b0",
   "metadata": {},
   "outputs": [],
   "source": [
    "# Seu código aqui\n"
   ]
  },
  {
   "cell_type": "markdown",
   "id": "aa838e11",
   "metadata": {},
   "source": [
    "**Ordene o resultado de média de `Age` por `Sex` do maior para o menor.**"
   ]
  },
  {
   "cell_type": "code",
   "execution_count": null,
   "id": "dc1c6132",
   "metadata": {},
   "outputs": [],
   "source": [
    "# Seu código aqui\n"
   ]
  },
  {
   "cell_type": "markdown",
   "id": "3f61497b",
   "metadata": {},
   "source": [
    "**Mostre a soma de passageiros por combinação `Pclass`‑`Survived`.**"
   ]
  },
  {
   "cell_type": "code",
   "execution_count": null,
   "id": "2ee5b9e3",
   "metadata": {},
   "outputs": [],
   "source": [
    "# Seu código aqui\n"
   ]
  },
  {
   "cell_type": "markdown",
   "id": "bae0acf3",
   "metadata": {},
   "source": [
    "## Limpeza de Dados"
   ]
  },
  {
   "cell_type": "markdown",
   "id": "1231204b",
   "metadata": {},
   "source": [
    "**Preencha valores nulos de `Age` com a mediana.**"
   ]
  },
  {
   "cell_type": "code",
   "execution_count": null,
   "id": "9081be52",
   "metadata": {},
   "outputs": [],
   "source": [
    "# Seu código aqui\n"
   ]
  },
  {
   "cell_type": "markdown",
   "id": "81564c72",
   "metadata": {},
   "source": [
    "**Remova linhas onde `Fare` é nulo.**"
   ]
  },
  {
   "cell_type": "code",
   "execution_count": null,
   "id": "14e39eb5",
   "metadata": {},
   "outputs": [],
   "source": [
    "# Seu código aqui\n"
   ]
  },
  {
   "cell_type": "markdown",
   "id": "3e9d7ac6",
   "metadata": {},
   "source": [
    "**Crie uma nova coluna `IsChild` quando `Age` < 16.**"
   ]
  },
  {
   "cell_type": "code",
   "execution_count": null,
   "id": "74b487ff",
   "metadata": {},
   "outputs": [],
   "source": [
    "# Seu código aqui\n"
   ]
  },
  {
   "cell_type": "markdown",
   "id": "f264667d",
   "metadata": {},
   "source": [
    "**Apague a coluna `Pclass` temporariamente e mostre `df.head()`.**"
   ]
  },
  {
   "cell_type": "code",
   "execution_count": null,
   "id": "e89d527d",
   "metadata": {},
   "outputs": [],
   "source": [
    "# Seu código aqui\n"
   ]
  },
  {
   "cell_type": "markdown",
   "id": "391a61c8",
   "metadata": {},
   "source": [
    "**Renomeie a coluna `Embarked` para `Embarked_cat`.**"
   ]
  },
  {
   "cell_type": "code",
   "execution_count": null,
   "id": "c5449b20",
   "metadata": {},
   "outputs": [],
   "source": [
    "# Seu código aqui\n"
   ]
  },
  {
   "cell_type": "markdown",
   "id": "dfa64fe4",
   "metadata": {},
   "source": [
    "## Correlação & Covariância"
   ]
  },
  {
   "cell_type": "markdown",
   "id": "72b561f5",
   "metadata": {},
   "source": [
    "**Calcule a correlação de Pearson entre `Age` e `Fare`.**"
   ]
  },
  {
   "cell_type": "code",
   "execution_count": null,
   "id": "47512a39",
   "metadata": {},
   "outputs": [],
   "source": [
    "# Seu código aqui\n"
   ]
  },
  {
   "cell_type": "markdown",
   "id": "8fd0f4c0",
   "metadata": {},
   "source": [
    "**Qual covariância entre `Fare` e `Age`?**"
   ]
  },
  {
   "cell_type": "code",
   "execution_count": null,
   "id": "f7ae1048",
   "metadata": {},
   "outputs": [],
   "source": [
    "# Seu código aqui\n"
   ]
  },
  {
   "cell_type": "markdown",
   "id": "2365a1ec",
   "metadata": {},
   "source": [
    "**Liste as 3 maiores correlações de `df.corr()`.**"
   ]
  },
  {
   "cell_type": "code",
   "execution_count": null,
   "id": "902cd3d0",
   "metadata": {},
   "outputs": [],
   "source": [
    "# Seu código aqui\n"
   ]
  },
  {
   "cell_type": "markdown",
   "id": "7957d2d1",
   "metadata": {},
   "source": [
    "**Existe correlação negativa significativa (<‑0.3) em `df.corr()`?**"
   ]
  },
  {
   "cell_type": "code",
   "execution_count": null,
   "id": "e13d0af7",
   "metadata": {},
   "outputs": [],
   "source": [
    "# Seu código aqui\n"
   ]
  },
  {
   "cell_type": "markdown",
   "id": "87c5d2e2",
   "metadata": {},
   "source": [
    "**Visualize matriz de correlação com `sns.heatmap`.**"
   ]
  },
  {
   "cell_type": "code",
   "execution_count": null,
   "id": "db8b3809",
   "metadata": {},
   "outputs": [],
   "source": [
    "# Seu código aqui\n"
   ]
  },
  {
   "cell_type": "markdown",
   "id": "fb3a9089",
   "metadata": {},
   "source": [
    "## Teste de Hipótese Simples"
   ]
  },
  {
   "cell_type": "markdown",
   "id": "58a62380",
   "metadata": {},
   "source": [
    "**Realize um teste t de média de `Fare` entre grupos de `Survived`.**"
   ]
  },
  {
   "cell_type": "code",
   "execution_count": null,
   "id": "fedefb67",
   "metadata": {},
   "outputs": [],
   "source": [
    "# Seu código aqui\n"
   ]
  },
  {
   "cell_type": "markdown",
   "id": "9ddd5535",
   "metadata": {},
   "source": [
    "**Utilize chi‑quadrado para independência entre `Embarked` e `Survived`.**"
   ]
  },
  {
   "cell_type": "code",
   "execution_count": null,
   "id": "e6e58392",
   "metadata": {},
   "outputs": [],
   "source": [
    "# Seu código aqui\n"
   ]
  },
  {
   "cell_type": "markdown",
   "id": "827b8841",
   "metadata": {},
   "source": [
    "**Construa intervalo de confiança 95% para média de `Fare`.**"
   ]
  },
  {
   "cell_type": "code",
   "execution_count": null,
   "id": "93afeac6",
   "metadata": {},
   "outputs": [],
   "source": [
    "# Seu código aqui\n"
   ]
  },
  {
   "cell_type": "markdown",
   "id": "bd99fcdd",
   "metadata": {},
   "source": [
    "**Teste se média de `Age` difere entre `Embarked`=a e `Embarked`=b.**"
   ]
  },
  {
   "cell_type": "code",
   "execution_count": null,
   "id": "a105a362",
   "metadata": {},
   "outputs": [],
   "source": [
    "# Seu código aqui\n"
   ]
  },
  {
   "cell_type": "markdown",
   "id": "bec38e55",
   "metadata": {},
   "source": [
    "**Explique o p‑valor obtido em um teste t.**"
   ]
  },
  {
   "cell_type": "code",
   "execution_count": null,
   "id": "09fed350",
   "metadata": {},
   "outputs": [],
   "source": [
    "# Seu código aqui\n"
   ]
  },
  {
   "cell_type": "markdown",
   "id": "b70065ba",
   "metadata": {},
   "source": [
    "## Feature Engineering Básico"
   ]
  },
  {
   "cell_type": "markdown",
   "id": "9de9d7ad",
   "metadata": {},
   "source": [
    "**Extraia o título (Mr/Mrs/Dr) da coluna `Name` para nova coluna `Title`.**"
   ]
  },
  {
   "cell_type": "code",
   "execution_count": null,
   "id": "4481509e",
   "metadata": {},
   "outputs": [],
   "source": [
    "# Seu código aqui\n"
   ]
  },
  {
   "cell_type": "markdown",
   "id": "bf9fb2e8",
   "metadata": {},
   "source": [
    "**Crie coluna `FamilySize` somando `SibSp` + `Parch` + 1.**"
   ]
  },
  {
   "cell_type": "code",
   "execution_count": null,
   "id": "ce749330",
   "metadata": {},
   "outputs": [],
   "source": [
    "# Seu código aqui\n"
   ]
  },
  {
   "cell_type": "markdown",
   "id": "ca793117",
   "metadata": {},
   "source": [
    "**Converta `Sex` para dummies usando `pd.get_dummies`.**"
   ]
  },
  {
   "cell_type": "code",
   "execution_count": null,
   "id": "fb58b102",
   "metadata": {},
   "outputs": [],
   "source": [
    "# Seu código aqui\n"
   ]
  },
  {
   "cell_type": "markdown",
   "id": "55520df7",
   "metadata": {},
   "source": [
    "**Normaliza `Fare` com `(x‑min)/(max‑min)`.**"
   ]
  },
  {
   "cell_type": "code",
   "execution_count": null,
   "id": "0dd5b377",
   "metadata": {},
   "outputs": [],
   "source": [
    "# Seu código aqui\n"
   ]
  },
  {
   "cell_type": "markdown",
   "id": "7d864188",
   "metadata": {},
   "source": [
    "**Binarize `Fare` por mediana em coluna `High_Fare`.**"
   ]
  },
  {
   "cell_type": "code",
   "execution_count": null,
   "id": "cd9bb5bd",
   "metadata": {},
   "outputs": [],
   "source": [
    "# Seu código aqui\n"
   ]
  },
  {
   "cell_type": "markdown",
   "id": "9ef95655",
   "metadata": {},
   "source": [
    "## Quick Insights & Storytelling"
   ]
  },
  {
   "cell_type": "markdown",
   "id": "754545c7",
   "metadata": {},
   "source": [
    "**Escreva em Markdown a insight sobre taxa de sobrevivência por `Sex`.**"
   ]
  },
  {
   "cell_type": "code",
   "execution_count": null,
   "id": "da010543",
   "metadata": {},
   "outputs": [],
   "source": [
    "# Seu código aqui\n"
   ]
  },
  {
   "cell_type": "markdown",
   "id": "4495fd50",
   "metadata": {},
   "source": [
    "**Qual `Pclass` teve maior tarifa média `Age`?**"
   ]
  },
  {
   "cell_type": "code",
   "execution_count": null,
   "id": "2c799d57",
   "metadata": {},
   "outputs": [],
   "source": [
    "# Seu código aqui\n"
   ]
  },
  {
   "cell_type": "markdown",
   "id": "9f653c2e",
   "metadata": {},
   "source": [
    "**Explique qual variável parece mais associada à sobrevivência.**"
   ]
  },
  {
   "cell_type": "code",
   "execution_count": null,
   "id": "8973d4ca",
   "metadata": {},
   "outputs": [],
   "source": [
    "# Seu código aqui\n"
   ]
  },
  {
   "cell_type": "markdown",
   "id": "28b4a6ca",
   "metadata": {},
   "source": [
    "**Resuma a distribuição de `Fare` em 3 frases.**"
   ]
  },
  {
   "cell_type": "code",
   "execution_count": null,
   "id": "7ddc9049",
   "metadata": {},
   "outputs": [],
   "source": [
    "# Seu código aqui\n"
   ]
  },
  {
   "cell_type": "markdown",
   "id": "a2dd3332",
   "metadata": {},
   "source": [
    "**Anexe um gráfico combinado de histograma e KDE para `Fare`.**"
   ]
  },
  {
   "cell_type": "code",
   "execution_count": null,
   "id": "565ff03d",
   "metadata": {},
   "outputs": [],
   "source": [
    "# Seu código aqui\n"
   ]
  },
  {
   "cell_type": "markdown",
   "id": "c08f3ad2",
   "metadata": {},
   "source": [
    "## Carregamento & Visão Geral"
   ]
  },
  {
   "cell_type": "markdown",
   "id": "89544698",
   "metadata": {},
   "source": [
    "**Carregue o dataset Titanic em um DataFrame chamado `df`.**"
   ]
  },
  {
   "cell_type": "code",
   "execution_count": null,
   "id": "5d91f5c5",
   "metadata": {},
   "outputs": [],
   "source": [
    "# Seu código aqui\n"
   ]
  },
  {
   "cell_type": "markdown",
   "id": "fdee98ef",
   "metadata": {},
   "source": [
    "**Mostre as 10 primeiras linhas de `df`.**"
   ]
  },
  {
   "cell_type": "code",
   "execution_count": null,
   "id": "70cd1d3d",
   "metadata": {},
   "outputs": [],
   "source": [
    "# Seu código aqui\n"
   ]
  },
  {
   "cell_type": "markdown",
   "id": "7abbc1a4",
   "metadata": {},
   "source": [
    "**Exiba o `df.info()` completo.**"
   ]
  },
  {
   "cell_type": "code",
   "execution_count": null,
   "id": "2279a690",
   "metadata": {},
   "outputs": [],
   "source": [
    "# Seu código aqui\n"
   ]
  },
  {
   "cell_type": "markdown",
   "id": "75f54fc0",
   "metadata": {},
   "source": [
    "**Quantas linhas e colunas existem em `df`?**"
   ]
  },
  {
   "cell_type": "code",
   "execution_count": null,
   "id": "d455de05",
   "metadata": {},
   "outputs": [],
   "source": [
    "# Seu código aqui\n"
   ]
  },
  {
   "cell_type": "markdown",
   "id": "f354a862",
   "metadata": {},
   "source": [
    "**Liste os nomes das colunas do DataFrame.**"
   ]
  },
  {
   "cell_type": "code",
   "execution_count": null,
   "id": "67fa02f4",
   "metadata": {},
   "outputs": [],
   "source": [
    "# Seu código aqui\n"
   ]
  },
  {
   "cell_type": "markdown",
   "id": "bd4bdb1d",
   "metadata": {},
   "source": [
    "## Estatística Descritiva"
   ]
  },
  {
   "cell_type": "markdown",
   "id": "501abe13",
   "metadata": {},
   "source": [
    "**Calcule a média da coluna `Age`.**"
   ]
  },
  {
   "cell_type": "code",
   "execution_count": null,
   "id": "b9132089",
   "metadata": {},
   "outputs": [],
   "source": [
    "# Seu código aqui\n"
   ]
  },
  {
   "cell_type": "markdown",
   "id": "e51b97ff",
   "metadata": {},
   "source": [
    "**Encontre a mediana da coluna `Age`.**"
   ]
  },
  {
   "cell_type": "code",
   "execution_count": null,
   "id": "a6bcb287",
   "metadata": {},
   "outputs": [],
   "source": [
    "# Seu código aqui\n"
   ]
  },
  {
   "cell_type": "markdown",
   "id": "01b29de8",
   "metadata": {},
   "source": [
    "**Qual é o desvio‑padrão de `Fare`?**"
   ]
  },
  {
   "cell_type": "code",
   "execution_count": null,
   "id": "3b714cfb",
   "metadata": {},
   "outputs": [],
   "source": [
    "# Seu código aqui\n"
   ]
  },
  {
   "cell_type": "markdown",
   "id": "1a2606c2",
   "metadata": {},
   "source": [
    "**Exiba `df['Age'].describe()`.**"
   ]
  },
  {
   "cell_type": "code",
   "execution_count": null,
   "id": "6a1247d8",
   "metadata": {},
   "outputs": [],
   "source": [
    "# Seu código aqui\n"
   ]
  },
  {
   "cell_type": "markdown",
   "id": "8395a601",
   "metadata": {},
   "source": [
    "**Conte quantos valores faltantes existem em `Age`.**"
   ]
  },
  {
   "cell_type": "code",
   "execution_count": null,
   "id": "5d946336",
   "metadata": {},
   "outputs": [],
   "source": [
    "# Seu código aqui\n"
   ]
  },
  {
   "cell_type": "markdown",
   "id": "ee3bacdd",
   "metadata": {},
   "source": [
    "## Visualizações Univariadas"
   ]
  },
  {
   "cell_type": "markdown",
   "id": "acf87754",
   "metadata": {},
   "source": [
    "**Plote um histograma da coluna `Age`.**"
   ]
  },
  {
   "cell_type": "code",
   "execution_count": null,
   "id": "8f583a57",
   "metadata": {},
   "outputs": [],
   "source": [
    "# Seu código aqui\n"
   ]
  },
  {
   "cell_type": "markdown",
   "id": "fcfc4a04",
   "metadata": {},
   "source": [
    "**Crie um boxplot da coluna `Fare`.**"
   ]
  },
  {
   "cell_type": "code",
   "execution_count": null,
   "id": "57484dc2",
   "metadata": {},
   "outputs": [],
   "source": [
    "# Seu código aqui\n"
   ]
  },
  {
   "cell_type": "markdown",
   "id": "049cf0b1",
   "metadata": {},
   "source": [
    "**Gere uma contagem de barras para `Survived`.**"
   ]
  },
  {
   "cell_type": "code",
   "execution_count": null,
   "id": "b3488218",
   "metadata": {},
   "outputs": [],
   "source": [
    "# Seu código aqui\n"
   ]
  },
  {
   "cell_type": "markdown",
   "id": "027a5aec",
   "metadata": {},
   "source": [
    "**Desenhe um gráfico de dispersão de índice vs `Fare`.**"
   ]
  },
  {
   "cell_type": "code",
   "execution_count": null,
   "id": "3fbbd94d",
   "metadata": {},
   "outputs": [],
   "source": [
    "# Seu código aqui\n"
   ]
  },
  {
   "cell_type": "markdown",
   "id": "d998488e",
   "metadata": {},
   "source": [
    "**Crie um violin plot de `Age` separado por `Survived`.**"
   ]
  },
  {
   "cell_type": "code",
   "execution_count": null,
   "id": "aa825173",
   "metadata": {},
   "outputs": [],
   "source": [
    "# Seu código aqui\n"
   ]
  },
  {
   "cell_type": "markdown",
   "id": "a2dff9b1",
   "metadata": {},
   "source": [
    "## Visualizações Bivariadas"
   ]
  },
  {
   "cell_type": "markdown",
   "id": "f7409708",
   "metadata": {},
   "source": [
    "**Crie um scatterplot de `Fare` vs `Age`.**"
   ]
  },
  {
   "cell_type": "code",
   "execution_count": null,
   "id": "e7163efd",
   "metadata": {},
   "outputs": [],
   "source": [
    "# Seu código aqui\n"
   ]
  },
  {
   "cell_type": "markdown",
   "id": "403403ed",
   "metadata": {},
   "source": [
    "**Faça um barplot de média de `Age` por `Pclass`.**"
   ]
  },
  {
   "cell_type": "code",
   "execution_count": null,
   "id": "94763d60",
   "metadata": {},
   "outputs": [],
   "source": [
    "# Seu código aqui\n"
   ]
  },
  {
   "cell_type": "markdown",
   "id": "83f8fc64",
   "metadata": {},
   "source": [
    "**Construa um countplot de `Pclass` dividido por `Survived`.**"
   ]
  },
  {
   "cell_type": "code",
   "execution_count": null,
   "id": "742587db",
   "metadata": {},
   "outputs": [],
   "source": [
    "# Seu código aqui\n"
   ]
  },
  {
   "cell_type": "markdown",
   "id": "4cce0541",
   "metadata": {},
   "source": [
    "**Faça um boxplot de `Fare` por `Sex`.**"
   ]
  },
  {
   "cell_type": "code",
   "execution_count": null,
   "id": "0fb163a5",
   "metadata": {},
   "outputs": [],
   "source": [
    "# Seu código aqui\n"
   ]
  },
  {
   "cell_type": "markdown",
   "id": "34140932",
   "metadata": {},
   "source": [
    "**Plote um heatmap de correlação entre todas as colunas numéricas.**"
   ]
  },
  {
   "cell_type": "code",
   "execution_count": null,
   "id": "6da09e90",
   "metadata": {},
   "outputs": [],
   "source": [
    "# Seu código aqui\n"
   ]
  },
  {
   "cell_type": "markdown",
   "id": "2489b3db",
   "metadata": {},
   "source": [
    "## GroupBy & Aggregations"
   ]
  },
  {
   "cell_type": "markdown",
   "id": "c50e1d5d",
   "metadata": {},
   "source": [
    "**Use `groupby('Sex').size()` para contar linhas.**"
   ]
  },
  {
   "cell_type": "code",
   "execution_count": null,
   "id": "eb6e1e72",
   "metadata": {},
   "outputs": [],
   "source": [
    "# Seu código aqui\n"
   ]
  },
  {
   "cell_type": "markdown",
   "id": "c4246c78",
   "metadata": {},
   "source": [
    "**Calcule média de `Age` por cada categoria de `Pclass`.**"
   ]
  },
  {
   "cell_type": "code",
   "execution_count": null,
   "id": "9f664d0e",
   "metadata": {},
   "outputs": [],
   "source": [
    "# Seu código aqui\n"
   ]
  },
  {
   "cell_type": "markdown",
   "id": "d4ba8fbd",
   "metadata": {},
   "source": [
    "**Crie uma tabela de pivot de média de `Fare` com índice `Embarked` e colunas `Survived`.**"
   ]
  },
  {
   "cell_type": "code",
   "execution_count": null,
   "id": "65d861c6",
   "metadata": {},
   "outputs": [],
   "source": [
    "# Seu código aqui\n"
   ]
  },
  {
   "cell_type": "markdown",
   "id": "83371a6c",
   "metadata": {},
   "source": [
    "**Ordene o resultado de média de `Age` por `Survived` do maior para o menor.**"
   ]
  },
  {
   "cell_type": "code",
   "execution_count": null,
   "id": "95773f28",
   "metadata": {},
   "outputs": [],
   "source": [
    "# Seu código aqui\n"
   ]
  },
  {
   "cell_type": "markdown",
   "id": "e90e77c7",
   "metadata": {},
   "source": [
    "**Mostre a soma de passageiros por combinação `Pclass`‑`Survived`.**"
   ]
  },
  {
   "cell_type": "code",
   "execution_count": null,
   "id": "e1e7ec69",
   "metadata": {},
   "outputs": [],
   "source": [
    "# Seu código aqui\n"
   ]
  },
  {
   "cell_type": "markdown",
   "id": "c0b77bc4",
   "metadata": {},
   "source": [
    "## Limpeza de Dados"
   ]
  },
  {
   "cell_type": "markdown",
   "id": "a9cad550",
   "metadata": {},
   "source": [
    "**Preencha valores nulos de `Fare` com a mediana.**"
   ]
  },
  {
   "cell_type": "code",
   "execution_count": null,
   "id": "5c62e97c",
   "metadata": {},
   "outputs": [],
   "source": [
    "# Seu código aqui\n"
   ]
  },
  {
   "cell_type": "markdown",
   "id": "aa76e174",
   "metadata": {},
   "source": [
    "**Remova linhas onde `Fare` é nulo.**"
   ]
  },
  {
   "cell_type": "code",
   "execution_count": null,
   "id": "015e5056",
   "metadata": {},
   "outputs": [],
   "source": [
    "# Seu código aqui\n"
   ]
  },
  {
   "cell_type": "markdown",
   "id": "f20e7dbf",
   "metadata": {},
   "source": [
    "**Crie uma nova coluna `IsChild` quando `Age` < 16.**"
   ]
  },
  {
   "cell_type": "code",
   "execution_count": null,
   "id": "59a12c7b",
   "metadata": {},
   "outputs": [],
   "source": [
    "# Seu código aqui\n"
   ]
  },
  {
   "cell_type": "markdown",
   "id": "e93d54cf",
   "metadata": {},
   "source": [
    "**Apague a coluna `Sex` temporariamente e mostre `df.head()`.**"
   ]
  },
  {
   "cell_type": "code",
   "execution_count": null,
   "id": "f0f89ba9",
   "metadata": {},
   "outputs": [],
   "source": [
    "# Seu código aqui\n"
   ]
  },
  {
   "cell_type": "markdown",
   "id": "399338a0",
   "metadata": {},
   "source": [
    "**Renomeie a coluna `Survived` para `Survived_cat`.**"
   ]
  },
  {
   "cell_type": "code",
   "execution_count": null,
   "id": "e4143ecb",
   "metadata": {},
   "outputs": [],
   "source": [
    "# Seu código aqui\n"
   ]
  },
  {
   "cell_type": "markdown",
   "id": "0b32598a",
   "metadata": {},
   "source": [
    "## Correlação & Covariância"
   ]
  },
  {
   "cell_type": "markdown",
   "id": "4e489710",
   "metadata": {},
   "source": [
    "**Calcule a correlação de Pearson entre `Fare` e `Age`.**"
   ]
  },
  {
   "cell_type": "code",
   "execution_count": null,
   "id": "deb4dfc0",
   "metadata": {},
   "outputs": [],
   "source": [
    "# Seu código aqui\n"
   ]
  },
  {
   "cell_type": "markdown",
   "id": "9f350fa4",
   "metadata": {},
   "source": [
    "**Qual covariância entre `Fare` e `Age`?**"
   ]
  },
  {
   "cell_type": "code",
   "execution_count": null,
   "id": "bb6f1ab1",
   "metadata": {},
   "outputs": [],
   "source": [
    "# Seu código aqui\n"
   ]
  },
  {
   "cell_type": "markdown",
   "id": "64e7291a",
   "metadata": {},
   "source": [
    "**Liste as 3 maiores correlações de `df.corr()`.**"
   ]
  },
  {
   "cell_type": "code",
   "execution_count": null,
   "id": "bcb26d51",
   "metadata": {},
   "outputs": [],
   "source": [
    "# Seu código aqui\n"
   ]
  },
  {
   "cell_type": "markdown",
   "id": "7f284747",
   "metadata": {},
   "source": [
    "**Existe correlação negativa significativa (<‑0.3) em `df.corr()`?**"
   ]
  },
  {
   "cell_type": "code",
   "execution_count": null,
   "id": "d71f2b88",
   "metadata": {},
   "outputs": [],
   "source": [
    "# Seu código aqui\n"
   ]
  },
  {
   "cell_type": "markdown",
   "id": "98b21b3c",
   "metadata": {},
   "source": [
    "**Visualize matriz de correlação com `sns.heatmap`.**"
   ]
  },
  {
   "cell_type": "code",
   "execution_count": null,
   "id": "c0b79832",
   "metadata": {},
   "outputs": [],
   "source": [
    "# Seu código aqui\n"
   ]
  },
  {
   "cell_type": "markdown",
   "id": "5a380a71",
   "metadata": {},
   "source": [
    "## Teste de Hipótese Simples"
   ]
  },
  {
   "cell_type": "markdown",
   "id": "d842f6e4",
   "metadata": {},
   "source": [
    "**Realize um teste t de média de `Fare` entre grupos de `Survived`.**"
   ]
  },
  {
   "cell_type": "code",
   "execution_count": null,
   "id": "66789a10",
   "metadata": {},
   "outputs": [],
   "source": [
    "# Seu código aqui\n"
   ]
  },
  {
   "cell_type": "markdown",
   "id": "1066ac48",
   "metadata": {},
   "source": [
    "**Utilize chi‑quadrado para independência entre `Embarked` e `Survived`.**"
   ]
  },
  {
   "cell_type": "code",
   "execution_count": null,
   "id": "f95f7702",
   "metadata": {},
   "outputs": [],
   "source": [
    "# Seu código aqui\n"
   ]
  },
  {
   "cell_type": "markdown",
   "id": "6e180c40",
   "metadata": {},
   "source": [
    "**Construa intervalo de confiança 95% para média de `Fare`.**"
   ]
  },
  {
   "cell_type": "code",
   "execution_count": null,
   "id": "54f485b8",
   "metadata": {},
   "outputs": [],
   "source": [
    "# Seu código aqui\n"
   ]
  },
  {
   "cell_type": "markdown",
   "id": "73f99cbd",
   "metadata": {},
   "source": [
    "**Teste se média de `Age` difere entre `Survived`=a e `Survived`=b.**"
   ]
  },
  {
   "cell_type": "code",
   "execution_count": null,
   "id": "d195e74a",
   "metadata": {},
   "outputs": [],
   "source": [
    "# Seu código aqui\n"
   ]
  },
  {
   "cell_type": "markdown",
   "id": "28327080",
   "metadata": {},
   "source": [
    "**Explique o p‑valor obtido em um teste t.**"
   ]
  },
  {
   "cell_type": "code",
   "execution_count": null,
   "id": "930f92c6",
   "metadata": {},
   "outputs": [],
   "source": [
    "# Seu código aqui\n"
   ]
  },
  {
   "cell_type": "markdown",
   "id": "e559e4f9",
   "metadata": {},
   "source": [
    "## Feature Engineering Básico"
   ]
  },
  {
   "cell_type": "markdown",
   "id": "152f4cb3",
   "metadata": {},
   "source": [
    "**Extraia o título (Mr/Mrs/Dr) da coluna `Name` para nova coluna `Title`.**"
   ]
  },
  {
   "cell_type": "code",
   "execution_count": null,
   "id": "19d21a88",
   "metadata": {},
   "outputs": [],
   "source": [
    "# Seu código aqui\n"
   ]
  },
  {
   "cell_type": "markdown",
   "id": "dab120cd",
   "metadata": {},
   "source": [
    "**Crie coluna `FamilySize` somando `SibSp` + `Parch` + 1.**"
   ]
  },
  {
   "cell_type": "code",
   "execution_count": null,
   "id": "08b4395d",
   "metadata": {},
   "outputs": [],
   "source": [
    "# Seu código aqui\n"
   ]
  },
  {
   "cell_type": "markdown",
   "id": "bf96f0a7",
   "metadata": {},
   "source": [
    "**Converta `Pclass` para dummies usando `pd.get_dummies`.**"
   ]
  },
  {
   "cell_type": "code",
   "execution_count": null,
   "id": "e9765bf1",
   "metadata": {},
   "outputs": [],
   "source": [
    "# Seu código aqui\n"
   ]
  },
  {
   "cell_type": "markdown",
   "id": "c532e50c",
   "metadata": {},
   "source": [
    "**Normaliza `Age` com `(x‑min)/(max‑min)`.**"
   ]
  },
  {
   "cell_type": "code",
   "execution_count": null,
   "id": "d86e4c93",
   "metadata": {},
   "outputs": [],
   "source": [
    "# Seu código aqui\n"
   ]
  },
  {
   "cell_type": "markdown",
   "id": "96ab3b03",
   "metadata": {},
   "source": [
    "**Binarize `Age` por mediana em coluna `High_Age`.**"
   ]
  },
  {
   "cell_type": "code",
   "execution_count": null,
   "id": "c5be48dc",
   "metadata": {},
   "outputs": [],
   "source": [
    "# Seu código aqui\n"
   ]
  },
  {
   "cell_type": "markdown",
   "id": "c43f5f82",
   "metadata": {},
   "source": [
    "## Quick Insights & Storytelling"
   ]
  },
  {
   "cell_type": "markdown",
   "id": "e2f7e724",
   "metadata": {},
   "source": [
    "**Escreva em Markdown a insight sobre taxa de sobrevivência por `Pclass`.**"
   ]
  },
  {
   "cell_type": "code",
   "execution_count": null,
   "id": "7061d059",
   "metadata": {},
   "outputs": [],
   "source": [
    "# Seu código aqui\n"
   ]
  },
  {
   "cell_type": "markdown",
   "id": "a864acdf",
   "metadata": {},
   "source": [
    "**Qual `Pclass` teve maior tarifa média `Fare`?**"
   ]
  },
  {
   "cell_type": "code",
   "execution_count": null,
   "id": "79566e6b",
   "metadata": {},
   "outputs": [],
   "source": [
    "# Seu código aqui\n"
   ]
  },
  {
   "cell_type": "markdown",
   "id": "05ed34ac",
   "metadata": {},
   "source": [
    "**Explique qual variável parece mais associada à sobrevivência.**"
   ]
  },
  {
   "cell_type": "code",
   "execution_count": null,
   "id": "8336c945",
   "metadata": {},
   "outputs": [],
   "source": [
    "# Seu código aqui\n"
   ]
  },
  {
   "cell_type": "markdown",
   "id": "ca21df55",
   "metadata": {},
   "source": [
    "**Resuma a distribuição de `Fare` em 3 frases.**"
   ]
  },
  {
   "cell_type": "code",
   "execution_count": null,
   "id": "c2237043",
   "metadata": {},
   "outputs": [],
   "source": [
    "# Seu código aqui\n"
   ]
  },
  {
   "cell_type": "markdown",
   "id": "bc4236ae",
   "metadata": {},
   "source": [
    "**Anexe um gráfico combinado de histograma e KDE para `Age`.**"
   ]
  },
  {
   "cell_type": "code",
   "execution_count": null,
   "id": "a564c1d3",
   "metadata": {},
   "outputs": [],
   "source": [
    "# Seu código aqui\n"
   ]
  }
 ],
 "metadata": {},
 "nbformat": 4,
 "nbformat_minor": 5
}
